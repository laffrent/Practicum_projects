{
 "cells": [
  {
   "cell_type": "markdown",
   "metadata": {
    "deletable": false,
    "editable": false,
    "id": "E0vqbgi9ay0H"
   },
   "source": [
    "# Яндекс Музыка"
   ]
  },
  {
   "attachments": {},
   "cell_type": "markdown",
   "metadata": {
    "deletable": false,
    "editable": false,
    "id": "VUC88oWjTJw2"
   },
   "source": [
    "Сравнение Москвы и Петербурга окружено мифами. Например:\n",
    " * Москва — мегаполис, подчинённый жёсткому ритму рабочей недели;\n",
    " * Петербург — культурная столица, со своими вкусами.\n",
    "\n",
    "На данных Яндекс Музыки мы должны сравнить поведение пользователей двух столиц.\n",
    "\n",
    "**Цель исследования** — проверить три гипотезы:\n",
    "1. Активность пользователей зависит от дня недели. Причём в Москве и Петербурге это проявляется по-разному.\n",
    "2. В понедельник утром в Москве преобладают одни жанры, а в Петербурге — другие. Так же и вечером пятницы преобладают разные жанры — в зависимости от города. \n",
    "3. Москва и Петербург предпочитают разные жанры музыки. В Москве чаще слушают поп-музыку, в Петербурге — русский рэп.\n",
    "\n",
    "**Ход исследования**\n",
    "\n",
    "Данные о поведении пользователей мы получим из файла `yandex_music_project.csv`. О качестве данных ничего не известно. Поэтому перед проверкой гипотез понадобится обзор данных. \n",
    "\n",
    "Проверим данные на ошибки и оценим их влияние на исследование. Затем, на этапе предобработки поищим возможность исправить самые критичные ошибки данных.\n",
    " \n",
    "Таким образом, исследование пройдёт в три этапа:\n",
    " 1. Обзор данных.\n",
    " 2. Предобработка данных.\n",
    " 3. Проверка гипотез.\n",
    "\n"
   ]
  },
  {
   "attachments": {},
   "cell_type": "markdown",
   "metadata": {
    "deletable": false,
    "editable": false,
    "id": "Ml1hmfXC_Zcs"
   },
   "source": [
    "## Обзор данных\n",
    "\n",
    "Составим первое представление о данных Яндекс Музыки.\n",
    "\n",
    "\n"
   ]
  },
  {
   "cell_type": "code",
   "execution_count": 76,
   "metadata": {
    "deletable": false,
    "id": "AXN7PHPN_Zcs"
   },
   "outputs": [],
   "source": [
    "import pandas as pd # импорт библиотеки pandas"
   ]
  },
  {
   "cell_type": "code",
   "execution_count": 77,
   "metadata": {
    "deletable": false,
    "id": "fFVu7vqh_Zct"
   },
   "outputs": [],
   "source": [
    "df = pd.read_csv('yandex_music_project.csv') # чтение файла с данными и сохранение в df"
   ]
  },
  {
   "cell_type": "code",
   "execution_count": 78,
   "metadata": {
    "deletable": false,
    "id": "oWTVX3gW_Zct"
   },
   "outputs": [
    {
     "data": {
      "text/html": [
       "<div>\n",
       "<style scoped>\n",
       "    .dataframe tbody tr th:only-of-type {\n",
       "        vertical-align: middle;\n",
       "    }\n",
       "\n",
       "    .dataframe tbody tr th {\n",
       "        vertical-align: top;\n",
       "    }\n",
       "\n",
       "    .dataframe thead th {\n",
       "        text-align: right;\n",
       "    }\n",
       "</style>\n",
       "<table border=\"1\" class=\"dataframe\">\n",
       "  <thead>\n",
       "    <tr style=\"text-align: right;\">\n",
       "      <th></th>\n",
       "      <th>userID</th>\n",
       "      <th>Track</th>\n",
       "      <th>artist</th>\n",
       "      <th>genre</th>\n",
       "      <th>City</th>\n",
       "      <th>time</th>\n",
       "      <th>Day</th>\n",
       "    </tr>\n",
       "  </thead>\n",
       "  <tbody>\n",
       "    <tr>\n",
       "      <th>0</th>\n",
       "      <td>FFB692EC</td>\n",
       "      <td>Kamigata To Boots</td>\n",
       "      <td>The Mass Missile</td>\n",
       "      <td>rock</td>\n",
       "      <td>Saint-Petersburg</td>\n",
       "      <td>20:28:33</td>\n",
       "      <td>Wednesday</td>\n",
       "    </tr>\n",
       "    <tr>\n",
       "      <th>1</th>\n",
       "      <td>55204538</td>\n",
       "      <td>Delayed Because of Accident</td>\n",
       "      <td>Andreas Rönnberg</td>\n",
       "      <td>rock</td>\n",
       "      <td>Moscow</td>\n",
       "      <td>14:07:09</td>\n",
       "      <td>Friday</td>\n",
       "    </tr>\n",
       "    <tr>\n",
       "      <th>2</th>\n",
       "      <td>20EC38</td>\n",
       "      <td>Funiculì funiculà</td>\n",
       "      <td>Mario Lanza</td>\n",
       "      <td>pop</td>\n",
       "      <td>Saint-Petersburg</td>\n",
       "      <td>20:58:07</td>\n",
       "      <td>Wednesday</td>\n",
       "    </tr>\n",
       "    <tr>\n",
       "      <th>3</th>\n",
       "      <td>A3DD03C9</td>\n",
       "      <td>Dragons in the Sunset</td>\n",
       "      <td>Fire + Ice</td>\n",
       "      <td>folk</td>\n",
       "      <td>Saint-Petersburg</td>\n",
       "      <td>08:37:09</td>\n",
       "      <td>Monday</td>\n",
       "    </tr>\n",
       "    <tr>\n",
       "      <th>4</th>\n",
       "      <td>E2DC1FAE</td>\n",
       "      <td>Soul People</td>\n",
       "      <td>Space Echo</td>\n",
       "      <td>dance</td>\n",
       "      <td>Moscow</td>\n",
       "      <td>08:34:34</td>\n",
       "      <td>Monday</td>\n",
       "    </tr>\n",
       "    <tr>\n",
       "      <th>5</th>\n",
       "      <td>842029A1</td>\n",
       "      <td>Преданная</td>\n",
       "      <td>IMPERVTOR</td>\n",
       "      <td>rusrap</td>\n",
       "      <td>Saint-Petersburg</td>\n",
       "      <td>13:09:41</td>\n",
       "      <td>Friday</td>\n",
       "    </tr>\n",
       "    <tr>\n",
       "      <th>6</th>\n",
       "      <td>4CB90AA5</td>\n",
       "      <td>True</td>\n",
       "      <td>Roman Messer</td>\n",
       "      <td>dance</td>\n",
       "      <td>Moscow</td>\n",
       "      <td>13:00:07</td>\n",
       "      <td>Wednesday</td>\n",
       "    </tr>\n",
       "    <tr>\n",
       "      <th>7</th>\n",
       "      <td>F03E1C1F</td>\n",
       "      <td>Feeling This Way</td>\n",
       "      <td>Polina Griffith</td>\n",
       "      <td>dance</td>\n",
       "      <td>Moscow</td>\n",
       "      <td>20:47:49</td>\n",
       "      <td>Wednesday</td>\n",
       "    </tr>\n",
       "    <tr>\n",
       "      <th>8</th>\n",
       "      <td>8FA1D3BE</td>\n",
       "      <td>И вновь продолжается бой</td>\n",
       "      <td>NaN</td>\n",
       "      <td>ruspop</td>\n",
       "      <td>Moscow</td>\n",
       "      <td>09:17:40</td>\n",
       "      <td>Friday</td>\n",
       "    </tr>\n",
       "    <tr>\n",
       "      <th>9</th>\n",
       "      <td>E772D5C0</td>\n",
       "      <td>Pessimist</td>\n",
       "      <td>NaN</td>\n",
       "      <td>dance</td>\n",
       "      <td>Saint-Petersburg</td>\n",
       "      <td>21:20:49</td>\n",
       "      <td>Wednesday</td>\n",
       "    </tr>\n",
       "  </tbody>\n",
       "</table>\n",
       "</div>"
      ],
      "text/plain": [
       "     userID                        Track            artist   genre  \\\n",
       "0  FFB692EC            Kamigata To Boots  The Mass Missile    rock   \n",
       "1  55204538  Delayed Because of Accident  Andreas Rönnberg    rock   \n",
       "2    20EC38            Funiculì funiculà       Mario Lanza     pop   \n",
       "3  A3DD03C9        Dragons in the Sunset        Fire + Ice    folk   \n",
       "4  E2DC1FAE                  Soul People        Space Echo   dance   \n",
       "5  842029A1                    Преданная         IMPERVTOR  rusrap   \n",
       "6  4CB90AA5                         True      Roman Messer   dance   \n",
       "7  F03E1C1F             Feeling This Way   Polina Griffith   dance   \n",
       "8  8FA1D3BE     И вновь продолжается бой               NaN  ruspop   \n",
       "9  E772D5C0                    Pessimist               NaN   dance   \n",
       "\n",
       "             City        time        Day  \n",
       "0  Saint-Petersburg  20:28:33  Wednesday  \n",
       "1            Moscow  14:07:09     Friday  \n",
       "2  Saint-Petersburg  20:58:07  Wednesday  \n",
       "3  Saint-Petersburg  08:37:09     Monday  \n",
       "4            Moscow  08:34:34     Monday  \n",
       "5  Saint-Petersburg  13:09:41     Friday  \n",
       "6            Moscow  13:00:07  Wednesday  \n",
       "7            Moscow  20:47:49  Wednesday  \n",
       "8            Moscow  09:17:40     Friday  \n",
       "9  Saint-Petersburg  21:20:49  Wednesday  "
      ]
     },
     "execution_count": 78,
     "metadata": {},
     "output_type": "execute_result"
    }
   ],
   "source": [
    "df.head(10) # получение первых 10 строк таблицы df"
   ]
  },
  {
   "cell_type": "code",
   "execution_count": 79,
   "metadata": {
    "deletable": false,
    "id": "DSf2kIb-_Zct"
   },
   "outputs": [
    {
     "name": "stdout",
     "output_type": "stream",
     "text": [
      "<class 'pandas.core.frame.DataFrame'>\n",
      "RangeIndex: 65079 entries, 0 to 65078\n",
      "Data columns (total 7 columns):\n",
      " #   Column    Non-Null Count  Dtype \n",
      "---  ------    --------------  ----- \n",
      " 0     userID  65079 non-null  object\n",
      " 1   Track     63848 non-null  object\n",
      " 2   artist    57876 non-null  object\n",
      " 3   genre     63881 non-null  object\n",
      " 4     City    65079 non-null  object\n",
      " 5   time      65079 non-null  object\n",
      " 6   Day       65079 non-null  object\n",
      "dtypes: object(7)\n",
      "memory usage: 3.5+ MB\n"
     ]
    }
   ],
   "source": [
    "df.info() # получение общей информации о данных в таблице df"
   ]
  },
  {
   "cell_type": "markdown",
   "metadata": {
    "deletable": false,
    "editable": false,
    "id": "TaQ2Iwbr_Zct"
   },
   "source": [
    "Итак, в таблице семь столбцов. Тип данных во всех столбцах — `object`.\n",
    "\n",
    "Согласно документации к данным:\n",
    "* `userID` — идентификатор пользователя;\n",
    "* `Track` — название трека;  \n",
    "* `artist` — имя исполнителя;\n",
    "* `genre` — название жанра;\n",
    "* `City` — город пользователя;\n",
    "* `time` — время начала прослушивания;\n",
    "* `Day` — день недели.\n",
    "\n",
    "Количество значений в столбцах различается. Значит, в данных есть пропущенные значения."
   ]
  },
  {
   "attachments": {},
   "cell_type": "markdown",
   "metadata": {},
   "source": [
    "Для столбца userID после переименования в строчные буквы, для соблюдения стиля и удобства чтения, необходимо использовать \n",
    "змеиный регистр user_id. Также название столбца time совпадает с названием модуля Phyton. Для лучшего понимания данных \n",
    "находящихся в столбце, лучше переименовать его в start_playback_time. Таким же образом поступим и со столбцом Day - > day_of_week"
   ]
  },
  {
   "cell_type": "markdown",
   "metadata": {
    "deletable": false,
    "editable": false,
    "id": "MCB6-dXG_Zct"
   },
   "source": [
    "**Выводы**\n",
    "\n",
    "В каждой строке таблицы — данные о прослушанном треке. Часть колонок описывает саму композицию: название, исполнителя и жанр. Остальные данные рассказывают о пользователе: из какого он города, когда он слушал музыку. \n",
    "\n",
    "Предварительно можно утверждать, что данных достаточно для проверки гипотез. Но встречаются пропуски в данных, а в названиях колонок — расхождения с хорошим стилем.\n",
    "\n",
    "Чтобы двигаться дальше, нужно устранить проблемы в данных."
   ]
  },
  {
   "attachments": {},
   "cell_type": "markdown",
   "metadata": {
    "deletable": false,
    "editable": false,
    "id": "SjYF6Ub9_Zct"
   },
   "source": [
    "## Предобработка данных"
   ]
  },
  {
   "cell_type": "code",
   "execution_count": 80,
   "metadata": {
    "deletable": false,
    "id": "oKOTdF_Q_Zct"
   },
   "outputs": [
    {
     "data": {
      "text/plain": [
       "Index(['  userID', 'Track', 'artist', 'genre', '  City  ', 'time', 'Day'], dtype='object')"
      ]
     },
     "execution_count": 80,
     "metadata": {},
     "output_type": "execute_result"
    }
   ],
   "source": [
    "df.columns # перечень названий столбцов таблицы df"
   ]
  },
  {
   "cell_type": "code",
   "execution_count": 81,
   "metadata": {
    "deletable": false,
    "id": "ISlFqs5y_Zct"
   },
   "outputs": [],
   "source": [
    "df = df.rename(columns={'  userID': 'user_id', 'Track': 'track', '  City  ': 'city', 'Day': 'day'}) # переименование столбцов"
   ]
  },
  {
   "cell_type": "code",
   "execution_count": 82,
   "metadata": {
    "deletable": false,
    "id": "d4NOAmTW_Zct"
   },
   "outputs": [
    {
     "data": {
      "text/plain": [
       "Index(['user_id', 'track', 'artist', 'genre', 'city', 'time', 'day'], dtype='object')"
      ]
     },
     "execution_count": 82,
     "metadata": {},
     "output_type": "execute_result"
    }
   ],
   "source": [
    "df.columns # проверка результатов - перечень названий столбцов"
   ]
  },
  {
   "attachments": {},
   "cell_type": "markdown",
   "metadata": {
    "deletable": false,
    "editable": false,
    "id": "5ISfbcfY_Zct",
    "tags": [
     "start_task"
    ]
   },
   "source": [
    "### Пропуски значений"
   ]
  },
  {
   "cell_type": "code",
   "execution_count": 83,
   "metadata": {
    "deletable": false,
    "id": "RskX29qr_Zct"
   },
   "outputs": [
    {
     "data": {
      "text/plain": [
       "user_id       0\n",
       "track      1231\n",
       "artist     7203\n",
       "genre      1198\n",
       "city          0\n",
       "time          0\n",
       "day           0\n",
       "dtype: int64"
      ]
     },
     "execution_count": 83,
     "metadata": {},
     "output_type": "execute_result"
    }
   ],
   "source": [
    "df.isna().sum() # подсчёт пропусков"
   ]
  },
  {
   "attachments": {},
   "cell_type": "markdown",
   "metadata": {
    "deletable": false,
    "editable": false,
    "id": "fSv2laPA_Zct",
    "tags": [
     "start_task"
    ]
   },
   "source": [
    "Заменим пропущенные значения в столбцах `track`, `artist` и `genre` на строку `'unknown'`"
   ]
  },
  {
   "cell_type": "code",
   "execution_count": 84,
   "metadata": {},
   "outputs": [],
   "source": [
    "df[['track', 'artist', 'genre']] = df[['track', 'artist', 'genre']].fillna('unknown')"
   ]
  },
  {
   "cell_type": "code",
   "execution_count": 85,
   "metadata": {
    "deletable": false,
    "id": "Tq4nYRX4_Zct"
   },
   "outputs": [
    {
     "data": {
      "text/plain": [
       "user_id    0\n",
       "track      0\n",
       "artist     0\n",
       "genre      0\n",
       "city       0\n",
       "time       0\n",
       "day        0\n",
       "dtype: int64"
      ]
     },
     "execution_count": 85,
     "metadata": {},
     "output_type": "execute_result"
    }
   ],
   "source": [
    "df.isna().sum() # подсчёт пропусков"
   ]
  },
  {
   "attachments": {},
   "cell_type": "markdown",
   "metadata": {
    "deletable": false,
    "editable": false,
    "id": "BWKRtBJ3_Zct",
    "tags": [
     "start_task"
    ]
   },
   "source": [
    "### Дубликаты"
   ]
  },
  {
   "cell_type": "code",
   "execution_count": 86,
   "metadata": {
    "deletable": false,
    "id": "36eES_S0_Zct"
   },
   "outputs": [
    {
     "data": {
      "text/plain": [
       "3826"
      ]
     },
     "execution_count": 86,
     "metadata": {},
     "output_type": "execute_result"
    }
   ],
   "source": [
    "df.duplicated().sum() # подсчёт явных дубликатов"
   ]
  },
  {
   "cell_type": "code",
   "execution_count": 87,
   "metadata": {
    "deletable": false,
    "id": "exFHq6tt_Zct"
   },
   "outputs": [],
   "source": [
    "df = df.drop_duplicates().reset_index(drop = True) # удаление явных дубликатов"
   ]
  },
  {
   "cell_type": "code",
   "execution_count": 88,
   "metadata": {
    "deletable": false,
    "id": "-8PuNWQ0_Zct"
   },
   "outputs": [
    {
     "data": {
      "text/plain": [
       "0"
      ]
     },
     "execution_count": 88,
     "metadata": {},
     "output_type": "execute_result"
    }
   ],
   "source": [
    "df.duplicated().sum() # проверка на отсутствие дубликатов"
   ]
  },
  {
   "attachments": {},
   "cell_type": "markdown",
   "metadata": {
    "deletable": false,
    "editable": false,
    "id": "QlFBsxAr_Zct"
   },
   "source": [
    "Теперь избавимся от неявных дубликатов в колонке `genre`"
   ]
  },
  {
   "cell_type": "code",
   "execution_count": 89,
   "metadata": {
    "deletable": false,
    "id": "JIUcqzZN_Zct"
   },
   "outputs": [
    {
     "name": "stdout",
     "output_type": "stream",
     "text": [
      "['acid' 'acoustic' 'action' 'adult' 'africa' 'afrikaans' 'alternative'\n",
      " 'alternativepunk' 'ambient' 'americana' 'animated' 'anime' 'arabesk'\n",
      " 'arabic' 'arena' 'argentinetango' 'art' 'audiobook' 'author' 'avantgarde'\n",
      " 'axé' 'baile' 'balkan' 'beats' 'bigroom' 'black' 'bluegrass' 'blues'\n",
      " 'bollywood' 'bossa' 'brazilian' 'breakbeat' 'breaks' 'broadway'\n",
      " 'cantautori' 'cantopop' 'canzone' 'caribbean' 'caucasian' 'celtic'\n",
      " 'chamber' 'chanson' 'children' 'chill' 'chinese' 'choral' 'christian'\n",
      " 'christmas' 'classical' 'classicmetal' 'club' 'colombian' 'comedy'\n",
      " 'conjazz' 'contemporary' 'country' 'cuban' 'dance' 'dancehall' 'dancepop'\n",
      " 'dark' 'death' 'deep' 'deutschrock' 'deutschspr' 'dirty' 'disco' 'dnb'\n",
      " 'documentary' 'downbeat' 'downtempo' 'drum' 'dub' 'dubstep' 'eastern'\n",
      " 'easy' 'electronic' 'electropop' 'emo' 'entehno' 'epicmetal' 'estrada'\n",
      " 'ethnic' 'eurofolk' 'european' 'experimental' 'extrememetal' 'fado'\n",
      " 'fairytail' 'film' 'fitness' 'flamenco' 'folk' 'folklore' 'folkmetal'\n",
      " 'folkrock' 'folktronica' 'forró' 'frankreich' 'französisch' 'french'\n",
      " 'funk' 'future' 'gangsta' 'garage' 'german' 'ghazal' 'gitarre' 'glitch'\n",
      " 'gospel' 'gothic' 'grime' 'grunge' 'gypsy' 'handsup' \"hard'n'heavy\"\n",
      " 'hardcore' 'hardstyle' 'hardtechno' 'hip' 'hip-hop' 'hiphop' 'historisch'\n",
      " 'holiday' 'hop' 'horror' 'house' 'hymn' 'idm' 'independent' 'indian'\n",
      " 'indie' 'indipop' 'industrial' 'inspirational' 'instrumental'\n",
      " 'international' 'irish' 'jam' 'japanese' 'jazz' 'jewish' 'jpop' 'jungle'\n",
      " 'k-pop' 'karadeniz' 'karaoke' 'kayokyoku' 'korean' 'laiko' 'latin'\n",
      " 'latino' 'leftfield' 'local' 'lounge' 'loungeelectronic' 'lovers'\n",
      " 'malaysian' 'mandopop' 'marschmusik' 'meditative' 'mediterranean'\n",
      " 'melodic' 'metal' 'metalcore' 'mexican' 'middle' 'minimal'\n",
      " 'miscellaneous' 'modern' 'mood' 'mpb' 'muslim' 'native' 'neoklassik'\n",
      " 'neue' 'new' 'newage' 'newwave' 'nu' 'nujazz' 'numetal' 'oceania' 'old'\n",
      " 'opera' 'orchestral' 'other' 'piano' 'podcasts' 'pop' 'popdance'\n",
      " 'popelectronic' 'popeurodance' 'poprussian' 'post' 'posthardcore'\n",
      " 'postrock' 'power' 'progmetal' 'progressive' 'psychedelic' 'punjabi'\n",
      " 'punk' 'quebecois' 'ragga' 'ram' 'rancheras' 'rap' 'rave' 'reggae'\n",
      " 'reggaeton' 'regional' 'relax' 'religious' 'retro' 'rhythm' 'rnb' 'rnr'\n",
      " 'rock' 'rockabilly' 'rockalternative' 'rockindie' 'rockother' 'romance'\n",
      " 'roots' 'ruspop' 'rusrap' 'rusrock' 'russian' 'salsa' 'samba' 'scenic'\n",
      " 'schlager' 'self' 'sertanejo' 'shanson' 'shoegazing' 'showtunes' 'singer'\n",
      " 'ska' 'skarock' 'slow' 'smooth' 'soft' 'soul' 'soulful' 'sound'\n",
      " 'soundtrack' 'southern' 'specialty' 'speech' 'spiritual' 'sport'\n",
      " 'stonerrock' 'surf' 'swing' 'synthpop' 'synthrock' 'sängerportrait'\n",
      " 'tango' 'tanzorchester' 'taraftar' 'tatar' 'tech' 'techno' 'teen'\n",
      " 'thrash' 'top' 'traditional' 'tradjazz' 'trance' 'tribal' 'trip'\n",
      " 'triphop' 'tropical' 'türk' 'türkçe' 'ukrrock' 'unknown' 'urban' 'uzbek'\n",
      " 'variété' 'vi' 'videogame' 'vocal' 'western' 'world' 'worldbeat' 'ïîï'\n",
      " 'электроника']\n",
      "Количество жанров до очистки: 290\n"
     ]
    }
   ],
   "source": [
    "genre_col = df['genre']\n",
    "sorted_genre_col = genre_col.sort_values()\n",
    "uniq_genre_col = sorted_genre_col.unique()\n",
    "print(uniq_genre_col) # Просмотр уникальных названий жанров\n",
    "\n",
    "count = 0\n",
    "for i in uniq_genre_col:\n",
    "    count +=1\n",
    "print('Количество жанров до очистки:', count)"
   ]
  },
  {
   "cell_type": "code",
   "execution_count": 90,
   "metadata": {
    "deletable": false,
    "id": "ErNDkmns_Zct"
   },
   "outputs": [],
   "source": [
    "dub_genre = ['hip', 'hop', 'hip-hop']\n",
    "df['genre'] = df['genre'].replace(dub_genre, 'hiphop') # Устранение неявных дубликатов"
   ]
  },
  {
   "cell_type": "code",
   "execution_count": 91,
   "metadata": {
    "deletable": false,
    "id": "wvixALnFG15m"
   },
   "outputs": [
    {
     "name": "stdout",
     "output_type": "stream",
     "text": [
      "['acid' 'acoustic' 'action' 'adult' 'africa' 'afrikaans' 'alternative'\n",
      " 'alternativepunk' 'ambient' 'americana' 'animated' 'anime' 'arabesk'\n",
      " 'arabic' 'arena' 'argentinetango' 'art' 'audiobook' 'author' 'avantgarde'\n",
      " 'axé' 'baile' 'balkan' 'beats' 'bigroom' 'black' 'bluegrass' 'blues'\n",
      " 'bollywood' 'bossa' 'brazilian' 'breakbeat' 'breaks' 'broadway'\n",
      " 'cantautori' 'cantopop' 'canzone' 'caribbean' 'caucasian' 'celtic'\n",
      " 'chamber' 'chanson' 'children' 'chill' 'chinese' 'choral' 'christian'\n",
      " 'christmas' 'classical' 'classicmetal' 'club' 'colombian' 'comedy'\n",
      " 'conjazz' 'contemporary' 'country' 'cuban' 'dance' 'dancehall' 'dancepop'\n",
      " 'dark' 'death' 'deep' 'deutschrock' 'deutschspr' 'dirty' 'disco' 'dnb'\n",
      " 'documentary' 'downbeat' 'downtempo' 'drum' 'dub' 'dubstep' 'eastern'\n",
      " 'easy' 'electronic' 'electropop' 'emo' 'entehno' 'epicmetal' 'estrada'\n",
      " 'ethnic' 'eurofolk' 'european' 'experimental' 'extrememetal' 'fado'\n",
      " 'fairytail' 'film' 'fitness' 'flamenco' 'folk' 'folklore' 'folkmetal'\n",
      " 'folkrock' 'folktronica' 'forró' 'frankreich' 'französisch' 'french'\n",
      " 'funk' 'future' 'gangsta' 'garage' 'german' 'ghazal' 'gitarre' 'glitch'\n",
      " 'gospel' 'gothic' 'grime' 'grunge' 'gypsy' 'handsup' \"hard'n'heavy\"\n",
      " 'hardcore' 'hardstyle' 'hardtechno' 'hiphop' 'historisch' 'holiday'\n",
      " 'horror' 'house' 'hymn' 'idm' 'independent' 'indian' 'indie' 'indipop'\n",
      " 'industrial' 'inspirational' 'instrumental' 'international' 'irish' 'jam'\n",
      " 'japanese' 'jazz' 'jewish' 'jpop' 'jungle' 'k-pop' 'karadeniz' 'karaoke'\n",
      " 'kayokyoku' 'korean' 'laiko' 'latin' 'latino' 'leftfield' 'local'\n",
      " 'lounge' 'loungeelectronic' 'lovers' 'malaysian' 'mandopop' 'marschmusik'\n",
      " 'meditative' 'mediterranean' 'melodic' 'metal' 'metalcore' 'mexican'\n",
      " 'middle' 'minimal' 'miscellaneous' 'modern' 'mood' 'mpb' 'muslim'\n",
      " 'native' 'neoklassik' 'neue' 'new' 'newage' 'newwave' 'nu' 'nujazz'\n",
      " 'numetal' 'oceania' 'old' 'opera' 'orchestral' 'other' 'piano' 'podcasts'\n",
      " 'pop' 'popdance' 'popelectronic' 'popeurodance' 'poprussian' 'post'\n",
      " 'posthardcore' 'postrock' 'power' 'progmetal' 'progressive' 'psychedelic'\n",
      " 'punjabi' 'punk' 'quebecois' 'ragga' 'ram' 'rancheras' 'rap' 'rave'\n",
      " 'reggae' 'reggaeton' 'regional' 'relax' 'religious' 'retro' 'rhythm'\n",
      " 'rnb' 'rnr' 'rock' 'rockabilly' 'rockalternative' 'rockindie' 'rockother'\n",
      " 'romance' 'roots' 'ruspop' 'rusrap' 'rusrock' 'russian' 'salsa' 'samba'\n",
      " 'scenic' 'schlager' 'self' 'sertanejo' 'shanson' 'shoegazing' 'showtunes'\n",
      " 'singer' 'ska' 'skarock' 'slow' 'smooth' 'soft' 'soul' 'soulful' 'sound'\n",
      " 'soundtrack' 'southern' 'specialty' 'speech' 'spiritual' 'sport'\n",
      " 'stonerrock' 'surf' 'swing' 'synthpop' 'synthrock' 'sängerportrait'\n",
      " 'tango' 'tanzorchester' 'taraftar' 'tatar' 'tech' 'techno' 'teen'\n",
      " 'thrash' 'top' 'traditional' 'tradjazz' 'trance' 'tribal' 'trip'\n",
      " 'triphop' 'tropical' 'türk' 'türkçe' 'ukrrock' 'unknown' 'urban' 'uzbek'\n",
      " 'variété' 'vi' 'videogame' 'vocal' 'western' 'world' 'worldbeat' 'ïîï'\n",
      " 'электроника']\n",
      "Количество жанров после очистки: 287\n"
     ]
    }
   ],
   "source": [
    "uniq_genre_col = df['genre'].sort_values().unique()\n",
    "print(uniq_genre_col) # Проверка на неявные дубликаты\n",
    "\n",
    "count = 0\n",
    "for i in uniq_genre_col:\n",
    "    count +=1\n",
    "print('Количество жанров после очистки:', count)"
   ]
  },
  {
   "attachments": {},
   "cell_type": "markdown",
   "metadata": {
    "deletable": false,
    "editable": false,
    "id": "jz6a9-7HQUDd"
   },
   "source": [
    "**Выводы**\n",
    "\n",
    "Предобработка обнаружила три проблемы в данных:\n",
    "- нарушения в стиле заголовков,\n",
    "- пропущенные значения,\n",
    "- дубликаты — явные и неявные.\n",
    "Исправили заголовки, чтобы упростить работу с таблицей. Без дубликатов исследование станет более точным.\n",
    "Пропущенные значения вы заменили на `'unknown'`. Далее проверим, не повредят ли исследованию пропуски в колонке `genre`.\n",
    "Теперь можно перейти к проверке гипотез. "
   ]
  },
  {
   "cell_type": "markdown",
   "metadata": {
    "deletable": false,
    "editable": false,
    "id": "WttZHXH0SqKk"
   },
   "source": [
    "## Проверка гипотез"
   ]
  },
  {
   "cell_type": "markdown",
   "metadata": {
    "deletable": false,
    "editable": false,
    "id": "Im936VVi_Zcu"
   },
   "source": [
    "### Сравнение поведения пользователей двух столиц"
   ]
  },
  {
   "attachments": {},
   "cell_type": "markdown",
   "metadata": {
    "deletable": false,
    "editable": false,
    "id": "nwt_MuaL_Zcu"
   },
   "source": [
    "Первая гипотеза утверждает, что пользователи по-разному слушают музыку в Москве и Санкт-Петербурге. Проверим это предположение по данным о трёх днях недели — понедельнике, среде и пятнице. Для этого:\n",
    "\n",
    "* Разделим пользователей Москвы и Санкт-Петербурга.\n",
    "* Сравним, сколько треков послушала каждая группа пользователей в понедельник, среду и пятницу.\n"
   ]
  },
  {
   "cell_type": "code",
   "execution_count": 92,
   "metadata": {
    "deletable": false,
    "id": "0_Qs96oh_Zcu"
   },
   "outputs": [
    {
     "data": {
      "text/plain": [
       "city\n",
       "Moscow              42741\n",
       "Saint-Petersburg    18512\n",
       "Name: city, dtype: int64"
      ]
     },
     "execution_count": 92,
     "metadata": {},
     "output_type": "execute_result"
    }
   ],
   "source": [
    "df.groupby('city')['city'].count() # Подсчёт прослушиваний в каждом городе"
   ]
  },
  {
   "attachments": {},
   "cell_type": "markdown",
   "metadata": {
    "deletable": false,
    "editable": false,
    "id": "dzli3w8o_Zcu",
    "tags": [
     "start_task"
    ]
   },
   "source": [
    "В Москве прослушиваний больше, чем в Петербурге. Из этого не следует, что московские пользователи чаще слушают музыку. Просто самих пользователей в Москве больше."
   ]
  },
  {
   "cell_type": "code",
   "execution_count": 93,
   "metadata": {
    "deletable": false,
    "id": "uZMKjiJz_Zcu"
   },
   "outputs": [
    {
     "name": "stdout",
     "output_type": "stream",
     "text": [
      "day\n",
      "Friday       21840\n",
      "Monday       21354\n",
      "Wednesday    18059\n",
      "Name: user_id, dtype: int64\n"
     ]
    }
   ],
   "source": [
    "print(df.groupby('day')['user_id'].count())# Подсчёт прослушиваний в каждый из трёх дней"
   ]
  },
  {
   "cell_type": "markdown",
   "metadata": {
    "deletable": false,
    "editable": false,
    "id": "cC2tNrlL_Zcu"
   },
   "source": [
    "В среднем пользователи из двух городов менее активны по средам. Но картина может измениться, если рассмотреть каждый город в отдельности."
   ]
  },
  {
   "attachments": {},
   "cell_type": "markdown",
   "metadata": {
    "deletable": false,
    "editable": false,
    "id": "POzs8bGa_Zcu",
    "tags": [
     "start_task"
    ]
   },
   "source": [
    "Напишим функцию группировки по городу и дням недели"
   ]
  },
  {
   "cell_type": "code",
   "execution_count": 94,
   "metadata": {
    "deletable": false,
    "id": "Nz3GdQB1_Zcu"
   },
   "outputs": [],
   "source": [
    "def number_tracks(day, city):\n",
    "    '''\n",
    "    Функция для подсчёта прослушиваний для конкретного города и дня.\n",
    "    Возвращает число - значение track_list_count.\n",
    "    '''\n",
    "    col = df[df['day'] == day]\n",
    "    col = col[col['city'] == city]\n",
    "    col_count = col['user_id'].count()\n",
    "    return col_count\n"
   ]
  },
  {
   "cell_type": "code",
   "execution_count": 95,
   "metadata": {
    "deletable": false,
    "id": "rJcRATNQ_Zcu"
   },
   "outputs": [
    {
     "data": {
      "text/plain": [
       "15740"
      ]
     },
     "execution_count": 95,
     "metadata": {},
     "output_type": "execute_result"
    }
   ],
   "source": [
    "number_tracks('Monday', 'Moscow') # количество прослушиваний в Москве по понедельникам"
   ]
  },
  {
   "cell_type": "code",
   "execution_count": 96,
   "metadata": {
    "deletable": false,
    "id": "hq_ncZ5T_Zcu"
   },
   "outputs": [
    {
     "data": {
      "text/plain": [
       "5614"
      ]
     },
     "execution_count": 96,
     "metadata": {},
     "output_type": "execute_result"
    }
   ],
   "source": [
    "number_tracks('Monday', 'Saint-Petersburg')# количество прослушиваний в Санкт-Петербурге по понедельникам"
   ]
  },
  {
   "cell_type": "code",
   "execution_count": 97,
   "metadata": {
    "deletable": false,
    "id": "_NTy2VPU_Zcu"
   },
   "outputs": [
    {
     "data": {
      "text/plain": [
       "11056"
      ]
     },
     "execution_count": 97,
     "metadata": {},
     "output_type": "execute_result"
    }
   ],
   "source": [
    "number_tracks('Wednesday', 'Moscow')# количество прослушиваний в Москве по средам"
   ]
  },
  {
   "cell_type": "code",
   "execution_count": 98,
   "metadata": {
    "deletable": false,
    "id": "j2y3TAwo_Zcu"
   },
   "outputs": [
    {
     "data": {
      "text/plain": [
       "7003"
      ]
     },
     "execution_count": 98,
     "metadata": {},
     "output_type": "execute_result"
    }
   ],
   "source": [
    "number_tracks('Wednesday', 'Saint-Petersburg')# количество прослушиваний в Санкт-Петербурге по средам"
   ]
  },
  {
   "cell_type": "code",
   "execution_count": 99,
   "metadata": {
    "deletable": false,
    "id": "vYDw5u_K_Zcu"
   },
   "outputs": [
    {
     "data": {
      "text/plain": [
       "15945"
      ]
     },
     "execution_count": 99,
     "metadata": {},
     "output_type": "execute_result"
    }
   ],
   "source": [
    "number_tracks('Friday', 'Moscow')# количество прослушиваний в Москве по пятницам"
   ]
  },
  {
   "cell_type": "code",
   "execution_count": 100,
   "metadata": {
    "deletable": false,
    "id": "8_yzFtW3_Zcu"
   },
   "outputs": [
    {
     "data": {
      "text/plain": [
       "5895"
      ]
     },
     "execution_count": 100,
     "metadata": {},
     "output_type": "execute_result"
    }
   ],
   "source": [
    "number_tracks('Friday', 'Saint-Petersburg')# количество прослушиваний в Санкт-Петербурге по пятницам"
   ]
  },
  {
   "attachments": {},
   "cell_type": "markdown",
   "metadata": {
    "deletable": false,
    "editable": false,
    "id": "7QXffbO-_Zcu",
    "tags": [
     "start_task"
    ]
   },
   "source": [
    "Создадим таблицу, где названия колонок — `['city', 'monday', 'wednesday', 'friday']`; \n",
    "* данные — результаты, которые получили с помощью `number_tracks`."
   ]
  },
  {
   "cell_type": "code",
   "execution_count": 101,
   "metadata": {
    "deletable": false,
    "id": "APAcLpOr_Zcu"
   },
   "outputs": [
    {
     "data": {
      "text/html": [
       "<div>\n",
       "<style scoped>\n",
       "    .dataframe tbody tr th:only-of-type {\n",
       "        vertical-align: middle;\n",
       "    }\n",
       "\n",
       "    .dataframe tbody tr th {\n",
       "        vertical-align: top;\n",
       "    }\n",
       "\n",
       "    .dataframe thead th {\n",
       "        text-align: right;\n",
       "    }\n",
       "</style>\n",
       "<table border=\"1\" class=\"dataframe\">\n",
       "  <thead>\n",
       "    <tr style=\"text-align: right;\">\n",
       "      <th></th>\n",
       "      <th>city</th>\n",
       "      <th>monday</th>\n",
       "      <th>wednesday</th>\n",
       "      <th>friday</th>\n",
       "    </tr>\n",
       "  </thead>\n",
       "  <tbody>\n",
       "    <tr>\n",
       "      <th>0</th>\n",
       "      <td>Moscow</td>\n",
       "      <td>15740</td>\n",
       "      <td>11056</td>\n",
       "      <td>15945</td>\n",
       "    </tr>\n",
       "    <tr>\n",
       "      <th>1</th>\n",
       "      <td>Санкт-Петербург</td>\n",
       "      <td>5614</td>\n",
       "      <td>7003</td>\n",
       "      <td>5895</td>\n",
       "    </tr>\n",
       "  </tbody>\n",
       "</table>\n",
       "</div>"
      ],
      "text/plain": [
       "              city  monday  wednesday  friday\n",
       "0           Moscow   15740      11056   15945\n",
       "1  Санкт-Петербург    5614       7003    5895"
      ]
     },
     "execution_count": 101,
     "metadata": {},
     "output_type": "execute_result"
    }
   ],
   "source": [
    "pd.DataFrame(data=[['Moscow', 15740, 11056, 15945],['Санкт-Петербург', 5614, 7003, 5895]], \n",
    "             columns=['city', 'monday', 'wednesday', 'friday']) # Таблица с результатами"
   ]
  },
  {
   "cell_type": "markdown",
   "metadata": {
    "deletable": false,
    "editable": false,
    "id": "-EgPIHYu_Zcu"
   },
   "source": [
    "**Выводы**\n",
    "\n",
    "Данные показывают разницу поведения пользователей:\n",
    "\n",
    "- В Москве пик прослушиваний приходится на понедельник и пятницу, а в среду заметен спад.\n",
    "- В Петербурге, наоборот, больше слушают музыку по средам. Активность в понедельник и пятницу здесь почти в равной мере уступает среде.\n",
    "\n",
    "Значит, данные говорят в пользу первой гипотезы."
   ]
  },
  {
   "cell_type": "markdown",
   "metadata": {
    "deletable": false,
    "editable": false,
    "id": "atZAxtq4_Zcu"
   },
   "source": [
    "### Музыка в начале и в конце недели"
   ]
  },
  {
   "cell_type": "markdown",
   "metadata": {
    "deletable": false,
    "editable": false,
    "id": "eXrQqXFH_Zcu"
   },
   "source": [
    "Согласно второй гипотезе, утром в понедельник в Москве преобладают одни жанры, а в Петербурге — другие. Так же и вечером пятницы преобладают разные жанры — в зависимости от города."
   ]
  },
  {
   "cell_type": "code",
   "execution_count": 102,
   "metadata": {
    "deletable": false,
    "id": "qeaFfM_P_Zcu"
   },
   "outputs": [],
   "source": [
    "moscow_general = df[df['city']=='Moscow'] \n",
    "# получение таблицы moscow_general из тех строк таблицы df, \n",
    "# для которых значение в столбце 'city' равно 'Moscow'\n"
   ]
  },
  {
   "cell_type": "code",
   "execution_count": 103,
   "metadata": {
    "deletable": false,
    "id": "ORaVRKto_Zcu"
   },
   "outputs": [],
   "source": [
    "spb_general = df[df['city']=='Saint-Petersburg']\n",
    "# получение таблицы spb_general из тех строк таблицы df,\n",
    "# для которых значение в столбце 'city' равно 'Saint-Petersburg'\n"
   ]
  },
  {
   "attachments": {},
   "cell_type": "markdown",
   "metadata": {
    "deletable": false,
    "editable": false,
    "id": "MEJV-CX2_Zcu",
    "tags": [
     "start_task"
    ]
   },
   "source": [
    "Создаим функцию `genre_weekday()` с четырьмя параметрами:\n",
    "* таблица (датафрейм) с данными,\n",
    "* день недели,\n",
    "* начальная временная метка в формате 'hh:mm', \n",
    "* последняя временная метка в формате 'hh:mm'.\n",
    "\n",
    "Функция должна вернуть информацию о топ-10 жанров тех треков, которые прослушивали в указанный день, в промежутке между двумя отметками времени."
   ]
  },
  {
   "cell_type": "code",
   "execution_count": 104,
   "metadata": {
    "deletable": false,
    "id": "laJT9BYl_Zcu"
   },
   "outputs": [],
   "source": [
    "def genre_weekday(df, day, time1, time2):\n",
    "    '''\n",
    "    Возвращает информацию о самых популярных жанрах в указанный день в\n",
    "    заданное время\n",
    "    '''\n",
    "    # последовательная фильтрация\n",
    "    # оставляем в genre_df только те строки df, у которых день равен day\n",
    "    genre_df = df[df['day']==day] \n",
    "    # оставляем в genre_df только те строки genre_df, у которых время меньше time2\n",
    "    genre_df = genre_df[genre_df['time'] < time2]\n",
    "    # оставляем в genre_df только те строки genre_df, у которых время больше time1\n",
    "    genre_df = genre_df[genre_df['time'] > time1]\n",
    "    # сгруппируем отфильтрованный датафрейм по столбцу с названиями жанров, возьмём столбец genre и посчитаем кол-во строк для каждого жанра методом count()\n",
    "    genre_df_grouped = genre_df.groupby('genre')['genre'].count()\n",
    "    # отсортируем результат по убыванию (чтобы в начале Series оказались самые популярные жанры)\n",
    "    genre_df_sorted = genre_df_grouped.sort_values(ascending=False)\n",
    "    # вернём Series с 10 самыми популярными жанрами в указанный отрезок времени заданного дня\n",
    "    return genre_df_sorted[:10]"
   ]
  },
  {
   "cell_type": "code",
   "execution_count": 105,
   "metadata": {
    "deletable": false,
    "id": "yz7itPUQ_Zcu"
   },
   "outputs": [
    {
     "data": {
      "text/plain": [
       "genre\n",
       "pop            781\n",
       "dance          549\n",
       "electronic     480\n",
       "rock           474\n",
       "hiphop         286\n",
       "ruspop         186\n",
       "world          181\n",
       "rusrap         175\n",
       "alternative    164\n",
       "unknown        161\n",
       "Name: genre, dtype: int64"
      ]
     },
     "execution_count": 105,
     "metadata": {},
     "output_type": "execute_result"
    }
   ],
   "source": [
    "genre_weekday(moscow_general, 'Monday', '07:00', '11:00') # вызов функции для утра понедельника в Москве"
   ]
  },
  {
   "cell_type": "code",
   "execution_count": 106,
   "metadata": {
    "deletable": false,
    "id": "kwUcHPdy_Zcu"
   },
   "outputs": [
    {
     "data": {
      "text/plain": [
       "genre\n",
       "pop            218\n",
       "dance          182\n",
       "rock           162\n",
       "electronic     147\n",
       "hiphop          80\n",
       "ruspop          64\n",
       "alternative     58\n",
       "rusrap          55\n",
       "jazz            44\n",
       "classical       40\n",
       "Name: genre, dtype: int64"
      ]
     },
     "execution_count": 106,
     "metadata": {},
     "output_type": "execute_result"
    }
   ],
   "source": [
    "genre_weekday(spb_general, 'Monday', '07:00', '11:00') # вызов функции для утра понедельника в Петербурге"
   ]
  },
  {
   "cell_type": "code",
   "execution_count": 107,
   "metadata": {
    "deletable": false,
    "id": "EzXVRE1o_Zcu"
   },
   "outputs": [
    {
     "data": {
      "text/plain": [
       "genre\n",
       "pop            713\n",
       "rock           517\n",
       "dance          495\n",
       "electronic     482\n",
       "hiphop         273\n",
       "world          208\n",
       "ruspop         170\n",
       "alternative    163\n",
       "classical      163\n",
       "rusrap         142\n",
       "Name: genre, dtype: int64"
      ]
     },
     "execution_count": 107,
     "metadata": {},
     "output_type": "execute_result"
    }
   ],
   "source": [
    "genre_weekday(moscow_general, 'Friday', '17:00', '23:00') # вызов функции для вечера пятницы в Москве"
   ]
  },
  {
   "cell_type": "code",
   "execution_count": 108,
   "metadata": {
    "deletable": false,
    "id": "JZaEKu5v_Zcu"
   },
   "outputs": [
    {
     "data": {
      "text/plain": [
       "genre\n",
       "pop            256\n",
       "electronic     216\n",
       "rock           216\n",
       "dance          210\n",
       "hiphop          97\n",
       "alternative     63\n",
       "jazz            61\n",
       "classical       60\n",
       "rusrap          59\n",
       "world           54\n",
       "Name: genre, dtype: int64"
      ]
     },
     "execution_count": 108,
     "metadata": {},
     "output_type": "execute_result"
    }
   ],
   "source": [
    "genre_weekday(spb_general, 'Friday', '17:00', '23:00')# вызов функции для вечера пятницы в Петербурге"
   ]
  },
  {
   "attachments": {},
   "cell_type": "markdown",
   "metadata": {
    "deletable": false,
    "editable": false,
    "id": "wrCe4MNX_Zcu"
   },
   "source": [
    "**Выводы**\n",
    "\n",
    "Если сравнить топ-10 жанров в понедельник утром, можно сделать такие выводы:\n",
    "\n",
    "1. В Москве и Петербурге слушают похожую музыку. Единственное отличие — в московский рейтинг вошёл жанр “world”, а в петербургский — джаз и классика.\n",
    "2. В Москве пропущенных значений оказалось так много, что значение `'unknown'` заняло десятое место среди самых популярных жанров. Значит, пропущенные значения занимают существенную долю в данных и угрожают достоверности исследования.\n",
    "\n",
    "Вечер пятницы не меняет эту картину. Некоторые жанры поднимаются немного выше, другие спускаются, но в целом топ-10 остаётся тем же самым.\n",
    "Таким образом, вторая гипотеза подтвердилась лишь частично:\n",
    "* Пользователи слушают похожую музыку в начале недели и в конце.\n",
    "* Разница между Москвой и Петербургом не слишком выражена. В Москве чаще слушают русскую популярную музыку, в Петербурге — джаз.\n",
    "Однако пропуски в данных ставят под сомнение этот результат. В Москве их так много, что рейтинг топ-10 мог бы выглядеть иначе, если бы не утерянные  данные о жанрах."
   ]
  },
  {
   "cell_type": "markdown",
   "metadata": {
    "deletable": false,
    "editable": false,
    "id": "JolODAqr_Zcu"
   },
   "source": [
    "### Жанровые предпочтения в Москве и Петербурге\n",
    "\n",
    "Гипотеза: Петербург — столица рэпа, музыку этого жанра там слушают чаще, чем в Москве.  А Москва — город контрастов, в котором, тем не менее, преобладает поп-музыка."
   ]
  },
  {
   "cell_type": "code",
   "execution_count": 109,
   "metadata": {
    "deletable": false,
    "id": "r19lIPke_Zcu"
   },
   "outputs": [],
   "source": [
    "msc_gr = moscow_general.groupby('genre')['genre'].count()\n",
    "moscow_genres = msc_gr.sort_values(ascending=False)"
   ]
  },
  {
   "cell_type": "code",
   "execution_count": 110,
   "metadata": {
    "deletable": false,
    "id": "WhCSooF8_Zcv"
   },
   "outputs": [
    {
     "data": {
      "text/plain": [
       "genre\n",
       "pop            5892\n",
       "dance          4435\n",
       "rock           3965\n",
       "electronic     3786\n",
       "hiphop         2096\n",
       "classical      1616\n",
       "world          1432\n",
       "alternative    1379\n",
       "ruspop         1372\n",
       "rusrap         1161\n",
       "Name: genre, dtype: int64"
      ]
     },
     "execution_count": 110,
     "metadata": {},
     "output_type": "execute_result"
    }
   ],
   "source": [
    "moscow_genres[:10] # просмотр первых 10 строк moscow_genres"
   ]
  },
  {
   "cell_type": "code",
   "execution_count": 111,
   "metadata": {
    "deletable": false,
    "id": "gluLIpE7_Zcv"
   },
   "outputs": [],
   "source": [
    "spb_gr = spb_general.groupby('genre')['genre'].count()\n",
    "spb_genres = spb_gr.sort_values(ascending=False) # одной строкой: группировка таблицы spb_general по столбцу 'genre', \n",
    "# подсчёт числа значений 'genre' в этой группировке методом count(), \n",
    "# сортировка получившегося Series в порядке убывания и сохранение в spb_genres"
   ]
  },
  {
   "cell_type": "code",
   "execution_count": 112,
   "metadata": {
    "deletable": false,
    "id": "uaGJHjVU_Zcv"
   },
   "outputs": [
    {
     "data": {
      "text/plain": [
       "genre\n",
       "pop            2431\n",
       "dance          1932\n",
       "rock           1879\n",
       "electronic     1736\n",
       "hiphop          960\n",
       "alternative     649\n",
       "classical       646\n",
       "rusrap          564\n",
       "ruspop          538\n",
       "world           515\n",
       "Name: genre, dtype: int64"
      ]
     },
     "execution_count": 112,
     "metadata": {},
     "output_type": "execute_result"
    }
   ],
   "source": [
    "spb_genres[:10]# просмотр первых 10 строк spb_genres"
   ]
  },
  {
   "cell_type": "markdown",
   "metadata": {
    "deletable": false,
    "editable": false,
    "id": "RY51YJYu_Zcv"
   },
   "source": [
    "**Выводы**"
   ]
  },
  {
   "cell_type": "markdown",
   "metadata": {
    "deletable": false,
    "editable": false,
    "id": "nVhnJEm__Zcv"
   },
   "source": [
    "Гипотеза частично подтвердилась:\n",
    "* Поп-музыка — самый популярный жанр в Москве, как и предполагала гипотеза. Более того, в топ-10 жанров встречается близкий жанр — русская популярная музыка.\n",
    "* Вопреки ожиданиям, рэп одинаково популярен в Москве и Петербурге. \n"
   ]
  },
  {
   "cell_type": "markdown",
   "metadata": {
    "deletable": false,
    "editable": false,
    "id": "ykKQ0N65_Zcv"
   },
   "source": [
    "## Итоги исследования"
   ]
  },
  {
   "attachments": {},
   "cell_type": "markdown",
   "metadata": {
    "deletable": false,
    "editable": false,
    "id": "tjUwbHb3_Zcv"
   },
   "source": [
    "Вы проверили три гипотезы и установили:\n",
    "\n",
    "1. День недели по-разному влияет на активность пользователей в Москве и Петербурге. \n",
    "\n",
    "Первая гипотеза полностью подтвердилась.\n",
    "\n",
    "2. Музыкальные предпочтения не сильно меняются в течение недели — будь то Москва или Петербург. Небольшие различия заметны в начале недели, по понедельникам:\n",
    "* в Москве слушают музыку жанра “world”,\n",
    "* в Петербурге — джаз и классику.\n",
    "\n",
    "Таким образом, вторая гипотеза подтвердилась лишь отчасти. Этот результат мог оказаться иным, если бы не пропуски в данных.\n",
    "\n",
    "3. Во вкусах пользователей Москвы и Петербурга больше общего чем различий. Вопреки ожиданиям, предпочтения жанров в Петербурге напоминают московские.\n",
    "\n",
    "Третья гипотеза не подтвердилась. Если различия в предпочтениях и существуют, на основной массе пользователей они незаметны."
   ]
  }
 ],
 "metadata": {
  "ExecuteTimeLog": [
   {
    "duration": 393,
    "start_time": "2022-07-13T19:50:34.957Z"
   },
   {
    "duration": 556,
    "start_time": "2022-07-13T19:51:36.498Z"
   },
   {
    "duration": 25,
    "start_time": "2022-07-13T19:51:59.355Z"
   },
   {
    "duration": 11,
    "start_time": "2022-07-13T19:52:21.162Z"
   },
   {
    "duration": 35,
    "start_time": "2022-07-13T19:52:44.884Z"
   },
   {
    "duration": 15,
    "start_time": "2022-07-13T19:57:58.087Z"
   },
   {
    "duration": 24,
    "start_time": "2022-07-13T19:58:10.651Z"
   },
   {
    "duration": 71,
    "start_time": "2022-07-13T20:13:21.376Z"
   },
   {
    "duration": 2,
    "start_time": "2022-07-13T20:14:28.892Z"
   },
   {
    "duration": 54,
    "start_time": "2022-07-14T07:39:55.198Z"
   },
   {
    "duration": 5,
    "start_time": "2022-07-14T07:40:14.049Z"
   },
   {
    "duration": 7,
    "start_time": "2022-07-14T07:43:01.597Z"
   },
   {
    "duration": 417,
    "start_time": "2022-07-14T07:43:24.333Z"
   },
   {
    "duration": 228,
    "start_time": "2022-07-14T07:43:24.752Z"
   },
   {
    "duration": 16,
    "start_time": "2022-07-14T07:43:24.981Z"
   },
   {
    "duration": 27,
    "start_time": "2022-07-14T07:43:24.999Z"
   },
   {
    "duration": 3,
    "start_time": "2022-07-14T07:43:25.027Z"
   },
   {
    "duration": 683,
    "start_time": "2022-07-14T07:43:25.031Z"
   },
   {
    "duration": 664,
    "start_time": "2022-07-14T07:43:33.366Z"
   },
   {
    "duration": 57,
    "start_time": "2022-07-14T07:59:50.932Z"
   },
   {
    "duration": 50,
    "start_time": "2022-07-14T08:00:40.230Z"
   },
   {
    "duration": 487,
    "start_time": "2022-07-14T08:00:44.907Z"
   },
   {
    "duration": 255,
    "start_time": "2022-07-14T08:00:45.396Z"
   },
   {
    "duration": 19,
    "start_time": "2022-07-14T08:00:45.653Z"
   },
   {
    "duration": 35,
    "start_time": "2022-07-14T08:00:45.674Z"
   },
   {
    "duration": 3,
    "start_time": "2022-07-14T08:00:45.710Z"
   },
   {
    "duration": 4,
    "start_time": "2022-07-14T08:00:48.104Z"
   },
   {
    "duration": 11,
    "start_time": "2022-07-14T08:09:21.588Z"
   },
   {
    "duration": 167,
    "start_time": "2022-07-14T08:09:35.770Z"
   },
   {
    "duration": 11,
    "start_time": "2022-07-14T08:09:39.858Z"
   },
   {
    "duration": 6,
    "start_time": "2022-07-14T08:10:33.598Z"
   },
   {
    "duration": 11,
    "start_time": "2022-07-14T08:10:46.029Z"
   },
   {
    "duration": 5,
    "start_time": "2022-07-14T08:10:54.674Z"
   },
   {
    "duration": 24,
    "start_time": "2022-07-14T08:14:01.114Z"
   },
   {
    "duration": 26,
    "start_time": "2022-07-14T08:14:33.735Z"
   },
   {
    "duration": 25,
    "start_time": "2022-07-14T08:14:46.431Z"
   },
   {
    "duration": 27,
    "start_time": "2022-07-14T08:15:02.894Z"
   },
   {
    "duration": 18,
    "start_time": "2022-07-14T08:27:32.056Z"
   },
   {
    "duration": 29,
    "start_time": "2022-07-14T08:27:44.999Z"
   },
   {
    "duration": 41,
    "start_time": "2022-07-14T08:30:33.535Z"
   },
   {
    "duration": 354,
    "start_time": "2022-07-14T08:30:39.276Z"
   },
   {
    "duration": 938,
    "start_time": "2022-07-14T08:30:39.632Z"
   },
   {
    "duration": 16,
    "start_time": "2022-07-14T08:30:40.571Z"
   },
   {
    "duration": 26,
    "start_time": "2022-07-14T08:30:40.588Z"
   },
   {
    "duration": 2,
    "start_time": "2022-07-14T08:30:40.616Z"
   },
   {
    "duration": 8,
    "start_time": "2022-07-14T08:30:40.619Z"
   },
   {
    "duration": 13,
    "start_time": "2022-07-14T08:30:40.629Z"
   },
   {
    "duration": 10,
    "start_time": "2022-07-14T08:30:40.643Z"
   },
   {
    "duration": 19,
    "start_time": "2022-07-14T08:30:40.654Z"
   },
   {
    "duration": 17,
    "start_time": "2022-07-14T08:30:40.675Z"
   },
   {
    "duration": 21,
    "start_time": "2022-07-14T08:30:40.932Z"
   },
   {
    "duration": 60,
    "start_time": "2022-07-14T08:40:24.259Z"
   },
   {
    "duration": 71,
    "start_time": "2022-07-14T08:41:13.351Z"
   },
   {
    "duration": 57,
    "start_time": "2022-07-14T08:41:39.941Z"
   },
   {
    "duration": 54,
    "start_time": "2022-07-14T12:29:00.039Z"
   },
   {
    "duration": 35,
    "start_time": "2022-07-14T12:29:28.989Z"
   },
   {
    "duration": 10,
    "start_time": "2022-07-14T12:41:19.605Z"
   },
   {
    "duration": 3,
    "start_time": "2022-07-14T12:41:39.692Z"
   },
   {
    "duration": 9,
    "start_time": "2022-07-14T12:42:36.537Z"
   },
   {
    "duration": 32,
    "start_time": "2022-07-14T12:56:04.701Z"
   },
   {
    "duration": 31,
    "start_time": "2022-07-14T13:23:54.276Z"
   },
   {
    "duration": 45,
    "start_time": "2022-07-14T13:26:44.125Z"
   },
   {
    "duration": 31,
    "start_time": "2022-07-14T13:27:51.992Z"
   },
   {
    "duration": 42,
    "start_time": "2022-07-14T13:28:30.228Z"
   },
   {
    "duration": 2,
    "start_time": "2022-07-14T13:28:40.147Z"
   },
   {
    "duration": 221,
    "start_time": "2022-07-14T13:28:40.151Z"
   },
   {
    "duration": 12,
    "start_time": "2022-07-14T13:28:40.374Z"
   },
   {
    "duration": 27,
    "start_time": "2022-07-14T13:28:40.388Z"
   },
   {
    "duration": 3,
    "start_time": "2022-07-14T13:28:40.416Z"
   },
   {
    "duration": 6,
    "start_time": "2022-07-14T13:28:40.420Z"
   },
   {
    "duration": 36,
    "start_time": "2022-07-14T13:28:40.428Z"
   },
   {
    "duration": 10,
    "start_time": "2022-07-14T13:28:40.468Z"
   },
   {
    "duration": 23,
    "start_time": "2022-07-14T13:28:40.480Z"
   },
   {
    "duration": 17,
    "start_time": "2022-07-14T13:28:40.505Z"
   },
   {
    "duration": 45,
    "start_time": "2022-07-14T13:28:40.524Z"
   },
   {
    "duration": 78,
    "start_time": "2022-07-14T13:28:40.571Z"
   },
   {
    "duration": 74,
    "start_time": "2022-07-14T13:28:40.650Z"
   },
   {
    "duration": 73,
    "start_time": "2022-07-14T13:28:40.727Z"
   },
   {
    "duration": 38,
    "start_time": "2022-07-14T13:28:40.802Z"
   },
   {
    "duration": 21,
    "start_time": "2022-07-14T13:28:40.852Z"
   },
   {
    "duration": 3,
    "start_time": "2022-07-14T13:29:18.568Z"
   },
   {
    "duration": 159,
    "start_time": "2022-07-14T13:29:18.573Z"
   },
   {
    "duration": 12,
    "start_time": "2022-07-14T13:29:18.734Z"
   },
   {
    "duration": 42,
    "start_time": "2022-07-14T13:29:18.753Z"
   },
   {
    "duration": 3,
    "start_time": "2022-07-14T13:29:18.797Z"
   },
   {
    "duration": 12,
    "start_time": "2022-07-14T13:29:18.801Z"
   },
   {
    "duration": 10,
    "start_time": "2022-07-14T13:29:18.814Z"
   },
   {
    "duration": 4,
    "start_time": "2022-07-14T13:29:18.826Z"
   },
   {
    "duration": 36,
    "start_time": "2022-07-14T13:29:18.832Z"
   },
   {
    "duration": 18,
    "start_time": "2022-07-14T13:29:18.870Z"
   },
   {
    "duration": 22,
    "start_time": "2022-07-14T13:29:18.891Z"
   },
   {
    "duration": 93,
    "start_time": "2022-07-14T13:29:18.914Z"
   },
   {
    "duration": 75,
    "start_time": "2022-07-14T13:29:19.008Z"
   },
   {
    "duration": 55,
    "start_time": "2022-07-14T13:29:19.084Z"
   },
   {
    "duration": 48,
    "start_time": "2022-07-14T13:29:19.141Z"
   },
   {
    "duration": 10,
    "start_time": "2022-07-14T13:29:19.191Z"
   },
   {
    "duration": 51,
    "start_time": "2022-07-14T13:29:19.202Z"
   },
   {
    "duration": 395,
    "start_time": "2022-07-14T17:28:59.390Z"
   },
   {
    "duration": 229,
    "start_time": "2022-07-14T17:28:59.787Z"
   },
   {
    "duration": 24,
    "start_time": "2022-07-14T17:29:00.017Z"
   },
   {
    "duration": 26,
    "start_time": "2022-07-14T17:29:00.043Z"
   },
   {
    "duration": 10,
    "start_time": "2022-07-14T17:29:00.071Z"
   },
   {
    "duration": 12,
    "start_time": "2022-07-14T17:29:00.082Z"
   },
   {
    "duration": 20,
    "start_time": "2022-07-14T17:29:00.096Z"
   },
   {
    "duration": 19,
    "start_time": "2022-07-14T17:29:00.117Z"
   },
   {
    "duration": 34,
    "start_time": "2022-07-14T17:29:00.138Z"
   },
   {
    "duration": 24,
    "start_time": "2022-07-14T17:29:00.174Z"
   },
   {
    "duration": 39,
    "start_time": "2022-07-14T17:29:00.200Z"
   },
   {
    "duration": 75,
    "start_time": "2022-07-14T17:29:00.241Z"
   },
   {
    "duration": 89,
    "start_time": "2022-07-14T17:29:00.318Z"
   },
   {
    "duration": 64,
    "start_time": "2022-07-14T17:29:00.410Z"
   },
   {
    "duration": 63,
    "start_time": "2022-07-14T17:29:00.476Z"
   },
   {
    "duration": 47,
    "start_time": "2022-07-14T17:29:00.540Z"
   },
   {
    "duration": 46,
    "start_time": "2022-07-14T17:29:00.589Z"
   },
   {
    "duration": 22,
    "start_time": "2022-07-14T18:07:11.963Z"
   },
   {
    "duration": 36,
    "start_time": "2022-07-14T18:10:40.904Z"
   },
   {
    "duration": 76,
    "start_time": "2022-07-14T18:11:34.887Z"
   },
   {
    "duration": 30,
    "start_time": "2022-07-14T18:11:51.221Z"
   },
   {
    "duration": 12,
    "start_time": "2022-07-14T18:13:00.822Z"
   },
   {
    "duration": 12,
    "start_time": "2022-07-14T18:17:45.764Z"
   },
   {
    "duration": 14,
    "start_time": "2022-07-14T18:18:03.427Z"
   },
   {
    "duration": 17,
    "start_time": "2022-07-14T18:23:45.061Z"
   },
   {
    "duration": 16,
    "start_time": "2022-07-14T18:24:13.956Z"
   },
   {
    "duration": 19,
    "start_time": "2022-07-14T18:24:56.437Z"
   },
   {
    "duration": 17,
    "start_time": "2022-07-14T18:25:01.070Z"
   },
   {
    "duration": 11,
    "start_time": "2022-07-14T18:26:21.740Z"
   },
   {
    "duration": 21,
    "start_time": "2022-07-14T18:26:27.485Z"
   },
   {
    "duration": 14,
    "start_time": "2022-07-14T18:28:55.010Z"
   },
   {
    "duration": 4,
    "start_time": "2022-07-14T19:20:20.734Z"
   },
   {
    "duration": 3,
    "start_time": "2022-07-14T19:22:07.516Z"
   },
   {
    "duration": 3,
    "start_time": "2022-07-14T19:23:49.325Z"
   },
   {
    "duration": 182,
    "start_time": "2022-07-14T19:23:49.330Z"
   },
   {
    "duration": 13,
    "start_time": "2022-07-14T19:23:49.516Z"
   },
   {
    "duration": 40,
    "start_time": "2022-07-14T19:23:49.531Z"
   },
   {
    "duration": 4,
    "start_time": "2022-07-14T19:23:49.573Z"
   },
   {
    "duration": 13,
    "start_time": "2022-07-14T19:23:49.578Z"
   },
   {
    "duration": 23,
    "start_time": "2022-07-14T19:23:49.593Z"
   },
   {
    "duration": 5,
    "start_time": "2022-07-14T19:23:49.618Z"
   },
   {
    "duration": 36,
    "start_time": "2022-07-14T19:23:49.625Z"
   },
   {
    "duration": 18,
    "start_time": "2022-07-14T19:23:49.664Z"
   },
   {
    "duration": 28,
    "start_time": "2022-07-14T19:23:49.683Z"
   },
   {
    "duration": 68,
    "start_time": "2022-07-14T19:23:49.718Z"
   },
   {
    "duration": 81,
    "start_time": "2022-07-14T19:23:49.787Z"
   },
   {
    "duration": 68,
    "start_time": "2022-07-14T19:23:49.869Z"
   },
   {
    "duration": 34,
    "start_time": "2022-07-14T19:23:49.939Z"
   },
   {
    "duration": 33,
    "start_time": "2022-07-14T19:23:49.975Z"
   },
   {
    "duration": 38,
    "start_time": "2022-07-14T19:23:50.010Z"
   },
   {
    "duration": 11,
    "start_time": "2022-07-14T19:23:50.049Z"
   },
   {
    "duration": 12,
    "start_time": "2022-07-14T19:23:50.062Z"
   },
   {
    "duration": 16,
    "start_time": "2022-07-14T19:24:59.871Z"
   },
   {
    "duration": 3,
    "start_time": "2022-07-14T19:26:05.542Z"
   },
   {
    "duration": 189,
    "start_time": "2022-07-14T19:26:05.547Z"
   },
   {
    "duration": 12,
    "start_time": "2022-07-14T19:26:05.738Z"
   },
   {
    "duration": 45,
    "start_time": "2022-07-14T19:26:05.752Z"
   },
   {
    "duration": 36,
    "start_time": "2022-07-14T19:26:05.800Z"
   },
   {
    "duration": 27,
    "start_time": "2022-07-14T19:26:05.837Z"
   },
   {
    "duration": 24,
    "start_time": "2022-07-14T19:26:05.866Z"
   },
   {
    "duration": 11,
    "start_time": "2022-07-14T19:26:05.892Z"
   },
   {
    "duration": 38,
    "start_time": "2022-07-14T19:26:05.904Z"
   },
   {
    "duration": 32,
    "start_time": "2022-07-14T19:26:05.944Z"
   },
   {
    "duration": 37,
    "start_time": "2022-07-14T19:26:05.979Z"
   },
   {
    "duration": 75,
    "start_time": "2022-07-14T19:26:06.017Z"
   },
   {
    "duration": 70,
    "start_time": "2022-07-14T19:26:06.093Z"
   },
   {
    "duration": 57,
    "start_time": "2022-07-14T19:26:06.165Z"
   },
   {
    "duration": 36,
    "start_time": "2022-07-14T19:26:06.224Z"
   },
   {
    "duration": 9,
    "start_time": "2022-07-14T19:26:06.262Z"
   },
   {
    "duration": 64,
    "start_time": "2022-07-14T19:26:06.273Z"
   },
   {
    "duration": 13,
    "start_time": "2022-07-14T19:26:06.338Z"
   },
   {
    "duration": 38,
    "start_time": "2022-07-14T19:26:06.353Z"
   },
   {
    "duration": 19,
    "start_time": "2022-07-14T19:26:06.393Z"
   },
   {
    "duration": 45,
    "start_time": "2022-07-14T19:26:06.413Z"
   },
   {
    "duration": 27,
    "start_time": "2022-07-14T19:26:06.460Z"
   },
   {
    "duration": 29,
    "start_time": "2022-07-14T19:26:06.489Z"
   },
   {
    "duration": 38,
    "start_time": "2022-07-14T19:26:06.520Z"
   },
   {
    "duration": 33,
    "start_time": "2022-07-14T19:26:06.559Z"
   },
   {
    "duration": 32,
    "start_time": "2022-07-14T19:26:06.594Z"
   },
   {
    "duration": 7,
    "start_time": "2022-07-14T19:31:52.825Z"
   },
   {
    "duration": 11,
    "start_time": "2022-07-14T19:32:59.132Z"
   },
   {
    "duration": 11,
    "start_time": "2022-07-14T19:35:57.244Z"
   },
   {
    "duration": 11,
    "start_time": "2022-07-14T19:37:26.150Z"
   },
   {
    "duration": 51,
    "start_time": "2022-07-14T19:44:19.787Z"
   },
   {
    "duration": 45,
    "start_time": "2022-07-14T19:45:36.522Z"
   },
   {
    "duration": 5,
    "start_time": "2022-07-14T19:48:01.347Z"
   },
   {
    "duration": 4,
    "start_time": "2022-07-14T19:57:59.911Z"
   },
   {
    "duration": 16,
    "start_time": "2022-07-14T19:59:34.766Z"
   },
   {
    "duration": 3,
    "start_time": "2022-07-14T20:00:53.589Z"
   },
   {
    "duration": 185,
    "start_time": "2022-07-14T20:00:53.595Z"
   },
   {
    "duration": 12,
    "start_time": "2022-07-14T20:00:53.782Z"
   },
   {
    "duration": 32,
    "start_time": "2022-07-14T20:00:53.803Z"
   },
   {
    "duration": 5,
    "start_time": "2022-07-14T20:00:53.837Z"
   },
   {
    "duration": 14,
    "start_time": "2022-07-14T20:00:53.848Z"
   },
   {
    "duration": 14,
    "start_time": "2022-07-14T20:00:53.864Z"
   },
   {
    "duration": 4,
    "start_time": "2022-07-14T20:00:53.879Z"
   },
   {
    "duration": 33,
    "start_time": "2022-07-14T20:00:53.902Z"
   },
   {
    "duration": 26,
    "start_time": "2022-07-14T20:00:53.937Z"
   },
   {
    "duration": 42,
    "start_time": "2022-07-14T20:00:53.965Z"
   },
   {
    "duration": 90,
    "start_time": "2022-07-14T20:00:54.009Z"
   },
   {
    "duration": 74,
    "start_time": "2022-07-14T20:00:54.101Z"
   },
   {
    "duration": 69,
    "start_time": "2022-07-14T20:00:54.177Z"
   },
   {
    "duration": 36,
    "start_time": "2022-07-14T20:00:54.248Z"
   },
   {
    "duration": 34,
    "start_time": "2022-07-14T20:00:54.286Z"
   },
   {
    "duration": 35,
    "start_time": "2022-07-14T20:00:54.321Z"
   },
   {
    "duration": 10,
    "start_time": "2022-07-14T20:00:54.358Z"
   },
   {
    "duration": 9,
    "start_time": "2022-07-14T20:00:54.370Z"
   },
   {
    "duration": 24,
    "start_time": "2022-07-14T20:00:54.381Z"
   },
   {
    "duration": 32,
    "start_time": "2022-07-14T20:00:54.406Z"
   },
   {
    "duration": 15,
    "start_time": "2022-07-14T20:00:54.439Z"
   },
   {
    "duration": 15,
    "start_time": "2022-07-14T20:00:54.456Z"
   },
   {
    "duration": 13,
    "start_time": "2022-07-14T20:00:54.474Z"
   },
   {
    "duration": 23,
    "start_time": "2022-07-14T20:00:54.500Z"
   },
   {
    "duration": 23,
    "start_time": "2022-07-14T20:00:54.525Z"
   },
   {
    "duration": 11,
    "start_time": "2022-07-14T20:00:54.550Z"
   },
   {
    "duration": 41,
    "start_time": "2022-07-14T20:00:54.563Z"
   },
   {
    "duration": 15,
    "start_time": "2022-07-14T20:00:54.605Z"
   },
   {
    "duration": 5,
    "start_time": "2022-07-14T20:00:54.621Z"
   },
   {
    "duration": 23,
    "start_time": "2022-07-14T20:00:54.627Z"
   },
   {
    "duration": 10,
    "start_time": "2022-07-14T20:00:54.652Z"
   },
   {
    "duration": 47,
    "start_time": "2022-07-14T20:00:54.664Z"
   },
   {
    "duration": 18,
    "start_time": "2022-07-14T20:00:54.715Z"
   },
   {
    "duration": 53,
    "start_time": "2022-07-15T05:34:20.121Z"
   },
   {
    "duration": 420,
    "start_time": "2022-07-15T05:34:26.823Z"
   },
   {
    "duration": 234,
    "start_time": "2022-07-15T05:34:27.246Z"
   },
   {
    "duration": 16,
    "start_time": "2022-07-15T05:34:27.481Z"
   },
   {
    "duration": 29,
    "start_time": "2022-07-15T05:34:27.499Z"
   },
   {
    "duration": 2,
    "start_time": "2022-07-15T05:34:27.530Z"
   },
   {
    "duration": 7,
    "start_time": "2022-07-15T05:34:27.534Z"
   },
   {
    "duration": 18,
    "start_time": "2022-07-15T05:34:27.542Z"
   },
   {
    "duration": 9,
    "start_time": "2022-07-15T05:34:27.562Z"
   },
   {
    "duration": 30,
    "start_time": "2022-07-15T05:34:27.572Z"
   },
   {
    "duration": 32,
    "start_time": "2022-07-15T05:34:27.603Z"
   },
   {
    "duration": 23,
    "start_time": "2022-07-15T05:34:27.637Z"
   },
   {
    "duration": 70,
    "start_time": "2022-07-15T05:34:27.661Z"
   },
   {
    "duration": 71,
    "start_time": "2022-07-15T05:34:27.733Z"
   },
   {
    "duration": 68,
    "start_time": "2022-07-15T05:34:27.807Z"
   },
   {
    "duration": 47,
    "start_time": "2022-07-15T05:34:27.877Z"
   },
   {
    "duration": 10,
    "start_time": "2022-07-15T05:34:27.925Z"
   },
   {
    "duration": 38,
    "start_time": "2022-07-15T05:34:27.936Z"
   },
   {
    "duration": 10,
    "start_time": "2022-07-15T05:34:27.976Z"
   },
   {
    "duration": 10,
    "start_time": "2022-07-15T05:34:27.988Z"
   },
   {
    "duration": 3,
    "start_time": "2022-07-15T05:34:28.024Z"
   },
   {
    "duration": 25,
    "start_time": "2022-07-15T05:34:28.029Z"
   },
   {
    "duration": 13,
    "start_time": "2022-07-15T05:34:28.056Z"
   },
   {
    "duration": 14,
    "start_time": "2022-07-15T05:34:28.070Z"
   },
   {
    "duration": 48,
    "start_time": "2022-07-15T05:34:28.085Z"
   },
   {
    "duration": 15,
    "start_time": "2022-07-15T05:34:28.134Z"
   },
   {
    "duration": 13,
    "start_time": "2022-07-15T05:34:28.150Z"
   },
   {
    "duration": 8,
    "start_time": "2022-07-15T05:34:28.164Z"
   },
   {
    "duration": 16,
    "start_time": "2022-07-15T05:34:28.174Z"
   },
   {
    "duration": 33,
    "start_time": "2022-07-15T05:34:28.191Z"
   },
   {
    "duration": 4,
    "start_time": "2022-07-15T05:34:28.225Z"
   },
   {
    "duration": 22,
    "start_time": "2022-07-15T05:34:28.231Z"
   },
   {
    "duration": 10,
    "start_time": "2022-07-15T05:34:28.255Z"
   },
   {
    "duration": 17,
    "start_time": "2022-07-15T05:34:28.266Z"
   },
   {
    "duration": 12,
    "start_time": "2022-07-15T05:34:28.285Z"
   },
   {
    "duration": 1031,
    "start_time": "2022-07-15T05:34:29.217Z"
   },
   {
    "duration": 3,
    "start_time": "2022-07-15T05:34:50.981Z"
   },
   {
    "duration": 173,
    "start_time": "2022-07-15T05:34:50.986Z"
   },
   {
    "duration": 11,
    "start_time": "2022-07-15T05:34:51.161Z"
   },
   {
    "duration": 30,
    "start_time": "2022-07-15T05:34:51.174Z"
   },
   {
    "duration": 2,
    "start_time": "2022-07-15T05:34:51.206Z"
   },
   {
    "duration": 3,
    "start_time": "2022-07-15T05:34:51.224Z"
   },
   {
    "duration": 14,
    "start_time": "2022-07-15T05:34:51.229Z"
   },
   {
    "duration": 21,
    "start_time": "2022-07-15T05:34:51.245Z"
   },
   {
    "duration": 26,
    "start_time": "2022-07-15T05:34:51.268Z"
   },
   {
    "duration": 22,
    "start_time": "2022-07-15T05:34:51.296Z"
   },
   {
    "duration": 29,
    "start_time": "2022-07-15T05:34:51.319Z"
   },
   {
    "duration": 63,
    "start_time": "2022-07-15T05:34:51.349Z"
   },
   {
    "duration": 72,
    "start_time": "2022-07-15T05:34:51.414Z"
   },
   {
    "duration": 65,
    "start_time": "2022-07-15T05:34:51.487Z"
   },
   {
    "duration": 39,
    "start_time": "2022-07-15T05:34:51.553Z"
   },
   {
    "duration": 30,
    "start_time": "2022-07-15T05:34:51.594Z"
   },
   {
    "duration": 38,
    "start_time": "2022-07-15T05:34:51.625Z"
   },
   {
    "duration": 10,
    "start_time": "2022-07-15T05:34:51.665Z"
   },
   {
    "duration": 9,
    "start_time": "2022-07-15T05:34:51.677Z"
   },
   {
    "duration": 3,
    "start_time": "2022-07-15T05:34:51.688Z"
   },
   {
    "duration": 41,
    "start_time": "2022-07-15T05:34:51.693Z"
   },
   {
    "duration": 15,
    "start_time": "2022-07-15T05:34:51.735Z"
   },
   {
    "duration": 20,
    "start_time": "2022-07-15T05:34:51.752Z"
   },
   {
    "duration": 14,
    "start_time": "2022-07-15T05:34:51.775Z"
   },
   {
    "duration": 36,
    "start_time": "2022-07-15T05:34:51.790Z"
   },
   {
    "duration": 13,
    "start_time": "2022-07-15T05:34:51.828Z"
   },
   {
    "duration": 12,
    "start_time": "2022-07-15T05:34:51.843Z"
   },
   {
    "duration": 14,
    "start_time": "2022-07-15T05:34:51.857Z"
   },
   {
    "duration": 9,
    "start_time": "2022-07-15T05:34:51.873Z"
   },
   {
    "duration": 4,
    "start_time": "2022-07-15T05:34:51.884Z"
   },
   {
    "duration": 45,
    "start_time": "2022-07-15T05:34:51.890Z"
   },
   {
    "duration": 14,
    "start_time": "2022-07-15T05:34:51.936Z"
   },
   {
    "duration": 24,
    "start_time": "2022-07-15T05:34:51.952Z"
   },
   {
    "duration": 12,
    "start_time": "2022-07-15T05:34:51.977Z"
   },
   {
    "duration": 776,
    "start_time": "2022-07-15T05:35:04.678Z"
   },
   {
    "duration": 8,
    "start_time": "2022-07-15T05:36:01.899Z"
   },
   {
    "duration": 5,
    "start_time": "2022-07-15T05:37:16.686Z"
   },
   {
    "duration": 8,
    "start_time": "2022-07-15T05:37:33.501Z"
   },
   {
    "duration": 11,
    "start_time": "2022-07-15T05:38:08.675Z"
   },
   {
    "duration": 10,
    "start_time": "2022-07-15T05:38:22.108Z"
   },
   {
    "duration": 8,
    "start_time": "2022-07-15T05:38:36.370Z"
   },
   {
    "duration": 8,
    "start_time": "2022-07-15T05:39:11.081Z"
   },
   {
    "duration": 4,
    "start_time": "2022-07-15T05:39:16.353Z"
   },
   {
    "duration": 8,
    "start_time": "2022-07-15T05:40:09.039Z"
   },
   {
    "duration": 9,
    "start_time": "2022-07-15T05:41:45.596Z"
   },
   {
    "duration": 7,
    "start_time": "2022-07-15T05:42:01.631Z"
   },
   {
    "duration": 7,
    "start_time": "2022-07-15T05:43:01.427Z"
   },
   {
    "duration": 8,
    "start_time": "2022-07-15T05:43:19.354Z"
   },
   {
    "duration": 3,
    "start_time": "2022-07-15T05:43:31.928Z"
   },
   {
    "duration": 161,
    "start_time": "2022-07-15T05:43:31.933Z"
   },
   {
    "duration": 11,
    "start_time": "2022-07-15T05:43:32.096Z"
   },
   {
    "duration": 34,
    "start_time": "2022-07-15T05:43:32.108Z"
   },
   {
    "duration": 3,
    "start_time": "2022-07-15T05:43:32.144Z"
   },
   {
    "duration": 19,
    "start_time": "2022-07-15T05:43:32.148Z"
   },
   {
    "duration": 10,
    "start_time": "2022-07-15T05:43:32.169Z"
   },
   {
    "duration": 6,
    "start_time": "2022-07-15T05:43:32.180Z"
   },
   {
    "duration": 30,
    "start_time": "2022-07-15T05:43:32.188Z"
   },
   {
    "duration": 24,
    "start_time": "2022-07-15T05:43:32.224Z"
   },
   {
    "duration": 29,
    "start_time": "2022-07-15T05:43:32.252Z"
   },
   {
    "duration": 78,
    "start_time": "2022-07-15T05:43:32.283Z"
   },
   {
    "duration": 71,
    "start_time": "2022-07-15T05:43:32.362Z"
   },
   {
    "duration": 51,
    "start_time": "2022-07-15T05:43:32.436Z"
   },
   {
    "duration": 50,
    "start_time": "2022-07-15T05:43:32.489Z"
   },
   {
    "duration": 10,
    "start_time": "2022-07-15T05:43:32.540Z"
   },
   {
    "duration": 42,
    "start_time": "2022-07-15T05:43:32.552Z"
   },
   {
    "duration": 17,
    "start_time": "2022-07-15T05:43:32.596Z"
   },
   {
    "duration": 10,
    "start_time": "2022-07-15T05:43:32.623Z"
   },
   {
    "duration": 4,
    "start_time": "2022-07-15T05:43:32.634Z"
   },
   {
    "duration": 21,
    "start_time": "2022-07-15T05:43:32.639Z"
   },
   {
    "duration": 13,
    "start_time": "2022-07-15T05:43:32.662Z"
   },
   {
    "duration": 20,
    "start_time": "2022-07-15T05:43:32.677Z"
   },
   {
    "duration": 35,
    "start_time": "2022-07-15T05:43:32.699Z"
   },
   {
    "duration": 17,
    "start_time": "2022-07-15T05:43:32.736Z"
   },
   {
    "duration": 15,
    "start_time": "2022-07-15T05:43:32.755Z"
   },
   {
    "duration": 10,
    "start_time": "2022-07-15T05:43:32.772Z"
   },
   {
    "duration": 13,
    "start_time": "2022-07-15T05:43:32.784Z"
   },
   {
    "duration": 10,
    "start_time": "2022-07-15T05:43:32.823Z"
   },
   {
    "duration": 9,
    "start_time": "2022-07-15T05:43:32.835Z"
   },
   {
    "duration": 23,
    "start_time": "2022-07-15T05:43:32.845Z"
   },
   {
    "duration": 11,
    "start_time": "2022-07-15T05:43:32.870Z"
   },
   {
    "duration": 21,
    "start_time": "2022-07-15T05:43:32.883Z"
   },
   {
    "duration": 32,
    "start_time": "2022-07-15T05:43:32.906Z"
   },
   {
    "duration": 39,
    "start_time": "2022-07-15T05:44:02.568Z"
   },
   {
    "duration": 12,
    "start_time": "2022-07-15T05:44:13.639Z"
   },
   {
    "duration": 11,
    "start_time": "2022-07-15T05:45:01.077Z"
   },
   {
    "duration": 12,
    "start_time": "2022-07-15T07:12:30.677Z"
   },
   {
    "duration": 12,
    "start_time": "2022-07-15T07:15:32.363Z"
   },
   {
    "duration": 10,
    "start_time": "2022-07-15T07:16:50.406Z"
   },
   {
    "duration": 10,
    "start_time": "2022-07-15T07:31:19.380Z"
   },
   {
    "duration": 5,
    "start_time": "2022-07-15T07:31:21.428Z"
   },
   {
    "duration": 402,
    "start_time": "2022-07-15T07:32:26.391Z"
   },
   {
    "duration": 173,
    "start_time": "2022-07-15T07:32:26.795Z"
   },
   {
    "duration": 17,
    "start_time": "2022-07-15T07:32:26.969Z"
   },
   {
    "duration": 45,
    "start_time": "2022-07-15T07:32:26.988Z"
   },
   {
    "duration": 2,
    "start_time": "2022-07-15T07:32:27.035Z"
   },
   {
    "duration": 12,
    "start_time": "2022-07-15T07:32:27.038Z"
   },
   {
    "duration": 14,
    "start_time": "2022-07-15T07:32:27.051Z"
   },
   {
    "duration": 8,
    "start_time": "2022-07-15T07:32:27.067Z"
   },
   {
    "duration": 28,
    "start_time": "2022-07-15T07:32:27.077Z"
   },
   {
    "duration": 36,
    "start_time": "2022-07-15T07:32:27.108Z"
   },
   {
    "duration": 31,
    "start_time": "2022-07-15T07:32:27.147Z"
   },
   {
    "duration": 95,
    "start_time": "2022-07-15T07:32:27.180Z"
   },
   {
    "duration": 88,
    "start_time": "2022-07-15T07:32:27.277Z"
   },
   {
    "duration": 63,
    "start_time": "2022-07-15T07:32:27.367Z"
   },
   {
    "duration": 38,
    "start_time": "2022-07-15T07:32:27.432Z"
   },
   {
    "duration": 10,
    "start_time": "2022-07-15T07:32:27.471Z"
   },
   {
    "duration": 54,
    "start_time": "2022-07-15T07:32:27.483Z"
   },
   {
    "duration": 11,
    "start_time": "2022-07-15T07:32:27.538Z"
   },
   {
    "duration": 9,
    "start_time": "2022-07-15T07:32:27.551Z"
   },
   {
    "duration": 3,
    "start_time": "2022-07-15T07:32:27.562Z"
   },
   {
    "duration": 21,
    "start_time": "2022-07-15T07:32:27.567Z"
   },
   {
    "duration": 38,
    "start_time": "2022-07-15T07:32:27.590Z"
   },
   {
    "duration": 14,
    "start_time": "2022-07-15T07:32:27.630Z"
   },
   {
    "duration": 13,
    "start_time": "2022-07-15T07:32:27.645Z"
   },
   {
    "duration": 18,
    "start_time": "2022-07-15T07:32:27.659Z"
   },
   {
    "duration": 13,
    "start_time": "2022-07-15T07:32:27.679Z"
   },
   {
    "duration": 8,
    "start_time": "2022-07-15T07:32:27.723Z"
   },
   {
    "duration": 15,
    "start_time": "2022-07-15T07:32:27.734Z"
   },
   {
    "duration": 9,
    "start_time": "2022-07-15T07:32:27.751Z"
   },
   {
    "duration": 4,
    "start_time": "2022-07-15T07:32:27.761Z"
   },
   {
    "duration": 25,
    "start_time": "2022-07-15T07:32:27.767Z"
   },
   {
    "duration": 11,
    "start_time": "2022-07-15T07:32:27.794Z"
   },
   {
    "duration": 18,
    "start_time": "2022-07-15T07:32:27.823Z"
   },
   {
    "duration": 12,
    "start_time": "2022-07-15T07:32:27.842Z"
   },
   {
    "duration": 9,
    "start_time": "2022-07-15T07:32:33.464Z"
   },
   {
    "duration": 14,
    "start_time": "2022-07-15T07:32:42.302Z"
   },
   {
    "duration": 4,
    "start_time": "2022-07-15T07:33:31.591Z"
   },
   {
    "duration": 9,
    "start_time": "2022-07-15T07:34:01.530Z"
   },
   {
    "duration": 5,
    "start_time": "2022-07-15T07:34:04.514Z"
   },
   {
    "duration": 8,
    "start_time": "2022-07-15T07:35:54.124Z"
   },
   {
    "duration": 5,
    "start_time": "2022-07-15T07:36:09.610Z"
   }
  ],
  "colab": {
   "collapsed_sections": [
    "E0vqbgi9ay0H",
    "VUC88oWjTJw2"
   ],
   "name": "automatization_template_upd4.ipynb",
   "provenance": []
  },
  "kernelspec": {
   "display_name": "base",
   "language": "python",
   "name": "python3"
  },
  "language_info": {
   "codemirror_mode": {
    "name": "ipython",
    "version": 3
   },
   "file_extension": ".py",
   "mimetype": "text/x-python",
   "name": "python",
   "nbconvert_exporter": "python",
   "pygments_lexer": "ipython3",
   "version": "3.9.7"
  },
  "toc": {
   "base_numbering": 1,
   "nav_menu": {
    "height": "215px",
    "width": "403px"
   },
   "number_sections": true,
   "sideBar": true,
   "skip_h1_title": true,
   "title_cell": "Table of Contents",
   "title_sidebar": "Contents",
   "toc_cell": false,
   "toc_position": {
    "height": "calc(100% - 180px)",
    "left": "10px",
    "top": "150px",
    "width": "285.825px"
   },
   "toc_section_display": true,
   "toc_window_display": false
  },
  "vscode": {
   "interpreter": {
    "hash": "a077222d77dfe082b8f1dd562ad70e458ac2ab76993a0b248ab0476e32e9e8dd"
   }
  }
 },
 "nbformat": 4,
 "nbformat_minor": 1
}
