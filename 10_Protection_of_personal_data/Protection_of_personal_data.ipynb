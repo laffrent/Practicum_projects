{
 "cells": [
  {
   "attachments": {},
   "cell_type": "markdown",
   "metadata": {},
   "source": [
    "# Защита персональных данных клиентов страховой компании"
   ]
  },
  {
   "cell_type": "markdown",
   "metadata": {},
   "source": [
    "Нам нужно защитить данные клиентов страховой компании «Хоть потоп». Необходимо разработать такой метод преобразования данных, чтобы по ним было сложно восстановить персональную информацию, а также обосновать корректность его работы.\n",
    "\n",
    "Нужно защитить данные, чтобы при преобразовании качество моделей машинного обучения не ухудшилось. Подбирать наилучшую модель не требуется."
   ]
  },
  {
   "cell_type": "markdown",
   "metadata": {},
   "source": [
    "Признаки: пол, возраст и зарплата застрахованного, количество членов его семьи.\n",
    "\n",
    "Целевой признак: количество страховых выплат клиенту за последние 5 лет."
   ]
  },
  {
   "cell_type": "markdown",
   "metadata": {},
   "source": [
    "## Загрузка и изучение данных"
   ]
  },
  {
   "cell_type": "markdown",
   "metadata": {},
   "source": [
    "## Загрузка данных"
   ]
  },
  {
   "cell_type": "code",
   "execution_count": 5,
   "metadata": {
    "scrolled": true
   },
   "outputs": [],
   "source": [
    "import os\n",
    "import numpy as np\n",
    "import pandas as pd\n",
    "\n",
    "import pandas_profiling\n",
    "from pandas_profiling import ProfileReport\n",
    "\n",
    "import plotly.express as px\n",
    "import plotly.graph_objects as go\n",
    "\n",
    "from sklearn.linear_model import LinearRegression\n",
    "from sklearn.metrics import r2_score\n",
    "from sklearn.model_selection import train_test_split"
   ]
  },
  {
   "cell_type": "code",
   "execution_count": 6,
   "metadata": {},
   "outputs": [
    {
     "name": "stdout",
     "output_type": "stream",
     "text": [
      "Датасет успешно загружен с ЯндексПрактикум\n"
     ]
    }
   ],
   "source": [
    "pth1 = '/content/drive/MyDrive/data/insurance.csv'\n",
    "pth2 = 'insurance.csv'\n",
    "\n",
    "if os.path.exists(pth1):\n",
    "    df = pd.read_csv(pth1)\n",
    "    print(\"Датасет успешно загружен с G-диска\")\n",
    "elif os.path.exists(pth2):\n",
    "    df = pd.read_csv(pth2)\n",
    "    print(\"Датасет успешно загружен с ЯндексПрактикум\")\n",
    "else:\n",
    "    print(\"Проверьте правильность пути к датасету\")"
   ]
  },
  {
   "cell_type": "markdown",
   "metadata": {},
   "source": [
    "<div class=\"alert alert-success\">\n",
    "<font size=\"5\"><b>Комментарий ревьюера</b></font>\n",
    "\n",
    "Молодец что используешь конструкцию try - except (if - else), этим ты проявляешь уважение к тем кто будет работать с твоим кодом.\n",
    "\n",
    "</div>"
   ]
  },
  {
   "cell_type": "code",
   "execution_count": 7,
   "metadata": {},
   "outputs": [
    {
     "data": {
      "text/html": [
       "<div>\n",
       "<style scoped>\n",
       "    .dataframe tbody tr th:only-of-type {\n",
       "        vertical-align: middle;\n",
       "    }\n",
       "\n",
       "    .dataframe tbody tr th {\n",
       "        vertical-align: top;\n",
       "    }\n",
       "\n",
       "    .dataframe thead th {\n",
       "        text-align: right;\n",
       "    }\n",
       "</style>\n",
       "<table border=\"1\" class=\"dataframe\">\n",
       "  <thead>\n",
       "    <tr style=\"text-align: right;\">\n",
       "      <th></th>\n",
       "      <th>Пол</th>\n",
       "      <th>Возраст</th>\n",
       "      <th>Зарплата</th>\n",
       "      <th>Члены семьи</th>\n",
       "      <th>Страховые выплаты</th>\n",
       "    </tr>\n",
       "  </thead>\n",
       "  <tbody>\n",
       "    <tr>\n",
       "      <th>0</th>\n",
       "      <td>1</td>\n",
       "      <td>41.0</td>\n",
       "      <td>49600.0</td>\n",
       "      <td>1</td>\n",
       "      <td>0</td>\n",
       "    </tr>\n",
       "    <tr>\n",
       "      <th>1</th>\n",
       "      <td>0</td>\n",
       "      <td>46.0</td>\n",
       "      <td>38000.0</td>\n",
       "      <td>1</td>\n",
       "      <td>1</td>\n",
       "    </tr>\n",
       "    <tr>\n",
       "      <th>2</th>\n",
       "      <td>0</td>\n",
       "      <td>29.0</td>\n",
       "      <td>21000.0</td>\n",
       "      <td>0</td>\n",
       "      <td>0</td>\n",
       "    </tr>\n",
       "    <tr>\n",
       "      <th>3</th>\n",
       "      <td>0</td>\n",
       "      <td>21.0</td>\n",
       "      <td>41700.0</td>\n",
       "      <td>2</td>\n",
       "      <td>0</td>\n",
       "    </tr>\n",
       "    <tr>\n",
       "      <th>4</th>\n",
       "      <td>1</td>\n",
       "      <td>28.0</td>\n",
       "      <td>26100.0</td>\n",
       "      <td>0</td>\n",
       "      <td>0</td>\n",
       "    </tr>\n",
       "  </tbody>\n",
       "</table>\n",
       "</div>"
      ],
      "text/plain": [
       "   Пол  Возраст  Зарплата  Члены семьи  Страховые выплаты\n",
       "0    1     41.0   49600.0            1                  0\n",
       "1    0     46.0   38000.0            1                  1\n",
       "2    0     29.0   21000.0            0                  0\n",
       "3    0     21.0   41700.0            2                  0\n",
       "4    1     28.0   26100.0            0                  0"
      ]
     },
     "execution_count": 7,
     "metadata": {},
     "output_type": "execute_result"
    }
   ],
   "source": [
    "df.head()"
   ]
  },
  {
   "cell_type": "markdown",
   "metadata": {},
   "source": [
    "Переименуем столбцы"
   ]
  },
  {
   "cell_type": "code",
   "execution_count": 8,
   "metadata": {},
   "outputs": [],
   "source": [
    "df.columns = ['sex', 'age', 'salary', 'family_members', 'payments']"
   ]
  },
  {
   "cell_type": "code",
   "execution_count": 9,
   "metadata": {},
   "outputs": [
    {
     "data": {
      "text/html": [
       "<div>\n",
       "<style scoped>\n",
       "    .dataframe tbody tr th:only-of-type {\n",
       "        vertical-align: middle;\n",
       "    }\n",
       "\n",
       "    .dataframe tbody tr th {\n",
       "        vertical-align: top;\n",
       "    }\n",
       "\n",
       "    .dataframe thead th {\n",
       "        text-align: right;\n",
       "    }\n",
       "</style>\n",
       "<table border=\"1\" class=\"dataframe\">\n",
       "  <thead>\n",
       "    <tr style=\"text-align: right;\">\n",
       "      <th></th>\n",
       "      <th>sex</th>\n",
       "      <th>age</th>\n",
       "      <th>salary</th>\n",
       "      <th>family_members</th>\n",
       "      <th>payments</th>\n",
       "    </tr>\n",
       "  </thead>\n",
       "  <tbody>\n",
       "    <tr>\n",
       "      <th>count</th>\n",
       "      <td>5000.000000</td>\n",
       "      <td>5000.000000</td>\n",
       "      <td>5000.000000</td>\n",
       "      <td>5000.000000</td>\n",
       "      <td>5000.000000</td>\n",
       "    </tr>\n",
       "    <tr>\n",
       "      <th>mean</th>\n",
       "      <td>0.499000</td>\n",
       "      <td>30.952800</td>\n",
       "      <td>39916.360000</td>\n",
       "      <td>1.194200</td>\n",
       "      <td>0.148000</td>\n",
       "    </tr>\n",
       "    <tr>\n",
       "      <th>std</th>\n",
       "      <td>0.500049</td>\n",
       "      <td>8.440807</td>\n",
       "      <td>9900.083569</td>\n",
       "      <td>1.091387</td>\n",
       "      <td>0.463183</td>\n",
       "    </tr>\n",
       "    <tr>\n",
       "      <th>min</th>\n",
       "      <td>0.000000</td>\n",
       "      <td>18.000000</td>\n",
       "      <td>5300.000000</td>\n",
       "      <td>0.000000</td>\n",
       "      <td>0.000000</td>\n",
       "    </tr>\n",
       "    <tr>\n",
       "      <th>25%</th>\n",
       "      <td>0.000000</td>\n",
       "      <td>24.000000</td>\n",
       "      <td>33300.000000</td>\n",
       "      <td>0.000000</td>\n",
       "      <td>0.000000</td>\n",
       "    </tr>\n",
       "    <tr>\n",
       "      <th>50%</th>\n",
       "      <td>0.000000</td>\n",
       "      <td>30.000000</td>\n",
       "      <td>40200.000000</td>\n",
       "      <td>1.000000</td>\n",
       "      <td>0.000000</td>\n",
       "    </tr>\n",
       "    <tr>\n",
       "      <th>75%</th>\n",
       "      <td>1.000000</td>\n",
       "      <td>37.000000</td>\n",
       "      <td>46600.000000</td>\n",
       "      <td>2.000000</td>\n",
       "      <td>0.000000</td>\n",
       "    </tr>\n",
       "    <tr>\n",
       "      <th>max</th>\n",
       "      <td>1.000000</td>\n",
       "      <td>65.000000</td>\n",
       "      <td>79000.000000</td>\n",
       "      <td>6.000000</td>\n",
       "      <td>5.000000</td>\n",
       "    </tr>\n",
       "  </tbody>\n",
       "</table>\n",
       "</div>"
      ],
      "text/plain": [
       "               sex          age        salary  family_members     payments\n",
       "count  5000.000000  5000.000000   5000.000000     5000.000000  5000.000000\n",
       "mean      0.499000    30.952800  39916.360000        1.194200     0.148000\n",
       "std       0.500049     8.440807   9900.083569        1.091387     0.463183\n",
       "min       0.000000    18.000000   5300.000000        0.000000     0.000000\n",
       "25%       0.000000    24.000000  33300.000000        0.000000     0.000000\n",
       "50%       0.000000    30.000000  40200.000000        1.000000     0.000000\n",
       "75%       1.000000    37.000000  46600.000000        2.000000     0.000000\n",
       "max       1.000000    65.000000  79000.000000        6.000000     5.000000"
      ]
     },
     "execution_count": 9,
     "metadata": {},
     "output_type": "execute_result"
    }
   ],
   "source": [
    "df.describe()"
   ]
  },
  {
   "cell_type": "code",
   "execution_count": 10,
   "metadata": {},
   "outputs": [
    {
     "name": "stdout",
     "output_type": "stream",
     "text": [
      "<class 'pandas.core.frame.DataFrame'>\n",
      "RangeIndex: 5000 entries, 0 to 4999\n",
      "Data columns (total 5 columns):\n",
      " #   Column          Non-Null Count  Dtype  \n",
      "---  ------          --------------  -----  \n",
      " 0   sex             5000 non-null   int64  \n",
      " 1   age             5000 non-null   float64\n",
      " 2   salary          5000 non-null   float64\n",
      " 3   family_members  5000 non-null   int64  \n",
      " 4   payments        5000 non-null   int64  \n",
      "dtypes: float64(2), int64(3)\n",
      "memory usage: 195.4 KB\n"
     ]
    }
   ],
   "source": [
    "df.info()"
   ]
  },
  {
   "cell_type": "markdown",
   "metadata": {},
   "source": [
    "Пропусков нет. Два столбца с дробными значениями проверим"
   ]
  },
  {
   "cell_type": "code",
   "execution_count": 11,
   "metadata": {
    "scrolled": false
   },
   "outputs": [
    {
     "data": {
      "text/plain": [
       "array([41., 46., 29., 21., 28., 43., 39., 25., 36., 32., 38., 23., 40.,\n",
       "       34., 26., 42., 27., 33., 47., 30., 19., 31., 22., 20., 24., 18.,\n",
       "       37., 48., 45., 44., 52., 49., 35., 56., 65., 55., 57., 54., 50.,\n",
       "       53., 51., 58., 59., 60., 61., 62.])"
      ]
     },
     "execution_count": 11,
     "metadata": {},
     "output_type": "execute_result"
    }
   ],
   "source": [
    "df.age.unique()"
   ]
  },
  {
   "cell_type": "code",
   "execution_count": 12,
   "metadata": {
    "scrolled": true
   },
   "outputs": [
    {
     "data": {
      "text/plain": [
       "array([49600., 38000., 21000., 41700., 26100., 41000., 39700., 38600.,\n",
       "       49700., 51700., 36600., 29300., 39500., 55000., 43700., 23300.,\n",
       "       48900., 33200., 36900., 43500., 36100., 26600., 48700., 40400.,\n",
       "       38400., 34600., 34800., 36800., 42200., 46300., 30300., 51000.,\n",
       "       28100., 64800., 30400., 45300., 38300., 49500., 19400., 40200.,\n",
       "       31700., 69200., 33100., 31600., 34500., 38700., 39600., 42400.,\n",
       "       34900., 30500., 24200., 49900., 14300., 47000., 44800., 43800.,\n",
       "       42700., 35400., 57200., 29600., 37400., 48100., 33700., 61800.,\n",
       "       39400., 15600., 52600., 37600., 52500., 32700., 51600., 60900.,\n",
       "       41800., 47400., 26500., 45900., 35700., 34300., 26700., 25700.,\n",
       "       33300., 31100., 31500., 42100., 37300., 42500., 27300., 46800.,\n",
       "       33500., 44300., 41600., 53900., 40100., 44600., 45000., 32000.,\n",
       "       38200., 33000., 38500., 51800., 33800., 46400., 43200., 31800.,\n",
       "       50200., 35100., 30700., 45800., 49300., 42800., 33600., 50300.,\n",
       "       34000., 36400., 44900., 43600., 54600., 52800., 29700., 39000.,\n",
       "       44100., 31900., 37700., 35200., 43100., 51300., 47500., 40800.,\n",
       "       26800., 64900., 35900., 31200., 39900., 43300., 33900., 40700.,\n",
       "       44700., 53400., 30600., 56000., 35600., 55200., 40600., 48300.,\n",
       "       50800., 41200., 44200., 44400., 40500., 39800., 16600., 48400.,\n",
       "       25100., 23100., 32100., 31000., 42900., 46700., 26000., 55900.,\n",
       "       52000., 41500., 49400., 60300., 45600., 49000., 37500., 21900.,\n",
       "       45100., 47900., 54300., 32400., 41300., 44500., 23200., 37900.,\n",
       "       48000., 52100., 45700., 29900., 42600., 45200., 36000., 46500.,\n",
       "       23800., 30200., 24400., 32800., 29000., 43400., 51500., 61700.,\n",
       "       45400., 50700., 36200., 41900., 27900., 47200., 48800., 55100.,\n",
       "       48200., 35500., 35000., 43900., 40000., 22000., 40300., 36300.,\n",
       "       49800., 25600., 42300., 54900., 25500., 32900., 36700., 38900.,\n",
       "       24700., 28800., 22900., 47300., 14500., 28700., 44000., 34100.,\n",
       "       53000., 59300., 28500., 47100., 41400., 58900., 17500., 54200.,\n",
       "       43000., 29800., 20000., 13800., 27500., 67700., 28000., 37100.,\n",
       "        8900., 14600., 56200., 38800., 27700., 50500., 58400., 34700.,\n",
       "       34400., 49100., 50900., 28200., 61500., 32500., 25900.,  9800.,\n",
       "       28300., 41100., 62000., 32600., 37200., 53800., 24000., 53600.,\n",
       "       54800., 59600., 20200., 21700., 29200., 38100., 20700., 32300.,\n",
       "       21200., 62100., 54000., 24500., 51900., 47800., 56100., 55300.,\n",
       "       58100., 28900., 39100., 58000., 27200., 24600., 30100., 57100.,\n",
       "       60100., 22200., 47700., 24900., 37800., 52700., 34200., 18700.,\n",
       "       42000., 26300., 22600., 30900., 35800., 30800., 51100., 53300.,\n",
       "       46200., 24100., 54700., 51200., 62300., 51400., 40900., 23400.,\n",
       "       35300., 55800., 33400., 21300., 30000., 56700., 46900.,  5300.,\n",
       "       39200., 57500., 31300., 53700., 21600., 50000., 36500., 16400.,\n",
       "       15900., 65100., 59900., 63200., 26200., 61200., 48500., 32200.,\n",
       "       29100., 50100., 22700., 28600., 23500., 23700., 19600., 17800.,\n",
       "       50600., 57900., 22500., 22100., 58300., 64100., 25000., 60400.,\n",
       "       59100., 37000., 62400., 29500., 25800., 25400., 26900., 21500.,\n",
       "       52200., 46600., 57300., 46100., 19300., 18900., 31400., 28400.,\n",
       "       29400., 17600., 13900., 52400., 11300., 46000., 60500., 58700.,\n",
       "       58200., 24800., 63700., 60600., 20400., 26400., 55600., 57000.,\n",
       "       45500., 48600., 57600., 52900., 62800., 17000., 56500., 52300.,\n",
       "       18400., 63300., 12900., 27000., 55700., 39300., 27800., 18300.,\n",
       "       56300., 59800., 24300., 14400., 13400., 17900., 47600., 54500.,\n",
       "       54400., 23900., 13000., 19900., 55400., 22800., 61000., 57400.,\n",
       "       23000., 20500., 53200., 18100., 25300., 59500., 18200., 50400.,\n",
       "       21100., 20900., 27400., 17300., 60700., 70600., 17700., 19700.,\n",
       "       49200., 63100., 59200., 14700., 53100., 21800., 68000., 16500.,\n",
       "       71400., 10000., 55500., 54100., 56400., 20600., 66300., 18800.,\n",
       "       11000., 66100., 27100., 57800., 53500., 19200., 58500., 64000.,\n",
       "       63600., 23600., 25200., 19100., 18600., 57700., 62700., 56600.,\n",
       "       21400., 58800., 68400., 17100., 13300., 68500., 56900., 64400.,\n",
       "       27600., 67200., 16200., 58600., 62200., 16000., 79000., 22300.,\n",
       "       11200., 71600., 61300., 70500., 67100., 59000., 13500., 16700.,\n",
       "       15700., 60000., 17400., 63400., 61900., 65200., 62600., 14100.,\n",
       "       20100., 63800., 15100., 70000., 60200., 20300., 65900., 15200.,\n",
       "       63500., 13200., 68900., 12200.,  6000., 74800., 59700., 10800.,\n",
       "       19000., 10600., 69400., 15000., 75200., 62500., 16300., 20800.,\n",
       "        7400., 65300., 61400., 56800.])"
      ]
     },
     "execution_count": 12,
     "metadata": {},
     "output_type": "execute_result"
    }
   ],
   "source": [
    "df.salary.unique()"
   ]
  },
  {
   "cell_type": "markdown",
   "metadata": {},
   "source": [
    "Остальные столбцы целочисленные преобразуем весь датафрейм"
   ]
  },
  {
   "cell_type": "code",
   "execution_count": 13,
   "metadata": {},
   "outputs": [],
   "source": [
    "df = df.astype(int)"
   ]
  },
  {
   "cell_type": "markdown",
   "metadata": {},
   "source": [
    "Проверим на дубликаты"
   ]
  },
  {
   "cell_type": "code",
   "execution_count": 14,
   "metadata": {},
   "outputs": [
    {
     "name": "stdout",
     "output_type": "stream",
     "text": [
      "Кол-во дубликатов: 153 Доля дубликатов: 0.0306\n"
     ]
    }
   ],
   "source": [
    "print('Кол-во дубликатов:', df.duplicated().sum(), \"Доля дубликатов:\", df.duplicated().sum() / len(df))"
   ]
  },
  {
   "cell_type": "code",
   "execution_count": 15,
   "metadata": {
    "scrolled": true
   },
   "outputs": [
    {
     "data": {
      "text/html": [
       "<div>\n",
       "<style scoped>\n",
       "    .dataframe tbody tr th:only-of-type {\n",
       "        vertical-align: middle;\n",
       "    }\n",
       "\n",
       "    .dataframe tbody tr th {\n",
       "        vertical-align: top;\n",
       "    }\n",
       "\n",
       "    .dataframe thead th {\n",
       "        text-align: right;\n",
       "    }\n",
       "</style>\n",
       "<table border=\"1\" class=\"dataframe\">\n",
       "  <thead>\n",
       "    <tr style=\"text-align: right;\">\n",
       "      <th></th>\n",
       "      <th>sex</th>\n",
       "      <th>age</th>\n",
       "      <th>salary</th>\n",
       "      <th>family_members</th>\n",
       "      <th>payments</th>\n",
       "    </tr>\n",
       "  </thead>\n",
       "  <tbody>\n",
       "    <tr>\n",
       "      <th>4041</th>\n",
       "      <td>1</td>\n",
       "      <td>36</td>\n",
       "      <td>35000</td>\n",
       "      <td>1</td>\n",
       "      <td>0</td>\n",
       "    </tr>\n",
       "    <tr>\n",
       "      <th>3087</th>\n",
       "      <td>0</td>\n",
       "      <td>31</td>\n",
       "      <td>49400</td>\n",
       "      <td>1</td>\n",
       "      <td>0</td>\n",
       "    </tr>\n",
       "    <tr>\n",
       "      <th>1671</th>\n",
       "      <td>1</td>\n",
       "      <td>23</td>\n",
       "      <td>41900</td>\n",
       "      <td>2</td>\n",
       "      <td>0</td>\n",
       "    </tr>\n",
       "    <tr>\n",
       "      <th>3476</th>\n",
       "      <td>0</td>\n",
       "      <td>25</td>\n",
       "      <td>43400</td>\n",
       "      <td>0</td>\n",
       "      <td>0</td>\n",
       "    </tr>\n",
       "    <tr>\n",
       "      <th>2694</th>\n",
       "      <td>1</td>\n",
       "      <td>19</td>\n",
       "      <td>52600</td>\n",
       "      <td>0</td>\n",
       "      <td>0</td>\n",
       "    </tr>\n",
       "    <tr>\n",
       "      <th>3894</th>\n",
       "      <td>0</td>\n",
       "      <td>21</td>\n",
       "      <td>41700</td>\n",
       "      <td>2</td>\n",
       "      <td>0</td>\n",
       "    </tr>\n",
       "    <tr>\n",
       "      <th>2553</th>\n",
       "      <td>0</td>\n",
       "      <td>26</td>\n",
       "      <td>36100</td>\n",
       "      <td>1</td>\n",
       "      <td>0</td>\n",
       "    </tr>\n",
       "    <tr>\n",
       "      <th>4052</th>\n",
       "      <td>0</td>\n",
       "      <td>32</td>\n",
       "      <td>48700</td>\n",
       "      <td>2</td>\n",
       "      <td>0</td>\n",
       "    </tr>\n",
       "    <tr>\n",
       "      <th>4125</th>\n",
       "      <td>0</td>\n",
       "      <td>20</td>\n",
       "      <td>41500</td>\n",
       "      <td>2</td>\n",
       "      <td>0</td>\n",
       "    </tr>\n",
       "    <tr>\n",
       "      <th>869</th>\n",
       "      <td>1</td>\n",
       "      <td>24</td>\n",
       "      <td>33100</td>\n",
       "      <td>1</td>\n",
       "      <td>0</td>\n",
       "    </tr>\n",
       "    <tr>\n",
       "      <th>4425</th>\n",
       "      <td>1</td>\n",
       "      <td>40</td>\n",
       "      <td>39300</td>\n",
       "      <td>0</td>\n",
       "      <td>0</td>\n",
       "    </tr>\n",
       "    <tr>\n",
       "      <th>488</th>\n",
       "      <td>1</td>\n",
       "      <td>24</td>\n",
       "      <td>32900</td>\n",
       "      <td>1</td>\n",
       "      <td>0</td>\n",
       "    </tr>\n",
       "    <tr>\n",
       "      <th>3588</th>\n",
       "      <td>0</td>\n",
       "      <td>24</td>\n",
       "      <td>52700</td>\n",
       "      <td>1</td>\n",
       "      <td>0</td>\n",
       "    </tr>\n",
       "    <tr>\n",
       "      <th>785</th>\n",
       "      <td>0</td>\n",
       "      <td>20</td>\n",
       "      <td>35800</td>\n",
       "      <td>0</td>\n",
       "      <td>0</td>\n",
       "    </tr>\n",
       "    <tr>\n",
       "      <th>3809</th>\n",
       "      <td>1</td>\n",
       "      <td>28</td>\n",
       "      <td>45300</td>\n",
       "      <td>0</td>\n",
       "      <td>0</td>\n",
       "    </tr>\n",
       "    <tr>\n",
       "      <th>2819</th>\n",
       "      <td>0</td>\n",
       "      <td>37</td>\n",
       "      <td>37300</td>\n",
       "      <td>1</td>\n",
       "      <td>0</td>\n",
       "    </tr>\n",
       "    <tr>\n",
       "      <th>1893</th>\n",
       "      <td>1</td>\n",
       "      <td>30</td>\n",
       "      <td>49900</td>\n",
       "      <td>1</td>\n",
       "      <td>0</td>\n",
       "    </tr>\n",
       "    <tr>\n",
       "      <th>4306</th>\n",
       "      <td>0</td>\n",
       "      <td>21</td>\n",
       "      <td>37200</td>\n",
       "      <td>0</td>\n",
       "      <td>0</td>\n",
       "    </tr>\n",
       "    <tr>\n",
       "      <th>4266</th>\n",
       "      <td>0</td>\n",
       "      <td>32</td>\n",
       "      <td>50400</td>\n",
       "      <td>1</td>\n",
       "      <td>0</td>\n",
       "    </tr>\n",
       "    <tr>\n",
       "      <th>1251</th>\n",
       "      <td>1</td>\n",
       "      <td>37</td>\n",
       "      <td>31200</td>\n",
       "      <td>2</td>\n",
       "      <td>0</td>\n",
       "    </tr>\n",
       "  </tbody>\n",
       "</table>\n",
       "</div>"
      ],
      "text/plain": [
       "      sex  age  salary  family_members  payments\n",
       "4041    1   36   35000               1         0\n",
       "3087    0   31   49400               1         0\n",
       "1671    1   23   41900               2         0\n",
       "3476    0   25   43400               0         0\n",
       "2694    1   19   52600               0         0\n",
       "3894    0   21   41700               2         0\n",
       "2553    0   26   36100               1         0\n",
       "4052    0   32   48700               2         0\n",
       "4125    0   20   41500               2         0\n",
       "869     1   24   33100               1         0\n",
       "4425    1   40   39300               0         0\n",
       "488     1   24   32900               1         0\n",
       "3588    0   24   52700               1         0\n",
       "785     0   20   35800               0         0\n",
       "3809    1   28   45300               0         0\n",
       "2819    0   37   37300               1         0\n",
       "1893    1   30   49900               1         0\n",
       "4306    0   21   37200               0         0\n",
       "4266    0   32   50400               1         0\n",
       "1251    1   37   31200               2         0"
      ]
     },
     "execution_count": 15,
     "metadata": {},
     "output_type": "execute_result"
    }
   ],
   "source": [
    "df[df.duplicated()].sample(20)"
   ]
  },
  {
   "cell_type": "markdown",
   "metadata": {},
   "source": [
    "Данных для определения реальны ли дубликаты или совпадение - не достаточно, оставим как есть"
   ]
  },
  {
   "cell_type": "code",
   "execution_count": 16,
   "metadata": {},
   "outputs": [],
   "source": [
    "profile = ProfileReport(df, progress_bar=False)"
   ]
  },
  {
   "cell_type": "code",
   "execution_count": 20,
   "metadata": {},
   "outputs": [],
   "source": [
    "profile.to_file('report.html')"
   ]
  },
  {
   "cell_type": "code",
   "execution_count": 18,
   "metadata": {},
   "outputs": [
    {
     "data": {
      "text/html": [
       "<div>\n",
       "<style scoped>\n",
       "    .dataframe tbody tr th:only-of-type {\n",
       "        vertical-align: middle;\n",
       "    }\n",
       "\n",
       "    .dataframe tbody tr th {\n",
       "        vertical-align: top;\n",
       "    }\n",
       "\n",
       "    .dataframe thead th {\n",
       "        text-align: right;\n",
       "    }\n",
       "</style>\n",
       "<table border=\"1\" class=\"dataframe\">\n",
       "  <thead>\n",
       "    <tr style=\"text-align: right;\">\n",
       "      <th></th>\n",
       "      <th>sex</th>\n",
       "      <th>age</th>\n",
       "      <th>salary</th>\n",
       "      <th>family_members</th>\n",
       "      <th>payments</th>\n",
       "    </tr>\n",
       "  </thead>\n",
       "  <tbody>\n",
       "    <tr>\n",
       "      <th>228</th>\n",
       "      <td>1</td>\n",
       "      <td>65</td>\n",
       "      <td>39700</td>\n",
       "      <td>1</td>\n",
       "      <td>5</td>\n",
       "    </tr>\n",
       "    <tr>\n",
       "      <th>1568</th>\n",
       "      <td>1</td>\n",
       "      <td>59</td>\n",
       "      <td>32100</td>\n",
       "      <td>0</td>\n",
       "      <td>4</td>\n",
       "    </tr>\n",
       "    <tr>\n",
       "      <th>2240</th>\n",
       "      <td>0</td>\n",
       "      <td>60</td>\n",
       "      <td>27900</td>\n",
       "      <td>0</td>\n",
       "      <td>4</td>\n",
       "    </tr>\n",
       "    <tr>\n",
       "      <th>3117</th>\n",
       "      <td>0</td>\n",
       "      <td>60</td>\n",
       "      <td>43400</td>\n",
       "      <td>2</td>\n",
       "      <td>4</td>\n",
       "    </tr>\n",
       "    <tr>\n",
       "      <th>3209</th>\n",
       "      <td>1</td>\n",
       "      <td>59</td>\n",
       "      <td>51700</td>\n",
       "      <td>2</td>\n",
       "      <td>4</td>\n",
       "    </tr>\n",
       "    <tr>\n",
       "      <th>3674</th>\n",
       "      <td>1</td>\n",
       "      <td>59</td>\n",
       "      <td>29600</td>\n",
       "      <td>0</td>\n",
       "      <td>4</td>\n",
       "    </tr>\n",
       "    <tr>\n",
       "      <th>3907</th>\n",
       "      <td>1</td>\n",
       "      <td>61</td>\n",
       "      <td>39600</td>\n",
       "      <td>1</td>\n",
       "      <td>4</td>\n",
       "    </tr>\n",
       "    <tr>\n",
       "      <th>4019</th>\n",
       "      <td>0</td>\n",
       "      <td>62</td>\n",
       "      <td>14100</td>\n",
       "      <td>0</td>\n",
       "      <td>4</td>\n",
       "    </tr>\n",
       "  </tbody>\n",
       "</table>\n",
       "</div>"
      ],
      "text/plain": [
       "      sex  age  salary  family_members  payments\n",
       "228     1   65   39700               1         5\n",
       "1568    1   59   32100               0         4\n",
       "2240    0   60   27900               0         4\n",
       "3117    0   60   43400               2         4\n",
       "3209    1   59   51700               2         4\n",
       "3674    1   59   29600               0         4\n",
       "3907    1   61   39600               1         4\n",
       "4019    0   62   14100               0         4"
      ]
     },
     "execution_count": 18,
     "metadata": {},
     "output_type": "execute_result"
    }
   ],
   "source": [
    "df.query('payments >= 4')"
   ]
  },
  {
   "cell_type": "markdown",
   "metadata": {},
   "source": [
    "Все клиенты которые получили от 4 выплат и выше были старше 59 лет."
   ]
  },
  {
   "cell_type": "code",
   "execution_count": 22,
   "metadata": {},
   "outputs": [
    {
     "data": {
      "image/png": "[encoded data removed]"
     },
     "metadata": {},
     "output_type": "display_data"
    }
   ],
   "source": [
    "corr_matrix = df[['age', 'payments']].corr()\n",
    "\n",
    "fig = px.imshow(corr_matrix,\n",
    "                text_auto=True,\n",
    "                width=600, \n",
    "                height=600,\n",
    "                color_continuous_scale='Hot')\n",
    "    \n",
    "fig.update_xaxes(side=\"top\")\n",
    "fig.update_layout(title=\"Корреляционная матрица параметров\")\n",
    "fig.update_layout(width=500, height=500)\n",
    "fig.show('png')"
   ]
  },
  {
   "cell_type": "markdown",
   "metadata": {},
   "source": [
    "Наибольшая корреляция между целевым признаком и возрастом клиента"
   ]
  },
  {
   "cell_type": "code",
   "execution_count": 23,
   "metadata": {},
   "outputs": [
    {
     "data": {
      "image/png": "[encoded data removed]"
     },
     "metadata": {},
     "output_type": "display_data"
    }
   ],
   "source": [
    "fig = px.scatter_3d(df.sample(n=3000), \n",
    "                    x='age', \n",
    "                    y='salary', \n",
    "                    z='family_members', \n",
    "                    color='payments',\n",
    "                    symbol='sex',\n",
    "                    opacity=0.7)\n",
    "fig.update_traces(marker_size = 3)\n",
    "\n",
    "fig.update_layout(width=500, height=500)\n",
    "fig.show('png')"
   ]
  },
  {
   "cell_type": "markdown",
   "metadata": {},
   "source": [
    "Видим довольно отчетливую закономерность между возрастом и количеством страховых выплат."
   ]
  },
  {
   "cell_type": "markdown",
   "metadata": {},
   "source": [
    "**Вывод:**\n",
    "Нам представлена выборка с данными о 5000 клиентах, по 5 признаков. Преобразовали два столбца с целыми значениями в целочисленный тип. Явные дубликаты в таблице обнаружить затруднительно, примем что они отсутствуют.  Данные распределены, в целом, ожидаемо. Явных выбросов нет.\n",
    "* Столбец пол - два значения, распределены примерно поровну\n",
    "* Возраст клиентов от 18 до 65 лет. Чаще всего встречаются клиенты от 18 до 30 лет\n",
    "* Доход клиентов распределен равномерно от 5300 до 79000 среднее и медиана около 40000\n",
    "* Кол-во членов семьи распределено от 0 до 6, причем почти половину занимают одинокие или с одним членом семьи(или указавшие такие значения)\n",
    "* Кол-во выплат - целевой признак, 88,7% клиентов не получали страховых выплат, максимальное значение 5 выплат и это всего у одного клиента."
   ]
  },
  {
   "cell_type": "markdown",
   "metadata": {},
   "source": [
    "## Умножение матриц"
   ]
  },
  {
   "cell_type": "markdown",
   "metadata": {},
   "source": [
    "Приведем математическое доказательство того, что при преобразовании данных с помощью умножения на матрицу, линейная регрессия обработает их верно:"
   ]
  },
  {
   "cell_type": "markdown",
   "metadata": {},
   "source": [
    "Обозначения:\n",
    "\n",
    "- $X$ — матрица признаков (нулевой столбец состоит из единиц)\n",
    "\n",
    "- $y$ — вектор целевого признака\n",
    "\n",
    "- $P$ — матрица, на которую умножаются признаки\n",
    "\n",
    "- $w$ — вектор весов линейной регрессии (нулевой элемент равен сдвигу)"
   ]
  },
  {
   "cell_type": "markdown",
   "metadata": {},
   "source": [
    "Предсказания:\n",
    "\n",
    "$$\n",
    "a = Xw\n",
    "$$\n",
    "\n",
    "Задача обучения:\n",
    "\n",
    "$$\n",
    "w = \\arg\\min_w MSE(Xw, y)\n",
    "$$\n",
    "\n",
    "Формула обучения:\n",
    "\n",
    "$$\n",
    "w = (X^T X)^{-1} X^T y\n",
    "$$\n",
    "\n",
    "Нам нужно доказать что данные до преобразования и после, соответственно:\n",
    "$\n",
    "a = a_k\n",
    "$\n",
    ", дадут одинаковый результат для линейной регрессии\n",
    "\n",
    "Подставим формулу обучения в предсказаия:\n",
    "\n",
    "$$\n",
    "a = X (X^T X)^{-1} X^T y \n",
    "$$\n",
    "\n",
    "Теперь для зашифрованых данных, полученных умножением на матрицу К\n",
    "\n",
    "$$\n",
    "a_k = XK((XK)^T XK)^{-1} (XK)^T y\n",
    "$$\n",
    "\n",
    "Пользуясь свойствами умножения на обратную матрицу, преобразуем выражение\n",
    "\n",
    "$$\n",
    "a_k = XK(K^TX^T XK)^{-1} K^TX^T y\n",
    "$$\n",
    "\n",
    "$$\n",
    "a_k = XKK^{-1} (X^T X)^{-1} (K^T)^{-1} K^TX^T y\n",
    "$$\n",
    "\n",
    "сокращаем до единичных матриц:\n",
    "$\n",
    "KK^{-1}\n",
    "$\n",
    "и\n",
    "$\n",
    "(K^T)^{-1} K^T\n",
    "$\n",
    "\n",
    "и получаем ровно то же выражение что и для\n",
    "$\n",
    "a:\n",
    "$\n",
    "\n",
    "$$\n",
    "a_k = X(X^T X)^{-1}X^T y\n",
    "$$\n",
    "\n",
    "соответственно, мы доказали, что \n",
    "$\n",
    "a = a_k\n",
    "$\n",
    "\n"
   ]
  },
  {
   "cell_type": "markdown",
   "metadata": {},
   "source": [
    "**Ответ:** Преобразование данных умножением на матрицу не повлияет на результат работы линейной регрессии"
   ]
  },
  {
   "cell_type": "markdown",
   "metadata": {},
   "source": [
    "## Алгоритм преобразования"
   ]
  },
  {
   "cell_type": "markdown",
   "metadata": {},
   "source": [
    "**Алгоритм**\n",
    "\n",
    "На основании выше преведенного доказательства для шифрования данных произведем следующие преобразования:\n",
    "\n",
    "Для начала выберем размер ключа(матрицы для шифрования).\n",
    "\n",
    "Исходя из условия того что наша матрица должна быть обратима и она должна будет умножаться на матрицу значений признаков с количеством столбцов 4, следовательно она должна быть квадратной и размером 4Х4. \n",
    "\n",
    "Для проверки на обратимость воспользуемся свойством детерминанта обратимой матрицы - он должен быть **не равен 0**"
   ]
  },
  {
   "cell_type": "code",
   "execution_count": 24,
   "metadata": {},
   "outputs": [],
   "source": [
    "def cryptogenerator(train, test):\n",
    "    det = 0\n",
    "    while det == 0:\n",
    "        matrix = np.random.normal(size=(train.shape[1], train.shape[1]))\n",
    "        det = np.linalg.det(matrix)\n",
    "    return np.matmul(train.values, matrix), np.matmul(test.values, matrix)"
   ]
  },
  {
   "cell_type": "markdown",
   "metadata": {},
   "source": [
    "Подготовим и преобразуем признаки"
   ]
  },
  {
   "cell_type": "code",
   "execution_count": 25,
   "metadata": {},
   "outputs": [
    {
     "name": "stdout",
     "output_type": "stream",
     "text": [
      "Обучающая выборка:\n",
      "Доля от общего размера: 0.75\n",
      "Cтрок, столбцов: (3750, 4)\n",
      "Доля целевого признака: 0.148\n",
      "- - - - - - - - - - \n",
      "Тестовая выборка:\n",
      "Доля от общего размера: 0.25\n",
      "Cтрок, столбцов: (1250, 4)\n",
      "Доля целевого признака: 0.148\n",
      "------------------------------\n"
     ]
    }
   ],
   "source": [
    "X, y = df.drop(['payments'], axis=1), df['payments']\n",
    "\n",
    "X_train, X_test, y_train, y_test = train_test_split(\n",
    "    X, y, \n",
    "    test_size=0.25, \n",
    "    random_state=42, \n",
    "    shuffle=True)\n",
    "\n",
    "print('Обучающая выборка:')\n",
    "print('Доля от общего размера:', round(y_train.shape[0]/df.shape[0], 2))\n",
    "print('Cтрок, столбцов:', X_train.shape)\n",
    "print('Доля целевого признака:', round(y_train.mean(), 3))\n",
    "print('- '*10)\n",
    "\n",
    "\n",
    "print('Тестовая выборка:')\n",
    "print('Доля от общего размера:', round(y_test.shape[0]/df.shape[0], 2))\n",
    "print('Cтрок, столбцов:', X_test.shape)\n",
    "print('Доля целевого признака:', round(y_test.mean(), 3))\n",
    "print('-'*30)"
   ]
  },
  {
   "cell_type": "markdown",
   "metadata": {},
   "source": [
    "Зашифруем признаки тренировочной и тестовой выборки"
   ]
  },
  {
   "cell_type": "code",
   "execution_count": 26,
   "metadata": {},
   "outputs": [],
   "source": [
    "X_train_crypt, X_test_crypt = cryptogenerator(X_train, X_test)"
   ]
  },
  {
   "cell_type": "markdown",
   "metadata": {},
   "source": [
    "Проверим результат"
   ]
  },
  {
   "cell_type": "code",
   "execution_count": 27,
   "metadata": {},
   "outputs": [
    {
     "data": {
      "text/html": [
       "<div>\n",
       "<style scoped>\n",
       "    .dataframe tbody tr th:only-of-type {\n",
       "        vertical-align: middle;\n",
       "    }\n",
       "\n",
       "    .dataframe tbody tr th {\n",
       "        vertical-align: top;\n",
       "    }\n",
       "\n",
       "    .dataframe thead th {\n",
       "        text-align: right;\n",
       "    }\n",
       "</style>\n",
       "<table border=\"1\" class=\"dataframe\">\n",
       "  <thead>\n",
       "    <tr style=\"text-align: right;\">\n",
       "      <th></th>\n",
       "      <th>sex</th>\n",
       "      <th>age</th>\n",
       "      <th>salary</th>\n",
       "      <th>family_members</th>\n",
       "    </tr>\n",
       "  </thead>\n",
       "  <tbody>\n",
       "    <tr>\n",
       "      <th>0</th>\n",
       "      <td>15907.009473</td>\n",
       "      <td>-6626.208326</td>\n",
       "      <td>32223.937227</td>\n",
       "      <td>2432.904848</td>\n",
       "    </tr>\n",
       "    <tr>\n",
       "      <th>1</th>\n",
       "      <td>13178.358158</td>\n",
       "      <td>-5477.251436</td>\n",
       "      <td>26686.703577</td>\n",
       "      <td>2009.315090</td>\n",
       "    </tr>\n",
       "    <tr>\n",
       "      <th>2</th>\n",
       "      <td>17252.750657</td>\n",
       "      <td>-7180.825542</td>\n",
       "      <td>34945.704368</td>\n",
       "      <td>2635.430062</td>\n",
       "    </tr>\n",
       "    <tr>\n",
       "      <th>3</th>\n",
       "      <td>13690.464623</td>\n",
       "      <td>-5715.156313</td>\n",
       "      <td>27743.481219</td>\n",
       "      <td>2099.808161</td>\n",
       "    </tr>\n",
       "    <tr>\n",
       "      <th>4</th>\n",
       "      <td>16224.383400</td>\n",
       "      <td>-6759.554534</td>\n",
       "      <td>32867.163397</td>\n",
       "      <td>2482.635319</td>\n",
       "    </tr>\n",
       "  </tbody>\n",
       "</table>\n",
       "</div>"
      ],
      "text/plain": [
       "            sex          age        salary  family_members\n",
       "0  15907.009473 -6626.208326  32223.937227     2432.904848\n",
       "1  13178.358158 -5477.251436  26686.703577     2009.315090\n",
       "2  17252.750657 -7180.825542  34945.704368     2635.430062\n",
       "3  13690.464623 -5715.156313  27743.481219     2099.808161\n",
       "4  16224.383400 -6759.554534  32867.163397     2482.635319"
      ]
     },
     "execution_count": 27,
     "metadata": {},
     "output_type": "execute_result"
    }
   ],
   "source": [
    "pd.DataFrame(X_train_crypt, columns=X_train.columns).head()"
   ]
  },
  {
   "cell_type": "markdown",
   "metadata": {},
   "source": [
    "**Вывод** Данные подготовлены для проверки на модели. Алгоритм работает - данные зашифрованы."
   ]
  },
  {
   "cell_type": "markdown",
   "metadata": {},
   "source": [
    "## Проверка алгоритма"
   ]
  },
  {
   "cell_type": "markdown",
   "metadata": {},
   "source": [
    "Проверим работу модели на исходных данных"
   ]
  },
  {
   "cell_type": "code",
   "execution_count": 28,
   "metadata": {},
   "outputs": [],
   "source": [
    "model = LinearRegression()\n",
    "model.fit(X_train, y_train)\n",
    "pred = model.predict(X_test)\n",
    "score_notencryp = r2_score(y_test, pred)"
   ]
  },
  {
   "cell_type": "markdown",
   "metadata": {},
   "source": [
    "И запустим модель на зашифрованных данных"
   ]
  },
  {
   "cell_type": "code",
   "execution_count": 29,
   "metadata": {},
   "outputs": [],
   "source": [
    "model = LinearRegression()\n",
    "model.fit(X_train_crypt, y_train)\n",
    "pred = model.predict(X_test_crypt)\n",
    "score_encryp = r2_score(y_test, pred)"
   ]
  },
  {
   "cell_type": "markdown",
   "metadata": {},
   "source": [
    "Считаем разницу между предсказаниями"
   ]
  },
  {
   "cell_type": "code",
   "execution_count": 30,
   "metadata": {},
   "outputs": [
    {
     "data": {
      "text/plain": [
       "4.781508522455624e-12"
      ]
     },
     "execution_count": 30,
     "metadata": {},
     "output_type": "execute_result"
    }
   ],
   "source": [
    "score_encryp - score_notencryp"
   ]
  },
  {
   "cell_type": "markdown",
   "metadata": {},
   "source": [
    "Ошибка получилась в пределах погрешности округления для чисел с плавающей запятой"
   ]
  },
  {
   "cell_type": "markdown",
   "metadata": {},
   "source": [
    "**Вывод:**\n",
    "В данном проекте нами проведена защита персональных данных клиентов страховой компании \"Хоть Потоп\"\n",
    "\n",
    "На этапе подготовки привели данные к единому формату. Переименовалт столбцы для удобства дальнейшей работы. Проверили на дубликаты и корреляции между признаками.\n",
    "\n",
    "При исследовании данных обнаружили зависимость между возрастом клиента и количеством страховых выплат. Чем старше клиент, тем больше выплат он получит.\n",
    "\n",
    "Портрет идеального клиента возраст 18-40 остальные критерии влияют незначительно, далее чем старше тем больше страховых выплат придется выплатить клиенту. Первую выплату, в среднем, клиенты получают около 45 лет. Далее на каждые 5 лет жизни по одной выплате.\n",
    "\n",
    "Для защиты персональных данных по условию был выбран шифр Хилла, подразумевающий умножение признаков на квадратную обратимую матрицу. При проверке данных после шифрования, с первого взгляда определить значения не удалось, следовательно шифр работает.\n",
    "\n",
    "Далее мы привели математическое доказательство того, что выбранный способ не повлияет на результат работы линейной регрессии.\n",
    "\n",
    "После обучения модели мы провели сравненение результатов работы модели на исходных и зашифрованных данных.\n",
    "Результаты сопадают.\n",
    "\n",
    "Для повышения стойкости шифрования рекомендуется также шифровать названия столбцов.\n",
    "\n",
    "Итог - данный способ шифрования подходит для совместной работы с линейной регрессией."
   ]
  }
 ],
 "metadata": {
  "ExecuteTimeLog": [
   {
    "duration": 49,
    "start_time": "2022-11-16T05:51:58.874Z"
   },
   {
    "duration": 343,
    "start_time": "2022-11-16T05:52:30.880Z"
   },
   {
    "duration": 97,
    "start_time": "2022-11-16T05:52:33.392Z"
   },
   {
    "duration": 15,
    "start_time": "2022-11-16T06:33:41.547Z"
   },
   {
    "duration": 9,
    "start_time": "2022-11-16T06:33:58.699Z"
   },
   {
    "duration": 22,
    "start_time": "2022-11-16T06:34:08.310Z"
   },
   {
    "duration": 465,
    "start_time": "2022-11-17T11:32:19.540Z"
   },
   {
    "duration": 122,
    "start_time": "2022-11-17T11:32:34.748Z"
   },
   {
    "duration": 18,
    "start_time": "2022-11-17T11:32:40.731Z"
   },
   {
    "duration": 26,
    "start_time": "2022-11-17T11:32:41.507Z"
   },
   {
    "duration": 3,
    "start_time": "2022-11-17T11:33:14.275Z"
   },
   {
    "duration": 3,
    "start_time": "2022-11-17T12:10:18.461Z"
   },
   {
    "duration": 23,
    "start_time": "2022-11-17T12:10:23.004Z"
   },
   {
    "duration": 6,
    "start_time": "2022-11-17T12:11:10.545Z"
   },
   {
    "duration": 13,
    "start_time": "2022-11-17T12:11:43.320Z"
   },
   {
    "duration": 9,
    "start_time": "2022-11-17T12:11:51.597Z"
   },
   {
    "duration": 10,
    "start_time": "2022-11-17T12:11:57.281Z"
   },
   {
    "duration": 28,
    "start_time": "2022-11-17T12:12:33.260Z"
   },
   {
    "duration": 13,
    "start_time": "2022-11-17T12:12:33.653Z"
   },
   {
    "duration": 3,
    "start_time": "2022-11-17T12:12:34.124Z"
   },
   {
    "duration": 34,
    "start_time": "2022-11-17T12:12:34.733Z"
   },
   {
    "duration": 11,
    "start_time": "2022-11-17T12:12:37.987Z"
   },
   {
    "duration": 4,
    "start_time": "2022-11-17T12:12:38.492Z"
   },
   {
    "duration": 8,
    "start_time": "2022-11-17T12:13:35.457Z"
   },
   {
    "duration": 3,
    "start_time": "2022-11-17T12:15:17.811Z"
   },
   {
    "duration": 5,
    "start_time": "2022-11-17T12:15:23.138Z"
   },
   {
    "duration": 6,
    "start_time": "2022-11-17T12:15:25.843Z"
   },
   {
    "duration": 10,
    "start_time": "2022-11-17T12:15:28.874Z"
   },
   {
    "duration": 7,
    "start_time": "2022-11-17T12:16:25.878Z"
   },
   {
    "duration": 3,
    "start_time": "2022-11-17T12:16:55.725Z"
   },
   {
    "duration": 7,
    "start_time": "2022-11-17T12:17:15.452Z"
   },
   {
    "duration": 12,
    "start_time": "2022-11-17T12:17:29.314Z"
   },
   {
    "duration": 66,
    "start_time": "2022-11-17T12:21:53.941Z"
   },
   {
    "duration": 9,
    "start_time": "2022-11-17T12:22:05.963Z"
   },
   {
    "duration": 18411,
    "start_time": "2022-11-17T12:22:24.986Z"
   },
   {
    "duration": 4378,
    "start_time": "2022-11-17T12:22:44.064Z"
   },
   {
    "duration": 11,
    "start_time": "2022-11-17T12:23:00.511Z"
   },
   {
    "duration": 5880,
    "start_time": "2022-11-17T12:23:37.901Z"
   },
   {
    "duration": 112,
    "start_time": "2022-11-17T12:23:53.245Z"
   },
   {
    "duration": 4310,
    "start_time": "2022-11-17T12:24:12.403Z"
   },
   {
    "duration": 7949,
    "start_time": "2022-11-17T12:24:25.556Z"
   },
   {
    "duration": 24,
    "start_time": "2022-11-17T12:27:05.940Z"
   },
   {
    "duration": 4,
    "start_time": "2022-11-17T12:28:38.310Z"
   },
   {
    "duration": 17026,
    "start_time": "2022-11-17T12:28:40.331Z"
   },
   {
    "duration": 151,
    "start_time": "2022-11-17T12:36:29.924Z"
   },
   {
    "duration": 128,
    "start_time": "2022-11-17T12:36:51.730Z"
   },
   {
    "duration": 243,
    "start_time": "2022-11-17T12:37:03.815Z"
   },
   {
    "duration": 167,
    "start_time": "2022-11-17T12:37:36.739Z"
   },
   {
    "duration": 12,
    "start_time": "2022-11-17T12:38:37.239Z"
   },
   {
    "duration": 8,
    "start_time": "2022-11-17T12:38:50.392Z"
   },
   {
    "duration": 17737,
    "start_time": "2022-11-17T12:38:50.649Z"
   },
   {
    "duration": 9,
    "start_time": "2022-11-17T12:41:55.845Z"
   },
   {
    "duration": 17737,
    "start_time": "2022-11-17T12:41:56.721Z"
   },
   {
    "duration": 7,
    "start_time": "2022-11-17T12:43:33.399Z"
   },
   {
    "duration": 17343,
    "start_time": "2022-11-17T12:43:33.953Z"
   },
   {
    "duration": 8,
    "start_time": "2022-11-17T12:45:27.129Z"
   },
   {
    "duration": 18346,
    "start_time": "2022-11-17T12:45:28.034Z"
   },
   {
    "duration": 6,
    "start_time": "2022-11-17T12:46:05.071Z"
   },
   {
    "duration": 17338,
    "start_time": "2022-11-17T12:46:05.728Z"
   },
   {
    "duration": 11,
    "start_time": "2022-11-17T12:49:05.805Z"
   },
   {
    "duration": 12,
    "start_time": "2022-11-17T12:49:53.184Z"
   },
   {
    "duration": 13,
    "start_time": "2022-11-17T12:50:03.712Z"
   },
   {
    "duration": 7,
    "start_time": "2022-11-17T12:50:20.544Z"
   },
   {
    "duration": 16077,
    "start_time": "2022-11-17T12:50:22.479Z"
   },
   {
    "duration": 39,
    "start_time": "2022-11-17T13:01:26.533Z"
   },
   {
    "duration": 11,
    "start_time": "2022-11-17T13:01:31.599Z"
   },
   {
    "duration": 12,
    "start_time": "2022-11-17T13:01:47.784Z"
   },
   {
    "duration": 10,
    "start_time": "2022-11-17T13:01:54.972Z"
   },
   {
    "duration": 12,
    "start_time": "2022-11-17T13:06:16.685Z"
   },
   {
    "duration": 14,
    "start_time": "2022-11-17T13:06:46.716Z"
   },
   {
    "duration": 9,
    "start_time": "2022-11-17T13:06:59.187Z"
   },
   {
    "duration": 18,
    "start_time": "2022-11-17T13:07:29.732Z"
   },
   {
    "duration": 4247,
    "start_time": "2022-11-17T13:08:04.617Z"
   },
   {
    "duration": 25,
    "start_time": "2022-11-17T13:08:12.281Z"
   },
   {
    "duration": 26278,
    "start_time": "2022-11-17T13:12:19.218Z"
   },
   {
    "duration": 23,
    "start_time": "2022-11-17T13:12:45.498Z"
   },
   {
    "duration": 412,
    "start_time": "2022-11-17T13:13:22.247Z"
   },
   {
    "duration": 79,
    "start_time": "2022-11-17T13:14:28.861Z"
   },
   {
    "duration": 17,
    "start_time": "2022-11-17T13:42:37.120Z"
   },
   {
    "duration": 6,
    "start_time": "2022-11-17T13:44:27.769Z"
   },
   {
    "duration": 84,
    "start_time": "2022-11-17T13:48:14.667Z"
   },
   {
    "duration": 18,
    "start_time": "2022-11-17T13:48:50.746Z"
   },
   {
    "duration": 7636,
    "start_time": "2022-11-17T13:49:47.254Z"
   },
   {
    "duration": 13,
    "start_time": "2022-11-17T13:49:56.823Z"
   },
   {
    "duration": 3,
    "start_time": "2022-11-17T13:50:00.398Z"
   },
   {
    "duration": 13,
    "start_time": "2022-11-17T13:50:19.372Z"
   },
   {
    "duration": 4,
    "start_time": "2022-11-17T13:52:36.213Z"
   },
   {
    "duration": 177,
    "start_time": "2022-11-17T13:53:54.488Z"
   },
   {
    "duration": 7368,
    "start_time": "2022-11-17T13:54:30.766Z"
   },
   {
    "duration": 14,
    "start_time": "2022-11-17T13:54:38.894Z"
   },
   {
    "duration": 7,
    "start_time": "2022-11-17T13:55:40.898Z"
   },
   {
    "duration": 6,
    "start_time": "2022-11-17T13:55:55.497Z"
   },
   {
    "duration": 43275,
    "start_time": "2022-11-17T17:05:10.474Z"
   },
   {
    "duration": 94,
    "start_time": "2022-11-17T17:05:53.752Z"
   },
   {
    "duration": 15,
    "start_time": "2022-11-17T17:05:53.847Z"
   },
   {
    "duration": 3,
    "start_time": "2022-11-17T17:05:53.864Z"
   },
   {
    "duration": 28,
    "start_time": "2022-11-17T17:05:53.869Z"
   },
   {
    "duration": 12,
    "start_time": "2022-11-17T17:05:53.898Z"
   },
   {
    "duration": 7,
    "start_time": "2022-11-17T17:05:53.912Z"
   },
   {
    "duration": 11,
    "start_time": "2022-11-17T17:05:53.921Z"
   },
   {
    "duration": 14,
    "start_time": "2022-11-17T17:05:53.934Z"
   },
   {
    "duration": 33,
    "start_time": "2022-11-17T17:05:53.952Z"
   },
   {
    "duration": 14,
    "start_time": "2022-11-17T17:05:53.987Z"
   },
   {
    "duration": 8,
    "start_time": "2022-11-17T17:05:54.004Z"
   },
   {
    "duration": 17949,
    "start_time": "2022-11-17T17:05:54.014Z"
   },
   {
    "duration": 16,
    "start_time": "2022-11-17T17:06:11.965Z"
   },
   {
    "duration": 346,
    "start_time": "2022-11-17T17:06:11.983Z"
   },
   {
    "duration": 188,
    "start_time": "2022-11-17T17:06:12.331Z"
   },
   {
    "duration": 5,
    "start_time": "2022-11-17T17:06:12.521Z"
   },
   {
    "duration": 63,
    "start_time": "2022-11-17T17:06:12.528Z"
   },
   {
    "duration": 85,
    "start_time": "2022-11-17T17:06:12.593Z"
   },
   {
    "duration": 11,
    "start_time": "2022-11-17T17:06:12.680Z"
   },
   {
    "duration": 202,
    "start_time": "2022-11-17T17:06:12.693Z"
   },
   {
    "duration": 19,
    "start_time": "2022-11-17T17:06:12.898Z"
   },
   {
    "duration": 242,
    "start_time": "2022-11-17T17:35:44.681Z"
   },
   {
    "duration": 23,
    "start_time": "2022-11-17T17:35:53.888Z"
   },
   {
    "duration": 10,
    "start_time": "2022-11-17T17:36:03.873Z"
   },
   {
    "duration": 11,
    "start_time": "2022-11-17T17:36:17.286Z"
   },
   {
    "duration": 9028,
    "start_time": "2022-11-17T18:04:57.486Z"
   },
   {
    "duration": 30,
    "start_time": "2022-11-17T18:05:06.517Z"
   },
   {
    "duration": 15,
    "start_time": "2022-11-17T18:05:06.549Z"
   },
   {
    "duration": 3,
    "start_time": "2022-11-17T18:05:06.566Z"
   },
   {
    "duration": 29,
    "start_time": "2022-11-17T18:05:06.571Z"
   },
   {
    "duration": 12,
    "start_time": "2022-11-17T18:05:06.602Z"
   },
   {
    "duration": 8,
    "start_time": "2022-11-17T18:05:06.616Z"
   },
   {
    "duration": 14,
    "start_time": "2022-11-17T18:05:06.626Z"
   },
   {
    "duration": 7,
    "start_time": "2022-11-17T18:05:06.642Z"
   },
   {
    "duration": 30,
    "start_time": "2022-11-17T18:05:06.651Z"
   },
   {
    "duration": 13,
    "start_time": "2022-11-17T18:05:06.683Z"
   },
   {
    "duration": 7,
    "start_time": "2022-11-17T18:05:06.698Z"
   },
   {
    "duration": 17433,
    "start_time": "2022-11-17T18:05:06.707Z"
   },
   {
    "duration": 13,
    "start_time": "2022-11-17T18:05:24.142Z"
   },
   {
    "duration": 348,
    "start_time": "2022-11-17T18:05:24.157Z"
   },
   {
    "duration": 176,
    "start_time": "2022-11-17T18:05:24.506Z"
   },
   {
    "duration": 5,
    "start_time": "2022-11-17T18:05:24.684Z"
   },
   {
    "duration": 94,
    "start_time": "2022-11-17T18:05:24.691Z"
   },
   {
    "duration": 107,
    "start_time": "2022-11-17T18:05:24.787Z"
   },
   {
    "duration": 48,
    "start_time": "2022-11-17T18:05:24.896Z"
   },
   {
    "duration": 134,
    "start_time": "2022-11-17T18:05:24.947Z"
   },
   {
    "duration": 4,
    "start_time": "2022-11-17T18:05:25.086Z"
   },
   {
    "duration": 6,
    "start_time": "2022-11-17T18:07:09.608Z"
   },
   {
    "duration": 16375,
    "start_time": "2022-11-17T18:07:10.274Z"
   },
   {
    "duration": 262,
    "start_time": "2022-11-17T18:11:27.427Z"
   },
   {
    "duration": 5,
    "start_time": "2022-11-17T18:11:37.293Z"
   },
   {
    "duration": 29,
    "start_time": "2022-11-17T18:13:08.263Z"
   },
   {
    "duration": 10,
    "start_time": "2022-11-17T18:13:24.689Z"
   },
   {
    "duration": 7,
    "start_time": "2022-11-17T18:13:38.920Z"
   },
   {
    "duration": 6,
    "start_time": "2022-11-17T18:14:55.520Z"
   },
   {
    "duration": 13,
    "start_time": "2022-11-17T18:14:58.823Z"
   },
   {
    "duration": 4,
    "start_time": "2022-11-17T18:14:59.823Z"
   },
   {
    "duration": 8,
    "start_time": "2022-11-17T18:15:00.869Z"
   },
   {
    "duration": 10,
    "start_time": "2022-11-17T18:15:42.050Z"
   },
   {
    "duration": 7,
    "start_time": "2022-11-17T18:17:15.105Z"
   },
   {
    "duration": 6,
    "start_time": "2022-11-17T18:17:19.050Z"
   },
   {
    "duration": 6,
    "start_time": "2022-11-17T18:17:31.304Z"
   },
   {
    "duration": 5,
    "start_time": "2022-11-17T18:17:44.394Z"
   },
   {
    "duration": 5,
    "start_time": "2022-11-17T18:18:02.235Z"
   },
   {
    "duration": 4,
    "start_time": "2022-11-17T18:18:36.362Z"
   },
   {
    "duration": 14,
    "start_time": "2022-11-17T18:19:03.496Z"
   },
   {
    "duration": 14,
    "start_time": "2022-11-17T18:19:17.442Z"
   },
   {
    "duration": 92,
    "start_time": "2022-11-17T18:20:12.989Z"
   },
   {
    "duration": 6,
    "start_time": "2022-11-17T18:22:09.384Z"
   },
   {
    "duration": 6,
    "start_time": "2022-11-17T18:22:23.915Z"
   },
   {
    "duration": 6,
    "start_time": "2022-11-17T18:22:26.911Z"
   },
   {
    "duration": 5,
    "start_time": "2022-11-17T18:22:27.518Z"
   },
   {
    "duration": 5,
    "start_time": "2022-11-17T18:22:27.979Z"
   },
   {
    "duration": 6,
    "start_time": "2022-11-17T18:22:28.502Z"
   },
   {
    "duration": 6,
    "start_time": "2022-11-17T18:22:28.577Z"
   },
   {
    "duration": 12,
    "start_time": "2022-11-17T18:23:34.525Z"
   },
   {
    "duration": 4,
    "start_time": "2022-11-17T18:23:35.153Z"
   },
   {
    "duration": 11,
    "start_time": "2022-11-17T18:23:35.668Z"
   },
   {
    "duration": 9,
    "start_time": "2022-11-17T18:23:35.870Z"
   },
   {
    "duration": 9,
    "start_time": "2022-11-17T18:23:36.611Z"
   },
   {
    "duration": 7,
    "start_time": "2022-11-17T18:23:37.035Z"
   },
   {
    "duration": 4,
    "start_time": "2022-11-17T18:23:37.466Z"
   },
   {
    "duration": 9080,
    "start_time": "2022-11-17T18:23:58.333Z"
   },
   {
    "duration": 32,
    "start_time": "2022-11-17T18:24:07.415Z"
   },
   {
    "duration": 14,
    "start_time": "2022-11-17T18:24:07.449Z"
   },
   {
    "duration": 4,
    "start_time": "2022-11-17T18:24:07.465Z"
   },
   {
    "duration": 31,
    "start_time": "2022-11-17T18:24:07.471Z"
   },
   {
    "duration": 13,
    "start_time": "2022-11-17T18:24:07.504Z"
   },
   {
    "duration": 16,
    "start_time": "2022-11-17T18:24:07.519Z"
   },
   {
    "duration": 15,
    "start_time": "2022-11-17T18:24:07.537Z"
   },
   {
    "duration": 6,
    "start_time": "2022-11-17T18:24:07.554Z"
   },
   {
    "duration": 8,
    "start_time": "2022-11-17T18:24:07.577Z"
   },
   {
    "duration": 11,
    "start_time": "2022-11-17T18:24:07.587Z"
   },
   {
    "duration": 6,
    "start_time": "2022-11-17T18:24:07.600Z"
   },
   {
    "duration": 17074,
    "start_time": "2022-11-17T18:24:07.608Z"
   },
   {
    "duration": 10,
    "start_time": "2022-11-17T18:24:24.685Z"
   },
   {
    "duration": 315,
    "start_time": "2022-11-17T18:24:24.696Z"
   },
   {
    "duration": 185,
    "start_time": "2022-11-17T18:24:25.013Z"
   },
   {
    "duration": 5,
    "start_time": "2022-11-17T18:24:25.200Z"
   },
   {
    "duration": 79,
    "start_time": "2022-11-17T18:24:25.207Z"
   },
   {
    "duration": 5,
    "start_time": "2022-11-17T18:24:25.288Z"
   },
   {
    "duration": 93,
    "start_time": "2022-11-17T18:24:25.295Z"
   },
   {
    "duration": 14,
    "start_time": "2022-11-17T18:24:25.390Z"
   },
   {
    "duration": 12,
    "start_time": "2022-11-17T18:24:25.406Z"
   },
   {
    "duration": 107,
    "start_time": "2022-11-17T18:24:25.479Z"
   },
   {
    "duration": 10,
    "start_time": "2022-11-17T18:24:25.588Z"
   },
   {
    "duration": 5,
    "start_time": "2022-11-17T18:28:24.868Z"
   },
   {
    "duration": 10,
    "start_time": "2022-11-17T18:28:39.086Z"
   },
   {
    "duration": 3,
    "start_time": "2022-11-17T18:28:48.611Z"
   },
   {
    "duration": 11,
    "start_time": "2022-11-17T18:28:49.252Z"
   },
   {
    "duration": 8899,
    "start_time": "2022-11-17T18:34:44.181Z"
   },
   {
    "duration": 30,
    "start_time": "2022-11-17T18:34:53.083Z"
   },
   {
    "duration": 14,
    "start_time": "2022-11-17T18:34:53.115Z"
   },
   {
    "duration": 3,
    "start_time": "2022-11-17T18:34:53.132Z"
   },
   {
    "duration": 47,
    "start_time": "2022-11-17T18:34:53.138Z"
   },
   {
    "duration": 14,
    "start_time": "2022-11-17T18:34:53.187Z"
   },
   {
    "duration": 30,
    "start_time": "2022-11-17T18:34:53.203Z"
   },
   {
    "duration": 17,
    "start_time": "2022-11-17T18:34:53.235Z"
   },
   {
    "duration": 15,
    "start_time": "2022-11-17T18:34:53.254Z"
   },
   {
    "duration": 16,
    "start_time": "2022-11-17T18:34:53.272Z"
   },
   {
    "duration": 20,
    "start_time": "2022-11-17T18:34:53.290Z"
   },
   {
    "duration": 10,
    "start_time": "2022-11-17T18:34:53.313Z"
   },
   {
    "duration": 17678,
    "start_time": "2022-11-17T18:34:53.325Z"
   },
   {
    "duration": 12,
    "start_time": "2022-11-17T18:35:11.004Z"
   },
   {
    "duration": 669,
    "start_time": "2022-11-17T18:35:11.018Z"
   },
   {
    "duration": 145,
    "start_time": "2022-11-17T18:35:11.688Z"
   },
   {
    "duration": 46,
    "start_time": "2022-11-17T18:35:11.835Z"
   },
   {
    "duration": 95,
    "start_time": "2022-11-17T18:35:11.884Z"
   },
   {
    "duration": 4,
    "start_time": "2022-11-17T18:35:11.981Z"
   },
   {
    "duration": 17,
    "start_time": "2022-11-17T18:35:11.986Z"
   },
   {
    "duration": 72,
    "start_time": "2022-11-17T18:35:12.006Z"
   },
   {
    "duration": 116,
    "start_time": "2022-11-17T18:35:12.081Z"
   },
   {
    "duration": 20,
    "start_time": "2022-11-17T18:35:12.199Z"
   },
   {
    "duration": 45730,
    "start_time": "2022-11-17T18:44:38.372Z"
   },
   {
    "duration": 32,
    "start_time": "2022-11-17T18:45:24.104Z"
   },
   {
    "duration": 572,
    "start_time": "2022-11-17T18:45:24.137Z"
   },
   {
    "duration": 17,
    "start_time": "2022-11-17T18:45:24.712Z"
   },
   {
    "duration": 62,
    "start_time": "2022-11-17T18:45:24.732Z"
   },
   {
    "duration": 13,
    "start_time": "2022-11-17T18:45:24.796Z"
   },
   {
    "duration": 16,
    "start_time": "2022-11-17T18:45:24.810Z"
   },
   {
    "duration": 14,
    "start_time": "2022-11-17T18:45:24.827Z"
   },
   {
    "duration": 18,
    "start_time": "2022-11-17T18:45:24.844Z"
   },
   {
    "duration": 13,
    "start_time": "2022-11-17T18:45:24.865Z"
   },
   {
    "duration": 18,
    "start_time": "2022-11-17T18:45:24.880Z"
   },
   {
    "duration": 15,
    "start_time": "2022-11-17T18:45:24.900Z"
   },
   {
    "duration": 17525,
    "start_time": "2022-11-17T18:45:24.917Z"
   },
   {
    "duration": 13,
    "start_time": "2022-11-17T18:45:42.445Z"
   },
   {
    "duration": 517,
    "start_time": "2022-11-17T18:45:42.460Z"
   },
   {
    "duration": 176,
    "start_time": "2022-11-17T18:45:42.979Z"
   },
   {
    "duration": 5,
    "start_time": "2022-11-17T18:45:43.157Z"
   },
   {
    "duration": 79,
    "start_time": "2022-11-17T18:45:43.165Z"
   },
   {
    "duration": 5,
    "start_time": "2022-11-17T18:45:43.245Z"
   },
   {
    "duration": 104,
    "start_time": "2022-11-17T18:45:43.252Z"
   },
   {
    "duration": 20,
    "start_time": "2022-11-17T18:45:43.357Z"
   },
   {
    "duration": 162,
    "start_time": "2022-11-17T18:45:43.380Z"
   },
   {
    "duration": 8,
    "start_time": "2022-11-17T18:45:43.544Z"
   },
   {
    "duration": 11303,
    "start_time": "2022-11-17T18:56:41.524Z"
   },
   {
    "duration": 33,
    "start_time": "2022-11-17T18:56:52.830Z"
   },
   {
    "duration": 17,
    "start_time": "2022-11-17T18:56:52.864Z"
   },
   {
    "duration": 18,
    "start_time": "2022-11-17T18:56:52.884Z"
   },
   {
    "duration": 45,
    "start_time": "2022-11-17T18:56:52.904Z"
   },
   {
    "duration": 17,
    "start_time": "2022-11-17T18:56:52.951Z"
   },
   {
    "duration": 11,
    "start_time": "2022-11-17T18:56:52.970Z"
   },
   {
    "duration": 19,
    "start_time": "2022-11-17T18:56:52.984Z"
   },
   {
    "duration": 8,
    "start_time": "2022-11-17T18:56:53.005Z"
   },
   {
    "duration": 11,
    "start_time": "2022-11-17T18:56:53.034Z"
   },
   {
    "duration": 18,
    "start_time": "2022-11-17T18:56:53.048Z"
   },
   {
    "duration": 10,
    "start_time": "2022-11-17T18:56:53.068Z"
   },
   {
    "duration": 17048,
    "start_time": "2022-11-17T18:56:53.081Z"
   },
   {
    "duration": 13,
    "start_time": "2022-11-17T18:57:10.130Z"
   },
   {
    "duration": 403,
    "start_time": "2022-11-17T18:57:10.145Z"
   },
   {
    "duration": 133,
    "start_time": "2022-11-17T18:57:10.549Z"
   },
   {
    "duration": 52,
    "start_time": "2022-11-17T18:57:10.684Z"
   },
   {
    "duration": 13,
    "start_time": "2022-11-17T18:57:10.737Z"
   },
   {
    "duration": 84,
    "start_time": "2022-11-17T18:57:10.752Z"
   },
   {
    "duration": 16,
    "start_time": "2022-11-17T18:57:10.838Z"
   },
   {
    "duration": 17,
    "start_time": "2022-11-17T18:57:10.856Z"
   },
   {
    "duration": 102,
    "start_time": "2022-11-17T18:57:10.939Z"
   },
   {
    "duration": 6,
    "start_time": "2022-11-17T18:57:11.043Z"
   },
   {
    "duration": 41003,
    "start_time": "2022-11-18T08:51:47.265Z"
   },
   {
    "duration": 92,
    "start_time": "2022-11-18T08:52:28.271Z"
   },
   {
    "duration": 15,
    "start_time": "2022-11-18T08:52:28.365Z"
   },
   {
    "duration": 3,
    "start_time": "2022-11-18T08:52:28.382Z"
   },
   {
    "duration": 30,
    "start_time": "2022-11-18T08:52:28.386Z"
   },
   {
    "duration": 11,
    "start_time": "2022-11-18T08:52:28.417Z"
   },
   {
    "duration": 7,
    "start_time": "2022-11-18T08:52:28.430Z"
   },
   {
    "duration": 9,
    "start_time": "2022-11-18T08:52:28.438Z"
   },
   {
    "duration": 5,
    "start_time": "2022-11-18T08:52:28.449Z"
   },
   {
    "duration": 7,
    "start_time": "2022-11-18T08:52:28.457Z"
   },
   {
    "duration": 48,
    "start_time": "2022-11-18T08:52:28.465Z"
   },
   {
    "duration": 6,
    "start_time": "2022-11-18T08:52:28.516Z"
   },
   {
    "duration": 16809,
    "start_time": "2022-11-18T08:52:28.524Z"
   },
   {
    "duration": 15,
    "start_time": "2022-11-18T08:52:45.334Z"
   },
   {
    "duration": 505,
    "start_time": "2022-11-18T08:52:45.351Z"
   },
   {
    "duration": 175,
    "start_time": "2022-11-18T08:52:45.858Z"
   },
   {
    "duration": 5,
    "start_time": "2022-11-18T08:52:46.035Z"
   },
   {
    "duration": 76,
    "start_time": "2022-11-18T08:52:46.041Z"
   },
   {
    "duration": 93,
    "start_time": "2022-11-18T08:52:46.119Z"
   },
   {
    "duration": 14,
    "start_time": "2022-11-18T08:52:46.218Z"
   },
   {
    "duration": 15,
    "start_time": "2022-11-18T08:52:46.234Z"
   },
   {
    "duration": 66,
    "start_time": "2022-11-18T08:52:46.251Z"
   },
   {
    "duration": 94,
    "start_time": "2022-11-18T08:52:46.319Z"
   },
   {
    "duration": 4,
    "start_time": "2022-11-18T10:45:54.974Z"
   },
   {
    "duration": 4,
    "start_time": "2022-11-18T10:46:57.582Z"
   },
   {
    "duration": 10,
    "start_time": "2022-11-18T10:46:58.775Z"
   },
   {
    "duration": 9,
    "start_time": "2022-11-18T10:47:04.589Z"
   },
   {
    "duration": 7,
    "start_time": "2022-11-18T10:47:05.318Z"
   },
   {
    "duration": 5,
    "start_time": "2022-11-18T10:47:06.518Z"
   },
   {
    "duration": 8427,
    "start_time": "2022-11-18T12:30:26.767Z"
   },
   {
    "duration": 43,
    "start_time": "2022-11-18T12:30:35.196Z"
   },
   {
    "duration": 14,
    "start_time": "2022-11-18T12:30:35.241Z"
   },
   {
    "duration": 6,
    "start_time": "2022-11-18T12:30:35.257Z"
   },
   {
    "duration": 33,
    "start_time": "2022-11-18T12:30:35.265Z"
   },
   {
    "duration": 14,
    "start_time": "2022-11-18T12:30:35.300Z"
   },
   {
    "duration": 5,
    "start_time": "2022-11-18T12:30:35.316Z"
   },
   {
    "duration": 19,
    "start_time": "2022-11-18T12:30:35.323Z"
   },
   {
    "duration": 8,
    "start_time": "2022-11-18T12:30:35.344Z"
   },
   {
    "duration": 16,
    "start_time": "2022-11-18T12:30:35.354Z"
   },
   {
    "duration": 11,
    "start_time": "2022-11-18T12:30:35.373Z"
   },
   {
    "duration": 6,
    "start_time": "2022-11-18T12:30:35.385Z"
   },
   {
    "duration": 16922,
    "start_time": "2022-11-18T12:30:35.393Z"
   },
   {
    "duration": 11,
    "start_time": "2022-11-18T12:30:52.317Z"
   },
   {
    "duration": 618,
    "start_time": "2022-11-18T12:30:52.330Z"
   },
   {
    "duration": 263,
    "start_time": "2022-11-18T12:30:52.950Z"
   },
   {
    "duration": 4,
    "start_time": "2022-11-18T12:30:53.215Z"
   },
   {
    "duration": 15,
    "start_time": "2022-11-18T12:30:53.221Z"
   },
   {
    "duration": 5,
    "start_time": "2022-11-18T12:30:53.238Z"
   },
   {
    "duration": 12,
    "start_time": "2022-11-18T12:30:53.245Z"
   },
   {
    "duration": 61,
    "start_time": "2022-11-18T12:30:53.259Z"
   },
   {
    "duration": 198,
    "start_time": "2022-11-18T12:30:53.322Z"
   },
   {
    "duration": 6,
    "start_time": "2022-11-18T12:30:53.522Z"
   },
   {
    "duration": 4,
    "start_time": "2022-11-18T12:33:10.542Z"
   },
   {
    "duration": 3,
    "start_time": "2022-11-18T12:33:17.509Z"
   },
   {
    "duration": 10,
    "start_time": "2022-11-18T12:33:18.533Z"
   },
   {
    "duration": 8,
    "start_time": "2022-11-18T12:33:22.790Z"
   },
   {
    "duration": 6,
    "start_time": "2022-11-18T12:33:23.676Z"
   },
   {
    "duration": 4,
    "start_time": "2022-11-18T12:33:24.627Z"
   }
  ],
  "kernelspec": {
   "display_name": "base",
   "language": "python",
   "name": "python3"
  },
  "language_info": {
   "codemirror_mode": {
    "name": "ipython",
    "version": 3
   },
   "file_extension": ".py",
   "mimetype": "text/x-python",
   "name": "python",
   "nbconvert_exporter": "python",
   "pygments_lexer": "ipython3",
   "version": "3.9.7"
  },
  "toc": {
   "base_numbering": 1,
   "nav_menu": {},
   "number_sections": true,
   "sideBar": true,
   "skip_h1_title": true,
   "title_cell": "Содержание",
   "title_sidebar": "Contents",
   "toc_cell": true,
   "toc_position": {
    "height": "calc(100% - 180px)",
    "left": "10px",
    "top": "150px",
    "width": "224.2px"
   },
   "toc_section_display": true,
   "toc_window_display": false
  },
  "vscode": {
   "interpreter": {
    "hash": "81e3369a13e6471412a57d2570915ba3492cc341681bebeadc2b51bfac30fac2"
   }
  }
 },
 "nbformat": 4,
 "nbformat_minor": 2
}
