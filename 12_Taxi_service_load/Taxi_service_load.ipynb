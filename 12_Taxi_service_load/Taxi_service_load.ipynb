{
 "cells": [
  {
   "cell_type": "markdown",
   "metadata": {},
   "source": [
    "#  Прогнозирование заказов такси"
   ]
  },
  {
   "attachments": {},
   "cell_type": "markdown",
   "metadata": {},
   "source": [
    "Компания «Чётенькое такси» собрала исторические данные о заказах такси в аэропортах. Чтобы привлекать больше водителей в период пиковой нагрузки, нужно спрогнозировать количество заказов такси на следующий час. Построим модель для такого предсказания.\n",
    "\n",
    "Условие:\n",
    "Значение метрики *RMSE* на тестовой выборке должно быть не больше 48."
   ]
  },
  {
   "attachments": {},
   "cell_type": "markdown",
   "metadata": {},
   "source": [
    "#### Описание данных\n",
    "\n",
    "Количество заказов находится в столбце `num_orders` (от англ. *number of orders*, «число заказов»)."
   ]
  },
  {
   "attachments": {},
   "cell_type": "markdown",
   "metadata": {},
   "source": [
    "\n",
    "#### Ход исследования\n",
    "\n",
    "- загрузим данные и выполним их ресемплирование по одному часу.\n",
    "- проанализируем данные.\n",
    "- обучим разные модели с различными гиперпараметрами. Сделаем тестовую выборку размером 10% от исходных данных.\n",
    "- проверим данные на тестовой выборке и сделаем выводы.\n",
    "\n",
    "#### Итоговый вывод:\n",
    "\n",
    "В данной работе нами проведено исследование данных заказов такси из аэропорта, для предсказания нагрузки на следующий час.\n",
    " \n",
    "При подготовке данных мы преобразовали данные в часовой интервал. Проверили данные на монотонность и уникальность значения для исключения пропусков и дубликатов.\n",
    "\n",
    "Проверили данные на сезонность и тренд. Хотя некоторый тренд прослеживается, тест Дики-Фуллера показал что ряд стационарен. \n",
    "\n",
    "Установили с помощью графика автокорреляции что данные \"повторяются с интервалом 24часа.\n",
    "\n",
    "Подготовили новые признаки, такие как день в месяце, день недели, лаг с отставанием от 2-5, 24 часовой лаг, стандартное отклонение, скользящее среднее, минимум и максимум за период, и разницу с предыдущим значением.\n",
    "\n",
    "Проверили и удалили столбцы с мультиколлинеарными признаками.\n",
    "\n",
    "Обучение и подбор гиперпараметров провели для двух моделей, с помощью pipeline с TimeSeriesSplit для предотвращения утечки при кроссвалидации.\n",
    "\n",
    "В результате получили модель с метрикой RMSE на тестовой выборке 30,91"
   ]
  },
  {
   "cell_type": "markdown",
   "metadata": {},
   "source": [
    "## Подготовка"
   ]
  },
  {
   "cell_type": "markdown",
   "metadata": {},
   "source": [
    "Загрузим необходимые библиотеки для работы"
   ]
  },
  {
   "cell_type": "code",
   "execution_count": 63,
   "metadata": {},
   "outputs": [],
   "source": [
    "import os\n",
    "\n",
    "import matplotlib.pyplot as plt\n",
    "\n",
    "import numpy as np\n",
    "\n",
    "import pandas as pd\n",
    "pd.set_option('display.max_rows', 50)\n",
    "pd.set_option('display.max_columns', 50)\n",
    "pd.set_option('display.width', 1000)\n",
    "\n",
    "import plotly.express as px\n",
    "import plotly.graph_objects as go\n",
    "\n",
    "import seaborn as sns\n",
    "\n",
    "from statsmodels.graphics.tsaplots import plot_acf\n",
    "from statsmodels.tsa.seasonal import seasonal_decompose\n",
    "from statsmodels.tsa.stattools import adfuller\n",
    "\n",
    "from sklearn.linear_model import Ridge\n",
    "from sklearn.metrics import mean_squared_error\n",
    "from sklearn.model_selection import RandomizedSearchCV\n",
    "from sklearn.model_selection import TimeSeriesSplit\n",
    "from sklearn.model_selection import train_test_split\n",
    "from sklearn.pipeline import make_pipeline\n",
    "from sklearn.pipeline import Pipeline\n",
    "from sklearn.utils import shuffle\n",
    "\n",
    "from catboost import CatBoostRegressor\n",
    "\n",
    "import shap"
   ]
  },
  {
   "cell_type": "markdown",
   "metadata": {},
   "source": [
    "Загрузим данные"
   ]
  },
  {
   "cell_type": "code",
   "execution_count": 4,
   "metadata": {},
   "outputs": [
    {
     "name": "stdout",
     "output_type": "stream",
     "text": [
      "Датасет успешно загружен c GoogleDisc\n"
     ]
    }
   ],
   "source": [
    "pth1 = 'taxi.csv' # Для Colab\n",
    "pth2 = '/datasets/taxi.csv'\n",
    "if os.path.exists(pth1):\n",
    "    df = pd.read_csv(pth1, index_col='datetime', parse_dates=[0])\n",
    "    print(\"Датасет успешно загружен c GoogleDisc\")\n",
    "elif os.path.exists(pth2):\n",
    "    df = pd.read_csv(pth2, index_col='datetime', parse_dates=[0])\n",
    "    print(\"Датасет успешно загружен c Яндекс.Практикум\")\n",
    "else:\n",
    "    print(\"Проверьте правильность пути к датасету\")"
   ]
  },
  {
   "cell_type": "markdown",
   "metadata": {},
   "source": [
    "Данные загружены проведем анализ и подготвоим их к обучению модели"
   ]
  },
  {
   "cell_type": "markdown",
   "metadata": {},
   "source": [
    "## Анализ"
   ]
  },
  {
   "cell_type": "markdown",
   "metadata": {},
   "source": [
    "Проверим исходные данные"
   ]
  },
  {
   "cell_type": "code",
   "execution_count": 5,
   "metadata": {},
   "outputs": [
    {
     "data": {
      "text/html": [
       "<div>\n",
       "<style scoped>\n",
       "    .dataframe tbody tr th:only-of-type {\n",
       "        vertical-align: middle;\n",
       "    }\n",
       "\n",
       "    .dataframe tbody tr th {\n",
       "        vertical-align: top;\n",
       "    }\n",
       "\n",
       "    .dataframe thead th {\n",
       "        text-align: right;\n",
       "    }\n",
       "</style>\n",
       "<table border=\"1\" class=\"dataframe\">\n",
       "  <thead>\n",
       "    <tr style=\"text-align: right;\">\n",
       "      <th></th>\n",
       "      <th>num_orders</th>\n",
       "    </tr>\n",
       "    <tr>\n",
       "      <th>datetime</th>\n",
       "      <th></th>\n",
       "    </tr>\n",
       "  </thead>\n",
       "  <tbody>\n",
       "    <tr>\n",
       "      <th>2018-03-01 00:00:00</th>\n",
       "      <td>9</td>\n",
       "    </tr>\n",
       "    <tr>\n",
       "      <th>2018-03-01 00:10:00</th>\n",
       "      <td>14</td>\n",
       "    </tr>\n",
       "    <tr>\n",
       "      <th>2018-03-01 00:20:00</th>\n",
       "      <td>28</td>\n",
       "    </tr>\n",
       "    <tr>\n",
       "      <th>2018-03-01 00:30:00</th>\n",
       "      <td>20</td>\n",
       "    </tr>\n",
       "    <tr>\n",
       "      <th>2018-03-01 00:40:00</th>\n",
       "      <td>32</td>\n",
       "    </tr>\n",
       "  </tbody>\n",
       "</table>\n",
       "</div>"
      ],
      "text/plain": [
       "                     num_orders\n",
       "datetime                       \n",
       "2018-03-01 00:00:00           9\n",
       "2018-03-01 00:10:00          14\n",
       "2018-03-01 00:20:00          28\n",
       "2018-03-01 00:30:00          20\n",
       "2018-03-01 00:40:00          32"
      ]
     },
     "execution_count": 5,
     "metadata": {},
     "output_type": "execute_result"
    }
   ],
   "source": [
    "df.head()"
   ]
  },
  {
   "cell_type": "code",
   "execution_count": 6,
   "metadata": {},
   "outputs": [
    {
     "data": {
      "text/html": [
       "<div>\n",
       "<style scoped>\n",
       "    .dataframe tbody tr th:only-of-type {\n",
       "        vertical-align: middle;\n",
       "    }\n",
       "\n",
       "    .dataframe tbody tr th {\n",
       "        vertical-align: top;\n",
       "    }\n",
       "\n",
       "    .dataframe thead th {\n",
       "        text-align: right;\n",
       "    }\n",
       "</style>\n",
       "<table border=\"1\" class=\"dataframe\">\n",
       "  <thead>\n",
       "    <tr style=\"text-align: right;\">\n",
       "      <th></th>\n",
       "      <th>num_orders</th>\n",
       "    </tr>\n",
       "    <tr>\n",
       "      <th>datetime</th>\n",
       "      <th></th>\n",
       "    </tr>\n",
       "  </thead>\n",
       "  <tbody>\n",
       "    <tr>\n",
       "      <th>2018-08-31 23:10:00</th>\n",
       "      <td>32</td>\n",
       "    </tr>\n",
       "    <tr>\n",
       "      <th>2018-08-31 23:20:00</th>\n",
       "      <td>24</td>\n",
       "    </tr>\n",
       "    <tr>\n",
       "      <th>2018-08-31 23:30:00</th>\n",
       "      <td>27</td>\n",
       "    </tr>\n",
       "    <tr>\n",
       "      <th>2018-08-31 23:40:00</th>\n",
       "      <td>39</td>\n",
       "    </tr>\n",
       "    <tr>\n",
       "      <th>2018-08-31 23:50:00</th>\n",
       "      <td>53</td>\n",
       "    </tr>\n",
       "  </tbody>\n",
       "</table>\n",
       "</div>"
      ],
      "text/plain": [
       "                     num_orders\n",
       "datetime                       \n",
       "2018-08-31 23:10:00          32\n",
       "2018-08-31 23:20:00          24\n",
       "2018-08-31 23:30:00          27\n",
       "2018-08-31 23:40:00          39\n",
       "2018-08-31 23:50:00          53"
      ]
     },
     "execution_count": 6,
     "metadata": {},
     "output_type": "execute_result"
    }
   ],
   "source": [
    "df.tail()"
   ]
  },
  {
   "cell_type": "markdown",
   "metadata": {},
   "source": [
    "Отсортируем по возрастанию, проверим на монотонность и наличие повторов"
   ]
  },
  {
   "cell_type": "code",
   "execution_count": 7,
   "metadata": {
    "scrolled": true
   },
   "outputs": [
    {
     "name": "stdout",
     "output_type": "stream",
     "text": [
      "Монотонны ли данные True\n",
      "Данные уникальны True\n"
     ]
    }
   ],
   "source": [
    "df = df.sort_index(ascending=True)\n",
    "print(f'Монотонны ли данные {df.index.is_monotonic}')\n",
    "print(f'Данные уникальны {df.index.is_unique}')"
   ]
  },
  {
   "cell_type": "markdown",
   "metadata": {},
   "source": [
    "Данные представлены в 10 минутном интервале. Работать будем в часовом интервале, проведем преобразование"
   ]
  },
  {
   "cell_type": "code",
   "execution_count": 8,
   "metadata": {},
   "outputs": [],
   "source": [
    "df = df.resample('1H').sum()"
   ]
  },
  {
   "cell_type": "code",
   "execution_count": 9,
   "metadata": {},
   "outputs": [
    {
     "name": "stdout",
     "output_type": "stream",
     "text": [
      "<class 'pandas.core.frame.DataFrame'>\n",
      "DatetimeIndex: 4416 entries, 2018-03-01 00:00:00 to 2018-08-31 23:00:00\n",
      "Freq: H\n",
      "Data columns (total 1 columns):\n",
      " #   Column      Non-Null Count  Dtype\n",
      "---  ------      --------------  -----\n",
      " 0   num_orders  4416 non-null   int64\n",
      "dtypes: int64(1)\n",
      "memory usage: 69.0 KB\n"
     ]
    }
   ],
   "source": [
    "df.info()"
   ]
  },
  {
   "cell_type": "markdown",
   "metadata": {},
   "source": [
    "Данные представлены за 6 месяцев с марта по сентябрь"
   ]
  },
  {
   "cell_type": "markdown",
   "metadata": {},
   "source": [
    "Проверим ряд на стационарность"
   ]
  },
  {
   "cell_type": "code",
   "execution_count": 10,
   "metadata": {
    "scrolled": true
   },
   "outputs": [
    {
     "name": "stdout",
     "output_type": "stream",
     "text": [
      "Ряд стационарен:True\n"
     ]
    }
   ],
   "source": [
    "p_value = 0.05 # Нулевая гипотеза предполагает, что ряд нестационарный\n",
    "fuller_test = adfuller(df['num_orders'])[1]\n",
    "print(f'Ряд стационарен:{p_value > fuller_test}') "
   ]
  },
  {
   "cell_type": "markdown",
   "metadata": {},
   "source": [
    "Проведем декомпозицию данных и посмотрим на распределение в течении одной недели"
   ]
  },
  {
   "cell_type": "code",
   "execution_count": 11,
   "metadata": {},
   "outputs": [],
   "source": [
    "decomposed = seasonal_decompose(df['num_orders'].loc['2018-03-18':'2018-03-25'])\n",
    "df_decomp = pd.DataFrame()\n",
    "df_decomp['trend'] = decomposed.trend\n",
    "df_decomp['seasonal'] = decomposed.seasonal\n",
    "df_decomp['resid'] = decomposed.resid"
   ]
  },
  {
   "cell_type": "code",
   "execution_count": 35,
   "metadata": {},
   "outputs": [
    {
     "data": {
      "text/html": [
       "<div>\n",
       "<style scoped>\n",
       "    .dataframe tbody tr th:only-of-type {\n",
       "        vertical-align: middle;\n",
       "    }\n",
       "\n",
       "    .dataframe tbody tr th {\n",
       "        vertical-align: top;\n",
       "    }\n",
       "\n",
       "    .dataframe thead th {\n",
       "        text-align: right;\n",
       "    }\n",
       "</style>\n",
       "<table border=\"1\" class=\"dataframe\">\n",
       "  <thead>\n",
       "    <tr style=\"text-align: right;\">\n",
       "      <th></th>\n",
       "      <th>trend</th>\n",
       "      <th>seasonal</th>\n",
       "      <th>resid</th>\n",
       "    </tr>\n",
       "  </thead>\n",
       "  <tbody>\n",
       "    <tr>\n",
       "      <th>count</th>\n",
       "      <td>168.000000</td>\n",
       "      <td>1.920000e+02</td>\n",
       "      <td>168.000000</td>\n",
       "    </tr>\n",
       "    <tr>\n",
       "      <th>mean</th>\n",
       "      <td>57.595982</td>\n",
       "      <td>-7.401487e-17</td>\n",
       "      <td>0.249256</td>\n",
       "    </tr>\n",
       "    <tr>\n",
       "      <th>std</th>\n",
       "      <td>8.180886</td>\n",
       "      <td>2.521312e+01</td>\n",
       "      <td>14.181732</td>\n",
       "    </tr>\n",
       "    <tr>\n",
       "      <th>min</th>\n",
       "      <td>47.104167</td>\n",
       "      <td>-4.663914e+01</td>\n",
       "      <td>-30.970982</td>\n",
       "    </tr>\n",
       "    <tr>\n",
       "      <th>25%</th>\n",
       "      <td>51.161458</td>\n",
       "      <td>-1.455878e+01</td>\n",
       "      <td>-9.215774</td>\n",
       "    </tr>\n",
       "    <tr>\n",
       "      <th>50%</th>\n",
       "      <td>55.208333</td>\n",
       "      <td>3.732887e+00</td>\n",
       "      <td>-0.228423</td>\n",
       "    </tr>\n",
       "    <tr>\n",
       "      <th>75%</th>\n",
       "      <td>60.494792</td>\n",
       "      <td>1.325967e+01</td>\n",
       "      <td>7.480655</td>\n",
       "    </tr>\n",
       "    <tr>\n",
       "      <th>max</th>\n",
       "      <td>77.791667</td>\n",
       "      <td>6.070015e+01</td>\n",
       "      <td>52.481399</td>\n",
       "    </tr>\n",
       "  </tbody>\n",
       "</table>\n",
       "</div>"
      ],
      "text/plain": [
       "            trend      seasonal       resid\n",
       "count  168.000000  1.920000e+02  168.000000\n",
       "mean    57.595982 -7.401487e-17    0.249256\n",
       "std      8.180886  2.521312e+01   14.181732\n",
       "min     47.104167 -4.663914e+01  -30.970982\n",
       "25%     51.161458 -1.455878e+01   -9.215774\n",
       "50%     55.208333  3.732887e+00   -0.228423\n",
       "75%     60.494792  1.325967e+01    7.480655\n",
       "max     77.791667  6.070015e+01   52.481399"
      ]
     },
     "execution_count": 35,
     "metadata": {},
     "output_type": "execute_result"
    }
   ],
   "source": [
    "df_decomp.describe()"
   ]
  },
  {
   "cell_type": "code",
   "execution_count": 41,
   "metadata": {},
   "outputs": [
    {
     "data": {
      "text/plain": [
       "Index(['trend', 'seasonal', 'resid'], dtype='object')"
      ]
     },
     "execution_count": 41,
     "metadata": {},
     "output_type": "execute_result"
    }
   ],
   "source": [
    "df_decomp.columns"
   ]
  },
  {
   "cell_type": "code",
   "execution_count": 43,
   "metadata": {},
   "outputs": [
    {
     "data": {
      "image/png": "[encoded data removed]",
      "text/plain": [
       "<Figure size 1440x432 with 1 Axes>"
      ]
     },
     "metadata": {
      "needs_background": "light"
     },
     "output_type": "display_data"
    }
   ],
   "source": [
    "plt.figure(figsize=(20,6))\n",
    "plt.plot(df_decomp, label=df_decomp.columns)\n",
    "plt.title('Декомпозиция в течении недели')\n",
    "plt.xlabel('Дата')\n",
    "plt.ylabel('Заказы')\n",
    "plt.grid()\n",
    "plt.legend();"
   ]
  },
  {
   "cell_type": "markdown",
   "metadata": {},
   "source": [
    "Видим что сезонность улавливается в течении дня, тоесть день в день пики роста и падения повторяются"
   ]
  },
  {
   "cell_type": "markdown",
   "metadata": {},
   "source": [
    "Построим график декомпозиции на всем доступном интервале данных на дневном интервале"
   ]
  },
  {
   "cell_type": "code",
   "execution_count": 44,
   "metadata": {},
   "outputs": [],
   "source": [
    "decomposed = seasonal_decompose(df['num_orders'].resample('1d').sum())\n",
    "df_decomp = pd.DataFrame()\n",
    "df_decomp['trend'] = decomposed.trend\n",
    "df_decomp['seasonal'] = decomposed.seasonal\n",
    "df_decomp['resid'] = decomposed.resid"
   ]
  },
  {
   "cell_type": "code",
   "execution_count": 45,
   "metadata": {},
   "outputs": [
    {
     "data": {
      "image/png": "[encoded data removed]",
      "text/plain": [
       "<Figure size 1440x432 with 1 Axes>"
      ]
     },
     "metadata": {
      "needs_background": "light"
     },
     "output_type": "display_data"
    }
   ],
   "source": [
    "plt.figure(figsize=(20,6))\n",
    "plt.plot(df_decomp, label=df_decomp.columns)\n",
    "plt.title('Декомпозиция в течении недели')\n",
    "plt.xlabel('Дата')\n",
    "plt.ylabel('Заказы')\n",
    "plt.grid()\n",
    "plt.legend();"
   ]
  },
  {
   "cell_type": "markdown",
   "metadata": {},
   "source": [
    "Прослеживается тренд с равномерным ростом от марта до августа, и в августе значительный рост числа поездок. Для определения сезонности на годовом графике необходимо данные за несколько лет"
   ]
  },
  {
   "cell_type": "markdown",
   "metadata": {},
   "source": [
    "Тренд всетаки наблюдается. Возможно на фоне дневных колебаний для тест он не заметен"
   ]
  },
  {
   "cell_type": "code",
   "execution_count": 56,
   "metadata": {},
   "outputs": [
    {
     "data": {
      "image/png": "[encoded data removed]",
      "text/plain": [
       "<Figure size 1440x432 with 1 Axes>"
      ]
     },
     "metadata": {
      "needs_background": "light"
     },
     "output_type": "display_data"
    }
   ],
   "source": [
    "plt.figure(figsize=(20,6))\n",
    "plt.plot(df['num_orders'], label='число заказов')\n",
    "plt.plot(df['num_orders'].rolling(30).std(), label='расброс 30 периодов')\n",
    "plt.plot(df['num_orders'].rolling(30).mean(), label='скользящее среднее 30 периодов')\n",
    "plt.title('Декомпозиция в течении недели')\n",
    "plt.xlabel('Дата')\n",
    "plt.ylabel('Заказы')\n",
    "plt.grid()\n",
    "plt.legend();"
   ]
  },
  {
   "cell_type": "markdown",
   "metadata": {},
   "source": [
    "Видно что в конце периода разброс количества заказов значительно растет, как и их среднее количество"
   ]
  },
  {
   "cell_type": "markdown",
   "metadata": {},
   "source": [
    "Построим график автокорреляции"
   ]
  },
  {
   "cell_type": "code",
   "execution_count": 57,
   "metadata": {},
   "outputs": [
    {
     "data": {
      "image/png": "[encoded data removed]",
      "text/plain": [
       "<Figure size 1152x576 with 1 Axes>"
      ]
     },
     "metadata": {
      "needs_background": "light"
     },
     "output_type": "display_data"
    }
   ],
   "source": [
    "fig = plot_acf(df['num_orders'], lags=100)\n",
    "fig.set_size_inches(16, 8)\n",
    "plt.show()"
   ]
  },
  {
   "cell_type": "markdown",
   "metadata": {},
   "source": [
    "На графике автокорреляции видно что данные коррелируют  с частотой в 24 часа, тоесть ежедневно картина заказов примерно повторяется"
   ]
  },
  {
   "cell_type": "markdown",
   "metadata": {},
   "source": [
    "Напишем функцию для генерации новых признаков"
   ]
  },
  {
   "cell_type": "code",
   "execution_count": 58,
   "metadata": {},
   "outputs": [],
   "source": [
    "def make_features(data, max_lag=6, \n",
    "                  step_lag=1, \n",
    "                  rolling_mean_fast=5, \n",
    "                  rolling_mean_slow=24, \n",
    "                  rolling_min_max_size=12):\n",
    "    \"\"\"Generate new features for timeseries df.\n",
    "\n",
    "    Keyword arguments:\n",
    "    data -- pandas.DataFrame\n",
    "    max_lag -- max lag, start from 2 because using diff (default 6)\n",
    "    step_lag -- step for lag (default 2)\n",
    "    rolling_mean_fast -- rolling mean length (default 5)\n",
    "    rolling_mean_slow -- rolling mean length (default 24)\n",
    "    rolling_min_max_size -- rolling min and max (default 12)\n",
    "    \"\"\"\n",
    "    data['hour'] = data.index.hour\n",
    "    data['day'] = data.index.day\n",
    "    data['dayofweek'] = data.index.dayofweek\n",
    "    for lag in range(2, max_lag, step_lag):\n",
    "        data['lag_' + str(lag)] = data.iloc[:, [0]].shift(lag)\n",
    "    data['lag_24h'] = data.iloc[:, [0]].shift(24)\n",
    "    data['std'] = data.iloc[:, [0]].rolling(rolling_mean_fast).std()\n",
    "    data['rolling_mean_fast'] = data.iloc[:, [0]].shift(1).rolling(rolling_mean_fast).mean()\n",
    "    data['rolling_mean_slow'] = data.iloc[:, [0]].shift(1).rolling(rolling_mean_slow).mean()\n",
    "    data['rolling_max'] = data.iloc[:, [0]].shift(1).rolling(rolling_min_max_size).max()\n",
    "    data['rolling_min'] = data.iloc[:, [0]].shift(1).rolling(rolling_min_max_size).min()\n",
    "    data['diff'] = data.iloc[:, [0]].diff()"
   ]
  },
  {
   "cell_type": "code",
   "execution_count": 59,
   "metadata": {},
   "outputs": [],
   "source": [
    "make_features(df)\n",
    "df = df.dropna()"
   ]
  },
  {
   "cell_type": "code",
   "execution_count": 61,
   "metadata": {},
   "outputs": [
    {
     "name": "stdout",
     "output_type": "stream",
     "text": [
      "<class 'pandas.core.frame.DataFrame'>\n",
      "DatetimeIndex: 4392 entries, 2018-03-02 00:00:00 to 2018-08-31 23:00:00\n",
      "Freq: H\n",
      "Data columns (total 15 columns):\n",
      " #   Column             Non-Null Count  Dtype  \n",
      "---  ------             --------------  -----  \n",
      " 0   num_orders         4392 non-null   int64  \n",
      " 1   hour               4392 non-null   int64  \n",
      " 2   day                4392 non-null   int64  \n",
      " 3   dayofweek          4392 non-null   int64  \n",
      " 4   lag_2              4392 non-null   float64\n",
      " 5   lag_3              4392 non-null   float64\n",
      " 6   lag_4              4392 non-null   float64\n",
      " 7   lag_5              4392 non-null   float64\n",
      " 8   lag_24h            4392 non-null   float64\n",
      " 9   std                4392 non-null   float64\n",
      " 10  rolling_mean_fast  4392 non-null   float64\n",
      " 11  rolling_mean_slow  4392 non-null   float64\n",
      " 12  rolling_max        4392 non-null   float64\n",
      " 13  rolling_min        4392 non-null   float64\n",
      " 14  diff               4392 non-null   float64\n",
      "dtypes: float64(11), int64(4)\n",
      "memory usage: 549.0 KB\n"
     ]
    }
   ],
   "source": [
    "df.info()"
   ]
  },
  {
   "cell_type": "markdown",
   "metadata": {},
   "source": [
    "Построим матрицу корреляций"
   ]
  },
  {
   "cell_type": "code",
   "execution_count": 68,
   "metadata": {},
   "outputs": [
    {
     "data": {
      "image/png": "[encoded data removed]",
      "text/plain": [
       "<Figure size 864x648 with 2 Axes>"
      ]
     },
     "metadata": {
      "needs_background": "light"
     },
     "output_type": "display_data"
    }
   ],
   "source": [
    "plt.figure(figsize=(12,9))\n",
    "plt.title('Корреляционная матрица параметров')\n",
    "sns.heatmap(df.corr().round(2), annot=True, vmin=-1, vmax=1, center= 0, cmap= 'coolwarm', square=True);"
   ]
  },
  {
   "cell_type": "markdown",
   "metadata": {},
   "source": [
    "Отфильтруем мультиколлинеарные признаки"
   ]
  },
  {
   "cell_type": "code",
   "execution_count": 69,
   "metadata": {},
   "outputs": [
    {
     "data": {
      "text/plain": [
       "{'rolling_mean_fast'}"
      ]
     },
     "execution_count": 69,
     "metadata": {},
     "output_type": "execute_result"
    }
   ],
   "source": [
    "corr_feat = set()\n",
    "corr_matrix = df.corr()\n",
    "for i in range(len(corr_matrix.columns)):\n",
    "    for j in range(i):\n",
    "        if abs(corr_matrix.iloc[i, j]) > 0.8:\n",
    "            colname = corr_matrix.columns[i]\n",
    "            corr_feat.add(colname)\n",
    "corr_feat"
   ]
  },
  {
   "cell_type": "code",
   "execution_count": 70,
   "metadata": {},
   "outputs": [],
   "source": [
    "df = df.drop(corr_feat, axis=1)"
   ]
  },
  {
   "cell_type": "markdown",
   "metadata": {},
   "source": [
    "**Вывод**\n",
    "\n",
    "В данном разделе мы провели анализ и предобработку данных. Проверили на уникальность и мнотонность - оба результата положительны. Преобразовали данные из десятиминутного в часовой интервал. \n",
    "\n",
    "Проверили временной ряд на стационарность с помощью теста Дики — Фуллера. Результат теста ряд стационарен хотя визуально можно наблюдать тренд, что может сказаться на качестве предсказания. Поэтому при создании новых признаков добавим diff, разницу между предыдущим и текущим значением. Также добаим lag_24 - лаг с разницей 24 часа, так обнаруженная нами сезонность ряда соответствует 24 часам.\n",
    "\n",
    "С помощью матрицы корреляции избаились от мультиколлинеарности признаков.\n",
    "Данные подготовлены к обучению модели"
   ]
  },
  {
   "cell_type": "markdown",
   "metadata": {},
   "source": [
    "## Обучение"
   ]
  },
  {
   "cell_type": "markdown",
   "metadata": {},
   "source": [
    "Проведем разбиение выборки на обучающую и тестовую"
   ]
  },
  {
   "cell_type": "code",
   "execution_count": 71,
   "metadata": {},
   "outputs": [
    {
     "name": "stdout",
     "output_type": "stream",
     "text": [
      "Обучающая выборка:\n",
      "Доля от общего размера: 0.9\n",
      "Cтрок, столбцов: (3952, 13)\n",
      "Доля целевого признака: 78.451\n",
      "- - - - - - - - - - \n",
      "Тестовая выборка:\n",
      "Доля от общего размера: 0.1\n",
      "Cтрок, столбцов: (440, 13)\n",
      "Доля целевого признака: 139.561\n",
      "------------------------------\n"
     ]
    }
   ],
   "source": [
    "X = df.drop('num_orders', axis=1)\n",
    "y = df['num_orders']\n",
    "\n",
    "X_train, X_test, y_train, y_test = train_test_split(X, y, shuffle=False, test_size=0.1)\n",
    "print('Обучающая выборка:')\n",
    "print('Доля от общего размера:', round(y_train.shape[0]/df.shape[0], 2))\n",
    "print('Cтрок, столбцов:', X_train.shape)\n",
    "print('Доля целевого признака:', round(y_train.mean(), 3))\n",
    "print('- '*10)\n",
    "\n",
    "\n",
    "print('Тестовая выборка:')\n",
    "print('Доля от общего размера:', round(y_test.shape[0]/df.shape[0], 2))\n",
    "print('Cтрок, столбцов:', X_test.shape)\n",
    "print('Доля целевого признака:', round(y_test.mean(), 3))\n",
    "print('-'*30)"
   ]
  },
  {
   "cell_type": "markdown",
   "metadata": {},
   "source": [
    "Для исключения утечки данных будем использовать TimeSeriesSplit, для последовательного разделения данных при кроссвалидации"
   ]
  },
  {
   "cell_type": "code",
   "execution_count": 75,
   "metadata": {},
   "outputs": [],
   "source": [
    "tts = TimeSeriesSplit(n_splits=9)\n",
    "\n",
    "pipe = Pipeline(\n",
    "    [\n",
    "        (\"regressor\", CatBoostRegressor())\n",
    "    ]\n",
    ")\n",
    "\n",
    "param_grid = [\n",
    "    {\n",
    "        'regressor': [CatBoostRegressor(random_state=47, \n",
    "                                        eval_metric='RMSE', \n",
    "                                        silent=True, \n",
    "                                        early_stopping_rounds=10)],\n",
    "        'regressor__depth': range(2, 12, 2),\n",
    "        'regressor__learning_rate': np.linspace(0.3, 0.9, 7),\n",
    "        'regressor__iterations': range(50,500,50)\n",
    "    },\n",
    "    {\n",
    "        'regressor': [Ridge(random_state=47)],\n",
    "        'regressor__alpha': [0.5, 1, 3, 5],\n",
    "        'regressor__tol': [0.00001, 0.0001, 0.001],\n",
    "        'regressor__max_iter': [4000, 8000, 10000],\n",
    "        'regressor__solver': ['auto', 'cholesky', 'lsqr']\n",
    "    },\n",
    "]\n",
    "\n",
    "grid = RandomizedSearchCV(pipe, param_grid, \n",
    "                          n_iter=50 ,\n",
    "                          cv=tts, \n",
    "                          scoring = 'neg_mean_squared_error', \n",
    "                          verbose=3)"
   ]
  },
  {
   "cell_type": "markdown",
   "metadata": {},
   "source": [
    "Pipeline подготовлен проведем обучение модели"
   ]
  },
  {
   "cell_type": "code",
   "execution_count": 76,
   "metadata": {
    "scrolled": true
   },
   "outputs": [
    {
     "name": "stdout",
     "output_type": "stream",
     "text": [
      "Fitting 9 folds for each of 50 candidates, totalling 450 fits\n",
      "[CV 1/9] END regressor=<catboost.core.CatBoostRegressor object at 0x000001446A400550>, regressor__depth=2, regressor__iterations=150, regressor__learning_rate=0.9;, score=-322.846 total time=   0.0s\n",
      "[CV 2/9] END regressor=<catboost.core.CatBoostRegressor object at 0x000001446A400550>, regressor__depth=2, regressor__iterations=150, regressor__learning_rate=0.9;, score=-243.894 total time=   0.0s\n",
      "[CV 3/9] END regressor=<catboost.core.CatBoostRegressor object at 0x000001446A400550>, regressor__depth=2, regressor__iterations=150, regressor__learning_rate=0.9;, score=-293.375 total time=   0.1s\n",
      "[CV 4/9] END regressor=<catboost.core.CatBoostRegressor object at 0x000001446A400550>, regressor__depth=2, regressor__iterations=150, regressor__learning_rate=0.9;, score=-304.969 total time=   0.0s\n",
      "[CV 5/9] END regressor=<catboost.core.CatBoostRegressor object at 0x000001446A400550>, regressor__depth=2, regressor__iterations=150, regressor__learning_rate=0.9;, score=-328.870 total time=   0.0s\n",
      "[CV 6/9] END regressor=<catboost.core.CatBoostRegressor object at 0x000001446A400550>, regressor__depth=2, regressor__iterations=150, regressor__learning_rate=0.9;, score=-353.355 total time=   0.0s\n",
      "[CV 7/9] END regressor=<catboost.core.CatBoostRegressor object at 0x000001446A400550>, regressor__depth=2, regressor__iterations=150, regressor__learning_rate=0.9;, score=-313.084 total time=   0.1s\n",
      "[CV 8/9] END regressor=<catboost.core.CatBoostRegressor object at 0x000001446A400550>, regressor__depth=2, regressor__iterations=150, regressor__learning_rate=0.9;, score=-398.047 total time=   0.1s\n",
      "[CV 9/9] END regressor=<catboost.core.CatBoostRegressor object at 0x000001446A400550>, regressor__depth=2, regressor__iterations=150, regressor__learning_rate=0.9;, score=-583.839 total time=   0.1s\n",
      "[CV 1/9] END regressor=<catboost.core.CatBoostRegressor object at 0x000001446A400550>, regressor__depth=2, regressor__iterations=450, regressor__learning_rate=0.5;, score=-256.424 total time=   0.2s\n",
      "[CV 2/9] END regressor=<catboost.core.CatBoostRegressor object at 0x000001446A400550>, regressor__depth=2, regressor__iterations=450, regressor__learning_rate=0.5;, score=-196.165 total time=   0.1s\n",
      "[CV 3/9] END regressor=<catboost.core.CatBoostRegressor object at 0x000001446A400550>, regressor__depth=2, regressor__iterations=450, regressor__learning_rate=0.5;, score=-270.753 total time=   0.1s\n",
      "[CV 4/9] END regressor=<catboost.core.CatBoostRegressor object at 0x000001446A400550>, regressor__depth=2, regressor__iterations=450, regressor__learning_rate=0.5;, score=-302.134 total time=   0.2s\n",
      "[CV 5/9] END regressor=<catboost.core.CatBoostRegressor object at 0x000001446A400550>, regressor__depth=2, regressor__iterations=450, regressor__learning_rate=0.5;, score=-263.706 total time=   0.2s\n",
      "[CV 6/9] END regressor=<catboost.core.CatBoostRegressor object at 0x000001446A400550>, regressor__depth=2, regressor__iterations=450, regressor__learning_rate=0.5;, score=-273.463 total time=   0.3s\n",
      "[CV 7/9] END regressor=<catboost.core.CatBoostRegressor object at 0x000001446A400550>, regressor__depth=2, regressor__iterations=450, regressor__learning_rate=0.5;, score=-250.225 total time=   0.3s\n",
      "[CV 8/9] END regressor=<catboost.core.CatBoostRegressor object at 0x000001446A400550>, regressor__depth=2, regressor__iterations=450, regressor__learning_rate=0.5;, score=-351.159 total time=   0.3s\n",
      "[CV 9/9] END regressor=<catboost.core.CatBoostRegressor object at 0x000001446A400550>, regressor__depth=2, regressor__iterations=450, regressor__learning_rate=0.5;, score=-516.544 total time=   0.3s\n",
      "[CV 1/9] END regressor=<catboost.core.CatBoostRegressor object at 0x000001446A400550>, regressor__depth=2, regressor__iterations=400, regressor__learning_rate=0.8;, score=-306.524 total time=   0.1s\n",
      "[CV 2/9] END regressor=<catboost.core.CatBoostRegressor object at 0x000001446A400550>, regressor__depth=2, regressor__iterations=400, regressor__learning_rate=0.8;, score=-226.517 total time=   0.1s\n",
      "[CV 3/9] END regressor=<catboost.core.CatBoostRegressor object at 0x000001446A400550>, regressor__depth=2, regressor__iterations=400, regressor__learning_rate=0.8;, score=-296.683 total time=   0.1s\n",
      "[CV 4/9] END regressor=<catboost.core.CatBoostRegressor object at 0x000001446A400550>, regressor__depth=2, regressor__iterations=400, regressor__learning_rate=0.8;, score=-340.516 total time=   0.1s\n",
      "[CV 5/9] END regressor=<catboost.core.CatBoostRegressor object at 0x000001446A400550>, regressor__depth=2, regressor__iterations=400, regressor__learning_rate=0.8;, score=-307.234 total time=   0.2s\n",
      "[CV 6/9] END regressor=<catboost.core.CatBoostRegressor object at 0x000001446A400550>, regressor__depth=2, regressor__iterations=400, regressor__learning_rate=0.8;, score=-358.303 total time=   0.2s\n",
      "[CV 7/9] END regressor=<catboost.core.CatBoostRegressor object at 0x000001446A400550>, regressor__depth=2, regressor__iterations=400, regressor__learning_rate=0.8;, score=-264.877 total time=   0.2s\n",
      "[CV 8/9] END regressor=<catboost.core.CatBoostRegressor object at 0x000001446A400550>, regressor__depth=2, regressor__iterations=400, regressor__learning_rate=0.8;, score=-447.078 total time=   0.3s\n",
      "[CV 9/9] END regressor=<catboost.core.CatBoostRegressor object at 0x000001446A400550>, regressor__depth=2, regressor__iterations=400, regressor__learning_rate=0.8;, score=-571.277 total time=   0.2s\n",
      "[CV 1/9] END regressor=<catboost.core.CatBoostRegressor object at 0x000001446A400550>, regressor__depth=6, regressor__iterations=200, regressor__learning_rate=0.7000000000000001;, score=-246.182 total time=   0.3s\n",
      "[CV 2/9] END regressor=<catboost.core.CatBoostRegressor object at 0x000001446A400550>, regressor__depth=6, regressor__iterations=200, regressor__learning_rate=0.7000000000000001;, score=-247.109 total time=   0.4s\n",
      "[CV 3/9] END regressor=<catboost.core.CatBoostRegressor object at 0x000001446A400550>, regressor__depth=6, regressor__iterations=200, regressor__learning_rate=0.7000000000000001;, score=-328.964 total time=   0.4s\n",
      "[CV 4/9] END regressor=<catboost.core.CatBoostRegressor object at 0x000001446A400550>, regressor__depth=6, regressor__iterations=200, regressor__learning_rate=0.7000000000000001;, score=-350.486 total time=   0.4s\n",
      "[CV 5/9] END regressor=<catboost.core.CatBoostRegressor object at 0x000001446A400550>, regressor__depth=6, regressor__iterations=200, regressor__learning_rate=0.7000000000000001;, score=-311.982 total time=   0.4s\n",
      "[CV 6/9] END regressor=<catboost.core.CatBoostRegressor object at 0x000001446A400550>, regressor__depth=6, regressor__iterations=200, regressor__learning_rate=0.7000000000000001;, score=-298.673 total time=   0.4s\n",
      "[CV 7/9] END regressor=<catboost.core.CatBoostRegressor object at 0x000001446A400550>, regressor__depth=6, regressor__iterations=200, regressor__learning_rate=0.7000000000000001;, score=-337.091 total time=   0.4s\n",
      "[CV 8/9] END regressor=<catboost.core.CatBoostRegressor object at 0x000001446A400550>, regressor__depth=6, regressor__iterations=200, regressor__learning_rate=0.7000000000000001;, score=-397.365 total time=   0.4s\n",
      "[CV 9/9] END regressor=<catboost.core.CatBoostRegressor object at 0x000001446A400550>, regressor__depth=6, regressor__iterations=200, regressor__learning_rate=0.7000000000000001;, score=-509.460 total time=   0.4s\n",
      "[CV 1/9] END regressor=Ridge(random_state=47), regressor__alpha=5, regressor__max_iter=8000, regressor__solver=auto, regressor__tol=0.0001;, score=-334.496 total time=   0.0s\n",
      "[CV 2/9] END regressor=Ridge(random_state=47), regressor__alpha=5, regressor__max_iter=8000, regressor__solver=auto, regressor__tol=0.0001;, score=-350.890 total time=   0.0s\n",
      "[CV 3/9] END regressor=Ridge(random_state=47), regressor__alpha=5, regressor__max_iter=8000, regressor__solver=auto, regressor__tol=0.0001;, score=-432.988 total time=   0.0s\n",
      "[CV 4/9] END regressor=Ridge(random_state=47), regressor__alpha=5, regressor__max_iter=8000, regressor__solver=auto, regressor__tol=0.0001;, score=-494.860 total time=   0.0s\n",
      "[CV 5/9] END regressor=Ridge(random_state=47), regressor__alpha=5, regressor__max_iter=8000, regressor__solver=auto, regressor__tol=0.0001;, score=-518.899 total time=   0.0s\n",
      "[CV 6/9] END regressor=Ridge(random_state=47), regressor__alpha=5, regressor__max_iter=8000, regressor__solver=auto, regressor__tol=0.0001;, score=-513.375 total time=   0.0s\n",
      "[CV 7/9] END regressor=Ridge(random_state=47), regressor__alpha=5, regressor__max_iter=8000, regressor__solver=auto, regressor__tol=0.0001;, score=-459.834 total time=   0.0s\n",
      "[CV 8/9] END regressor=Ridge(random_state=47), regressor__alpha=5, regressor__max_iter=8000, regressor__solver=auto, regressor__tol=0.0001;, score=-633.459 total time=   0.0s\n",
      "[CV 9/9] END regressor=Ridge(random_state=47), regressor__alpha=5, regressor__max_iter=8000, regressor__solver=auto, regressor__tol=0.0001;, score=-836.913 total time=   0.0s\n",
      "[CV 1/9] END regressor=<catboost.core.CatBoostRegressor object at 0x000001446A400550>, regressor__depth=2, regressor__iterations=250, regressor__learning_rate=0.6000000000000001;, score=-253.520 total time=   0.0s\n",
      "[CV 2/9] END regressor=<catboost.core.CatBoostRegressor object at 0x000001446A400550>, regressor__depth=2, regressor__iterations=250, regressor__learning_rate=0.6000000000000001;, score=-204.289 total time=   0.0s\n",
      "[CV 3/9] END regressor=<catboost.core.CatBoostRegressor object at 0x000001446A400550>, regressor__depth=2, regressor__iterations=250, regressor__learning_rate=0.6000000000000001;, score=-274.312 total time=   0.2s\n",
      "[CV 4/9] END regressor=<catboost.core.CatBoostRegressor object at 0x000001446A400550>, regressor__depth=2, regressor__iterations=250, regressor__learning_rate=0.6000000000000001;, score=-283.161 total time=   0.1s\n",
      "[CV 5/9] END regressor=<catboost.core.CatBoostRegressor object at 0x000001446A400550>, regressor__depth=2, regressor__iterations=250, regressor__learning_rate=0.6000000000000001;, score=-269.244 total time=   0.1s\n",
      "[CV 6/9] END regressor=<catboost.core.CatBoostRegressor object at 0x000001446A400550>, regressor__depth=2, regressor__iterations=250, regressor__learning_rate=0.6000000000000001;, score=-354.751 total time=   0.1s\n",
      "[CV 7/9] END regressor=<catboost.core.CatBoostRegressor object at 0x000001446A400550>, regressor__depth=2, regressor__iterations=250, regressor__learning_rate=0.6000000000000001;, score=-232.955 total time=   0.1s\n",
      "[CV 8/9] END regressor=<catboost.core.CatBoostRegressor object at 0x000001446A400550>, regressor__depth=2, regressor__iterations=250, regressor__learning_rate=0.6000000000000001;, score=-356.043 total time=   0.1s\n",
      "[CV 9/9] END regressor=<catboost.core.CatBoostRegressor object at 0x000001446A400550>, regressor__depth=2, regressor__iterations=250, regressor__learning_rate=0.6000000000000001;, score=-518.043 total time=   0.1s\n",
      "[CV 1/9] END regressor=<catboost.core.CatBoostRegressor object at 0x000001446A400550>, regressor__depth=2, regressor__iterations=450, regressor__learning_rate=0.4;, score=-213.676 total time=   0.1s\n",
      "[CV 2/9] END regressor=<catboost.core.CatBoostRegressor object at 0x000001446A400550>, regressor__depth=2, regressor__iterations=450, regressor__learning_rate=0.4;, score=-187.355 total time=   0.1s\n",
      "[CV 3/9] END regressor=<catboost.core.CatBoostRegressor object at 0x000001446A400550>, regressor__depth=2, regressor__iterations=450, regressor__learning_rate=0.4;, score=-240.728 total time=   0.1s\n",
      "[CV 4/9] END regressor=<catboost.core.CatBoostRegressor object at 0x000001446A400550>, regressor__depth=2, regressor__iterations=450, regressor__learning_rate=0.4;, score=-291.139 total time=   0.2s\n",
      "[CV 5/9] END regressor=<catboost.core.CatBoostRegressor object at 0x000001446A400550>, regressor__depth=2, regressor__iterations=450, regressor__learning_rate=0.4;, score=-248.780 total time=   0.2s\n",
      "[CV 6/9] END regressor=<catboost.core.CatBoostRegressor object at 0x000001446A400550>, regressor__depth=2, regressor__iterations=450, regressor__learning_rate=0.4;, score=-290.901 total time=   0.2s\n",
      "[CV 7/9] END regressor=<catboost.core.CatBoostRegressor object at 0x000001446A400550>, regressor__depth=2, regressor__iterations=450, regressor__learning_rate=0.4;, score=-238.686 total time=   0.3s\n",
      "[CV 8/9] END regressor=<catboost.core.CatBoostRegressor object at 0x000001446A400550>, regressor__depth=2, regressor__iterations=450, regressor__learning_rate=0.4;, score=-336.606 total time=   0.3s\n",
      "[CV 9/9] END regressor=<catboost.core.CatBoostRegressor object at 0x000001446A400550>, regressor__depth=2, regressor__iterations=450, regressor__learning_rate=0.4;, score=-521.298 total time=   0.2s\n",
      "[CV 1/9] END regressor=<catboost.core.CatBoostRegressor object at 0x000001446A400550>, regressor__depth=8, regressor__iterations=200, regressor__learning_rate=0.9;, score=-266.047 total time=   1.4s\n",
      "[CV 2/9] END regressor=<catboost.core.CatBoostRegressor object at 0x000001446A400550>, regressor__depth=8, regressor__iterations=200, regressor__learning_rate=0.9;, score=-308.845 total time=   1.0s\n",
      "[CV 3/9] END regressor=<catboost.core.CatBoostRegressor object at 0x000001446A400550>, regressor__depth=8, regressor__iterations=200, regressor__learning_rate=0.9;, score=-309.501 total time=   1.2s\n",
      "[CV 4/9] END regressor=<catboost.core.CatBoostRegressor object at 0x000001446A400550>, regressor__depth=8, regressor__iterations=200, regressor__learning_rate=0.9;, score=-329.628 total time=   1.4s\n",
      "[CV 5/9] END regressor=<catboost.core.CatBoostRegressor object at 0x000001446A400550>, regressor__depth=8, regressor__iterations=200, regressor__learning_rate=0.9;, score=-398.473 total time=   1.2s\n",
      "[CV 6/9] END regressor=<catboost.core.CatBoostRegressor object at 0x000001446A400550>, regressor__depth=8, regressor__iterations=200, regressor__learning_rate=0.9;, score=-363.308 total time=   1.2s\n",
      "[CV 7/9] END regressor=<catboost.core.CatBoostRegressor object at 0x000001446A400550>, regressor__depth=8, regressor__iterations=200, regressor__learning_rate=0.9;, score=-394.934 total time=   1.2s\n",
      "[CV 8/9] END regressor=<catboost.core.CatBoostRegressor object at 0x000001446A400550>, regressor__depth=8, regressor__iterations=200, regressor__learning_rate=0.9;, score=-425.854 total time=   1.3s\n",
      "[CV 9/9] END regressor=<catboost.core.CatBoostRegressor object at 0x000001446A400550>, regressor__depth=8, regressor__iterations=200, regressor__learning_rate=0.9;, score=-606.222 total time=   1.3s\n",
      "[CV 1/9] END regressor=Ridge(random_state=47), regressor__alpha=3, regressor__max_iter=8000, regressor__solver=cholesky, regressor__tol=1e-05;, score=-334.498 total time=   0.0s\n",
      "[CV 2/9] END regressor=Ridge(random_state=47), regressor__alpha=3, regressor__max_iter=8000, regressor__solver=cholesky, regressor__tol=1e-05;, score=-350.891 total time=   0.0s\n",
      "[CV 3/9] END regressor=Ridge(random_state=47), regressor__alpha=3, regressor__max_iter=8000, regressor__solver=cholesky, regressor__tol=1e-05;, score=-432.989 total time=   0.0s\n",
      "[CV 4/9] END regressor=Ridge(random_state=47), regressor__alpha=3, regressor__max_iter=8000, regressor__solver=cholesky, regressor__tol=1e-05;, score=-494.861 total time=   0.0s\n",
      "[CV 5/9] END regressor=Ridge(random_state=47), regressor__alpha=3, regressor__max_iter=8000, regressor__solver=cholesky, regressor__tol=1e-05;, score=-518.900 total time=   0.0s\n",
      "[CV 6/9] END regressor=Ridge(random_state=47), regressor__alpha=3, regressor__max_iter=8000, regressor__solver=cholesky, regressor__tol=1e-05;, score=-513.376 total time=   0.0s\n",
      "[CV 7/9] END regressor=Ridge(random_state=47), regressor__alpha=3, regressor__max_iter=8000, regressor__solver=cholesky, regressor__tol=1e-05;, score=-459.835 total time=   0.0s\n",
      "[CV 8/9] END regressor=Ridge(random_state=47), regressor__alpha=3, regressor__max_iter=8000, regressor__solver=cholesky, regressor__tol=1e-05;, score=-633.459 total time=   0.0s\n",
      "[CV 9/9] END regressor=Ridge(random_state=47), regressor__alpha=3, regressor__max_iter=8000, regressor__solver=cholesky, regressor__tol=1e-05;, score=-836.913 total time=   0.0s\n",
      "[CV 1/9] END regressor=<catboost.core.CatBoostRegressor object at 0x000001446A400550>, regressor__depth=2, regressor__iterations=400, regressor__learning_rate=0.9;, score=-334.959 total time=   0.0s\n",
      "[CV 2/9] END regressor=<catboost.core.CatBoostRegressor object at 0x000001446A400550>, regressor__depth=2, regressor__iterations=400, regressor__learning_rate=0.9;, score=-242.835 total time=   0.1s\n",
      "[CV 3/9] END regressor=<catboost.core.CatBoostRegressor object at 0x000001446A400550>, regressor__depth=2, regressor__iterations=400, regressor__learning_rate=0.9;, score=-310.701 total time=   0.1s\n",
      "[CV 4/9] END regressor=<catboost.core.CatBoostRegressor object at 0x000001446A400550>, regressor__depth=2, regressor__iterations=400, regressor__learning_rate=0.9;, score=-322.334 total time=   0.1s\n",
      "[CV 5/9] END regressor=<catboost.core.CatBoostRegressor object at 0x000001446A400550>, regressor__depth=2, regressor__iterations=400, regressor__learning_rate=0.9;, score=-325.569 total time=   0.1s\n",
      "[CV 6/9] END regressor=<catboost.core.CatBoostRegressor object at 0x000001446A400550>, regressor__depth=2, regressor__iterations=400, regressor__learning_rate=0.9;, score=-389.012 total time=   0.2s\n",
      "[CV 7/9] END regressor=<catboost.core.CatBoostRegressor object at 0x000001446A400550>, regressor__depth=2, regressor__iterations=400, regressor__learning_rate=0.9;, score=-311.063 total time=   0.2s\n",
      "[CV 8/9] END regressor=<catboost.core.CatBoostRegressor object at 0x000001446A400550>, regressor__depth=2, regressor__iterations=400, regressor__learning_rate=0.9;, score=-430.123 total time=   0.2s\n",
      "[CV 9/9] END regressor=<catboost.core.CatBoostRegressor object at 0x000001446A400550>, regressor__depth=2, regressor__iterations=400, regressor__learning_rate=0.9;, score=-631.808 total time=   0.2s\n",
      "[CV 1/9] END regressor=<catboost.core.CatBoostRegressor object at 0x000001446A400550>, regressor__depth=10, regressor__iterations=350, regressor__learning_rate=0.6000000000000001;, score=-287.511 total time=   6.9s\n",
      "[CV 2/9] END regressor=<catboost.core.CatBoostRegressor object at 0x000001446A400550>, regressor__depth=10, regressor__iterations=350, regressor__learning_rate=0.6000000000000001;, score=-240.868 total time=   8.3s\n",
      "[CV 3/9] END regressor=<catboost.core.CatBoostRegressor object at 0x000001446A400550>, regressor__depth=10, regressor__iterations=350, regressor__learning_rate=0.6000000000000001;, score=-314.516 total time=   8.5s\n",
      "[CV 4/9] END regressor=<catboost.core.CatBoostRegressor object at 0x000001446A400550>, regressor__depth=10, regressor__iterations=350, regressor__learning_rate=0.6000000000000001;, score=-326.206 total time=   9.0s\n",
      "[CV 5/9] END regressor=<catboost.core.CatBoostRegressor object at 0x000001446A400550>, regressor__depth=10, regressor__iterations=350, regressor__learning_rate=0.6000000000000001;, score=-369.257 total time=   9.5s\n",
      "[CV 6/9] END regressor=<catboost.core.CatBoostRegressor object at 0x000001446A400550>, regressor__depth=10, regressor__iterations=350, regressor__learning_rate=0.6000000000000001;, score=-348.314 total time=   9.7s\n",
      "[CV 7/9] END regressor=<catboost.core.CatBoostRegressor object at 0x000001446A400550>, regressor__depth=10, regressor__iterations=350, regressor__learning_rate=0.6000000000000001;, score=-361.079 total time=  10.3s\n",
      "[CV 8/9] END regressor=<catboost.core.CatBoostRegressor object at 0x000001446A400550>, regressor__depth=10, regressor__iterations=350, regressor__learning_rate=0.6000000000000001;, score=-449.800 total time=  10.7s\n",
      "[CV 9/9] END regressor=<catboost.core.CatBoostRegressor object at 0x000001446A400550>, regressor__depth=10, regressor__iterations=350, regressor__learning_rate=0.6000000000000001;, score=-686.000 total time=  10.9s\n",
      "[CV 1/9] END regressor=<catboost.core.CatBoostRegressor object at 0x000001446A400550>, regressor__depth=10, regressor__iterations=50, regressor__learning_rate=0.8;, score=-300.393 total time=   1.0s\n",
      "[CV 2/9] END regressor=<catboost.core.CatBoostRegressor object at 0x000001446A400550>, regressor__depth=10, regressor__iterations=50, regressor__learning_rate=0.8;, score=-298.662 total time=   1.3s\n",
      "[CV 3/9] END regressor=<catboost.core.CatBoostRegressor object at 0x000001446A400550>, regressor__depth=10, regressor__iterations=50, regressor__learning_rate=0.8;, score=-324.710 total time=   1.2s\n",
      "[CV 4/9] END regressor=<catboost.core.CatBoostRegressor object at 0x000001446A400550>, regressor__depth=10, regressor__iterations=50, regressor__learning_rate=0.8;, score=-333.896 total time=   1.3s\n",
      "[CV 5/9] END regressor=<catboost.core.CatBoostRegressor object at 0x000001446A400550>, regressor__depth=10, regressor__iterations=50, regressor__learning_rate=0.8;, score=-437.135 total time=   1.4s\n",
      "[CV 6/9] END regressor=<catboost.core.CatBoostRegressor object at 0x000001446A400550>, regressor__depth=10, regressor__iterations=50, regressor__learning_rate=0.8;, score=-429.686 total time=   1.4s\n",
      "[CV 7/9] END regressor=<catboost.core.CatBoostRegressor object at 0x000001446A400550>, regressor__depth=10, regressor__iterations=50, regressor__learning_rate=0.8;, score=-464.147 total time=   1.5s\n",
      "[CV 8/9] END regressor=<catboost.core.CatBoostRegressor object at 0x000001446A400550>, regressor__depth=10, regressor__iterations=50, regressor__learning_rate=0.8;, score=-518.572 total time=   1.5s\n",
      "[CV 9/9] END regressor=<catboost.core.CatBoostRegressor object at 0x000001446A400550>, regressor__depth=10, regressor__iterations=50, regressor__learning_rate=0.8;, score=-711.696 total time=   1.6s\n",
      "[CV 1/9] END regressor=<catboost.core.CatBoostRegressor object at 0x000001446A400550>, regressor__depth=4, regressor__iterations=150, regressor__learning_rate=0.4;, score=-208.917 total time=   0.0s\n",
      "[CV 2/9] END regressor=<catboost.core.CatBoostRegressor object at 0x000001446A400550>, regressor__depth=4, regressor__iterations=150, regressor__learning_rate=0.4;, score=-207.038 total time=   0.0s\n",
      "[CV 3/9] END regressor=<catboost.core.CatBoostRegressor object at 0x000001446A400550>, regressor__depth=4, regressor__iterations=150, regressor__learning_rate=0.4;, score=-257.362 total time=   0.1s\n",
      "[CV 4/9] END regressor=<catboost.core.CatBoostRegressor object at 0x000001446A400550>, regressor__depth=4, regressor__iterations=150, regressor__learning_rate=0.4;, score=-250.279 total time=   0.1s\n",
      "[CV 5/9] END regressor=<catboost.core.CatBoostRegressor object at 0x000001446A400550>, regressor__depth=4, regressor__iterations=150, regressor__learning_rate=0.4;, score=-237.851 total time=   0.1s\n",
      "[CV 6/9] END regressor=<catboost.core.CatBoostRegressor object at 0x000001446A400550>, regressor__depth=4, regressor__iterations=150, regressor__learning_rate=0.4;, score=-307.220 total time=   0.1s\n",
      "[CV 7/9] END regressor=<catboost.core.CatBoostRegressor object at 0x000001446A400550>, regressor__depth=4, regressor__iterations=150, regressor__learning_rate=0.4;, score=-246.351 total time=   0.1s\n",
      "[CV 8/9] END regressor=<catboost.core.CatBoostRegressor object at 0x000001446A400550>, regressor__depth=4, regressor__iterations=150, regressor__learning_rate=0.4;, score=-319.116 total time=   0.1s\n",
      "[CV 9/9] END regressor=<catboost.core.CatBoostRegressor object at 0x000001446A400550>, regressor__depth=4, regressor__iterations=150, regressor__learning_rate=0.4;, score=-488.867 total time=   0.1s\n",
      "[CV 1/9] END regressor=<catboost.core.CatBoostRegressor object at 0x000001446A400550>, regressor__depth=8, regressor__iterations=450, regressor__learning_rate=0.8;, score=-273.435 total time=   1.9s\n",
      "[CV 2/9] END regressor=<catboost.core.CatBoostRegressor object at 0x000001446A400550>, regressor__depth=8, regressor__iterations=450, regressor__learning_rate=0.8;, score=-301.703 total time=   2.2s\n",
      "[CV 3/9] END regressor=<catboost.core.CatBoostRegressor object at 0x000001446A400550>, regressor__depth=8, regressor__iterations=450, regressor__learning_rate=0.8;, score=-287.757 total time=   2.3s\n",
      "[CV 4/9] END regressor=<catboost.core.CatBoostRegressor object at 0x000001446A400550>, regressor__depth=8, regressor__iterations=450, regressor__learning_rate=0.8;, score=-286.180 total time=   2.5s\n",
      "[CV 5/9] END regressor=<catboost.core.CatBoostRegressor object at 0x000001446A400550>, regressor__depth=8, regressor__iterations=450, regressor__learning_rate=0.8;, score=-377.493 total time=   2.5s\n",
      "[CV 6/9] END regressor=<catboost.core.CatBoostRegressor object at 0x000001446A400550>, regressor__depth=8, regressor__iterations=450, regressor__learning_rate=0.8;, score=-358.487 total time=   2.9s\n",
      "[CV 7/9] END regressor=<catboost.core.CatBoostRegressor object at 0x000001446A400550>, regressor__depth=8, regressor__iterations=450, regressor__learning_rate=0.8;, score=-339.514 total time=   2.8s\n",
      "[CV 8/9] END regressor=<catboost.core.CatBoostRegressor object at 0x000001446A400550>, regressor__depth=8, regressor__iterations=450, regressor__learning_rate=0.8;, score=-427.138 total time=   3.0s\n",
      "[CV 9/9] END regressor=<catboost.core.CatBoostRegressor object at 0x000001446A400550>, regressor__depth=8, regressor__iterations=450, regressor__learning_rate=0.8;, score=-662.072 total time=   3.1s\n",
      "[CV 1/9] END regressor=<catboost.core.CatBoostRegressor object at 0x000001446A400550>, regressor__depth=10, regressor__iterations=150, regressor__learning_rate=0.7000000000000001;, score=-292.282 total time=   3.2s\n",
      "[CV 2/9] END regressor=<catboost.core.CatBoostRegressor object at 0x000001446A400550>, regressor__depth=10, regressor__iterations=150, regressor__learning_rate=0.7000000000000001;, score=-271.790 total time=   3.4s\n",
      "[CV 3/9] END regressor=<catboost.core.CatBoostRegressor object at 0x000001446A400550>, regressor__depth=10, regressor__iterations=150, regressor__learning_rate=0.7000000000000001;, score=-314.030 total time=   3.7s\n",
      "[CV 4/9] END regressor=<catboost.core.CatBoostRegressor object at 0x000001446A400550>, regressor__depth=10, regressor__iterations=150, regressor__learning_rate=0.7000000000000001;, score=-330.619 total time=   3.9s\n",
      "[CV 5/9] END regressor=<catboost.core.CatBoostRegressor object at 0x000001446A400550>, regressor__depth=10, regressor__iterations=150, regressor__learning_rate=0.7000000000000001;, score=-395.455 total time=   4.1s\n",
      "[CV 6/9] END regressor=<catboost.core.CatBoostRegressor object at 0x000001446A400550>, regressor__depth=10, regressor__iterations=150, regressor__learning_rate=0.7000000000000001;, score=-353.319 total time=   4.1s\n",
      "[CV 7/9] END regressor=<catboost.core.CatBoostRegressor object at 0x000001446A400550>, regressor__depth=10, regressor__iterations=150, regressor__learning_rate=0.7000000000000001;, score=-365.048 total time=   4.4s\n",
      "[CV 8/9] END regressor=<catboost.core.CatBoostRegressor object at 0x000001446A400550>, regressor__depth=10, regressor__iterations=150, regressor__learning_rate=0.7000000000000001;, score=-504.255 total time=   4.4s\n",
      "[CV 9/9] END regressor=<catboost.core.CatBoostRegressor object at 0x000001446A400550>, regressor__depth=10, regressor__iterations=150, regressor__learning_rate=0.7000000000000001;, score=-655.218 total time=   4.7s\n",
      "[CV 1/9] END regressor=<catboost.core.CatBoostRegressor object at 0x000001446A400550>, regressor__depth=8, regressor__iterations=150, regressor__learning_rate=0.7000000000000001;, score=-257.452 total time=   0.6s\n",
      "[CV 2/9] END regressor=<catboost.core.CatBoostRegressor object at 0x000001446A400550>, regressor__depth=8, regressor__iterations=150, regressor__learning_rate=0.7000000000000001;, score=-283.321 total time=   0.7s\n",
      "[CV 3/9] END regressor=<catboost.core.CatBoostRegressor object at 0x000001446A400550>, regressor__depth=8, regressor__iterations=150, regressor__learning_rate=0.7000000000000001;, score=-291.557 total time=   0.7s\n",
      "[CV 4/9] END regressor=<catboost.core.CatBoostRegressor object at 0x000001446A400550>, regressor__depth=8, regressor__iterations=150, regressor__learning_rate=0.7000000000000001;, score=-278.078 total time=   0.8s\n",
      "[CV 5/9] END regressor=<catboost.core.CatBoostRegressor object at 0x000001446A400550>, regressor__depth=8, regressor__iterations=150, regressor__learning_rate=0.7000000000000001;, score=-326.921 total time=   0.9s\n",
      "[CV 6/9] END regressor=<catboost.core.CatBoostRegressor object at 0x000001446A400550>, regressor__depth=8, regressor__iterations=150, regressor__learning_rate=0.7000000000000001;, score=-368.897 total time=   0.8s\n",
      "[CV 7/9] END regressor=<catboost.core.CatBoostRegressor object at 0x000001446A400550>, regressor__depth=8, regressor__iterations=150, regressor__learning_rate=0.7000000000000001;, score=-346.137 total time=   0.9s\n",
      "[CV 8/9] END regressor=<catboost.core.CatBoostRegressor object at 0x000001446A400550>, regressor__depth=8, regressor__iterations=150, regressor__learning_rate=0.7000000000000001;, score=-418.300 total time=   0.9s\n",
      "[CV 9/9] END regressor=<catboost.core.CatBoostRegressor object at 0x000001446A400550>, regressor__depth=8, regressor__iterations=150, regressor__learning_rate=0.7000000000000001;, score=-576.797 total time=   1.0s\n",
      "[CV 1/9] END regressor=Ridge(random_state=47), regressor__alpha=1, regressor__max_iter=10000, regressor__solver=lsqr, regressor__tol=0.0001;, score=-334.501 total time=   0.0s\n",
      "[CV 2/9] END regressor=Ridge(random_state=47), regressor__alpha=1, regressor__max_iter=10000, regressor__solver=lsqr, regressor__tol=0.0001;, score=-350.892 total time=   0.0s\n",
      "[CV 3/9] END regressor=Ridge(random_state=47), regressor__alpha=1, regressor__max_iter=10000, regressor__solver=lsqr, regressor__tol=0.0001;, score=-432.990 total time=   0.0s\n",
      "[CV 4/9] END regressor=Ridge(random_state=47), regressor__alpha=1, regressor__max_iter=10000, regressor__solver=lsqr, regressor__tol=0.0001;, score=-494.860 total time=   0.0s\n",
      "[CV 5/9] END regressor=Ridge(random_state=47), regressor__alpha=1, regressor__max_iter=10000, regressor__solver=lsqr, regressor__tol=0.0001;, score=-518.840 total time=   0.0s\n",
      "[CV 6/9] END regressor=Ridge(random_state=47), regressor__alpha=1, regressor__max_iter=10000, regressor__solver=lsqr, regressor__tol=0.0001;, score=-513.376 total time=   0.0s\n",
      "[CV 7/9] END regressor=Ridge(random_state=47), regressor__alpha=1, regressor__max_iter=10000, regressor__solver=lsqr, regressor__tol=0.0001;, score=-459.835 total time=   0.0s\n",
      "[CV 8/9] END regressor=Ridge(random_state=47), regressor__alpha=1, regressor__max_iter=10000, regressor__solver=lsqr, regressor__tol=0.0001;, score=-633.459 total time=   0.0s\n",
      "[CV 9/9] END regressor=Ridge(random_state=47), regressor__alpha=1, regressor__max_iter=10000, regressor__solver=lsqr, regressor__tol=0.0001;, score=-836.912 total time=   0.0s\n",
      "[CV 1/9] END regressor=<catboost.core.CatBoostRegressor object at 0x000001446A400550>, regressor__depth=4, regressor__iterations=300, regressor__learning_rate=0.5;, score=-219.375 total time=   0.2s\n",
      "[CV 2/9] END regressor=<catboost.core.CatBoostRegressor object at 0x000001446A400550>, regressor__depth=4, regressor__iterations=300, regressor__learning_rate=0.5;, score=-210.104 total time=   0.1s\n",
      "[CV 3/9] END regressor=<catboost.core.CatBoostRegressor object at 0x000001446A400550>, regressor__depth=4, regressor__iterations=300, regressor__learning_rate=0.5;, score=-265.261 total time=   0.2s\n",
      "[CV 4/9] END regressor=<catboost.core.CatBoostRegressor object at 0x000001446A400550>, regressor__depth=4, regressor__iterations=300, regressor__learning_rate=0.5;, score=-270.108 total time=   0.2s\n",
      "[CV 5/9] END regressor=<catboost.core.CatBoostRegressor object at 0x000001446A400550>, regressor__depth=4, regressor__iterations=300, regressor__learning_rate=0.5;, score=-284.211 total time=   0.2s\n",
      "[CV 6/9] END regressor=<catboost.core.CatBoostRegressor object at 0x000001446A400550>, regressor__depth=4, regressor__iterations=300, regressor__learning_rate=0.5;, score=-302.006 total time=   0.3s\n",
      "[CV 7/9] END regressor=<catboost.core.CatBoostRegressor object at 0x000001446A400550>, regressor__depth=4, regressor__iterations=300, regressor__learning_rate=0.5;, score=-293.776 total time=   0.2s\n",
      "[CV 8/9] END regressor=<catboost.core.CatBoostRegressor object at 0x000001446A400550>, regressor__depth=4, regressor__iterations=300, regressor__learning_rate=0.5;, score=-364.210 total time=   0.3s\n",
      "[CV 9/9] END regressor=<catboost.core.CatBoostRegressor object at 0x000001446A400550>, regressor__depth=4, regressor__iterations=300, regressor__learning_rate=0.5;, score=-494.974 total time=   0.3s\n",
      "[CV 1/9] END regressor=Ridge(random_state=47), regressor__alpha=5, regressor__max_iter=4000, regressor__solver=auto, regressor__tol=1e-05;, score=-334.496 total time=   0.0s\n",
      "[CV 2/9] END regressor=Ridge(random_state=47), regressor__alpha=5, regressor__max_iter=4000, regressor__solver=auto, regressor__tol=1e-05;, score=-350.890 total time=   0.0s\n",
      "[CV 3/9] END regressor=Ridge(random_state=47), regressor__alpha=5, regressor__max_iter=4000, regressor__solver=auto, regressor__tol=1e-05;, score=-432.988 total time=   0.0s\n",
      "[CV 4/9] END regressor=Ridge(random_state=47), regressor__alpha=5, regressor__max_iter=4000, regressor__solver=auto, regressor__tol=1e-05;, score=-494.860 total time=   0.0s\n",
      "[CV 5/9] END regressor=Ridge(random_state=47), regressor__alpha=5, regressor__max_iter=4000, regressor__solver=auto, regressor__tol=1e-05;, score=-518.899 total time=   0.0s\n",
      "[CV 6/9] END regressor=Ridge(random_state=47), regressor__alpha=5, regressor__max_iter=4000, regressor__solver=auto, regressor__tol=1e-05;, score=-513.375 total time=   0.0s\n",
      "[CV 7/9] END regressor=Ridge(random_state=47), regressor__alpha=5, regressor__max_iter=4000, regressor__solver=auto, regressor__tol=1e-05;, score=-459.834 total time=   0.0s\n",
      "[CV 8/9] END regressor=Ridge(random_state=47), regressor__alpha=5, regressor__max_iter=4000, regressor__solver=auto, regressor__tol=1e-05;, score=-633.459 total time=   0.0s\n",
      "[CV 9/9] END regressor=Ridge(random_state=47), regressor__alpha=5, regressor__max_iter=4000, regressor__solver=auto, regressor__tol=1e-05;, score=-836.913 total time=   0.0s\n",
      "[CV 1/9] END regressor=Ridge(random_state=47), regressor__alpha=1, regressor__max_iter=10000, regressor__solver=cholesky, regressor__tol=0.001;, score=-334.501 total time=   0.0s\n",
      "[CV 2/9] END regressor=Ridge(random_state=47), regressor__alpha=1, regressor__max_iter=10000, regressor__solver=cholesky, regressor__tol=0.001;, score=-350.891 total time=   0.0s\n",
      "[CV 3/9] END regressor=Ridge(random_state=47), regressor__alpha=1, regressor__max_iter=10000, regressor__solver=cholesky, regressor__tol=0.001;, score=-432.990 total time=   0.0s\n",
      "[CV 4/9] END regressor=Ridge(random_state=47), regressor__alpha=1, regressor__max_iter=10000, regressor__solver=cholesky, regressor__tol=0.001;, score=-494.863 total time=   0.0s\n",
      "[CV 5/9] END regressor=Ridge(random_state=47), regressor__alpha=1, regressor__max_iter=10000, regressor__solver=cholesky, regressor__tol=0.001;, score=-518.900 total time=   0.0s\n",
      "[CV 6/9] END regressor=Ridge(random_state=47), regressor__alpha=1, regressor__max_iter=10000, regressor__solver=cholesky, regressor__tol=0.001;, score=-513.376 total time=   0.0s\n",
      "[CV 7/9] END regressor=Ridge(random_state=47), regressor__alpha=1, regressor__max_iter=10000, regressor__solver=cholesky, regressor__tol=0.001;, score=-459.835 total time=   0.0s\n",
      "[CV 8/9] END regressor=Ridge(random_state=47), regressor__alpha=1, regressor__max_iter=10000, regressor__solver=cholesky, regressor__tol=0.001;, score=-633.459 total time=   0.0s\n",
      "[CV 9/9] END regressor=Ridge(random_state=47), regressor__alpha=1, regressor__max_iter=10000, regressor__solver=cholesky, regressor__tol=0.001;, score=-836.912 total time=   0.0s\n",
      "[CV 1/9] END regressor=<catboost.core.CatBoostRegressor object at 0x000001446A400550>, regressor__depth=4, regressor__iterations=250, regressor__learning_rate=0.8;, score=-282.152 total time=   0.1s\n",
      "[CV 2/9] END regressor=<catboost.core.CatBoostRegressor object at 0x000001446A400550>, regressor__depth=4, regressor__iterations=250, regressor__learning_rate=0.8;, score=-275.980 total time=   0.1s\n",
      "[CV 3/9] END regressor=<catboost.core.CatBoostRegressor object at 0x000001446A400550>, regressor__depth=4, regressor__iterations=250, regressor__learning_rate=0.8;, score=-334.881 total time=   0.2s\n",
      "[CV 4/9] END regressor=<catboost.core.CatBoostRegressor object at 0x000001446A400550>, regressor__depth=4, regressor__iterations=250, regressor__learning_rate=0.8;, score=-274.089 total time=   0.1s\n",
      "[CV 5/9] END regressor=<catboost.core.CatBoostRegressor object at 0x000001446A400550>, regressor__depth=4, regressor__iterations=250, regressor__learning_rate=0.8;, score=-320.287 total time=   0.2s\n",
      "[CV 6/9] END regressor=<catboost.core.CatBoostRegressor object at 0x000001446A400550>, regressor__depth=4, regressor__iterations=250, regressor__learning_rate=0.8;, score=-348.695 total time=   0.2s\n",
      "[CV 7/9] END regressor=<catboost.core.CatBoostRegressor object at 0x000001446A400550>, regressor__depth=4, regressor__iterations=250, regressor__learning_rate=0.8;, score=-302.926 total time=   0.2s\n",
      "[CV 8/9] END regressor=<catboost.core.CatBoostRegressor object at 0x000001446A400550>, regressor__depth=4, regressor__iterations=250, regressor__learning_rate=0.8;, score=-413.039 total time=   0.2s\n",
      "[CV 9/9] END regressor=<catboost.core.CatBoostRegressor object at 0x000001446A400550>, regressor__depth=4, regressor__iterations=250, regressor__learning_rate=0.8;, score=-556.781 total time=   0.2s\n",
      "[CV 1/9] END regressor=<catboost.core.CatBoostRegressor object at 0x000001446A400550>, regressor__depth=4, regressor__iterations=250, regressor__learning_rate=0.4;, score=-206.760 total time=   0.1s\n",
      "[CV 2/9] END regressor=<catboost.core.CatBoostRegressor object at 0x000001446A400550>, regressor__depth=4, regressor__iterations=250, regressor__learning_rate=0.4;, score=-208.542 total time=   0.1s\n",
      "[CV 3/9] END regressor=<catboost.core.CatBoostRegressor object at 0x000001446A400550>, regressor__depth=4, regressor__iterations=250, regressor__learning_rate=0.4;, score=-254.669 total time=   0.1s\n",
      "[CV 4/9] END regressor=<catboost.core.CatBoostRegressor object at 0x000001446A400550>, regressor__depth=4, regressor__iterations=250, regressor__learning_rate=0.4;, score=-254.400 total time=   0.1s\n",
      "[CV 5/9] END regressor=<catboost.core.CatBoostRegressor object at 0x000001446A400550>, regressor__depth=4, regressor__iterations=250, regressor__learning_rate=0.4;, score=-243.690 total time=   0.2s\n",
      "[CV 6/9] END regressor=<catboost.core.CatBoostRegressor object at 0x000001446A400550>, regressor__depth=4, regressor__iterations=250, regressor__learning_rate=0.4;, score=-301.274 total time=   0.2s\n",
      "[CV 7/9] END regressor=<catboost.core.CatBoostRegressor object at 0x000001446A400550>, regressor__depth=4, regressor__iterations=250, regressor__learning_rate=0.4;, score=-238.881 total time=   0.2s\n",
      "[CV 8/9] END regressor=<catboost.core.CatBoostRegressor object at 0x000001446A400550>, regressor__depth=4, regressor__iterations=250, regressor__learning_rate=0.4;, score=-328.356 total time=   0.2s\n",
      "[CV 9/9] END regressor=<catboost.core.CatBoostRegressor object at 0x000001446A400550>, regressor__depth=4, regressor__iterations=250, regressor__learning_rate=0.4;, score=-481.739 total time=   0.2s\n",
      "[CV 1/9] END regressor=<catboost.core.CatBoostRegressor object at 0x000001446A400550>, regressor__depth=10, regressor__iterations=300, regressor__learning_rate=0.3;, score=-271.060 total time=   6.2s\n",
      "[CV 2/9] END regressor=<catboost.core.CatBoostRegressor object at 0x000001446A400550>, regressor__depth=10, regressor__iterations=300, regressor__learning_rate=0.3;, score=-223.992 total time=   6.8s\n",
      "[CV 3/9] END regressor=<catboost.core.CatBoostRegressor object at 0x000001446A400550>, regressor__depth=10, regressor__iterations=300, regressor__learning_rate=0.3;, score=-278.294 total time=   7.3s\n",
      "[CV 4/9] END regressor=<catboost.core.CatBoostRegressor object at 0x000001446A400550>, regressor__depth=10, regressor__iterations=300, regressor__learning_rate=0.3;, score=-280.710 total time=   7.6s\n",
      "[CV 5/9] END regressor=<catboost.core.CatBoostRegressor object at 0x000001446A400550>, regressor__depth=10, regressor__iterations=300, regressor__learning_rate=0.3;, score=-349.326 total time=   8.0s\n",
      "[CV 6/9] END regressor=<catboost.core.CatBoostRegressor object at 0x000001446A400550>, regressor__depth=10, regressor__iterations=300, regressor__learning_rate=0.3;, score=-313.625 total time=   8.2s\n",
      "[CV 7/9] END regressor=<catboost.core.CatBoostRegressor object at 0x000001446A400550>, regressor__depth=10, regressor__iterations=300, regressor__learning_rate=0.3;, score=-289.305 total time=   8.8s\n",
      "[CV 8/9] END regressor=<catboost.core.CatBoostRegressor object at 0x000001446A400550>, regressor__depth=10, regressor__iterations=300, regressor__learning_rate=0.3;, score=-427.415 total time=   8.8s\n",
      "[CV 9/9] END regressor=<catboost.core.CatBoostRegressor object at 0x000001446A400550>, regressor__depth=10, regressor__iterations=300, regressor__learning_rate=0.3;, score=-547.902 total time=   9.6s\n",
      "[CV 1/9] END regressor=<catboost.core.CatBoostRegressor object at 0x000001446A400550>, regressor__depth=8, regressor__iterations=300, regressor__learning_rate=0.8;, score=-273.435 total time=   1.3s\n",
      "[CV 2/9] END regressor=<catboost.core.CatBoostRegressor object at 0x000001446A400550>, regressor__depth=8, regressor__iterations=300, regressor__learning_rate=0.8;, score=-301.703 total time=   1.5s\n",
      "[CV 3/9] END regressor=<catboost.core.CatBoostRegressor object at 0x000001446A400550>, regressor__depth=8, regressor__iterations=300, regressor__learning_rate=0.8;, score=-287.758 total time=   1.9s\n",
      "[CV 4/9] END regressor=<catboost.core.CatBoostRegressor object at 0x000001446A400550>, regressor__depth=8, regressor__iterations=300, regressor__learning_rate=0.8;, score=-286.184 total time=   1.9s\n",
      "[CV 5/9] END regressor=<catboost.core.CatBoostRegressor object at 0x000001446A400550>, regressor__depth=8, regressor__iterations=300, regressor__learning_rate=0.8;, score=-377.403 total time=   1.8s\n",
      "[CV 6/9] END regressor=<catboost.core.CatBoostRegressor object at 0x000001446A400550>, regressor__depth=8, regressor__iterations=300, regressor__learning_rate=0.8;, score=-358.410 total time=   1.8s\n",
      "[CV 7/9] END regressor=<catboost.core.CatBoostRegressor object at 0x000001446A400550>, regressor__depth=8, regressor__iterations=300, regressor__learning_rate=0.8;, score=-339.766 total time=   1.8s\n",
      "[CV 8/9] END regressor=<catboost.core.CatBoostRegressor object at 0x000001446A400550>, regressor__depth=8, regressor__iterations=300, regressor__learning_rate=0.8;, score=-427.681 total time=   2.0s\n",
      "[CV 9/9] END regressor=<catboost.core.CatBoostRegressor object at 0x000001446A400550>, regressor__depth=8, regressor__iterations=300, regressor__learning_rate=0.8;, score=-662.231 total time=   2.0s\n",
      "[CV 1/9] END regressor=<catboost.core.CatBoostRegressor object at 0x000001446A400550>, regressor__depth=10, regressor__iterations=150, regressor__learning_rate=0.8;, score=-300.532 total time=   3.1s\n",
      "[CV 2/9] END regressor=<catboost.core.CatBoostRegressor object at 0x000001446A400550>, regressor__depth=10, regressor__iterations=150, regressor__learning_rate=0.8;, score=-297.924 total time=   3.4s\n",
      "[CV 3/9] END regressor=<catboost.core.CatBoostRegressor object at 0x000001446A400550>, regressor__depth=10, regressor__iterations=150, regressor__learning_rate=0.8;, score=-324.644 total time=   3.7s\n",
      "[CV 4/9] END regressor=<catboost.core.CatBoostRegressor object at 0x000001446A400550>, regressor__depth=10, regressor__iterations=150, regressor__learning_rate=0.8;, score=-333.023 total time=   3.9s\n",
      "[CV 5/9] END regressor=<catboost.core.CatBoostRegressor object at 0x000001446A400550>, regressor__depth=10, regressor__iterations=150, regressor__learning_rate=0.8;, score=-435.518 total time=   4.3s\n",
      "[CV 6/9] END regressor=<catboost.core.CatBoostRegressor object at 0x000001446A400550>, regressor__depth=10, regressor__iterations=150, regressor__learning_rate=0.8;, score=-431.549 total time=   4.2s\n",
      "[CV 7/9] END regressor=<catboost.core.CatBoostRegressor object at 0x000001446A400550>, regressor__depth=10, regressor__iterations=150, regressor__learning_rate=0.8;, score=-463.578 total time=   4.4s\n",
      "[CV 8/9] END regressor=<catboost.core.CatBoostRegressor object at 0x000001446A400550>, regressor__depth=10, regressor__iterations=150, regressor__learning_rate=0.8;, score=-523.826 total time=   4.5s\n",
      "[CV 9/9] END regressor=<catboost.core.CatBoostRegressor object at 0x000001446A400550>, regressor__depth=10, regressor__iterations=150, regressor__learning_rate=0.8;, score=-730.208 total time=   4.8s\n",
      "[CV 1/9] END regressor=Ridge(random_state=47), regressor__alpha=3, regressor__max_iter=4000, regressor__solver=cholesky, regressor__tol=0.0001;, score=-334.498 total time=   0.0s\n",
      "[CV 2/9] END regressor=Ridge(random_state=47), regressor__alpha=3, regressor__max_iter=4000, regressor__solver=cholesky, regressor__tol=0.0001;, score=-350.891 total time=   0.0s\n",
      "[CV 3/9] END regressor=Ridge(random_state=47), regressor__alpha=3, regressor__max_iter=4000, regressor__solver=cholesky, regressor__tol=0.0001;, score=-432.989 total time=   0.0s\n",
      "[CV 4/9] END regressor=Ridge(random_state=47), regressor__alpha=3, regressor__max_iter=4000, regressor__solver=cholesky, regressor__tol=0.0001;, score=-494.861 total time=   0.0s\n",
      "[CV 5/9] END regressor=Ridge(random_state=47), regressor__alpha=3, regressor__max_iter=4000, regressor__solver=cholesky, regressor__tol=0.0001;, score=-518.900 total time=   0.0s\n",
      "[CV 6/9] END regressor=Ridge(random_state=47), regressor__alpha=3, regressor__max_iter=4000, regressor__solver=cholesky, regressor__tol=0.0001;, score=-513.376 total time=   0.0s\n",
      "[CV 7/9] END regressor=Ridge(random_state=47), regressor__alpha=3, regressor__max_iter=4000, regressor__solver=cholesky, regressor__tol=0.0001;, score=-459.835 total time=   0.0s\n",
      "[CV 8/9] END regressor=Ridge(random_state=47), regressor__alpha=3, regressor__max_iter=4000, regressor__solver=cholesky, regressor__tol=0.0001;, score=-633.459 total time=   0.0s\n",
      "[CV 9/9] END regressor=Ridge(random_state=47), regressor__alpha=3, regressor__max_iter=4000, regressor__solver=cholesky, regressor__tol=0.0001;, score=-836.913 total time=   0.0s\n",
      "[CV 1/9] END regressor=<catboost.core.CatBoostRegressor object at 0x000001446A400550>, regressor__depth=2, regressor__iterations=200, regressor__learning_rate=0.9;, score=-332.504 total time=   0.0s\n",
      "[CV 2/9] END regressor=<catboost.core.CatBoostRegressor object at 0x000001446A400550>, regressor__depth=2, regressor__iterations=200, regressor__learning_rate=0.9;, score=-237.661 total time=   0.0s\n",
      "[CV 3/9] END regressor=<catboost.core.CatBoostRegressor object at 0x000001446A400550>, regressor__depth=2, regressor__iterations=200, regressor__learning_rate=0.9;, score=-295.486 total time=   0.0s\n",
      "[CV 4/9] END regressor=<catboost.core.CatBoostRegressor object at 0x000001446A400550>, regressor__depth=2, regressor__iterations=200, regressor__learning_rate=0.9;, score=-303.957 total time=   0.0s\n",
      "[CV 5/9] END regressor=<catboost.core.CatBoostRegressor object at 0x000001446A400550>, regressor__depth=2, regressor__iterations=200, regressor__learning_rate=0.9;, score=-331.806 total time=   0.0s\n",
      "[CV 6/9] END regressor=<catboost.core.CatBoostRegressor object at 0x000001446A400550>, regressor__depth=2, regressor__iterations=200, regressor__learning_rate=0.9;, score=-367.203 total time=   0.1s\n",
      "[CV 7/9] END regressor=<catboost.core.CatBoostRegressor object at 0x000001446A400550>, regressor__depth=2, regressor__iterations=200, regressor__learning_rate=0.9;, score=-312.026 total time=   0.0s\n",
      "[CV 8/9] END regressor=<catboost.core.CatBoostRegressor object at 0x000001446A400550>, regressor__depth=2, regressor__iterations=200, regressor__learning_rate=0.9;, score=-411.047 total time=   0.1s\n",
      "[CV 9/9] END regressor=<catboost.core.CatBoostRegressor object at 0x000001446A400550>, regressor__depth=2, regressor__iterations=200, regressor__learning_rate=0.9;, score=-587.250 total time=   0.1s\n",
      "[CV 1/9] END regressor=<catboost.core.CatBoostRegressor object at 0x000001446A400550>, regressor__depth=8, regressor__iterations=150, regressor__learning_rate=0.8;, score=-273.435 total time=   0.6s\n",
      "[CV 2/9] END regressor=<catboost.core.CatBoostRegressor object at 0x000001446A400550>, regressor__depth=8, regressor__iterations=150, regressor__learning_rate=0.8;, score=-301.709 total time=   0.7s\n",
      "[CV 3/9] END regressor=<catboost.core.CatBoostRegressor object at 0x000001446A400550>, regressor__depth=8, regressor__iterations=150, regressor__learning_rate=0.8;, score=-287.779 total time=   0.7s\n",
      "[CV 4/9] END regressor=<catboost.core.CatBoostRegressor object at 0x000001446A400550>, regressor__depth=8, regressor__iterations=150, regressor__learning_rate=0.8;, score=-285.865 total time=   0.8s\n",
      "[CV 5/9] END regressor=<catboost.core.CatBoostRegressor object at 0x000001446A400550>, regressor__depth=8, regressor__iterations=150, regressor__learning_rate=0.8;, score=-376.890 total time=   0.8s\n",
      "[CV 6/9] END regressor=<catboost.core.CatBoostRegressor object at 0x000001446A400550>, regressor__depth=8, regressor__iterations=150, regressor__learning_rate=0.8;, score=-357.005 total time=   0.9s\n",
      "[CV 7/9] END regressor=<catboost.core.CatBoostRegressor object at 0x000001446A400550>, regressor__depth=8, regressor__iterations=150, regressor__learning_rate=0.8;, score=-340.440 total time=   0.9s\n",
      "[CV 8/9] END regressor=<catboost.core.CatBoostRegressor object at 0x000001446A400550>, regressor__depth=8, regressor__iterations=150, regressor__learning_rate=0.8;, score=-429.807 total time=   0.9s\n",
      "[CV 9/9] END regressor=<catboost.core.CatBoostRegressor object at 0x000001446A400550>, regressor__depth=8, regressor__iterations=150, regressor__learning_rate=0.8;, score=-663.225 total time=   1.0s\n",
      "[CV 1/9] END regressor=<catboost.core.CatBoostRegressor object at 0x000001446A400550>, regressor__depth=4, regressor__iterations=150, regressor__learning_rate=0.6000000000000001;, score=-233.870 total time=   0.0s\n",
      "[CV 2/9] END regressor=<catboost.core.CatBoostRegressor object at 0x000001446A400550>, regressor__depth=4, regressor__iterations=150, regressor__learning_rate=0.6000000000000001;, score=-221.776 total time=   0.1s\n",
      "[CV 3/9] END regressor=<catboost.core.CatBoostRegressor object at 0x000001446A400550>, regressor__depth=4, regressor__iterations=150, regressor__learning_rate=0.6000000000000001;, score=-273.955 total time=   0.1s\n",
      "[CV 4/9] END regressor=<catboost.core.CatBoostRegressor object at 0x000001446A400550>, regressor__depth=4, regressor__iterations=150, regressor__learning_rate=0.6000000000000001;, score=-269.680 total time=   0.1s\n",
      "[CV 5/9] END regressor=<catboost.core.CatBoostRegressor object at 0x000001446A400550>, regressor__depth=4, regressor__iterations=150, regressor__learning_rate=0.6000000000000001;, score=-267.254 total time=   0.1s\n",
      "[CV 6/9] END regressor=<catboost.core.CatBoostRegressor object at 0x000001446A400550>, regressor__depth=4, regressor__iterations=150, regressor__learning_rate=0.6000000000000001;, score=-296.664 total time=   0.1s\n",
      "[CV 7/9] END regressor=<catboost.core.CatBoostRegressor object at 0x000001446A400550>, regressor__depth=4, regressor__iterations=150, regressor__learning_rate=0.6000000000000001;, score=-270.929 total time=   0.1s\n",
      "[CV 8/9] END regressor=<catboost.core.CatBoostRegressor object at 0x000001446A400550>, regressor__depth=4, regressor__iterations=150, regressor__learning_rate=0.6000000000000001;, score=-343.239 total time=   0.1s\n",
      "[CV 9/9] END regressor=<catboost.core.CatBoostRegressor object at 0x000001446A400550>, regressor__depth=4, regressor__iterations=150, regressor__learning_rate=0.6000000000000001;, score=-542.235 total time=   0.1s\n",
      "[CV 1/9] END regressor=Ridge(random_state=47), regressor__alpha=0.5, regressor__max_iter=10000, regressor__solver=auto, regressor__tol=0.001;, score=-334.501 total time=   0.0s\n",
      "[CV 2/9] END regressor=Ridge(random_state=47), regressor__alpha=0.5, regressor__max_iter=10000, regressor__solver=auto, regressor__tol=0.001;, score=-350.891 total time=   0.0s\n",
      "[CV 3/9] END regressor=Ridge(random_state=47), regressor__alpha=0.5, regressor__max_iter=10000, regressor__solver=auto, regressor__tol=0.001;, score=-432.991 total time=   0.0s\n",
      "[CV 4/9] END regressor=Ridge(random_state=47), regressor__alpha=0.5, regressor__max_iter=10000, regressor__solver=auto, regressor__tol=0.001;, score=-494.863 total time=   0.0s\n",
      "[CV 5/9] END regressor=Ridge(random_state=47), regressor__alpha=0.5, regressor__max_iter=10000, regressor__solver=auto, regressor__tol=0.001;, score=-518.901 total time=   0.0s\n",
      "[CV 6/9] END regressor=Ridge(random_state=47), regressor__alpha=0.5, regressor__max_iter=10000, regressor__solver=auto, regressor__tol=0.001;, score=-513.377 total time=   0.0s\n",
      "[CV 7/9] END regressor=Ridge(random_state=47), regressor__alpha=0.5, regressor__max_iter=10000, regressor__solver=auto, regressor__tol=0.001;, score=-459.835 total time=   0.0s\n",
      "[CV 8/9] END regressor=Ridge(random_state=47), regressor__alpha=0.5, regressor__max_iter=10000, regressor__solver=auto, regressor__tol=0.001;, score=-633.459 total time=   0.0s\n",
      "[CV 9/9] END regressor=Ridge(random_state=47), regressor__alpha=0.5, regressor__max_iter=10000, regressor__solver=auto, regressor__tol=0.001;, score=-836.912 total time=   0.0s\n",
      "[CV 1/9] END regressor=Ridge(random_state=47), regressor__alpha=1, regressor__max_iter=8000, regressor__solver=lsqr, regressor__tol=0.0001;, score=-334.501 total time=   0.0s\n",
      "[CV 2/9] END regressor=Ridge(random_state=47), regressor__alpha=1, regressor__max_iter=8000, regressor__solver=lsqr, regressor__tol=0.0001;, score=-350.892 total time=   0.0s\n",
      "[CV 3/9] END regressor=Ridge(random_state=47), regressor__alpha=1, regressor__max_iter=8000, regressor__solver=lsqr, regressor__tol=0.0001;, score=-432.990 total time=   0.0s\n",
      "[CV 4/9] END regressor=Ridge(random_state=47), regressor__alpha=1, regressor__max_iter=8000, regressor__solver=lsqr, regressor__tol=0.0001;, score=-494.860 total time=   0.0s\n",
      "[CV 5/9] END regressor=Ridge(random_state=47), regressor__alpha=1, regressor__max_iter=8000, regressor__solver=lsqr, regressor__tol=0.0001;, score=-518.840 total time=   0.0s\n",
      "[CV 6/9] END regressor=Ridge(random_state=47), regressor__alpha=1, regressor__max_iter=8000, regressor__solver=lsqr, regressor__tol=0.0001;, score=-513.376 total time=   0.0s\n",
      "[CV 7/9] END regressor=Ridge(random_state=47), regressor__alpha=1, regressor__max_iter=8000, regressor__solver=lsqr, regressor__tol=0.0001;, score=-459.835 total time=   0.0s\n",
      "[CV 8/9] END regressor=Ridge(random_state=47), regressor__alpha=1, regressor__max_iter=8000, regressor__solver=lsqr, regressor__tol=0.0001;, score=-633.459 total time=   0.0s\n",
      "[CV 9/9] END regressor=Ridge(random_state=47), regressor__alpha=1, regressor__max_iter=8000, regressor__solver=lsqr, regressor__tol=0.0001;, score=-836.912 total time=   0.0s\n",
      "[CV 1/9] END regressor=Ridge(random_state=47), regressor__alpha=0.5, regressor__max_iter=8000, regressor__solver=lsqr, regressor__tol=0.001;, score=-335.564 total time=   0.0s\n",
      "[CV 2/9] END regressor=Ridge(random_state=47), regressor__alpha=0.5, regressor__max_iter=8000, regressor__solver=lsqr, regressor__tol=0.001;, score=-350.268 total time=   0.0s\n",
      "[CV 3/9] END regressor=Ridge(random_state=47), regressor__alpha=0.5, regressor__max_iter=8000, regressor__solver=lsqr, regressor__tol=0.001;, score=-431.753 total time=   0.0s\n",
      "[CV 4/9] END regressor=Ridge(random_state=47), regressor__alpha=0.5, regressor__max_iter=8000, regressor__solver=lsqr, regressor__tol=0.001;, score=-493.741 total time=   0.0s\n",
      "[CV 5/9] END regressor=Ridge(random_state=47), regressor__alpha=0.5, regressor__max_iter=8000, regressor__solver=lsqr, regressor__tol=0.001;, score=-518.441 total time=   0.0s\n",
      "[CV 6/9] END regressor=Ridge(random_state=47), regressor__alpha=0.5, regressor__max_iter=8000, regressor__solver=lsqr, regressor__tol=0.001;, score=-513.595 total time=   0.0s\n",
      "[CV 7/9] END regressor=Ridge(random_state=47), regressor__alpha=0.5, regressor__max_iter=8000, regressor__solver=lsqr, regressor__tol=0.001;, score=-460.915 total time=   0.0s\n",
      "[CV 8/9] END regressor=Ridge(random_state=47), regressor__alpha=0.5, regressor__max_iter=8000, regressor__solver=lsqr, regressor__tol=0.001;, score=-634.553 total time=   0.0s\n",
      "[CV 9/9] END regressor=Ridge(random_state=47), regressor__alpha=0.5, regressor__max_iter=8000, regressor__solver=lsqr, regressor__tol=0.001;, score=-837.515 total time=   0.0s\n",
      "[CV 1/9] END regressor=Ridge(random_state=47), regressor__alpha=0.5, regressor__max_iter=10000, regressor__solver=auto, regressor__tol=1e-05;, score=-334.501 total time=   0.0s\n",
      "[CV 2/9] END regressor=Ridge(random_state=47), regressor__alpha=0.5, regressor__max_iter=10000, regressor__solver=auto, regressor__tol=1e-05;, score=-350.891 total time=   0.0s\n",
      "[CV 3/9] END regressor=Ridge(random_state=47), regressor__alpha=0.5, regressor__max_iter=10000, regressor__solver=auto, regressor__tol=1e-05;, score=-432.991 total time=   0.0s\n",
      "[CV 4/9] END regressor=Ridge(random_state=47), regressor__alpha=0.5, regressor__max_iter=10000, regressor__solver=auto, regressor__tol=1e-05;, score=-494.863 total time=   0.0s\n",
      "[CV 5/9] END regressor=Ridge(random_state=47), regressor__alpha=0.5, regressor__max_iter=10000, regressor__solver=auto, regressor__tol=1e-05;, score=-518.901 total time=   0.0s\n",
      "[CV 6/9] END regressor=Ridge(random_state=47), regressor__alpha=0.5, regressor__max_iter=10000, regressor__solver=auto, regressor__tol=1e-05;, score=-513.377 total time=   0.0s\n",
      "[CV 7/9] END regressor=Ridge(random_state=47), regressor__alpha=0.5, regressor__max_iter=10000, regressor__solver=auto, regressor__tol=1e-05;, score=-459.835 total time=   0.0s\n",
      "[CV 8/9] END regressor=Ridge(random_state=47), regressor__alpha=0.5, regressor__max_iter=10000, regressor__solver=auto, regressor__tol=1e-05;, score=-633.459 total time=   0.0s\n",
      "[CV 9/9] END regressor=Ridge(random_state=47), regressor__alpha=0.5, regressor__max_iter=10000, regressor__solver=auto, regressor__tol=1e-05;, score=-836.912 total time=   0.0s\n",
      "[CV 1/9] END regressor=<catboost.core.CatBoostRegressor object at 0x000001446A400550>, regressor__depth=2, regressor__iterations=350, regressor__learning_rate=0.4;, score=-212.519 total time=   0.0s\n",
      "[CV 2/9] END regressor=<catboost.core.CatBoostRegressor object at 0x000001446A400550>, regressor__depth=2, regressor__iterations=350, regressor__learning_rate=0.4;, score=-185.952 total time=   0.1s\n",
      "[CV 3/9] END regressor=<catboost.core.CatBoostRegressor object at 0x000001446A400550>, regressor__depth=2, regressor__iterations=350, regressor__learning_rate=0.4;, score=-238.926 total time=   0.1s\n",
      "[CV 4/9] END regressor=<catboost.core.CatBoostRegressor object at 0x000001446A400550>, regressor__depth=2, regressor__iterations=350, regressor__learning_rate=0.4;, score=-280.169 total time=   0.1s\n",
      "[CV 5/9] END regressor=<catboost.core.CatBoostRegressor object at 0x000001446A400550>, regressor__depth=2, regressor__iterations=350, regressor__learning_rate=0.4;, score=-248.283 total time=   0.1s\n",
      "[CV 6/9] END regressor=<catboost.core.CatBoostRegressor object at 0x000001446A400550>, regressor__depth=2, regressor__iterations=350, regressor__learning_rate=0.4;, score=-299.298 total time=   0.1s\n",
      "[CV 7/9] END regressor=<catboost.core.CatBoostRegressor object at 0x000001446A400550>, regressor__depth=2, regressor__iterations=350, regressor__learning_rate=0.4;, score=-232.384 total time=   0.1s\n",
      "[CV 8/9] END regressor=<catboost.core.CatBoostRegressor object at 0x000001446A400550>, regressor__depth=2, regressor__iterations=350, regressor__learning_rate=0.4;, score=-341.816 total time=   0.2s\n",
      "[CV 9/9] END regressor=<catboost.core.CatBoostRegressor object at 0x000001446A400550>, regressor__depth=2, regressor__iterations=350, regressor__learning_rate=0.4;, score=-512.452 total time=   0.2s\n",
      "[CV 1/9] END regressor=<catboost.core.CatBoostRegressor object at 0x000001446A400550>, regressor__depth=4, regressor__iterations=50, regressor__learning_rate=0.6000000000000001;, score=-234.868 total time=   0.0s\n",
      "[CV 2/9] END regressor=<catboost.core.CatBoostRegressor object at 0x000001446A400550>, regressor__depth=4, regressor__iterations=50, regressor__learning_rate=0.6000000000000001;, score=-226.268 total time=   0.0s\n",
      "[CV 3/9] END regressor=<catboost.core.CatBoostRegressor object at 0x000001446A400550>, regressor__depth=4, regressor__iterations=50, regressor__learning_rate=0.6000000000000001;, score=-281.014 total time=   0.0s\n",
      "[CV 4/9] END regressor=<catboost.core.CatBoostRegressor object at 0x000001446A400550>, regressor__depth=4, regressor__iterations=50, regressor__learning_rate=0.6000000000000001;, score=-258.085 total time=   0.0s\n",
      "[CV 5/9] END regressor=<catboost.core.CatBoostRegressor object at 0x000001446A400550>, regressor__depth=4, regressor__iterations=50, regressor__learning_rate=0.6000000000000001;, score=-262.265 total time=   0.0s\n",
      "[CV 6/9] END regressor=<catboost.core.CatBoostRegressor object at 0x000001446A400550>, regressor__depth=4, regressor__iterations=50, regressor__learning_rate=0.6000000000000001;, score=-291.553 total time=   0.0s\n",
      "[CV 7/9] END regressor=<catboost.core.CatBoostRegressor object at 0x000001446A400550>, regressor__depth=4, regressor__iterations=50, regressor__learning_rate=0.6000000000000001;, score=-280.708 total time=   0.0s\n",
      "[CV 8/9] END regressor=<catboost.core.CatBoostRegressor object at 0x000001446A400550>, regressor__depth=4, regressor__iterations=50, regressor__learning_rate=0.6000000000000001;, score=-333.629 total time=   0.0s\n",
      "[CV 9/9] END regressor=<catboost.core.CatBoostRegressor object at 0x000001446A400550>, regressor__depth=4, regressor__iterations=50, regressor__learning_rate=0.6000000000000001;, score=-525.556 total time=   0.0s\n",
      "[CV 1/9] END regressor=<catboost.core.CatBoostRegressor object at 0x000001446A400550>, regressor__depth=2, regressor__iterations=100, regressor__learning_rate=0.6000000000000001;, score=-257.698 total time=   0.0s\n",
      "[CV 2/9] END regressor=<catboost.core.CatBoostRegressor object at 0x000001446A400550>, regressor__depth=2, regressor__iterations=100, regressor__learning_rate=0.6000000000000001;, score=-201.741 total time=   0.0s\n",
      "[CV 3/9] END regressor=<catboost.core.CatBoostRegressor object at 0x000001446A400550>, regressor__depth=2, regressor__iterations=100, regressor__learning_rate=0.6000000000000001;, score=-291.708 total time=   0.0s\n",
      "[CV 4/9] END regressor=<catboost.core.CatBoostRegressor object at 0x000001446A400550>, regressor__depth=2, regressor__iterations=100, regressor__learning_rate=0.6000000000000001;, score=-269.001 total time=   0.0s\n",
      "[CV 5/9] END regressor=<catboost.core.CatBoostRegressor object at 0x000001446A400550>, regressor__depth=2, regressor__iterations=100, regressor__learning_rate=0.6000000000000001;, score=-274.506 total time=   0.0s\n",
      "[CV 6/9] END regressor=<catboost.core.CatBoostRegressor object at 0x000001446A400550>, regressor__depth=2, regressor__iterations=100, regressor__learning_rate=0.6000000000000001;, score=-395.675 total time=   0.0s\n",
      "[CV 7/9] END regressor=<catboost.core.CatBoostRegressor object at 0x000001446A400550>, regressor__depth=2, regressor__iterations=100, regressor__learning_rate=0.6000000000000001;, score=-252.248 total time=   0.0s\n",
      "[CV 8/9] END regressor=<catboost.core.CatBoostRegressor object at 0x000001446A400550>, regressor__depth=2, regressor__iterations=100, regressor__learning_rate=0.6000000000000001;, score=-381.700 total time=   0.0s\n",
      "[CV 9/9] END regressor=<catboost.core.CatBoostRegressor object at 0x000001446A400550>, regressor__depth=2, regressor__iterations=100, regressor__learning_rate=0.6000000000000001;, score=-521.749 total time=   0.0s\n",
      "[CV 1/9] END regressor=<catboost.core.CatBoostRegressor object at 0x000001446A400550>, regressor__depth=2, regressor__iterations=50, regressor__learning_rate=0.4;, score=-197.347 total time=   0.0s\n",
      "[CV 2/9] END regressor=<catboost.core.CatBoostRegressor object at 0x000001446A400550>, regressor__depth=2, regressor__iterations=50, regressor__learning_rate=0.4;, score=-215.686 total time=   0.0s\n",
      "[CV 3/9] END regressor=<catboost.core.CatBoostRegressor object at 0x000001446A400550>, regressor__depth=2, regressor__iterations=50, regressor__learning_rate=0.4;, score=-294.374 total time=   0.0s\n",
      "[CV 4/9] END regressor=<catboost.core.CatBoostRegressor object at 0x000001446A400550>, regressor__depth=2, regressor__iterations=50, regressor__learning_rate=0.4;, score=-325.254 total time=   0.0s\n",
      "[CV 5/9] END regressor=<catboost.core.CatBoostRegressor object at 0x000001446A400550>, regressor__depth=2, regressor__iterations=50, regressor__learning_rate=0.4;, score=-314.905 total time=   0.0s\n",
      "[CV 6/9] END regressor=<catboost.core.CatBoostRegressor object at 0x000001446A400550>, regressor__depth=2, regressor__iterations=50, regressor__learning_rate=0.4;, score=-355.990 total time=   0.0s\n",
      "[CV 7/9] END regressor=<catboost.core.CatBoostRegressor object at 0x000001446A400550>, regressor__depth=2, regressor__iterations=50, regressor__learning_rate=0.4;, score=-312.988 total time=   0.0s\n",
      "[CV 8/9] END regressor=<catboost.core.CatBoostRegressor object at 0x000001446A400550>, regressor__depth=2, regressor__iterations=50, regressor__learning_rate=0.4;, score=-465.852 total time=   0.0s\n",
      "[CV 9/9] END regressor=<catboost.core.CatBoostRegressor object at 0x000001446A400550>, regressor__depth=2, regressor__iterations=50, regressor__learning_rate=0.4;, score=-610.075 total time=   0.0s\n",
      "[CV 1/9] END regressor=<catboost.core.CatBoostRegressor object at 0x000001446A400550>, regressor__depth=6, regressor__iterations=250, regressor__learning_rate=0.3;, score=-199.453 total time=   0.3s\n",
      "[CV 2/9] END regressor=<catboost.core.CatBoostRegressor object at 0x000001446A400550>, regressor__depth=6, regressor__iterations=250, regressor__learning_rate=0.3;, score=-183.494 total time=   0.3s\n",
      "[CV 3/9] END regressor=<catboost.core.CatBoostRegressor object at 0x000001446A400550>, regressor__depth=6, regressor__iterations=250, regressor__learning_rate=0.3;, score=-230.305 total time=   0.4s\n",
      "[CV 4/9] END regressor=<catboost.core.CatBoostRegressor object at 0x000001446A400550>, regressor__depth=6, regressor__iterations=250, regressor__learning_rate=0.3;, score=-239.169 total time=   0.4s\n",
      "[CV 5/9] END regressor=<catboost.core.CatBoostRegressor object at 0x000001446A400550>, regressor__depth=6, regressor__iterations=250, regressor__learning_rate=0.3;, score=-259.713 total time=   0.4s\n",
      "[CV 6/9] END regressor=<catboost.core.CatBoostRegressor object at 0x000001446A400550>, regressor__depth=6, regressor__iterations=250, regressor__learning_rate=0.3;, score=-252.640 total time=   0.5s\n",
      "[CV 7/9] END regressor=<catboost.core.CatBoostRegressor object at 0x000001446A400550>, regressor__depth=6, regressor__iterations=250, regressor__learning_rate=0.3;, score=-252.304 total time=   0.5s\n",
      "[CV 8/9] END regressor=<catboost.core.CatBoostRegressor object at 0x000001446A400550>, regressor__depth=6, regressor__iterations=250, regressor__learning_rate=0.3;, score=-323.102 total time=   0.5s\n",
      "[CV 9/9] END regressor=<catboost.core.CatBoostRegressor object at 0x000001446A400550>, regressor__depth=6, regressor__iterations=250, regressor__learning_rate=0.3;, score=-467.367 total time=   0.5s\n",
      "[CV 1/9] END regressor=<catboost.core.CatBoostRegressor object at 0x000001446A400550>, regressor__depth=4, regressor__iterations=450, regressor__learning_rate=0.5;, score=-219.684 total time=   0.2s\n",
      "[CV 2/9] END regressor=<catboost.core.CatBoostRegressor object at 0x000001446A400550>, regressor__depth=4, regressor__iterations=450, regressor__learning_rate=0.5;, score=-209.789 total time=   0.3s\n",
      "[CV 3/9] END regressor=<catboost.core.CatBoostRegressor object at 0x000001446A400550>, regressor__depth=4, regressor__iterations=450, regressor__learning_rate=0.5;, score=-265.218 total time=   0.3s\n",
      "[CV 4/9] END regressor=<catboost.core.CatBoostRegressor object at 0x000001446A400550>, regressor__depth=4, regressor__iterations=450, regressor__learning_rate=0.5;, score=-273.648 total time=   0.3s\n",
      "[CV 5/9] END regressor=<catboost.core.CatBoostRegressor object at 0x000001446A400550>, regressor__depth=4, regressor__iterations=450, regressor__learning_rate=0.5;, score=-285.914 total time=   0.4s\n",
      "[CV 6/9] END regressor=<catboost.core.CatBoostRegressor object at 0x000001446A400550>, regressor__depth=4, regressor__iterations=450, regressor__learning_rate=0.5;, score=-306.455 total time=   0.4s\n",
      "[CV 7/9] END regressor=<catboost.core.CatBoostRegressor object at 0x000001446A400550>, regressor__depth=4, regressor__iterations=450, regressor__learning_rate=0.5;, score=-298.173 total time=   0.4s\n",
      "[CV 8/9] END regressor=<catboost.core.CatBoostRegressor object at 0x000001446A400550>, regressor__depth=4, regressor__iterations=450, regressor__learning_rate=0.5;, score=-367.740 total time=   0.4s\n",
      "[CV 9/9] END regressor=<catboost.core.CatBoostRegressor object at 0x000001446A400550>, regressor__depth=4, regressor__iterations=450, regressor__learning_rate=0.5;, score=-510.888 total time=   0.5s\n",
      "[CV 1/9] END regressor=<catboost.core.CatBoostRegressor object at 0x000001446A400550>, regressor__depth=8, regressor__iterations=150, regressor__learning_rate=0.5;, score=-229.405 total time=   0.6s\n",
      "[CV 2/9] END regressor=<catboost.core.CatBoostRegressor object at 0x000001446A400550>, regressor__depth=8, regressor__iterations=150, regressor__learning_rate=0.5;, score=-206.508 total time=   0.7s\n",
      "[CV 3/9] END regressor=<catboost.core.CatBoostRegressor object at 0x000001446A400550>, regressor__depth=8, regressor__iterations=150, regressor__learning_rate=0.5;, score=-270.249 total time=   0.7s\n",
      "[CV 4/9] END regressor=<catboost.core.CatBoostRegressor object at 0x000001446A400550>, regressor__depth=8, regressor__iterations=150, regressor__learning_rate=0.5;, score=-260.912 total time=   0.8s\n",
      "[CV 5/9] END regressor=<catboost.core.CatBoostRegressor object at 0x000001446A400550>, regressor__depth=8, regressor__iterations=150, regressor__learning_rate=0.5;, score=-305.794 total time=   0.8s\n",
      "[CV 6/9] END regressor=<catboost.core.CatBoostRegressor object at 0x000001446A400550>, regressor__depth=8, regressor__iterations=150, regressor__learning_rate=0.5;, score=-333.308 total time=   0.8s\n",
      "[CV 7/9] END regressor=<catboost.core.CatBoostRegressor object at 0x000001446A400550>, regressor__depth=8, regressor__iterations=150, regressor__learning_rate=0.5;, score=-291.235 total time=   0.9s\n",
      "[CV 8/9] END regressor=<catboost.core.CatBoostRegressor object at 0x000001446A400550>, regressor__depth=8, regressor__iterations=150, regressor__learning_rate=0.5;, score=-397.734 total time=   1.0s\n",
      "[CV 9/9] END regressor=<catboost.core.CatBoostRegressor object at 0x000001446A400550>, regressor__depth=8, regressor__iterations=150, regressor__learning_rate=0.5;, score=-510.323 total time=   1.0s\n",
      "[CV 1/9] END regressor=<catboost.core.CatBoostRegressor object at 0x000001446A400550>, regressor__depth=8, regressor__iterations=100, regressor__learning_rate=0.4;, score=-200.025 total time=   0.4s\n",
      "[CV 2/9] END regressor=<catboost.core.CatBoostRegressor object at 0x000001446A400550>, regressor__depth=8, regressor__iterations=100, regressor__learning_rate=0.4;, score=-202.962 total time=   0.4s\n",
      "[CV 3/9] END regressor=<catboost.core.CatBoostRegressor object at 0x000001446A400550>, regressor__depth=8, regressor__iterations=100, regressor__learning_rate=0.4;, score=-263.887 total time=   0.5s\n",
      "[CV 4/9] END regressor=<catboost.core.CatBoostRegressor object at 0x000001446A400550>, regressor__depth=8, regressor__iterations=100, regressor__learning_rate=0.4;, score=-253.009 total time=   0.5s\n",
      "[CV 5/9] END regressor=<catboost.core.CatBoostRegressor object at 0x000001446A400550>, regressor__depth=8, regressor__iterations=100, regressor__learning_rate=0.4;, score=-305.194 total time=   0.5s\n",
      "[CV 6/9] END regressor=<catboost.core.CatBoostRegressor object at 0x000001446A400550>, regressor__depth=8, regressor__iterations=100, regressor__learning_rate=0.4;, score=-307.879 total time=   0.5s\n",
      "[CV 7/9] END regressor=<catboost.core.CatBoostRegressor object at 0x000001446A400550>, regressor__depth=8, regressor__iterations=100, regressor__learning_rate=0.4;, score=-263.227 total time=   0.6s\n",
      "[CV 8/9] END regressor=<catboost.core.CatBoostRegressor object at 0x000001446A400550>, regressor__depth=8, regressor__iterations=100, regressor__learning_rate=0.4;, score=-413.987 total time=   0.6s\n",
      "[CV 9/9] END regressor=<catboost.core.CatBoostRegressor object at 0x000001446A400550>, regressor__depth=8, regressor__iterations=100, regressor__learning_rate=0.4;, score=-500.465 total time=   0.6s\n",
      "[CV 1/9] END regressor=<catboost.core.CatBoostRegressor object at 0x000001446A400550>, regressor__depth=8, regressor__iterations=350, regressor__learning_rate=0.3;, score=-203.323 total time=   1.6s\n",
      "[CV 2/9] END regressor=<catboost.core.CatBoostRegressor object at 0x000001446A400550>, regressor__depth=8, regressor__iterations=350, regressor__learning_rate=0.3;, score=-194.193 total time=   1.7s\n",
      "[CV 3/9] END regressor=<catboost.core.CatBoostRegressor object at 0x000001446A400550>, regressor__depth=8, regressor__iterations=350, regressor__learning_rate=0.3;, score=-254.494 total time=   1.8s\n",
      "[CV 4/9] END regressor=<catboost.core.CatBoostRegressor object at 0x000001446A400550>, regressor__depth=8, regressor__iterations=350, regressor__learning_rate=0.3;, score=-237.264 total time=   2.0s\n",
      "[CV 5/9] END regressor=<catboost.core.CatBoostRegressor object at 0x000001446A400550>, regressor__depth=8, regressor__iterations=350, regressor__learning_rate=0.3;, score=-271.538 total time=   2.2s\n",
      "[CV 6/9] END regressor=<catboost.core.CatBoostRegressor object at 0x000001446A400550>, regressor__depth=8, regressor__iterations=350, regressor__learning_rate=0.3;, score=-282.759 total time=   2.1s\n",
      "[CV 7/9] END regressor=<catboost.core.CatBoostRegressor object at 0x000001446A400550>, regressor__depth=8, regressor__iterations=350, regressor__learning_rate=0.3;, score=-279.696 total time=   2.3s\n",
      "[CV 8/9] END regressor=<catboost.core.CatBoostRegressor object at 0x000001446A400550>, regressor__depth=8, regressor__iterations=350, regressor__learning_rate=0.3;, score=-376.877 total time=   2.4s\n",
      "[CV 9/9] END regressor=<catboost.core.CatBoostRegressor object at 0x000001446A400550>, regressor__depth=8, regressor__iterations=350, regressor__learning_rate=0.3;, score=-524.695 total time=   2.6s\n",
      "[CV 1/9] END regressor=<catboost.core.CatBoostRegressor object at 0x000001446A400550>, regressor__depth=8, regressor__iterations=450, regressor__learning_rate=0.9;, score=-266.047 total time=   2.0s\n",
      "[CV 2/9] END regressor=<catboost.core.CatBoostRegressor object at 0x000001446A400550>, regressor__depth=8, regressor__iterations=450, regressor__learning_rate=0.9;, score=-308.846 total time=   2.3s\n",
      "[CV 3/9] END regressor=<catboost.core.CatBoostRegressor object at 0x000001446A400550>, regressor__depth=8, regressor__iterations=450, regressor__learning_rate=0.9;, score=-309.466 total time=   2.2s\n",
      "[CV 4/9] END regressor=<catboost.core.CatBoostRegressor object at 0x000001446A400550>, regressor__depth=8, regressor__iterations=450, regressor__learning_rate=0.9;, score=-329.629 total time=   2.5s\n",
      "[CV 5/9] END regressor=<catboost.core.CatBoostRegressor object at 0x000001446A400550>, regressor__depth=8, regressor__iterations=450, regressor__learning_rate=0.9;, score=-398.366 total time=   2.5s\n",
      "[CV 6/9] END regressor=<catboost.core.CatBoostRegressor object at 0x000001446A400550>, regressor__depth=8, regressor__iterations=450, regressor__learning_rate=0.9;, score=-363.188 total time=   2.9s\n",
      "[CV 7/9] END regressor=<catboost.core.CatBoostRegressor object at 0x000001446A400550>, regressor__depth=8, regressor__iterations=450, regressor__learning_rate=0.9;, score=-394.259 total time=   2.8s\n",
      "[CV 8/9] END regressor=<catboost.core.CatBoostRegressor object at 0x000001446A400550>, regressor__depth=8, regressor__iterations=450, regressor__learning_rate=0.9;, score=-424.398 total time=   2.9s\n",
      "[CV 9/9] END regressor=<catboost.core.CatBoostRegressor object at 0x000001446A400550>, regressor__depth=8, regressor__iterations=450, regressor__learning_rate=0.9;, score=-610.359 total time=   3.0s\n",
      "[CV 1/9] END regressor=<catboost.core.CatBoostRegressor object at 0x000001446A400550>, regressor__depth=4, regressor__iterations=100, regressor__learning_rate=0.9;, score=-262.698 total time=   0.0s\n",
      "[CV 2/9] END regressor=<catboost.core.CatBoostRegressor object at 0x000001446A400550>, regressor__depth=4, regressor__iterations=100, regressor__learning_rate=0.9;, score=-359.147 total time=   0.0s\n",
      "[CV 3/9] END regressor=<catboost.core.CatBoostRegressor object at 0x000001446A400550>, regressor__depth=4, regressor__iterations=100, regressor__learning_rate=0.9;, score=-321.597 total time=   0.0s\n",
      "[CV 4/9] END regressor=<catboost.core.CatBoostRegressor object at 0x000001446A400550>, regressor__depth=4, regressor__iterations=100, regressor__learning_rate=0.9;, score=-352.739 total time=   0.0s\n",
      "[CV 5/9] END regressor=<catboost.core.CatBoostRegressor object at 0x000001446A400550>, regressor__depth=4, regressor__iterations=100, regressor__learning_rate=0.9;, score=-311.912 total time=   0.0s\n",
      "[CV 6/9] END regressor=<catboost.core.CatBoostRegressor object at 0x000001446A400550>, regressor__depth=4, regressor__iterations=100, regressor__learning_rate=0.9;, score=-370.585 total time=   0.0s\n",
      "[CV 7/9] END regressor=<catboost.core.CatBoostRegressor object at 0x000001446A400550>, regressor__depth=4, regressor__iterations=100, regressor__learning_rate=0.9;, score=-351.310 total time=   0.0s\n",
      "[CV 8/9] END regressor=<catboost.core.CatBoostRegressor object at 0x000001446A400550>, regressor__depth=4, regressor__iterations=100, regressor__learning_rate=0.9;, score=-423.723 total time=   0.0s\n",
      "[CV 9/9] END regressor=<catboost.core.CatBoostRegressor object at 0x000001446A400550>, regressor__depth=4, regressor__iterations=100, regressor__learning_rate=0.9;, score=-557.733 total time=   0.0s\n",
      "[CV 1/9] END regressor=<catboost.core.CatBoostRegressor object at 0x000001446A400550>, regressor__depth=10, regressor__iterations=300, regressor__learning_rate=0.7000000000000001;, score=-292.282 total time=   6.0s\n",
      "[CV 2/9] END regressor=<catboost.core.CatBoostRegressor object at 0x000001446A400550>, regressor__depth=10, regressor__iterations=300, regressor__learning_rate=0.7000000000000001;, score=-271.790 total time=   6.8s\n",
      "[CV 3/9] END regressor=<catboost.core.CatBoostRegressor object at 0x000001446A400550>, regressor__depth=10, regressor__iterations=300, regressor__learning_rate=0.7000000000000001;, score=-314.033 total time=   7.4s\n",
      "[CV 4/9] END regressor=<catboost.core.CatBoostRegressor object at 0x000001446A400550>, regressor__depth=10, regressor__iterations=300, regressor__learning_rate=0.7000000000000001;, score=-330.605 total time=   7.7s\n",
      "[CV 5/9] END regressor=<catboost.core.CatBoostRegressor object at 0x000001446A400550>, regressor__depth=10, regressor__iterations=300, regressor__learning_rate=0.7000000000000001;, score=-395.456 total time=   8.0s\n",
      "[CV 6/9] END regressor=<catboost.core.CatBoostRegressor object at 0x000001446A400550>, regressor__depth=10, regressor__iterations=300, regressor__learning_rate=0.7000000000000001;, score=-353.302 total time=   8.3s\n",
      "[CV 7/9] END regressor=<catboost.core.CatBoostRegressor object at 0x000001446A400550>, regressor__depth=10, regressor__iterations=300, regressor__learning_rate=0.7000000000000001;, score=-365.155 total time=   8.7s\n",
      "[CV 8/9] END regressor=<catboost.core.CatBoostRegressor object at 0x000001446A400550>, regressor__depth=10, regressor__iterations=300, regressor__learning_rate=0.7000000000000001;, score=-503.604 total time=   8.9s\n",
      "[CV 9/9] END regressor=<catboost.core.CatBoostRegressor object at 0x000001446A400550>, regressor__depth=10, regressor__iterations=300, regressor__learning_rate=0.7000000000000001;, score=-655.108 total time=   9.5s\n",
      "[CV 1/9] END regressor=<catboost.core.CatBoostRegressor object at 0x000001446A400550>, regressor__depth=2, regressor__iterations=250, regressor__learning_rate=0.5;, score=-251.847 total time=   0.0s\n",
      "[CV 2/9] END regressor=<catboost.core.CatBoostRegressor object at 0x000001446A400550>, regressor__depth=2, regressor__iterations=250, regressor__learning_rate=0.5;, score=-199.297 total time=   0.0s\n",
      "[CV 3/9] END regressor=<catboost.core.CatBoostRegressor object at 0x000001446A400550>, regressor__depth=2, regressor__iterations=250, regressor__learning_rate=0.5;, score=-267.683 total time=   0.1s\n",
      "[CV 4/9] END regressor=<catboost.core.CatBoostRegressor object at 0x000001446A400550>, regressor__depth=2, regressor__iterations=250, regressor__learning_rate=0.5;, score=-296.667 total time=   0.1s\n",
      "[CV 5/9] END regressor=<catboost.core.CatBoostRegressor object at 0x000001446A400550>, regressor__depth=2, regressor__iterations=250, regressor__learning_rate=0.5;, score=-271.175 total time=   0.1s\n",
      "[CV 6/9] END regressor=<catboost.core.CatBoostRegressor object at 0x000001446A400550>, regressor__depth=2, regressor__iterations=250, regressor__learning_rate=0.5;, score=-278.177 total time=   0.1s\n",
      "[CV 7/9] END regressor=<catboost.core.CatBoostRegressor object at 0x000001446A400550>, regressor__depth=2, regressor__iterations=250, regressor__learning_rate=0.5;, score=-241.819 total time=   0.1s\n",
      "[CV 8/9] END regressor=<catboost.core.CatBoostRegressor object at 0x000001446A400550>, regressor__depth=2, regressor__iterations=250, regressor__learning_rate=0.5;, score=-345.341 total time=   0.1s\n",
      "[CV 9/9] END regressor=<catboost.core.CatBoostRegressor object at 0x000001446A400550>, regressor__depth=2, regressor__iterations=250, regressor__learning_rate=0.5;, score=-508.495 total time=   0.1s\n",
      "[CV 1/9] END regressor=<catboost.core.CatBoostRegressor object at 0x000001446A400550>, regressor__depth=6, regressor__iterations=50, regressor__learning_rate=0.3;, score=-198.732 total time=   0.0s\n",
      "[CV 2/9] END regressor=<catboost.core.CatBoostRegressor object at 0x000001446A400550>, regressor__depth=6, regressor__iterations=50, regressor__learning_rate=0.3;, score=-192.262 total time=   0.0s\n",
      "[CV 3/9] END regressor=<catboost.core.CatBoostRegressor object at 0x000001446A400550>, regressor__depth=6, regressor__iterations=50, regressor__learning_rate=0.3;, score=-252.856 total time=   0.0s\n",
      "[CV 4/9] END regressor=<catboost.core.CatBoostRegressor object at 0x000001446A400550>, regressor__depth=6, regressor__iterations=50, regressor__learning_rate=0.3;, score=-238.463 total time=   0.0s\n",
      "[CV 5/9] END regressor=<catboost.core.CatBoostRegressor object at 0x000001446A400550>, regressor__depth=6, regressor__iterations=50, regressor__learning_rate=0.3;, score=-274.975 total time=   0.0s\n",
      "[CV 6/9] END regressor=<catboost.core.CatBoostRegressor object at 0x000001446A400550>, regressor__depth=6, regressor__iterations=50, regressor__learning_rate=0.3;, score=-268.507 total time=   0.0s\n",
      "[CV 7/9] END regressor=<catboost.core.CatBoostRegressor object at 0x000001446A400550>, regressor__depth=6, regressor__iterations=50, regressor__learning_rate=0.3;, score=-266.340 total time=   0.0s\n",
      "[CV 8/9] END regressor=<catboost.core.CatBoostRegressor object at 0x000001446A400550>, regressor__depth=6, regressor__iterations=50, regressor__learning_rate=0.3;, score=-354.507 total time=   0.0s\n",
      "[CV 9/9] END regressor=<catboost.core.CatBoostRegressor object at 0x000001446A400550>, regressor__depth=6, regressor__iterations=50, regressor__learning_rate=0.3;, score=-515.073 total time=   0.1s\n",
      "[CV 1/9] END regressor=<catboost.core.CatBoostRegressor object at 0x000001446A400550>, regressor__depth=4, regressor__iterations=300, regressor__learning_rate=0.9;, score=-263.440 total time=   0.1s\n",
      "[CV 2/9] END regressor=<catboost.core.CatBoostRegressor object at 0x000001446A400550>, regressor__depth=4, regressor__iterations=300, regressor__learning_rate=0.9;, score=-357.455 total time=   0.1s\n",
      "[CV 3/9] END regressor=<catboost.core.CatBoostRegressor object at 0x000001446A400550>, regressor__depth=4, regressor__iterations=300, regressor__learning_rate=0.9;, score=-327.505 total time=   0.2s\n",
      "[CV 4/9] END regressor=<catboost.core.CatBoostRegressor object at 0x000001446A400550>, regressor__depth=4, regressor__iterations=300, regressor__learning_rate=0.9;, score=-368.409 total time=   0.2s\n",
      "[CV 5/9] END regressor=<catboost.core.CatBoostRegressor object at 0x000001446A400550>, regressor__depth=4, regressor__iterations=300, regressor__learning_rate=0.9;, score=-329.855 total time=   0.2s\n",
      "[CV 6/9] END regressor=<catboost.core.CatBoostRegressor object at 0x000001446A400550>, regressor__depth=4, regressor__iterations=300, regressor__learning_rate=0.9;, score=-371.356 total time=   0.2s\n",
      "[CV 7/9] END regressor=<catboost.core.CatBoostRegressor object at 0x000001446A400550>, regressor__depth=4, regressor__iterations=300, regressor__learning_rate=0.9;, score=-365.018 total time=   0.3s\n",
      "[CV 8/9] END regressor=<catboost.core.CatBoostRegressor object at 0x000001446A400550>, regressor__depth=4, regressor__iterations=300, regressor__learning_rate=0.9;, score=-443.062 total time=   0.3s\n",
      "[CV 9/9] END regressor=<catboost.core.CatBoostRegressor object at 0x000001446A400550>, regressor__depth=4, regressor__iterations=300, regressor__learning_rate=0.9;, score=-570.061 total time=   0.3s\n",
      "[CV 1/9] END regressor=<catboost.core.CatBoostRegressor object at 0x000001446A400550>, regressor__depth=2, regressor__iterations=100, regressor__learning_rate=0.9;, score=-309.080 total time=   0.0s\n",
      "[CV 2/9] END regressor=<catboost.core.CatBoostRegressor object at 0x000001446A400550>, regressor__depth=2, regressor__iterations=100, regressor__learning_rate=0.9;, score=-256.372 total time=   0.0s\n",
      "[CV 3/9] END regressor=<catboost.core.CatBoostRegressor object at 0x000001446A400550>, regressor__depth=2, regressor__iterations=100, regressor__learning_rate=0.9;, score=-313.636 total time=   0.0s\n",
      "[CV 4/9] END regressor=<catboost.core.CatBoostRegressor object at 0x000001446A400550>, regressor__depth=2, regressor__iterations=100, regressor__learning_rate=0.9;, score=-310.520 total time=   0.0s\n",
      "[CV 5/9] END regressor=<catboost.core.CatBoostRegressor object at 0x000001446A400550>, regressor__depth=2, regressor__iterations=100, regressor__learning_rate=0.9;, score=-323.695 total time=   0.0s\n",
      "[CV 6/9] END regressor=<catboost.core.CatBoostRegressor object at 0x000001446A400550>, regressor__depth=2, regressor__iterations=100, regressor__learning_rate=0.9;, score=-343.756 total time=   0.0s\n",
      "[CV 7/9] END regressor=<catboost.core.CatBoostRegressor object at 0x000001446A400550>, regressor__depth=2, regressor__iterations=100, regressor__learning_rate=0.9;, score=-306.400 total time=   0.0s\n",
      "[CV 8/9] END regressor=<catboost.core.CatBoostRegressor object at 0x000001446A400550>, regressor__depth=2, regressor__iterations=100, regressor__learning_rate=0.9;, score=-394.089 total time=   0.0s\n",
      "[CV 9/9] END regressor=<catboost.core.CatBoostRegressor object at 0x000001446A400550>, regressor__depth=2, regressor__iterations=100, regressor__learning_rate=0.9;, score=-556.250 total time=   0.0s\n",
      "[CV 1/9] END regressor=<catboost.core.CatBoostRegressor object at 0x000001446A400550>, regressor__depth=6, regressor__iterations=300, regressor__learning_rate=0.9;, score=-307.323 total time=   0.4s\n",
      "[CV 2/9] END regressor=<catboost.core.CatBoostRegressor object at 0x000001446A400550>, regressor__depth=6, regressor__iterations=300, regressor__learning_rate=0.9;, score=-300.321 total time=   0.5s\n",
      "[CV 3/9] END regressor=<catboost.core.CatBoostRegressor object at 0x000001446A400550>, regressor__depth=6, regressor__iterations=300, regressor__learning_rate=0.9;, score=-354.718 total time=   0.5s\n",
      "[CV 4/9] END regressor=<catboost.core.CatBoostRegressor object at 0x000001446A400550>, regressor__depth=6, regressor__iterations=300, regressor__learning_rate=0.9;, score=-318.850 total time=   0.6s\n",
      "[CV 5/9] END regressor=<catboost.core.CatBoostRegressor object at 0x000001446A400550>, regressor__depth=6, regressor__iterations=300, regressor__learning_rate=0.9;, score=-382.377 total time=   0.5s\n",
      "[CV 6/9] END regressor=<catboost.core.CatBoostRegressor object at 0x000001446A400550>, regressor__depth=6, regressor__iterations=300, regressor__learning_rate=0.9;, score=-409.701 total time=   0.6s\n",
      "[CV 7/9] END regressor=<catboost.core.CatBoostRegressor object at 0x000001446A400550>, regressor__depth=6, regressor__iterations=300, regressor__learning_rate=0.9;, score=-376.032 total time=   0.6s\n",
      "[CV 8/9] END regressor=<catboost.core.CatBoostRegressor object at 0x000001446A400550>, regressor__depth=6, regressor__iterations=300, regressor__learning_rate=0.9;, score=-435.079 total time=   0.6s\n",
      "[CV 9/9] END regressor=<catboost.core.CatBoostRegressor object at 0x000001446A400550>, regressor__depth=6, regressor__iterations=300, regressor__learning_rate=0.9;, score=-741.425 total time=   0.6s\n",
      "Wall time: 8min 19s\n"
     ]
    },
    {
     "data": {
      "text/plain": [
       "RandomizedSearchCV(cv=TimeSeriesSplit(gap=0, max_train_size=None, n_splits=9, test_size=None),\n",
       "                   estimator=Pipeline(steps=[('regressor',\n",
       "                                              <catboost.core.CatBoostRegressor object at 0x000001446A400E20>)]),\n",
       "                   n_iter=50,\n",
       "                   param_distributions=[{'regressor': [<catboost.core.CatBoostRegressor object at 0x000001446A400550>],\n",
       "                                         'regressor__depth': range(2, 12, 2),\n",
       "                                         'regressor__iterations': range(50, 500, 50),\n",
       "                                         'regressor__learning_rate': array([0.3, 0.4, 0.5, 0.6, 0.7, 0.8, 0.9])},\n",
       "                                        {'regressor': [Ridge(random_state=47)],\n",
       "                                         'regressor__alpha': [0.5, 1, 3, 5],\n",
       "                                         'regressor__max_iter': [4000, 8000,\n",
       "                                                                 10000],\n",
       "                                         'regressor__solver': ['auto',\n",
       "                                                               'cholesky',\n",
       "                                                               'lsqr'],\n",
       "                                         'regressor__tol': [1e-05, 0.0001,\n",
       "                                                            0.001]}],\n",
       "                   scoring='neg_mean_squared_error', verbose=3)"
      ]
     },
     "execution_count": 76,
     "metadata": {},
     "output_type": "execute_result"
    }
   ],
   "source": [
    "%%time\n",
    "grid.fit(X_train, y_train)"
   ]
  },
  {
   "cell_type": "markdown",
   "metadata": {},
   "source": [
    "Посмотрим на лучшую получившуюся модель "
   ]
  },
  {
   "cell_type": "code",
   "execution_count": 77,
   "metadata": {},
   "outputs": [
    {
     "data": {
      "text/plain": [
       "Pipeline(steps=[('regressor',\n",
       "                 <catboost.core.CatBoostRegressor object at 0x000001446086E100>)])"
      ]
     },
     "execution_count": 77,
     "metadata": {},
     "output_type": "execute_result"
    }
   ],
   "source": [
    "grid.best_estimator_"
   ]
  },
  {
   "cell_type": "code",
   "execution_count": 78,
   "metadata": {},
   "outputs": [
    {
     "data": {
      "text/html": [
       "<div>\n",
       "<style scoped>\n",
       "    .dataframe tbody tr th:only-of-type {\n",
       "        vertical-align: middle;\n",
       "    }\n",
       "\n",
       "    .dataframe tbody tr th {\n",
       "        vertical-align: top;\n",
       "    }\n",
       "\n",
       "    .dataframe thead th {\n",
       "        text-align: right;\n",
       "    }\n",
       "</style>\n",
       "<table border=\"1\" class=\"dataframe\">\n",
       "  <thead>\n",
       "    <tr style=\"text-align: right;\">\n",
       "      <th></th>\n",
       "      <th>mean_fit_time</th>\n",
       "      <th>std_fit_time</th>\n",
       "      <th>mean_score_time</th>\n",
       "      <th>param_regressor</th>\n",
       "      <th>mean_test_score</th>\n",
       "    </tr>\n",
       "  </thead>\n",
       "  <tbody>\n",
       "    <tr>\n",
       "      <th>37</th>\n",
       "      <td>0.520460</td>\n",
       "      <td>0.080285</td>\n",
       "      <td>0.002562</td>\n",
       "      <td>&lt;catboost.core.CatBoostRegressor object at 0x0...</td>\n",
       "      <td>16.355585</td>\n",
       "    </tr>\n",
       "    <tr>\n",
       "      <th>21</th>\n",
       "      <td>0.258188</td>\n",
       "      <td>0.043894</td>\n",
       "      <td>0.002596</td>\n",
       "      <td>&lt;catboost.core.CatBoostRegressor object at 0x0...</td>\n",
       "      <td>16.727596</td>\n",
       "    </tr>\n",
       "    <tr>\n",
       "      <th>12</th>\n",
       "      <td>0.172015</td>\n",
       "      <td>0.028844</td>\n",
       "      <td>0.002731</td>\n",
       "      <td>&lt;catboost.core.CatBoostRegressor object at 0x0...</td>\n",
       "      <td>16.743159</td>\n",
       "    </tr>\n",
       "    <tr>\n",
       "      <th>33</th>\n",
       "      <td>0.211841</td>\n",
       "      <td>0.034783</td>\n",
       "      <td>0.002701</td>\n",
       "      <td>&lt;catboost.core.CatBoostRegressor object at 0x0...</td>\n",
       "      <td>16.838448</td>\n",
       "    </tr>\n",
       "    <tr>\n",
       "      <th>46</th>\n",
       "      <td>0.124154</td>\n",
       "      <td>0.017918</td>\n",
       "      <td>0.002652</td>\n",
       "      <td>&lt;catboost.core.CatBoostRegressor object at 0x0...</td>\n",
       "      <td>16.871128</td>\n",
       "    </tr>\n",
       "  </tbody>\n",
       "</table>\n",
       "</div>"
      ],
      "text/plain": [
       "    mean_fit_time  std_fit_time  mean_score_time                                    param_regressor  mean_test_score\n",
       "37       0.520460      0.080285         0.002562  <catboost.core.CatBoostRegressor object at 0x0...        16.355585\n",
       "21       0.258188      0.043894         0.002596  <catboost.core.CatBoostRegressor object at 0x0...        16.727596\n",
       "12       0.172015      0.028844         0.002731  <catboost.core.CatBoostRegressor object at 0x0...        16.743159\n",
       "33       0.211841      0.034783         0.002701  <catboost.core.CatBoostRegressor object at 0x0...        16.838448\n",
       "46       0.124154      0.017918         0.002652  <catboost.core.CatBoostRegressor object at 0x0...        16.871128"
      ]
     },
     "execution_count": 78,
     "metadata": {},
     "output_type": "execute_result"
    }
   ],
   "source": [
    "result = pd.DataFrame(grid.cv_results_)\n",
    "result['mean_test_score'] = (result['mean_test_score']*-1)**0.5\n",
    "result.sort_values('mean_test_score')[['mean_fit_time', \n",
    "                                       'std_fit_time',\n",
    "                                       'mean_score_time', \n",
    "                                       'param_regressor', \n",
    "                                       'mean_test_score']].head()"
   ]
  },
  {
   "cell_type": "markdown",
   "metadata": {},
   "source": [
    "Проведем оценку важности признаков с помощью Shap"
   ]
  },
  {
   "cell_type": "code",
   "execution_count": 79,
   "metadata": {},
   "outputs": [
    {
     "data": {
      "image/png": "[encoded data removed]",
      "text/plain": [
       "<Figure size 576x482.4 with 2 Axes>"
      ]
     },
     "metadata": {
      "needs_background": "light"
     },
     "output_type": "display_data"
    }
   ],
   "source": [
    "explainer = shap.TreeExplainer(grid.best_estimator_.named_steps[\"regressor\"])\n",
    "shap_values = explainer.shap_values(X_train, y=y_train.values)\n",
    "shap.summary_plot(shap_values, X_train, plot_type=\"violin\")"
   ]
  },
  {
   "cell_type": "markdown",
   "metadata": {},
   "source": [
    "**Вывод**\n",
    "В данном разделе проведено обучение двух моделей с подбором гиперпараметров. Лучший результат показал CatBoostRegressor. Наиболее важными признками являются разница diff, час hour.\n",
    "\n",
    "Лучшая модель выбрана, испытаем ее на тестовой выборке"
   ]
  },
  {
   "cell_type": "markdown",
   "metadata": {},
   "source": [
    "## Тестирование"
   ]
  },
  {
   "cell_type": "code",
   "execution_count": 80,
   "metadata": {},
   "outputs": [
    {
     "name": "stdout",
     "output_type": "stream",
     "text": [
      "RMSE работы модели на тестовой выборке: 29.75\n"
     ]
    }
   ],
   "source": [
    "y_val = grid.best_estimator_.predict(X_test)\n",
    "test_val = mean_squared_error(y_test, y_val, squared=False)\n",
    "print('RMSE работы модели на тестовой выборке:', round(test_val, 2))"
   ]
  },
  {
   "cell_type": "code",
   "execution_count": 81,
   "metadata": {},
   "outputs": [
    {
     "name": "stdout",
     "output_type": "stream",
     "text": [
      "Средний объём заказов в час: 139.56\n",
      "RMSE с заполнением предыдущим: 58.88\n"
     ]
    }
   ],
   "source": [
    "pred_previous = y_test.shift()\n",
    "pred_previous.iloc[0] = y_train.iloc[-1]\n",
    "print(\"Средний объём заказов в час:\", round(y_test.mean(), 2))\n",
    "print(\"RMSE с заполнением предыдущим:\",  round(mean_squared_error(y_test, \n",
    "                                                                 pred_previous, \n",
    "                                                                 squared=False), 2))"
   ]
  },
  {
   "cell_type": "code",
   "execution_count": 82,
   "metadata": {},
   "outputs": [
    {
     "name": "stdout",
     "output_type": "stream",
     "text": [
      "Разница RMSE результата модели и при заполнением предыдущим значением: 29.130000000000003\n"
     ]
    }
   ],
   "source": [
    "print(\"Разница RMSE результата модели и при заполнением предыдущим значением:\",\n",
    "            round(mean_squared_error(y_test, pred_previous, squared=False), 2) -\n",
    "            round(test_val, 2))"
   ]
  },
  {
   "cell_type": "markdown",
   "metadata": {},
   "source": [
    "Модель показывает результат гораздо лучше "
   ]
  },
  {
   "cell_type": "markdown",
   "metadata": {},
   "source": [
    "Сравним результат работы модели и теста"
   ]
  },
  {
   "cell_type": "code",
   "execution_count": 90,
   "metadata": {},
   "outputs": [
    {
     "data": {
      "image/png": "[encoded data removed]",
      "text/plain": [
       "<Figure size 1440x432 with 1 Axes>"
      ]
     },
     "metadata": {
      "needs_background": "light"
     },
     "output_type": "display_data"
    }
   ],
   "source": [
    "final_result = pd.DataFrame(y_test)\n",
    "final_result['pred'] = y_val\n",
    "\n",
    "plt.figure(figsize=(20,6))\n",
    "plt.plot(\n",
    "    final_result.loc['2018-08-29':'2018-08-31'], \n",
    "    label=['Количество заказов', 'Предсказание модели']\n",
    "    )\n",
    "plt.title('Сравнение тестовой выборки и результата предсказания')\n",
    "plt.xlabel('Дата')\n",
    "plt.ylabel('Число закзов')\n",
    "plt.grid()\n",
    "plt.legend();"
   ]
  },
  {
   "cell_type": "markdown",
   "metadata": {},
   "source": [
    "В целом немного запаздывает, но значения расположены довольно близко, за исключением нескоторых экстремальных значений"
   ]
  },
  {
   "attachments": {},
   "cell_type": "markdown",
   "metadata": {},
   "source": [
    "**Вывод**\n",
    "\n",
    "В данной работе нами проведено исследование данных заказов такси из аэропорта, для предсказания нагрузки на следбующий час.\n",
    " \n",
    "При подготовке данных мы преобразовали данные в часовой интервал. Проверили данные на монотонность и уникальность значения для исключения пропусков и дубликатов.\n",
    "\n",
    "Проверили данные на сезонность и тренд. Хотя некоторый тренд прослеживается, тест Дики-Фуллера показал что ряд стационарен. \n",
    "\n",
    "Установили с помощью графика автокорреляции что данные \"повторяются с интервалом 24часа.\n",
    "\n",
    "Подготовили новые признаки, такие как месяц, год - отбросили так как он один и тот же, день в месяце, день недели, лаг с отставанием от 2-5, 24 часовой лаг, стандартное отклонение, скользящее среднее, минимум и максимум за период, и разницу с предыдущим значением diff.\n",
    "\n",
    "Проверили и удалили столбцы с мультиколлинеарными признаками.\n",
    "\n",
    "Обучение и подбор гиперпараметров провели для двух моделей CatBoostRegressor и Ridge, с помощью pipeline с TimeSeriesSplit для предотвращения утечки при кроссвалидации."
   ]
  },
  {
   "cell_type": "code",
   "execution_count": 32,
   "metadata": {},
   "outputs": [
    {
     "name": "stdout",
     "output_type": "stream",
     "text": [
      "RMSE работы модели на тестовой выборке: 30.91\n"
     ]
    }
   ],
   "source": [
    "print('RMSE работы модели на тестовой выборке:', round(test_val, 2))"
   ]
  },
  {
   "cell_type": "markdown",
   "metadata": {},
   "source": [
    "Для целей предсказания нагрузки рекомендуется использовать модель CatBoostRegressor со следующими гиперпараметрами"
   ]
  },
  {
   "cell_type": "code",
   "execution_count": 33,
   "metadata": {},
   "outputs": [
    {
     "data": {
      "text/plain": [
       "{'nan_mode': 'Min',\n",
       " 'eval_metric': 'RMSE',\n",
       " 'iterations': 200,\n",
       " 'sampling_frequency': 'PerTree',\n",
       " 'leaf_estimation_method': 'Newton',\n",
       " 'od_pval': 0,\n",
       " 'grow_policy': 'SymmetricTree',\n",
       " 'penalties_coefficient': 1,\n",
       " 'boosting_type': 'Plain',\n",
       " 'model_shrink_mode': 'Constant',\n",
       " 'feature_border_type': 'GreedyLogSum',\n",
       " 'bayesian_matrix_reg': 0.10000000149011612,\n",
       " 'force_unit_auto_pair_weights': False,\n",
       " 'l2_leaf_reg': 3,\n",
       " 'random_strength': 1,\n",
       " 'od_type': 'Iter',\n",
       " 'rsm': 1,\n",
       " 'boost_from_average': True,\n",
       " 'model_size_reg': 0.5,\n",
       " 'pool_metainfo_options': {'tags': {}},\n",
       " 'subsample': 0.800000011920929,\n",
       " 'use_best_model': False,\n",
       " 'od_wait': 10,\n",
       " 'random_seed': 47,\n",
       " 'depth': 4,\n",
       " 'posterior_sampling': False,\n",
       " 'border_count': 254,\n",
       " 'classes_count': 0,\n",
       " 'auto_class_weights': 'None',\n",
       " 'sparse_features_conflict_fraction': 0,\n",
       " 'leaf_estimation_backtracking': 'AnyImprovement',\n",
       " 'best_model_min_trees': 1,\n",
       " 'model_shrink_rate': 0,\n",
       " 'min_data_in_leaf': 1,\n",
       " 'loss_function': 'RMSE',\n",
       " 'learning_rate': 0.30000001192092896,\n",
       " 'score_function': 'Cosine',\n",
       " 'task_type': 'CPU',\n",
       " 'leaf_estimation_iterations': 1,\n",
       " 'bootstrap_type': 'MVS',\n",
       " 'max_leaves': 16}"
      ]
     },
     "execution_count": 33,
     "metadata": {},
     "output_type": "execute_result"
    }
   ],
   "source": [
    "grid.best_estimator_.named_steps[\"regressor\"].get_all_params()"
   ]
  }
 ],
 "metadata": {
  "ExecuteTimeLog": [
   {
    "duration": 3871,
    "start_time": "2022-12-15T10:28:36.763Z"
   },
   {
    "duration": 166,
    "start_time": "2022-12-15T10:28:40.636Z"
   },
   {
    "duration": 13,
    "start_time": "2022-12-15T10:28:40.803Z"
   },
   {
    "duration": 12,
    "start_time": "2022-12-15T10:29:09.737Z"
   },
   {
    "duration": 9,
    "start_time": "2022-12-15T10:29:42.949Z"
   },
   {
    "duration": 10,
    "start_time": "2022-12-15T10:30:52.412Z"
   },
   {
    "duration": 6,
    "start_time": "2022-12-15T10:31:27.394Z"
   },
   {
    "duration": 45,
    "start_time": "2022-12-15T10:31:35.707Z"
   },
   {
    "duration": 6,
    "start_time": "2022-12-15T10:31:38.561Z"
   },
   {
    "duration": 11,
    "start_time": "2022-12-15T10:31:40.968Z"
   },
   {
    "duration": 11,
    "start_time": "2022-12-15T10:31:51.016Z"
   },
   {
    "duration": 7,
    "start_time": "2022-12-15T10:32:00.776Z"
   },
   {
    "duration": 7,
    "start_time": "2022-12-15T10:32:01.071Z"
   },
   {
    "duration": 17,
    "start_time": "2022-12-15T10:32:21.016Z"
   },
   {
    "duration": 6,
    "start_time": "2022-12-15T10:32:28.510Z"
   },
   {
    "duration": 7,
    "start_time": "2022-12-15T10:32:40.564Z"
   },
   {
    "duration": 2089,
    "start_time": "2022-12-15T17:21:27.953Z"
   },
   {
    "duration": 55,
    "start_time": "2022-12-15T17:21:30.044Z"
   },
   {
    "duration": 9,
    "start_time": "2022-12-15T17:21:30.101Z"
   },
   {
    "duration": 37,
    "start_time": "2022-12-15T17:21:30.112Z"
   },
   {
    "duration": 19,
    "start_time": "2022-12-15T17:21:30.152Z"
   },
   {
    "duration": 50,
    "start_time": "2022-12-15T17:21:30.173Z"
   },
   {
    "duration": 3531,
    "start_time": "2022-12-15T17:21:31.357Z"
   },
   {
    "duration": 220,
    "start_time": "2022-12-15T17:21:45.629Z"
   },
   {
    "duration": 149,
    "start_time": "2022-12-15T19:10:20.302Z"
   },
   {
    "duration": 5,
    "start_time": "2022-12-15T19:10:29.716Z"
   },
   {
    "duration": 83,
    "start_time": "2022-12-15T19:11:13.418Z"
   },
   {
    "duration": 147,
    "start_time": "2022-12-15T19:11:48.992Z"
   },
   {
    "duration": 14,
    "start_time": "2022-12-15T19:11:57.002Z"
   },
   {
    "duration": 14,
    "start_time": "2022-12-15T19:12:02.002Z"
   },
   {
    "duration": 20,
    "start_time": "2022-12-15T19:12:14.194Z"
   },
   {
    "duration": 5,
    "start_time": "2022-12-15T19:12:31.248Z"
   },
   {
    "duration": 14,
    "start_time": "2022-12-15T19:14:16.675Z"
   },
   {
    "duration": 7,
    "start_time": "2022-12-15T19:14:18.102Z"
   },
   {
    "duration": 12,
    "start_time": "2022-12-15T19:14:22.763Z"
   },
   {
    "duration": 18,
    "start_time": "2022-12-15T19:14:38.052Z"
   },
   {
    "duration": 28,
    "start_time": "2022-12-15T19:14:38.727Z"
   },
   {
    "duration": 11,
    "start_time": "2022-12-15T19:14:49.026Z"
   },
   {
    "duration": 11,
    "start_time": "2022-12-15T19:15:02.993Z"
   },
   {
    "duration": 46,
    "start_time": "2022-12-15T19:15:08.608Z"
   },
   {
    "duration": 9,
    "start_time": "2022-12-15T19:15:08.990Z"
   },
   {
    "duration": 14,
    "start_time": "2022-12-15T19:15:09.144Z"
   },
   {
    "duration": 6,
    "start_time": "2022-12-15T19:15:09.316Z"
   },
   {
    "duration": 7,
    "start_time": "2022-12-15T19:15:09.466Z"
   },
   {
    "duration": 4347,
    "start_time": "2022-12-15T19:15:09.644Z"
   },
   {
    "duration": 84,
    "start_time": "2022-12-15T19:15:14.001Z"
   },
   {
    "duration": 342,
    "start_time": "2022-12-15T19:15:14.087Z"
   },
   {
    "duration": 5,
    "start_time": "2022-12-15T19:15:14.431Z"
   },
   {
    "duration": 28,
    "start_time": "2022-12-15T19:15:14.438Z"
   },
   {
    "duration": 24,
    "start_time": "2022-12-15T19:15:15.970Z"
   },
   {
    "duration": 10,
    "start_time": "2022-12-15T19:15:29.542Z"
   },
   {
    "duration": 17,
    "start_time": "2022-12-15T19:15:31.778Z"
   },
   {
    "duration": 21,
    "start_time": "2022-12-15T19:15:32.451Z"
   },
   {
    "duration": 15,
    "start_time": "2022-12-15T19:15:40.744Z"
   },
   {
    "duration": 26,
    "start_time": "2022-12-15T19:15:58.032Z"
   },
   {
    "duration": 9,
    "start_time": "2022-12-15T19:16:32.539Z"
   },
   {
    "duration": 32,
    "start_time": "2022-12-15T19:16:38.978Z"
   },
   {
    "duration": 16,
    "start_time": "2022-12-15T19:17:17.842Z"
   },
   {
    "duration": 29,
    "start_time": "2022-12-15T19:17:18.452Z"
   },
   {
    "duration": 24,
    "start_time": "2022-12-15T19:17:25.725Z"
   },
   {
    "duration": 18,
    "start_time": "2022-12-15T19:18:07.299Z"
   },
   {
    "duration": 517,
    "start_time": "2022-12-15T19:18:30.542Z"
   },
   {
    "duration": 71,
    "start_time": "2022-12-15T19:18:59.151Z"
   },
   {
    "duration": 11,
    "start_time": "2022-12-15T19:19:09.739Z"
   },
   {
    "duration": 76,
    "start_time": "2022-12-15T19:19:17.737Z"
   },
   {
    "duration": 26,
    "start_time": "2022-12-15T19:21:03.873Z"
   },
   {
    "duration": 19,
    "start_time": "2022-12-15T19:21:09.334Z"
   },
   {
    "duration": 98,
    "start_time": "2022-12-15T19:21:20.001Z"
   },
   {
    "duration": 6,
    "start_time": "2022-12-15T19:27:48.940Z"
   },
   {
    "duration": 10,
    "start_time": "2022-12-15T19:27:51.614Z"
   },
   {
    "duration": 14,
    "start_time": "2022-12-15T19:27:58.230Z"
   },
   {
    "duration": 27,
    "start_time": "2022-12-15T19:27:59.156Z"
   },
   {
    "duration": 8,
    "start_time": "2022-12-15T19:28:47.086Z"
   },
   {
    "duration": 12,
    "start_time": "2022-12-15T19:28:47.530Z"
   },
   {
    "duration": 12,
    "start_time": "2022-12-15T19:28:48.199Z"
   },
   {
    "duration": 32,
    "start_time": "2022-12-15T19:28:50.479Z"
   },
   {
    "duration": 17,
    "start_time": "2022-12-15T19:30:58.642Z"
   },
   {
    "duration": 51,
    "start_time": "2022-12-15T19:31:04.102Z"
   },
   {
    "duration": 2253,
    "start_time": "2022-12-15T19:31:18.022Z"
   },
   {
    "duration": 51,
    "start_time": "2022-12-15T19:31:20.277Z"
   },
   {
    "duration": 8,
    "start_time": "2022-12-15T19:31:20.330Z"
   },
   {
    "duration": 19,
    "start_time": "2022-12-15T19:31:20.340Z"
   },
   {
    "duration": 6,
    "start_time": "2022-12-15T19:31:20.361Z"
   },
   {
    "duration": 14,
    "start_time": "2022-12-15T19:31:20.369Z"
   },
   {
    "duration": 1900,
    "start_time": "2022-12-15T19:31:20.385Z"
   },
   {
    "duration": 95,
    "start_time": "2022-12-15T19:31:22.288Z"
   },
   {
    "duration": 347,
    "start_time": "2022-12-15T19:31:22.386Z"
   },
   {
    "duration": 7,
    "start_time": "2022-12-15T19:31:22.734Z"
   },
   {
    "duration": 10,
    "start_time": "2022-12-15T19:31:22.792Z"
   },
   {
    "duration": 25,
    "start_time": "2022-12-15T19:31:23.033Z"
   },
   {
    "duration": 14,
    "start_time": "2022-12-15T19:31:23.223Z"
   },
   {
    "duration": 18,
    "start_time": "2022-12-15T19:31:23.413Z"
   },
   {
    "duration": 96,
    "start_time": "2022-12-15T19:31:23.600Z"
   },
   {
    "duration": 15,
    "start_time": "2022-12-15T19:31:23.792Z"
   },
   {
    "duration": 90,
    "start_time": "2022-12-15T19:31:24.015Z"
   },
   {
    "duration": 38,
    "start_time": "2022-12-15T19:31:24.301Z"
   },
   {
    "duration": 31,
    "start_time": "2022-12-15T19:31:51.383Z"
   },
   {
    "duration": 3699,
    "start_time": "2022-12-16T05:23:20.550Z"
   },
   {
    "duration": 101,
    "start_time": "2022-12-16T05:23:24.251Z"
   },
   {
    "duration": 12,
    "start_time": "2022-12-16T05:23:24.354Z"
   },
   {
    "duration": 17,
    "start_time": "2022-12-16T05:23:24.368Z"
   },
   {
    "duration": 6,
    "start_time": "2022-12-16T05:23:24.387Z"
   },
   {
    "duration": 7,
    "start_time": "2022-12-16T05:23:24.394Z"
   },
   {
    "duration": 1501,
    "start_time": "2022-12-16T05:23:24.402Z"
   },
   {
    "duration": 94,
    "start_time": "2022-12-16T05:23:25.907Z"
   },
   {
    "duration": 435,
    "start_time": "2022-12-16T05:23:26.003Z"
   },
   {
    "duration": 6,
    "start_time": "2022-12-16T05:23:26.440Z"
   },
   {
    "duration": 14,
    "start_time": "2022-12-16T05:23:26.448Z"
   },
   {
    "duration": 32,
    "start_time": "2022-12-16T05:23:26.464Z"
   },
   {
    "duration": 15,
    "start_time": "2022-12-16T05:23:26.498Z"
   },
   {
    "duration": 13,
    "start_time": "2022-12-16T05:23:26.515Z"
   },
   {
    "duration": 390,
    "start_time": "2022-12-16T05:23:26.529Z"
   },
   {
    "duration": 14,
    "start_time": "2022-12-16T05:23:26.921Z"
   },
   {
    "duration": 108,
    "start_time": "2022-12-16T05:23:26.938Z"
   },
   {
    "duration": 164,
    "start_time": "2022-12-16T05:31:11.831Z"
   },
   {
    "duration": 9,
    "start_time": "2022-12-16T05:31:39.253Z"
   },
   {
    "duration": 10,
    "start_time": "2022-12-16T05:35:28.599Z"
   },
   {
    "duration": 12,
    "start_time": "2022-12-16T05:37:13.068Z"
   },
   {
    "duration": 14,
    "start_time": "2022-12-16T05:40:01.591Z"
   },
   {
    "duration": 1858,
    "start_time": "2022-12-16T05:40:07.439Z"
   },
   {
    "duration": 6,
    "start_time": "2022-12-16T05:40:13.502Z"
   },
   {
    "duration": 226074,
    "start_time": "2022-12-16T05:41:41.641Z"
   },
   {
    "duration": 38,
    "start_time": "2022-12-16T05:46:46.759Z"
   },
   {
    "duration": 30,
    "start_time": "2022-12-16T05:47:07.544Z"
   },
   {
    "duration": 21,
    "start_time": "2022-12-16T05:48:19.953Z"
   },
   {
    "duration": 6556,
    "start_time": "2022-12-16T05:48:27.336Z"
   },
   {
    "duration": 243,
    "start_time": "2022-12-16T05:48:33.955Z"
   },
   {
    "duration": 1544,
    "start_time": "2022-12-16T05:48:47.022Z"
   },
   {
    "duration": 6,
    "start_time": "2022-12-16T05:49:38.347Z"
   },
   {
    "duration": 10,
    "start_time": "2022-12-16T05:49:39.028Z"
   },
   {
    "duration": 15,
    "start_time": "2022-12-16T05:49:39.723Z"
   },
   {
    "duration": 17,
    "start_time": "2022-12-16T05:49:40.324Z"
   },
   {
    "duration": 12,
    "start_time": "2022-12-16T05:49:43.395Z"
   },
   {
    "duration": 64,
    "start_time": "2022-12-16T05:49:49.436Z"
   },
   {
    "duration": 12,
    "start_time": "2022-12-16T05:49:49.819Z"
   },
   {
    "duration": 76,
    "start_time": "2022-12-16T05:49:50.324Z"
   },
   {
    "duration": 65,
    "start_time": "2022-12-16T05:49:50.939Z"
   },
   {
    "duration": 9,
    "start_time": "2022-12-16T05:49:51.515Z"
   },
   {
    "duration": 12,
    "start_time": "2022-12-16T05:49:53.035Z"
   },
   {
    "duration": 5,
    "start_time": "2022-12-16T05:49:53.587Z"
   },
   {
    "duration": 125027,
    "start_time": "2022-12-16T05:49:54.083Z"
   },
   {
    "duration": 22,
    "start_time": "2022-12-16T05:51:59.113Z"
   },
   {
    "duration": 1605,
    "start_time": "2022-12-16T05:51:59.137Z"
   },
   {
    "duration": 6,
    "start_time": "2022-12-16T05:52:00.744Z"
   },
   {
    "duration": 40,
    "start_time": "2022-12-16T05:52:00.751Z"
   },
   {
    "duration": 768,
    "start_time": "2022-12-16T05:56:15.958Z"
   },
   {
    "duration": 19,
    "start_time": "2022-12-16T05:56:21.965Z"
   },
   {
    "duration": 14,
    "start_time": "2022-12-16T05:56:38.351Z"
   },
   {
    "duration": 52,
    "start_time": "2022-12-16T05:56:59.762Z"
   },
   {
    "duration": 16,
    "start_time": "2022-12-16T05:57:07.913Z"
   },
   {
    "duration": 14,
    "start_time": "2022-12-16T05:57:29.348Z"
   },
   {
    "duration": 5,
    "start_time": "2022-12-16T05:57:50.414Z"
   },
   {
    "duration": 6,
    "start_time": "2022-12-16T05:57:52.038Z"
   },
   {
    "duration": 5,
    "start_time": "2022-12-16T05:58:10.704Z"
   },
   {
    "duration": 5,
    "start_time": "2022-12-16T05:58:38.956Z"
   },
   {
    "duration": 5,
    "start_time": "2022-12-16T05:58:45.699Z"
   },
   {
    "duration": 39745,
    "start_time": "2022-12-16T08:45:54.325Z"
   },
   {
    "duration": 65,
    "start_time": "2022-12-16T08:46:34.072Z"
   },
   {
    "duration": 8,
    "start_time": "2022-12-16T08:46:34.138Z"
   },
   {
    "duration": 27,
    "start_time": "2022-12-16T08:46:34.149Z"
   },
   {
    "duration": 7,
    "start_time": "2022-12-16T08:46:34.178Z"
   },
   {
    "duration": 24,
    "start_time": "2022-12-16T08:46:34.187Z"
   },
   {
    "duration": 3207,
    "start_time": "2022-12-16T08:46:34.213Z"
   },
   {
    "duration": 84,
    "start_time": "2022-12-16T08:46:37.422Z"
   },
   {
    "duration": 355,
    "start_time": "2022-12-16T08:46:37.507Z"
   },
   {
    "duration": 6,
    "start_time": "2022-12-16T08:46:37.864Z"
   },
   {
    "duration": 13,
    "start_time": "2022-12-16T08:46:37.871Z"
   },
   {
    "duration": 426,
    "start_time": "2022-12-16T08:46:57.559Z"
   },
   {
    "duration": 13,
    "start_time": "2022-12-16T08:47:09.201Z"
   },
   {
    "duration": 11,
    "start_time": "2022-12-16T08:47:09.610Z"
   },
   {
    "duration": 29,
    "start_time": "2022-12-16T08:47:10.158Z"
   },
   {
    "duration": 24,
    "start_time": "2022-12-16T08:47:10.602Z"
   },
   {
    "duration": 16,
    "start_time": "2022-12-16T08:47:11.209Z"
   },
   {
    "duration": 77,
    "start_time": "2022-12-16T08:47:12.189Z"
   },
   {
    "duration": 13,
    "start_time": "2022-12-16T08:47:19.069Z"
   },
   {
    "duration": 88,
    "start_time": "2022-12-16T08:47:19.473Z"
   },
   {
    "duration": 33,
    "start_time": "2022-12-16T08:47:20.323Z"
   },
   {
    "duration": 13,
    "start_time": "2022-12-16T08:47:20.654Z"
   },
   {
    "duration": 8891,
    "start_time": "2022-12-16T08:47:45.581Z"
   },
   {
    "duration": 61,
    "start_time": "2022-12-16T08:47:54.475Z"
   },
   {
    "duration": 11,
    "start_time": "2022-12-16T08:47:54.538Z"
   },
   {
    "duration": 17,
    "start_time": "2022-12-16T08:47:54.551Z"
   },
   {
    "duration": 8,
    "start_time": "2022-12-16T08:47:54.571Z"
   },
   {
    "duration": 11,
    "start_time": "2022-12-16T08:47:54.596Z"
   },
   {
    "duration": 6494,
    "start_time": "2022-12-16T08:47:54.608Z"
   },
   {
    "duration": 9,
    "start_time": "2022-12-16T08:48:01.106Z"
   },
   {
    "duration": 360,
    "start_time": "2022-12-16T08:48:01.118Z"
   },
   {
    "duration": 17,
    "start_time": "2022-12-16T08:48:01.482Z"
   },
   {
    "duration": 39,
    "start_time": "2022-12-16T08:48:01.505Z"
   },
   {
    "duration": 28,
    "start_time": "2022-12-16T08:48:01.546Z"
   },
   {
    "duration": 57,
    "start_time": "2022-12-16T08:48:01.575Z"
   },
   {
    "duration": 43,
    "start_time": "2022-12-16T08:48:01.634Z"
   },
   {
    "duration": 442,
    "start_time": "2022-12-16T08:48:01.679Z"
   },
   {
    "duration": 13,
    "start_time": "2022-12-16T08:48:02.122Z"
   },
   {
    "duration": 191,
    "start_time": "2022-12-16T08:48:02.137Z"
   },
   {
    "duration": 106,
    "start_time": "2022-12-16T08:48:02.330Z"
   },
   {
    "duration": 10,
    "start_time": "2022-12-16T08:48:02.437Z"
   },
   {
    "duration": 16,
    "start_time": "2022-12-16T08:48:02.501Z"
   },
   {
    "duration": 9,
    "start_time": "2022-12-16T08:48:03.155Z"
   },
   {
    "duration": 265207,
    "start_time": "2022-12-16T08:48:10.334Z"
   },
   {
    "duration": 23,
    "start_time": "2022-12-16T08:52:35.543Z"
   },
   {
    "duration": 1956,
    "start_time": "2022-12-16T08:52:35.568Z"
   },
   {
    "duration": 6,
    "start_time": "2022-12-16T08:52:37.526Z"
   },
   {
    "duration": 7,
    "start_time": "2022-12-16T08:52:37.533Z"
   },
   {
    "duration": 38,
    "start_time": "2022-12-16T08:53:52.143Z"
   },
   {
    "duration": 6,
    "start_time": "2022-12-16T08:57:12.015Z"
   },
   {
    "duration": 7,
    "start_time": "2022-12-16T08:57:25.794Z"
   },
   {
    "duration": 6,
    "start_time": "2022-12-16T08:57:29.940Z"
   },
   {
    "duration": 506550,
    "start_time": "2022-12-16T08:57:30.339Z"
   },
   {
    "duration": 7,
    "start_time": "2022-12-16T09:50:20.369Z"
   },
   {
    "duration": 5976,
    "start_time": "2022-12-16T10:04:06.388Z"
   },
   {
    "duration": 6,
    "start_time": "2022-12-16T10:04:19.239Z"
   },
   {
    "duration": 54,
    "start_time": "2022-12-16T10:04:29.491Z"
   },
   {
    "duration": 50,
    "start_time": "2022-12-16T10:05:09.625Z"
   },
   {
    "duration": 8,
    "start_time": "2022-12-16T10:06:53.714Z"
   },
   {
    "duration": 13,
    "start_time": "2022-12-16T10:07:09.320Z"
   },
   {
    "duration": 11,
    "start_time": "2022-12-16T10:11:06.347Z"
   },
   {
    "duration": 11,
    "start_time": "2022-12-16T10:11:14.778Z"
   },
   {
    "duration": 45,
    "start_time": "2022-12-16T10:12:35.198Z"
   },
   {
    "duration": 6,
    "start_time": "2022-12-16T10:12:36.727Z"
   },
   {
    "duration": 3,
    "start_time": "2022-12-16T10:12:45.384Z"
   },
   {
    "duration": 3,
    "start_time": "2022-12-16T10:12:54.405Z"
   },
   {
    "duration": 66,
    "start_time": "2022-12-16T10:14:27.875Z"
   },
   {
    "duration": 4,
    "start_time": "2022-12-16T10:14:28.399Z"
   },
   {
    "duration": 7,
    "start_time": "2022-12-16T10:15:02.637Z"
   },
   {
    "duration": 10,
    "start_time": "2022-12-16T10:15:05.021Z"
   },
   {
    "duration": 7,
    "start_time": "2022-12-16T10:15:23.647Z"
   },
   {
    "duration": 150,
    "start_time": "2022-12-16T10:33:18.078Z"
   },
   {
    "duration": 52,
    "start_time": "2022-12-16T10:33:42.860Z"
   },
   {
    "duration": 50,
    "start_time": "2022-12-16T10:33:53.140Z"
   },
   {
    "duration": 55,
    "start_time": "2022-12-16T10:33:57.923Z"
   },
   {
    "duration": 52,
    "start_time": "2022-12-16T10:34:09.994Z"
   },
   {
    "duration": 53,
    "start_time": "2022-12-16T10:39:38.944Z"
   },
   {
    "duration": 263,
    "start_time": "2022-12-16T10:40:14.606Z"
   },
   {
    "duration": 55,
    "start_time": "2022-12-16T10:40:44.325Z"
   },
   {
    "duration": 139,
    "start_time": "2022-12-16T10:44:03.144Z"
   },
   {
    "duration": 265,
    "start_time": "2022-12-16T10:44:17.040Z"
   },
   {
    "duration": 235,
    "start_time": "2022-12-16T10:49:15.417Z"
   },
   {
    "duration": 3,
    "start_time": "2022-12-16T10:49:57.884Z"
   },
   {
    "duration": 248,
    "start_time": "2022-12-16T10:50:01.322Z"
   },
   {
    "duration": 218,
    "start_time": "2022-12-16T10:50:07.146Z"
   },
   {
    "duration": 3,
    "start_time": "2022-12-16T10:50:11.770Z"
   },
   {
    "duration": 198,
    "start_time": "2022-12-16T10:50:20.658Z"
   },
   {
    "duration": 226,
    "start_time": "2022-12-16T10:51:23.622Z"
   },
   {
    "duration": 264,
    "start_time": "2022-12-16T10:51:38.374Z"
   },
   {
    "duration": 223,
    "start_time": "2022-12-16T10:51:51.940Z"
   },
   {
    "duration": 215,
    "start_time": "2022-12-16T10:51:57.947Z"
   },
   {
    "duration": 302,
    "start_time": "2022-12-16T10:52:09.587Z"
   },
   {
    "duration": 265,
    "start_time": "2022-12-16T10:52:21.403Z"
   },
   {
    "duration": 312,
    "start_time": "2022-12-16T10:52:25.978Z"
   },
   {
    "duration": 234,
    "start_time": "2022-12-16T10:52:31.145Z"
   },
   {
    "duration": 13,
    "start_time": "2022-12-16T10:56:56.402Z"
   },
   {
    "duration": 69,
    "start_time": "2022-12-16T10:56:57.893Z"
   },
   {
    "duration": 6632,
    "start_time": "2022-12-16T13:20:25.642Z"
   },
   {
    "duration": 2494,
    "start_time": "2022-12-16T13:20:32.277Z"
   },
   {
    "duration": 60,
    "start_time": "2022-12-16T13:20:34.773Z"
   },
   {
    "duration": 10,
    "start_time": "2022-12-16T13:20:34.835Z"
   },
   {
    "duration": 7,
    "start_time": "2022-12-16T13:20:34.846Z"
   },
   {
    "duration": 14,
    "start_time": "2022-12-16T13:20:34.854Z"
   },
   {
    "duration": 9,
    "start_time": "2022-12-16T13:20:34.869Z"
   },
   {
    "duration": 11,
    "start_time": "2022-12-16T13:20:34.880Z"
   },
   {
    "duration": 1824,
    "start_time": "2022-12-16T13:20:34.893Z"
   },
   {
    "duration": 179,
    "start_time": "2022-12-16T13:20:36.720Z"
   },
   {
    "duration": 421,
    "start_time": "2022-12-16T13:20:36.903Z"
   },
   {
    "duration": 101,
    "start_time": "2022-12-16T13:20:37.326Z"
   },
   {
    "duration": 294,
    "start_time": "2022-12-16T13:20:37.429Z"
   },
   {
    "duration": 5,
    "start_time": "2022-12-16T13:20:37.725Z"
   },
   {
    "duration": 12,
    "start_time": "2022-12-16T13:21:54.442Z"
   },
   {
    "duration": 78,
    "start_time": "2022-12-16T13:21:54.862Z"
   },
   {
    "duration": 10,
    "start_time": "2022-12-16T13:29:14.555Z"
   },
   {
    "duration": 78,
    "start_time": "2022-12-16T13:29:30.481Z"
   },
   {
    "duration": 11,
    "start_time": "2022-12-16T13:31:55.752Z"
   },
   {
    "duration": 66,
    "start_time": "2022-12-16T13:31:56.026Z"
   },
   {
    "duration": 82,
    "start_time": "2022-12-16T13:36:27.963Z"
   },
   {
    "duration": 49,
    "start_time": "2022-12-16T13:36:45.735Z"
   },
   {
    "duration": 8,
    "start_time": "2022-12-16T13:36:47.091Z"
   },
   {
    "duration": 8,
    "start_time": "2022-12-16T13:36:47.485Z"
   },
   {
    "duration": 4,
    "start_time": "2022-12-16T13:36:48.217Z"
   },
   {
    "duration": 8,
    "start_time": "2022-12-16T13:36:49.025Z"
   },
   {
    "duration": 11,
    "start_time": "2022-12-16T13:36:49.711Z"
   },
   {
    "duration": 1607,
    "start_time": "2022-12-16T13:36:50.799Z"
   },
   {
    "duration": 97,
    "start_time": "2022-12-16T13:36:52.502Z"
   },
   {
    "duration": 94,
    "start_time": "2022-12-16T13:36:52.602Z"
   },
   {
    "duration": 13,
    "start_time": "2022-12-16T13:37:02.106Z"
   },
   {
    "duration": 83,
    "start_time": "2022-12-16T13:37:03.103Z"
   },
   {
    "duration": 76,
    "start_time": "2022-12-16T13:37:45.573Z"
   },
   {
    "duration": 221,
    "start_time": "2022-12-16T13:45:25.648Z"
   },
   {
    "duration": 6,
    "start_time": "2022-12-16T14:16:20.047Z"
   },
   {
    "duration": 22,
    "start_time": "2022-12-16T14:16:22.115Z"
   },
   {
    "duration": 15,
    "start_time": "2022-12-16T14:16:30.424Z"
   },
   {
    "duration": 179,
    "start_time": "2022-12-16T14:20:26.443Z"
   },
   {
    "duration": 59,
    "start_time": "2022-12-16T14:20:38.802Z"
   },
   {
    "duration": 9,
    "start_time": "2022-12-16T14:26:22.855Z"
   },
   {
    "duration": 10,
    "start_time": "2022-12-16T14:26:57.859Z"
   },
   {
    "duration": 5,
    "start_time": "2022-12-16T14:39:28.122Z"
   },
   {
    "duration": 57,
    "start_time": "2022-12-16T14:39:28.584Z"
   },
   {
    "duration": 8,
    "start_time": "2022-12-16T14:39:29.524Z"
   },
   {
    "duration": 9,
    "start_time": "2022-12-16T14:39:29.756Z"
   },
   {
    "duration": 5,
    "start_time": "2022-12-16T14:39:30.222Z"
   },
   {
    "duration": 9,
    "start_time": "2022-12-16T14:39:30.728Z"
   },
   {
    "duration": 10,
    "start_time": "2022-12-16T14:39:30.948Z"
   },
   {
    "duration": 2031,
    "start_time": "2022-12-16T14:39:31.675Z"
   },
   {
    "duration": 101,
    "start_time": "2022-12-16T14:39:33.798Z"
   },
   {
    "duration": 70,
    "start_time": "2022-12-16T14:39:33.901Z"
   },
   {
    "duration": 31,
    "start_time": "2022-12-16T14:39:33.973Z"
   },
   {
    "duration": 73,
    "start_time": "2022-12-16T14:39:34.006Z"
   },
   {
    "duration": 270,
    "start_time": "2022-12-16T14:39:34.450Z"
   },
   {
    "duration": 6,
    "start_time": "2022-12-16T14:39:36.880Z"
   },
   {
    "duration": 20,
    "start_time": "2022-12-16T14:39:37.728Z"
   },
   {
    "duration": 16,
    "start_time": "2022-12-16T14:39:39.238Z"
   },
   {
    "duration": 6,
    "start_time": "2022-12-16T14:39:58.276Z"
   },
   {
    "duration": 14,
    "start_time": "2022-12-16T14:39:59.608Z"
   },
   {
    "duration": 14,
    "start_time": "2022-12-16T14:39:59.856Z"
   },
   {
    "duration": 43,
    "start_time": "2022-12-16T14:40:52.396Z"
   },
   {
    "duration": 10,
    "start_time": "2022-12-16T14:40:55.520Z"
   },
   {
    "duration": 10,
    "start_time": "2022-12-16T14:40:59.456Z"
   },
   {
    "duration": 5,
    "start_time": "2022-12-16T14:40:59.996Z"
   },
   {
    "duration": 250168,
    "start_time": "2022-12-16T14:41:01.434Z"
   },
   {
    "duration": 105,
    "start_time": "2022-12-16T14:45:11.605Z"
   },
   {
    "duration": 5970,
    "start_time": "2022-12-16T14:46:36.164Z"
   },
   {
    "duration": 5,
    "start_time": "2022-12-16T14:46:42.136Z"
   },
   {
    "duration": 54,
    "start_time": "2022-12-16T14:46:42.142Z"
   },
   {
    "duration": 7,
    "start_time": "2022-12-16T14:46:42.199Z"
   },
   {
    "duration": 39,
    "start_time": "2022-12-16T14:46:42.207Z"
   },
   {
    "duration": 7,
    "start_time": "2022-12-16T14:46:42.248Z"
   },
   {
    "duration": 10,
    "start_time": "2022-12-16T14:46:42.257Z"
   },
   {
    "duration": 11,
    "start_time": "2022-12-16T14:46:42.268Z"
   },
   {
    "duration": 1423,
    "start_time": "2022-12-16T14:46:42.281Z"
   },
   {
    "duration": 98,
    "start_time": "2022-12-16T14:46:43.706Z"
   },
   {
    "duration": 167,
    "start_time": "2022-12-16T14:46:43.806Z"
   },
   {
    "duration": 12,
    "start_time": "2022-12-16T14:46:43.974Z"
   },
   {
    "duration": 77,
    "start_time": "2022-12-16T14:46:43.998Z"
   },
   {
    "duration": 300,
    "start_time": "2022-12-16T14:46:44.076Z"
   },
   {
    "duration": 5,
    "start_time": "2022-12-16T14:46:44.378Z"
   },
   {
    "duration": 32,
    "start_time": "2022-12-16T14:46:44.385Z"
   },
   {
    "duration": 13,
    "start_time": "2022-12-16T14:46:44.419Z"
   },
   {
    "duration": 37,
    "start_time": "2022-12-16T14:46:44.434Z"
   },
   {
    "duration": 28,
    "start_time": "2022-12-16T14:46:44.472Z"
   },
   {
    "duration": 10,
    "start_time": "2022-12-16T14:46:44.502Z"
   },
   {
    "duration": 5,
    "start_time": "2022-12-16T14:46:45.642Z"
   },
   {
    "duration": 6,
    "start_time": "2022-12-16T14:46:56.946Z"
   },
   {
    "duration": 106482,
    "start_time": "2022-12-16T14:46:57.514Z"
   },
   {
    "duration": 13,
    "start_time": "2022-12-16T14:48:43.998Z"
   },
   {
    "duration": 30,
    "start_time": "2022-12-16T14:48:44.013Z"
   },
   {
    "duration": 1402,
    "start_time": "2022-12-16T14:48:44.045Z"
   },
   {
    "duration": 6,
    "start_time": "2022-12-16T14:48:45.448Z"
   },
   {
    "duration": 7,
    "start_time": "2022-12-16T14:48:45.456Z"
   },
   {
    "duration": 47,
    "start_time": "2022-12-17T06:50:00.678Z"
   },
   {
    "duration": 27303,
    "start_time": "2022-12-17T06:50:05.105Z"
   },
   {
    "duration": 2915,
    "start_time": "2022-12-17T06:50:32.411Z"
   },
   {
    "duration": 165,
    "start_time": "2022-12-17T06:50:35.327Z"
   },
   {
    "duration": 12,
    "start_time": "2022-12-17T06:50:35.495Z"
   },
   {
    "duration": 10,
    "start_time": "2022-12-17T06:50:35.509Z"
   },
   {
    "duration": 10,
    "start_time": "2022-12-17T06:50:35.521Z"
   },
   {
    "duration": 12,
    "start_time": "2022-12-17T06:50:35.533Z"
   },
   {
    "duration": 13,
    "start_time": "2022-12-17T06:50:35.547Z"
   },
   {
    "duration": 1261,
    "start_time": "2022-12-17T06:50:35.561Z"
   },
   {
    "duration": 98,
    "start_time": "2022-12-17T06:50:36.825Z"
   },
   {
    "duration": 447,
    "start_time": "2022-12-17T06:50:36.925Z"
   },
   {
    "duration": 41,
    "start_time": "2022-12-17T06:50:37.374Z"
   },
   {
    "duration": 135,
    "start_time": "2022-12-17T06:50:37.417Z"
   },
   {
    "duration": 269,
    "start_time": "2022-12-17T06:50:37.554Z"
   },
   {
    "duration": 6,
    "start_time": "2022-12-17T06:50:37.825Z"
   },
   {
    "duration": 27,
    "start_time": "2022-12-17T06:50:37.833Z"
   },
   {
    "duration": 14,
    "start_time": "2022-12-17T06:50:37.862Z"
   },
   {
    "duration": 62,
    "start_time": "2022-12-17T06:50:37.878Z"
   },
   {
    "duration": 14,
    "start_time": "2022-12-17T06:50:37.943Z"
   },
   {
    "duration": 10,
    "start_time": "2022-12-17T06:54:11.545Z"
   },
   {
    "duration": 171,
    "start_time": "2022-12-17T06:54:12.103Z"
   },
   {
    "duration": 3,
    "start_time": "2022-12-17T06:54:26.660Z"
   },
   {
    "duration": 12,
    "start_time": "2022-12-17T06:54:30.643Z"
   },
   {
    "duration": 6,
    "start_time": "2022-12-17T06:54:31.001Z"
   },
   {
    "duration": 102928,
    "start_time": "2022-12-17T06:54:31.534Z"
   },
   {
    "duration": 14,
    "start_time": "2022-12-17T06:56:14.463Z"
   },
   {
    "duration": 44,
    "start_time": "2022-12-17T06:56:14.479Z"
   },
   {
    "duration": 2426,
    "start_time": "2022-12-17T06:56:14.525Z"
   },
   {
    "duration": 6,
    "start_time": "2022-12-17T06:56:16.953Z"
   },
   {
    "duration": 17,
    "start_time": "2022-12-17T06:56:16.961Z"
   },
   {
    "duration": 7,
    "start_time": "2022-12-17T07:16:35.019Z"
   },
   {
    "duration": 21,
    "start_time": "2022-12-17T07:16:35.467Z"
   },
   {
    "duration": 21,
    "start_time": "2022-12-17T07:16:35.952Z"
   },
   {
    "duration": 39,
    "start_time": "2022-12-17T07:16:46.563Z"
   },
   {
    "duration": 9,
    "start_time": "2022-12-17T07:16:50.620Z"
   },
   {
    "duration": 5,
    "start_time": "2022-12-17T07:16:51.333Z"
   },
   {
    "duration": 74,
    "start_time": "2022-12-17T07:21:16.942Z"
   },
   {
    "duration": 10,
    "start_time": "2022-12-17T07:21:22.320Z"
   },
   {
    "duration": 6,
    "start_time": "2022-12-17T07:22:46.409Z"
   },
   {
    "duration": 175682,
    "start_time": "2022-12-17T07:22:47.088Z"
   },
   {
    "duration": 15,
    "start_time": "2022-12-17T07:26:51.271Z"
   },
   {
    "duration": 6,
    "start_time": "2022-12-17T07:28:27.177Z"
   },
   {
    "duration": 44,
    "start_time": "2022-12-17T07:28:35.085Z"
   },
   {
    "duration": 7,
    "start_time": "2022-12-17T07:28:35.769Z"
   },
   {
    "duration": 7,
    "start_time": "2022-12-17T07:28:35.929Z"
   },
   {
    "duration": 4,
    "start_time": "2022-12-17T07:28:36.267Z"
   },
   {
    "duration": 7,
    "start_time": "2022-12-17T07:28:36.602Z"
   },
   {
    "duration": 10,
    "start_time": "2022-12-17T07:28:36.777Z"
   },
   {
    "duration": 1310,
    "start_time": "2022-12-17T07:28:37.313Z"
   },
   {
    "duration": 99,
    "start_time": "2022-12-17T07:28:38.714Z"
   },
   {
    "duration": 82,
    "start_time": "2022-12-17T07:28:38.815Z"
   },
   {
    "duration": 23,
    "start_time": "2022-12-17T07:28:38.899Z"
   },
   {
    "duration": 91,
    "start_time": "2022-12-17T07:28:38.924Z"
   },
   {
    "duration": 265,
    "start_time": "2022-12-17T07:28:39.529Z"
   },
   {
    "duration": 5,
    "start_time": "2022-12-17T07:28:40.147Z"
   },
   {
    "duration": 25,
    "start_time": "2022-12-17T07:28:40.363Z"
   },
   {
    "duration": 18,
    "start_time": "2022-12-17T07:28:40.585Z"
   },
   {
    "duration": 50,
    "start_time": "2022-12-17T07:28:41.037Z"
   },
   {
    "duration": 9,
    "start_time": "2022-12-17T07:28:45.841Z"
   },
   {
    "duration": 5,
    "start_time": "2022-12-17T07:28:46.710Z"
   },
   {
    "duration": 12,
    "start_time": "2022-12-17T07:28:49.219Z"
   },
   {
    "duration": 8,
    "start_time": "2022-12-17T07:28:50.343Z"
   },
   {
    "duration": 242248,
    "start_time": "2022-12-17T07:28:53.933Z"
   },
   {
    "duration": 14,
    "start_time": "2022-12-17T07:32:56.183Z"
   },
   {
    "duration": 35,
    "start_time": "2022-12-17T07:32:56.198Z"
   },
   {
    "duration": 1428,
    "start_time": "2022-12-17T07:32:56.235Z"
   },
   {
    "duration": 6,
    "start_time": "2022-12-17T07:34:06.386Z"
   },
   {
    "duration": 5,
    "start_time": "2022-12-17T07:34:06.807Z"
   },
   {
    "duration": 9,
    "start_time": "2022-12-17T07:42:45.763Z"
   },
   {
    "duration": 12,
    "start_time": "2022-12-17T07:59:53.949Z"
   },
   {
    "duration": 6,
    "start_time": "2022-12-17T08:00:48.276Z"
   },
   {
    "duration": 3,
    "start_time": "2022-12-17T08:02:12.385Z"
   },
   {
    "duration": 9,
    "start_time": "2022-12-17T08:02:27.364Z"
   },
   {
    "duration": 19,
    "start_time": "2022-12-17T08:02:38.040Z"
   },
   {
    "duration": 76,
    "start_time": "2022-12-17T08:03:06.243Z"
   },
   {
    "duration": 8,
    "start_time": "2022-12-17T08:03:22.930Z"
   },
   {
    "duration": 26,
    "start_time": "2022-12-17T08:03:48.751Z"
   },
   {
    "duration": 12,
    "start_time": "2022-12-17T08:04:11.305Z"
   },
   {
    "duration": 10,
    "start_time": "2022-12-17T08:04:20.664Z"
   },
   {
    "duration": 20,
    "start_time": "2022-12-17T08:04:27.687Z"
   },
   {
    "duration": 16,
    "start_time": "2022-12-17T08:04:36.880Z"
   },
   {
    "duration": 7,
    "start_time": "2022-12-17T08:04:41.513Z"
   },
   {
    "duration": 12,
    "start_time": "2022-12-17T08:04:44.361Z"
   },
   {
    "duration": 8,
    "start_time": "2022-12-17T08:04:57.547Z"
   },
   {
    "duration": 4,
    "start_time": "2022-12-17T08:05:29.131Z"
   },
   {
    "duration": 10,
    "start_time": "2022-12-17T08:05:31.513Z"
   },
   {
    "duration": 116,
    "start_time": "2022-12-17T08:05:36.026Z"
   },
   {
    "duration": 83,
    "start_time": "2022-12-17T08:06:10.071Z"
   },
   {
    "duration": 76,
    "start_time": "2022-12-17T08:06:54.429Z"
   },
   {
    "duration": 97,
    "start_time": "2022-12-17T08:07:05.077Z"
   },
   {
    "duration": 58,
    "start_time": "2022-12-17T08:08:48.292Z"
   },
   {
    "duration": 102,
    "start_time": "2022-12-17T08:10:10.295Z"
   },
   {
    "duration": 57,
    "start_time": "2022-12-17T08:10:17.156Z"
   },
   {
    "duration": 58,
    "start_time": "2022-12-17T08:10:22.077Z"
   },
   {
    "duration": 66,
    "start_time": "2022-12-17T08:10:34.145Z"
   },
   {
    "duration": 58,
    "start_time": "2022-12-17T08:10:43.193Z"
   },
   {
    "duration": 59,
    "start_time": "2022-12-17T08:12:54.106Z"
   },
   {
    "duration": 55,
    "start_time": "2022-12-17T08:14:09.747Z"
   },
   {
    "duration": 8,
    "start_time": "2022-12-17T08:27:05.714Z"
   },
   {
    "duration": 17,
    "start_time": "2022-12-17T08:27:06.467Z"
   },
   {
    "duration": 18,
    "start_time": "2022-12-17T08:27:06.894Z"
   },
   {
    "duration": 38,
    "start_time": "2022-12-17T08:27:09.566Z"
   },
   {
    "duration": 12,
    "start_time": "2022-12-17T08:27:10.422Z"
   },
   {
    "duration": 4,
    "start_time": "2022-12-17T08:27:10.466Z"
   },
   {
    "duration": 14,
    "start_time": "2022-12-17T08:27:12.018Z"
   },
   {
    "duration": 5,
    "start_time": "2022-12-17T08:27:12.444Z"
   },
   {
    "duration": 201267,
    "start_time": "2022-12-17T08:27:12.935Z"
   },
   {
    "duration": 10,
    "start_time": "2022-12-17T08:30:34.204Z"
   },
   {
    "duration": 25,
    "start_time": "2022-12-17T08:30:34.216Z"
   },
   {
    "duration": 1894,
    "start_time": "2022-12-17T08:30:34.243Z"
   },
   {
    "duration": 42,
    "start_time": "2022-12-17T08:30:36.138Z"
   },
   {
    "duration": 11,
    "start_time": "2022-12-17T08:31:54.015Z"
   },
   {
    "duration": 14,
    "start_time": "2022-12-17T08:31:54.563Z"
   },
   {
    "duration": 1792,
    "start_time": "2022-12-17T08:31:56.170Z"
   },
   {
    "duration": 6,
    "start_time": "2022-12-17T08:31:58.366Z"
   },
   {
    "duration": 4,
    "start_time": "2022-12-17T08:31:59.825Z"
   },
   {
    "duration": 64,
    "start_time": "2022-12-17T08:32:01.581Z"
   },
   {
    "duration": 15,
    "start_time": "2022-12-17T08:32:20.658Z"
   },
   {
    "duration": 45,
    "start_time": "2022-12-17T08:32:22.780Z"
   },
   {
    "duration": 11,
    "start_time": "2022-12-17T08:32:30.464Z"
   },
   {
    "duration": 4,
    "start_time": "2022-12-17T08:32:30.725Z"
   },
   {
    "duration": 10,
    "start_time": "2022-12-17T08:32:32.463Z"
   },
   {
    "duration": 6,
    "start_time": "2022-12-17T08:32:33.380Z"
   },
   {
    "duration": 199844,
    "start_time": "2022-12-17T08:32:34.989Z"
   },
   {
    "duration": 9,
    "start_time": "2022-12-17T08:35:54.834Z"
   },
   {
    "duration": 22,
    "start_time": "2022-12-17T08:35:54.844Z"
   },
   {
    "duration": 1790,
    "start_time": "2022-12-17T08:35:54.868Z"
   },
   {
    "duration": 7,
    "start_time": "2022-12-17T08:35:56.660Z"
   },
   {
    "duration": 7,
    "start_time": "2022-12-17T08:35:56.669Z"
   },
   {
    "duration": 6499,
    "start_time": "2022-12-17T08:40:24.494Z"
   },
   {
    "duration": 2581,
    "start_time": "2022-12-17T08:40:30.996Z"
   },
   {
    "duration": 60,
    "start_time": "2022-12-17T08:40:33.578Z"
   },
   {
    "duration": 10,
    "start_time": "2022-12-17T08:40:33.640Z"
   },
   {
    "duration": 7,
    "start_time": "2022-12-17T08:40:33.651Z"
   },
   {
    "duration": 5,
    "start_time": "2022-12-17T08:40:33.659Z"
   },
   {
    "duration": 11,
    "start_time": "2022-12-17T08:40:33.666Z"
   },
   {
    "duration": 11,
    "start_time": "2022-12-17T08:40:33.679Z"
   },
   {
    "duration": 3737,
    "start_time": "2022-12-17T08:40:33.691Z"
   },
   {
    "duration": 189,
    "start_time": "2022-12-17T08:40:37.430Z"
   },
   {
    "duration": 388,
    "start_time": "2022-12-17T08:40:37.621Z"
   },
   {
    "duration": 19,
    "start_time": "2022-12-17T08:40:38.011Z"
   },
   {
    "duration": 144,
    "start_time": "2022-12-17T08:40:38.033Z"
   },
   {
    "duration": 313,
    "start_time": "2022-12-17T08:40:38.179Z"
   },
   {
    "duration": 6,
    "start_time": "2022-12-17T08:40:38.493Z"
   },
   {
    "duration": 29,
    "start_time": "2022-12-17T08:40:38.519Z"
   },
   {
    "duration": 16,
    "start_time": "2022-12-17T08:40:38.550Z"
   },
   {
    "duration": 74,
    "start_time": "2022-12-17T08:40:38.568Z"
   },
   {
    "duration": 11,
    "start_time": "2022-12-17T08:40:38.643Z"
   },
   {
    "duration": 5,
    "start_time": "2022-12-17T08:40:38.655Z"
   },
   {
    "duration": 18,
    "start_time": "2022-12-17T08:40:38.661Z"
   },
   {
    "duration": 6,
    "start_time": "2022-12-17T08:40:38.681Z"
   },
   {
    "duration": 156693,
    "start_time": "2022-12-17T08:40:38.689Z"
   },
   {
    "duration": 9,
    "start_time": "2022-12-17T08:43:15.384Z"
   },
   {
    "duration": 22,
    "start_time": "2022-12-17T08:43:15.395Z"
   },
   {
    "duration": 1846,
    "start_time": "2022-12-17T08:43:15.424Z"
   },
   {
    "duration": 7,
    "start_time": "2022-12-17T08:43:17.272Z"
   },
   {
    "duration": 4,
    "start_time": "2022-12-17T08:43:17.282Z"
   },
   {
    "duration": 83,
    "start_time": "2022-12-17T08:43:17.289Z"
   },
   {
    "duration": 5,
    "start_time": "2022-12-17T08:43:17.374Z"
   },
   {
    "duration": 215,
    "start_time": "2022-12-17T08:49:41.488Z"
   },
   {
    "duration": 1946,
    "start_time": "2022-12-17T08:49:51.382Z"
   },
   {
    "duration": 7,
    "start_time": "2022-12-17T08:50:04.466Z"
   },
   {
    "duration": 7,
    "start_time": "2022-12-17T08:50:22.849Z"
   },
   {
    "duration": 14,
    "start_time": "2022-12-17T08:53:19.143Z"
   },
   {
    "duration": 29,
    "start_time": "2022-12-17T08:53:22.940Z"
   },
   {
    "duration": 7,
    "start_time": "2022-12-17T08:53:38.334Z"
   },
   {
    "duration": 1550,
    "start_time": "2022-12-17T08:57:45.955Z"
   },
   {
    "duration": 7,
    "start_time": "2022-12-17T08:58:00.195Z"
   },
   {
    "duration": 7,
    "start_time": "2022-12-17T08:58:36.946Z"
   },
   {
    "duration": 7,
    "start_time": "2022-12-17T08:58:59.842Z"
   },
   {
    "duration": 6,
    "start_time": "2022-12-17T09:00:11.570Z"
   },
   {
    "duration": 5,
    "start_time": "2022-12-17T09:03:18.657Z"
   },
   {
    "duration": 4,
    "start_time": "2022-12-17T09:03:43.201Z"
   },
   {
    "duration": 63,
    "start_time": "2022-12-17T09:05:05.126Z"
   },
   {
    "duration": 5,
    "start_time": "2022-12-17T09:05:07.550Z"
   },
   {
    "duration": 11,
    "start_time": "2022-12-17T09:06:51.575Z"
   },
   {
    "duration": 21,
    "start_time": "2022-12-17T09:07:03.069Z"
   },
   {
    "duration": 43,
    "start_time": "2022-12-17T09:07:27.167Z"
   },
   {
    "duration": 79,
    "start_time": "2022-12-17T09:08:49.159Z"
   },
   {
    "duration": 18,
    "start_time": "2022-12-17T09:08:52.859Z"
   },
   {
    "duration": 9,
    "start_time": "2022-12-17T09:09:11.191Z"
   },
   {
    "duration": 6,
    "start_time": "2022-12-17T09:10:25.303Z"
   },
   {
    "duration": 6,
    "start_time": "2022-12-17T09:10:31.929Z"
   },
   {
    "duration": 19,
    "start_time": "2022-12-17T09:10:55.085Z"
   },
   {
    "duration": 11,
    "start_time": "2022-12-17T09:11:30.190Z"
   },
   {
    "duration": 647,
    "start_time": "2022-12-17T09:11:40.544Z"
   },
   {
    "duration": 35,
    "start_time": "2022-12-17T09:12:35.066Z"
   },
   {
    "duration": 45,
    "start_time": "2022-12-17T09:12:51.086Z"
   },
   {
    "duration": 6175,
    "start_time": "2022-12-17T09:17:22.792Z"
   },
   {
    "duration": 2559,
    "start_time": "2022-12-17T09:17:28.969Z"
   },
   {
    "duration": 49,
    "start_time": "2022-12-17T09:17:31.530Z"
   },
   {
    "duration": 10,
    "start_time": "2022-12-17T09:17:31.581Z"
   },
   {
    "duration": 17,
    "start_time": "2022-12-17T09:17:31.593Z"
   },
   {
    "duration": 27,
    "start_time": "2022-12-17T09:17:31.611Z"
   },
   {
    "duration": 14,
    "start_time": "2022-12-17T09:17:31.640Z"
   },
   {
    "duration": 20,
    "start_time": "2022-12-17T09:17:31.655Z"
   },
   {
    "duration": 3441,
    "start_time": "2022-12-17T09:17:31.677Z"
   },
   {
    "duration": 107,
    "start_time": "2022-12-17T09:17:35.121Z"
   },
   {
    "duration": 508,
    "start_time": "2022-12-17T09:17:35.229Z"
   },
   {
    "duration": 13,
    "start_time": "2022-12-17T09:17:35.738Z"
   },
   {
    "duration": 125,
    "start_time": "2022-12-17T09:17:35.752Z"
   },
   {
    "duration": 347,
    "start_time": "2022-12-17T09:17:35.879Z"
   },
   {
    "duration": 7,
    "start_time": "2022-12-17T09:17:36.229Z"
   },
   {
    "duration": 36,
    "start_time": "2022-12-17T09:17:36.237Z"
   },
   {
    "duration": 18,
    "start_time": "2022-12-17T09:17:36.275Z"
   },
   {
    "duration": 62,
    "start_time": "2022-12-17T09:17:36.295Z"
   },
   {
    "duration": 11,
    "start_time": "2022-12-17T09:17:36.359Z"
   },
   {
    "duration": 3,
    "start_time": "2022-12-17T09:17:36.372Z"
   },
   {
    "duration": 18,
    "start_time": "2022-12-17T09:17:36.377Z"
   },
   {
    "duration": 31,
    "start_time": "2022-12-17T09:17:36.397Z"
   },
   {
    "duration": 327703,
    "start_time": "2022-12-17T09:17:36.430Z"
   },
   {
    "duration": 9,
    "start_time": "2022-12-17T09:23:04.135Z"
   },
   {
    "duration": 24,
    "start_time": "2022-12-17T09:23:04.145Z"
   },
   {
    "duration": 1897,
    "start_time": "2022-12-17T09:23:04.170Z"
   },
   {
    "duration": 5,
    "start_time": "2022-12-17T09:23:06.069Z"
   },
   {
    "duration": 15,
    "start_time": "2022-12-17T09:23:06.077Z"
   },
   {
    "duration": 12,
    "start_time": "2022-12-17T09:23:06.093Z"
   },
   {
    "duration": 75,
    "start_time": "2022-12-17T09:23:06.107Z"
   },
   {
    "duration": 5,
    "start_time": "2022-12-17T09:23:06.184Z"
   },
   {
    "duration": 8,
    "start_time": "2022-12-17T09:23:12.145Z"
   },
   {
    "duration": 17,
    "start_time": "2022-12-17T09:23:12.726Z"
   },
   {
    "duration": 17,
    "start_time": "2022-12-17T09:23:21.689Z"
   },
   {
    "duration": 15,
    "start_time": "2022-12-17T09:23:26.744Z"
   },
   {
    "duration": 1643,
    "start_time": "2022-12-17T09:23:27.841Z"
   },
   {
    "duration": 5,
    "start_time": "2022-12-17T09:23:29.486Z"
   },
   {
    "duration": 10,
    "start_time": "2022-12-17T09:23:29.492Z"
   },
   {
    "duration": 4,
    "start_time": "2022-12-17T09:23:29.858Z"
   },
   {
    "duration": 62,
    "start_time": "2022-12-17T09:23:30.840Z"
   },
   {
    "duration": 5,
    "start_time": "2022-12-17T09:23:31.728Z"
   },
   {
    "duration": 6,
    "start_time": "2022-12-17T09:24:02.240Z"
   },
   {
    "duration": 6166,
    "start_time": "2022-12-17T09:24:29.927Z"
   },
   {
    "duration": 2516,
    "start_time": "2022-12-17T09:24:36.095Z"
   },
   {
    "duration": 59,
    "start_time": "2022-12-17T09:24:38.613Z"
   },
   {
    "duration": 11,
    "start_time": "2022-12-17T09:24:38.675Z"
   },
   {
    "duration": 18,
    "start_time": "2022-12-17T09:24:38.688Z"
   },
   {
    "duration": 11,
    "start_time": "2022-12-17T09:24:38.708Z"
   },
   {
    "duration": 16,
    "start_time": "2022-12-17T09:24:38.729Z"
   },
   {
    "duration": 21,
    "start_time": "2022-12-17T09:24:38.747Z"
   },
   {
    "duration": 3549,
    "start_time": "2022-12-17T09:24:38.769Z"
   },
   {
    "duration": 97,
    "start_time": "2022-12-17T09:24:42.323Z"
   },
   {
    "duration": 400,
    "start_time": "2022-12-17T09:24:42.423Z"
   },
   {
    "duration": 13,
    "start_time": "2022-12-17T09:24:42.825Z"
   },
   {
    "duration": 127,
    "start_time": "2022-12-17T09:24:42.840Z"
   },
   {
    "duration": 335,
    "start_time": "2022-12-17T09:24:42.969Z"
   },
   {
    "duration": 22,
    "start_time": "2022-12-17T09:24:43.305Z"
   },
   {
    "duration": 36,
    "start_time": "2022-12-17T09:24:43.330Z"
   },
   {
    "duration": 17,
    "start_time": "2022-12-17T09:24:43.368Z"
   },
   {
    "duration": 68,
    "start_time": "2022-12-17T09:24:43.387Z"
   },
   {
    "duration": 11,
    "start_time": "2022-12-17T09:24:43.456Z"
   },
   {
    "duration": 4,
    "start_time": "2022-12-17T09:24:43.468Z"
   },
   {
    "duration": 18,
    "start_time": "2022-12-17T09:24:43.473Z"
   },
   {
    "duration": 13,
    "start_time": "2022-12-17T09:24:43.493Z"
   },
   {
    "duration": 382782,
    "start_time": "2022-12-17T09:24:43.515Z"
   },
   {
    "duration": 8,
    "start_time": "2022-12-17T09:31:06.299Z"
   },
   {
    "duration": 32,
    "start_time": "2022-12-17T09:31:06.309Z"
   },
   {
    "duration": 7352,
    "start_time": "2022-12-17T09:31:06.343Z"
   },
   {
    "duration": 28,
    "start_time": "2022-12-17T09:31:13.698Z"
   },
   {
    "duration": 6,
    "start_time": "2022-12-17T09:31:13.730Z"
   },
   {
    "duration": 10,
    "start_time": "2022-12-17T09:31:13.738Z"
   },
   {
    "duration": 64,
    "start_time": "2022-12-17T09:31:13.750Z"
   },
   {
    "duration": 9,
    "start_time": "2022-12-17T09:31:13.816Z"
   },
   {
    "duration": 4,
    "start_time": "2022-12-17T09:32:09.467Z"
   },
   {
    "duration": 4,
    "start_time": "2022-12-17T09:34:06.442Z"
   },
   {
    "duration": 5,
    "start_time": "2022-12-17T09:34:28.072Z"
   },
   {
    "duration": 18,
    "start_time": "2022-12-17T09:34:28.654Z"
   },
   {
    "duration": 6373,
    "start_time": "2022-12-17T09:34:46.026Z"
   },
   {
    "duration": 2576,
    "start_time": "2022-12-17T09:34:52.402Z"
   },
   {
    "duration": 55,
    "start_time": "2022-12-17T09:34:54.980Z"
   },
   {
    "duration": 11,
    "start_time": "2022-12-17T09:34:55.036Z"
   },
   {
    "duration": 7,
    "start_time": "2022-12-17T09:34:55.050Z"
   },
   {
    "duration": 12,
    "start_time": "2022-12-17T09:34:55.059Z"
   },
   {
    "duration": 11,
    "start_time": "2022-12-17T09:34:55.072Z"
   },
   {
    "duration": 35,
    "start_time": "2022-12-17T09:34:55.085Z"
   },
   {
    "duration": 3097,
    "start_time": "2022-12-17T09:34:55.125Z"
   },
   {
    "duration": 201,
    "start_time": "2022-12-17T09:34:58.223Z"
   },
   {
    "duration": 402,
    "start_time": "2022-12-17T09:34:58.426Z"
   },
   {
    "duration": 13,
    "start_time": "2022-12-17T09:34:58.833Z"
   },
   {
    "duration": 185,
    "start_time": "2022-12-17T09:34:58.847Z"
   },
   {
    "duration": 296,
    "start_time": "2022-12-17T09:34:59.039Z"
   },
   {
    "duration": 6,
    "start_time": "2022-12-17T09:34:59.338Z"
   },
   {
    "duration": 29,
    "start_time": "2022-12-17T09:34:59.346Z"
   },
   {
    "duration": 21,
    "start_time": "2022-12-17T09:34:59.377Z"
   },
   {
    "duration": 68,
    "start_time": "2022-12-17T09:34:59.413Z"
   },
   {
    "duration": 11,
    "start_time": "2022-12-17T09:34:59.483Z"
   },
   {
    "duration": 4,
    "start_time": "2022-12-17T09:34:59.496Z"
   },
   {
    "duration": 32,
    "start_time": "2022-12-17T09:34:59.502Z"
   },
   {
    "duration": 24,
    "start_time": "2022-12-17T09:34:59.536Z"
   },
   {
    "duration": 26567,
    "start_time": "2022-12-17T14:38:46.274Z"
   },
   {
    "duration": 2860,
    "start_time": "2022-12-17T14:39:16.362Z"
   },
   {
    "duration": 98,
    "start_time": "2022-12-17T14:39:19.224Z"
   },
   {
    "duration": 11,
    "start_time": "2022-12-17T14:43:00.756Z"
   },
   {
    "duration": 6,
    "start_time": "2022-12-17T14:43:01.335Z"
   },
   {
    "duration": 4,
    "start_time": "2022-12-17T14:43:01.913Z"
   },
   {
    "duration": 11,
    "start_time": "2022-12-17T14:43:02.211Z"
   },
   {
    "duration": 12,
    "start_time": "2022-12-17T14:43:02.504Z"
   },
   {
    "duration": 1115,
    "start_time": "2022-12-17T14:43:03.414Z"
   },
   {
    "duration": 13,
    "start_time": "2022-12-17T14:43:05.526Z"
   },
   {
    "duration": 458,
    "start_time": "2022-12-17T14:43:06.262Z"
   },
   {
    "duration": 15,
    "start_time": "2022-12-17T14:43:27.951Z"
   },
   {
    "duration": 73,
    "start_time": "2022-12-17T14:43:28.871Z"
   },
   {
    "duration": 290,
    "start_time": "2022-12-17T14:43:30.878Z"
   },
   {
    "duration": 5,
    "start_time": "2022-12-17T14:43:32.071Z"
   },
   {
    "duration": 21,
    "start_time": "2022-12-17T14:43:32.510Z"
   },
   {
    "duration": 21,
    "start_time": "2022-12-17T14:43:33.064Z"
   },
   {
    "duration": 49,
    "start_time": "2022-12-17T14:43:34.027Z"
   },
   {
    "duration": 11,
    "start_time": "2022-12-17T14:43:35.174Z"
   },
   {
    "duration": 5,
    "start_time": "2022-12-17T14:43:35.550Z"
   },
   {
    "duration": 11,
    "start_time": "2022-12-17T14:43:36.974Z"
   },
   {
    "duration": 5,
    "start_time": "2022-12-17T14:43:40.343Z"
   },
   {
    "duration": 305126,
    "start_time": "2022-12-17T14:43:49.068Z"
   },
   {
    "duration": 5,
    "start_time": "2022-12-17T14:56:32.797Z"
   },
   {
    "duration": 13,
    "start_time": "2022-12-17T14:56:37.020Z"
   },
   {
    "duration": 2000,
    "start_time": "2022-12-17T14:56:42.532Z"
   },
   {
    "duration": 7,
    "start_time": "2022-12-17T14:56:48.549Z"
   },
   {
    "duration": 6,
    "start_time": "2022-12-17T14:56:49.053Z"
   },
   {
    "duration": 5,
    "start_time": "2022-12-17T14:56:49.467Z"
   },
   {
    "duration": 62,
    "start_time": "2022-12-17T14:56:55.724Z"
   },
   {
    "duration": 4,
    "start_time": "2022-12-17T14:56:59.404Z"
   },
   {
    "duration": 7,
    "start_time": "2022-12-17T14:57:00.310Z"
   },
   {
    "duration": 27170,
    "start_time": "2022-12-17T16:27:01.723Z"
   },
   {
    "duration": 2782,
    "start_time": "2022-12-17T16:27:28.896Z"
   },
   {
    "duration": 188,
    "start_time": "2022-12-17T16:27:31.680Z"
   },
   {
    "duration": 11,
    "start_time": "2022-12-17T16:27:31.870Z"
   },
   {
    "duration": 30,
    "start_time": "2022-12-17T16:27:31.884Z"
   },
   {
    "duration": 4,
    "start_time": "2022-12-17T16:27:31.917Z"
   },
   {
    "duration": 11,
    "start_time": "2022-12-17T16:27:31.923Z"
   },
   {
    "duration": 12,
    "start_time": "2022-12-17T16:27:31.936Z"
   },
   {
    "duration": 1278,
    "start_time": "2022-12-17T16:27:31.950Z"
   },
   {
    "duration": 96,
    "start_time": "2022-12-17T16:27:33.230Z"
   },
   {
    "duration": 475,
    "start_time": "2022-12-17T16:27:33.328Z"
   },
   {
    "duration": 24,
    "start_time": "2022-12-17T16:27:33.805Z"
   },
   {
    "duration": 134,
    "start_time": "2022-12-17T16:27:33.831Z"
   },
   {
    "duration": 397,
    "start_time": "2022-12-17T16:27:33.967Z"
   },
   {
    "duration": 6,
    "start_time": "2022-12-17T16:27:40.249Z"
   },
   {
    "duration": 26,
    "start_time": "2022-12-17T16:27:40.636Z"
   },
   {
    "duration": 18,
    "start_time": "2022-12-17T16:27:41.078Z"
   },
   {
    "duration": 6,
    "start_time": "2022-12-17T16:30:46.801Z"
   },
   {
    "duration": 227,
    "start_time": "2022-12-17T16:30:47.269Z"
   },
   {
    "duration": 17,
    "start_time": "2022-12-17T16:30:47.861Z"
   },
   {
    "duration": 5,
    "start_time": "2022-12-17T16:31:14.859Z"
   },
   {
    "duration": 22,
    "start_time": "2022-12-17T16:31:15.339Z"
   },
   {
    "duration": 26,
    "start_time": "2022-12-17T16:31:16.021Z"
   },
   {
    "duration": 7,
    "start_time": "2022-12-17T16:32:49.456Z"
   },
   {
    "duration": 23,
    "start_time": "2022-12-17T16:32:49.846Z"
   },
   {
    "duration": 17,
    "start_time": "2022-12-17T16:32:50.998Z"
   },
   {
    "duration": 48,
    "start_time": "2022-12-17T16:33:09.856Z"
   },
   {
    "duration": 8,
    "start_time": "2022-12-17T16:33:10.464Z"
   },
   {
    "duration": 9,
    "start_time": "2022-12-17T16:33:10.626Z"
   },
   {
    "duration": 4,
    "start_time": "2022-12-17T16:33:10.958Z"
   },
   {
    "duration": 8,
    "start_time": "2022-12-17T16:33:11.414Z"
   },
   {
    "duration": 11,
    "start_time": "2022-12-17T16:33:11.754Z"
   },
   {
    "duration": 2171,
    "start_time": "2022-12-17T16:33:12.363Z"
   },
   {
    "duration": 103,
    "start_time": "2022-12-17T16:33:14.622Z"
   },
   {
    "duration": 73,
    "start_time": "2022-12-17T16:33:14.728Z"
   },
   {
    "duration": 28,
    "start_time": "2022-12-17T16:33:14.803Z"
   },
   {
    "duration": 76,
    "start_time": "2022-12-17T16:33:14.833Z"
   },
   {
    "duration": 302,
    "start_time": "2022-12-17T16:33:15.826Z"
   },
   {
    "duration": 6,
    "start_time": "2022-12-17T16:33:17.759Z"
   },
   {
    "duration": 26,
    "start_time": "2022-12-17T16:33:18.120Z"
   },
   {
    "duration": 18,
    "start_time": "2022-12-17T16:33:19.771Z"
   },
   {
    "duration": 48,
    "start_time": "2022-12-17T16:33:36.783Z"
   },
   {
    "duration": 14,
    "start_time": "2022-12-17T16:33:38.590Z"
   },
   {
    "duration": 5,
    "start_time": "2022-12-17T16:33:40.293Z"
   },
   {
    "duration": 20,
    "start_time": "2022-12-17T16:36:58.689Z"
   },
   {
    "duration": 1137,
    "start_time": "2022-12-17T16:37:12.387Z"
   },
   {
    "duration": 20,
    "start_time": "2022-12-17T16:37:41.809Z"
   },
   {
    "duration": 4,
    "start_time": "2022-12-17T16:38:01.556Z"
   },
   {
    "duration": 6,
    "start_time": "2022-12-17T16:38:16.002Z"
   },
   {
    "duration": 18,
    "start_time": "2022-12-17T16:38:16.420Z"
   },
   {
    "duration": 5,
    "start_time": "2022-12-17T16:38:16.962Z"
   },
   {
    "duration": 14,
    "start_time": "2022-12-17T16:38:18.236Z"
   },
   {
    "duration": 517,
    "start_time": "2022-12-17T16:38:20.682Z"
   },
   {
    "duration": 394,
    "start_time": "2022-12-17T16:38:53.029Z"
   },
   {
    "duration": 393,
    "start_time": "2022-12-17T16:39:31.494Z"
   },
   {
    "duration": 71,
    "start_time": "2022-12-17T16:40:13.821Z"
   },
   {
    "duration": 140,
    "start_time": "2022-12-17T16:40:31.720Z"
   },
   {
    "duration": 393,
    "start_time": "2022-12-17T16:40:47.265Z"
   },
   {
    "duration": 66,
    "start_time": "2022-12-17T16:43:49.780Z"
   },
   {
    "duration": 445,
    "start_time": "2022-12-17T16:58:23.100Z"
   },
   {
    "duration": 5,
    "start_time": "2022-12-17T16:58:34.681Z"
   },
   {
    "duration": 47,
    "start_time": "2022-12-17T16:58:35.748Z"
   },
   {
    "duration": 8,
    "start_time": "2022-12-17T16:58:36.468Z"
   },
   {
    "duration": 7,
    "start_time": "2022-12-17T16:58:36.657Z"
   },
   {
    "duration": 5,
    "start_time": "2022-12-17T16:58:37.051Z"
   },
   {
    "duration": 9,
    "start_time": "2022-12-17T16:58:37.455Z"
   },
   {
    "duration": 12,
    "start_time": "2022-12-17T16:58:37.894Z"
   },
   {
    "duration": 978,
    "start_time": "2022-12-17T16:58:38.456Z"
   },
   {
    "duration": 92,
    "start_time": "2022-12-17T16:58:39.436Z"
   },
   {
    "duration": 163,
    "start_time": "2022-12-17T16:58:39.530Z"
   },
   {
    "duration": 13,
    "start_time": "2022-12-17T16:58:45.694Z"
   },
   {
    "duration": 89,
    "start_time": "2022-12-17T16:58:50.477Z"
   },
   {
    "duration": 376,
    "start_time": "2022-12-17T16:58:57.502Z"
   },
   {
    "duration": 84,
    "start_time": "2022-12-17T16:59:00.548Z"
   },
   {
    "duration": 109,
    "start_time": "2022-12-17T17:03:41.802Z"
   },
   {
    "duration": 87,
    "start_time": "2022-12-17T17:03:54.199Z"
   },
   {
    "duration": 56,
    "start_time": "2022-12-17T17:04:06.375Z"
   },
   {
    "duration": 63,
    "start_time": "2022-12-17T17:04:28.517Z"
   },
   {
    "duration": 86,
    "start_time": "2022-12-17T17:04:54.002Z"
   },
   {
    "duration": 37,
    "start_time": "2022-12-17T17:05:10.190Z"
   },
   {
    "duration": 36,
    "start_time": "2022-12-17T17:05:19.504Z"
   },
   {
    "duration": 64,
    "start_time": "2022-12-17T17:05:45.988Z"
   },
   {
    "duration": 22,
    "start_time": "2022-12-17T17:06:40.924Z"
   },
   {
    "duration": 24,
    "start_time": "2022-12-17T17:07:20.903Z"
   },
   {
    "duration": 184,
    "start_time": "2022-12-17T17:07:27.092Z"
   },
   {
    "duration": 98,
    "start_time": "2022-12-17T17:07:34.205Z"
   },
   {
    "duration": 109,
    "start_time": "2022-12-17T17:08:55.255Z"
   },
   {
    "duration": 33,
    "start_time": "2022-12-17T17:09:07.374Z"
   },
   {
    "duration": 18,
    "start_time": "2022-12-17T17:09:15.417Z"
   },
   {
    "duration": 59,
    "start_time": "2022-12-17T17:09:25.203Z"
   },
   {
    "duration": 21,
    "start_time": "2022-12-17T17:10:39.383Z"
   },
   {
    "duration": 101,
    "start_time": "2022-12-17T17:12:21.466Z"
   },
   {
    "duration": 156,
    "start_time": "2022-12-17T17:12:27.655Z"
   },
   {
    "duration": 408,
    "start_time": "2022-12-17T17:12:54.193Z"
   },
   {
    "duration": 193,
    "start_time": "2022-12-17T17:16:28.629Z"
   },
   {
    "duration": 77,
    "start_time": "2022-12-17T17:16:45.317Z"
   },
   {
    "duration": 99,
    "start_time": "2022-12-17T17:16:57.624Z"
   },
   {
    "duration": 15,
    "start_time": "2022-12-17T17:18:23.980Z"
   },
   {
    "duration": 110,
    "start_time": "2022-12-17T17:18:24.695Z"
   },
   {
    "duration": 43,
    "start_time": "2022-12-17T17:18:35.322Z"
   },
   {
    "duration": 7,
    "start_time": "2022-12-17T17:18:36.082Z"
   },
   {
    "duration": 7,
    "start_time": "2022-12-17T17:18:36.267Z"
   },
   {
    "duration": 4,
    "start_time": "2022-12-17T17:18:36.580Z"
   },
   {
    "duration": 9,
    "start_time": "2022-12-17T17:18:36.960Z"
   },
   {
    "duration": 10,
    "start_time": "2022-12-17T17:18:37.348Z"
   },
   {
    "duration": 1680,
    "start_time": "2022-12-17T17:18:38.146Z"
   },
   {
    "duration": 93,
    "start_time": "2022-12-17T17:18:39.839Z"
   },
   {
    "duration": 108,
    "start_time": "2022-12-17T17:18:39.935Z"
   },
   {
    "duration": 15,
    "start_time": "2022-12-17T17:18:48.086Z"
   },
   {
    "duration": 121,
    "start_time": "2022-12-17T17:18:48.721Z"
   },
   {
    "duration": 15,
    "start_time": "2022-12-17T17:19:00.497Z"
   },
   {
    "duration": 88,
    "start_time": "2022-12-17T17:19:01.018Z"
   },
   {
    "duration": 71,
    "start_time": "2022-12-17T17:19:15.041Z"
   },
   {
    "duration": 21,
    "start_time": "2022-12-17T17:20:36.518Z"
   },
   {
    "duration": 63,
    "start_time": "2022-12-17T17:20:37.040Z"
   },
   {
    "duration": 15,
    "start_time": "2022-12-17T17:20:46.601Z"
   },
   {
    "duration": 61,
    "start_time": "2022-12-17T17:20:47.145Z"
   },
   {
    "duration": 82,
    "start_time": "2022-12-17T17:20:53.827Z"
   },
   {
    "duration": 19,
    "start_time": "2022-12-17T17:21:03.593Z"
   },
   {
    "duration": 12,
    "start_time": "2022-12-17T17:21:18.752Z"
   },
   {
    "duration": 91,
    "start_time": "2022-12-17T17:21:19.045Z"
   },
   {
    "duration": 17,
    "start_time": "2022-12-17T17:25:38.543Z"
   },
   {
    "duration": 119,
    "start_time": "2022-12-17T17:25:39.278Z"
   },
   {
    "duration": 12,
    "start_time": "2022-12-17T17:26:10.619Z"
   },
   {
    "duration": 83,
    "start_time": "2022-12-17T17:26:11.324Z"
   },
   {
    "duration": 14,
    "start_time": "2022-12-17T17:26:19.307Z"
   },
   {
    "duration": 89,
    "start_time": "2022-12-17T17:26:19.663Z"
   },
   {
    "duration": 88,
    "start_time": "2022-12-17T17:27:28.452Z"
   },
   {
    "duration": 129,
    "start_time": "2022-12-17T17:27:41.046Z"
   },
   {
    "duration": 96,
    "start_time": "2022-12-17T17:28:38.621Z"
   },
   {
    "duration": 128,
    "start_time": "2022-12-17T17:28:44.102Z"
   },
   {
    "duration": 74,
    "start_time": "2022-12-17T17:28:56.346Z"
   },
   {
    "duration": 84,
    "start_time": "2022-12-17T17:29:15.615Z"
   },
   {
    "duration": 264,
    "start_time": "2022-12-17T17:29:25.883Z"
   },
   {
    "duration": 137,
    "start_time": "2022-12-17T17:29:36.051Z"
   },
   {
    "duration": 124,
    "start_time": "2022-12-17T17:31:13.534Z"
   },
   {
    "duration": 6194,
    "start_time": "2022-12-17T17:32:15.936Z"
   },
   {
    "duration": 2542,
    "start_time": "2022-12-17T17:32:22.132Z"
   },
   {
    "duration": 54,
    "start_time": "2022-12-17T17:32:24.675Z"
   },
   {
    "duration": 14,
    "start_time": "2022-12-17T17:32:24.731Z"
   },
   {
    "duration": 11,
    "start_time": "2022-12-17T17:32:24.747Z"
   },
   {
    "duration": 21,
    "start_time": "2022-12-17T17:32:24.760Z"
   },
   {
    "duration": 28,
    "start_time": "2022-12-17T17:32:24.783Z"
   },
   {
    "duration": 32,
    "start_time": "2022-12-17T17:32:24.812Z"
   },
   {
    "duration": 1676,
    "start_time": "2022-12-17T17:32:24.846Z"
   },
   {
    "duration": 100,
    "start_time": "2022-12-17T17:32:26.529Z"
   },
   {
    "duration": 386,
    "start_time": "2022-12-17T17:32:26.630Z"
   },
   {
    "duration": 16,
    "start_time": "2022-12-17T17:32:27.018Z"
   },
   {
    "duration": 186,
    "start_time": "2022-12-17T17:32:27.036Z"
   },
   {
    "duration": 337,
    "start_time": "2022-12-17T17:32:27.224Z"
   },
   {
    "duration": 359,
    "start_time": "2022-12-17T17:32:27.563Z"
   },
   {
    "duration": 137,
    "start_time": "2022-12-17T17:32:27.924Z"
   },
   {
    "duration": 6,
    "start_time": "2022-12-17T17:32:28.062Z"
   },
   {
    "duration": 52,
    "start_time": "2022-12-17T17:32:28.070Z"
   },
   {
    "duration": 47,
    "start_time": "2022-12-17T17:32:28.124Z"
   },
   {
    "duration": 11,
    "start_time": "2022-12-17T17:32:28.173Z"
   },
   {
    "duration": 4,
    "start_time": "2022-12-17T17:32:28.186Z"
   },
   {
    "duration": 36,
    "start_time": "2022-12-17T17:32:28.191Z"
   },
   {
    "duration": 5,
    "start_time": "2022-12-17T17:32:28.229Z"
   },
   {
    "duration": 306331,
    "start_time": "2022-12-17T17:32:28.236Z"
   },
   {
    "duration": 8,
    "start_time": "2022-12-17T17:37:34.570Z"
   },
   {
    "duration": 154,
    "start_time": "2022-12-17T17:37:34.579Z"
   },
   {
    "duration": 227,
    "start_time": "2022-12-17T17:37:34.735Z"
   },
   {
    "duration": 0,
    "start_time": "2022-12-17T17:37:34.964Z"
   },
   {
    "duration": 0,
    "start_time": "2022-12-17T17:37:34.965Z"
   },
   {
    "duration": 0,
    "start_time": "2022-12-17T17:37:34.967Z"
   },
   {
    "duration": 0,
    "start_time": "2022-12-17T17:37:34.968Z"
   },
   {
    "duration": 0,
    "start_time": "2022-12-17T17:37:34.969Z"
   },
   {
    "duration": 0,
    "start_time": "2022-12-17T17:37:34.971Z"
   },
   {
    "duration": 5,
    "start_time": "2022-12-17T17:41:55.405Z"
   },
   {
    "duration": 46,
    "start_time": "2022-12-17T17:41:56.203Z"
   },
   {
    "duration": 8,
    "start_time": "2022-12-17T17:41:56.927Z"
   },
   {
    "duration": 7,
    "start_time": "2022-12-17T17:41:57.117Z"
   },
   {
    "duration": 5,
    "start_time": "2022-12-17T17:41:57.481Z"
   },
   {
    "duration": 7,
    "start_time": "2022-12-17T17:41:57.831Z"
   },
   {
    "duration": 10,
    "start_time": "2022-12-17T17:41:58.205Z"
   },
   {
    "duration": 1553,
    "start_time": "2022-12-17T17:41:58.769Z"
   },
   {
    "duration": 104,
    "start_time": "2022-12-17T17:42:00.324Z"
   },
   {
    "duration": 80,
    "start_time": "2022-12-17T17:42:00.430Z"
   },
   {
    "duration": 13,
    "start_time": "2022-12-17T17:42:00.521Z"
   },
   {
    "duration": 78,
    "start_time": "2022-12-17T17:42:00.713Z"
   },
   {
    "duration": 322,
    "start_time": "2022-12-17T17:42:01.849Z"
   },
   {
    "duration": 261,
    "start_time": "2022-12-17T17:42:02.481Z"
   },
   {
    "duration": 303,
    "start_time": "2022-12-17T17:42:03.919Z"
   },
   {
    "duration": 6,
    "start_time": "2022-12-17T17:42:04.350Z"
   },
   {
    "duration": 24,
    "start_time": "2022-12-17T17:42:04.794Z"
   },
   {
    "duration": 47,
    "start_time": "2022-12-17T17:42:04.927Z"
   },
   {
    "duration": 12,
    "start_time": "2022-12-17T17:42:05.342Z"
   },
   {
    "duration": 4,
    "start_time": "2022-12-17T17:42:05.756Z"
   },
   {
    "duration": 11,
    "start_time": "2022-12-17T17:42:06.830Z"
   },
   {
    "duration": 6,
    "start_time": "2022-12-17T17:42:08.277Z"
   },
   {
    "duration": 351397,
    "start_time": "2022-12-17T17:42:10.203Z"
   },
   {
    "duration": 5,
    "start_time": "2022-12-17T17:48:01.605Z"
   },
   {
    "duration": 38,
    "start_time": "2022-12-17T17:48:01.612Z"
   },
   {
    "duration": 6,
    "start_time": "2022-12-17T23:00:39.141Z"
   },
   {
    "duration": 6,
    "start_time": "2022-12-17T23:00:41.135Z"
   },
   {
    "duration": 4,
    "start_time": "2022-12-17T23:00:44.695Z"
   },
   {
    "duration": 58,
    "start_time": "2022-12-17T23:00:59.081Z"
   },
   {
    "duration": 1786,
    "start_time": "2022-12-17T23:01:23.138Z"
   },
   {
    "duration": 6,
    "start_time": "2022-12-17T23:01:28.175Z"
   },
   {
    "duration": 6,
    "start_time": "2022-12-17T23:01:28.470Z"
   },
   {
    "duration": 5,
    "start_time": "2022-12-17T23:01:29.122Z"
   },
   {
    "duration": 64,
    "start_time": "2022-12-17T23:01:30.340Z"
   },
   {
    "duration": 3,
    "start_time": "2022-12-17T23:01:31.880Z"
   },
   {
    "duration": 4,
    "start_time": "2022-12-17T23:01:32.355Z"
   },
   {
    "duration": 5599,
    "start_time": "2022-12-17T23:02:41.290Z"
   },
   {
    "duration": 2303,
    "start_time": "2022-12-17T23:02:46.892Z"
   },
   {
    "duration": 52,
    "start_time": "2022-12-17T23:02:49.197Z"
   },
   {
    "duration": 10,
    "start_time": "2022-12-17T23:02:49.251Z"
   },
   {
    "duration": 6,
    "start_time": "2022-12-17T23:02:49.263Z"
   },
   {
    "duration": 8,
    "start_time": "2022-12-17T23:02:49.271Z"
   },
   {
    "duration": 10,
    "start_time": "2022-12-17T23:02:49.281Z"
   },
   {
    "duration": 37,
    "start_time": "2022-12-17T23:02:49.292Z"
   },
   {
    "duration": 1892,
    "start_time": "2022-12-17T23:02:49.331Z"
   },
   {
    "duration": 97,
    "start_time": "2022-12-17T23:02:51.225Z"
   },
   {
    "duration": 363,
    "start_time": "2022-12-17T23:02:51.324Z"
   },
   {
    "duration": 12,
    "start_time": "2022-12-17T23:02:51.689Z"
   },
   {
    "duration": 132,
    "start_time": "2022-12-17T23:02:51.703Z"
   },
   {
    "duration": 323,
    "start_time": "2022-12-17T23:02:51.838Z"
   },
   {
    "duration": 318,
    "start_time": "2022-12-17T23:02:52.163Z"
   },
   {
    "duration": 124,
    "start_time": "2022-12-17T23:02:52.483Z"
   },
   {
    "duration": 6,
    "start_time": "2022-12-17T23:02:52.609Z"
   },
   {
    "duration": 24,
    "start_time": "2022-12-17T23:02:52.622Z"
   },
   {
    "duration": 43,
    "start_time": "2022-12-17T23:02:52.648Z"
   },
   {
    "duration": 33,
    "start_time": "2022-12-17T23:02:52.693Z"
   },
   {
    "duration": 3,
    "start_time": "2022-12-17T23:02:52.728Z"
   },
   {
    "duration": 9,
    "start_time": "2022-12-17T23:02:52.733Z"
   },
   {
    "duration": 5,
    "start_time": "2022-12-17T23:02:52.744Z"
   },
   {
    "duration": 410861,
    "start_time": "2022-12-17T23:02:52.750Z"
   },
   {
    "duration": 4,
    "start_time": "2022-12-17T23:09:43.612Z"
   },
   {
    "duration": 34,
    "start_time": "2022-12-17T23:09:43.618Z"
   },
   {
    "duration": 1783,
    "start_time": "2022-12-17T23:09:43.653Z"
   },
   {
    "duration": 6,
    "start_time": "2022-12-17T23:09:45.438Z"
   },
   {
    "duration": 8,
    "start_time": "2022-12-17T23:09:45.446Z"
   },
   {
    "duration": 6,
    "start_time": "2022-12-17T23:09:45.456Z"
   },
   {
    "duration": 76,
    "start_time": "2022-12-17T23:09:45.463Z"
   },
   {
    "duration": 4,
    "start_time": "2022-12-17T23:09:45.540Z"
   },
   {
    "duration": 12,
    "start_time": "2022-12-17T23:09:45.545Z"
   }
  ],
  "celltoolbar": "Отсутствует",
  "kernelspec": {
   "display_name": "Python 3",
   "language": "python",
   "name": "python3"
  },
  "language_info": {
   "codemirror_mode": {
    "name": "ipython",
    "version": 3
   },
   "file_extension": ".py",
   "mimetype": "text/x-python",
   "name": "python",
   "nbconvert_exporter": "python",
   "pygments_lexer": "ipython3",
   "version": "3.10.4"
  },
  "toc": {
   "base_numbering": 1,
   "nav_menu": {},
   "number_sections": true,
   "sideBar": true,
   "skip_h1_title": true,
   "title_cell": "Содержание",
   "title_sidebar": "Contents",
   "toc_cell": true,
   "toc_position": {
    "height": "calc(100% - 180px)",
    "left": "10px",
    "top": "150px",
    "width": "165px"
   },
   "toc_section_display": true,
   "toc_window_display": true
  },
  "vscode": {
   "interpreter": {
    "hash": "fb4569285eef3a3450cb62085a5b1e0da4bce0af555edc33dcf29baf3acc1368"
   }
  }
 },
 "nbformat": 4,
 "nbformat_minor": 2
}
