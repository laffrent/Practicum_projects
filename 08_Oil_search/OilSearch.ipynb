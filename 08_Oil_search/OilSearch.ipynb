{
 "cells": [
  {
   "cell_type": "markdown",
   "metadata": {},
   "source": [
    "# Выбор локации для скважины"
   ]
  },
  {
   "attachments": {},
   "cell_type": "markdown",
   "metadata": {},
   "source": [
    "В добывающей компании «ГлавРосГосНефть» нужно решить, где бурить новую скважину.\n",
    "\n",
    "Нам предоставлены пробы нефти в трёх регионах: в каждом 100 000 месторождений, где измерили качество нефти и объём её запасов. Постройте модель машинного обучения, которая поможет определить регион, где добыча принесёт наибольшую прибыль. Проанализируем возможную прибыль и риски техникой *Bootstrap.*\n",
    "\n",
    "Шаги для выбора локации:\n",
    "\n",
    "- В избранном регионе ищут месторождения, для каждого определяют значения признаков;\n",
    "- Строят модель и оценивают объём запасов;\n",
    "- Выбирают месторождения с самым высокими оценками значений. Количество месторождений зависит от бюджета компании и стоимости разработки одной скважины;\n",
    "- Прибыль равна суммарной прибыли отобранных месторождений."
   ]
  },
  {
   "attachments": {},
   "cell_type": "markdown",
   "metadata": {},
   "source": [
    "#### Ход исследования\n",
    "\n",
    "- исследуем и подготовим предоставленные данные\n",
    "- разобьем данные на тренировочную и тестовую выборки\n",
    "- создадим, обучим модель (pipeline)\n",
    "- расчет прибыли и рисков (bootstrap)\n",
    "\n",
    "\n",
    "\n",
    "#### Итоговый вывод:\n",
    "\n",
    "Проведено исследование данных с целью определения региона с возможностью получения максимальной прибыли и при этом с вероятностью получить убыток менее 2,5%\n",
    "\n",
    "Данные получены подготовленные с минимальными выбросами и нормализованными.\n",
    "В шифровании ID скважины обнаружены повторы возникшие из-за способа кодирования.\n",
    "Во втором регионе обнаружена сильная корреляция между параметром `f2` и  `product`, необходимо проверить достоверность полученной информации.\n",
    "\n",
    "При построении графиков в трех проекциях точечной диаграммы, можно заметить что распределения данных по форме сильно отличаются друг от друга . Это возможно из-за того что для каждого региона выбраны разные параметры зашифрованные под одними именами. Для корректного сравнения разных регионах желательно использовать одинаковые параметры если это возможно.\n",
    "\n",
    "Для предсказания объемов добычи нами была использована модель линейная регрессия(по условию задачи) как демонстрирующая наиболее предсказуемые результаты. Но учитывая показанную точность для регионов №1 и №3, возможно стоит рассмотреть варианты использования других моделей машинного обучения которые справляются не только с линейными зависимостями.\n",
    "\n",
    "Для безубыточной добычи в пределах бюджета средний запас нефти в одной скважине должен составлять не менее 111,11.\n",
    "Максимально близкое значение предсказанных запасов показал регион №3 94.7\n",
    "\n",
    "Но по результатам оценки методом bootstrap лучший результат с учетом риска получения убытка менее 2,5% показал только регион №2.\n",
    "\n",
    "На основании полученных результатов рекомендуется выбрать регион №2 (`geo_data_1`)."
   ]
  },
  {
   "cell_type": "markdown",
   "metadata": {},
   "source": [
    "Данные геологоразведки трёх регионов находятся в файлах:\n",
    "* `id` — уникальный идентификатор скважины;\n",
    "* `f0`, `f1`, `f2` — три признака точек (неважно, что они означают, но сами признаки значимы);\n",
    "* `product` — объём запасов в скважине (тыс. баррелей)."
   ]
  },
  {
   "cell_type": "markdown",
   "metadata": {},
   "source": [
    "## Загрузка и подготовка данных"
   ]
  },
  {
   "cell_type": "code",
   "execution_count": 1,
   "metadata": {
    "scrolled": true
   },
   "outputs": [],
   "source": [
    "from IPython.display import display\n",
    "import os # Для выбора пути к дф\n",
    "\n",
    "import matplotlib.pyplot as plt\n",
    "\n",
    "import numpy as np\n",
    "import pandas as pd\n",
    "import random\n",
    "import seaborn as sns\n",
    "\n",
    "from sklearn.linear_model import LinearRegression # алгоритм классификации - Линейная регрессия\n",
    "from sklearn.metrics import mean_squared_error # Метрики качеств - MSE\n",
    "from sklearn.metrics import r2_score # R2\n",
    "from sklearn.model_selection import train_test_split # Разбиение по выборкам\n",
    "from sklearn.pipeline import make_pipeline # Создание трубопровода\n",
    "from sklearn.pipeline import Pipeline\n",
    "from sklearn.preprocessing import StandardScaler # Масштабирование признаков\n",
    "\n",
    "import plotly.express as px\n",
    "import plotly.graph_objects as go\n",
    "from plotly.subplots import make_subplots\n",
    "\n",
    "\n",
    "\n",
    "import pandas_profiling\n",
    "from pandas_profiling import ProfileReport"
   ]
  },
  {
   "cell_type": "markdown",
   "metadata": {},
   "source": [
    "Загрузим исходные данные"
   ]
  },
  {
   "cell_type": "code",
   "execution_count": 2,
   "metadata": {},
   "outputs": [
    {
     "name": "stdout",
     "output_type": "stream",
     "text": [
      "Датасет успешно загружен с ЯндексПрактикум\n"
     ]
    }
   ],
   "source": [
    "pth1 = '/content/drive/MyDrive/data/geo_data_0.csv'\n",
    "pth2 = '/content/drive/MyDrive/data/geo_data_1.csv'\n",
    "pth3 = '/content/drive/MyDrive/data/geo_data_2.csv'\n",
    "pth4 = 'geo_data_0.csv'\n",
    "pth5 = 'geo_data_1.csv'\n",
    "pth6 = 'geo_data_2.csv'\n",
    "\n",
    "if os.path.exists(pth1) and os.path.exists(pth2) and os.path.exists(pth3):\n",
    "    geo_data_0 = pd.read_csv(pth1)\n",
    "    geo_data_1 = pd.read_csv(pth2)\n",
    "    geo_data_2 = pd.read_csv(pth3)\n",
    "    print(\"Датасет успешно загружен с локального диска\")\n",
    "elif os.path.exists(pth4) and os.path.exists(pth5) and os.path.exists(pth6):\n",
    "    geo_data_0 = pd.read_csv(pth4)\n",
    "    geo_data_1 = pd.read_csv(pth5)\n",
    "    geo_data_2 = pd.read_csv(pth6)\n",
    "    print(\"Датасет успешно загружен с ЯндексПрактикум\")\n",
    "else:\n",
    "    print(\"Проверьте правильность пути к датасету\")\n",
    "\n",
    "geo_data = [geo_data_0, geo_data_1, geo_data_2]"
   ]
  },
  {
   "cell_type": "markdown",
   "metadata": {},
   "source": [
    "С помощью библиотеки `pandas_profiling` исследуем исходные данные"
   ]
  },
  {
   "cell_type": "markdown",
   "metadata": {},
   "source": [
    "### Первый регион"
   ]
  },
  {
   "cell_type": "code",
   "execution_count": 3,
   "metadata": {},
   "outputs": [],
   "source": [
    "def eda_info(data):\n",
    "    '''\n",
    "    \n",
    "    '''\n",
    "\n",
    "    data.info()\n",
    "    print('*'*60)\n",
    "\n",
    "    display(data.describe())\n",
    "    print('*'*60)\n",
    "\n",
    "    full_dupl = data.duplicated().sum()\n",
    "    print(f'В датафрейме {full_dupl} полных дубликатов')\n",
    "    print('*'*60)\n",
    "\n",
    "    print('Дубликаты по столбцу ID')\n",
    "    dupl = pd.DataFrame()\n",
    "    for i in data[data.id.duplicated()]['id']:\n",
    "        dupl = dupl.append(data.query('id== @i'), ignore_index=True)\n",
    "    display(dupl)\n",
    "    print('*'*60)\n",
    "\n",
    "    fig = px.scatter_3d(data.sample(n=1000), \n",
    "                    x='f0', \n",
    "                    y='f1', \n",
    "                    z='f2', \n",
    "                    color='product')\n",
    "\n",
    "    fig.update_layout(width=500, height=500)\n",
    "    fig.show('png')\n",
    "    print('*'*60)\n",
    "\n",
    "    data.hist(\n",
    "        bins=100, \n",
    "        figsize=(12, 12), \n",
    "        edgecolor = \"black\"\n",
    "        )\n",
    "    plt.show()\n",
    "\n",
    "\n",
    "    plt.figure(figsize = (12,8))\n",
    "    sns.heatmap(\n",
    "        data.corr(), \n",
    "        annot=True, \n",
    "        vmin=-1, \n",
    "        vmax=1, \n",
    "        center= 0, \n",
    "        cmap= 'coolwarm', \n",
    "        square=True\n",
    "        )\n",
    "    print('*'*60)\n",
    "    \n",
    "\n",
    "    "
   ]
  },
  {
   "cell_type": "code",
   "execution_count": 4,
   "metadata": {},
   "outputs": [
    {
     "name": "stdout",
     "output_type": "stream",
     "text": [
      "<class 'pandas.core.frame.DataFrame'>\n",
      "RangeIndex: 100000 entries, 0 to 99999\n",
      "Data columns (total 5 columns):\n",
      " #   Column   Non-Null Count   Dtype  \n",
      "---  ------   --------------   -----  \n",
      " 0   id       100000 non-null  object \n",
      " 1   f0       100000 non-null  float64\n",
      " 2   f1       100000 non-null  float64\n",
      " 3   f2       100000 non-null  float64\n",
      " 4   product  100000 non-null  float64\n",
      "dtypes: float64(4), object(1)\n",
      "memory usage: 3.8+ MB\n",
      "************************************************************\n"
     ]
    },
    {
     "data": {
      "text/html": [
       "<div>\n",
       "<style scoped>\n",
       "    .dataframe tbody tr th:only-of-type {\n",
       "        vertical-align: middle;\n",
       "    }\n",
       "\n",
       "    .dataframe tbody tr th {\n",
       "        vertical-align: top;\n",
       "    }\n",
       "\n",
       "    .dataframe thead th {\n",
       "        text-align: right;\n",
       "    }\n",
       "</style>\n",
       "<table border=\"1\" class=\"dataframe\">\n",
       "  <thead>\n",
       "    <tr style=\"text-align: right;\">\n",
       "      <th></th>\n",
       "      <th>f0</th>\n",
       "      <th>f1</th>\n",
       "      <th>f2</th>\n",
       "      <th>product</th>\n",
       "    </tr>\n",
       "  </thead>\n",
       "  <tbody>\n",
       "    <tr>\n",
       "      <th>count</th>\n",
       "      <td>100000.000000</td>\n",
       "      <td>100000.000000</td>\n",
       "      <td>100000.000000</td>\n",
       "      <td>100000.000000</td>\n",
       "    </tr>\n",
       "    <tr>\n",
       "      <th>mean</th>\n",
       "      <td>0.500419</td>\n",
       "      <td>0.250143</td>\n",
       "      <td>2.502647</td>\n",
       "      <td>92.500000</td>\n",
       "    </tr>\n",
       "    <tr>\n",
       "      <th>std</th>\n",
       "      <td>0.871832</td>\n",
       "      <td>0.504433</td>\n",
       "      <td>3.248248</td>\n",
       "      <td>44.288691</td>\n",
       "    </tr>\n",
       "    <tr>\n",
       "      <th>min</th>\n",
       "      <td>-1.408605</td>\n",
       "      <td>-0.848218</td>\n",
       "      <td>-12.088328</td>\n",
       "      <td>0.000000</td>\n",
       "    </tr>\n",
       "    <tr>\n",
       "      <th>25%</th>\n",
       "      <td>-0.072580</td>\n",
       "      <td>-0.200881</td>\n",
       "      <td>0.287748</td>\n",
       "      <td>56.497507</td>\n",
       "    </tr>\n",
       "    <tr>\n",
       "      <th>50%</th>\n",
       "      <td>0.502360</td>\n",
       "      <td>0.250252</td>\n",
       "      <td>2.515969</td>\n",
       "      <td>91.849972</td>\n",
       "    </tr>\n",
       "    <tr>\n",
       "      <th>75%</th>\n",
       "      <td>1.073581</td>\n",
       "      <td>0.700646</td>\n",
       "      <td>4.715088</td>\n",
       "      <td>128.564089</td>\n",
       "    </tr>\n",
       "    <tr>\n",
       "      <th>max</th>\n",
       "      <td>2.362331</td>\n",
       "      <td>1.343769</td>\n",
       "      <td>16.003790</td>\n",
       "      <td>185.364347</td>\n",
       "    </tr>\n",
       "  </tbody>\n",
       "</table>\n",
       "</div>"
      ],
      "text/plain": [
       "                  f0             f1             f2        product\n",
       "count  100000.000000  100000.000000  100000.000000  100000.000000\n",
       "mean        0.500419       0.250143       2.502647      92.500000\n",
       "std         0.871832       0.504433       3.248248      44.288691\n",
       "min        -1.408605      -0.848218     -12.088328       0.000000\n",
       "25%        -0.072580      -0.200881       0.287748      56.497507\n",
       "50%         0.502360       0.250252       2.515969      91.849972\n",
       "75%         1.073581       0.700646       4.715088     128.564089\n",
       "max         2.362331       1.343769      16.003790     185.364347"
      ]
     },
     "metadata": {},
     "output_type": "display_data"
    },
    {
     "name": "stdout",
     "output_type": "stream",
     "text": [
      "************************************************************\n",
      "В датафрейме 0 полных дубликатов\n",
      "************************************************************\n",
      "Дубликаты по столбцу ID\n"
     ]
    },
    {
     "data": {
      "text/html": [
       "<div>\n",
       "<style scoped>\n",
       "    .dataframe tbody tr th:only-of-type {\n",
       "        vertical-align: middle;\n",
       "    }\n",
       "\n",
       "    .dataframe tbody tr th {\n",
       "        vertical-align: top;\n",
       "    }\n",
       "\n",
       "    .dataframe thead th {\n",
       "        text-align: right;\n",
       "    }\n",
       "</style>\n",
       "<table border=\"1\" class=\"dataframe\">\n",
       "  <thead>\n",
       "    <tr style=\"text-align: right;\">\n",
       "      <th></th>\n",
       "      <th>id</th>\n",
       "      <th>f0</th>\n",
       "      <th>f1</th>\n",
       "      <th>f2</th>\n",
       "      <th>product</th>\n",
       "    </tr>\n",
       "  </thead>\n",
       "  <tbody>\n",
       "    <tr>\n",
       "      <th>0</th>\n",
       "      <td>HZww2</td>\n",
       "      <td>0.755284</td>\n",
       "      <td>0.368511</td>\n",
       "      <td>1.863211</td>\n",
       "      <td>30.681774</td>\n",
       "    </tr>\n",
       "    <tr>\n",
       "      <th>1</th>\n",
       "      <td>HZww2</td>\n",
       "      <td>1.061194</td>\n",
       "      <td>-0.373969</td>\n",
       "      <td>10.430210</td>\n",
       "      <td>158.828695</td>\n",
       "    </tr>\n",
       "    <tr>\n",
       "      <th>2</th>\n",
       "      <td>bxg6G</td>\n",
       "      <td>0.411645</td>\n",
       "      <td>0.856830</td>\n",
       "      <td>-3.653440</td>\n",
       "      <td>73.604260</td>\n",
       "    </tr>\n",
       "    <tr>\n",
       "      <th>3</th>\n",
       "      <td>bxg6G</td>\n",
       "      <td>-0.823752</td>\n",
       "      <td>0.546319</td>\n",
       "      <td>3.630479</td>\n",
       "      <td>93.007798</td>\n",
       "    </tr>\n",
       "    <tr>\n",
       "      <th>4</th>\n",
       "      <td>A5aEY</td>\n",
       "      <td>-0.039949</td>\n",
       "      <td>0.156872</td>\n",
       "      <td>0.209861</td>\n",
       "      <td>89.249364</td>\n",
       "    </tr>\n",
       "    <tr>\n",
       "      <th>5</th>\n",
       "      <td>A5aEY</td>\n",
       "      <td>-0.180335</td>\n",
       "      <td>0.935548</td>\n",
       "      <td>-2.094773</td>\n",
       "      <td>33.020205</td>\n",
       "    </tr>\n",
       "    <tr>\n",
       "      <th>6</th>\n",
       "      <td>QcMuo</td>\n",
       "      <td>0.506563</td>\n",
       "      <td>-0.323775</td>\n",
       "      <td>-2.215583</td>\n",
       "      <td>75.496502</td>\n",
       "    </tr>\n",
       "    <tr>\n",
       "      <th>7</th>\n",
       "      <td>QcMuo</td>\n",
       "      <td>0.635635</td>\n",
       "      <td>-0.473422</td>\n",
       "      <td>0.862670</td>\n",
       "      <td>64.578675</td>\n",
       "    </tr>\n",
       "    <tr>\n",
       "      <th>8</th>\n",
       "      <td>74z30</td>\n",
       "      <td>0.741456</td>\n",
       "      <td>0.459229</td>\n",
       "      <td>5.153109</td>\n",
       "      <td>140.771492</td>\n",
       "    </tr>\n",
       "    <tr>\n",
       "      <th>9</th>\n",
       "      <td>74z30</td>\n",
       "      <td>1.084962</td>\n",
       "      <td>-0.312358</td>\n",
       "      <td>6.990771</td>\n",
       "      <td>127.643327</td>\n",
       "    </tr>\n",
       "    <tr>\n",
       "      <th>10</th>\n",
       "      <td>AGS9W</td>\n",
       "      <td>1.454747</td>\n",
       "      <td>-0.479651</td>\n",
       "      <td>0.683380</td>\n",
       "      <td>126.370504</td>\n",
       "    </tr>\n",
       "    <tr>\n",
       "      <th>11</th>\n",
       "      <td>AGS9W</td>\n",
       "      <td>-0.933795</td>\n",
       "      <td>0.116194</td>\n",
       "      <td>-3.655896</td>\n",
       "      <td>19.230453</td>\n",
       "    </tr>\n",
       "    <tr>\n",
       "      <th>12</th>\n",
       "      <td>Tdehs</td>\n",
       "      <td>0.829407</td>\n",
       "      <td>0.298807</td>\n",
       "      <td>-0.049563</td>\n",
       "      <td>96.035308</td>\n",
       "    </tr>\n",
       "    <tr>\n",
       "      <th>13</th>\n",
       "      <td>Tdehs</td>\n",
       "      <td>0.112079</td>\n",
       "      <td>0.430296</td>\n",
       "      <td>3.218993</td>\n",
       "      <td>60.964018</td>\n",
       "    </tr>\n",
       "    <tr>\n",
       "      <th>14</th>\n",
       "      <td>fiKDv</td>\n",
       "      <td>0.157341</td>\n",
       "      <td>1.028359</td>\n",
       "      <td>5.585586</td>\n",
       "      <td>95.817889</td>\n",
       "    </tr>\n",
       "    <tr>\n",
       "      <th>15</th>\n",
       "      <td>fiKDv</td>\n",
       "      <td>0.049883</td>\n",
       "      <td>0.841313</td>\n",
       "      <td>6.394613</td>\n",
       "      <td>137.346586</td>\n",
       "    </tr>\n",
       "    <tr>\n",
       "      <th>16</th>\n",
       "      <td>TtcGQ</td>\n",
       "      <td>0.569276</td>\n",
       "      <td>-0.104876</td>\n",
       "      <td>6.440215</td>\n",
       "      <td>85.350186</td>\n",
       "    </tr>\n",
       "    <tr>\n",
       "      <th>17</th>\n",
       "      <td>TtcGQ</td>\n",
       "      <td>0.110711</td>\n",
       "      <td>1.022689</td>\n",
       "      <td>0.911381</td>\n",
       "      <td>101.318008</td>\n",
       "    </tr>\n",
       "    <tr>\n",
       "      <th>18</th>\n",
       "      <td>bsk9y</td>\n",
       "      <td>0.398908</td>\n",
       "      <td>-0.400253</td>\n",
       "      <td>10.122376</td>\n",
       "      <td>163.433078</td>\n",
       "    </tr>\n",
       "    <tr>\n",
       "      <th>19</th>\n",
       "      <td>bsk9y</td>\n",
       "      <td>0.378429</td>\n",
       "      <td>0.005837</td>\n",
       "      <td>0.160827</td>\n",
       "      <td>160.637302</td>\n",
       "    </tr>\n",
       "  </tbody>\n",
       "</table>\n",
       "</div>"
      ],
      "text/plain": [
       "       id        f0        f1         f2     product\n",
       "0   HZww2  0.755284  0.368511   1.863211   30.681774\n",
       "1   HZww2  1.061194 -0.373969  10.430210  158.828695\n",
       "2   bxg6G  0.411645  0.856830  -3.653440   73.604260\n",
       "3   bxg6G -0.823752  0.546319   3.630479   93.007798\n",
       "4   A5aEY -0.039949  0.156872   0.209861   89.249364\n",
       "5   A5aEY -0.180335  0.935548  -2.094773   33.020205\n",
       "6   QcMuo  0.506563 -0.323775  -2.215583   75.496502\n",
       "7   QcMuo  0.635635 -0.473422   0.862670   64.578675\n",
       "8   74z30  0.741456  0.459229   5.153109  140.771492\n",
       "9   74z30  1.084962 -0.312358   6.990771  127.643327\n",
       "10  AGS9W  1.454747 -0.479651   0.683380  126.370504\n",
       "11  AGS9W -0.933795  0.116194  -3.655896   19.230453\n",
       "12  Tdehs  0.829407  0.298807  -0.049563   96.035308\n",
       "13  Tdehs  0.112079  0.430296   3.218993   60.964018\n",
       "14  fiKDv  0.157341  1.028359   5.585586   95.817889\n",
       "15  fiKDv  0.049883  0.841313   6.394613  137.346586\n",
       "16  TtcGQ  0.569276 -0.104876   6.440215   85.350186\n",
       "17  TtcGQ  0.110711  1.022689   0.911381  101.318008\n",
       "18  bsk9y  0.398908 -0.400253  10.122376  163.433078\n",
       "19  bsk9y  0.378429  0.005837   0.160827  160.637302"
      ]
     },
     "metadata": {},
     "output_type": "display_data"
    },
    {
     "name": "stdout",
     "output_type": "stream",
     "text": [
      "************************************************************\n"
     ]
    },
    {
     "data": {
      "image/png": "[encoded data removed]"
     },
     "metadata": {},
     "output_type": "display_data"
    },
    {
     "name": "stdout",
     "output_type": "stream",
     "text": [
      "************************************************************\n"
     ]
    },
    {
     "data": {
      "image/png": "[encoded data removed]",
      "text/plain": [
       "<Figure size 864x864 with 4 Axes>"
      ]
     },
     "metadata": {
      "needs_background": "light"
     },
     "output_type": "display_data"
    },
    {
     "name": "stdout",
     "output_type": "stream",
     "text": [
      "************************************************************\n"
     ]
    },
    {
     "data": {
      "image/png": "[encoded data removed]",
      "text/plain": [
       "<Figure size 864x576 with 2 Axes>"
      ]
     },
     "metadata": {
      "needs_background": "light"
     },
     "output_type": "display_data"
    }
   ],
   "source": [
    "eda_info(geo_data_0)"
   ]
  },
  {
   "cell_type": "code",
   "execution_count": 5,
   "metadata": {},
   "outputs": [],
   "source": [
    "profile = ProfileReport(geo_data_0, title='geo_data_0', progress_bar=False)\n",
    "profile.to_file(\"geo_data_0.html\")"
   ]
  },
  {
   "attachments": {},
   "cell_type": "markdown",
   "metadata": {},
   "source": [
    "Данные первого региона: 5 признаков 100000 значений. Пропуски отсутствуют, есть повторы по уникальному идентификатору скважины 10 шт"
   ]
  },
  {
   "cell_type": "markdown",
   "metadata": {},
   "source": [
    "Остальные данные отличаются, учитывая то что id зашифрован сгенерированным значением 5 знаками с 62 вариантами для каждого, всего 916 132 832‬ вариантов. Вероятность повтора около 1/10000, такое примерно количество и наблюдаем в наших данных. Возможно проблемы на стадии генерации значений. Для исключения повторов при генерации такого количества имен, желательно выбирать длинну хотябы шесть символов."
   ]
  },
  {
   "cell_type": "markdown",
   "metadata": {},
   "source": [
    "Форма распределения у всех столбцов отличается, но оно отнистельно симметрично относительно некого центрального значения"
   ]
  },
  {
   "cell_type": "markdown",
   "metadata": {},
   "source": [
    "Корреляция между признаками слабая или средняя"
   ]
  },
  {
   "cell_type": "markdown",
   "metadata": {},
   "source": [
    "Построим точечную диаграмму чтобы визуально оценить распрделение данных."
   ]
  },
  {
   "cell_type": "markdown",
   "metadata": {},
   "source": [
    "Данные формируют две седловидные плоскости отвернутые друг от друга. Наибольшое скопление наиболее высоких значений целевого признака наблюдается при следующих значениях  f2 max, f1 min, 0.5<f0<1.5"
   ]
  },
  {
   "cell_type": "markdown",
   "metadata": {},
   "source": [
    "### Второй регион"
   ]
  },
  {
   "cell_type": "code",
   "execution_count": 6,
   "metadata": {
    "scrolled": false
   },
   "outputs": [],
   "source": [
    "profile = ProfileReport(geo_data_1, title='geo_data_1', progress_bar=False)\n",
    "profile.to_file(\"geo_data_1.html\")"
   ]
  },
  {
   "cell_type": "code",
   "execution_count": 7,
   "metadata": {},
   "outputs": [
    {
     "name": "stdout",
     "output_type": "stream",
     "text": [
      "<class 'pandas.core.frame.DataFrame'>\n",
      "RangeIndex: 100000 entries, 0 to 99999\n",
      "Data columns (total 5 columns):\n",
      " #   Column   Non-Null Count   Dtype  \n",
      "---  ------   --------------   -----  \n",
      " 0   id       100000 non-null  object \n",
      " 1   f0       100000 non-null  float64\n",
      " 2   f1       100000 non-null  float64\n",
      " 3   f2       100000 non-null  float64\n",
      " 4   product  100000 non-null  float64\n",
      "dtypes: float64(4), object(1)\n",
      "memory usage: 3.8+ MB\n",
      "************************************************************\n"
     ]
    },
    {
     "data": {
      "text/html": [
       "<div>\n",
       "<style scoped>\n",
       "    .dataframe tbody tr th:only-of-type {\n",
       "        vertical-align: middle;\n",
       "    }\n",
       "\n",
       "    .dataframe tbody tr th {\n",
       "        vertical-align: top;\n",
       "    }\n",
       "\n",
       "    .dataframe thead th {\n",
       "        text-align: right;\n",
       "    }\n",
       "</style>\n",
       "<table border=\"1\" class=\"dataframe\">\n",
       "  <thead>\n",
       "    <tr style=\"text-align: right;\">\n",
       "      <th></th>\n",
       "      <th>f0</th>\n",
       "      <th>f1</th>\n",
       "      <th>f2</th>\n",
       "      <th>product</th>\n",
       "    </tr>\n",
       "  </thead>\n",
       "  <tbody>\n",
       "    <tr>\n",
       "      <th>count</th>\n",
       "      <td>100000.000000</td>\n",
       "      <td>100000.000000</td>\n",
       "      <td>100000.000000</td>\n",
       "      <td>100000.000000</td>\n",
       "    </tr>\n",
       "    <tr>\n",
       "      <th>mean</th>\n",
       "      <td>1.141296</td>\n",
       "      <td>-4.796579</td>\n",
       "      <td>2.494541</td>\n",
       "      <td>68.825000</td>\n",
       "    </tr>\n",
       "    <tr>\n",
       "      <th>std</th>\n",
       "      <td>8.965932</td>\n",
       "      <td>5.119872</td>\n",
       "      <td>1.703572</td>\n",
       "      <td>45.944423</td>\n",
       "    </tr>\n",
       "    <tr>\n",
       "      <th>min</th>\n",
       "      <td>-31.609576</td>\n",
       "      <td>-26.358598</td>\n",
       "      <td>-0.018144</td>\n",
       "      <td>0.000000</td>\n",
       "    </tr>\n",
       "    <tr>\n",
       "      <th>25%</th>\n",
       "      <td>-6.298551</td>\n",
       "      <td>-8.267985</td>\n",
       "      <td>1.000021</td>\n",
       "      <td>26.953261</td>\n",
       "    </tr>\n",
       "    <tr>\n",
       "      <th>50%</th>\n",
       "      <td>1.153055</td>\n",
       "      <td>-4.813172</td>\n",
       "      <td>2.011479</td>\n",
       "      <td>57.085625</td>\n",
       "    </tr>\n",
       "    <tr>\n",
       "      <th>75%</th>\n",
       "      <td>8.621015</td>\n",
       "      <td>-1.332816</td>\n",
       "      <td>3.999904</td>\n",
       "      <td>107.813044</td>\n",
       "    </tr>\n",
       "    <tr>\n",
       "      <th>max</th>\n",
       "      <td>29.421755</td>\n",
       "      <td>18.734063</td>\n",
       "      <td>5.019721</td>\n",
       "      <td>137.945408</td>\n",
       "    </tr>\n",
       "  </tbody>\n",
       "</table>\n",
       "</div>"
      ],
      "text/plain": [
       "                  f0             f1             f2        product\n",
       "count  100000.000000  100000.000000  100000.000000  100000.000000\n",
       "mean        1.141296      -4.796579       2.494541      68.825000\n",
       "std         8.965932       5.119872       1.703572      45.944423\n",
       "min       -31.609576     -26.358598      -0.018144       0.000000\n",
       "25%        -6.298551      -8.267985       1.000021      26.953261\n",
       "50%         1.153055      -4.813172       2.011479      57.085625\n",
       "75%         8.621015      -1.332816       3.999904     107.813044\n",
       "max        29.421755      18.734063       5.019721     137.945408"
      ]
     },
     "metadata": {},
     "output_type": "display_data"
    },
    {
     "name": "stdout",
     "output_type": "stream",
     "text": [
      "************************************************************\n",
      "В датафрейме 0 полных дубликатов\n",
      "************************************************************\n",
      "Дубликаты по столбцу ID\n"
     ]
    },
    {
     "data": {
      "text/html": [
       "<div>\n",
       "<style scoped>\n",
       "    .dataframe tbody tr th:only-of-type {\n",
       "        vertical-align: middle;\n",
       "    }\n",
       "\n",
       "    .dataframe tbody tr th {\n",
       "        vertical-align: top;\n",
       "    }\n",
       "\n",
       "    .dataframe thead th {\n",
       "        text-align: right;\n",
       "    }\n",
       "</style>\n",
       "<table border=\"1\" class=\"dataframe\">\n",
       "  <thead>\n",
       "    <tr style=\"text-align: right;\">\n",
       "      <th></th>\n",
       "      <th>id</th>\n",
       "      <th>f0</th>\n",
       "      <th>f1</th>\n",
       "      <th>f2</th>\n",
       "      <th>product</th>\n",
       "    </tr>\n",
       "  </thead>\n",
       "  <tbody>\n",
       "    <tr>\n",
       "      <th>0</th>\n",
       "      <td>LHZR0</td>\n",
       "      <td>11.170835</td>\n",
       "      <td>-1.945066</td>\n",
       "      <td>3.002872</td>\n",
       "      <td>80.859783</td>\n",
       "    </tr>\n",
       "    <tr>\n",
       "      <th>1</th>\n",
       "      <td>LHZR0</td>\n",
       "      <td>-8.989672</td>\n",
       "      <td>-4.286607</td>\n",
       "      <td>2.009139</td>\n",
       "      <td>57.085625</td>\n",
       "    </tr>\n",
       "    <tr>\n",
       "      <th>2</th>\n",
       "      <td>bfPNe</td>\n",
       "      <td>-9.494442</td>\n",
       "      <td>-5.463692</td>\n",
       "      <td>4.006042</td>\n",
       "      <td>110.992147</td>\n",
       "    </tr>\n",
       "    <tr>\n",
       "      <th>3</th>\n",
       "      <td>bfPNe</td>\n",
       "      <td>-6.202799</td>\n",
       "      <td>-4.820045</td>\n",
       "      <td>2.995107</td>\n",
       "      <td>84.038886</td>\n",
       "    </tr>\n",
       "    <tr>\n",
       "      <th>4</th>\n",
       "      <td>wt4Uk</td>\n",
       "      <td>-9.091098</td>\n",
       "      <td>-8.109279</td>\n",
       "      <td>-0.002314</td>\n",
       "      <td>3.179103</td>\n",
       "    </tr>\n",
       "    <tr>\n",
       "      <th>5</th>\n",
       "      <td>wt4Uk</td>\n",
       "      <td>10.259972</td>\n",
       "      <td>-9.376355</td>\n",
       "      <td>4.994297</td>\n",
       "      <td>134.766305</td>\n",
       "    </tr>\n",
       "    <tr>\n",
       "      <th>6</th>\n",
       "      <td>5ltQ6</td>\n",
       "      <td>-3.435401</td>\n",
       "      <td>-12.296043</td>\n",
       "      <td>1.999796</td>\n",
       "      <td>57.085625</td>\n",
       "    </tr>\n",
       "    <tr>\n",
       "      <th>7</th>\n",
       "      <td>5ltQ6</td>\n",
       "      <td>18.213839</td>\n",
       "      <td>2.191999</td>\n",
       "      <td>3.993869</td>\n",
       "      <td>107.813044</td>\n",
       "    </tr>\n",
       "  </tbody>\n",
       "</table>\n",
       "</div>"
      ],
      "text/plain": [
       "      id         f0         f1        f2     product\n",
       "0  LHZR0  11.170835  -1.945066  3.002872   80.859783\n",
       "1  LHZR0  -8.989672  -4.286607  2.009139   57.085625\n",
       "2  bfPNe  -9.494442  -5.463692  4.006042  110.992147\n",
       "3  bfPNe  -6.202799  -4.820045  2.995107   84.038886\n",
       "4  wt4Uk  -9.091098  -8.109279 -0.002314    3.179103\n",
       "5  wt4Uk  10.259972  -9.376355  4.994297  134.766305\n",
       "6  5ltQ6  -3.435401 -12.296043  1.999796   57.085625\n",
       "7  5ltQ6  18.213839   2.191999  3.993869  107.813044"
      ]
     },
     "metadata": {},
     "output_type": "display_data"
    },
    {
     "name": "stdout",
     "output_type": "stream",
     "text": [
      "************************************************************\n"
     ]
    },
    {
     "data": {
      "image/png": "[encoded data removed]"
     },
     "metadata": {},
     "output_type": "display_data"
    },
    {
     "name": "stdout",
     "output_type": "stream",
     "text": [
      "************************************************************\n"
     ]
    },
    {
     "data": {
      "image/png": "[encoded data removed]",
      "text/plain": [
       "<Figure size 864x864 with 4 Axes>"
      ]
     },
     "metadata": {
      "needs_background": "light"
     },
     "output_type": "display_data"
    },
    {
     "name": "stdout",
     "output_type": "stream",
     "text": [
      "************************************************************\n"
     ]
    },
    {
     "data": {
      "image/png": "[encoded data removed]",
      "text/plain": [
       "<Figure size 864x576 with 2 Axes>"
      ]
     },
     "metadata": {
      "needs_background": "light"
     },
     "output_type": "display_data"
    }
   ],
   "source": [
    "eda_info(geo_data_1)"
   ]
  },
  {
   "cell_type": "markdown",
   "metadata": {},
   "source": [
    "Второй регион. Также как и в первом 5 признаков 100000 значений. \n",
    "Также есть несколько повоторов в столбце `id`\n",
    "В столбце `f2` значения больше похожи на категориальные, и принимают значения близкие к целым числам 1, 2, 3, 4, 5"
   ]
  },
  {
   "cell_type": "markdown",
   "metadata": {},
   "source": [
    "Также значения `f2` сильно коррелируют с целевым признаком `product`,"
   ]
  },
  {
   "cell_type": "markdown",
   "metadata": {},
   "source": [
    "Похоже что признак в столбце `f2` показывает некое качество скважины разбивая скважины на группы, с высокой точностью предсказывая объем нефти содержащейся в скважине."
   ]
  },
  {
   "cell_type": "markdown",
   "metadata": {},
   "source": [
    "### Третий регион"
   ]
  },
  {
   "cell_type": "code",
   "execution_count": 8,
   "metadata": {},
   "outputs": [],
   "source": [
    "profile = ProfileReport(geo_data_2, title='geo_data_2', progress_bar=False)\n",
    "profile.to_file(\"geo_data_2.html\")"
   ]
  },
  {
   "cell_type": "code",
   "execution_count": 9,
   "metadata": {},
   "outputs": [
    {
     "name": "stdout",
     "output_type": "stream",
     "text": [
      "<class 'pandas.core.frame.DataFrame'>\n",
      "RangeIndex: 100000 entries, 0 to 99999\n",
      "Data columns (total 5 columns):\n",
      " #   Column   Non-Null Count   Dtype  \n",
      "---  ------   --------------   -----  \n",
      " 0   id       100000 non-null  object \n",
      " 1   f0       100000 non-null  float64\n",
      " 2   f1       100000 non-null  float64\n",
      " 3   f2       100000 non-null  float64\n",
      " 4   product  100000 non-null  float64\n",
      "dtypes: float64(4), object(1)\n",
      "memory usage: 3.8+ MB\n",
      "************************************************************\n"
     ]
    },
    {
     "data": {
      "text/html": [
       "<div>\n",
       "<style scoped>\n",
       "    .dataframe tbody tr th:only-of-type {\n",
       "        vertical-align: middle;\n",
       "    }\n",
       "\n",
       "    .dataframe tbody tr th {\n",
       "        vertical-align: top;\n",
       "    }\n",
       "\n",
       "    .dataframe thead th {\n",
       "        text-align: right;\n",
       "    }\n",
       "</style>\n",
       "<table border=\"1\" class=\"dataframe\">\n",
       "  <thead>\n",
       "    <tr style=\"text-align: right;\">\n",
       "      <th></th>\n",
       "      <th>f0</th>\n",
       "      <th>f1</th>\n",
       "      <th>f2</th>\n",
       "      <th>product</th>\n",
       "    </tr>\n",
       "  </thead>\n",
       "  <tbody>\n",
       "    <tr>\n",
       "      <th>count</th>\n",
       "      <td>100000.000000</td>\n",
       "      <td>100000.000000</td>\n",
       "      <td>100000.000000</td>\n",
       "      <td>100000.000000</td>\n",
       "    </tr>\n",
       "    <tr>\n",
       "      <th>mean</th>\n",
       "      <td>0.002023</td>\n",
       "      <td>-0.002081</td>\n",
       "      <td>2.495128</td>\n",
       "      <td>95.000000</td>\n",
       "    </tr>\n",
       "    <tr>\n",
       "      <th>std</th>\n",
       "      <td>1.732045</td>\n",
       "      <td>1.730417</td>\n",
       "      <td>3.473445</td>\n",
       "      <td>44.749921</td>\n",
       "    </tr>\n",
       "    <tr>\n",
       "      <th>min</th>\n",
       "      <td>-8.760004</td>\n",
       "      <td>-7.084020</td>\n",
       "      <td>-11.970335</td>\n",
       "      <td>0.000000</td>\n",
       "    </tr>\n",
       "    <tr>\n",
       "      <th>25%</th>\n",
       "      <td>-1.162288</td>\n",
       "      <td>-1.174820</td>\n",
       "      <td>0.130359</td>\n",
       "      <td>59.450441</td>\n",
       "    </tr>\n",
       "    <tr>\n",
       "      <th>50%</th>\n",
       "      <td>0.009424</td>\n",
       "      <td>-0.009482</td>\n",
       "      <td>2.484236</td>\n",
       "      <td>94.925613</td>\n",
       "    </tr>\n",
       "    <tr>\n",
       "      <th>75%</th>\n",
       "      <td>1.158535</td>\n",
       "      <td>1.163678</td>\n",
       "      <td>4.858794</td>\n",
       "      <td>130.595027</td>\n",
       "    </tr>\n",
       "    <tr>\n",
       "      <th>max</th>\n",
       "      <td>7.238262</td>\n",
       "      <td>7.844801</td>\n",
       "      <td>16.739402</td>\n",
       "      <td>190.029838</td>\n",
       "    </tr>\n",
       "  </tbody>\n",
       "</table>\n",
       "</div>"
      ],
      "text/plain": [
       "                  f0             f1             f2        product\n",
       "count  100000.000000  100000.000000  100000.000000  100000.000000\n",
       "mean        0.002023      -0.002081       2.495128      95.000000\n",
       "std         1.732045       1.730417       3.473445      44.749921\n",
       "min        -8.760004      -7.084020     -11.970335       0.000000\n",
       "25%        -1.162288      -1.174820       0.130359      59.450441\n",
       "50%         0.009424      -0.009482       2.484236      94.925613\n",
       "75%         1.158535       1.163678       4.858794     130.595027\n",
       "max         7.238262       7.844801      16.739402     190.029838"
      ]
     },
     "metadata": {},
     "output_type": "display_data"
    },
    {
     "name": "stdout",
     "output_type": "stream",
     "text": [
      "************************************************************\n",
      "В датафрейме 0 полных дубликатов\n",
      "************************************************************\n",
      "Дубликаты по столбцу ID\n"
     ]
    },
    {
     "data": {
      "text/html": [
       "<div>\n",
       "<style scoped>\n",
       "    .dataframe tbody tr th:only-of-type {\n",
       "        vertical-align: middle;\n",
       "    }\n",
       "\n",
       "    .dataframe tbody tr th {\n",
       "        vertical-align: top;\n",
       "    }\n",
       "\n",
       "    .dataframe thead th {\n",
       "        text-align: right;\n",
       "    }\n",
       "</style>\n",
       "<table border=\"1\" class=\"dataframe\">\n",
       "  <thead>\n",
       "    <tr style=\"text-align: right;\">\n",
       "      <th></th>\n",
       "      <th>id</th>\n",
       "      <th>f0</th>\n",
       "      <th>f1</th>\n",
       "      <th>f2</th>\n",
       "      <th>product</th>\n",
       "    </tr>\n",
       "  </thead>\n",
       "  <tbody>\n",
       "    <tr>\n",
       "      <th>0</th>\n",
       "      <td>xCHr8</td>\n",
       "      <td>1.633027</td>\n",
       "      <td>0.368135</td>\n",
       "      <td>-2.378367</td>\n",
       "      <td>6.120525</td>\n",
       "    </tr>\n",
       "    <tr>\n",
       "      <th>1</th>\n",
       "      <td>xCHr8</td>\n",
       "      <td>-0.847066</td>\n",
       "      <td>2.101796</td>\n",
       "      <td>5.597130</td>\n",
       "      <td>184.388641</td>\n",
       "    </tr>\n",
       "    <tr>\n",
       "      <th>2</th>\n",
       "      <td>VF7Jo</td>\n",
       "      <td>2.122656</td>\n",
       "      <td>-0.858275</td>\n",
       "      <td>5.746001</td>\n",
       "      <td>181.716817</td>\n",
       "    </tr>\n",
       "    <tr>\n",
       "      <th>3</th>\n",
       "      <td>VF7Jo</td>\n",
       "      <td>-0.883115</td>\n",
       "      <td>0.560537</td>\n",
       "      <td>0.723601</td>\n",
       "      <td>136.233420</td>\n",
       "    </tr>\n",
       "    <tr>\n",
       "      <th>4</th>\n",
       "      <td>KUPhW</td>\n",
       "      <td>0.231846</td>\n",
       "      <td>-1.698941</td>\n",
       "      <td>4.990775</td>\n",
       "      <td>11.716299</td>\n",
       "    </tr>\n",
       "    <tr>\n",
       "      <th>5</th>\n",
       "      <td>KUPhW</td>\n",
       "      <td>1.211150</td>\n",
       "      <td>3.176408</td>\n",
       "      <td>5.543540</td>\n",
       "      <td>132.831802</td>\n",
       "    </tr>\n",
       "    <tr>\n",
       "      <th>6</th>\n",
       "      <td>Vcm5J</td>\n",
       "      <td>-1.229484</td>\n",
       "      <td>-2.439204</td>\n",
       "      <td>1.222909</td>\n",
       "      <td>137.968290</td>\n",
       "    </tr>\n",
       "    <tr>\n",
       "      <th>7</th>\n",
       "      <td>Vcm5J</td>\n",
       "      <td>2.587702</td>\n",
       "      <td>1.986875</td>\n",
       "      <td>2.482245</td>\n",
       "      <td>92.327572</td>\n",
       "    </tr>\n",
       "  </tbody>\n",
       "</table>\n",
       "</div>"
      ],
      "text/plain": [
       "      id        f0        f1        f2     product\n",
       "0  xCHr8  1.633027  0.368135 -2.378367    6.120525\n",
       "1  xCHr8 -0.847066  2.101796  5.597130  184.388641\n",
       "2  VF7Jo  2.122656 -0.858275  5.746001  181.716817\n",
       "3  VF7Jo -0.883115  0.560537  0.723601  136.233420\n",
       "4  KUPhW  0.231846 -1.698941  4.990775   11.716299\n",
       "5  KUPhW  1.211150  3.176408  5.543540  132.831802\n",
       "6  Vcm5J -1.229484 -2.439204  1.222909  137.968290\n",
       "7  Vcm5J  2.587702  1.986875  2.482245   92.327572"
      ]
     },
     "metadata": {},
     "output_type": "display_data"
    },
    {
     "name": "stdout",
     "output_type": "stream",
     "text": [
      "************************************************************\n"
     ]
    },
    {
     "data": {
      "image/png": "[encoded data removed]"
     },
     "metadata": {},
     "output_type": "display_data"
    },
    {
     "name": "stdout",
     "output_type": "stream",
     "text": [
      "************************************************************\n"
     ]
    },
    {
     "data": {
      "image/png": "[encoded data removed]",
      "text/plain": [
       "<Figure size 864x864 with 4 Axes>"
      ]
     },
     "metadata": {
      "needs_background": "light"
     },
     "output_type": "display_data"
    },
    {
     "name": "stdout",
     "output_type": "stream",
     "text": [
      "************************************************************\n"
     ]
    },
    {
     "data": {
      "image/png": "[encoded data removed]",
      "text/plain": [
       "<Figure size 864x576 with 2 Axes>"
      ]
     },
     "metadata": {
      "needs_background": "light"
     },
     "output_type": "display_data"
    }
   ],
   "source": [
    "eda_info(geo_data_2)"
   ]
  },
  {
   "cell_type": "markdown",
   "metadata": {},
   "source": [
    "Также как и в остальных данные содержат 5 признаков 100000 значений. \n",
    "Также есть несколько повоторов в столбце `id`. Сильных зависимостей между признаками нет"
   ]
  },
  {
   "cell_type": "markdown",
   "metadata": {},
   "source": [
    "Данные формируют вытянутый эллипсоид вдоль оси `f2`. Наиболее высокие значения `product` при f2>0, по осям f1 и f0 чем дальше от 0 тем лучше. При этом часть очень низких значений `product` находится в центре эллипсоида вдоль оси f2"
   ]
  },
  {
   "cell_type": "markdown",
   "metadata": {},
   "source": [
    "**Вывод:**\n",
    "В первом разделе выполнили предварительную обработку данных:\n",
    "* во всех трех регионах данные в целом подготовленные, минимальное количество выбросов\n",
    "* пропуски отсутствуют\n",
    "* есть совпадения по id, но их наиболее вероятная природа - работа генератора имен при шифровании\n",
    "* между признаками сильная корреляция не обнаружена, во втором регионе признак `f2` сильно коррелирует с целевым признаком, учитывая это линейная регрессия будет основываться по большей части только на этом признаке, практически не принимая во внимание остальные\n",
    "* учитывая форму распределения данных, похоже что данные нормализованы и уже подготовленны к обучению модели \n"
   ]
  },
  {
   "cell_type": "markdown",
   "metadata": {},
   "source": [
    "## Обучение и проверка модели"
   ]
  },
  {
   "cell_type": "markdown",
   "metadata": {},
   "source": [
    "Разделим данные для обучения и проверки результата"
   ]
  },
  {
   "cell_type": "code",
   "execution_count": 10,
   "metadata": {},
   "outputs": [],
   "source": [
    "def data_split(data, target, drop_f2=False): # drop_f2 для проверки второго региона без f2\n",
    "    if drop_f2 == True:\n",
    "        X, y = data.drop([target, 'id', 'f2'], axis=1), data[target]\n",
    "    else:\n",
    "        X, y = data.drop([target, 'id'], axis=1), data[target]\n",
    "\n",
    "    X_train, X_test, y_train, y_test = train_test_split(\n",
    "        X, y, \n",
    "        test_size=0.25, \n",
    "        random_state=42, \n",
    "        shuffle=True)\n",
    "    \n",
    "    print('Обучающая выборка:')\n",
    "    print('Доля от общего размера:', round(len(y_train)/len(data), 2))\n",
    "    print('Cтрок, столбцов:', X_train.shape)\n",
    "    print('Среднее целевого признака:', round(y_train.mean(), 3))\n",
    "    print('-'*30)\n",
    "\n",
    "\n",
    "    print('Тестовая выборка:')\n",
    "    print('Доля от общего размера:', round(len(y_test)/len(data), 2))\n",
    "    print('Cтрок, столбцов:', X_test.shape)\n",
    "    print('Среднее целевого признака:', round(y_test.mean(), 3))\n",
    "    print('-'*30)\n",
    "\n",
    "    return X_train, X_test, y_train, y_test"
   ]
  },
  {
   "cell_type": "markdown",
   "metadata": {},
   "source": [
    "Выборка для региона №1"
   ]
  },
  {
   "cell_type": "code",
   "execution_count": 11,
   "metadata": {},
   "outputs": [
    {
     "name": "stdout",
     "output_type": "stream",
     "text": [
      "Обучающая выборка:\n",
      "Доля от общего размера: 0.75\n",
      "Cтрок, столбцов: (75000, 3)\n",
      "Среднее целевого признака: 92.558\n",
      "------------------------------\n",
      "Тестовая выборка:\n",
      "Доля от общего размера: 0.25\n",
      "Cтрок, столбцов: (25000, 3)\n",
      "Среднее целевого признака: 92.326\n",
      "------------------------------\n"
     ]
    }
   ],
   "source": [
    "X_train_0, X_test_0, y_train_0, y_test_0 = data_split(geo_data_0, 'product')"
   ]
  },
  {
   "cell_type": "markdown",
   "metadata": {},
   "source": [
    "Выборка для региона №2"
   ]
  },
  {
   "cell_type": "code",
   "execution_count": 12,
   "metadata": {},
   "outputs": [
    {
     "name": "stdout",
     "output_type": "stream",
     "text": [
      "Обучающая выборка:\n",
      "Доля от общего размера: 0.75\n",
      "Cтрок, столбцов: (75000, 3)\n",
      "Среднее целевого признака: 68.858\n",
      "------------------------------\n",
      "Тестовая выборка:\n",
      "Доля от общего размера: 0.25\n",
      "Cтрок, столбцов: (25000, 3)\n",
      "Среднее целевого признака: 68.725\n",
      "------------------------------\n"
     ]
    }
   ],
   "source": [
    "X_train_1, X_test_1, y_train_1, y_test_1 = data_split(geo_data_1, 'product')"
   ]
  },
  {
   "cell_type": "markdown",
   "metadata": {},
   "source": [
    "Если столбец f2 окажется не доступен до разработки скважины"
   ]
  },
  {
   "cell_type": "code",
   "execution_count": 13,
   "metadata": {},
   "outputs": [
    {
     "name": "stdout",
     "output_type": "stream",
     "text": [
      "Обучающая выборка:\n",
      "Доля от общего размера: 0.75\n",
      "Cтрок, столбцов: (75000, 2)\n",
      "Среднее целевого признака: 68.858\n",
      "------------------------------\n",
      "Тестовая выборка:\n",
      "Доля от общего размера: 0.25\n",
      "Cтрок, столбцов: (25000, 2)\n",
      "Среднее целевого признака: 68.725\n",
      "------------------------------\n"
     ]
    }
   ],
   "source": [
    "X_train_1_1, X_test_1_1, y_train_1_1, y_test_1_1 = data_split(geo_data_1, 'product', drop_f2=True)"
   ]
  },
  {
   "cell_type": "markdown",
   "metadata": {},
   "source": [
    "Выборка для региона №3"
   ]
  },
  {
   "cell_type": "code",
   "execution_count": 14,
   "metadata": {},
   "outputs": [
    {
     "name": "stdout",
     "output_type": "stream",
     "text": [
      "Обучающая выборка:\n",
      "Доля от общего размера: 0.75\n",
      "Cтрок, столбцов: (75000, 3)\n",
      "Среднее целевого признака: 94.95\n",
      "------------------------------\n",
      "Тестовая выборка:\n",
      "Доля от общего размера: 0.25\n",
      "Cтрок, столбцов: (25000, 3)\n",
      "Среднее целевого признака: 95.151\n",
      "------------------------------\n"
     ]
    }
   ],
   "source": [
    "X_train_2, X_test_2, y_train_2, y_test_2 = data_split(geo_data_2, 'product')"
   ]
  },
  {
   "cell_type": "markdown",
   "metadata": {},
   "source": [
    "Для выбранной по условию модели будем использовать простой pipeline без перебора параметров"
   ]
  },
  {
   "cell_type": "code",
   "execution_count": 15,
   "metadata": {},
   "outputs": [],
   "source": [
    "def tube(X_train, X_test, y_train, y_test):\n",
    "    pipe = Pipeline([('scl', StandardScaler()),\n",
    "                     ('clf',LinearRegression())])\n",
    "\n",
    "    pipe.fit(X_train, y_train)\n",
    "    pred_0 = pipe.predict(X_test)\n",
    "    pred_0_mean = pd.Series(pred_0).mean()\n",
    "    \n",
    "    print('RMSE модели для выбранного региона: %.4f' % (mean_squared_error(y_test, pred_0) ** 0.5))\n",
    "    print('R2 модели для выбранного региона: %.4f' % r2_score(y_test, pred_0))\n",
    "    print('Среднее предсказанное значение запасов региона: %.4f' % pred_0_mean)\n",
    "    return pred_0"
   ]
  },
  {
   "cell_type": "markdown",
   "metadata": {},
   "source": [
    "Регион №1"
   ]
  },
  {
   "cell_type": "code",
   "execution_count": 16,
   "metadata": {},
   "outputs": [
    {
     "name": "stdout",
     "output_type": "stream",
     "text": [
      "RMSE модели для выбранного региона: 37.7566\n",
      "R2 модели для выбранного региона: 0.2728\n",
      "Среднее предсказанное значение запасов региона: 92.3988\n"
     ]
    }
   ],
   "source": [
    "pred_0 = tube(X_train_0, X_test_0, y_train_0, y_test_0)"
   ]
  },
  {
   "cell_type": "markdown",
   "metadata": {},
   "source": [
    "Регион №2"
   ]
  },
  {
   "cell_type": "code",
   "execution_count": 17,
   "metadata": {},
   "outputs": [
    {
     "name": "stdout",
     "output_type": "stream",
     "text": [
      "RMSE модели для выбранного региона: 0.8903\n",
      "R2 модели для выбранного региона: 0.9996\n",
      "Среднее предсказанное значение запасов региона: 68.7129\n"
     ]
    }
   ],
   "source": [
    "pred_1 = tube(X_train_1, X_test_1, y_train_1, y_test_1)"
   ]
  },
  {
   "cell_type": "markdown",
   "metadata": {},
   "source": [
    "Регион №2 без f2"
   ]
  },
  {
   "cell_type": "code",
   "execution_count": 18,
   "metadata": {},
   "outputs": [
    {
     "name": "stdout",
     "output_type": "stream",
     "text": [
      "RMSE модели для выбранного региона: 45.9240\n",
      "R2 модели для выбранного региона: 0.0009\n",
      "Среднее предсказанное значение запасов региона: 68.8489\n"
     ]
    }
   ],
   "source": [
    "pred_1_1 = tube(X_train_1_1, X_test_1_1, y_train_1_1, y_test_1_1)"
   ]
  },
  {
   "cell_type": "markdown",
   "metadata": {},
   "source": [
    "Регион №3"
   ]
  },
  {
   "cell_type": "code",
   "execution_count": 19,
   "metadata": {},
   "outputs": [
    {
     "name": "stdout",
     "output_type": "stream",
     "text": [
      "RMSE модели для выбранного региона: 40.1459\n",
      "R2 модели для выбранного региона: 0.1963\n",
      "Среднее предсказанное значение запасов региона: 94.7710\n"
     ]
    }
   ],
   "source": [
    "pred_2 = tube(X_train_2, X_test_2, y_train_2, y_test_2)"
   ]
  },
  {
   "cell_type": "markdown",
   "metadata": {},
   "source": [
    "**Вывод:**\n",
    "Лучший результат линейная регрессия показала себя на данных по второму региону, в котором  ранее выявлена сильная корреляция между `f2` и целевым признаком. Причем метрика R2 показывает идеальный результат, в остальных случаях качество предсказания очень низкое.\n",
    "Линейная регрессия хорошо работает с линейными зависимостями, следовательно такую модель обнаружила только во данных для второго региона.\n",
    "\n",
    "Также оказалось что все предсказание модели для региона №2 строилось по признаку f2, и без него получить предсказание с помощью линейной регрессии не получилось"
   ]
  },
  {
   "cell_type": "markdown",
   "metadata": {},
   "source": [
    "## Подготовка к расчёту прибыли"
   ]
  },
  {
   "cell_type": "markdown",
   "metadata": {},
   "source": [
    "При разведке региона исследуют 500 точек,"
   ]
  },
  {
   "cell_type": "code",
   "execution_count": 20,
   "metadata": {},
   "outputs": [],
   "source": [
    "OILWELL_TOTAL_COUNT = 500"
   ]
  },
  {
   "cell_type": "markdown",
   "metadata": {},
   "source": [
    "из которых с помощью машинного обучения выбирают 200 лучших для разработки."
   ]
  },
  {
   "cell_type": "code",
   "execution_count": 21,
   "metadata": {},
   "outputs": [],
   "source": [
    "OILWELL_BEST_COUNT = 200"
   ]
  },
  {
   "cell_type": "markdown",
   "metadata": {},
   "source": [
    "Бюджет на разработку скважин в регионе — 10 млрд рублей."
   ]
  },
  {
   "cell_type": "code",
   "execution_count": 22,
   "metadata": {},
   "outputs": [],
   "source": [
    "BUDGET_TOTAL = 10**10"
   ]
  },
  {
   "cell_type": "markdown",
   "metadata": {},
   "source": [
    "При нынешних ценах один баррель сырья приносит 450 рублей дохода. Доход с каждой единицы продукта составляет 450 тыс. рублей, поскольку объём указан в тысячах баррелей."
   ]
  },
  {
   "cell_type": "code",
   "execution_count": 23,
   "metadata": {},
   "outputs": [],
   "source": [
    "PROFIT_1KBARREL = 450000"
   ]
  },
  {
   "cell_type": "markdown",
   "metadata": {},
   "source": [
    "После оценки рисков нужно оставить лишь те регионы, в которых вероятность убытков меньше 2.5%."
   ]
  },
  {
   "cell_type": "code",
   "execution_count": 24,
   "metadata": {},
   "outputs": [],
   "source": [
    "PROBABILITY_OF_LOSS = 0.025"
   ]
  },
  {
   "cell_type": "markdown",
   "metadata": {},
   "source": [
    "Рассчитаем достаточный объём сырья для безубыточной разработки новой скважины"
   ]
  },
  {
   "cell_type": "code",
   "execution_count": 25,
   "metadata": {},
   "outputs": [],
   "source": [
    "BUDGET_FOR_ONE = BUDGET_TOTAL / OILWELL_BEST_COUNT\n",
    "MIN_OIL_IN_WELL = BUDGET_FOR_ONE / PROFIT_1KBARREL\n",
    "MIN_OIL_IN_REGION = MIN_OIL_IN_WELL * OILWELL_BEST_COUNT"
   ]
  },
  {
   "cell_type": "code",
   "execution_count": 26,
   "metadata": {},
   "outputs": [
    {
     "name": "stdout",
     "output_type": "stream",
     "text": [
      "Средний объем нефти для для скважины в регионе: 111.11\n"
     ]
    }
   ],
   "source": [
    "print(\"Средний объем нефти для для скважины в регионе: %.2f\" % MIN_OIL_IN_WELL)"
   ]
  },
  {
   "cell_type": "markdown",
   "metadata": {},
   "source": [
    "**Вывод:** \n",
    "По результатам расчетов для безубыточной добычи средний объем содержания нефти в скважине должен быть равен 111,11. По результатам наших расчетов во всех регионах среднее содержание нефти меньше чем необходимо. Следовательно выбрав скважину случайно, не учитывая другие параметры с большой вероятностью компания получит убыток."
   ]
  },
  {
   "cell_type": "markdown",
   "metadata": {},
   "source": [
    "## Расчёт прибыли и рисков "
   ]
  },
  {
   "cell_type": "markdown",
   "metadata": {},
   "source": [
    "Напишем функцию для расчета прибыли с лучших скважин в регионе"
   ]
  },
  {
   "cell_type": "code",
   "execution_count": 27,
   "metadata": {},
   "outputs": [],
   "source": [
    "def profit_region(target, prediction):\n",
    "    pred_series = pd.Series(prediction).sort_values(ascending=False)[:OILWELL_BEST_COUNT]\n",
    "    target_sort = (target.reset_index(drop = True)[pred_series.index])\n",
    "    sum_true = target_sort.sum()\n",
    "    return ((sum_true * PROFIT_1KBARREL) - BUDGET_TOTAL).round(2)"
   ]
  },
  {
   "cell_type": "markdown",
   "metadata": {},
   "source": [
    "И функцию расчета вероятности убытков, средней выручки, и доверительного интервала по заданным значениям"
   ]
  },
  {
   "cell_type": "code",
   "execution_count": 28,
   "metadata": {},
   "outputs": [],
   "source": [
    "def bootstrap_confidence_intervals_loss(target, prediction):\n",
    "    state = np.random.RandomState(42)\n",
    "    values = []\n",
    "\n",
    "    for i in range(1000):\n",
    "        sort_series = pd.Series(prediction)\n",
    "        value = sort_series.sample(n = OILWELL_TOTAL_COUNT, \n",
    "                                   replace=True, \n",
    "                                   random_state=state)\n",
    "        values.append(profit_region(target, value))\n",
    "\n",
    "\n",
    "    values = pd.Series(values)\n",
    "    mean = values.mean()\n",
    "\n",
    "    lower = values.quantile(0.025)\n",
    "    higher = values.quantile(0.975)\n",
    "    \n",
    "    probability_of_loss = (values < 0).mean() * 100\n",
    "\n",
    "    print(\"Вероятность убытков: %.2f\" % probability_of_loss, '%')\n",
    "    print(\"Средняя выручка: %.2f\" % mean, 'rub')\n",
    "    print(\"0.025-квантиль: %.2f\" % lower, 'rub')\n",
    "    print(\"0.975-квантиль: %.2f\" % higher, 'rub')"
   ]
  },
  {
   "cell_type": "markdown",
   "metadata": {},
   "source": [
    "Регион №1"
   ]
  },
  {
   "cell_type": "code",
   "execution_count": 29,
   "metadata": {},
   "outputs": [
    {
     "name": "stdout",
     "output_type": "stream",
     "text": [
      "Вероятность убытков: 6.00 %\n",
      "Средняя выручка: 399575478.05 rub\n",
      "0.025-квантиль: -110467895.33 rub\n",
      "0.975-квантиль: 897460327.71 rub\n"
     ]
    }
   ],
   "source": [
    "bootstrap_confidence_intervals_loss(y_test_0, pred_0)"
   ]
  },
  {
   "cell_type": "markdown",
   "metadata": {},
   "source": [
    "Регион №2"
   ]
  },
  {
   "cell_type": "code",
   "execution_count": 30,
   "metadata": {},
   "outputs": [
    {
     "name": "stdout",
     "output_type": "stream",
     "text": [
      "Вероятность убытков: 1.50 %\n",
      "Средняя выручка: 452048890.91 rub\n",
      "0.025-квантиль: 61684479.65 rub\n",
      "0.975-квантиль: 845340177.50 rub\n"
     ]
    }
   ],
   "source": [
    "bootstrap_confidence_intervals_loss(y_test_1, pred_1)"
   ]
  },
  {
   "cell_type": "markdown",
   "metadata": {},
   "source": [
    "Регион №3"
   ]
  },
  {
   "cell_type": "code",
   "execution_count": 31,
   "metadata": {},
   "outputs": [
    {
     "name": "stdout",
     "output_type": "stream",
     "text": [
      "Вероятность убытков: 8.00 %\n",
      "Средняя выручка: 375009902.92 rub\n",
      "0.025-квантиль: -144766727.31 rub\n",
      "0.975-квантиль: 888390403.53 rub\n"
     ]
    }
   ],
   "source": [
    "bootstrap_confidence_intervals_loss(y_test_2, pred_2)"
   ]
  },
  {
   "cell_type": "markdown",
   "metadata": {},
   "source": [
    "**Вывод:** В доверительный интервал по условию задачи с вероятностью убытков менее 2,5% попадает только регион номер 2. Даные для данного региона позволяют с высокой точностью спрогнозировать объем добычи с каждой скважины.\n"
   ]
  },
  {
   "cell_type": "markdown",
   "metadata": {},
   "source": [
    "## Вывод"
   ]
  },
  {
   "attachments": {},
   "cell_type": "markdown",
   "metadata": {},
   "source": [
    "Проведено исследование данных с целью определения региона с возможностью получения максимальной прибыли и при этом с вероятностью получить убыток менее 2,5%\n",
    "\n",
    "Данные получены подготовленные с минимальными выбросами и нормализованными.\n",
    "В шифровании ID скважины обнаружены повторы возникшие из-за способа кодирования.\n",
    "Во втором регионе обнаружена сильная корреляция между параметром `f2` и  `product`, необходимо проверить достоверность полученной информации.\n",
    "\n",
    "При построении графиков в трех проекциях точечной диаграммы, можно заметить что распределения данных по форме сильно отличаются друг от друга . Это возможно из-за того что для каждого региона выбраны разные параметры зашифрованные под одними именами. Для корректного сравнения разных регионах желательно использовать одинаковые параметры если это возможно.\n",
    "\n",
    "Для предсказания объемов добычи нами была использована модель линейная регрессия(по условию задачи) как демонстрирующая наиболее предсказуемые результаты. Но учитывая показанную точность для регионов №1 и №3, возможно стоит рассмотреть варианты использования других моделей машинного обучения которые справляются не только с линейными зависимостями.\n",
    "\n",
    "Для безубыточной добычи в пределах бюджета средний запас нефти в одной скавжине должен составлять не менее 111,11.\n",
    "Максимально близкое значение предсказанных запасов показал регион №3 94.7\n",
    "\n",
    "Но по результатам оценки методом bootstrap лучший результат с учетом риска получения убытка менее 2,5% показал только регион №2.\n",
    "\n",
    "На основании полученных результатов рекомендуется выбрать регион №2 (`geo_data_1`)."
   ]
  }
 ],
 "metadata": {
  "ExecuteTimeLog": [
   {
    "duration": 46,
    "start_time": "2022-10-24T05:53:50.442Z"
   },
   {
    "duration": 1302,
    "start_time": "2022-10-24T05:53:55.298Z"
   },
   {
    "duration": 14,
    "start_time": "2022-10-24T05:54:01.897Z"
   },
   {
    "duration": 14080,
    "start_time": "2022-10-24T05:54:05.673Z"
   },
   {
    "duration": 1665,
    "start_time": "2022-10-24T05:54:19.755Z"
   },
   {
    "duration": 9271,
    "start_time": "2022-10-24T10:22:18.088Z"
   },
   {
    "duration": 9256,
    "start_time": "2022-10-24T10:26:24.090Z"
   },
   {
    "duration": 8747,
    "start_time": "2022-10-24T10:26:33.348Z"
   },
   {
    "duration": 9091,
    "start_time": "2022-10-24T10:27:32.441Z"
   },
   {
    "duration": 16,
    "start_time": "2022-10-24T10:31:30.534Z"
   },
   {
    "duration": 5058,
    "start_time": "2022-10-24T10:34:45.350Z"
   },
   {
    "duration": 4808,
    "start_time": "2022-10-24T10:37:45.326Z"
   },
   {
    "duration": 185,
    "start_time": "2022-10-24T10:40:54.227Z"
   },
   {
    "duration": 104,
    "start_time": "2022-10-24T10:41:01.313Z"
   },
   {
    "duration": 4798,
    "start_time": "2022-10-24T10:41:43.070Z"
   },
   {
    "duration": 4828,
    "start_time": "2022-10-24T10:42:01.951Z"
   },
   {
    "duration": 4763,
    "start_time": "2022-10-24T10:45:04.441Z"
   },
   {
    "duration": 6,
    "start_time": "2022-10-24T10:46:06.529Z"
   },
   {
    "duration": 4655,
    "start_time": "2022-10-24T11:02:50.925Z"
   },
   {
    "duration": 376,
    "start_time": "2022-10-24T11:02:55.582Z"
   },
   {
    "duration": 15873,
    "start_time": "2022-10-24T12:48:29.426Z"
   },
   {
    "duration": 1051,
    "start_time": "2022-10-24T12:48:45.301Z"
   },
   {
    "duration": 8550,
    "start_time": "2022-10-24T12:48:46.354Z"
   },
   {
    "duration": 7938,
    "start_time": "2022-10-24T12:48:54.906Z"
   },
   {
    "duration": 8314,
    "start_time": "2022-10-24T12:49:02.846Z"
   },
   {
    "duration": 14,
    "start_time": "2022-10-24T12:49:11.161Z"
   },
   {
    "duration": 5,
    "start_time": "2022-10-24T12:49:24.773Z"
   },
   {
    "duration": 14,
    "start_time": "2022-10-24T12:49:27.484Z"
   },
   {
    "duration": 20,
    "start_time": "2022-10-24T12:49:27.884Z"
   },
   {
    "duration": 16,
    "start_time": "2022-10-24T12:49:28.491Z"
   },
   {
    "duration": 440,
    "start_time": "2022-10-24T13:07:36.695Z"
   },
   {
    "duration": 2591,
    "start_time": "2022-10-24T13:07:50.462Z"
   },
   {
    "duration": 171,
    "start_time": "2022-10-24T13:08:06.740Z"
   },
   {
    "duration": 21,
    "start_time": "2022-10-24T13:08:19.051Z"
   },
   {
    "duration": 23,
    "start_time": "2022-10-24T13:08:52.105Z"
   },
   {
    "duration": 27,
    "start_time": "2022-10-24T13:09:24.327Z"
   },
   {
    "duration": 2,
    "start_time": "2022-10-24T13:11:52.801Z"
   },
   {
    "duration": 2,
    "start_time": "2022-10-24T13:11:54.711Z"
   },
   {
    "duration": 3,
    "start_time": "2022-10-24T13:12:06.426Z"
   },
   {
    "duration": 3,
    "start_time": "2022-10-24T13:12:15.861Z"
   },
   {
    "duration": 2,
    "start_time": "2022-10-24T13:12:25.765Z"
   },
   {
    "duration": 3,
    "start_time": "2022-10-24T13:12:55.139Z"
   },
   {
    "duration": 3,
    "start_time": "2022-10-24T13:12:56.444Z"
   },
   {
    "duration": 6,
    "start_time": "2022-10-24T13:13:17.803Z"
   },
   {
    "duration": 1205,
    "start_time": "2022-10-24T13:13:31.331Z"
   },
   {
    "duration": 1280,
    "start_time": "2022-10-24T13:14:23.766Z"
   },
   {
    "duration": 1334,
    "start_time": "2022-10-24T13:14:42.045Z"
   },
   {
    "duration": 15442,
    "start_time": "2022-10-25T06:29:06.767Z"
   },
   {
    "duration": 812,
    "start_time": "2022-10-25T06:29:22.211Z"
   },
   {
    "duration": 8835,
    "start_time": "2022-10-25T06:32:54.714Z"
   },
   {
    "duration": 22132,
    "start_time": "2022-10-25T06:36:22.362Z"
   },
   {
    "duration": 21402,
    "start_time": "2022-10-25T06:37:08.090Z"
   },
   {
    "duration": 21971,
    "start_time": "2022-10-25T06:37:29.494Z"
   },
   {
    "duration": 28,
    "start_time": "2022-10-25T06:37:51.466Z"
   },
   {
    "duration": 77,
    "start_time": "2022-10-25T17:27:05.754Z"
   },
   {
    "duration": 16506,
    "start_time": "2022-10-25T17:27:28.892Z"
   },
   {
    "duration": 122,
    "start_time": "2022-10-25T17:27:45.401Z"
   },
   {
    "duration": 1966,
    "start_time": "2022-10-25T17:27:55.009Z"
   },
   {
    "duration": 2306,
    "start_time": "2022-10-25T17:28:03.247Z"
   },
   {
    "duration": 71,
    "start_time": "2022-10-25T17:28:49.500Z"
   },
   {
    "duration": 67,
    "start_time": "2022-10-25T17:28:57.751Z"
   },
   {
    "duration": 3,
    "start_time": "2022-10-25T17:29:37.585Z"
   },
   {
    "duration": 12,
    "start_time": "2022-10-25T17:29:41.750Z"
   },
   {
    "duration": 1789,
    "start_time": "2022-10-25T17:29:47.252Z"
   },
   {
    "duration": 1763,
    "start_time": "2022-10-25T17:30:43.279Z"
   },
   {
    "duration": 1745,
    "start_time": "2022-10-25T17:30:58.290Z"
   },
   {
    "duration": 186,
    "start_time": "2022-10-25T17:31:57.680Z"
   },
   {
    "duration": 66,
    "start_time": "2022-10-25T17:32:08.660Z"
   },
   {
    "duration": 70,
    "start_time": "2022-10-25T17:32:22.611Z"
   },
   {
    "duration": 64,
    "start_time": "2022-10-25T17:32:33.048Z"
   },
   {
    "duration": 1178,
    "start_time": "2022-10-25T17:33:33.858Z"
   },
   {
    "duration": 114,
    "start_time": "2022-10-25T17:34:20.278Z"
   },
   {
    "duration": 102,
    "start_time": "2022-10-25T17:35:15.555Z"
   },
   {
    "duration": 1205,
    "start_time": "2022-10-25T17:35:56.145Z"
   },
   {
    "duration": 1307,
    "start_time": "2022-10-25T17:36:21.399Z"
   },
   {
    "duration": 1375,
    "start_time": "2022-10-25T17:37:30.579Z"
   },
   {
    "duration": 1174,
    "start_time": "2022-10-25T17:39:13.162Z"
   },
   {
    "duration": 820,
    "start_time": "2022-10-25T17:40:24.365Z"
   },
   {
    "duration": 6,
    "start_time": "2022-10-25T17:45:36.515Z"
   },
   {
    "duration": 17,
    "start_time": "2022-10-25T17:46:02.109Z"
   },
   {
    "duration": 5,
    "start_time": "2022-10-25T17:46:08.776Z"
   },
   {
    "duration": 17,
    "start_time": "2022-10-25T17:46:09.207Z"
   },
   {
    "duration": 21,
    "start_time": "2022-10-25T17:46:09.576Z"
   },
   {
    "duration": 21,
    "start_time": "2022-10-25T17:46:09.755Z"
   },
   {
    "duration": 91,
    "start_time": "2022-10-25T17:46:09.941Z"
   },
   {
    "duration": 109,
    "start_time": "2022-10-25T17:46:10.125Z"
   },
   {
    "duration": 29,
    "start_time": "2022-10-25T17:46:10.325Z"
   },
   {
    "duration": 3,
    "start_time": "2022-10-25T17:46:11.223Z"
   },
   {
    "duration": 3,
    "start_time": "2022-10-25T17:46:11.563Z"
   },
   {
    "duration": 3,
    "start_time": "2022-10-25T17:46:11.907Z"
   },
   {
    "duration": 4,
    "start_time": "2022-10-25T17:46:12.267Z"
   },
   {
    "duration": 4,
    "start_time": "2022-10-25T17:46:12.867Z"
   },
   {
    "duration": 3,
    "start_time": "2022-10-25T17:46:13.651Z"
   },
   {
    "duration": 6,
    "start_time": "2022-10-25T17:46:15.149Z"
   },
   {
    "duration": 1132,
    "start_time": "2022-10-25T17:46:16.671Z"
   },
   {
    "duration": 966,
    "start_time": "2022-10-25T17:46:40.549Z"
   },
   {
    "duration": 1118,
    "start_time": "2022-10-25T17:46:41.600Z"
   },
   {
    "duration": 72,
    "start_time": "2022-10-25T17:48:09.003Z"
   },
   {
    "duration": 401,
    "start_time": "2022-10-25T17:52:30.085Z"
   },
   {
    "duration": 20953,
    "start_time": "2022-10-25T17:52:30.773Z"
   },
   {
    "duration": 20775,
    "start_time": "2022-10-25T17:52:51.728Z"
   },
   {
    "duration": 21933,
    "start_time": "2022-10-25T17:53:12.505Z"
   },
   {
    "duration": 20509,
    "start_time": "2022-10-25T17:56:55.090Z"
   },
   {
    "duration": 78,
    "start_time": "2022-10-25T17:58:09.942Z"
   },
   {
    "duration": 84,
    "start_time": "2022-10-25T17:59:21.290Z"
   },
   {
    "duration": 58,
    "start_time": "2022-10-25T18:00:42.551Z"
   },
   {
    "duration": 57,
    "start_time": "2022-10-25T18:00:48.013Z"
   },
   {
    "duration": 9634,
    "start_time": "2022-10-25T18:00:50.885Z"
   },
   {
    "duration": 22522,
    "start_time": "2022-10-25T18:02:18.789Z"
   },
   {
    "duration": 21811,
    "start_time": "2022-10-25T18:02:41.313Z"
   },
   {
    "duration": 22445,
    "start_time": "2022-10-25T18:03:03.126Z"
   },
   {
    "duration": 16182,
    "start_time": "2022-10-25T19:44:11.699Z"
   },
   {
    "duration": 759,
    "start_time": "2022-10-25T19:44:44.960Z"
   },
   {
    "duration": 19180,
    "start_time": "2022-10-25T19:44:45.771Z"
   },
   {
    "duration": 20817,
    "start_time": "2022-10-25T19:45:04.953Z"
   },
   {
    "duration": 20710,
    "start_time": "2022-10-25T19:45:25.773Z"
   },
   {
    "duration": 63,
    "start_time": "2022-10-25T19:45:46.485Z"
   },
   {
    "duration": 16695,
    "start_time": "2022-10-26T05:22:04.881Z"
   },
   {
    "duration": 1651,
    "start_time": "2022-10-26T05:22:21.578Z"
   },
   {
    "duration": 20207,
    "start_time": "2022-10-26T05:22:23.231Z"
   },
   {
    "duration": 21140,
    "start_time": "2022-10-26T05:22:43.440Z"
   },
   {
    "duration": 20448,
    "start_time": "2022-10-26T05:23:04.583Z"
   },
   {
    "duration": 15,
    "start_time": "2022-10-26T05:23:25.033Z"
   },
   {
    "duration": 418,
    "start_time": "2022-10-26T05:23:25.050Z"
   },
   {
    "duration": 101,
    "start_time": "2022-10-26T05:23:25.470Z"
   },
   {
    "duration": 121,
    "start_time": "2022-10-26T05:23:25.573Z"
   },
   {
    "duration": 6,
    "start_time": "2022-10-26T05:23:25.696Z"
   },
   {
    "duration": 38,
    "start_time": "2022-10-26T05:23:25.704Z"
   },
   {
    "duration": 15,
    "start_time": "2022-10-26T05:23:25.744Z"
   },
   {
    "duration": 16,
    "start_time": "2022-10-26T05:23:25.761Z"
   },
   {
    "duration": 155,
    "start_time": "2022-10-26T05:23:25.781Z"
   },
   {
    "duration": 191,
    "start_time": "2022-10-26T05:23:25.939Z"
   },
   {
    "duration": 118,
    "start_time": "2022-10-26T05:23:26.133Z"
   },
   {
    "duration": 3,
    "start_time": "2022-10-26T05:23:26.331Z"
   },
   {
    "duration": 9,
    "start_time": "2022-10-26T05:23:26.435Z"
   },
   {
    "duration": 3,
    "start_time": "2022-10-26T05:23:26.445Z"
   },
   {
    "duration": 3,
    "start_time": "2022-10-26T05:23:26.450Z"
   },
   {
    "duration": 3,
    "start_time": "2022-10-26T05:23:26.455Z"
   },
   {
    "duration": 4,
    "start_time": "2022-10-26T05:23:26.460Z"
   },
   {
    "duration": 6,
    "start_time": "2022-10-26T05:23:26.466Z"
   },
   {
    "duration": 998,
    "start_time": "2022-10-26T05:23:26.474Z"
   },
   {
    "duration": 1096,
    "start_time": "2022-10-26T05:23:27.474Z"
   },
   {
    "duration": 984,
    "start_time": "2022-10-26T05:23:28.572Z"
   },
   {
    "duration": 9,
    "start_time": "2022-10-26T05:29:21.007Z"
   },
   {
    "duration": 10,
    "start_time": "2022-10-26T05:29:25.930Z"
   },
   {
    "duration": 22,
    "start_time": "2022-10-26T05:29:31.490Z"
   },
   {
    "duration": 197,
    "start_time": "2022-10-26T05:35:48.657Z"
   },
   {
    "duration": 1249,
    "start_time": "2022-10-26T05:35:59.288Z"
   },
   {
    "duration": 4,
    "start_time": "2022-10-26T05:36:33.150Z"
   },
   {
    "duration": 13,
    "start_time": "2022-10-26T05:36:37.350Z"
   },
   {
    "duration": 15,
    "start_time": "2022-10-26T06:03:57.076Z"
   },
   {
    "duration": 13,
    "start_time": "2022-10-26T06:04:02.273Z"
   },
   {
    "duration": 97,
    "start_time": "2022-10-26T07:59:04.551Z"
   },
   {
    "duration": 84,
    "start_time": "2022-10-26T07:59:34.678Z"
   },
   {
    "duration": 69,
    "start_time": "2022-10-26T08:03:06.950Z"
   },
   {
    "duration": 65,
    "start_time": "2022-10-26T08:04:43.190Z"
   },
   {
    "duration": 64,
    "start_time": "2022-10-26T08:13:08.843Z"
   },
   {
    "duration": 72,
    "start_time": "2022-10-26T08:14:45.587Z"
   },
   {
    "duration": 17,
    "start_time": "2022-10-26T08:25:56.043Z"
   },
   {
    "duration": 9,
    "start_time": "2022-10-26T08:26:10.077Z"
   },
   {
    "duration": 9,
    "start_time": "2022-10-26T08:26:21.346Z"
   },
   {
    "duration": 11,
    "start_time": "2022-10-26T08:26:39.056Z"
   },
   {
    "duration": 10,
    "start_time": "2022-10-26T08:26:43.778Z"
   },
   {
    "duration": 8,
    "start_time": "2022-10-26T08:26:50.694Z"
   },
   {
    "duration": 10,
    "start_time": "2022-10-26T08:26:57.399Z"
   },
   {
    "duration": 157,
    "start_time": "2022-10-26T08:27:06.246Z"
   },
   {
    "duration": 138,
    "start_time": "2022-10-26T08:27:13.149Z"
   },
   {
    "duration": 475,
    "start_time": "2022-10-26T08:27:19.789Z"
   },
   {
    "duration": 9,
    "start_time": "2022-10-26T08:28:13.047Z"
   },
   {
    "duration": 9,
    "start_time": "2022-10-26T08:28:39.551Z"
   },
   {
    "duration": 8,
    "start_time": "2022-10-26T08:28:47.947Z"
   },
   {
    "duration": 11,
    "start_time": "2022-10-26T08:29:11.650Z"
   },
   {
    "duration": 10,
    "start_time": "2022-10-26T08:31:04.878Z"
   },
   {
    "duration": 9,
    "start_time": "2022-10-26T08:31:53.176Z"
   },
   {
    "duration": 10,
    "start_time": "2022-10-26T08:32:00.097Z"
   },
   {
    "duration": 9,
    "start_time": "2022-10-26T08:32:28.783Z"
   },
   {
    "duration": 10,
    "start_time": "2022-10-26T08:32:33.441Z"
   },
   {
    "duration": 13,
    "start_time": "2022-10-26T08:33:30.053Z"
   },
   {
    "duration": 13,
    "start_time": "2022-10-26T08:33:34.290Z"
   },
   {
    "duration": 10,
    "start_time": "2022-10-26T08:37:27.950Z"
   },
   {
    "duration": 68,
    "start_time": "2022-10-26T08:39:29.743Z"
   },
   {
    "duration": 2710,
    "start_time": "2022-10-26T09:58:10.569Z"
   },
   {
    "duration": 412,
    "start_time": "2022-10-26T09:58:13.283Z"
   },
   {
    "duration": 20891,
    "start_time": "2022-10-26T09:58:13.697Z"
   },
   {
    "duration": 15,
    "start_time": "2022-10-26T09:58:34.590Z"
   },
   {
    "duration": 32,
    "start_time": "2022-10-26T09:58:34.607Z"
   },
   {
    "duration": 65,
    "start_time": "2022-10-26T09:58:34.641Z"
   },
   {
    "duration": 19875,
    "start_time": "2022-10-26T09:58:34.708Z"
   },
   {
    "duration": 72,
    "start_time": "2022-10-26T09:58:54.585Z"
   },
   {
    "duration": 12,
    "start_time": "2022-10-26T09:58:54.659Z"
   },
   {
    "duration": 7,
    "start_time": "2022-10-26T09:58:54.673Z"
   },
   {
    "duration": 16,
    "start_time": "2022-10-26T09:58:54.682Z"
   },
   {
    "duration": 21253,
    "start_time": "2022-10-26T09:58:54.699Z"
   },
   {
    "duration": 15,
    "start_time": "2022-10-26T09:59:15.953Z"
   },
   {
    "duration": 264,
    "start_time": "2022-10-26T09:59:15.969Z"
   },
   {
    "duration": 8,
    "start_time": "2022-10-26T09:59:16.236Z"
   },
   {
    "duration": 22,
    "start_time": "2022-10-26T09:59:16.246Z"
   },
   {
    "duration": 64,
    "start_time": "2022-10-26T09:59:16.271Z"
   },
   {
    "duration": 20,
    "start_time": "2022-10-26T09:59:16.337Z"
   },
   {
    "duration": 93,
    "start_time": "2022-10-26T09:59:16.359Z"
   },
   {
    "duration": 194,
    "start_time": "2022-10-26T09:59:16.541Z"
   },
   {
    "duration": 109,
    "start_time": "2022-10-26T09:59:16.739Z"
   },
   {
    "duration": 3,
    "start_time": "2022-10-26T09:59:16.850Z"
   },
   {
    "duration": 8,
    "start_time": "2022-10-26T09:59:16.931Z"
   },
   {
    "duration": 89,
    "start_time": "2022-10-26T09:59:16.942Z"
   },
   {
    "duration": 9,
    "start_time": "2022-10-26T09:59:17.033Z"
   },
   {
    "duration": 25,
    "start_time": "2022-10-26T09:59:17.045Z"
   },
   {
    "duration": 10,
    "start_time": "2022-10-26T09:59:17.072Z"
   },
   {
    "duration": 8,
    "start_time": "2022-10-26T09:59:17.085Z"
   },
   {
    "duration": 1087,
    "start_time": "2022-10-26T09:59:17.094Z"
   },
   {
    "duration": 1145,
    "start_time": "2022-10-26T09:59:18.183Z"
   },
   {
    "duration": 1055,
    "start_time": "2022-10-26T09:59:19.330Z"
   },
   {
    "duration": 2770,
    "start_time": "2022-10-26T09:59:31.002Z"
   },
   {
    "duration": 396,
    "start_time": "2022-10-26T09:59:33.775Z"
   },
   {
    "duration": 20188,
    "start_time": "2022-10-26T09:59:34.172Z"
   },
   {
    "duration": 74,
    "start_time": "2022-10-26T09:59:54.362Z"
   },
   {
    "duration": 20,
    "start_time": "2022-10-26T09:59:54.438Z"
   },
   {
    "duration": 189,
    "start_time": "2022-10-26T09:59:54.460Z"
   },
   {
    "duration": 20302,
    "start_time": "2022-10-26T09:59:54.651Z"
   },
   {
    "duration": 197,
    "start_time": "2022-10-26T10:00:14.955Z"
   },
   {
    "duration": 13,
    "start_time": "2022-10-26T10:00:15.154Z"
   },
   {
    "duration": 62,
    "start_time": "2022-10-26T10:00:15.170Z"
   },
   {
    "duration": 9,
    "start_time": "2022-10-26T10:00:15.234Z"
   },
   {
    "duration": 21134,
    "start_time": "2022-10-26T10:00:15.245Z"
   },
   {
    "duration": 63,
    "start_time": "2022-10-26T10:00:36.380Z"
   },
   {
    "duration": 85,
    "start_time": "2022-10-26T10:00:36.445Z"
   },
   {
    "duration": 8,
    "start_time": "2022-10-26T10:00:36.532Z"
   },
   {
    "duration": 18,
    "start_time": "2022-10-26T10:00:36.542Z"
   },
   {
    "duration": 14,
    "start_time": "2022-10-26T10:00:36.562Z"
   },
   {
    "duration": 57,
    "start_time": "2022-10-26T10:00:36.577Z"
   },
   {
    "duration": 201,
    "start_time": "2022-10-26T10:00:36.636Z"
   },
   {
    "duration": 191,
    "start_time": "2022-10-26T10:00:36.840Z"
   },
   {
    "duration": 106,
    "start_time": "2022-10-26T10:00:37.034Z"
   },
   {
    "duration": 3,
    "start_time": "2022-10-26T10:00:37.142Z"
   },
   {
    "duration": 4,
    "start_time": "2022-10-26T10:00:37.231Z"
   },
   {
    "duration": 4,
    "start_time": "2022-10-26T10:00:37.237Z"
   },
   {
    "duration": 3,
    "start_time": "2022-10-26T10:00:37.330Z"
   },
   {
    "duration": 5,
    "start_time": "2022-10-26T10:00:37.335Z"
   },
   {
    "duration": 8,
    "start_time": "2022-10-26T10:00:37.342Z"
   },
   {
    "duration": 6,
    "start_time": "2022-10-26T10:00:37.354Z"
   },
   {
    "duration": 1152,
    "start_time": "2022-10-26T10:00:37.361Z"
   },
   {
    "duration": 1081,
    "start_time": "2022-10-26T10:00:38.515Z"
   },
   {
    "duration": 1053,
    "start_time": "2022-10-26T10:00:39.598Z"
   },
   {
    "duration": 74,
    "start_time": "2022-10-26T10:41:41.493Z"
   },
   {
    "duration": 4888,
    "start_time": "2022-10-26T10:42:29.504Z"
   },
   {
    "duration": 406,
    "start_time": "2022-10-26T10:42:34.394Z"
   },
   {
    "duration": 21570,
    "start_time": "2022-10-26T10:42:34.801Z"
   },
   {
    "duration": 16,
    "start_time": "2022-10-26T10:42:56.373Z"
   },
   {
    "duration": 17,
    "start_time": "2022-10-26T10:42:56.390Z"
   },
   {
    "duration": 414,
    "start_time": "2022-10-26T10:42:56.430Z"
   },
   {
    "duration": 21407,
    "start_time": "2022-10-26T10:42:56.846Z"
   },
   {
    "duration": 105,
    "start_time": "2022-10-26T10:43:18.255Z"
   },
   {
    "duration": 21299,
    "start_time": "2022-10-26T10:43:18.362Z"
   },
   {
    "duration": 176,
    "start_time": "2022-10-26T10:43:39.664Z"
   },
   {
    "duration": 5,
    "start_time": "2022-10-26T10:43:39.842Z"
   },
   {
    "duration": 17,
    "start_time": "2022-10-26T10:43:39.848Z"
   },
   {
    "duration": 66,
    "start_time": "2022-10-26T10:43:39.866Z"
   },
   {
    "duration": 19,
    "start_time": "2022-10-26T10:43:39.934Z"
   },
   {
    "duration": 180,
    "start_time": "2022-10-26T10:43:39.955Z"
   },
   {
    "duration": 192,
    "start_time": "2022-10-26T10:43:40.138Z"
   },
   {
    "duration": 114,
    "start_time": "2022-10-26T10:43:40.332Z"
   },
   {
    "duration": 4,
    "start_time": "2022-10-26T10:43:40.530Z"
   },
   {
    "duration": 93,
    "start_time": "2022-10-26T10:43:40.537Z"
   },
   {
    "duration": 5,
    "start_time": "2022-10-26T10:43:40.631Z"
   },
   {
    "duration": 4,
    "start_time": "2022-10-26T10:43:40.638Z"
   },
   {
    "duration": 3,
    "start_time": "2022-10-26T10:43:40.644Z"
   },
   {
    "duration": 3,
    "start_time": "2022-10-26T10:43:40.649Z"
   },
   {
    "duration": 6,
    "start_time": "2022-10-26T10:43:40.654Z"
   },
   {
    "duration": 1258,
    "start_time": "2022-10-26T10:43:40.662Z"
   },
   {
    "duration": 975,
    "start_time": "2022-10-26T10:43:41.921Z"
   },
   {
    "duration": 979,
    "start_time": "2022-10-26T10:43:42.898Z"
   },
   {
    "duration": 15124,
    "start_time": "2022-10-26T16:16:05.465Z"
   },
   {
    "duration": 765,
    "start_time": "2022-10-26T16:16:20.591Z"
   },
   {
    "duration": 18745,
    "start_time": "2022-10-26T16:16:21.357Z"
   },
   {
    "duration": 19,
    "start_time": "2022-10-26T16:16:40.104Z"
   },
   {
    "duration": 30,
    "start_time": "2022-10-26T16:16:40.124Z"
   },
   {
    "duration": 367,
    "start_time": "2022-10-26T16:16:40.156Z"
   },
   {
    "duration": 18187,
    "start_time": "2022-10-26T16:16:40.524Z"
   },
   {
    "duration": 66,
    "start_time": "2022-10-26T16:16:58.713Z"
   },
   {
    "duration": 18647,
    "start_time": "2022-10-26T16:16:58.780Z"
   },
   {
    "duration": 64,
    "start_time": "2022-10-26T16:17:17.430Z"
   },
   {
    "duration": 5,
    "start_time": "2022-10-26T16:17:17.495Z"
   },
   {
    "duration": 30,
    "start_time": "2022-10-26T16:17:17.502Z"
   },
   {
    "duration": 30,
    "start_time": "2022-10-26T16:17:17.534Z"
   },
   {
    "duration": 25,
    "start_time": "2022-10-26T16:17:17.566Z"
   },
   {
    "duration": 33,
    "start_time": "2022-10-26T16:17:17.592Z"
   },
   {
    "duration": 229,
    "start_time": "2022-10-26T16:17:17.627Z"
   },
   {
    "duration": 173,
    "start_time": "2022-10-26T16:17:17.858Z"
   },
   {
    "duration": 91,
    "start_time": "2022-10-26T16:17:18.033Z"
   },
   {
    "duration": 122,
    "start_time": "2022-10-26T16:17:18.126Z"
   },
   {
    "duration": 24,
    "start_time": "2022-10-26T16:17:18.250Z"
   },
   {
    "duration": 13,
    "start_time": "2022-10-26T16:17:18.276Z"
   },
   {
    "duration": 5,
    "start_time": "2022-10-26T16:17:18.291Z"
   },
   {
    "duration": 7,
    "start_time": "2022-10-26T16:17:18.297Z"
   },
   {
    "duration": 10,
    "start_time": "2022-10-26T16:17:18.305Z"
   },
   {
    "duration": 950,
    "start_time": "2022-10-26T16:17:18.316Z"
   },
   {
    "duration": 849,
    "start_time": "2022-10-26T16:17:19.267Z"
   },
   {
    "duration": 871,
    "start_time": "2022-10-26T16:17:20.117Z"
   },
   {
    "duration": 4,
    "start_time": "2022-10-26T16:18:58.300Z"
   },
   {
    "duration": 4,
    "start_time": "2022-10-26T16:19:04.002Z"
   },
   {
    "duration": 4,
    "start_time": "2022-10-26T16:19:15.249Z"
   },
   {
    "duration": 3,
    "start_time": "2022-10-26T16:19:26.529Z"
   },
   {
    "duration": 4,
    "start_time": "2022-10-26T16:19:51.069Z"
   },
   {
    "duration": 4,
    "start_time": "2022-10-26T16:20:11.121Z"
   },
   {
    "duration": 191,
    "start_time": "2022-10-26T16:26:14.112Z"
   },
   {
    "duration": 2354,
    "start_time": "2022-10-26T16:26:50.747Z"
   },
   {
    "duration": 401,
    "start_time": "2022-10-26T16:26:56.212Z"
   },
   {
    "duration": 401,
    "start_time": "2022-10-26T16:27:29.948Z"
   },
   {
    "duration": 70,
    "start_time": "2022-10-26T16:55:33.591Z"
   },
   {
    "duration": 44,
    "start_time": "2022-10-26T18:06:45.731Z"
   },
   {
    "duration": 4,
    "start_time": "2022-10-26T18:06:50.207Z"
   },
   {
    "duration": 17,
    "start_time": "2022-10-26T18:08:06.656Z"
   },
   {
    "duration": 4,
    "start_time": "2022-10-26T18:08:10.509Z"
   },
   {
    "duration": 22,
    "start_time": "2022-10-26T18:08:11.814Z"
   },
   {
    "duration": 164,
    "start_time": "2022-10-26T18:08:26.761Z"
   },
   {
    "duration": 4,
    "start_time": "2022-10-26T18:11:04.730Z"
   },
   {
    "duration": 19,
    "start_time": "2022-10-26T18:11:05.204Z"
   },
   {
    "duration": 5,
    "start_time": "2022-10-26T18:12:14.064Z"
   },
   {
    "duration": 865,
    "start_time": "2022-10-26T18:12:14.755Z"
   },
   {
    "duration": 856,
    "start_time": "2022-10-26T18:12:20.395Z"
   },
   {
    "duration": 852,
    "start_time": "2022-10-26T18:12:21.409Z"
   },
   {
    "duration": 3,
    "start_time": "2022-10-26T18:18:55.688Z"
   },
   {
    "duration": 17,
    "start_time": "2022-10-26T18:18:56.738Z"
   },
   {
    "duration": 5,
    "start_time": "2022-10-26T18:19:00.852Z"
   },
   {
    "duration": 891,
    "start_time": "2022-10-26T18:19:01.404Z"
   },
   {
    "duration": 4210,
    "start_time": "2022-10-26T18:19:16.744Z"
   },
   {
    "duration": 371,
    "start_time": "2022-10-26T18:19:20.956Z"
   },
   {
    "duration": 18242,
    "start_time": "2022-10-26T18:19:21.329Z"
   },
   {
    "duration": 60,
    "start_time": "2022-10-26T18:19:39.574Z"
   },
   {
    "duration": 19,
    "start_time": "2022-10-26T18:19:39.635Z"
   },
   {
    "duration": 548,
    "start_time": "2022-10-26T18:19:39.655Z"
   },
   {
    "duration": 18266,
    "start_time": "2022-10-26T18:19:40.205Z"
   },
   {
    "duration": 82,
    "start_time": "2022-10-26T18:19:58.472Z"
   },
   {
    "duration": 18731,
    "start_time": "2022-10-26T18:19:58.556Z"
   },
   {
    "duration": 69,
    "start_time": "2022-10-26T18:20:17.289Z"
   },
   {
    "duration": 4,
    "start_time": "2022-10-26T18:20:17.360Z"
   },
   {
    "duration": 22,
    "start_time": "2022-10-26T18:20:17.366Z"
   },
   {
    "duration": 14,
    "start_time": "2022-10-26T18:20:17.390Z"
   },
   {
    "duration": 14,
    "start_time": "2022-10-26T18:20:17.423Z"
   },
   {
    "duration": 3,
    "start_time": "2022-10-26T18:20:17.438Z"
   },
   {
    "duration": 182,
    "start_time": "2022-10-26T18:20:17.443Z"
   },
   {
    "duration": 101,
    "start_time": "2022-10-26T18:20:17.627Z"
   },
   {
    "duration": 198,
    "start_time": "2022-10-26T18:20:17.730Z"
   },
   {
    "duration": 209,
    "start_time": "2022-10-26T18:20:17.930Z"
   },
   {
    "duration": 81,
    "start_time": "2022-10-26T18:20:18.142Z"
   },
   {
    "duration": 102,
    "start_time": "2022-10-26T18:20:18.226Z"
   },
   {
    "duration": 4,
    "start_time": "2022-10-26T18:20:18.330Z"
   },
   {
    "duration": 5,
    "start_time": "2022-10-26T18:20:18.336Z"
   },
   {
    "duration": 7,
    "start_time": "2022-10-26T18:20:18.343Z"
   },
   {
    "duration": 6,
    "start_time": "2022-10-26T18:20:18.352Z"
   },
   {
    "duration": 7,
    "start_time": "2022-10-26T18:20:18.360Z"
   },
   {
    "duration": 929,
    "start_time": "2022-10-26T18:20:18.368Z"
   },
   {
    "duration": 875,
    "start_time": "2022-10-26T18:20:19.300Z"
   },
   {
    "duration": 866,
    "start_time": "2022-10-26T18:20:20.176Z"
   },
   {
    "duration": 3,
    "start_time": "2022-10-26T18:23:56.792Z"
   },
   {
    "duration": 23,
    "start_time": "2022-10-26T18:23:57.264Z"
   },
   {
    "duration": 5,
    "start_time": "2022-10-26T18:24:08.791Z"
   },
   {
    "duration": 3,
    "start_time": "2022-10-26T18:24:17.188Z"
   },
   {
    "duration": 16,
    "start_time": "2022-10-26T18:24:17.703Z"
   },
   {
    "duration": 17,
    "start_time": "2022-10-26T18:24:36.794Z"
   },
   {
    "duration": 18,
    "start_time": "2022-10-26T18:25:06.169Z"
   },
   {
    "duration": 871,
    "start_time": "2022-10-26T18:25:15.512Z"
   },
   {
    "duration": 856,
    "start_time": "2022-10-26T18:25:16.385Z"
   },
   {
    "duration": 880,
    "start_time": "2022-10-26T18:25:17.243Z"
   },
   {
    "duration": 4,
    "start_time": "2022-10-26T18:27:57.591Z"
   },
   {
    "duration": 18,
    "start_time": "2022-10-26T18:27:58.005Z"
   },
   {
    "duration": 18,
    "start_time": "2022-10-26T18:27:58.503Z"
   },
   {
    "duration": 21,
    "start_time": "2022-10-26T18:27:58.934Z"
   },
   {
    "duration": 23,
    "start_time": "2022-10-26T18:28:33.067Z"
   },
   {
    "duration": 17,
    "start_time": "2022-10-26T18:28:43.470Z"
   },
   {
    "duration": 4,
    "start_time": "2022-10-26T18:42:58.599Z"
   },
   {
    "duration": 18,
    "start_time": "2022-10-26T18:43:01.492Z"
   },
   {
    "duration": 17,
    "start_time": "2022-10-26T18:43:02.671Z"
   },
   {
    "duration": 18,
    "start_time": "2022-10-26T18:43:03.935Z"
   },
   {
    "duration": 3,
    "start_time": "2022-10-26T18:54:54.278Z"
   },
   {
    "duration": 4,
    "start_time": "2022-10-26T19:07:38.550Z"
   },
   {
    "duration": 3,
    "start_time": "2022-10-26T19:07:44.393Z"
   },
   {
    "duration": 4,
    "start_time": "2022-10-26T19:07:54.930Z"
   },
   {
    "duration": 4,
    "start_time": "2022-10-26T19:08:42.143Z"
   },
   {
    "duration": 3,
    "start_time": "2022-10-26T19:24:01.928Z"
   },
   {
    "duration": 16975,
    "start_time": "2022-10-27T05:16:24.466Z"
   },
   {
    "duration": 1739,
    "start_time": "2022-10-27T05:16:41.444Z"
   },
   {
    "duration": 21400,
    "start_time": "2022-10-27T05:16:43.184Z"
   },
   {
    "duration": 25,
    "start_time": "2022-10-27T05:17:04.586Z"
   },
   {
    "duration": 16,
    "start_time": "2022-10-27T05:17:04.612Z"
   },
   {
    "duration": 434,
    "start_time": "2022-10-27T05:17:04.630Z"
   },
   {
    "duration": 22202,
    "start_time": "2022-10-27T05:17:05.065Z"
   },
   {
    "duration": 77,
    "start_time": "2022-10-27T05:17:27.268Z"
   },
   {
    "duration": 21182,
    "start_time": "2022-10-27T05:17:27.347Z"
   },
   {
    "duration": 74,
    "start_time": "2022-10-27T05:17:48.532Z"
   },
   {
    "duration": 6,
    "start_time": "2022-10-27T05:17:48.608Z"
   },
   {
    "duration": 16,
    "start_time": "2022-10-27T05:17:48.616Z"
   },
   {
    "duration": 16,
    "start_time": "2022-10-27T05:17:48.634Z"
   },
   {
    "duration": 56,
    "start_time": "2022-10-27T05:17:48.652Z"
   },
   {
    "duration": 3,
    "start_time": "2022-10-27T05:17:48.710Z"
   },
   {
    "duration": 96,
    "start_time": "2022-10-27T05:17:48.715Z"
   },
   {
    "duration": 178,
    "start_time": "2022-10-27T05:17:48.813Z"
   },
   {
    "duration": 102,
    "start_time": "2022-10-27T05:17:48.992Z"
   },
   {
    "duration": 10,
    "start_time": "2022-10-27T05:17:49.098Z"
   },
   {
    "duration": 5,
    "start_time": "2022-10-27T05:17:49.192Z"
   },
   {
    "duration": 4,
    "start_time": "2022-10-27T05:17:49.199Z"
   },
   {
    "duration": 8,
    "start_time": "2022-10-27T05:17:49.206Z"
   },
   {
    "duration": 5,
    "start_time": "2022-10-27T05:17:49.216Z"
   },
   {
    "duration": 4,
    "start_time": "2022-10-27T05:17:49.222Z"
   },
   {
    "duration": 5,
    "start_time": "2022-10-27T05:17:49.291Z"
   },
   {
    "duration": 10,
    "start_time": "2022-10-27T05:17:49.298Z"
   },
   {
    "duration": 1003,
    "start_time": "2022-10-27T05:17:49.309Z"
   },
   {
    "duration": 978,
    "start_time": "2022-10-27T05:17:50.316Z"
   },
   {
    "duration": 1024,
    "start_time": "2022-10-27T05:17:51.296Z"
   },
   {
    "duration": 2485,
    "start_time": "2022-10-27T05:20:21.927Z"
   },
   {
    "duration": 4,
    "start_time": "2022-10-27T05:20:41.278Z"
   },
   {
    "duration": 217,
    "start_time": "2022-10-27T05:20:42.981Z"
   },
   {
    "duration": 24,
    "start_time": "2022-10-27T05:20:43.988Z"
   },
   {
    "duration": 20,
    "start_time": "2022-10-27T05:20:45.140Z"
   },
   {
    "duration": 240,
    "start_time": "2022-10-27T05:26:05.732Z"
   },
   {
    "duration": 70,
    "start_time": "2022-10-27T05:26:39.650Z"
   },
   {
    "duration": 2164,
    "start_time": "2022-10-27T05:27:24.038Z"
   },
   {
    "duration": 2076,
    "start_time": "2022-10-27T05:27:49.718Z"
   },
   {
    "duration": 2221,
    "start_time": "2022-10-27T05:28:35.579Z"
   },
   {
    "duration": 2390,
    "start_time": "2022-10-27T05:28:45.506Z"
   },
   {
    "duration": 2122,
    "start_time": "2022-10-27T05:29:10.280Z"
   },
   {
    "duration": 1974,
    "start_time": "2022-10-27T05:29:38.319Z"
   },
   {
    "duration": 2264,
    "start_time": "2022-10-27T05:30:07.638Z"
   },
   {
    "duration": 87,
    "start_time": "2022-10-27T05:32:05.919Z"
   },
   {
    "duration": 5,
    "start_time": "2022-10-27T05:32:12.870Z"
   },
   {
    "duration": 2140,
    "start_time": "2022-10-27T05:32:40.267Z"
   },
   {
    "duration": 2051,
    "start_time": "2022-10-27T05:32:53.955Z"
   },
   {
    "duration": 7,
    "start_time": "2022-10-27T05:33:15.859Z"
   },
   {
    "duration": 2077,
    "start_time": "2022-10-27T05:33:16.323Z"
   },
   {
    "duration": 2489,
    "start_time": "2022-10-27T05:33:18.407Z"
   },
   {
    "duration": 2135,
    "start_time": "2022-10-27T05:40:41.657Z"
   },
   {
    "duration": 6,
    "start_time": "2022-10-27T05:41:38.158Z"
   },
   {
    "duration": 2192,
    "start_time": "2022-10-27T05:41:41.030Z"
   },
   {
    "duration": 1773,
    "start_time": "2022-10-27T05:41:45.325Z"
   },
   {
    "duration": 2106,
    "start_time": "2022-10-27T05:41:47.100Z"
   },
   {
    "duration": 11,
    "start_time": "2022-10-27T05:43:11.361Z"
   },
   {
    "duration": 4,
    "start_time": "2022-10-27T05:44:13.125Z"
   },
   {
    "duration": 27,
    "start_time": "2022-10-27T05:44:14.053Z"
   },
   {
    "duration": 36,
    "start_time": "2022-10-27T05:44:15.076Z"
   },
   {
    "duration": 27,
    "start_time": "2022-10-27T05:44:15.989Z"
   },
   {
    "duration": 7,
    "start_time": "2022-10-27T05:49:13.412Z"
   },
   {
    "duration": 20,
    "start_time": "2022-10-27T05:49:17.075Z"
   },
   {
    "duration": 17,
    "start_time": "2022-10-27T05:49:18.675Z"
   },
   {
    "duration": 20,
    "start_time": "2022-10-27T05:49:19.275Z"
   },
   {
    "duration": 15,
    "start_time": "2022-10-27T05:50:01.742Z"
   },
   {
    "duration": 15,
    "start_time": "2022-10-27T05:50:41.663Z"
   },
   {
    "duration": 16,
    "start_time": "2022-10-27T05:50:42.176Z"
   },
   {
    "duration": 16,
    "start_time": "2022-10-27T05:50:42.632Z"
   },
   {
    "duration": 22,
    "start_time": "2022-10-27T05:51:58.275Z"
   },
   {
    "duration": 17,
    "start_time": "2022-10-27T05:51:58.805Z"
   },
   {
    "duration": 10,
    "start_time": "2022-10-27T05:52:05.799Z"
   },
   {
    "duration": 182,
    "start_time": "2022-10-27T05:52:06.309Z"
   },
   {
    "duration": 31,
    "start_time": "2022-10-27T05:52:07.914Z"
   },
   {
    "duration": 32,
    "start_time": "2022-10-27T05:53:06.456Z"
   },
   {
    "duration": 4,
    "start_time": "2022-10-27T06:00:05.479Z"
   },
   {
    "duration": 9,
    "start_time": "2022-10-27T06:00:24.382Z"
   },
   {
    "duration": 7,
    "start_time": "2022-10-27T06:02:08.600Z"
   },
   {
    "duration": 1511,
    "start_time": "2022-10-27T06:02:09.052Z"
   },
   {
    "duration": 1555,
    "start_time": "2022-10-27T06:02:10.565Z"
   },
   {
    "duration": 1536,
    "start_time": "2022-10-27T06:02:12.123Z"
   },
   {
    "duration": 1586,
    "start_time": "2022-10-27T06:02:33.518Z"
   },
   {
    "duration": 5,
    "start_time": "2022-10-27T07:36:32.432Z"
   },
   {
    "duration": 25,
    "start_time": "2022-10-27T07:36:32.694Z"
   },
   {
    "duration": 18,
    "start_time": "2022-10-27T07:36:33.782Z"
   },
   {
    "duration": 18,
    "start_time": "2022-10-27T07:36:34.637Z"
   },
   {
    "duration": 20,
    "start_time": "2022-10-27T07:36:38.469Z"
   },
   {
    "duration": 4652,
    "start_time": "2022-10-27T07:49:18.010Z"
   },
   {
    "duration": 403,
    "start_time": "2022-10-27T07:49:22.664Z"
   },
   {
    "duration": 23099,
    "start_time": "2022-10-27T07:49:23.069Z"
   },
   {
    "duration": 30,
    "start_time": "2022-10-27T07:49:46.170Z"
   },
   {
    "duration": 15,
    "start_time": "2022-10-27T07:49:46.203Z"
   },
   {
    "duration": 420,
    "start_time": "2022-10-27T07:49:46.223Z"
   },
   {
    "duration": 22699,
    "start_time": "2022-10-27T07:49:46.646Z"
   },
   {
    "duration": 92,
    "start_time": "2022-10-27T07:50:09.347Z"
   },
   {
    "duration": 23860,
    "start_time": "2022-10-27T07:50:09.440Z"
   },
   {
    "duration": 132,
    "start_time": "2022-10-27T07:50:33.303Z"
   },
   {
    "duration": 5,
    "start_time": "2022-10-27T07:50:33.437Z"
   },
   {
    "duration": 58,
    "start_time": "2022-10-27T07:50:33.444Z"
   },
   {
    "duration": 24,
    "start_time": "2022-10-27T07:50:33.504Z"
   },
   {
    "duration": 14,
    "start_time": "2022-10-27T07:50:33.531Z"
   },
   {
    "duration": 17,
    "start_time": "2022-10-27T07:50:33.547Z"
   },
   {
    "duration": 5,
    "start_time": "2022-10-27T07:50:33.565Z"
   },
   {
    "duration": 229,
    "start_time": "2022-10-27T07:50:33.571Z"
   },
   {
    "duration": 128,
    "start_time": "2022-10-27T07:50:33.803Z"
   },
   {
    "duration": 123,
    "start_time": "2022-10-27T07:50:33.995Z"
   },
   {
    "duration": 184,
    "start_time": "2022-10-27T07:50:34.120Z"
   },
   {
    "duration": 2,
    "start_time": "2022-10-27T07:50:34.307Z"
   },
   {
    "duration": 5,
    "start_time": "2022-10-27T07:50:34.314Z"
   },
   {
    "duration": 7,
    "start_time": "2022-10-27T07:50:34.321Z"
   },
   {
    "duration": 76,
    "start_time": "2022-10-27T07:50:34.330Z"
   },
   {
    "duration": 8,
    "start_time": "2022-10-27T07:50:34.421Z"
   },
   {
    "duration": 4,
    "start_time": "2022-10-27T07:50:34.431Z"
   },
   {
    "duration": 5,
    "start_time": "2022-10-27T07:50:34.437Z"
   },
   {
    "duration": 4,
    "start_time": "2022-10-27T07:50:34.444Z"
   },
   {
    "duration": 53,
    "start_time": "2022-10-27T07:50:34.449Z"
   },
   {
    "duration": 1123,
    "start_time": "2022-10-27T07:50:34.507Z"
   },
   {
    "duration": 1122,
    "start_time": "2022-10-27T07:50:35.632Z"
   },
   {
    "duration": 1082,
    "start_time": "2022-10-27T07:50:36.756Z"
   },
   {
    "duration": 75,
    "start_time": "2022-10-27T07:50:44.941Z"
   },
   {
    "duration": 8,
    "start_time": "2022-10-27T07:52:35.618Z"
   },
   {
    "duration": 16,
    "start_time": "2022-10-27T07:52:38.046Z"
   },
   {
    "duration": 27,
    "start_time": "2022-10-27T07:52:38.485Z"
   },
   {
    "duration": 16,
    "start_time": "2022-10-27T07:52:39.373Z"
   },
   {
    "duration": 18,
    "start_time": "2022-10-27T07:52:41.569Z"
   },
   {
    "duration": 5,
    "start_time": "2022-10-27T07:53:07.976Z"
   },
   {
    "duration": 36,
    "start_time": "2022-10-27T07:53:09.472Z"
   },
   {
    "duration": 20,
    "start_time": "2022-10-27T07:53:24.243Z"
   },
   {
    "duration": 17,
    "start_time": "2022-10-27T07:53:25.251Z"
   },
   {
    "duration": 24,
    "start_time": "2022-10-27T07:53:26.171Z"
   },
   {
    "duration": 2,
    "start_time": "2022-10-27T07:53:36.103Z"
   },
   {
    "duration": 3,
    "start_time": "2022-10-27T07:53:37.514Z"
   },
   {
    "duration": 3,
    "start_time": "2022-10-27T07:53:38.049Z"
   },
   {
    "duration": 3,
    "start_time": "2022-10-27T07:53:38.770Z"
   },
   {
    "duration": 3,
    "start_time": "2022-10-27T07:53:39.378Z"
   },
   {
    "duration": 3,
    "start_time": "2022-10-27T07:54:04.409Z"
   },
   {
    "duration": 3,
    "start_time": "2022-10-27T07:54:04.865Z"
   },
   {
    "duration": 7,
    "start_time": "2022-10-27T07:55:00.414Z"
   },
   {
    "duration": 1029,
    "start_time": "2022-10-27T07:55:01.014Z"
   },
   {
    "duration": 1037,
    "start_time": "2022-10-27T07:55:02.045Z"
   },
   {
    "duration": 974,
    "start_time": "2022-10-27T07:55:03.084Z"
   },
   {
    "duration": 5,
    "start_time": "2022-10-27T07:55:45.827Z"
   },
   {
    "duration": 14,
    "start_time": "2022-10-27T07:55:46.219Z"
   },
   {
    "duration": 17,
    "start_time": "2022-10-27T07:55:46.747Z"
   },
   {
    "duration": 13,
    "start_time": "2022-10-27T07:55:47.508Z"
   },
   {
    "duration": 17,
    "start_time": "2022-10-27T07:55:47.699Z"
   },
   {
    "duration": 3,
    "start_time": "2022-10-27T07:55:48.068Z"
   },
   {
    "duration": 22,
    "start_time": "2022-10-27T07:55:48.506Z"
   },
   {
    "duration": 18,
    "start_time": "2022-10-27T07:55:48.925Z"
   },
   {
    "duration": 16,
    "start_time": "2022-10-27T07:55:49.505Z"
   },
   {
    "duration": 19,
    "start_time": "2022-10-27T07:55:50.211Z"
   },
   {
    "duration": 2,
    "start_time": "2022-10-27T07:55:59.251Z"
   },
   {
    "duration": 2,
    "start_time": "2022-10-27T07:55:59.914Z"
   },
   {
    "duration": 3,
    "start_time": "2022-10-27T07:56:00.267Z"
   },
   {
    "duration": 3,
    "start_time": "2022-10-27T07:56:00.596Z"
   },
   {
    "duration": 3,
    "start_time": "2022-10-27T07:56:00.968Z"
   },
   {
    "duration": 3,
    "start_time": "2022-10-27T07:56:01.301Z"
   },
   {
    "duration": 7,
    "start_time": "2022-10-27T07:56:01.491Z"
   },
   {
    "duration": 4,
    "start_time": "2022-10-27T07:56:02.242Z"
   },
   {
    "duration": 5,
    "start_time": "2022-10-27T07:56:02.618Z"
   },
   {
    "duration": 962,
    "start_time": "2022-10-27T07:56:02.810Z"
   },
   {
    "duration": 1012,
    "start_time": "2022-10-27T07:56:03.774Z"
   },
   {
    "duration": 985,
    "start_time": "2022-10-27T07:56:04.796Z"
   },
   {
    "duration": 4,
    "start_time": "2022-10-27T07:57:03.117Z"
   },
   {
    "duration": 973,
    "start_time": "2022-10-27T07:58:18.386Z"
   },
   {
    "duration": 1043,
    "start_time": "2022-10-27T07:58:19.361Z"
   },
   {
    "duration": 9,
    "start_time": "2022-10-27T07:58:20.411Z"
   },
   {
    "duration": 0,
    "start_time": "2022-10-27T07:58:20.422Z"
   },
   {
    "duration": 988,
    "start_time": "2022-10-27T07:58:31.254Z"
   },
   {
    "duration": 22560,
    "start_time": "2022-10-27T08:00:39.917Z"
   },
   {
    "duration": 21,
    "start_time": "2022-10-27T08:01:04.981Z"
   },
   {
    "duration": 2657,
    "start_time": "2022-10-27T08:01:25.241Z"
   },
   {
    "duration": 401,
    "start_time": "2022-10-27T08:01:32.152Z"
   },
   {
    "duration": 22498,
    "start_time": "2022-10-27T08:01:34.267Z"
   },
   {
    "duration": 4672,
    "start_time": "2022-10-27T08:02:09.485Z"
   },
   {
    "duration": 416,
    "start_time": "2022-10-27T08:02:14.159Z"
   },
   {
    "duration": 22769,
    "start_time": "2022-10-27T08:02:14.577Z"
   },
   {
    "duration": 15,
    "start_time": "2022-10-27T08:02:37.349Z"
   },
   {
    "duration": 35,
    "start_time": "2022-10-27T08:02:37.366Z"
   },
   {
    "duration": 394,
    "start_time": "2022-10-27T08:02:37.409Z"
   },
   {
    "duration": 21820,
    "start_time": "2022-10-27T08:02:37.805Z"
   },
   {
    "duration": 92,
    "start_time": "2022-10-27T08:02:59.628Z"
   },
   {
    "duration": 22245,
    "start_time": "2022-10-27T08:02:59.723Z"
   },
   {
    "duration": 81,
    "start_time": "2022-10-27T08:03:21.971Z"
   },
   {
    "duration": 6,
    "start_time": "2022-10-27T08:03:22.053Z"
   },
   {
    "duration": 43,
    "start_time": "2022-10-27T08:03:22.060Z"
   },
   {
    "duration": 20,
    "start_time": "2022-10-27T08:03:22.105Z"
   },
   {
    "duration": 14,
    "start_time": "2022-10-27T08:03:22.127Z"
   },
   {
    "duration": 17,
    "start_time": "2022-10-27T08:03:22.143Z"
   },
   {
    "duration": 5,
    "start_time": "2022-10-27T08:03:22.162Z"
   },
   {
    "duration": 97,
    "start_time": "2022-10-27T08:03:22.195Z"
   },
   {
    "duration": 134,
    "start_time": "2022-10-27T08:03:22.293Z"
   },
   {
    "duration": 121,
    "start_time": "2022-10-27T08:03:22.496Z"
   },
   {
    "duration": 103,
    "start_time": "2022-10-27T08:03:22.618Z"
   },
   {
    "duration": 6,
    "start_time": "2022-10-27T08:03:22.791Z"
   },
   {
    "duration": 9,
    "start_time": "2022-10-27T08:03:22.799Z"
   },
   {
    "duration": 3,
    "start_time": "2022-10-27T08:03:22.812Z"
   },
   {
    "duration": 6,
    "start_time": "2022-10-27T08:03:22.816Z"
   },
   {
    "duration": 79,
    "start_time": "2022-10-27T08:03:22.824Z"
   },
   {
    "duration": 7,
    "start_time": "2022-10-27T08:03:22.905Z"
   },
   {
    "duration": 4,
    "start_time": "2022-10-27T08:03:22.914Z"
   },
   {
    "duration": 3,
    "start_time": "2022-10-27T08:03:22.921Z"
   },
   {
    "duration": 5,
    "start_time": "2022-10-27T08:03:22.925Z"
   },
   {
    "duration": 997,
    "start_time": "2022-10-27T08:03:22.931Z"
   },
   {
    "duration": 1003,
    "start_time": "2022-10-27T08:03:23.930Z"
   },
   {
    "duration": 1008,
    "start_time": "2022-10-27T08:03:24.935Z"
   },
   {
    "duration": 6,
    "start_time": "2022-10-27T08:14:12.860Z"
   },
   {
    "duration": 16,
    "start_time": "2022-10-27T08:14:13.444Z"
   },
   {
    "duration": 32,
    "start_time": "2022-10-27T08:14:13.988Z"
   },
   {
    "duration": 22,
    "start_time": "2022-10-27T08:14:17.989Z"
   },
   {
    "duration": 15,
    "start_time": "2022-10-27T08:14:18.556Z"
   },
   {
    "duration": 4,
    "start_time": "2022-10-27T08:14:20.068Z"
   },
   {
    "duration": 20,
    "start_time": "2022-10-27T08:14:21.019Z"
   },
   {
    "duration": 18,
    "start_time": "2022-10-27T08:14:21.668Z"
   },
   {
    "duration": 18,
    "start_time": "2022-10-27T08:14:22.323Z"
   },
   {
    "duration": 19,
    "start_time": "2022-10-27T08:14:24.931Z"
   },
   {
    "duration": 19,
    "start_time": "2022-10-27T08:15:34.703Z"
   },
   {
    "duration": 15,
    "start_time": "2022-10-27T08:15:47.919Z"
   },
   {
    "duration": 17,
    "start_time": "2022-10-27T08:15:50.567Z"
   },
   {
    "duration": 6,
    "start_time": "2022-10-27T08:17:39.128Z"
   },
   {
    "duration": 14,
    "start_time": "2022-10-27T08:17:40.345Z"
   },
   {
    "duration": 16,
    "start_time": "2022-10-27T08:17:41.120Z"
   },
   {
    "duration": 24,
    "start_time": "2022-10-27T08:17:41.584Z"
   },
   {
    "duration": 15,
    "start_time": "2022-10-27T08:17:42.128Z"
   },
   {
    "duration": 4,
    "start_time": "2022-10-27T08:17:43.464Z"
   },
   {
    "duration": 25,
    "start_time": "2022-10-27T08:17:48.249Z"
   },
   {
    "duration": 22,
    "start_time": "2022-10-27T08:17:48.610Z"
   },
   {
    "duration": 18,
    "start_time": "2022-10-27T08:17:48.959Z"
   },
   {
    "duration": 24,
    "start_time": "2022-10-27T08:17:49.307Z"
   },
   {
    "duration": 2,
    "start_time": "2022-10-27T08:17:49.984Z"
   },
   {
    "duration": 3,
    "start_time": "2022-10-27T08:17:50.316Z"
   },
   {
    "duration": 3,
    "start_time": "2022-10-27T08:17:50.639Z"
   },
   {
    "duration": 3,
    "start_time": "2022-10-27T08:17:51.119Z"
   },
   {
    "duration": 3,
    "start_time": "2022-10-27T08:17:51.535Z"
   },
   {
    "duration": 3,
    "start_time": "2022-10-27T08:17:51.936Z"
   },
   {
    "duration": 3,
    "start_time": "2022-10-27T08:17:52.128Z"
   },
   {
    "duration": 4,
    "start_time": "2022-10-27T08:17:52.916Z"
   },
   {
    "duration": 8,
    "start_time": "2022-10-27T08:17:53.307Z"
   },
   {
    "duration": 1105,
    "start_time": "2022-10-27T08:17:55.696Z"
   },
   {
    "duration": 1030,
    "start_time": "2022-10-27T08:17:56.803Z"
   },
   {
    "duration": 1092,
    "start_time": "2022-10-27T08:17:57.835Z"
   },
   {
    "duration": 76,
    "start_time": "2022-10-27T08:18:57.749Z"
   },
   {
    "duration": 22257,
    "start_time": "2022-10-27T08:18:59.215Z"
   },
   {
    "duration": 76,
    "start_time": "2022-10-27T08:19:21.473Z"
   },
   {
    "duration": 22297,
    "start_time": "2022-10-27T08:19:21.551Z"
   },
   {
    "duration": 82,
    "start_time": "2022-10-27T08:19:43.850Z"
   },
   {
    "duration": 8,
    "start_time": "2022-10-27T08:19:43.934Z"
   },
   {
    "duration": 8,
    "start_time": "2022-10-27T08:22:06.017Z"
   },
   {
    "duration": 18,
    "start_time": "2022-10-27T08:22:06.570Z"
   },
   {
    "duration": 15,
    "start_time": "2022-10-27T08:22:07.073Z"
   },
   {
    "duration": 15,
    "start_time": "2022-10-27T08:22:07.552Z"
   },
   {
    "duration": 15,
    "start_time": "2022-10-27T08:22:08.241Z"
   },
   {
    "duration": 4,
    "start_time": "2022-10-27T08:22:23.916Z"
   },
   {
    "duration": 20,
    "start_time": "2022-10-27T08:22:24.352Z"
   },
   {
    "duration": 22,
    "start_time": "2022-10-27T08:22:24.719Z"
   },
   {
    "duration": 24,
    "start_time": "2022-10-27T08:22:52.000Z"
   },
   {
    "duration": 29,
    "start_time": "2022-10-27T08:22:52.886Z"
   },
   {
    "duration": 8,
    "start_time": "2022-10-28T07:18:55.643Z"
   },
   {
    "duration": 44,
    "start_time": "2022-10-28T07:19:21.969Z"
   },
   {
    "duration": 3,
    "start_time": "2022-10-28T07:20:02.638Z"
   },
   {
    "duration": 3,
    "start_time": "2022-10-28T07:20:19.421Z"
   },
   {
    "duration": 3,
    "start_time": "2022-10-28T07:21:01.891Z"
   },
   {
    "duration": 3,
    "start_time": "2022-10-28T07:21:57.320Z"
   },
   {
    "duration": 3,
    "start_time": "2022-10-28T07:22:58.021Z"
   },
   {
    "duration": 3,
    "start_time": "2022-10-28T07:24:23.592Z"
   },
   {
    "duration": 3,
    "start_time": "2022-10-28T07:24:35.023Z"
   },
   {
    "duration": 15262,
    "start_time": "2022-10-28T07:25:37.293Z"
   },
   {
    "duration": 776,
    "start_time": "2022-10-28T07:25:52.557Z"
   },
   {
    "duration": 19643,
    "start_time": "2022-10-28T07:25:53.334Z"
   },
   {
    "duration": 15,
    "start_time": "2022-10-28T07:26:12.979Z"
   },
   {
    "duration": 30,
    "start_time": "2022-10-28T07:26:12.996Z"
   },
   {
    "duration": 653,
    "start_time": "2022-10-28T07:26:13.077Z"
   },
   {
    "duration": 19561,
    "start_time": "2022-10-28T07:26:13.732Z"
   },
   {
    "duration": 128,
    "start_time": "2022-10-28T07:26:33.295Z"
   },
   {
    "duration": 20582,
    "start_time": "2022-10-28T07:26:33.478Z"
   },
   {
    "duration": 77,
    "start_time": "2022-10-28T07:26:54.062Z"
   },
   {
    "duration": 6,
    "start_time": "2022-10-28T07:26:54.141Z"
   },
   {
    "duration": 44,
    "start_time": "2022-10-28T07:26:54.148Z"
   },
   {
    "duration": 15,
    "start_time": "2022-10-28T07:26:54.194Z"
   },
   {
    "duration": 15,
    "start_time": "2022-10-28T07:26:54.212Z"
   },
   {
    "duration": 17,
    "start_time": "2022-10-28T07:26:54.228Z"
   },
   {
    "duration": 4,
    "start_time": "2022-10-28T07:26:54.247Z"
   },
   {
    "duration": 203,
    "start_time": "2022-10-28T07:26:54.277Z"
   },
   {
    "duration": 105,
    "start_time": "2022-10-28T07:26:54.482Z"
   },
   {
    "duration": 193,
    "start_time": "2022-10-28T07:26:54.589Z"
   },
   {
    "duration": 199,
    "start_time": "2022-10-28T07:26:54.784Z"
   },
   {
    "duration": 100,
    "start_time": "2022-10-28T07:26:54.985Z"
   },
   {
    "duration": 5,
    "start_time": "2022-10-28T07:26:55.178Z"
   },
   {
    "duration": 4,
    "start_time": "2022-10-28T07:26:55.185Z"
   },
   {
    "duration": 6,
    "start_time": "2022-10-28T07:26:55.191Z"
   },
   {
    "duration": 6,
    "start_time": "2022-10-28T07:26:55.199Z"
   },
   {
    "duration": 10,
    "start_time": "2022-10-28T07:26:55.207Z"
   },
   {
    "duration": 7,
    "start_time": "2022-10-28T07:26:55.219Z"
   },
   {
    "duration": 6,
    "start_time": "2022-10-28T07:26:55.228Z"
   },
   {
    "duration": 7,
    "start_time": "2022-10-28T07:26:55.236Z"
   },
   {
    "duration": 258,
    "start_time": "2022-10-28T07:26:55.244Z"
   },
   {
    "duration": 0,
    "start_time": "2022-10-28T07:26:55.505Z"
   },
   {
    "duration": 0,
    "start_time": "2022-10-28T07:26:55.506Z"
   },
   {
    "duration": 4,
    "start_time": "2022-10-28T07:27:41.049Z"
   },
   {
    "duration": 7,
    "start_time": "2022-10-28T07:27:42.928Z"
   },
   {
    "duration": 4493,
    "start_time": "2022-10-28T10:47:02.798Z"
   },
   {
    "duration": 392,
    "start_time": "2022-10-28T10:47:07.293Z"
   },
   {
    "duration": 22554,
    "start_time": "2022-10-28T10:47:07.687Z"
   },
   {
    "duration": 15,
    "start_time": "2022-10-28T10:47:30.244Z"
   },
   {
    "duration": 51,
    "start_time": "2022-10-28T10:47:30.260Z"
   },
   {
    "duration": 418,
    "start_time": "2022-10-28T10:47:30.313Z"
   },
   {
    "duration": 21509,
    "start_time": "2022-10-28T10:47:30.733Z"
   },
   {
    "duration": 117,
    "start_time": "2022-10-28T10:47:52.244Z"
   },
   {
    "duration": 21224,
    "start_time": "2022-10-28T10:47:52.376Z"
   },
   {
    "duration": 173,
    "start_time": "2022-10-28T10:48:13.604Z"
   },
   {
    "duration": 6,
    "start_time": "2022-10-28T10:48:13.779Z"
   },
   {
    "duration": 30,
    "start_time": "2022-10-28T10:48:13.787Z"
   },
   {
    "duration": 17,
    "start_time": "2022-10-28T10:48:13.819Z"
   },
   {
    "duration": 50,
    "start_time": "2022-10-28T10:48:13.838Z"
   },
   {
    "duration": 19,
    "start_time": "2022-10-28T10:48:13.890Z"
   },
   {
    "duration": 4,
    "start_time": "2022-10-28T10:48:13.911Z"
   },
   {
    "duration": 63,
    "start_time": "2022-10-28T10:48:13.918Z"
   },
   {
    "duration": 203,
    "start_time": "2022-10-28T10:48:13.984Z"
   },
   {
    "duration": 204,
    "start_time": "2022-10-28T10:48:14.189Z"
   },
   {
    "duration": 198,
    "start_time": "2022-10-28T10:48:14.399Z"
   },
   {
    "duration": 180,
    "start_time": "2022-10-28T10:48:14.599Z"
   },
   {
    "duration": 11,
    "start_time": "2022-10-28T10:48:14.780Z"
   },
   {
    "duration": 13,
    "start_time": "2022-10-28T10:48:14.793Z"
   },
   {
    "duration": 17,
    "start_time": "2022-10-28T10:48:14.808Z"
   },
   {
    "duration": 12,
    "start_time": "2022-10-28T10:48:14.826Z"
   },
   {
    "duration": 9,
    "start_time": "2022-10-28T10:48:14.840Z"
   },
   {
    "duration": 5,
    "start_time": "2022-10-28T10:48:14.851Z"
   },
   {
    "duration": 5,
    "start_time": "2022-10-28T10:48:14.861Z"
   },
   {
    "duration": 26,
    "start_time": "2022-10-28T10:48:14.869Z"
   },
   {
    "duration": 1078,
    "start_time": "2022-10-28T10:48:14.896Z"
   },
   {
    "duration": 994,
    "start_time": "2022-10-28T10:48:15.977Z"
   },
   {
    "duration": 1032,
    "start_time": "2022-10-28T10:48:16.977Z"
   },
   {
    "duration": 5,
    "start_time": "2022-10-28T10:49:13.006Z"
   },
   {
    "duration": 983,
    "start_time": "2022-10-28T10:49:15.686Z"
   },
   {
    "duration": 1013,
    "start_time": "2022-10-28T10:49:21.871Z"
   },
   {
    "duration": 5,
    "start_time": "2022-10-28T10:49:42.029Z"
   },
   {
    "duration": 1048,
    "start_time": "2022-10-28T10:49:43.420Z"
   },
   {
    "duration": 1001,
    "start_time": "2022-10-28T10:49:45.676Z"
   },
   {
    "duration": 1016,
    "start_time": "2022-10-28T10:49:46.770Z"
   },
   {
    "duration": 4,
    "start_time": "2022-10-28T13:22:17.670Z"
   },
   {
    "duration": 4,
    "start_time": "2022-10-28T13:22:39.540Z"
   },
   {
    "duration": 4,
    "start_time": "2022-10-28T13:22:52.106Z"
   },
   {
    "duration": 4,
    "start_time": "2022-10-28T13:23:25.993Z"
   },
   {
    "duration": 4,
    "start_time": "2022-10-28T13:23:26.632Z"
   },
   {
    "duration": 3,
    "start_time": "2022-10-28T13:23:27.008Z"
   },
   {
    "duration": 3,
    "start_time": "2022-10-28T13:23:27.375Z"
   },
   {
    "duration": 3,
    "start_time": "2022-10-28T13:23:27.952Z"
   },
   {
    "duration": 3,
    "start_time": "2022-10-28T13:23:28.489Z"
   },
   {
    "duration": 3,
    "start_time": "2022-10-28T13:23:28.953Z"
   },
   {
    "duration": 4,
    "start_time": "2022-10-28T13:23:30.272Z"
   },
   {
    "duration": 5,
    "start_time": "2022-10-28T13:23:31.032Z"
   },
   {
    "duration": 1061,
    "start_time": "2022-10-28T13:23:32.024Z"
   },
   {
    "duration": 1035,
    "start_time": "2022-10-28T13:23:33.087Z"
   },
   {
    "duration": 1058,
    "start_time": "2022-10-28T13:23:34.124Z"
   },
   {
    "duration": 4654,
    "start_time": "2022-10-28T13:27:30.893Z"
   },
   {
    "duration": 394,
    "start_time": "2022-10-28T13:27:35.550Z"
   },
   {
    "duration": 21278,
    "start_time": "2022-10-28T13:27:35.946Z"
   },
   {
    "duration": 14,
    "start_time": "2022-10-28T13:27:57.227Z"
   },
   {
    "duration": 13,
    "start_time": "2022-10-28T13:27:57.243Z"
   },
   {
    "duration": 448,
    "start_time": "2022-10-28T13:27:57.258Z"
   },
   {
    "duration": 20405,
    "start_time": "2022-10-28T13:27:57.708Z"
   },
   {
    "duration": 177,
    "start_time": "2022-10-28T13:28:18.115Z"
   },
   {
    "duration": 21523,
    "start_time": "2022-10-28T13:28:18.294Z"
   },
   {
    "duration": 171,
    "start_time": "2022-10-28T13:28:39.821Z"
   },
   {
    "duration": 9,
    "start_time": "2022-10-28T13:28:39.994Z"
   },
   {
    "duration": 27,
    "start_time": "2022-10-28T13:28:40.006Z"
   },
   {
    "duration": 19,
    "start_time": "2022-10-28T13:28:40.035Z"
   },
   {
    "duration": 25,
    "start_time": "2022-10-28T13:28:40.056Z"
   },
   {
    "duration": 24,
    "start_time": "2022-10-28T13:28:40.084Z"
   },
   {
    "duration": 12,
    "start_time": "2022-10-28T13:28:40.110Z"
   },
   {
    "duration": 253,
    "start_time": "2022-10-28T13:28:40.124Z"
   },
   {
    "duration": 101,
    "start_time": "2022-10-28T13:28:40.380Z"
   },
   {
    "duration": 197,
    "start_time": "2022-10-28T13:28:40.484Z"
   },
   {
    "duration": 113,
    "start_time": "2022-10-28T13:28:40.683Z"
   },
   {
    "duration": 78,
    "start_time": "2022-10-28T13:28:40.798Z"
   },
   {
    "duration": 8,
    "start_time": "2022-10-28T13:28:40.878Z"
   },
   {
    "duration": 94,
    "start_time": "2022-10-28T13:28:40.887Z"
   },
   {
    "duration": 5,
    "start_time": "2022-10-28T13:28:40.983Z"
   },
   {
    "duration": 5,
    "start_time": "2022-10-28T13:28:40.990Z"
   },
   {
    "duration": 5,
    "start_time": "2022-10-28T13:28:40.997Z"
   },
   {
    "duration": 8,
    "start_time": "2022-10-28T13:28:41.004Z"
   },
   {
    "duration": 6,
    "start_time": "2022-10-28T13:28:41.016Z"
   },
   {
    "duration": 5,
    "start_time": "2022-10-28T13:28:41.024Z"
   },
   {
    "duration": 1210,
    "start_time": "2022-10-28T13:28:41.031Z"
   },
   {
    "duration": 1063,
    "start_time": "2022-10-28T13:28:42.243Z"
   },
   {
    "duration": 1066,
    "start_time": "2022-10-28T13:28:43.307Z"
   },
   {
    "duration": 3,
    "start_time": "2022-10-28T13:29:28.497Z"
   },
   {
    "duration": 3,
    "start_time": "2022-10-28T13:29:32.031Z"
   },
   {
    "duration": 2,
    "start_time": "2022-10-28T13:29:32.448Z"
   },
   {
    "duration": 3,
    "start_time": "2022-10-28T13:29:32.840Z"
   },
   {
    "duration": 4,
    "start_time": "2022-10-28T13:29:33.200Z"
   },
   {
    "duration": 3,
    "start_time": "2022-10-28T13:29:36.728Z"
   },
   {
    "duration": 4,
    "start_time": "2022-10-28T13:29:36.976Z"
   },
   {
    "duration": 4,
    "start_time": "2022-10-28T13:29:42.934Z"
   },
   {
    "duration": 7,
    "start_time": "2022-10-28T13:29:45.343Z"
   },
   {
    "duration": 1005,
    "start_time": "2022-10-28T13:29:48.542Z"
   },
   {
    "duration": 1058,
    "start_time": "2022-10-28T13:29:49.742Z"
   },
   {
    "duration": 1060,
    "start_time": "2022-10-28T13:29:50.958Z"
   }
  ],
  "kernelspec": {
   "display_name": "base",
   "language": "python",
   "name": "python3"
  },
  "language_info": {
   "codemirror_mode": {
    "name": "ipython",
    "version": 3
   },
   "file_extension": ".py",
   "mimetype": "text/x-python",
   "name": "python",
   "nbconvert_exporter": "python",
   "pygments_lexer": "ipython3",
   "version": "3.9.7"
  },
  "toc": {
   "base_numbering": 1,
   "nav_menu": {},
   "number_sections": true,
   "sideBar": true,
   "skip_h1_title": true,
   "title_cell": "Table of Contents",
   "title_sidebar": "Contents",
   "toc_cell": false,
   "toc_position": {},
   "toc_section_display": true,
   "toc_window_display": false
  },
  "vscode": {
   "interpreter": {
    "hash": "81e3369a13e6471412a57d2570915ba3492cc341681bebeadc2b51bfac30fac2"
   }
  }
 },
 "nbformat": 4,
 "nbformat_minor": 2
}
