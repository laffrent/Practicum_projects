{
 "cells": [
  {
   "cell_type": "markdown",
   "metadata": {},
   "source": [
    "<h1> Комментарий тимлида </h1>\n",
    "\n",
    "👋 **Приветствую, Евгений!** \n",
    "\n",
    "✨ Поздравляю с началом работы над финальным проектом!\n",
    "\n",
    "Меня зовут Арсен Абдулин и я буду твоим ревьювером. Помню, однажды проверял твой проект =)\n",
    "\n",
    "При проверке работ я пишу следующие комментарии:\n",
    "\n",
    "<div class=\"alert alert-success\">\n",
    "<b>✔️ Зеленым цветом</b> отмечены удачные решения.</div>\n",
    "\n",
    "<div class=\"alert alert-warning\">\n",
    "<b>⚠️ Желтым цветом</b> я отметил пункты, которые в следующий раз можно сделать по-другому. Одно-два таких замечания в проекте допускается, но если их много — проект следует доработать. </div>\n",
    "\n",
    "<div class=\"alert alert-danger\">\n",
    "<b>🚫 Красным цветом</b> отмечены критические замечания, которые необходимо поправить, чтобы принять проект. </div>\n",
    "\n",
    "Если какие-то моменты в задании для тебя были непонятны и у тебя есть ко мне вопросы — смело спрашивай 😊 Также ты можешь доработать места, где есть желтые комментарии в проекте (однако, это не обязательно).\n",
    "\n",
    "Предлагаю работать в диалоге: если ты решишь что-то поменять по моим рекомендациям — пиши об этом (выбери для своих комментариев определенный цвет - так мне будет легче увидеть изменения). Пожалуйста не перемещай, не изменяй и не удаляй мои комментарии. Все это поможет сделать проверку твоего проекта оперативнее.\n",
    "\n",
    "<div class=\"alert alert-info\"> <b>ℹ️ Комментарий студента: </b> Пример комментария. </div>"
   ]
  },
  {
   "cell_type": "markdown",
   "metadata": {},
   "source": [
    "Вопросов, пока особо нет"
   ]
  },
  {
   "cell_type": "markdown",
   "metadata": {},
   "source": [
    "<div class=\"alert alert-success\">\n",
    "<b>✔️ Комментарий тимлида:</b> Принято!\n",
    "    \n",
    "</div>"
   ]
  },
  {
   "cell_type": "markdown",
   "metadata": {},
   "source": [
    "# Отток клиентов телеком компании"
   ]
  },
  {
   "cell_type": "markdown",
   "metadata": {},
   "source": [
    "Оператор связи «Ниединогоразрыва.ком» хочет научиться прогнозировать отток клиентов. Если выяснится, что пользователь планирует уйти, ему будут предложены промокоды и специальные условия. Команда оператора собрала персональные данные о некоторых клиентах, информацию об их тарифах и договорах."
   ]
  },
  {
   "cell_type": "markdown",
   "metadata": {},
   "source": [
    "<div class=\"alert alert-success\">\n",
    "<b>✔️ Комментарий тимлида:</b> Хорошо, когда есть описание проекта и обозначения признаков — так гораздо проще ознакомиться!\n",
    "    \n",
    "</div>"
   ]
  },
  {
   "cell_type": "markdown",
   "metadata": {},
   "source": [
    "### Описание услуг\n",
    "\n",
    "Оператор предоставляет два основных типа услуг: \n",
    "\n",
    "1. Стационарную телефонную связь. Возможно подключение телефонного аппарата к нескольким линиям одновременно.\n",
    "2. Интернет. Подключение может быть двух типов: через телефонную линию (DSL, от англ. digital subscriber line, «цифровая абонентская линия») или оптоволоконный кабель (Fiber optic).  \n",
    "\n",
    "Также доступны такие услуги:\n",
    "- Интернет-безопасность: антивирус (DeviceProtection) и блокировка небезопасных сайтов (OnlineSecurity);\n",
    "- Выделенная линия технической поддержки (TechSupport);\n",
    "- Облачное хранилище файлов для резервного копирования данных (OnlineBackup);\n",
    "- Стриминговое телевидение (StreamingTV) и каталог фильмов (StreamingMovies).\n",
    "\n",
    "За услуги клиенты могут платить каждый месяц или заключить договор на 1–2 года. Доступны различные способы расчёта и возможность получения электронного чека.\n",
    "\n",
    "###  Описание данных\n",
    "\n",
    "Данные состоят из файлов, полученных из разных источников:\n",
    "* `contract.csv` — информация о договоре;\n",
    "* `personal.csv` — персональные данные клиента;\n",
    "* `internet.csv` — информация об интернет-услугах;\n",
    "* `phone.csv` — информация об услугах телефонии.\n",
    "\n",
    "В данных предоставлены следующие признаки:\n",
    "+ BeginDate – дата начала пользования услугами,\n",
    "+ EndDate – дата окончания пользования услугами,\n",
    "+ Type – тип оплаты: ежемесячный, годовой и тд,\n",
    "+ PaperlessBilling – безналичный расчет,\n",
    "+ PaymentMethod – способ оплаты,\n",
    "+ MonthlyCharges – ежемесячные траты на услуги,\n",
    "+ TotalCharges – всего потрачено денег на услуги\n",
    "+ Dependents – наличие иждивенцев\n",
    "+ Senior Citizen – наличие пенсионного статуса по возрасту\n",
    "+ Partner – наличие супруга(и)\n",
    "+ MultipleLines – наличие возможности ведения параллельных линий во время\n",
    "звонка\n",
    "\n",
    "\n",
    "Во всех файлах столбец customerID содержит код клиента.\n",
    "Информация о договорах актуальна на 1 февраля 2020.\n",
    "\n",
    "### План работы\n",
    "1. Загрузка и ознакомление с данными\n",
    "    + загрузка необходимых библиотек\n",
    "    + загрузка данных\n",
    "    + ознакомление и обозначение проблем для этапа предобработки\n",
    "2. Предварительная обработка данных\n",
    "    + объединение данных\n",
    "    + обработка пропусков\n",
    "    + преобразование типов\n",
    "    + добавление новых признаков\n",
    "3. Исследовательский анализ\n",
    "    + проверка распределений данных\n",
    "    + проверка зависимостей целевой переменной\n",
    "    + формирование и проверка гипотез\n",
    "4. Подготовка и обучение модели\n",
    "    + разбиение данных на тренировочную и тестовую выборки\n",
    "    + создание несколько моделей (pipeline c CV)\n",
    "    + обучение и определение лучшей модели\n",
    "5. Проверка работы модели\n",
    "    + проверка на тестовой выборке\n",
    "    + анализ результатов работы модели\n",
    "6. Вывод\n",
    "    + вывод\n",
    "    + параметры финальной модели\n",
    "\n",
    "### Критерии оценки работы\n",
    "\n",
    "Основная метрика: **AUC-ROC**\\\n",
    "Дополнительная метрика: **Accuracy**\\\n",
    "Критерии оценки: **AUC-ROC >= 0.85**\n"
   ]
  },
  {
   "cell_type": "markdown",
   "metadata": {},
   "source": [
    "<div class=\"alert alert-success\">\n",
    "<b>✔️ Комментарий тимлида:</b> План работ последовательный и понятный, замечаний нет! \n",
    "    \n",
    "</div>"
   ]
  },
  {
   "cell_type": "markdown",
   "metadata": {},
   "source": [
    "## Загрузка и ознакомление с данными"
   ]
  },
  {
   "cell_type": "markdown",
   "metadata": {},
   "source": [
    "Загрузим необходимые библиотеки"
   ]
  },
  {
   "cell_type": "code",
   "execution_count": 94,
   "metadata": {},
   "outputs": [],
   "source": [
    "import os\n",
    "import re\n",
    "from IPython.display import display\n",
    "\n",
    "\n",
    "import matplotlib.pyplot as plt\n",
    "import numpy as np\n",
    "import pandas as pd"
   ]
  },
  {
   "cell_type": "markdown",
   "metadata": {},
   "source": [
    "Зафиксируем глобальные переменные"
   ]
  },
  {
   "cell_type": "code",
   "execution_count": 95,
   "metadata": {},
   "outputs": [],
   "source": [
    "MY_DIR = 'data/'\n",
    "YA_DIR = '/datasets/final_provider/'\n",
    "RANDOM_STATE = 270223"
   ]
  },
  {
   "cell_type": "markdown",
   "metadata": {},
   "source": [
    "Считаем данные"
   ]
  },
  {
   "cell_type": "code",
   "execution_count": 96,
   "metadata": {},
   "outputs": [],
   "source": [
    "def search_and_var_naming(dir):\n",
    "    \"\"\"\n",
    "    Search all *.csv files in dir and creat dic varname:filepath\n",
    "    dir -- directory with data\n",
    "    sep -- win/lin filepath sep\n",
    "    \"\"\"\n",
    "    csv_files = {}\n",
    "    for root, dirs, files in os.walk(dir):\n",
    "        counter = 0\n",
    "        for file in files:\n",
    "            if file.endswith(\".csv\"):\n",
    "                counter += 1\n",
    "                csv_files[file.split('.')[0]] = dir + file\n",
    "        if counter == 0:\n",
    "            print('В папке отсутствуют файлы формата *.csv')\n",
    "        else:\n",
    "            print(f'Количество найденных файлов *.csv: {counter}')\n",
    "    return csv_files"
   ]
  },
  {
   "cell_type": "code",
   "execution_count": 97,
   "metadata": {},
   "outputs": [
    {
     "name": "stdout",
     "output_type": "stream",
     "text": [
      "Используется локальная папка\n",
      "Количество найденных файлов *.csv: 4\n"
     ]
    }
   ],
   "source": [
    "if os.path.exists(MY_DIR):\n",
    "    print('Используется локальная папка')\n",
    "    files_and_path = search_and_var_naming(MY_DIR)\n",
    "elif os.path.exists(YA_DIR):\n",
    "    print('Используется репозиторий Yandex')    \n",
    "    files_and_path = search_and_var_naming(YA_DIR)\n",
    "else:\n",
    "    print('Папка с данными не найдена')"
   ]
  },
  {
   "cell_type": "markdown",
   "metadata": {},
   "source": [
    "Преобразуем и присвоим найденным файлам имена в соответствии с их названием"
   ]
  },
  {
   "cell_type": "code",
   "execution_count": 98,
   "metadata": {},
   "outputs": [
    {
     "name": "stdout",
     "output_type": "stream",
     "text": [
      "contract\n",
      "internet\n",
      "personal\n",
      "phone\n"
     ]
    }
   ],
   "source": [
    "for key in files_and_path:\n",
    "    exec(f'{key} = pd.read_csv(files_and_path[key])')\n",
    "    print(key)"
   ]
  },
  {
   "cell_type": "code",
   "execution_count": 99,
   "metadata": {},
   "outputs": [],
   "source": [
    "files = [contract, internet, personal, phone]"
   ]
  },
  {
   "cell_type": "markdown",
   "metadata": {},
   "source": [
    "Преобразуем имена колонок в snake_case"
   ]
  },
  {
   "cell_type": "code",
   "execution_count": 100,
   "metadata": {},
   "outputs": [],
   "source": [
    "for file in files:\n",
    "    new_columns_name=[]\n",
    "    for column in file.columns:\n",
    "        new_columns_name.append(re.sub('(?!^)([A-Z]+)', r'_\\1', column).lower())\n",
    "    file.columns = new_columns_name"
   ]
  },
  {
   "cell_type": "markdown",
   "metadata": {},
   "source": [
    "### Последовательно изучим общую информацию о всех представленных данных"
   ]
  },
  {
   "cell_type": "markdown",
   "metadata": {},
   "source": [
    "#### contract"
   ]
  },
  {
   "cell_type": "code",
   "execution_count": 101,
   "metadata": {},
   "outputs": [],
   "source": [
    "def base_info(df:pd.DataFrame):\n",
    "    \"\"\"\n",
    "    Display some base info about df\n",
    "    head, tail, info, describe\n",
    "    \"\"\"\n",
    "    print('Head')\n",
    "    display(df.head())\n",
    "    print('*'*120)\n",
    "    print('Tail')\n",
    "    display(df.tail())\n",
    "    print('*'*120)   \n",
    "    print('Info')\n",
    "    df.info()\n",
    "    print('*'*120)\n",
    "    print('Describe')\n",
    "    display(df.describe(include='all'))\n"
   ]
  },
  {
   "cell_type": "code",
   "execution_count": 102,
   "metadata": {},
   "outputs": [
    {
     "name": "stdout",
     "output_type": "stream",
     "text": [
      "Head\n"
     ]
    },
    {
     "data": {
      "text/html": [
       "<div>\n",
       "<style scoped>\n",
       "    .dataframe tbody tr th:only-of-type {\n",
       "        vertical-align: middle;\n",
       "    }\n",
       "\n",
       "    .dataframe tbody tr th {\n",
       "        vertical-align: top;\n",
       "    }\n",
       "\n",
       "    .dataframe thead th {\n",
       "        text-align: right;\n",
       "    }\n",
       "</style>\n",
       "<table border=\"1\" class=\"dataframe\">\n",
       "  <thead>\n",
       "    <tr style=\"text-align: right;\">\n",
       "      <th></th>\n",
       "      <th>customer_id</th>\n",
       "      <th>begin_date</th>\n",
       "      <th>end_date</th>\n",
       "      <th>type</th>\n",
       "      <th>paperless_billing</th>\n",
       "      <th>payment_method</th>\n",
       "      <th>monthly_charges</th>\n",
       "      <th>total_charges</th>\n",
       "    </tr>\n",
       "  </thead>\n",
       "  <tbody>\n",
       "    <tr>\n",
       "      <th>0</th>\n",
       "      <td>7590-VHVEG</td>\n",
       "      <td>2020-01-01</td>\n",
       "      <td>No</td>\n",
       "      <td>Month-to-month</td>\n",
       "      <td>Yes</td>\n",
       "      <td>Electronic check</td>\n",
       "      <td>29.85</td>\n",
       "      <td>29.85</td>\n",
       "    </tr>\n",
       "    <tr>\n",
       "      <th>1</th>\n",
       "      <td>5575-GNVDE</td>\n",
       "      <td>2017-04-01</td>\n",
       "      <td>No</td>\n",
       "      <td>One year</td>\n",
       "      <td>No</td>\n",
       "      <td>Mailed check</td>\n",
       "      <td>56.95</td>\n",
       "      <td>1889.5</td>\n",
       "    </tr>\n",
       "    <tr>\n",
       "      <th>2</th>\n",
       "      <td>3668-QPYBK</td>\n",
       "      <td>2019-10-01</td>\n",
       "      <td>2019-12-01 00:00:00</td>\n",
       "      <td>Month-to-month</td>\n",
       "      <td>Yes</td>\n",
       "      <td>Mailed check</td>\n",
       "      <td>53.85</td>\n",
       "      <td>108.15</td>\n",
       "    </tr>\n",
       "    <tr>\n",
       "      <th>3</th>\n",
       "      <td>7795-CFOCW</td>\n",
       "      <td>2016-05-01</td>\n",
       "      <td>No</td>\n",
       "      <td>One year</td>\n",
       "      <td>No</td>\n",
       "      <td>Bank transfer (automatic)</td>\n",
       "      <td>42.30</td>\n",
       "      <td>1840.75</td>\n",
       "    </tr>\n",
       "    <tr>\n",
       "      <th>4</th>\n",
       "      <td>9237-HQITU</td>\n",
       "      <td>2019-09-01</td>\n",
       "      <td>2019-11-01 00:00:00</td>\n",
       "      <td>Month-to-month</td>\n",
       "      <td>Yes</td>\n",
       "      <td>Electronic check</td>\n",
       "      <td>70.70</td>\n",
       "      <td>151.65</td>\n",
       "    </tr>\n",
       "  </tbody>\n",
       "</table>\n",
       "</div>"
      ],
      "text/plain": [
       "  customer_id  begin_date             end_date            type  \\\n",
       "0  7590-VHVEG  2020-01-01                   No  Month-to-month   \n",
       "1  5575-GNVDE  2017-04-01                   No        One year   \n",
       "2  3668-QPYBK  2019-10-01  2019-12-01 00:00:00  Month-to-month   \n",
       "3  7795-CFOCW  2016-05-01                   No        One year   \n",
       "4  9237-HQITU  2019-09-01  2019-11-01 00:00:00  Month-to-month   \n",
       "\n",
       "  paperless_billing             payment_method  monthly_charges total_charges  \n",
       "0               Yes           Electronic check            29.85         29.85  \n",
       "1                No               Mailed check            56.95        1889.5  \n",
       "2               Yes               Mailed check            53.85        108.15  \n",
       "3                No  Bank transfer (automatic)            42.30       1840.75  \n",
       "4               Yes           Electronic check            70.70        151.65  "
      ]
     },
     "metadata": {},
     "output_type": "display_data"
    },
    {
     "name": "stdout",
     "output_type": "stream",
     "text": [
      "************************************************************************************************************************\n",
      "Tail\n"
     ]
    },
    {
     "data": {
      "text/html": [
       "<div>\n",
       "<style scoped>\n",
       "    .dataframe tbody tr th:only-of-type {\n",
       "        vertical-align: middle;\n",
       "    }\n",
       "\n",
       "    .dataframe tbody tr th {\n",
       "        vertical-align: top;\n",
       "    }\n",
       "\n",
       "    .dataframe thead th {\n",
       "        text-align: right;\n",
       "    }\n",
       "</style>\n",
       "<table border=\"1\" class=\"dataframe\">\n",
       "  <thead>\n",
       "    <tr style=\"text-align: right;\">\n",
       "      <th></th>\n",
       "      <th>customer_id</th>\n",
       "      <th>begin_date</th>\n",
       "      <th>end_date</th>\n",
       "      <th>type</th>\n",
       "      <th>paperless_billing</th>\n",
       "      <th>payment_method</th>\n",
       "      <th>monthly_charges</th>\n",
       "      <th>total_charges</th>\n",
       "    </tr>\n",
       "  </thead>\n",
       "  <tbody>\n",
       "    <tr>\n",
       "      <th>7038</th>\n",
       "      <td>6840-RESVB</td>\n",
       "      <td>2018-02-01</td>\n",
       "      <td>No</td>\n",
       "      <td>One year</td>\n",
       "      <td>Yes</td>\n",
       "      <td>Mailed check</td>\n",
       "      <td>84.80</td>\n",
       "      <td>1990.5</td>\n",
       "    </tr>\n",
       "    <tr>\n",
       "      <th>7039</th>\n",
       "      <td>2234-XADUH</td>\n",
       "      <td>2014-02-01</td>\n",
       "      <td>No</td>\n",
       "      <td>One year</td>\n",
       "      <td>Yes</td>\n",
       "      <td>Credit card (automatic)</td>\n",
       "      <td>103.20</td>\n",
       "      <td>7362.9</td>\n",
       "    </tr>\n",
       "    <tr>\n",
       "      <th>7040</th>\n",
       "      <td>4801-JZAZL</td>\n",
       "      <td>2019-03-01</td>\n",
       "      <td>No</td>\n",
       "      <td>Month-to-month</td>\n",
       "      <td>Yes</td>\n",
       "      <td>Electronic check</td>\n",
       "      <td>29.60</td>\n",
       "      <td>346.45</td>\n",
       "    </tr>\n",
       "    <tr>\n",
       "      <th>7041</th>\n",
       "      <td>8361-LTMKD</td>\n",
       "      <td>2019-07-01</td>\n",
       "      <td>2019-11-01 00:00:00</td>\n",
       "      <td>Month-to-month</td>\n",
       "      <td>Yes</td>\n",
       "      <td>Mailed check</td>\n",
       "      <td>74.40</td>\n",
       "      <td>306.6</td>\n",
       "    </tr>\n",
       "    <tr>\n",
       "      <th>7042</th>\n",
       "      <td>3186-AJIEK</td>\n",
       "      <td>2014-08-01</td>\n",
       "      <td>No</td>\n",
       "      <td>Two year</td>\n",
       "      <td>Yes</td>\n",
       "      <td>Bank transfer (automatic)</td>\n",
       "      <td>105.65</td>\n",
       "      <td>6844.5</td>\n",
       "    </tr>\n",
       "  </tbody>\n",
       "</table>\n",
       "</div>"
      ],
      "text/plain": [
       "     customer_id  begin_date             end_date            type  \\\n",
       "7038  6840-RESVB  2018-02-01                   No        One year   \n",
       "7039  2234-XADUH  2014-02-01                   No        One year   \n",
       "7040  4801-JZAZL  2019-03-01                   No  Month-to-month   \n",
       "7041  8361-LTMKD  2019-07-01  2019-11-01 00:00:00  Month-to-month   \n",
       "7042  3186-AJIEK  2014-08-01                   No        Two year   \n",
       "\n",
       "     paperless_billing             payment_method  monthly_charges  \\\n",
       "7038               Yes               Mailed check            84.80   \n",
       "7039               Yes    Credit card (automatic)           103.20   \n",
       "7040               Yes           Electronic check            29.60   \n",
       "7041               Yes               Mailed check            74.40   \n",
       "7042               Yes  Bank transfer (automatic)           105.65   \n",
       "\n",
       "     total_charges  \n",
       "7038        1990.5  \n",
       "7039        7362.9  \n",
       "7040        346.45  \n",
       "7041         306.6  \n",
       "7042        6844.5  "
      ]
     },
     "metadata": {},
     "output_type": "display_data"
    },
    {
     "name": "stdout",
     "output_type": "stream",
     "text": [
      "************************************************************************************************************************\n",
      "Info\n",
      "<class 'pandas.core.frame.DataFrame'>\n",
      "RangeIndex: 7043 entries, 0 to 7042\n",
      "Data columns (total 8 columns):\n",
      " #   Column             Non-Null Count  Dtype  \n",
      "---  ------             --------------  -----  \n",
      " 0   customer_id        7043 non-null   object \n",
      " 1   begin_date         7043 non-null   object \n",
      " 2   end_date           7043 non-null   object \n",
      " 3   type               7043 non-null   object \n",
      " 4   paperless_billing  7043 non-null   object \n",
      " 5   payment_method     7043 non-null   object \n",
      " 6   monthly_charges    7043 non-null   float64\n",
      " 7   total_charges      7043 non-null   object \n",
      "dtypes: float64(1), object(7)\n",
      "memory usage: 440.3+ KB\n",
      "************************************************************************************************************************\n",
      "Describe\n"
     ]
    },
    {
     "data": {
      "text/html": [
       "<div>\n",
       "<style scoped>\n",
       "    .dataframe tbody tr th:only-of-type {\n",
       "        vertical-align: middle;\n",
       "    }\n",
       "\n",
       "    .dataframe tbody tr th {\n",
       "        vertical-align: top;\n",
       "    }\n",
       "\n",
       "    .dataframe thead th {\n",
       "        text-align: right;\n",
       "    }\n",
       "</style>\n",
       "<table border=\"1\" class=\"dataframe\">\n",
       "  <thead>\n",
       "    <tr style=\"text-align: right;\">\n",
       "      <th></th>\n",
       "      <th>customer_id</th>\n",
       "      <th>begin_date</th>\n",
       "      <th>end_date</th>\n",
       "      <th>type</th>\n",
       "      <th>paperless_billing</th>\n",
       "      <th>payment_method</th>\n",
       "      <th>monthly_charges</th>\n",
       "      <th>total_charges</th>\n",
       "    </tr>\n",
       "  </thead>\n",
       "  <tbody>\n",
       "    <tr>\n",
       "      <th>count</th>\n",
       "      <td>7043</td>\n",
       "      <td>7043</td>\n",
       "      <td>7043</td>\n",
       "      <td>7043</td>\n",
       "      <td>7043</td>\n",
       "      <td>7043</td>\n",
       "      <td>7043.000000</td>\n",
       "      <td>7043</td>\n",
       "    </tr>\n",
       "    <tr>\n",
       "      <th>unique</th>\n",
       "      <td>7043</td>\n",
       "      <td>77</td>\n",
       "      <td>5</td>\n",
       "      <td>3</td>\n",
       "      <td>2</td>\n",
       "      <td>4</td>\n",
       "      <td>NaN</td>\n",
       "      <td>6531</td>\n",
       "    </tr>\n",
       "    <tr>\n",
       "      <th>top</th>\n",
       "      <td>7590-VHVEG</td>\n",
       "      <td>2014-02-01</td>\n",
       "      <td>No</td>\n",
       "      <td>Month-to-month</td>\n",
       "      <td>Yes</td>\n",
       "      <td>Electronic check</td>\n",
       "      <td>NaN</td>\n",
       "      <td></td>\n",
       "    </tr>\n",
       "    <tr>\n",
       "      <th>freq</th>\n",
       "      <td>1</td>\n",
       "      <td>366</td>\n",
       "      <td>5174</td>\n",
       "      <td>3875</td>\n",
       "      <td>4171</td>\n",
       "      <td>2365</td>\n",
       "      <td>NaN</td>\n",
       "      <td>11</td>\n",
       "    </tr>\n",
       "    <tr>\n",
       "      <th>mean</th>\n",
       "      <td>NaN</td>\n",
       "      <td>NaN</td>\n",
       "      <td>NaN</td>\n",
       "      <td>NaN</td>\n",
       "      <td>NaN</td>\n",
       "      <td>NaN</td>\n",
       "      <td>64.761692</td>\n",
       "      <td>NaN</td>\n",
       "    </tr>\n",
       "    <tr>\n",
       "      <th>std</th>\n",
       "      <td>NaN</td>\n",
       "      <td>NaN</td>\n",
       "      <td>NaN</td>\n",
       "      <td>NaN</td>\n",
       "      <td>NaN</td>\n",
       "      <td>NaN</td>\n",
       "      <td>30.090047</td>\n",
       "      <td>NaN</td>\n",
       "    </tr>\n",
       "    <tr>\n",
       "      <th>min</th>\n",
       "      <td>NaN</td>\n",
       "      <td>NaN</td>\n",
       "      <td>NaN</td>\n",
       "      <td>NaN</td>\n",
       "      <td>NaN</td>\n",
       "      <td>NaN</td>\n",
       "      <td>18.250000</td>\n",
       "      <td>NaN</td>\n",
       "    </tr>\n",
       "    <tr>\n",
       "      <th>25%</th>\n",
       "      <td>NaN</td>\n",
       "      <td>NaN</td>\n",
       "      <td>NaN</td>\n",
       "      <td>NaN</td>\n",
       "      <td>NaN</td>\n",
       "      <td>NaN</td>\n",
       "      <td>35.500000</td>\n",
       "      <td>NaN</td>\n",
       "    </tr>\n",
       "    <tr>\n",
       "      <th>50%</th>\n",
       "      <td>NaN</td>\n",
       "      <td>NaN</td>\n",
       "      <td>NaN</td>\n",
       "      <td>NaN</td>\n",
       "      <td>NaN</td>\n",
       "      <td>NaN</td>\n",
       "      <td>70.350000</td>\n",
       "      <td>NaN</td>\n",
       "    </tr>\n",
       "    <tr>\n",
       "      <th>75%</th>\n",
       "      <td>NaN</td>\n",
       "      <td>NaN</td>\n",
       "      <td>NaN</td>\n",
       "      <td>NaN</td>\n",
       "      <td>NaN</td>\n",
       "      <td>NaN</td>\n",
       "      <td>89.850000</td>\n",
       "      <td>NaN</td>\n",
       "    </tr>\n",
       "    <tr>\n",
       "      <th>max</th>\n",
       "      <td>NaN</td>\n",
       "      <td>NaN</td>\n",
       "      <td>NaN</td>\n",
       "      <td>NaN</td>\n",
       "      <td>NaN</td>\n",
       "      <td>NaN</td>\n",
       "      <td>118.750000</td>\n",
       "      <td>NaN</td>\n",
       "    </tr>\n",
       "  </tbody>\n",
       "</table>\n",
       "</div>"
      ],
      "text/plain": [
       "       customer_id  begin_date end_date            type paperless_billing  \\\n",
       "count         7043        7043     7043            7043              7043   \n",
       "unique        7043          77        5               3                 2   \n",
       "top     7590-VHVEG  2014-02-01       No  Month-to-month               Yes   \n",
       "freq             1         366     5174            3875              4171   \n",
       "mean           NaN         NaN      NaN             NaN               NaN   \n",
       "std            NaN         NaN      NaN             NaN               NaN   \n",
       "min            NaN         NaN      NaN             NaN               NaN   \n",
       "25%            NaN         NaN      NaN             NaN               NaN   \n",
       "50%            NaN         NaN      NaN             NaN               NaN   \n",
       "75%            NaN         NaN      NaN             NaN               NaN   \n",
       "max            NaN         NaN      NaN             NaN               NaN   \n",
       "\n",
       "          payment_method  monthly_charges total_charges  \n",
       "count               7043      7043.000000          7043  \n",
       "unique                 4              NaN          6531  \n",
       "top     Electronic check              NaN                \n",
       "freq                2365              NaN            11  \n",
       "mean                 NaN        64.761692           NaN  \n",
       "std                  NaN        30.090047           NaN  \n",
       "min                  NaN        18.250000           NaN  \n",
       "25%                  NaN        35.500000           NaN  \n",
       "50%                  NaN        70.350000           NaN  \n",
       "75%                  NaN        89.850000           NaN  \n",
       "max                  NaN       118.750000           NaN  "
      ]
     },
     "metadata": {},
     "output_type": "display_data"
    }
   ],
   "source": [
    "base_info(contract)"
   ]
  },
  {
   "cell_type": "markdown",
   "metadata": {},
   "source": [
    "Явные пропуски отсутствуют. \n",
    "+ `begin_date` - необходимо будет преобразовать в формат даты и при анализе проверить утверждение, чем более долгий срок клиент с компанией тем меньшая вероятность его ухода\n",
    "+ `end_date` - целевой признак, если клиент ушел дата будет обозначена также необходимо преобразовать в формат даты, и преобразовать с `begin_date` в срок обслуживания\n",
    "+ `total_charges` - проверим на пропуски и преобразуем в числовой\n",
    "+ `monthly_charges` - тип данных ожидаемый, проверим если средний чек совпадает 'кол-во месяцев' / `total_charges` == `monthly_charges`, то клиент не увеличивал кол-во услуг, меньше -> отказывался, больше -> добавлял"
   ]
  },
  {
   "cell_type": "markdown",
   "metadata": {},
   "source": [
    "<div class=\"alert alert-success\">\n",
    "<b>✔️ Комментарий тимлида:</b> Данные загружены успешно! Хорошо, что сделал подробный анализ данных, видно что нужна дальнейшая предобработка\n",
    "    \n",
    "</div>"
   ]
  },
  {
   "cell_type": "markdown",
   "metadata": {},
   "source": [
    "Количество уникальных ID совпадает с количеством строк, следовательно полные дубликаты отсутствуют. Попробывать разбить преобразовать в хэш текстовую часть а цифровую посмотреть может в ней регион, офис и т.д, может быть корреляция с датой то удалим"
   ]
  },
  {
   "cell_type": "code",
   "execution_count": 103,
   "metadata": {},
   "outputs": [
    {
     "data": {
      "text/plain": [
       "array(['Yes', 'No'], dtype=object)"
      ]
     },
     "execution_count": 103,
     "metadata": {},
     "output_type": "execute_result"
    }
   ],
   "source": [
    "contract.paperless_billing.unique()"
   ]
  },
  {
   "cell_type": "markdown",
   "metadata": {},
   "source": [
    "`paperless_billing` - уникальные значения да/нет"
   ]
  },
  {
   "cell_type": "code",
   "execution_count": 104,
   "metadata": {},
   "outputs": [
    {
     "data": {
      "text/plain": [
       "array(['Electronic check', 'Mailed check', 'Bank transfer (automatic)',\n",
       "       'Credit card (automatic)'], dtype=object)"
      ]
     },
     "execution_count": 104,
     "metadata": {},
     "output_type": "execute_result"
    }
   ],
   "source": [
    "contract.payment_method.unique()"
   ]
  },
  {
   "cell_type": "markdown",
   "metadata": {},
   "source": [
    "`payment_method` варианты платежей, проверим на зависимость с `paperless_billing` и на возможность объединения по методу платежа check/automatic"
   ]
  },
  {
   "cell_type": "code",
   "execution_count": 105,
   "metadata": {},
   "outputs": [
    {
     "data": {
      "text/plain": [
       "array(['Month-to-month', 'One year', 'Two year'], dtype=object)"
      ]
     },
     "execution_count": 105,
     "metadata": {},
     "output_type": "execute_result"
    }
   ],
   "source": [
    "contract.type.unique()"
   ]
  },
  {
   "cell_type": "markdown",
   "metadata": {},
   "source": [
    "`type` - тип платежа, логично будет преположить что чем на более длительный срок клиент оплачивает услуги тем меньше вероятность его ухода, проверим при анализе данных"
   ]
  },
  {
   "cell_type": "markdown",
   "metadata": {},
   "source": [
    "#### internet"
   ]
  },
  {
   "cell_type": "code",
   "execution_count": 106,
   "metadata": {},
   "outputs": [
    {
     "name": "stdout",
     "output_type": "stream",
     "text": [
      "Head\n"
     ]
    },
    {
     "data": {
      "text/html": [
       "<div>\n",
       "<style scoped>\n",
       "    .dataframe tbody tr th:only-of-type {\n",
       "        vertical-align: middle;\n",
       "    }\n",
       "\n",
       "    .dataframe tbody tr th {\n",
       "        vertical-align: top;\n",
       "    }\n",
       "\n",
       "    .dataframe thead th {\n",
       "        text-align: right;\n",
       "    }\n",
       "</style>\n",
       "<table border=\"1\" class=\"dataframe\">\n",
       "  <thead>\n",
       "    <tr style=\"text-align: right;\">\n",
       "      <th></th>\n",
       "      <th>customer_id</th>\n",
       "      <th>internet_service</th>\n",
       "      <th>online_security</th>\n",
       "      <th>online_backup</th>\n",
       "      <th>device_protection</th>\n",
       "      <th>tech_support</th>\n",
       "      <th>streaming_tv</th>\n",
       "      <th>streaming_movies</th>\n",
       "    </tr>\n",
       "  </thead>\n",
       "  <tbody>\n",
       "    <tr>\n",
       "      <th>0</th>\n",
       "      <td>7590-VHVEG</td>\n",
       "      <td>DSL</td>\n",
       "      <td>No</td>\n",
       "      <td>Yes</td>\n",
       "      <td>No</td>\n",
       "      <td>No</td>\n",
       "      <td>No</td>\n",
       "      <td>No</td>\n",
       "    </tr>\n",
       "    <tr>\n",
       "      <th>1</th>\n",
       "      <td>5575-GNVDE</td>\n",
       "      <td>DSL</td>\n",
       "      <td>Yes</td>\n",
       "      <td>No</td>\n",
       "      <td>Yes</td>\n",
       "      <td>No</td>\n",
       "      <td>No</td>\n",
       "      <td>No</td>\n",
       "    </tr>\n",
       "    <tr>\n",
       "      <th>2</th>\n",
       "      <td>3668-QPYBK</td>\n",
       "      <td>DSL</td>\n",
       "      <td>Yes</td>\n",
       "      <td>Yes</td>\n",
       "      <td>No</td>\n",
       "      <td>No</td>\n",
       "      <td>No</td>\n",
       "      <td>No</td>\n",
       "    </tr>\n",
       "    <tr>\n",
       "      <th>3</th>\n",
       "      <td>7795-CFOCW</td>\n",
       "      <td>DSL</td>\n",
       "      <td>Yes</td>\n",
       "      <td>No</td>\n",
       "      <td>Yes</td>\n",
       "      <td>Yes</td>\n",
       "      <td>No</td>\n",
       "      <td>No</td>\n",
       "    </tr>\n",
       "    <tr>\n",
       "      <th>4</th>\n",
       "      <td>9237-HQITU</td>\n",
       "      <td>Fiber optic</td>\n",
       "      <td>No</td>\n",
       "      <td>No</td>\n",
       "      <td>No</td>\n",
       "      <td>No</td>\n",
       "      <td>No</td>\n",
       "      <td>No</td>\n",
       "    </tr>\n",
       "  </tbody>\n",
       "</table>\n",
       "</div>"
      ],
      "text/plain": [
       "  customer_id internet_service online_security online_backup  \\\n",
       "0  7590-VHVEG              DSL              No           Yes   \n",
       "1  5575-GNVDE              DSL             Yes            No   \n",
       "2  3668-QPYBK              DSL             Yes           Yes   \n",
       "3  7795-CFOCW              DSL             Yes            No   \n",
       "4  9237-HQITU      Fiber optic              No            No   \n",
       "\n",
       "  device_protection tech_support streaming_tv streaming_movies  \n",
       "0                No           No           No               No  \n",
       "1               Yes           No           No               No  \n",
       "2                No           No           No               No  \n",
       "3               Yes          Yes           No               No  \n",
       "4                No           No           No               No  "
      ]
     },
     "metadata": {},
     "output_type": "display_data"
    },
    {
     "name": "stdout",
     "output_type": "stream",
     "text": [
      "************************************************************************************************************************\n",
      "Tail\n"
     ]
    },
    {
     "data": {
      "text/html": [
       "<div>\n",
       "<style scoped>\n",
       "    .dataframe tbody tr th:only-of-type {\n",
       "        vertical-align: middle;\n",
       "    }\n",
       "\n",
       "    .dataframe tbody tr th {\n",
       "        vertical-align: top;\n",
       "    }\n",
       "\n",
       "    .dataframe thead th {\n",
       "        text-align: right;\n",
       "    }\n",
       "</style>\n",
       "<table border=\"1\" class=\"dataframe\">\n",
       "  <thead>\n",
       "    <tr style=\"text-align: right;\">\n",
       "      <th></th>\n",
       "      <th>customer_id</th>\n",
       "      <th>internet_service</th>\n",
       "      <th>online_security</th>\n",
       "      <th>online_backup</th>\n",
       "      <th>device_protection</th>\n",
       "      <th>tech_support</th>\n",
       "      <th>streaming_tv</th>\n",
       "      <th>streaming_movies</th>\n",
       "    </tr>\n",
       "  </thead>\n",
       "  <tbody>\n",
       "    <tr>\n",
       "      <th>5512</th>\n",
       "      <td>6840-RESVB</td>\n",
       "      <td>DSL</td>\n",
       "      <td>Yes</td>\n",
       "      <td>No</td>\n",
       "      <td>Yes</td>\n",
       "      <td>Yes</td>\n",
       "      <td>Yes</td>\n",
       "      <td>Yes</td>\n",
       "    </tr>\n",
       "    <tr>\n",
       "      <th>5513</th>\n",
       "      <td>2234-XADUH</td>\n",
       "      <td>Fiber optic</td>\n",
       "      <td>No</td>\n",
       "      <td>Yes</td>\n",
       "      <td>Yes</td>\n",
       "      <td>No</td>\n",
       "      <td>Yes</td>\n",
       "      <td>Yes</td>\n",
       "    </tr>\n",
       "    <tr>\n",
       "      <th>5514</th>\n",
       "      <td>4801-JZAZL</td>\n",
       "      <td>DSL</td>\n",
       "      <td>Yes</td>\n",
       "      <td>No</td>\n",
       "      <td>No</td>\n",
       "      <td>No</td>\n",
       "      <td>No</td>\n",
       "      <td>No</td>\n",
       "    </tr>\n",
       "    <tr>\n",
       "      <th>5515</th>\n",
       "      <td>8361-LTMKD</td>\n",
       "      <td>Fiber optic</td>\n",
       "      <td>No</td>\n",
       "      <td>No</td>\n",
       "      <td>No</td>\n",
       "      <td>No</td>\n",
       "      <td>No</td>\n",
       "      <td>No</td>\n",
       "    </tr>\n",
       "    <tr>\n",
       "      <th>5516</th>\n",
       "      <td>3186-AJIEK</td>\n",
       "      <td>Fiber optic</td>\n",
       "      <td>Yes</td>\n",
       "      <td>No</td>\n",
       "      <td>Yes</td>\n",
       "      <td>Yes</td>\n",
       "      <td>Yes</td>\n",
       "      <td>Yes</td>\n",
       "    </tr>\n",
       "  </tbody>\n",
       "</table>\n",
       "</div>"
      ],
      "text/plain": [
       "     customer_id internet_service online_security online_backup  \\\n",
       "5512  6840-RESVB              DSL             Yes            No   \n",
       "5513  2234-XADUH      Fiber optic              No           Yes   \n",
       "5514  4801-JZAZL              DSL             Yes            No   \n",
       "5515  8361-LTMKD      Fiber optic              No            No   \n",
       "5516  3186-AJIEK      Fiber optic             Yes            No   \n",
       "\n",
       "     device_protection tech_support streaming_tv streaming_movies  \n",
       "5512               Yes          Yes          Yes              Yes  \n",
       "5513               Yes           No          Yes              Yes  \n",
       "5514                No           No           No               No  \n",
       "5515                No           No           No               No  \n",
       "5516               Yes          Yes          Yes              Yes  "
      ]
     },
     "metadata": {},
     "output_type": "display_data"
    },
    {
     "name": "stdout",
     "output_type": "stream",
     "text": [
      "************************************************************************************************************************\n",
      "Info\n",
      "<class 'pandas.core.frame.DataFrame'>\n",
      "RangeIndex: 5517 entries, 0 to 5516\n",
      "Data columns (total 8 columns):\n",
      " #   Column             Non-Null Count  Dtype \n",
      "---  ------             --------------  ----- \n",
      " 0   customer_id        5517 non-null   object\n",
      " 1   internet_service   5517 non-null   object\n",
      " 2   online_security    5517 non-null   object\n",
      " 3   online_backup      5517 non-null   object\n",
      " 4   device_protection  5517 non-null   object\n",
      " 5   tech_support       5517 non-null   object\n",
      " 6   streaming_tv       5517 non-null   object\n",
      " 7   streaming_movies   5517 non-null   object\n",
      "dtypes: object(8)\n",
      "memory usage: 344.9+ KB\n",
      "************************************************************************************************************************\n",
      "Describe\n"
     ]
    },
    {
     "data": {
      "text/html": [
       "<div>\n",
       "<style scoped>\n",
       "    .dataframe tbody tr th:only-of-type {\n",
       "        vertical-align: middle;\n",
       "    }\n",
       "\n",
       "    .dataframe tbody tr th {\n",
       "        vertical-align: top;\n",
       "    }\n",
       "\n",
       "    .dataframe thead th {\n",
       "        text-align: right;\n",
       "    }\n",
       "</style>\n",
       "<table border=\"1\" class=\"dataframe\">\n",
       "  <thead>\n",
       "    <tr style=\"text-align: right;\">\n",
       "      <th></th>\n",
       "      <th>customer_id</th>\n",
       "      <th>internet_service</th>\n",
       "      <th>online_security</th>\n",
       "      <th>online_backup</th>\n",
       "      <th>device_protection</th>\n",
       "      <th>tech_support</th>\n",
       "      <th>streaming_tv</th>\n",
       "      <th>streaming_movies</th>\n",
       "    </tr>\n",
       "  </thead>\n",
       "  <tbody>\n",
       "    <tr>\n",
       "      <th>count</th>\n",
       "      <td>5517</td>\n",
       "      <td>5517</td>\n",
       "      <td>5517</td>\n",
       "      <td>5517</td>\n",
       "      <td>5517</td>\n",
       "      <td>5517</td>\n",
       "      <td>5517</td>\n",
       "      <td>5517</td>\n",
       "    </tr>\n",
       "    <tr>\n",
       "      <th>unique</th>\n",
       "      <td>5517</td>\n",
       "      <td>2</td>\n",
       "      <td>2</td>\n",
       "      <td>2</td>\n",
       "      <td>2</td>\n",
       "      <td>2</td>\n",
       "      <td>2</td>\n",
       "      <td>2</td>\n",
       "    </tr>\n",
       "    <tr>\n",
       "      <th>top</th>\n",
       "      <td>7590-VHVEG</td>\n",
       "      <td>Fiber optic</td>\n",
       "      <td>No</td>\n",
       "      <td>No</td>\n",
       "      <td>No</td>\n",
       "      <td>No</td>\n",
       "      <td>No</td>\n",
       "      <td>No</td>\n",
       "    </tr>\n",
       "    <tr>\n",
       "      <th>freq</th>\n",
       "      <td>1</td>\n",
       "      <td>3096</td>\n",
       "      <td>3498</td>\n",
       "      <td>3088</td>\n",
       "      <td>3095</td>\n",
       "      <td>3473</td>\n",
       "      <td>2810</td>\n",
       "      <td>2785</td>\n",
       "    </tr>\n",
       "  </tbody>\n",
       "</table>\n",
       "</div>"
      ],
      "text/plain": [
       "       customer_id internet_service online_security online_backup  \\\n",
       "count         5517             5517            5517          5517   \n",
       "unique        5517                2               2             2   \n",
       "top     7590-VHVEG      Fiber optic              No            No   \n",
       "freq             1             3096            3498          3088   \n",
       "\n",
       "       device_protection tech_support streaming_tv streaming_movies  \n",
       "count               5517         5517         5517             5517  \n",
       "unique                 2            2            2                2  \n",
       "top                   No           No           No               No  \n",
       "freq                3095         3473         2810             2785  "
      ]
     },
     "metadata": {},
     "output_type": "display_data"
    }
   ],
   "source": [
    "base_info(internet)"
   ]
  },
  {
   "cell_type": "code",
   "execution_count": 107,
   "metadata": {},
   "outputs": [
    {
     "data": {
      "text/plain": [
       "array(['DSL', 'Fiber optic'], dtype=object)"
      ]
     },
     "execution_count": 107,
     "metadata": {},
     "output_type": "execute_result"
    }
   ],
   "source": [
    "internet.internet_service.unique()"
   ]
  },
  {
   "cell_type": "markdown",
   "metadata": {},
   "source": [
    "Значений меньше чем в `contract` - не все пользователи пользуются услугой интернет. В столбце internet_service два вида подключения. В остальных подключена ли услуга да/нет\n",
    "Преобразование типов не требуется"
   ]
  },
  {
   "cell_type": "markdown",
   "metadata": {},
   "source": [
    "<div class=\"alert alert-success\">\n",
    "<b>✔️ Комментарий тимлида:</b> Все верно, не все клиенты пользуются интернет-услугами\n",
    "    \n",
    "</div>"
   ]
  },
  {
   "cell_type": "markdown",
   "metadata": {},
   "source": [
    "Сделаем проверку для будущего объеденения"
   ]
  },
  {
   "cell_type": "code",
   "execution_count": 108,
   "metadata": {},
   "outputs": [
    {
     "data": {
      "text/plain": [
       "0"
      ]
     },
     "execution_count": 108,
     "metadata": {},
     "output_type": "execute_result"
    }
   ],
   "source": [
    "len(internet[~internet['customer_id'].isin(contract['customer_id'])])"
   ]
  },
  {
   "cell_type": "markdown",
   "metadata": {},
   "source": [
    "#### personal"
   ]
  },
  {
   "cell_type": "code",
   "execution_count": 109,
   "metadata": {},
   "outputs": [
    {
     "name": "stdout",
     "output_type": "stream",
     "text": [
      "Head\n"
     ]
    },
    {
     "data": {
      "text/html": [
       "<div>\n",
       "<style scoped>\n",
       "    .dataframe tbody tr th:only-of-type {\n",
       "        vertical-align: middle;\n",
       "    }\n",
       "\n",
       "    .dataframe tbody tr th {\n",
       "        vertical-align: top;\n",
       "    }\n",
       "\n",
       "    .dataframe thead th {\n",
       "        text-align: right;\n",
       "    }\n",
       "</style>\n",
       "<table border=\"1\" class=\"dataframe\">\n",
       "  <thead>\n",
       "    <tr style=\"text-align: right;\">\n",
       "      <th></th>\n",
       "      <th>customer_id</th>\n",
       "      <th>gender</th>\n",
       "      <th>senior_citizen</th>\n",
       "      <th>partner</th>\n",
       "      <th>dependents</th>\n",
       "    </tr>\n",
       "  </thead>\n",
       "  <tbody>\n",
       "    <tr>\n",
       "      <th>0</th>\n",
       "      <td>7590-VHVEG</td>\n",
       "      <td>Female</td>\n",
       "      <td>0</td>\n",
       "      <td>Yes</td>\n",
       "      <td>No</td>\n",
       "    </tr>\n",
       "    <tr>\n",
       "      <th>1</th>\n",
       "      <td>5575-GNVDE</td>\n",
       "      <td>Male</td>\n",
       "      <td>0</td>\n",
       "      <td>No</td>\n",
       "      <td>No</td>\n",
       "    </tr>\n",
       "    <tr>\n",
       "      <th>2</th>\n",
       "      <td>3668-QPYBK</td>\n",
       "      <td>Male</td>\n",
       "      <td>0</td>\n",
       "      <td>No</td>\n",
       "      <td>No</td>\n",
       "    </tr>\n",
       "    <tr>\n",
       "      <th>3</th>\n",
       "      <td>7795-CFOCW</td>\n",
       "      <td>Male</td>\n",
       "      <td>0</td>\n",
       "      <td>No</td>\n",
       "      <td>No</td>\n",
       "    </tr>\n",
       "    <tr>\n",
       "      <th>4</th>\n",
       "      <td>9237-HQITU</td>\n",
       "      <td>Female</td>\n",
       "      <td>0</td>\n",
       "      <td>No</td>\n",
       "      <td>No</td>\n",
       "    </tr>\n",
       "  </tbody>\n",
       "</table>\n",
       "</div>"
      ],
      "text/plain": [
       "  customer_id  gender  senior_citizen partner dependents\n",
       "0  7590-VHVEG  Female               0     Yes         No\n",
       "1  5575-GNVDE    Male               0      No         No\n",
       "2  3668-QPYBK    Male               0      No         No\n",
       "3  7795-CFOCW    Male               0      No         No\n",
       "4  9237-HQITU  Female               0      No         No"
      ]
     },
     "metadata": {},
     "output_type": "display_data"
    },
    {
     "name": "stdout",
     "output_type": "stream",
     "text": [
      "************************************************************************************************************************\n",
      "Tail\n"
     ]
    },
    {
     "data": {
      "text/html": [
       "<div>\n",
       "<style scoped>\n",
       "    .dataframe tbody tr th:only-of-type {\n",
       "        vertical-align: middle;\n",
       "    }\n",
       "\n",
       "    .dataframe tbody tr th {\n",
       "        vertical-align: top;\n",
       "    }\n",
       "\n",
       "    .dataframe thead th {\n",
       "        text-align: right;\n",
       "    }\n",
       "</style>\n",
       "<table border=\"1\" class=\"dataframe\">\n",
       "  <thead>\n",
       "    <tr style=\"text-align: right;\">\n",
       "      <th></th>\n",
       "      <th>customer_id</th>\n",
       "      <th>gender</th>\n",
       "      <th>senior_citizen</th>\n",
       "      <th>partner</th>\n",
       "      <th>dependents</th>\n",
       "    </tr>\n",
       "  </thead>\n",
       "  <tbody>\n",
       "    <tr>\n",
       "      <th>7038</th>\n",
       "      <td>6840-RESVB</td>\n",
       "      <td>Male</td>\n",
       "      <td>0</td>\n",
       "      <td>Yes</td>\n",
       "      <td>Yes</td>\n",
       "    </tr>\n",
       "    <tr>\n",
       "      <th>7039</th>\n",
       "      <td>2234-XADUH</td>\n",
       "      <td>Female</td>\n",
       "      <td>0</td>\n",
       "      <td>Yes</td>\n",
       "      <td>Yes</td>\n",
       "    </tr>\n",
       "    <tr>\n",
       "      <th>7040</th>\n",
       "      <td>4801-JZAZL</td>\n",
       "      <td>Female</td>\n",
       "      <td>0</td>\n",
       "      <td>Yes</td>\n",
       "      <td>Yes</td>\n",
       "    </tr>\n",
       "    <tr>\n",
       "      <th>7041</th>\n",
       "      <td>8361-LTMKD</td>\n",
       "      <td>Male</td>\n",
       "      <td>1</td>\n",
       "      <td>Yes</td>\n",
       "      <td>No</td>\n",
       "    </tr>\n",
       "    <tr>\n",
       "      <th>7042</th>\n",
       "      <td>3186-AJIEK</td>\n",
       "      <td>Male</td>\n",
       "      <td>0</td>\n",
       "      <td>No</td>\n",
       "      <td>No</td>\n",
       "    </tr>\n",
       "  </tbody>\n",
       "</table>\n",
       "</div>"
      ],
      "text/plain": [
       "     customer_id  gender  senior_citizen partner dependents\n",
       "7038  6840-RESVB    Male               0     Yes        Yes\n",
       "7039  2234-XADUH  Female               0     Yes        Yes\n",
       "7040  4801-JZAZL  Female               0     Yes        Yes\n",
       "7041  8361-LTMKD    Male               1     Yes         No\n",
       "7042  3186-AJIEK    Male               0      No         No"
      ]
     },
     "metadata": {},
     "output_type": "display_data"
    },
    {
     "name": "stdout",
     "output_type": "stream",
     "text": [
      "************************************************************************************************************************\n",
      "Info\n",
      "<class 'pandas.core.frame.DataFrame'>\n",
      "RangeIndex: 7043 entries, 0 to 7042\n",
      "Data columns (total 5 columns):\n",
      " #   Column          Non-Null Count  Dtype \n",
      "---  ------          --------------  ----- \n",
      " 0   customer_id     7043 non-null   object\n",
      " 1   gender          7043 non-null   object\n",
      " 2   senior_citizen  7043 non-null   int64 \n",
      " 3   partner         7043 non-null   object\n",
      " 4   dependents      7043 non-null   object\n",
      "dtypes: int64(1), object(4)\n",
      "memory usage: 275.2+ KB\n",
      "************************************************************************************************************************\n",
      "Describe\n"
     ]
    },
    {
     "data": {
      "text/html": [
       "<div>\n",
       "<style scoped>\n",
       "    .dataframe tbody tr th:only-of-type {\n",
       "        vertical-align: middle;\n",
       "    }\n",
       "\n",
       "    .dataframe tbody tr th {\n",
       "        vertical-align: top;\n",
       "    }\n",
       "\n",
       "    .dataframe thead th {\n",
       "        text-align: right;\n",
       "    }\n",
       "</style>\n",
       "<table border=\"1\" class=\"dataframe\">\n",
       "  <thead>\n",
       "    <tr style=\"text-align: right;\">\n",
       "      <th></th>\n",
       "      <th>customer_id</th>\n",
       "      <th>gender</th>\n",
       "      <th>senior_citizen</th>\n",
       "      <th>partner</th>\n",
       "      <th>dependents</th>\n",
       "    </tr>\n",
       "  </thead>\n",
       "  <tbody>\n",
       "    <tr>\n",
       "      <th>count</th>\n",
       "      <td>7043</td>\n",
       "      <td>7043</td>\n",
       "      <td>7043.000000</td>\n",
       "      <td>7043</td>\n",
       "      <td>7043</td>\n",
       "    </tr>\n",
       "    <tr>\n",
       "      <th>unique</th>\n",
       "      <td>7043</td>\n",
       "      <td>2</td>\n",
       "      <td>NaN</td>\n",
       "      <td>2</td>\n",
       "      <td>2</td>\n",
       "    </tr>\n",
       "    <tr>\n",
       "      <th>top</th>\n",
       "      <td>7590-VHVEG</td>\n",
       "      <td>Male</td>\n",
       "      <td>NaN</td>\n",
       "      <td>No</td>\n",
       "      <td>No</td>\n",
       "    </tr>\n",
       "    <tr>\n",
       "      <th>freq</th>\n",
       "      <td>1</td>\n",
       "      <td>3555</td>\n",
       "      <td>NaN</td>\n",
       "      <td>3641</td>\n",
       "      <td>4933</td>\n",
       "    </tr>\n",
       "    <tr>\n",
       "      <th>mean</th>\n",
       "      <td>NaN</td>\n",
       "      <td>NaN</td>\n",
       "      <td>0.162147</td>\n",
       "      <td>NaN</td>\n",
       "      <td>NaN</td>\n",
       "    </tr>\n",
       "    <tr>\n",
       "      <th>std</th>\n",
       "      <td>NaN</td>\n",
       "      <td>NaN</td>\n",
       "      <td>0.368612</td>\n",
       "      <td>NaN</td>\n",
       "      <td>NaN</td>\n",
       "    </tr>\n",
       "    <tr>\n",
       "      <th>min</th>\n",
       "      <td>NaN</td>\n",
       "      <td>NaN</td>\n",
       "      <td>0.000000</td>\n",
       "      <td>NaN</td>\n",
       "      <td>NaN</td>\n",
       "    </tr>\n",
       "    <tr>\n",
       "      <th>25%</th>\n",
       "      <td>NaN</td>\n",
       "      <td>NaN</td>\n",
       "      <td>0.000000</td>\n",
       "      <td>NaN</td>\n",
       "      <td>NaN</td>\n",
       "    </tr>\n",
       "    <tr>\n",
       "      <th>50%</th>\n",
       "      <td>NaN</td>\n",
       "      <td>NaN</td>\n",
       "      <td>0.000000</td>\n",
       "      <td>NaN</td>\n",
       "      <td>NaN</td>\n",
       "    </tr>\n",
       "    <tr>\n",
       "      <th>75%</th>\n",
       "      <td>NaN</td>\n",
       "      <td>NaN</td>\n",
       "      <td>0.000000</td>\n",
       "      <td>NaN</td>\n",
       "      <td>NaN</td>\n",
       "    </tr>\n",
       "    <tr>\n",
       "      <th>max</th>\n",
       "      <td>NaN</td>\n",
       "      <td>NaN</td>\n",
       "      <td>1.000000</td>\n",
       "      <td>NaN</td>\n",
       "      <td>NaN</td>\n",
       "    </tr>\n",
       "  </tbody>\n",
       "</table>\n",
       "</div>"
      ],
      "text/plain": [
       "       customer_id gender  senior_citizen partner dependents\n",
       "count         7043   7043     7043.000000    7043       7043\n",
       "unique        7043      2             NaN       2          2\n",
       "top     7590-VHVEG   Male             NaN      No         No\n",
       "freq             1   3555             NaN    3641       4933\n",
       "mean           NaN    NaN        0.162147     NaN        NaN\n",
       "std            NaN    NaN        0.368612     NaN        NaN\n",
       "min            NaN    NaN        0.000000     NaN        NaN\n",
       "25%            NaN    NaN        0.000000     NaN        NaN\n",
       "50%            NaN    NaN        0.000000     NaN        NaN\n",
       "75%            NaN    NaN        0.000000     NaN        NaN\n",
       "max            NaN    NaN        1.000000     NaN        NaN"
      ]
     },
     "metadata": {},
     "output_type": "display_data"
    }
   ],
   "source": [
    "base_info(personal)"
   ]
  },
  {
   "cell_type": "code",
   "execution_count": 110,
   "metadata": {},
   "outputs": [
    {
     "data": {
      "text/plain": [
       "array(['Female', 'Male'], dtype=object)"
      ]
     },
     "execution_count": 110,
     "metadata": {},
     "output_type": "execute_result"
    }
   ],
   "source": [
    "personal.gender.unique()"
   ]
  },
  {
   "cell_type": "code",
   "execution_count": 111,
   "metadata": {},
   "outputs": [
    {
     "data": {
      "text/plain": [
       "array([0, 1], dtype=int64)"
      ]
     },
     "execution_count": 111,
     "metadata": {},
     "output_type": "execute_result"
    }
   ],
   "source": [
    "personal.senior_citizen.unique()"
   ]
  },
  {
   "cell_type": "markdown",
   "metadata": {},
   "source": [
    "Значения в остальных столбцах да/нет"
   ]
  },
  {
   "cell_type": "markdown",
   "metadata": {},
   "source": [
    "Проверка"
   ]
  },
  {
   "cell_type": "code",
   "execution_count": 112,
   "metadata": {},
   "outputs": [
    {
     "data": {
      "text/plain": [
       "0"
      ]
     },
     "execution_count": 112,
     "metadata": {},
     "output_type": "execute_result"
    }
   ],
   "source": [
    "len(personal[~personal['customer_id'].isin(contract['customer_id'])])\n"
   ]
  },
  {
   "cell_type": "markdown",
   "metadata": {},
   "source": [
    "#### phone"
   ]
  },
  {
   "cell_type": "code",
   "execution_count": 113,
   "metadata": {},
   "outputs": [
    {
     "name": "stdout",
     "output_type": "stream",
     "text": [
      "Head\n"
     ]
    },
    {
     "data": {
      "text/html": [
       "<div>\n",
       "<style scoped>\n",
       "    .dataframe tbody tr th:only-of-type {\n",
       "        vertical-align: middle;\n",
       "    }\n",
       "\n",
       "    .dataframe tbody tr th {\n",
       "        vertical-align: top;\n",
       "    }\n",
       "\n",
       "    .dataframe thead th {\n",
       "        text-align: right;\n",
       "    }\n",
       "</style>\n",
       "<table border=\"1\" class=\"dataframe\">\n",
       "  <thead>\n",
       "    <tr style=\"text-align: right;\">\n",
       "      <th></th>\n",
       "      <th>customer_id</th>\n",
       "      <th>multiple_lines</th>\n",
       "    </tr>\n",
       "  </thead>\n",
       "  <tbody>\n",
       "    <tr>\n",
       "      <th>0</th>\n",
       "      <td>5575-GNVDE</td>\n",
       "      <td>No</td>\n",
       "    </tr>\n",
       "    <tr>\n",
       "      <th>1</th>\n",
       "      <td>3668-QPYBK</td>\n",
       "      <td>No</td>\n",
       "    </tr>\n",
       "    <tr>\n",
       "      <th>2</th>\n",
       "      <td>9237-HQITU</td>\n",
       "      <td>No</td>\n",
       "    </tr>\n",
       "    <tr>\n",
       "      <th>3</th>\n",
       "      <td>9305-CDSKC</td>\n",
       "      <td>Yes</td>\n",
       "    </tr>\n",
       "    <tr>\n",
       "      <th>4</th>\n",
       "      <td>1452-KIOVK</td>\n",
       "      <td>Yes</td>\n",
       "    </tr>\n",
       "  </tbody>\n",
       "</table>\n",
       "</div>"
      ],
      "text/plain": [
       "  customer_id multiple_lines\n",
       "0  5575-GNVDE             No\n",
       "1  3668-QPYBK             No\n",
       "2  9237-HQITU             No\n",
       "3  9305-CDSKC            Yes\n",
       "4  1452-KIOVK            Yes"
      ]
     },
     "metadata": {},
     "output_type": "display_data"
    },
    {
     "name": "stdout",
     "output_type": "stream",
     "text": [
      "************************************************************************************************************************\n",
      "Tail\n"
     ]
    },
    {
     "data": {
      "text/html": [
       "<div>\n",
       "<style scoped>\n",
       "    .dataframe tbody tr th:only-of-type {\n",
       "        vertical-align: middle;\n",
       "    }\n",
       "\n",
       "    .dataframe tbody tr th {\n",
       "        vertical-align: top;\n",
       "    }\n",
       "\n",
       "    .dataframe thead th {\n",
       "        text-align: right;\n",
       "    }\n",
       "</style>\n",
       "<table border=\"1\" class=\"dataframe\">\n",
       "  <thead>\n",
       "    <tr style=\"text-align: right;\">\n",
       "      <th></th>\n",
       "      <th>customer_id</th>\n",
       "      <th>multiple_lines</th>\n",
       "    </tr>\n",
       "  </thead>\n",
       "  <tbody>\n",
       "    <tr>\n",
       "      <th>6356</th>\n",
       "      <td>2569-WGERO</td>\n",
       "      <td>No</td>\n",
       "    </tr>\n",
       "    <tr>\n",
       "      <th>6357</th>\n",
       "      <td>6840-RESVB</td>\n",
       "      <td>Yes</td>\n",
       "    </tr>\n",
       "    <tr>\n",
       "      <th>6358</th>\n",
       "      <td>2234-XADUH</td>\n",
       "      <td>Yes</td>\n",
       "    </tr>\n",
       "    <tr>\n",
       "      <th>6359</th>\n",
       "      <td>8361-LTMKD</td>\n",
       "      <td>Yes</td>\n",
       "    </tr>\n",
       "    <tr>\n",
       "      <th>6360</th>\n",
       "      <td>3186-AJIEK</td>\n",
       "      <td>No</td>\n",
       "    </tr>\n",
       "  </tbody>\n",
       "</table>\n",
       "</div>"
      ],
      "text/plain": [
       "     customer_id multiple_lines\n",
       "6356  2569-WGERO             No\n",
       "6357  6840-RESVB            Yes\n",
       "6358  2234-XADUH            Yes\n",
       "6359  8361-LTMKD            Yes\n",
       "6360  3186-AJIEK             No"
      ]
     },
     "metadata": {},
     "output_type": "display_data"
    },
    {
     "name": "stdout",
     "output_type": "stream",
     "text": [
      "************************************************************************************************************************\n",
      "Info\n",
      "<class 'pandas.core.frame.DataFrame'>\n",
      "RangeIndex: 6361 entries, 0 to 6360\n",
      "Data columns (total 2 columns):\n",
      " #   Column          Non-Null Count  Dtype \n",
      "---  ------          --------------  ----- \n",
      " 0   customer_id     6361 non-null   object\n",
      " 1   multiple_lines  6361 non-null   object\n",
      "dtypes: object(2)\n",
      "memory usage: 99.5+ KB\n",
      "************************************************************************************************************************\n",
      "Describe\n"
     ]
    },
    {
     "data": {
      "text/html": [
       "<div>\n",
       "<style scoped>\n",
       "    .dataframe tbody tr th:only-of-type {\n",
       "        vertical-align: middle;\n",
       "    }\n",
       "\n",
       "    .dataframe tbody tr th {\n",
       "        vertical-align: top;\n",
       "    }\n",
       "\n",
       "    .dataframe thead th {\n",
       "        text-align: right;\n",
       "    }\n",
       "</style>\n",
       "<table border=\"1\" class=\"dataframe\">\n",
       "  <thead>\n",
       "    <tr style=\"text-align: right;\">\n",
       "      <th></th>\n",
       "      <th>customer_id</th>\n",
       "      <th>multiple_lines</th>\n",
       "    </tr>\n",
       "  </thead>\n",
       "  <tbody>\n",
       "    <tr>\n",
       "      <th>count</th>\n",
       "      <td>6361</td>\n",
       "      <td>6361</td>\n",
       "    </tr>\n",
       "    <tr>\n",
       "      <th>unique</th>\n",
       "      <td>6361</td>\n",
       "      <td>2</td>\n",
       "    </tr>\n",
       "    <tr>\n",
       "      <th>top</th>\n",
       "      <td>5575-GNVDE</td>\n",
       "      <td>No</td>\n",
       "    </tr>\n",
       "    <tr>\n",
       "      <th>freq</th>\n",
       "      <td>1</td>\n",
       "      <td>3390</td>\n",
       "    </tr>\n",
       "  </tbody>\n",
       "</table>\n",
       "</div>"
      ],
      "text/plain": [
       "       customer_id multiple_lines\n",
       "count         6361           6361\n",
       "unique        6361              2\n",
       "top     5575-GNVDE             No\n",
       "freq             1           3390"
      ]
     },
     "metadata": {},
     "output_type": "display_data"
    }
   ],
   "source": [
    "base_info(phone)"
   ]
  },
  {
   "cell_type": "markdown",
   "metadata": {},
   "source": [
    "phone - содержит информацию о пользователях телефоном и подключена ли услуга нескольких линий"
   ]
  },
  {
   "cell_type": "code",
   "execution_count": 114,
   "metadata": {},
   "outputs": [
    {
     "data": {
      "text/plain": [
       "0"
      ]
     },
     "execution_count": 114,
     "metadata": {},
     "output_type": "execute_result"
    }
   ],
   "source": [
    "len(phone[~phone['customer_id'].isin(contract['customer_id'])])"
   ]
  },
  {
   "cell_type": "markdown",
   "metadata": {},
   "source": [
    "### Вывод:\n"
   ]
  },
  {
   "cell_type": "markdown",
   "metadata": {},
   "source": [
    "В данном разделе мы провели загрузку и предварительное ознакомление с данными. Данные представлены в виде 4х файлов формата *.csv. \n",
    "Переименовали столбцы в более удобный формат для работы. Датафреймам присвоили имена соответственно именам файлов из которых загружали\n",
    "\n",
    "`contract` Данные предоставлены с 2014-02-01 по . 7043 строки  по 8 признаков. Пропуски и дубликаты не найдены. Обнаружены несоответствия типов данных. Из двух столбцов даты начала контракта и его окончания необходимо будет сформировать длительность пользования услугами, и выделить целевую переменную - факт окончания контракта.\n",
    "\n",
    "`internet` 5517 клиентов с 8-ю признаками. Преобразования не требуются.\n",
    "\n",
    "`personal` 7043 строки с 5-ю признаками. Признак `senior_citizen` кодирован 1/0 вместо обычного yes/no\n",
    "\n",
    "`phone` 6361 строка с 2-я признаками\n",
    "\n",
    "Во всех таблица первичным ключом является `customer_id` по нему будем производить объединение таблиц."
   ]
  },
  {
   "cell_type": "markdown",
   "metadata": {},
   "source": [
    "<div class=\"alert alert-success\">\n",
    "<b>✔️ Комментарий тимлида:</b> Все хорошо, данные готовы для объединения таблиц!\n",
    "    \n",
    "</div>"
   ]
  },
  {
   "cell_type": "markdown",
   "metadata": {},
   "source": [
    "<div class=\"alert alert-success\">\n",
    "<b>✔️ Комментарий тимлида:</b> План работ принят, можно приступать к основному проекту. \n",
    "    \n",
    "Пожалуйста сохрани наши с тобой комментарии, а проект продолжай делать в этом же документе, успехов!\n",
    "    \n",
    "</div>"
   ]
  },
  {
   "attachments": {},
   "cell_type": "markdown",
   "metadata": {},
   "source": [
    "## Предварительная обработка данных"
   ]
  },
  {
   "attachments": {},
   "cell_type": "markdown",
   "metadata": {},
   "source": [
    "Сведем все данные в единый датафрейм"
   ]
  },
  {
   "attachments": {},
   "cell_type": "markdown",
   "metadata": {},
   "source": [
    "Перед сведение добавим индикаторные столбцы наличия услуг интернет и телефона"
   ]
  },
  {
   "cell_type": "code",
   "execution_count": 115,
   "metadata": {},
   "outputs": [],
   "source": [
    "df = contract.merge(personal, how='left', on='customer_id')\n",
    "df = df.merge(internet, how='left', on='customer_id')\n",
    "df = df.merge(phone, how='left', on='customer_id')"
   ]
  },
  {
   "cell_type": "code",
   "execution_count": 116,
   "metadata": {},
   "outputs": [
    {
     "data": {
      "text/html": [
       "<style type=\"text/css\">\n",
       "#T_1027e_row0_col0, #T_1027e_row0_col1, #T_1027e_row1_col0, #T_1027e_row1_col1, #T_1027e_row2_col0, #T_1027e_row2_col1, #T_1027e_row3_col0, #T_1027e_row3_col1, #T_1027e_row4_col0, #T_1027e_row4_col1, #T_1027e_row5_col0, #T_1027e_row5_col1, #T_1027e_row6_col0, #T_1027e_row6_col1, #T_1027e_row7_col0, #T_1027e_row7_col1, #T_1027e_row8_col0, #T_1027e_row8_col1, #T_1027e_row9_col0, #T_1027e_row9_col1, #T_1027e_row10_col0, #T_1027e_row10_col1, #T_1027e_row11_col0, #T_1027e_row11_col1 {\n",
       "  background-color: #3b4cc0;\n",
       "  color: #f1f1f1;\n",
       "}\n",
       "#T_1027e_row12_col0, #T_1027e_row12_col1, #T_1027e_row13_col0, #T_1027e_row13_col1, #T_1027e_row14_col0, #T_1027e_row14_col1, #T_1027e_row15_col0, #T_1027e_row15_col1, #T_1027e_row16_col0, #T_1027e_row16_col1, #T_1027e_row17_col0, #T_1027e_row17_col1, #T_1027e_row18_col0, #T_1027e_row18_col1 {\n",
       "  background-color: #b40426;\n",
       "  color: #f1f1f1;\n",
       "}\n",
       "#T_1027e_row19_col0, #T_1027e_row19_col1 {\n",
       "  background-color: #cedaeb;\n",
       "  color: #000000;\n",
       "}\n",
       "</style>\n",
       "<table id=\"T_1027e_\">\n",
       "  <thead>\n",
       "    <tr>\n",
       "      <th class=\"blank level0\" >&nbsp;</th>\n",
       "      <th class=\"col_heading level0 col0\" >NaNs, %</th>\n",
       "      <th class=\"col_heading level0 col1\" >NaNs, qty</th>\n",
       "    </tr>\n",
       "  </thead>\n",
       "  <tbody>\n",
       "    <tr>\n",
       "      <th id=\"T_1027e_level0_row0\" class=\"row_heading level0 row0\" >customer_id</th>\n",
       "      <td id=\"T_1027e_row0_col0\" class=\"data row0 col0\" >0.00</td>\n",
       "      <td id=\"T_1027e_row0_col1\" class=\"data row0 col1\" >0.00</td>\n",
       "    </tr>\n",
       "    <tr>\n",
       "      <th id=\"T_1027e_level0_row1\" class=\"row_heading level0 row1\" >begin_date</th>\n",
       "      <td id=\"T_1027e_row1_col0\" class=\"data row1 col0\" >0.00</td>\n",
       "      <td id=\"T_1027e_row1_col1\" class=\"data row1 col1\" >0.00</td>\n",
       "    </tr>\n",
       "    <tr>\n",
       "      <th id=\"T_1027e_level0_row2\" class=\"row_heading level0 row2\" >end_date</th>\n",
       "      <td id=\"T_1027e_row2_col0\" class=\"data row2 col0\" >0.00</td>\n",
       "      <td id=\"T_1027e_row2_col1\" class=\"data row2 col1\" >0.00</td>\n",
       "    </tr>\n",
       "    <tr>\n",
       "      <th id=\"T_1027e_level0_row3\" class=\"row_heading level0 row3\" >type</th>\n",
       "      <td id=\"T_1027e_row3_col0\" class=\"data row3 col0\" >0.00</td>\n",
       "      <td id=\"T_1027e_row3_col1\" class=\"data row3 col1\" >0.00</td>\n",
       "    </tr>\n",
       "    <tr>\n",
       "      <th id=\"T_1027e_level0_row4\" class=\"row_heading level0 row4\" >paperless_billing</th>\n",
       "      <td id=\"T_1027e_row4_col0\" class=\"data row4 col0\" >0.00</td>\n",
       "      <td id=\"T_1027e_row4_col1\" class=\"data row4 col1\" >0.00</td>\n",
       "    </tr>\n",
       "    <tr>\n",
       "      <th id=\"T_1027e_level0_row5\" class=\"row_heading level0 row5\" >payment_method</th>\n",
       "      <td id=\"T_1027e_row5_col0\" class=\"data row5 col0\" >0.00</td>\n",
       "      <td id=\"T_1027e_row5_col1\" class=\"data row5 col1\" >0.00</td>\n",
       "    </tr>\n",
       "    <tr>\n",
       "      <th id=\"T_1027e_level0_row6\" class=\"row_heading level0 row6\" >monthly_charges</th>\n",
       "      <td id=\"T_1027e_row6_col0\" class=\"data row6 col0\" >0.00</td>\n",
       "      <td id=\"T_1027e_row6_col1\" class=\"data row6 col1\" >0.00</td>\n",
       "    </tr>\n",
       "    <tr>\n",
       "      <th id=\"T_1027e_level0_row7\" class=\"row_heading level0 row7\" >total_charges</th>\n",
       "      <td id=\"T_1027e_row7_col0\" class=\"data row7 col0\" >0.00</td>\n",
       "      <td id=\"T_1027e_row7_col1\" class=\"data row7 col1\" >0.00</td>\n",
       "    </tr>\n",
       "    <tr>\n",
       "      <th id=\"T_1027e_level0_row8\" class=\"row_heading level0 row8\" >gender</th>\n",
       "      <td id=\"T_1027e_row8_col0\" class=\"data row8 col0\" >0.00</td>\n",
       "      <td id=\"T_1027e_row8_col1\" class=\"data row8 col1\" >0.00</td>\n",
       "    </tr>\n",
       "    <tr>\n",
       "      <th id=\"T_1027e_level0_row9\" class=\"row_heading level0 row9\" >senior_citizen</th>\n",
       "      <td id=\"T_1027e_row9_col0\" class=\"data row9 col0\" >0.00</td>\n",
       "      <td id=\"T_1027e_row9_col1\" class=\"data row9 col1\" >0.00</td>\n",
       "    </tr>\n",
       "    <tr>\n",
       "      <th id=\"T_1027e_level0_row10\" class=\"row_heading level0 row10\" >partner</th>\n",
       "      <td id=\"T_1027e_row10_col0\" class=\"data row10 col0\" >0.00</td>\n",
       "      <td id=\"T_1027e_row10_col1\" class=\"data row10 col1\" >0.00</td>\n",
       "    </tr>\n",
       "    <tr>\n",
       "      <th id=\"T_1027e_level0_row11\" class=\"row_heading level0 row11\" >dependents</th>\n",
       "      <td id=\"T_1027e_row11_col0\" class=\"data row11 col0\" >0.00</td>\n",
       "      <td id=\"T_1027e_row11_col1\" class=\"data row11 col1\" >0.00</td>\n",
       "    </tr>\n",
       "    <tr>\n",
       "      <th id=\"T_1027e_level0_row12\" class=\"row_heading level0 row12\" >internet_service</th>\n",
       "      <td id=\"T_1027e_row12_col0\" class=\"data row12 col0\" >21.67</td>\n",
       "      <td id=\"T_1027e_row12_col1\" class=\"data row12 col1\" >1526.00</td>\n",
       "    </tr>\n",
       "    <tr>\n",
       "      <th id=\"T_1027e_level0_row13\" class=\"row_heading level0 row13\" >online_security</th>\n",
       "      <td id=\"T_1027e_row13_col0\" class=\"data row13 col0\" >21.67</td>\n",
       "      <td id=\"T_1027e_row13_col1\" class=\"data row13 col1\" >1526.00</td>\n",
       "    </tr>\n",
       "    <tr>\n",
       "      <th id=\"T_1027e_level0_row14\" class=\"row_heading level0 row14\" >online_backup</th>\n",
       "      <td id=\"T_1027e_row14_col0\" class=\"data row14 col0\" >21.67</td>\n",
       "      <td id=\"T_1027e_row14_col1\" class=\"data row14 col1\" >1526.00</td>\n",
       "    </tr>\n",
       "    <tr>\n",
       "      <th id=\"T_1027e_level0_row15\" class=\"row_heading level0 row15\" >device_protection</th>\n",
       "      <td id=\"T_1027e_row15_col0\" class=\"data row15 col0\" >21.67</td>\n",
       "      <td id=\"T_1027e_row15_col1\" class=\"data row15 col1\" >1526.00</td>\n",
       "    </tr>\n",
       "    <tr>\n",
       "      <th id=\"T_1027e_level0_row16\" class=\"row_heading level0 row16\" >tech_support</th>\n",
       "      <td id=\"T_1027e_row16_col0\" class=\"data row16 col0\" >21.67</td>\n",
       "      <td id=\"T_1027e_row16_col1\" class=\"data row16 col1\" >1526.00</td>\n",
       "    </tr>\n",
       "    <tr>\n",
       "      <th id=\"T_1027e_level0_row17\" class=\"row_heading level0 row17\" >streaming_tv</th>\n",
       "      <td id=\"T_1027e_row17_col0\" class=\"data row17 col0\" >21.67</td>\n",
       "      <td id=\"T_1027e_row17_col1\" class=\"data row17 col1\" >1526.00</td>\n",
       "    </tr>\n",
       "    <tr>\n",
       "      <th id=\"T_1027e_level0_row18\" class=\"row_heading level0 row18\" >streaming_movies</th>\n",
       "      <td id=\"T_1027e_row18_col0\" class=\"data row18 col0\" >21.67</td>\n",
       "      <td id=\"T_1027e_row18_col1\" class=\"data row18 col1\" >1526.00</td>\n",
       "    </tr>\n",
       "    <tr>\n",
       "      <th id=\"T_1027e_level0_row19\" class=\"row_heading level0 row19\" >multiple_lines</th>\n",
       "      <td id=\"T_1027e_row19_col0\" class=\"data row19 col0\" >9.68</td>\n",
       "      <td id=\"T_1027e_row19_col1\" class=\"data row19 col1\" >682.00</td>\n",
       "    </tr>\n",
       "  </tbody>\n",
       "</table>\n"
      ],
      "text/plain": [
       "<pandas.io.formats.style.Styler at 0x266980b07f0>"
      ]
     },
     "execution_count": 116,
     "metadata": {},
     "output_type": "execute_result"
    }
   ],
   "source": [
    "pd.DataFrame({'NaNs, %': round((df.isna().mean()*100),2), \n",
    "              'NaNs, qty': df.isna().sum()}).style.format('{:.2f}').background_gradient('coolwarm')"
   ]
  },
  {
   "attachments": {},
   "cell_type": "markdown",
   "metadata": {},
   "source": [
    "Пропуски образовались при соединении таблиц заменим на 'No'"
   ]
  },
  {
   "cell_type": "code",
   "execution_count": 117,
   "metadata": {},
   "outputs": [],
   "source": [
    "df = df.fillna('No')"
   ]
  },
  {
   "cell_type": "code",
   "execution_count": 118,
   "metadata": {},
   "outputs": [
    {
     "name": "stdout",
     "output_type": "stream",
     "text": [
      "<class 'pandas.core.frame.DataFrame'>\n",
      "Int64Index: 7043 entries, 0 to 7042\n",
      "Data columns (total 20 columns):\n",
      " #   Column             Non-Null Count  Dtype  \n",
      "---  ------             --------------  -----  \n",
      " 0   customer_id        7043 non-null   object \n",
      " 1   begin_date         7043 non-null   object \n",
      " 2   end_date           7043 non-null   object \n",
      " 3   type               7043 non-null   object \n",
      " 4   paperless_billing  7043 non-null   object \n",
      " 5   payment_method     7043 non-null   object \n",
      " 6   monthly_charges    7043 non-null   float64\n",
      " 7   total_charges      7043 non-null   object \n",
      " 8   gender             7043 non-null   object \n",
      " 9   senior_citizen     7043 non-null   int64  \n",
      " 10  partner            7043 non-null   object \n",
      " 11  dependents         7043 non-null   object \n",
      " 12  internet_service   7043 non-null   object \n",
      " 13  online_security    7043 non-null   object \n",
      " 14  online_backup      7043 non-null   object \n",
      " 15  device_protection  7043 non-null   object \n",
      " 16  tech_support       7043 non-null   object \n",
      " 17  streaming_tv       7043 non-null   object \n",
      " 18  streaming_movies   7043 non-null   object \n",
      " 19  multiple_lines     7043 non-null   object \n",
      "dtypes: float64(1), int64(1), object(18)\n",
      "memory usage: 1.1+ MB\n"
     ]
    }
   ],
   "source": [
    "df.info()"
   ]
  },
  {
   "attachments": {},
   "cell_type": "markdown",
   "metadata": {},
   "source": [
    "Преобрзуем в формат даты времени"
   ]
  },
  {
   "cell_type": "code",
   "execution_count": 119,
   "metadata": {},
   "outputs": [],
   "source": [
    "df['begin_date'] = pd.to_datetime(df['begin_date'])"
   ]
  },
  {
   "attachments": {},
   "cell_type": "markdown",
   "metadata": {},
   "source": [
    "При предварительном исследовании нам попадались даты с днем равным 1 проверим, если так следовательно данные представлены с разбивкой по месяцам"
   ]
  },
  {
   "cell_type": "code",
   "execution_count": 120,
   "metadata": {},
   "outputs": [
    {
     "data": {
      "text/plain": [
       "array([1], dtype=int64)"
      ]
     },
     "execution_count": 120,
     "metadata": {},
     "output_type": "execute_result"
    }
   ],
   "source": [
    "df['begin_date'].dt.day.unique()"
   ]
  },
  {
   "cell_type": "code",
   "execution_count": 121,
   "metadata": {},
   "outputs": [
    {
     "data": {
      "text/plain": [
       "array(['No', '2019-12-01 00:00:00', '2019-11-01 00:00:00',\n",
       "       '2019-10-01 00:00:00', '2020-01-01 00:00:00'], dtype=object)"
      ]
     },
     "execution_count": 121,
     "metadata": {},
     "output_type": "execute_result"
    }
   ],
   "source": [
    "df['end_date'].unique()"
   ]
  },
  {
   "attachments": {},
   "cell_type": "markdown",
   "metadata": {},
   "source": [
    "Клиенты начали уходить с 2019-10-01. Странно что до этого за такой долгий срок работы из компании не ушел ни один клиент."
   ]
  },
  {
   "attachments": {},
   "cell_type": "markdown",
   "metadata": {},
   "source": [
    "Создадим нашу целевую переменную"
   ]
  },
  {
   "cell_type": "code",
   "execution_count": 122,
   "metadata": {},
   "outputs": [],
   "source": [
    "df['target'] = np.where((df['end_date'] != 'No'), 1, 0)"
   ]
  },
  {
   "cell_type": "code",
   "execution_count": 123,
   "metadata": {},
   "outputs": [
    {
     "data": {
      "text/plain": [
       "Timestamp('2020-01-01 00:00:00')"
      ]
     },
     "execution_count": 123,
     "metadata": {},
     "output_type": "execute_result"
    }
   ],
   "source": [
    "df['end_date'] = pd.to_datetime(df['end_date'], errors ='coerce')\n",
    "df['end_date'].max()"
   ]
  },
  {
   "attachments": {},
   "cell_type": "markdown",
   "metadata": {},
   "source": [
    "Максимальная дата растожения контракта отличается от даты выгрузки `2020-02-01`, поэтому можем заменить все `NaT` на нее. При исследовании данных будем учитывать данную замену"
   ]
  },
  {
   "cell_type": "code",
   "execution_count": 124,
   "metadata": {},
   "outputs": [],
   "source": [
    "df['end_date'] = df['end_date'].fillna(pd.Timestamp('2020-02-01'))"
   ]
  },
  {
   "attachments": {},
   "cell_type": "markdown",
   "metadata": {},
   "source": [
    "Теперь добавим столбец с длительностью контракта до момента расторжения или если клиент не ушел на дату выгрузки"
   ]
  },
  {
   "cell_type": "code",
   "execution_count": 125,
   "metadata": {},
   "outputs": [],
   "source": [
    "df['term'] = (df['end_date'].dt.to_period('M') - df['begin_date'].dt.to_period('M')).apply(lambda x: x.n)"
   ]
  },
  {
   "cell_type": "code",
   "execution_count": 126,
   "metadata": {},
   "outputs": [
    {
     "data": {
      "text/html": [
       "<div>\n",
       "<style scoped>\n",
       "    .dataframe tbody tr th:only-of-type {\n",
       "        vertical-align: middle;\n",
       "    }\n",
       "\n",
       "    .dataframe tbody tr th {\n",
       "        vertical-align: top;\n",
       "    }\n",
       "\n",
       "    .dataframe thead th {\n",
       "        text-align: right;\n",
       "    }\n",
       "</style>\n",
       "<table border=\"1\" class=\"dataframe\">\n",
       "  <thead>\n",
       "    <tr style=\"text-align: right;\">\n",
       "      <th></th>\n",
       "      <th>customer_id</th>\n",
       "      <th>begin_date</th>\n",
       "      <th>end_date</th>\n",
       "      <th>type</th>\n",
       "      <th>paperless_billing</th>\n",
       "      <th>payment_method</th>\n",
       "      <th>monthly_charges</th>\n",
       "      <th>total_charges</th>\n",
       "      <th>gender</th>\n",
       "      <th>senior_citizen</th>\n",
       "      <th>...</th>\n",
       "      <th>internet_service</th>\n",
       "      <th>online_security</th>\n",
       "      <th>online_backup</th>\n",
       "      <th>device_protection</th>\n",
       "      <th>tech_support</th>\n",
       "      <th>streaming_tv</th>\n",
       "      <th>streaming_movies</th>\n",
       "      <th>multiple_lines</th>\n",
       "      <th>target</th>\n",
       "      <th>term</th>\n",
       "    </tr>\n",
       "  </thead>\n",
       "  <tbody>\n",
       "    <tr>\n",
       "      <th>0</th>\n",
       "      <td>7590-VHVEG</td>\n",
       "      <td>2020-01-01</td>\n",
       "      <td>2020-02-01</td>\n",
       "      <td>Month-to-month</td>\n",
       "      <td>Yes</td>\n",
       "      <td>Electronic check</td>\n",
       "      <td>29.85</td>\n",
       "      <td>29.85</td>\n",
       "      <td>Female</td>\n",
       "      <td>0</td>\n",
       "      <td>...</td>\n",
       "      <td>DSL</td>\n",
       "      <td>No</td>\n",
       "      <td>Yes</td>\n",
       "      <td>No</td>\n",
       "      <td>No</td>\n",
       "      <td>No</td>\n",
       "      <td>No</td>\n",
       "      <td>No</td>\n",
       "      <td>0</td>\n",
       "      <td>1</td>\n",
       "    </tr>\n",
       "    <tr>\n",
       "      <th>1</th>\n",
       "      <td>5575-GNVDE</td>\n",
       "      <td>2017-04-01</td>\n",
       "      <td>2020-02-01</td>\n",
       "      <td>One year</td>\n",
       "      <td>No</td>\n",
       "      <td>Mailed check</td>\n",
       "      <td>56.95</td>\n",
       "      <td>1889.5</td>\n",
       "      <td>Male</td>\n",
       "      <td>0</td>\n",
       "      <td>...</td>\n",
       "      <td>DSL</td>\n",
       "      <td>Yes</td>\n",
       "      <td>No</td>\n",
       "      <td>Yes</td>\n",
       "      <td>No</td>\n",
       "      <td>No</td>\n",
       "      <td>No</td>\n",
       "      <td>No</td>\n",
       "      <td>0</td>\n",
       "      <td>34</td>\n",
       "    </tr>\n",
       "    <tr>\n",
       "      <th>2</th>\n",
       "      <td>3668-QPYBK</td>\n",
       "      <td>2019-10-01</td>\n",
       "      <td>2019-12-01</td>\n",
       "      <td>Month-to-month</td>\n",
       "      <td>Yes</td>\n",
       "      <td>Mailed check</td>\n",
       "      <td>53.85</td>\n",
       "      <td>108.15</td>\n",
       "      <td>Male</td>\n",
       "      <td>0</td>\n",
       "      <td>...</td>\n",
       "      <td>DSL</td>\n",
       "      <td>Yes</td>\n",
       "      <td>Yes</td>\n",
       "      <td>No</td>\n",
       "      <td>No</td>\n",
       "      <td>No</td>\n",
       "      <td>No</td>\n",
       "      <td>No</td>\n",
       "      <td>1</td>\n",
       "      <td>2</td>\n",
       "    </tr>\n",
       "    <tr>\n",
       "      <th>3</th>\n",
       "      <td>7795-CFOCW</td>\n",
       "      <td>2016-05-01</td>\n",
       "      <td>2020-02-01</td>\n",
       "      <td>One year</td>\n",
       "      <td>No</td>\n",
       "      <td>Bank transfer (automatic)</td>\n",
       "      <td>42.30</td>\n",
       "      <td>1840.75</td>\n",
       "      <td>Male</td>\n",
       "      <td>0</td>\n",
       "      <td>...</td>\n",
       "      <td>DSL</td>\n",
       "      <td>Yes</td>\n",
       "      <td>No</td>\n",
       "      <td>Yes</td>\n",
       "      <td>Yes</td>\n",
       "      <td>No</td>\n",
       "      <td>No</td>\n",
       "      <td>No</td>\n",
       "      <td>0</td>\n",
       "      <td>45</td>\n",
       "    </tr>\n",
       "    <tr>\n",
       "      <th>4</th>\n",
       "      <td>9237-HQITU</td>\n",
       "      <td>2019-09-01</td>\n",
       "      <td>2019-11-01</td>\n",
       "      <td>Month-to-month</td>\n",
       "      <td>Yes</td>\n",
       "      <td>Electronic check</td>\n",
       "      <td>70.70</td>\n",
       "      <td>151.65</td>\n",
       "      <td>Female</td>\n",
       "      <td>0</td>\n",
       "      <td>...</td>\n",
       "      <td>Fiber optic</td>\n",
       "      <td>No</td>\n",
       "      <td>No</td>\n",
       "      <td>No</td>\n",
       "      <td>No</td>\n",
       "      <td>No</td>\n",
       "      <td>No</td>\n",
       "      <td>No</td>\n",
       "      <td>1</td>\n",
       "      <td>2</td>\n",
       "    </tr>\n",
       "  </tbody>\n",
       "</table>\n",
       "<p>5 rows × 22 columns</p>\n",
       "</div>"
      ],
      "text/plain": [
       "  customer_id begin_date   end_date            type paperless_billing  \\\n",
       "0  7590-VHVEG 2020-01-01 2020-02-01  Month-to-month               Yes   \n",
       "1  5575-GNVDE 2017-04-01 2020-02-01        One year                No   \n",
       "2  3668-QPYBK 2019-10-01 2019-12-01  Month-to-month               Yes   \n",
       "3  7795-CFOCW 2016-05-01 2020-02-01        One year                No   \n",
       "4  9237-HQITU 2019-09-01 2019-11-01  Month-to-month               Yes   \n",
       "\n",
       "              payment_method  monthly_charges total_charges  gender  \\\n",
       "0           Electronic check            29.85         29.85  Female   \n",
       "1               Mailed check            56.95        1889.5    Male   \n",
       "2               Mailed check            53.85        108.15    Male   \n",
       "3  Bank transfer (automatic)            42.30       1840.75    Male   \n",
       "4           Electronic check            70.70        151.65  Female   \n",
       "\n",
       "   senior_citizen  ... internet_service online_security online_backup  \\\n",
       "0               0  ...              DSL              No           Yes   \n",
       "1               0  ...              DSL             Yes            No   \n",
       "2               0  ...              DSL             Yes           Yes   \n",
       "3               0  ...              DSL             Yes            No   \n",
       "4               0  ...      Fiber optic              No            No   \n",
       "\n",
       "  device_protection tech_support streaming_tv streaming_movies multiple_lines  \\\n",
       "0                No           No           No               No             No   \n",
       "1               Yes           No           No               No             No   \n",
       "2                No           No           No               No             No   \n",
       "3               Yes          Yes           No               No             No   \n",
       "4                No           No           No               No             No   \n",
       "\n",
       "  target term  \n",
       "0      0    1  \n",
       "1      0   34  \n",
       "2      1    2  \n",
       "3      0   45  \n",
       "4      1    2  \n",
       "\n",
       "[5 rows x 22 columns]"
      ]
     },
     "execution_count": 126,
     "metadata": {},
     "output_type": "execute_result"
    }
   ],
   "source": [
    "df.head()"
   ]
  },
  {
   "cell_type": "code",
   "execution_count": 127,
   "metadata": {},
   "outputs": [
    {
     "data": {
      "text/plain": [
       "936           \n",
       "3826          \n",
       "4380          \n",
       "753           \n",
       "5218          \n",
       "3331          \n",
       "6754          \n",
       "6670          \n",
       "1340          \n",
       "488           \n",
       "1082          \n",
       "105      100.2\n",
       "4459    100.25\n",
       "1723    100.35\n",
       "2124     100.4\n",
       "Name: total_charges, dtype: object"
      ]
     },
     "execution_count": 127,
     "metadata": {},
     "output_type": "execute_result"
    }
   ],
   "source": [
    "df.total_charges.sort_values().head(15)"
   ]
  },
  {
   "attachments": {},
   "cell_type": "markdown",
   "metadata": {},
   "source": [
    "Пропуски заполнены пробелами, заменим на 0 и преобразуем"
   ]
  },
  {
   "cell_type": "code",
   "execution_count": 128,
   "metadata": {},
   "outputs": [],
   "source": [
    "df['total_charges'] = df['total_charges'].replace(' ', 0).astype(float)"
   ]
  },
  {
   "attachments": {},
   "cell_type": "markdown",
   "metadata": {},
   "source": [
    "Разделим ID на текстовую и числовую часть"
   ]
  },
  {
   "cell_type": "code",
   "execution_count": 129,
   "metadata": {},
   "outputs": [],
   "source": [
    "df[['num_id', 'text_id']] = df['customer_id'].str.split('-', 1, expand= True)"
   ]
  },
  {
   "attachments": {},
   "cell_type": "markdown",
   "metadata": {},
   "source": [
    "Добавим также столбец с разницей"
   ]
  },
  {
   "cell_type": "code",
   "execution_count": 130,
   "metadata": {},
   "outputs": [],
   "source": [
    "dfs = df.query('term == 2').copy()"
   ]
  },
  {
   "cell_type": "code",
   "execution_count": 131,
   "metadata": {},
   "outputs": [
    {
     "data": {
      "text/plain": [
       "2       108.15\n",
       "4       151.65\n",
       "31      181.65\n",
       "46       97.00\n",
       "47      144.15\n",
       "         ...  \n",
       "6726    154.85\n",
       "6796    113.55\n",
       "6848    147.80\n",
       "6854     32.70\n",
       "7030     39.25\n",
       "Name: total_charges, Length: 238, dtype: float64"
      ]
     },
     "execution_count": 131,
     "metadata": {},
     "output_type": "execute_result"
    }
   ],
   "source": [
    "dfs['total_charges']"
   ]
  },
  {
   "cell_type": "code",
   "execution_count": 132,
   "metadata": {},
   "outputs": [
    {
     "data": {
      "text/html": [
       "<div>\n",
       "<style scoped>\n",
       "    .dataframe tbody tr th:only-of-type {\n",
       "        vertical-align: middle;\n",
       "    }\n",
       "\n",
       "    .dataframe tbody tr th {\n",
       "        vertical-align: top;\n",
       "    }\n",
       "\n",
       "    .dataframe thead th {\n",
       "        text-align: right;\n",
       "    }\n",
       "</style>\n",
       "<table border=\"1\" class=\"dataframe\">\n",
       "  <thead>\n",
       "    <tr style=\"text-align: right;\">\n",
       "      <th></th>\n",
       "      <th>customer_id</th>\n",
       "      <th>begin_date</th>\n",
       "      <th>end_date</th>\n",
       "      <th>type</th>\n",
       "      <th>paperless_billing</th>\n",
       "      <th>payment_method</th>\n",
       "      <th>monthly_charges</th>\n",
       "      <th>total_charges</th>\n",
       "      <th>gender</th>\n",
       "      <th>senior_citizen</th>\n",
       "      <th>...</th>\n",
       "      <th>online_backup</th>\n",
       "      <th>device_protection</th>\n",
       "      <th>tech_support</th>\n",
       "      <th>streaming_tv</th>\n",
       "      <th>streaming_movies</th>\n",
       "      <th>multiple_lines</th>\n",
       "      <th>target</th>\n",
       "      <th>term</th>\n",
       "      <th>num_id</th>\n",
       "      <th>text_id</th>\n",
       "    </tr>\n",
       "  </thead>\n",
       "  <tbody>\n",
       "    <tr>\n",
       "      <th>2</th>\n",
       "      <td>3668-QPYBK</td>\n",
       "      <td>2019-10-01</td>\n",
       "      <td>2019-12-01</td>\n",
       "      <td>Month-to-month</td>\n",
       "      <td>Yes</td>\n",
       "      <td>Mailed check</td>\n",
       "      <td>53.85</td>\n",
       "      <td>108.15</td>\n",
       "      <td>Male</td>\n",
       "      <td>0</td>\n",
       "      <td>...</td>\n",
       "      <td>Yes</td>\n",
       "      <td>No</td>\n",
       "      <td>No</td>\n",
       "      <td>No</td>\n",
       "      <td>No</td>\n",
       "      <td>No</td>\n",
       "      <td>1</td>\n",
       "      <td>2</td>\n",
       "      <td>3668</td>\n",
       "      <td>QPYBK</td>\n",
       "    </tr>\n",
       "    <tr>\n",
       "      <th>4</th>\n",
       "      <td>9237-HQITU</td>\n",
       "      <td>2019-09-01</td>\n",
       "      <td>2019-11-01</td>\n",
       "      <td>Month-to-month</td>\n",
       "      <td>Yes</td>\n",
       "      <td>Electronic check</td>\n",
       "      <td>70.70</td>\n",
       "      <td>151.65</td>\n",
       "      <td>Female</td>\n",
       "      <td>0</td>\n",
       "      <td>...</td>\n",
       "      <td>No</td>\n",
       "      <td>No</td>\n",
       "      <td>No</td>\n",
       "      <td>No</td>\n",
       "      <td>No</td>\n",
       "      <td>No</td>\n",
       "      <td>1</td>\n",
       "      <td>2</td>\n",
       "      <td>9237</td>\n",
       "      <td>HQITU</td>\n",
       "    </tr>\n",
       "    <tr>\n",
       "      <th>31</th>\n",
       "      <td>4929-XIHVW</td>\n",
       "      <td>2019-12-01</td>\n",
       "      <td>2020-02-01</td>\n",
       "      <td>Month-to-month</td>\n",
       "      <td>Yes</td>\n",
       "      <td>Credit card (automatic)</td>\n",
       "      <td>95.50</td>\n",
       "      <td>181.65</td>\n",
       "      <td>Male</td>\n",
       "      <td>1</td>\n",
       "      <td>...</td>\n",
       "      <td>No</td>\n",
       "      <td>Yes</td>\n",
       "      <td>No</td>\n",
       "      <td>Yes</td>\n",
       "      <td>Yes</td>\n",
       "      <td>No</td>\n",
       "      <td>0</td>\n",
       "      <td>2</td>\n",
       "      <td>4929</td>\n",
       "      <td>XIHVW</td>\n",
       "    </tr>\n",
       "    <tr>\n",
       "      <th>46</th>\n",
       "      <td>5948-UJZLF</td>\n",
       "      <td>2019-12-01</td>\n",
       "      <td>2020-02-01</td>\n",
       "      <td>Month-to-month</td>\n",
       "      <td>No</td>\n",
       "      <td>Mailed check</td>\n",
       "      <td>49.25</td>\n",
       "      <td>97.00</td>\n",
       "      <td>Male</td>\n",
       "      <td>0</td>\n",
       "      <td>...</td>\n",
       "      <td>Yes</td>\n",
       "      <td>No</td>\n",
       "      <td>No</td>\n",
       "      <td>No</td>\n",
       "      <td>No</td>\n",
       "      <td>No</td>\n",
       "      <td>0</td>\n",
       "      <td>2</td>\n",
       "      <td>5948</td>\n",
       "      <td>UJZLF</td>\n",
       "    </tr>\n",
       "    <tr>\n",
       "      <th>47</th>\n",
       "      <td>7760-OYPDY</td>\n",
       "      <td>2019-11-01</td>\n",
       "      <td>2020-01-01</td>\n",
       "      <td>Month-to-month</td>\n",
       "      <td>Yes</td>\n",
       "      <td>Electronic check</td>\n",
       "      <td>80.65</td>\n",
       "      <td>144.15</td>\n",
       "      <td>Female</td>\n",
       "      <td>0</td>\n",
       "      <td>...</td>\n",
       "      <td>No</td>\n",
       "      <td>No</td>\n",
       "      <td>No</td>\n",
       "      <td>Yes</td>\n",
       "      <td>No</td>\n",
       "      <td>No</td>\n",
       "      <td>1</td>\n",
       "      <td>2</td>\n",
       "      <td>7760</td>\n",
       "      <td>OYPDY</td>\n",
       "    </tr>\n",
       "    <tr>\n",
       "      <th>...</th>\n",
       "      <td>...</td>\n",
       "      <td>...</td>\n",
       "      <td>...</td>\n",
       "      <td>...</td>\n",
       "      <td>...</td>\n",
       "      <td>...</td>\n",
       "      <td>...</td>\n",
       "      <td>...</td>\n",
       "      <td>...</td>\n",
       "      <td>...</td>\n",
       "      <td>...</td>\n",
       "      <td>...</td>\n",
       "      <td>...</td>\n",
       "      <td>...</td>\n",
       "      <td>...</td>\n",
       "      <td>...</td>\n",
       "      <td>...</td>\n",
       "      <td>...</td>\n",
       "      <td>...</td>\n",
       "      <td>...</td>\n",
       "      <td>...</td>\n",
       "    </tr>\n",
       "    <tr>\n",
       "      <th>6726</th>\n",
       "      <td>0685-MLYYM</td>\n",
       "      <td>2019-11-01</td>\n",
       "      <td>2020-01-01</td>\n",
       "      <td>Month-to-month</td>\n",
       "      <td>No</td>\n",
       "      <td>Electronic check</td>\n",
       "      <td>70.75</td>\n",
       "      <td>154.85</td>\n",
       "      <td>Female</td>\n",
       "      <td>1</td>\n",
       "      <td>...</td>\n",
       "      <td>No</td>\n",
       "      <td>No</td>\n",
       "      <td>No</td>\n",
       "      <td>No</td>\n",
       "      <td>No</td>\n",
       "      <td>No</td>\n",
       "      <td>1</td>\n",
       "      <td>2</td>\n",
       "      <td>0685</td>\n",
       "      <td>MLYYM</td>\n",
       "    </tr>\n",
       "    <tr>\n",
       "      <th>6796</th>\n",
       "      <td>8450-JOVAH</td>\n",
       "      <td>2019-10-01</td>\n",
       "      <td>2019-12-01</td>\n",
       "      <td>Month-to-month</td>\n",
       "      <td>No</td>\n",
       "      <td>Mailed check</td>\n",
       "      <td>56.70</td>\n",
       "      <td>113.55</td>\n",
       "      <td>Male</td>\n",
       "      <td>0</td>\n",
       "      <td>...</td>\n",
       "      <td>No</td>\n",
       "      <td>No</td>\n",
       "      <td>No</td>\n",
       "      <td>No</td>\n",
       "      <td>No</td>\n",
       "      <td>Yes</td>\n",
       "      <td>1</td>\n",
       "      <td>2</td>\n",
       "      <td>8450</td>\n",
       "      <td>JOVAH</td>\n",
       "    </tr>\n",
       "    <tr>\n",
       "      <th>6848</th>\n",
       "      <td>5916-QEWPT</td>\n",
       "      <td>2019-12-01</td>\n",
       "      <td>2020-02-01</td>\n",
       "      <td>Month-to-month</td>\n",
       "      <td>No</td>\n",
       "      <td>Credit card (automatic)</td>\n",
       "      <td>69.00</td>\n",
       "      <td>147.80</td>\n",
       "      <td>Female</td>\n",
       "      <td>0</td>\n",
       "      <td>...</td>\n",
       "      <td>No</td>\n",
       "      <td>Yes</td>\n",
       "      <td>No</td>\n",
       "      <td>Yes</td>\n",
       "      <td>Yes</td>\n",
       "      <td>No</td>\n",
       "      <td>0</td>\n",
       "      <td>2</td>\n",
       "      <td>5916</td>\n",
       "      <td>QEWPT</td>\n",
       "    </tr>\n",
       "    <tr>\n",
       "      <th>6854</th>\n",
       "      <td>9700-ZCLOT</td>\n",
       "      <td>2019-12-01</td>\n",
       "      <td>2020-02-01</td>\n",
       "      <td>Month-to-month</td>\n",
       "      <td>No</td>\n",
       "      <td>Mailed check</td>\n",
       "      <td>20.00</td>\n",
       "      <td>32.70</td>\n",
       "      <td>Male</td>\n",
       "      <td>0</td>\n",
       "      <td>...</td>\n",
       "      <td>No</td>\n",
       "      <td>No</td>\n",
       "      <td>No</td>\n",
       "      <td>No</td>\n",
       "      <td>No</td>\n",
       "      <td>No</td>\n",
       "      <td>0</td>\n",
       "      <td>2</td>\n",
       "      <td>9700</td>\n",
       "      <td>ZCLOT</td>\n",
       "    </tr>\n",
       "    <tr>\n",
       "      <th>7030</th>\n",
       "      <td>0871-OPBXW</td>\n",
       "      <td>2019-12-01</td>\n",
       "      <td>2020-02-01</td>\n",
       "      <td>Month-to-month</td>\n",
       "      <td>Yes</td>\n",
       "      <td>Mailed check</td>\n",
       "      <td>20.05</td>\n",
       "      <td>39.25</td>\n",
       "      <td>Female</td>\n",
       "      <td>0</td>\n",
       "      <td>...</td>\n",
       "      <td>No</td>\n",
       "      <td>No</td>\n",
       "      <td>No</td>\n",
       "      <td>No</td>\n",
       "      <td>No</td>\n",
       "      <td>No</td>\n",
       "      <td>0</td>\n",
       "      <td>2</td>\n",
       "      <td>0871</td>\n",
       "      <td>OPBXW</td>\n",
       "    </tr>\n",
       "  </tbody>\n",
       "</table>\n",
       "<p>238 rows × 24 columns</p>\n",
       "</div>"
      ],
      "text/plain": [
       "     customer_id begin_date   end_date            type paperless_billing  \\\n",
       "2     3668-QPYBK 2019-10-01 2019-12-01  Month-to-month               Yes   \n",
       "4     9237-HQITU 2019-09-01 2019-11-01  Month-to-month               Yes   \n",
       "31    4929-XIHVW 2019-12-01 2020-02-01  Month-to-month               Yes   \n",
       "46    5948-UJZLF 2019-12-01 2020-02-01  Month-to-month                No   \n",
       "47    7760-OYPDY 2019-11-01 2020-01-01  Month-to-month               Yes   \n",
       "...          ...        ...        ...             ...               ...   \n",
       "6726  0685-MLYYM 2019-11-01 2020-01-01  Month-to-month                No   \n",
       "6796  8450-JOVAH 2019-10-01 2019-12-01  Month-to-month                No   \n",
       "6848  5916-QEWPT 2019-12-01 2020-02-01  Month-to-month                No   \n",
       "6854  9700-ZCLOT 2019-12-01 2020-02-01  Month-to-month                No   \n",
       "7030  0871-OPBXW 2019-12-01 2020-02-01  Month-to-month               Yes   \n",
       "\n",
       "               payment_method  monthly_charges  total_charges  gender  \\\n",
       "2                Mailed check            53.85         108.15    Male   \n",
       "4            Electronic check            70.70         151.65  Female   \n",
       "31    Credit card (automatic)            95.50         181.65    Male   \n",
       "46               Mailed check            49.25          97.00    Male   \n",
       "47           Electronic check            80.65         144.15  Female   \n",
       "...                       ...              ...            ...     ...   \n",
       "6726         Electronic check            70.75         154.85  Female   \n",
       "6796             Mailed check            56.70         113.55    Male   \n",
       "6848  Credit card (automatic)            69.00         147.80  Female   \n",
       "6854             Mailed check            20.00          32.70    Male   \n",
       "7030             Mailed check            20.05          39.25  Female   \n",
       "\n",
       "      senior_citizen  ... online_backup device_protection tech_support  \\\n",
       "2                  0  ...           Yes                No           No   \n",
       "4                  0  ...            No                No           No   \n",
       "31                 1  ...            No               Yes           No   \n",
       "46                 0  ...           Yes                No           No   \n",
       "47                 0  ...            No                No           No   \n",
       "...              ...  ...           ...               ...          ...   \n",
       "6726               1  ...            No                No           No   \n",
       "6796               0  ...            No                No           No   \n",
       "6848               0  ...            No               Yes           No   \n",
       "6854               0  ...            No                No           No   \n",
       "7030               0  ...            No                No           No   \n",
       "\n",
       "     streaming_tv streaming_movies multiple_lines target term num_id text_id  \n",
       "2              No               No             No      1    2   3668   QPYBK  \n",
       "4              No               No             No      1    2   9237   HQITU  \n",
       "31            Yes              Yes             No      0    2   4929   XIHVW  \n",
       "46             No               No             No      0    2   5948   UJZLF  \n",
       "47            Yes               No             No      1    2   7760   OYPDY  \n",
       "...           ...              ...            ...    ...  ...    ...     ...  \n",
       "6726           No               No             No      1    2   0685   MLYYM  \n",
       "6796           No               No            Yes      1    2   8450   JOVAH  \n",
       "6848          Yes              Yes             No      0    2   5916   QEWPT  \n",
       "6854           No               No             No      0    2   9700   ZCLOT  \n",
       "7030           No               No             No      0    2   0871   OPBXW  \n",
       "\n",
       "[238 rows x 24 columns]"
      ]
     },
     "execution_count": 132,
     "metadata": {},
     "output_type": "execute_result"
    }
   ],
   "source": [
    "dfs"
   ]
  },
  {
   "cell_type": "code",
   "execution_count": 133,
   "metadata": {},
   "outputs": [
    {
     "data": {
      "text/plain": [
       "2       53.85\n",
       "4       70.70\n",
       "31      95.50\n",
       "46      49.25\n",
       "47      80.65\n",
       "        ...  \n",
       "6726    70.75\n",
       "6796    56.70\n",
       "6848    69.00\n",
       "6854    20.00\n",
       "7030    20.05\n",
       "Name: monthly_charges, Length: 238, dtype: float64"
      ]
     },
     "execution_count": 133,
     "metadata": {},
     "output_type": "execute_result"
    }
   ],
   "source": [
    "dfs['monthly_charges']"
   ]
  },
  {
   "cell_type": "code",
   "execution_count": 134,
   "metadata": {},
   "outputs": [
    {
     "data": {
      "text/plain": [
       "2        0.45\n",
       "4       10.25\n",
       "31      -9.35\n",
       "46      -1.50\n",
       "47     -17.15\n",
       "        ...  \n",
       "6726    13.35\n",
       "6796     0.15\n",
       "6848     9.80\n",
       "6854    -7.30\n",
       "7030    -0.85\n",
       "Length: 238, dtype: float64"
      ]
     },
     "execution_count": 134,
     "metadata": {},
     "output_type": "execute_result"
    }
   ],
   "source": [
    "dfs['total_charges'] - (dfs['monthly_charges'] * 2)"
   ]
  },
  {
   "cell_type": "code",
   "execution_count": 135,
   "metadata": {},
   "outputs": [
    {
     "data": {
      "image/png": "[encoded data removed]",
      "text/plain": [
       "<Figure size 1080x576 with 1 Axes>"
      ]
     },
     "metadata": {
      "needs_background": "light"
     },
     "output_type": "display_data"
    }
   ],
   "source": [
    "((dfs['total_charges'] / dfs['term']) - dfs['monthly_charges']).hist(bins=100, figsize=(15, 8), edgecolor = \"black\")\n",
    "plt.title(' ')\n",
    "plt.xlabel(' ')\n",
    "plt.ylabel(' ')\n",
    "plt.xticks();"
   ]
  },
  {
   "cell_type": "code",
   "execution_count": 136,
   "metadata": {},
   "outputs": [
    {
     "data": {
      "image/png": "[encoded data removed]",
      "text/plain": [
       "<Figure size 1080x576 with 1 Axes>"
      ]
     },
     "metadata": {
      "needs_background": "light"
     },
     "output_type": "display_data"
    }
   ],
   "source": [
    "((df['total_charges'] / (df['end_date'].dt.to_period('M') - df['begin_date'].dt.to_period('M')).apply(lambda x: x.n)) - df['monthly_charges']).hist(bins=100, figsize=(15, 8), edgecolor = \"black\")\n",
    "plt.title(' ')\n",
    "plt.xlabel(' ')\n",
    "plt.ylabel(' ')\n",
    "plt.xticks();"
   ]
  },
  {
   "cell_type": "code",
   "execution_count": 48,
   "metadata": {},
   "outputs": [
    {
     "data": {
      "text/plain": [
       "0        29.85\n",
       "1        56.95\n",
       "2        53.85\n",
       "3        42.30\n",
       "4        70.70\n",
       "         ...  \n",
       "7038     84.80\n",
       "7039    103.20\n",
       "7040     29.60\n",
       "7041     74.40\n",
       "7042    105.65\n",
       "Name: monthly_charges, Length: 7043, dtype: float64"
      ]
     },
     "execution_count": 48,
     "metadata": {},
     "output_type": "execute_result"
    }
   ],
   "source": []
  },
  {
   "attachments": {},
   "cell_type": "markdown",
   "metadata": {},
   "source": [
    "### Вывод:\n",
    "\n",
    "\n"
   ]
  },
  {
   "attachments": {},
   "cell_type": "markdown",
   "metadata": {},
   "source": [
    "## Предварительная обработка данных"
   ]
  },
  {
   "cell_type": "code",
   "execution_count": 41,
   "metadata": {},
   "outputs": [
    {
     "data": {
      "image/png": "[encoded data removed]",
      "text/plain": [
       "<Figure size 1800x1080 with 9 Axes>"
      ]
     },
     "metadata": {
      "needs_background": "light"
     },
     "output_type": "display_data"
    }
   ],
   "source": [
    "df.hist(figsize=(25, 15), bins=50);"
   ]
  },
  {
   "cell_type": "code",
   "execution_count": 38,
   "metadata": {},
   "outputs": [
    {
     "data": {
      "image/png": "[encoded data removed]",
      "text/plain": [
       "<Figure size 1080x576 with 9 Axes>"
      ]
     },
     "metadata": {
      "needs_background": "light"
     },
     "output_type": "display_data"
    }
   ],
   "source": [
    "df.hist(bins=100, figsize=(15, 8), edgecolor = \"black\")\n",
    "plt.title(' ')\n",
    "plt.xlabel(' ')\n",
    "plt.ylabel(' ')\n",
    "plt.xticks(np.arange(0, 100, step=5));"
   ]
  },
  {
   "cell_type": "code",
   "execution_count": null,
   "metadata": {},
   "outputs": [],
   "source": []
  },
  {
   "cell_type": "code",
   "execution_count": null,
   "metadata": {},
   "outputs": [],
   "source": []
  },
  {
   "cell_type": "code",
   "execution_count": null,
   "metadata": {},
   "outputs": [],
   "source": []
  },
  {
   "cell_type": "code",
   "execution_count": null,
   "metadata": {},
   "outputs": [],
   "source": []
  }
 ],
 "metadata": {
  "ExecuteTimeLog": [
   {
    "duration": 484,
    "start_time": "2023-03-02T09:09:35.820Z"
   },
   {
    "duration": 3,
    "start_time": "2023-03-02T09:09:36.306Z"
   },
   {
    "duration": 5,
    "start_time": "2023-03-02T09:09:36.452Z"
   },
   {
    "duration": 91,
    "start_time": "2023-03-02T09:09:36.604Z"
   },
   {
    "duration": 360,
    "start_time": "2023-03-02T09:09:37.084Z"
   },
   {
    "duration": 3,
    "start_time": "2023-03-02T09:09:37.446Z"
   },
   {
    "duration": 5,
    "start_time": "2023-03-02T09:09:37.612Z"
   },
   {
    "duration": 4,
    "start_time": "2023-03-02T09:09:39.853Z"
   },
   {
    "duration": 73,
    "start_time": "2023-03-02T09:09:41.003Z"
   },
   {
    "duration": 5,
    "start_time": "2023-03-02T09:09:43.324Z"
   },
   {
    "duration": 5,
    "start_time": "2023-03-02T09:09:43.636Z"
   },
   {
    "duration": 4,
    "start_time": "2023-03-02T09:09:43.940Z"
   },
   {
    "duration": 50,
    "start_time": "2023-03-02T09:09:44.604Z"
   },
   {
    "duration": 4,
    "start_time": "2023-03-02T09:09:44.656Z"
   },
   {
    "duration": 6,
    "start_time": "2023-03-02T09:09:45.556Z"
   },
   {
    "duration": 53,
    "start_time": "2023-03-02T09:09:45.884Z"
   },
   {
    "duration": 5,
    "start_time": "2023-03-02T09:09:46.284Z"
   },
   {
    "duration": 7,
    "start_time": "2023-03-02T09:09:46.507Z"
   },
   {
    "duration": 6,
    "start_time": "2023-03-02T09:09:47.006Z"
   },
   {
    "duration": 44,
    "start_time": "2023-03-02T09:09:47.332Z"
   },
   {
    "duration": 6,
    "start_time": "2023-03-02T09:09:48.884Z"
   }
  ],
  "kernelspec": {
   "display_name": "base",
   "language": "python",
   "name": "python3"
  },
  "language_info": {
   "codemirror_mode": {
    "name": "ipython",
    "version": 3
   },
   "file_extension": ".py",
   "mimetype": "text/x-python",
   "name": "python",
   "nbconvert_exporter": "python",
   "pygments_lexer": "ipython3",
   "version": "3.9.7"
  },
  "toc": {
   "base_numbering": 1,
   "nav_menu": {},
   "number_sections": true,
   "sideBar": true,
   "skip_h1_title": true,
   "title_cell": "Table of Contents",
   "title_sidebar": "Contents",
   "toc_cell": false,
   "toc_position": {},
   "toc_section_display": true,
   "toc_window_display": false
  },
  "vscode": {
   "interpreter": {
    "hash": "a077222d77dfe082b8f1dd562ad70e458ac2ab76993a0b248ab0476e32e9e8dd"
   }
  }
 },
 "nbformat": 4,
 "nbformat_minor": 2
}
