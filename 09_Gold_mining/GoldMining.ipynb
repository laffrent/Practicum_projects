{
 "cells": [
  {
   "cell_type": "markdown",
   "metadata": {},
   "source": [
    "# Восстановление золота из руды"
   ]
  },
  {
   "attachments": {},
   "cell_type": "markdown",
   "metadata": {},
   "source": [
    "Необходимо подготовить прототип модели машинного обучения для «Цифры». Компания разрабатывает решения для эффективной работы промышленных предприятий.\n",
    "Модель должна предсказать коэффициент восстановления золота из золотосодержащей руды. Будем использовать данные с параметрами добычи и очистки. \n",
    "Модель должна помочь оптимизировать производство, чтобы не запускать предприятие с убыточными характеристиками.\n",
    "\n",
    "\n",
    "#### Ход исследования\n",
    "\n",
    "- исследование предоставленных данных\n",
    "- анализ и подготовка данных к обучению\n",
    "- создадим, обучим несколько моделей (pipeline)\n",
    "- выберем лучшую проверим на тестовой выборке и сравним результат с dummy моделью\n",
    "\n",
    "\n",
    "\n",
    "#### Итоговый вывод:\n",
    "\n",
    "Проведено исследование данных технологического процесса получения золота из руды.\n",
    "\n",
    "Исходные данные за 2016-2018 года.\n",
    "Выборки для теста и обучения были разделены заранее по месяцам, для получения качественных данных необходима стратификация, чтобы исключить влияния сезонности на результат.\n",
    "Данные не обработанные содержат небольшое количество выбросов\n",
    "Также данные содержат пропуски, которые были заполнены методом \"k ближайших соседей\"\n",
    "\n",
    "Для вычисления качества модели, предложено использовать метрику SMAPE\n",
    "\n",
    "Результат работы модели лучше чем dummy следовательно данную модель можно рекомендовать к применению"
   ]
  },
  {
   "attachments": {},
   "cell_type": "markdown",
   "metadata": {},
   "source": [
    "**Описание данных**\n",
    "\n",
    "*Технологический процесс*\n",
    "\n",
    "`Rougher feed` — исходное сырье\\\n",
    "`Rougher additions` (или `reagent additions`) — флотационные реагенты: `Xanthate`, `Sulphate`, `Depressant`\\\n",
    "`Xanthate` — ксантогенат (промотер, или активатор флотации);\\\n",
    "`Sulphate` — сульфат (на данном производстве сульфид натрия);\\\n",
    "`Depressant` — депрессант (силикат натрия).\\\n",
    "`Rougher process` (англ. «грубый процесс») — флотация\\\n",
    "`Rougher tails` — отвальные хвосты\\\n",
    "`Float banks` — флотационная установка\\\n",
    "`Cleaner process` — очистка\\\n",
    "`Rougher Au` — черновой концентрат золота\\\n",
    "`Final Au` — финальный концентрат золота\n",
    "\n",
    "*Параметры этапов*\\\n",
    "`air amount` — объём воздуха\\\n",
    "`fluid levels` — уровень жидкости\\\n",
    "`feed size` — размер гранул сырья\\\n",
    "`feed rate` — скорость подачи\n",
    "\n",
    "*Наименование признаков*\\\n",
    "Наименование признаков должно быть такое:\n",
    "`[этап].[тип_параметра].[название_параметра]`\\\n",
    "Пример: `rougher.input.feed_ag`\n",
    "\n",
    "Возможные значения для блока [этап]:\\\n",
    "`rougher` — флотация\\\n",
    "`primary_cleaner` — первичная очистка\\\n",
    "`secondary_cleaner` — вторичная очистка\\\n",
    "`final` — финальные характеристики\n",
    "\n",
    "Возможные значения для блока [тип_параметра]:\\\n",
    "`input` — параметры сырья\\\n",
    "`output` — параметры продукта\\\n",
    "`state` — параметры, характеризующие текущее состояние этапа\\\n",
    "`calculation` — расчётные характеристики"
   ]
  },
  {
   "cell_type": "markdown",
   "metadata": {},
   "source": [
    "## Подготовка данных"
   ]
  },
  {
   "cell_type": "markdown",
   "metadata": {},
   "source": [
    "Загрузим необходимые библиотеки"
   ]
  },
  {
   "cell_type": "code",
   "execution_count": 2,
   "metadata": {},
   "outputs": [],
   "source": [
    "import os # Для выбора пути к дф\n",
    "import re # Регулярные выражения для переименования\n",
    "from IPython.display import display\n",
    "\n",
    "from joblib import dump\n",
    "\n",
    "import numpy as np\n",
    "\n",
    "import pandas as pd\n",
    "pd.set_option('max_colwidth', 100)\n",
    "pd.set_option('display.width', 1080)\n",
    "\n",
    "#!pip install plotly==5.5.0 # Для тренажера, если будет ошибка textauto в heatmap\n",
    "import plotly.express as px\n",
    "import plotly.graph_objects as go\n",
    "from plotly.subplots import make_subplots\n",
    "import plotly.figure_factory as ff\n",
    "\n",
    "from sklearn.dummy import DummyRegressor # алгоритм классификации - Ванга\n",
    "from sklearn.ensemble import RandomForestRegressor # алгоритм классификации - Лес случайных деревьев\n",
    "\n",
    "from sklearn.feature_selection import f_regression\n",
    "from sklearn.feature_selection import SelectKBest\n",
    "from sklearn.feature_selection import RFECV\n",
    "\n",
    "from sklearn.impute import KNNImputer # Заполнение пропусков на основе k-близжайших соседей\n",
    "from sklearn.impute import SimpleImputer\n",
    "from sklearn.linear_model import LogisticRegression # алгоритм классификации - Логистическая регрессия\n",
    "from sklearn.linear_model import LinearRegression, Lasso, Ridge, SGDRegressor, ElasticNetCV\n",
    "\n",
    "from sklearn.metrics import make_scorer\n",
    "from sklearn.metrics import mean_squared_error\n",
    "\n",
    "from sklearn.model_selection import cross_val_score\n",
    "from sklearn.model_selection import RandomizedSearchCV # Случайный перебор параметров модели\n",
    "from sklearn.model_selection import StratifiedKFold\n",
    "from sklearn.model_selection import train_test_split # Разбиение по выборкам\n",
    "\n",
    "from sklearn.pipeline import make_pipeline # Создание трубопровода\n",
    "from sklearn.pipeline import Pipeline\n",
    "\n",
    "from sklearn.preprocessing import RobustScaler # Масштабирование признаков более продвинуто с выбросами в данных\n",
    "from sklearn.preprocessing import MinMaxScaler\n",
    "\n",
    "from sklearn.utils import shuffle # Миксер\n",
    "\n",
    "#!pip install catboost\n",
    "from catboost import CatBoostRegressor\n",
    "\n",
    "import sweetviz as sv\n",
    "from pandas_profiling import ProfileReport\n",
    "#!pip install pandas_profiling #https://github.com/pandas-profiling/pandas-profiling/archive/master.zip # Если ошибка в pandas_profiling\n",
    "#import pandas_profiling\n",
    "#from pandas_profiling import ProfileReport"
   ]
  },
  {
   "cell_type": "markdown",
   "metadata": {},
   "source": [
    "Загрузим данные"
   ]
  },
  {
   "cell_type": "code",
   "execution_count": 3,
   "metadata": {},
   "outputs": [
    {
     "name": "stdout",
     "output_type": "stream",
     "text": [
      "Датасет успешно загружен с ЯндексПрактикум\n"
     ]
    }
   ],
   "source": [
    "pth1 = '/content/drive/MyDrive/data/gold_recovery_train_new.csv'\n",
    "pth2 = '/content/drive/MyDrive/data/gold_recovery_test_new.csv'\n",
    "pth3 = '/content/drive/MyDrive/data/gold_recovery_full_new.csv'\n",
    "pth4 = 'gold_recovery_train_new.csv'\n",
    "pth5 = 'gold_recovery_test_new.csv'\n",
    "pth6 = 'gold_recovery_full_new.csv'\n",
    "\n",
    "if os.path.exists(pth1) and os.path.exists(pth2) and os.path.exists(pth3):\n",
    "    train = pd.read_csv(pth1)\n",
    "    test = pd.read_csv(pth2)\n",
    "    full = pd.read_csv(pth3)\n",
    "    print(\"Датасет успешно загружен с Google Disc\")\n",
    "elif os.path.exists(pth4) and os.path.exists(pth5) and os.path.exists(pth6):\n",
    "    train = pd.read_csv(pth4)\n",
    "    test = pd.read_csv(pth5)\n",
    "    full = pd.read_csv(pth6)\n",
    "    print(\"Датасет успешно загружен с ЯндексПрактикум\")\n",
    "else:\n",
    "    print(\"Проверьте правильность пути к датасету\")\n",
    "\n",
    "all = [train, test, full]"
   ]
  },
  {
   "cell_type": "code",
   "execution_count": 4,
   "metadata": {
    "scrolled": true
   },
   "outputs": [
    {
     "name": "stdout",
     "output_type": "stream",
     "text": [
      "<class 'pandas.core.frame.DataFrame'>\n",
      "RangeIndex: 14149 entries, 0 to 14148\n",
      "Data columns (total 87 columns):\n",
      " #   Column                                              Non-Null Count  Dtype  \n",
      "---  ------                                              --------------  -----  \n",
      " 0   date                                                14149 non-null  object \n",
      " 1   final.output.concentrate_ag                         14148 non-null  float64\n",
      " 2   final.output.concentrate_pb                         14148 non-null  float64\n",
      " 3   final.output.concentrate_sol                        13938 non-null  float64\n",
      " 4   final.output.concentrate_au                         14149 non-null  float64\n",
      " 5   final.output.recovery                               14149 non-null  float64\n",
      " 6   final.output.tail_ag                                14149 non-null  float64\n",
      " 7   final.output.tail_pb                                14049 non-null  float64\n",
      " 8   final.output.tail_sol                               14144 non-null  float64\n",
      " 9   final.output.tail_au                                14149 non-null  float64\n",
      " 10  primary_cleaner.input.sulfate                       14129 non-null  float64\n",
      " 11  primary_cleaner.input.depressant                    14117 non-null  float64\n",
      " 12  primary_cleaner.input.feed_size                     14149 non-null  float64\n",
      " 13  primary_cleaner.input.xanthate                      14049 non-null  float64\n",
      " 14  primary_cleaner.output.concentrate_ag               14149 non-null  float64\n",
      " 15  primary_cleaner.output.concentrate_pb               14063 non-null  float64\n",
      " 16  primary_cleaner.output.concentrate_sol              13863 non-null  float64\n",
      " 17  primary_cleaner.output.concentrate_au               14149 non-null  float64\n",
      " 18  primary_cleaner.output.tail_ag                      14148 non-null  float64\n",
      " 19  primary_cleaner.output.tail_pb                      14134 non-null  float64\n",
      " 20  primary_cleaner.output.tail_sol                     14103 non-null  float64\n",
      " 21  primary_cleaner.output.tail_au                      14149 non-null  float64\n",
      " 22  primary_cleaner.state.floatbank8_a_air              14145 non-null  float64\n",
      " 23  primary_cleaner.state.floatbank8_a_level            14148 non-null  float64\n",
      " 24  primary_cleaner.state.floatbank8_b_air              14145 non-null  float64\n",
      " 25  primary_cleaner.state.floatbank8_b_level            14148 non-null  float64\n",
      " 26  primary_cleaner.state.floatbank8_c_air              14147 non-null  float64\n",
      " 27  primary_cleaner.state.floatbank8_c_level            14148 non-null  float64\n",
      " 28  primary_cleaner.state.floatbank8_d_air              14146 non-null  float64\n",
      " 29  primary_cleaner.state.floatbank8_d_level            14148 non-null  float64\n",
      " 30  rougher.calculation.sulfate_to_au_concentrate       14148 non-null  float64\n",
      " 31  rougher.calculation.floatbank10_sulfate_to_au_feed  14148 non-null  float64\n",
      " 32  rougher.calculation.floatbank11_sulfate_to_au_feed  14148 non-null  float64\n",
      " 33  rougher.calculation.au_pb_ratio                     14149 non-null  float64\n",
      " 34  rougher.input.feed_ag                               14149 non-null  float64\n",
      " 35  rougher.input.feed_pb                               14049 non-null  float64\n",
      " 36  rougher.input.feed_rate                             14141 non-null  float64\n",
      " 37  rougher.input.feed_size                             14005 non-null  float64\n",
      " 38  rougher.input.feed_sol                              14071 non-null  float64\n",
      " 39  rougher.input.feed_au                               14149 non-null  float64\n",
      " 40  rougher.input.floatbank10_sulfate                   14120 non-null  float64\n",
      " 41  rougher.input.floatbank10_xanthate                  14141 non-null  float64\n",
      " 42  rougher.input.floatbank11_sulfate                   14113 non-null  float64\n",
      " 43  rougher.input.floatbank11_xanthate                  13721 non-null  float64\n",
      " 44  rougher.output.concentrate_ag                       14149 non-null  float64\n",
      " 45  rougher.output.concentrate_pb                       14149 non-null  float64\n",
      " 46  rougher.output.concentrate_sol                      14127 non-null  float64\n",
      " 47  rougher.output.concentrate_au                       14149 non-null  float64\n",
      " 48  rougher.output.recovery                             14149 non-null  float64\n",
      " 49  rougher.output.tail_ag                              14148 non-null  float64\n",
      " 50  rougher.output.tail_pb                              14149 non-null  float64\n",
      " 51  rougher.output.tail_sol                             14149 non-null  float64\n",
      " 52  rougher.output.tail_au                              14149 non-null  float64\n",
      " 53  rougher.state.floatbank10_a_air                     14148 non-null  float64\n",
      " 54  rougher.state.floatbank10_a_level                   14148 non-null  float64\n",
      " 55  rougher.state.floatbank10_b_air                     14148 non-null  float64\n",
      " 56  rougher.state.floatbank10_b_level                   14148 non-null  float64\n",
      " 57  rougher.state.floatbank10_c_air                     14148 non-null  float64\n",
      " 58  rougher.state.floatbank10_c_level                   14148 non-null  float64\n",
      " 59  rougher.state.floatbank10_d_air                     14149 non-null  float64\n",
      " 60  rougher.state.floatbank10_d_level                   14149 non-null  float64\n",
      " 61  rougher.state.floatbank10_e_air                     13713 non-null  float64\n",
      " 62  rougher.state.floatbank10_e_level                   14149 non-null  float64\n",
      " 63  rougher.state.floatbank10_f_air                     14149 non-null  float64\n",
      " 64  rougher.state.floatbank10_f_level                   14149 non-null  float64\n",
      " 65  secondary_cleaner.output.tail_ag                    14147 non-null  float64\n",
      " 66  secondary_cleaner.output.tail_pb                    14139 non-null  float64\n",
      " 67  secondary_cleaner.output.tail_sol                   12544 non-null  float64\n",
      " 68  secondary_cleaner.output.tail_au                    14149 non-null  float64\n",
      " 69  secondary_cleaner.state.floatbank2_a_air            13932 non-null  float64\n",
      " 70  secondary_cleaner.state.floatbank2_a_level          14148 non-null  float64\n",
      " 71  secondary_cleaner.state.floatbank2_b_air            14128 non-null  float64\n",
      " 72  secondary_cleaner.state.floatbank2_b_level          14148 non-null  float64\n",
      " 73  secondary_cleaner.state.floatbank3_a_air            14145 non-null  float64\n",
      " 74  secondary_cleaner.state.floatbank3_a_level          14148 non-null  float64\n",
      " 75  secondary_cleaner.state.floatbank3_b_air            14148 non-null  float64\n",
      " 76  secondary_cleaner.state.floatbank3_b_level          14148 non-null  float64\n",
      " 77  secondary_cleaner.state.floatbank4_a_air            14143 non-null  float64\n",
      " 78  secondary_cleaner.state.floatbank4_a_level          14148 non-null  float64\n",
      " 79  secondary_cleaner.state.floatbank4_b_air            14148 non-null  float64\n",
      " 80  secondary_cleaner.state.floatbank4_b_level          14148 non-null  float64\n",
      " 81  secondary_cleaner.state.floatbank5_a_air            14148 non-null  float64\n",
      " 82  secondary_cleaner.state.floatbank5_a_level          14148 non-null  float64\n",
      " 83  secondary_cleaner.state.floatbank5_b_air            14148 non-null  float64\n",
      " 84  secondary_cleaner.state.floatbank5_b_level          14148 non-null  float64\n",
      " 85  secondary_cleaner.state.floatbank6_a_air            14147 non-null  float64\n",
      " 86  secondary_cleaner.state.floatbank6_a_level          14148 non-null  float64\n",
      "dtypes: float64(86), object(1)\n",
      "memory usage: 9.4+ MB\n",
      "<class 'pandas.core.frame.DataFrame'>\n",
      "RangeIndex: 5290 entries, 0 to 5289\n",
      "Data columns (total 53 columns):\n",
      " #   Column                                      Non-Null Count  Dtype  \n",
      "---  ------                                      --------------  -----  \n",
      " 0   date                                        5290 non-null   object \n",
      " 1   primary_cleaner.input.sulfate               5286 non-null   float64\n",
      " 2   primary_cleaner.input.depressant            5285 non-null   float64\n",
      " 3   primary_cleaner.input.feed_size             5290 non-null   float64\n",
      " 4   primary_cleaner.input.xanthate              5286 non-null   float64\n",
      " 5   primary_cleaner.state.floatbank8_a_air      5290 non-null   float64\n",
      " 6   primary_cleaner.state.floatbank8_a_level    5290 non-null   float64\n",
      " 7   primary_cleaner.state.floatbank8_b_air      5290 non-null   float64\n",
      " 8   primary_cleaner.state.floatbank8_b_level    5290 non-null   float64\n",
      " 9   primary_cleaner.state.floatbank8_c_air      5290 non-null   float64\n",
      " 10  primary_cleaner.state.floatbank8_c_level    5290 non-null   float64\n",
      " 11  primary_cleaner.state.floatbank8_d_air      5290 non-null   float64\n",
      " 12  primary_cleaner.state.floatbank8_d_level    5290 non-null   float64\n",
      " 13  rougher.input.feed_ag                       5290 non-null   float64\n",
      " 14  rougher.input.feed_pb                       5290 non-null   float64\n",
      " 15  rougher.input.feed_rate                     5287 non-null   float64\n",
      " 16  rougher.input.feed_size                     5289 non-null   float64\n",
      " 17  rougher.input.feed_sol                      5269 non-null   float64\n",
      " 18  rougher.input.feed_au                       5290 non-null   float64\n",
      " 19  rougher.input.floatbank10_sulfate           5285 non-null   float64\n",
      " 20  rougher.input.floatbank10_xanthate          5290 non-null   float64\n",
      " 21  rougher.input.floatbank11_sulfate           5282 non-null   float64\n",
      " 22  rougher.input.floatbank11_xanthate          5265 non-null   float64\n",
      " 23  rougher.state.floatbank10_a_air             5290 non-null   float64\n",
      " 24  rougher.state.floatbank10_a_level           5290 non-null   float64\n",
      " 25  rougher.state.floatbank10_b_air             5290 non-null   float64\n",
      " 26  rougher.state.floatbank10_b_level           5290 non-null   float64\n",
      " 27  rougher.state.floatbank10_c_air             5290 non-null   float64\n",
      " 28  rougher.state.floatbank10_c_level           5290 non-null   float64\n",
      " 29  rougher.state.floatbank10_d_air             5290 non-null   float64\n",
      " 30  rougher.state.floatbank10_d_level           5290 non-null   float64\n",
      " 31  rougher.state.floatbank10_e_air             5290 non-null   float64\n",
      " 32  rougher.state.floatbank10_e_level           5290 non-null   float64\n",
      " 33  rougher.state.floatbank10_f_air             5290 non-null   float64\n",
      " 34  rougher.state.floatbank10_f_level           5290 non-null   float64\n",
      " 35  secondary_cleaner.state.floatbank2_a_air    5287 non-null   float64\n",
      " 36  secondary_cleaner.state.floatbank2_a_level  5290 non-null   float64\n",
      " 37  secondary_cleaner.state.floatbank2_b_air    5288 non-null   float64\n",
      " 38  secondary_cleaner.state.floatbank2_b_level  5290 non-null   float64\n",
      " 39  secondary_cleaner.state.floatbank3_a_air    5281 non-null   float64\n",
      " 40  secondary_cleaner.state.floatbank3_a_level  5290 non-null   float64\n",
      " 41  secondary_cleaner.state.floatbank3_b_air    5290 non-null   float64\n",
      " 42  secondary_cleaner.state.floatbank3_b_level  5290 non-null   float64\n",
      " 43  secondary_cleaner.state.floatbank4_a_air    5290 non-null   float64\n",
      " 44  secondary_cleaner.state.floatbank4_a_level  5290 non-null   float64\n",
      " 45  secondary_cleaner.state.floatbank4_b_air    5290 non-null   float64\n",
      " 46  secondary_cleaner.state.floatbank4_b_level  5290 non-null   float64\n",
      " 47  secondary_cleaner.state.floatbank5_a_air    5290 non-null   float64\n",
      " 48  secondary_cleaner.state.floatbank5_a_level  5290 non-null   float64\n",
      " 49  secondary_cleaner.state.floatbank5_b_air    5290 non-null   float64\n",
      " 50  secondary_cleaner.state.floatbank5_b_level  5290 non-null   float64\n",
      " 51  secondary_cleaner.state.floatbank6_a_air    5290 non-null   float64\n",
      " 52  secondary_cleaner.state.floatbank6_a_level  5290 non-null   float64\n",
      "dtypes: float64(52), object(1)\n",
      "memory usage: 2.1+ MB\n",
      "<class 'pandas.core.frame.DataFrame'>\n",
      "RangeIndex: 19439 entries, 0 to 19438\n",
      "Data columns (total 87 columns):\n",
      " #   Column                                              Non-Null Count  Dtype  \n",
      "---  ------                                              --------------  -----  \n",
      " 0   date                                                19439 non-null  object \n",
      " 1   final.output.concentrate_ag                         19438 non-null  float64\n",
      " 2   final.output.concentrate_pb                         19438 non-null  float64\n",
      " 3   final.output.concentrate_sol                        19228 non-null  float64\n",
      " 4   final.output.concentrate_au                         19439 non-null  float64\n",
      " 5   final.output.recovery                               19439 non-null  float64\n",
      " 6   final.output.tail_ag                                19438 non-null  float64\n",
      " 7   final.output.tail_pb                                19338 non-null  float64\n",
      " 8   final.output.tail_sol                               19433 non-null  float64\n",
      " 9   final.output.tail_au                                19439 non-null  float64\n",
      " 10  primary_cleaner.input.sulfate                       19415 non-null  float64\n",
      " 11  primary_cleaner.input.depressant                    19402 non-null  float64\n",
      " 12  primary_cleaner.input.feed_size                     19439 non-null  float64\n",
      " 13  primary_cleaner.input.xanthate                      19335 non-null  float64\n",
      " 14  primary_cleaner.output.concentrate_ag               19439 non-null  float64\n",
      " 15  primary_cleaner.output.concentrate_pb               19323 non-null  float64\n",
      " 16  primary_cleaner.output.concentrate_sol              19069 non-null  float64\n",
      " 17  primary_cleaner.output.concentrate_au               19439 non-null  float64\n",
      " 18  primary_cleaner.output.tail_ag                      19435 non-null  float64\n",
      " 19  primary_cleaner.output.tail_pb                      19418 non-null  float64\n",
      " 20  primary_cleaner.output.tail_sol                     19377 non-null  float64\n",
      " 21  primary_cleaner.output.tail_au                      19439 non-null  float64\n",
      " 22  primary_cleaner.state.floatbank8_a_air              19435 non-null  float64\n",
      " 23  primary_cleaner.state.floatbank8_a_level            19438 non-null  float64\n",
      " 24  primary_cleaner.state.floatbank8_b_air              19435 non-null  float64\n",
      " 25  primary_cleaner.state.floatbank8_b_level            19438 non-null  float64\n",
      " 26  primary_cleaner.state.floatbank8_c_air              19437 non-null  float64\n",
      " 27  primary_cleaner.state.floatbank8_c_level            19438 non-null  float64\n",
      " 28  primary_cleaner.state.floatbank8_d_air              19436 non-null  float64\n",
      " 29  primary_cleaner.state.floatbank8_d_level            19438 non-null  float64\n",
      " 30  rougher.calculation.sulfate_to_au_concentrate       19437 non-null  float64\n",
      " 31  rougher.calculation.floatbank10_sulfate_to_au_feed  19437 non-null  float64\n",
      " 32  rougher.calculation.floatbank11_sulfate_to_au_feed  19437 non-null  float64\n",
      " 33  rougher.calculation.au_pb_ratio                     19439 non-null  float64\n",
      " 34  rougher.input.feed_ag                               19439 non-null  float64\n",
      " 35  rougher.input.feed_pb                               19339 non-null  float64\n",
      " 36  rougher.input.feed_rate                             19428 non-null  float64\n",
      " 37  rougher.input.feed_size                             19294 non-null  float64\n",
      " 38  rougher.input.feed_sol                              19340 non-null  float64\n",
      " 39  rougher.input.feed_au                               19439 non-null  float64\n",
      " 40  rougher.input.floatbank10_sulfate                   19405 non-null  float64\n",
      " 41  rougher.input.floatbank10_xanthate                  19431 non-null  float64\n",
      " 42  rougher.input.floatbank11_sulfate                   19395 non-null  float64\n",
      " 43  rougher.input.floatbank11_xanthate                  18986 non-null  float64\n",
      " 44  rougher.output.concentrate_ag                       19439 non-null  float64\n",
      " 45  rougher.output.concentrate_pb                       19439 non-null  float64\n",
      " 46  rougher.output.concentrate_sol                      19416 non-null  float64\n",
      " 47  rougher.output.concentrate_au                       19439 non-null  float64\n",
      " 48  rougher.output.recovery                             19439 non-null  float64\n",
      " 49  rougher.output.tail_ag                              19438 non-null  float64\n",
      " 50  rougher.output.tail_pb                              19439 non-null  float64\n",
      " 51  rougher.output.tail_sol                             19439 non-null  float64\n",
      " 52  rougher.output.tail_au                              19439 non-null  float64\n",
      " 53  rougher.state.floatbank10_a_air                     19438 non-null  float64\n",
      " 54  rougher.state.floatbank10_a_level                   19438 non-null  float64\n",
      " 55  rougher.state.floatbank10_b_air                     19438 non-null  float64\n",
      " 56  rougher.state.floatbank10_b_level                   19438 non-null  float64\n",
      " 57  rougher.state.floatbank10_c_air                     19438 non-null  float64\n",
      " 58  rougher.state.floatbank10_c_level                   19438 non-null  float64\n",
      " 59  rougher.state.floatbank10_d_air                     19439 non-null  float64\n",
      " 60  rougher.state.floatbank10_d_level                   19439 non-null  float64\n",
      " 61  rougher.state.floatbank10_e_air                     19003 non-null  float64\n",
      " 62  rougher.state.floatbank10_e_level                   19439 non-null  float64\n",
      " 63  rougher.state.floatbank10_f_air                     19439 non-null  float64\n",
      " 64  rougher.state.floatbank10_f_level                   19439 non-null  float64\n",
      " 65  secondary_cleaner.output.tail_ag                    19437 non-null  float64\n",
      " 66  secondary_cleaner.output.tail_pb                    19427 non-null  float64\n",
      " 67  secondary_cleaner.output.tail_sol                   17691 non-null  float64\n",
      " 68  secondary_cleaner.output.tail_au                    19439 non-null  float64\n",
      " 69  secondary_cleaner.state.floatbank2_a_air            19219 non-null  float64\n",
      " 70  secondary_cleaner.state.floatbank2_a_level          19438 non-null  float64\n",
      " 71  secondary_cleaner.state.floatbank2_b_air            19416 non-null  float64\n",
      " 72  secondary_cleaner.state.floatbank2_b_level          19438 non-null  float64\n",
      " 73  secondary_cleaner.state.floatbank3_a_air            19426 non-null  float64\n",
      " 74  secondary_cleaner.state.floatbank3_a_level          19438 non-null  float64\n",
      " 75  secondary_cleaner.state.floatbank3_b_air            19438 non-null  float64\n",
      " 76  secondary_cleaner.state.floatbank3_b_level          19438 non-null  float64\n",
      " 77  secondary_cleaner.state.floatbank4_a_air            19433 non-null  float64\n",
      " 78  secondary_cleaner.state.floatbank4_a_level          19438 non-null  float64\n",
      " 79  secondary_cleaner.state.floatbank4_b_air            19438 non-null  float64\n",
      " 80  secondary_cleaner.state.floatbank4_b_level          19438 non-null  float64\n",
      " 81  secondary_cleaner.state.floatbank5_a_air            19438 non-null  float64\n",
      " 82  secondary_cleaner.state.floatbank5_a_level          19438 non-null  float64\n",
      " 83  secondary_cleaner.state.floatbank5_b_air            19438 non-null  float64\n",
      " 84  secondary_cleaner.state.floatbank5_b_level          19438 non-null  float64\n",
      " 85  secondary_cleaner.state.floatbank6_a_air            19437 non-null  float64\n",
      " 86  secondary_cleaner.state.floatbank6_a_level          19438 non-null  float64\n",
      "dtypes: float64(86), object(1)\n",
      "memory usage: 12.9+ MB\n"
     ]
    }
   ],
   "source": [
    "for i in all:\n",
    "    i.info()"
   ]
  },
  {
   "cell_type": "markdown",
   "metadata": {},
   "source": [
    "Изучим данные"
   ]
  },
  {
   "cell_type": "code",
   "execution_count": 5,
   "metadata": {},
   "outputs": [
    {
     "name": "stdout",
     "output_type": "stream",
     "text": [
      "(14149, 87)\n",
      "(5290, 53)\n",
      "(19439, 87)\n"
     ]
    }
   ],
   "source": [
    "for i in all:\n",
    "    print(i.shape)"
   ]
  },
  {
   "cell_type": "code",
   "execution_count": 6,
   "metadata": {},
   "outputs": [
    {
     "data": {
      "text/html": [
       "<div>\n",
       "<style scoped>\n",
       "    .dataframe tbody tr th:only-of-type {\n",
       "        vertical-align: middle;\n",
       "    }\n",
       "\n",
       "    .dataframe tbody tr th {\n",
       "        vertical-align: top;\n",
       "    }\n",
       "\n",
       "    .dataframe thead th {\n",
       "        text-align: right;\n",
       "    }\n",
       "</style>\n",
       "<table border=\"1\" class=\"dataframe\">\n",
       "  <thead>\n",
       "    <tr style=\"text-align: right;\">\n",
       "      <th></th>\n",
       "      <th>final.output.concentrate_ag</th>\n",
       "      <th>final.output.concentrate_pb</th>\n",
       "      <th>final.output.concentrate_sol</th>\n",
       "      <th>final.output.concentrate_au</th>\n",
       "      <th>final.output.recovery</th>\n",
       "      <th>final.output.tail_ag</th>\n",
       "      <th>final.output.tail_pb</th>\n",
       "      <th>final.output.tail_sol</th>\n",
       "      <th>final.output.tail_au</th>\n",
       "      <th>primary_cleaner.input.sulfate</th>\n",
       "      <th>...</th>\n",
       "      <th>secondary_cleaner.state.floatbank4_a_air</th>\n",
       "      <th>secondary_cleaner.state.floatbank4_a_level</th>\n",
       "      <th>secondary_cleaner.state.floatbank4_b_air</th>\n",
       "      <th>secondary_cleaner.state.floatbank4_b_level</th>\n",
       "      <th>secondary_cleaner.state.floatbank5_a_air</th>\n",
       "      <th>secondary_cleaner.state.floatbank5_a_level</th>\n",
       "      <th>secondary_cleaner.state.floatbank5_b_air</th>\n",
       "      <th>secondary_cleaner.state.floatbank5_b_level</th>\n",
       "      <th>secondary_cleaner.state.floatbank6_a_air</th>\n",
       "      <th>secondary_cleaner.state.floatbank6_a_level</th>\n",
       "    </tr>\n",
       "  </thead>\n",
       "  <tbody>\n",
       "    <tr>\n",
       "      <th>count</th>\n",
       "      <td>19438.000000</td>\n",
       "      <td>19438.000000</td>\n",
       "      <td>19228.000000</td>\n",
       "      <td>19439.000000</td>\n",
       "      <td>19439.000000</td>\n",
       "      <td>19438.000000</td>\n",
       "      <td>19338.000000</td>\n",
       "      <td>19433.000000</td>\n",
       "      <td>19439.000000</td>\n",
       "      <td>19415.000000</td>\n",
       "      <td>...</td>\n",
       "      <td>19433.000000</td>\n",
       "      <td>19438.000000</td>\n",
       "      <td>19438.000000</td>\n",
       "      <td>19438.000000</td>\n",
       "      <td>19438.000000</td>\n",
       "      <td>19438.000000</td>\n",
       "      <td>19438.000000</td>\n",
       "      <td>19438.000000</td>\n",
       "      <td>19437.000000</td>\n",
       "      <td>19438.000000</td>\n",
       "    </tr>\n",
       "    <tr>\n",
       "      <th>mean</th>\n",
       "      <td>5.168470</td>\n",
       "      <td>9.978895</td>\n",
       "      <td>9.501224</td>\n",
       "      <td>44.076513</td>\n",
       "      <td>67.050208</td>\n",
       "      <td>9.688589</td>\n",
       "      <td>2.705795</td>\n",
       "      <td>10.583728</td>\n",
       "      <td>3.042467</td>\n",
       "      <td>144.624774</td>\n",
       "      <td>...</td>\n",
       "      <td>18.987674</td>\n",
       "      <td>-485.894516</td>\n",
       "      <td>15.010366</td>\n",
       "      <td>-461.078636</td>\n",
       "      <td>15.694452</td>\n",
       "      <td>-488.684065</td>\n",
       "      <td>12.198224</td>\n",
       "      <td>-487.149827</td>\n",
       "      <td>18.959024</td>\n",
       "      <td>-505.436305</td>\n",
       "    </tr>\n",
       "    <tr>\n",
       "      <th>std</th>\n",
       "      <td>1.372348</td>\n",
       "      <td>1.669240</td>\n",
       "      <td>2.787537</td>\n",
       "      <td>5.129784</td>\n",
       "      <td>10.125840</td>\n",
       "      <td>2.328642</td>\n",
       "      <td>0.949077</td>\n",
       "      <td>2.868782</td>\n",
       "      <td>0.922808</td>\n",
       "      <td>44.464071</td>\n",
       "      <td>...</td>\n",
       "      <td>5.411058</td>\n",
       "      <td>47.758570</td>\n",
       "      <td>4.890228</td>\n",
       "      <td>67.405524</td>\n",
       "      <td>5.510974</td>\n",
       "      <td>34.533396</td>\n",
       "      <td>5.333024</td>\n",
       "      <td>38.347312</td>\n",
       "      <td>5.550498</td>\n",
       "      <td>37.689057</td>\n",
       "    </tr>\n",
       "    <tr>\n",
       "      <th>min</th>\n",
       "      <td>0.000000</td>\n",
       "      <td>0.000000</td>\n",
       "      <td>0.000000</td>\n",
       "      <td>0.000000</td>\n",
       "      <td>0.000000</td>\n",
       "      <td>0.000000</td>\n",
       "      <td>0.000000</td>\n",
       "      <td>0.000000</td>\n",
       "      <td>0.000000</td>\n",
       "      <td>0.003112</td>\n",
       "      <td>...</td>\n",
       "      <td>0.000000</td>\n",
       "      <td>-799.798523</td>\n",
       "      <td>0.000000</td>\n",
       "      <td>-800.836914</td>\n",
       "      <td>-0.372054</td>\n",
       "      <td>-797.323986</td>\n",
       "      <td>0.528083</td>\n",
       "      <td>-800.220337</td>\n",
       "      <td>-0.079426</td>\n",
       "      <td>-809.741464</td>\n",
       "    </tr>\n",
       "    <tr>\n",
       "      <th>25%</th>\n",
       "      <td>4.251240</td>\n",
       "      <td>9.137262</td>\n",
       "      <td>7.722820</td>\n",
       "      <td>43.402215</td>\n",
       "      <td>63.299712</td>\n",
       "      <td>8.062878</td>\n",
       "      <td>2.040119</td>\n",
       "      <td>8.938947</td>\n",
       "      <td>2.461138</td>\n",
       "      <td>114.107029</td>\n",
       "      <td>...</td>\n",
       "      <td>14.975734</td>\n",
       "      <td>-500.704892</td>\n",
       "      <td>11.940294</td>\n",
       "      <td>-500.187742</td>\n",
       "      <td>10.988606</td>\n",
       "      <td>-500.458467</td>\n",
       "      <td>8.971105</td>\n",
       "      <td>-500.129462</td>\n",
       "      <td>14.983037</td>\n",
       "      <td>-500.728067</td>\n",
       "    </tr>\n",
       "    <tr>\n",
       "      <th>50%</th>\n",
       "      <td>5.066094</td>\n",
       "      <td>10.102433</td>\n",
       "      <td>9.218961</td>\n",
       "      <td>45.011244</td>\n",
       "      <td>68.172738</td>\n",
       "      <td>9.743623</td>\n",
       "      <td>2.748730</td>\n",
       "      <td>10.622456</td>\n",
       "      <td>2.984909</td>\n",
       "      <td>143.232103</td>\n",
       "      <td>...</td>\n",
       "      <td>18.017481</td>\n",
       "      <td>-499.837793</td>\n",
       "      <td>14.971014</td>\n",
       "      <td>-499.459786</td>\n",
       "      <td>15.000036</td>\n",
       "      <td>-499.802605</td>\n",
       "      <td>11.019433</td>\n",
       "      <td>-499.935317</td>\n",
       "      <td>19.960541</td>\n",
       "      <td>-500.048400</td>\n",
       "    </tr>\n",
       "    <tr>\n",
       "      <th>75%</th>\n",
       "      <td>5.895527</td>\n",
       "      <td>11.035769</td>\n",
       "      <td>10.947813</td>\n",
       "      <td>46.275313</td>\n",
       "      <td>72.686642</td>\n",
       "      <td>11.134294</td>\n",
       "      <td>3.333216</td>\n",
       "      <td>12.104271</td>\n",
       "      <td>3.571351</td>\n",
       "      <td>175.075656</td>\n",
       "      <td>...</td>\n",
       "      <td>23.012470</td>\n",
       "      <td>-498.249730</td>\n",
       "      <td>19.034162</td>\n",
       "      <td>-400.118106</td>\n",
       "      <td>18.026190</td>\n",
       "      <td>-498.384187</td>\n",
       "      <td>14.019088</td>\n",
       "      <td>-499.436708</td>\n",
       "      <td>24.003170</td>\n",
       "      <td>-499.495378</td>\n",
       "    </tr>\n",
       "    <tr>\n",
       "      <th>max</th>\n",
       "      <td>16.001945</td>\n",
       "      <td>17.031899</td>\n",
       "      <td>19.615720</td>\n",
       "      <td>52.756638</td>\n",
       "      <td>100.000000</td>\n",
       "      <td>19.552149</td>\n",
       "      <td>5.804178</td>\n",
       "      <td>22.317730</td>\n",
       "      <td>8.245022</td>\n",
       "      <td>265.983123</td>\n",
       "      <td>...</td>\n",
       "      <td>30.115735</td>\n",
       "      <td>-245.239184</td>\n",
       "      <td>31.269706</td>\n",
       "      <td>-6.506986</td>\n",
       "      <td>43.709931</td>\n",
       "      <td>-244.483566</td>\n",
       "      <td>27.926001</td>\n",
       "      <td>-137.740004</td>\n",
       "      <td>32.188906</td>\n",
       "      <td>-104.427459</td>\n",
       "    </tr>\n",
       "  </tbody>\n",
       "</table>\n",
       "<p>8 rows × 86 columns</p>\n",
       "</div>"
      ],
      "text/plain": [
       "       final.output.concentrate_ag  final.output.concentrate_pb  final.output.concentrate_sol  final.output.concentrate_au  final.output.recovery  final.output.tail_ag  final.output.tail_pb  final.output.tail_sol  final.output.tail_au  primary_cleaner.input.sulfate  ...  secondary_cleaner.state.floatbank4_a_air  secondary_cleaner.state.floatbank4_a_level  secondary_cleaner.state.floatbank4_b_air  secondary_cleaner.state.floatbank4_b_level  secondary_cleaner.state.floatbank5_a_air  secondary_cleaner.state.floatbank5_a_level  secondary_cleaner.state.floatbank5_b_air  secondary_cleaner.state.floatbank5_b_level  secondary_cleaner.state.floatbank6_a_air  secondary_cleaner.state.floatbank6_a_level\n",
       "count                 19438.000000                 19438.000000                  19228.000000                 19439.000000           19439.000000          19438.000000          19338.000000           19433.000000          19439.000000                   19415.000000  ...                              19433.000000                                19438.000000                              19438.000000                                19438.000000                              19438.000000                                19438.000000                              19438.000000                                19438.000000                              19437.000000                                19438.000000\n",
       "mean                      5.168470                     9.978895                      9.501224                    44.076513              67.050208              9.688589              2.705795              10.583728              3.042467                     144.624774  ...                                 18.987674                                 -485.894516                                 15.010366                                 -461.078636                                 15.694452                                 -488.684065                                 12.198224                                 -487.149827                                 18.959024                                 -505.436305\n",
       "std                       1.372348                     1.669240                      2.787537                     5.129784              10.125840              2.328642              0.949077               2.868782              0.922808                      44.464071  ...                                  5.411058                                   47.758570                                  4.890228                                   67.405524                                  5.510974                                   34.533396                                  5.333024                                   38.347312                                  5.550498                                   37.689057\n",
       "min                       0.000000                     0.000000                      0.000000                     0.000000               0.000000              0.000000              0.000000               0.000000              0.000000                       0.003112  ...                                  0.000000                                 -799.798523                                  0.000000                                 -800.836914                                 -0.372054                                 -797.323986                                  0.528083                                 -800.220337                                 -0.079426                                 -809.741464\n",
       "25%                       4.251240                     9.137262                      7.722820                    43.402215              63.299712              8.062878              2.040119               8.938947              2.461138                     114.107029  ...                                 14.975734                                 -500.704892                                 11.940294                                 -500.187742                                 10.988606                                 -500.458467                                  8.971105                                 -500.129462                                 14.983037                                 -500.728067\n",
       "50%                       5.066094                    10.102433                      9.218961                    45.011244              68.172738              9.743623              2.748730              10.622456              2.984909                     143.232103  ...                                 18.017481                                 -499.837793                                 14.971014                                 -499.459786                                 15.000036                                 -499.802605                                 11.019433                                 -499.935317                                 19.960541                                 -500.048400\n",
       "75%                       5.895527                    11.035769                     10.947813                    46.275313              72.686642             11.134294              3.333216              12.104271              3.571351                     175.075656  ...                                 23.012470                                 -498.249730                                 19.034162                                 -400.118106                                 18.026190                                 -498.384187                                 14.019088                                 -499.436708                                 24.003170                                 -499.495378\n",
       "max                      16.001945                    17.031899                     19.615720                    52.756638             100.000000             19.552149              5.804178              22.317730              8.245022                     265.983123  ...                                 30.115735                                 -245.239184                                 31.269706                                   -6.506986                                 43.709931                                 -244.483566                                 27.926001                                 -137.740004                                 32.188906                                 -104.427459\n",
       "\n",
       "[8 rows x 86 columns]"
      ]
     },
     "execution_count": 6,
     "metadata": {},
     "output_type": "execute_result"
    }
   ],
   "source": [
    "full.describe()"
   ]
  },
  {
   "cell_type": "markdown",
   "metadata": {},
   "source": [
    "Преобразуем значения даты времени и округлим до ближайшего часа. В дальнейшем эта колонка нам понадобиться только для построения графиков"
   ]
  },
  {
   "cell_type": "code",
   "execution_count": 7,
   "metadata": {},
   "outputs": [],
   "source": [
    "for i in all:\n",
    "    i['date'] = pd.to_datetime(i['date']).dt.ceil('h')"
   ]
  },
  {
   "cell_type": "code",
   "execution_count": 8,
   "metadata": {},
   "outputs": [
    {
     "data": {
      "text/plain": [
       "(Timestamp('2016-01-15 00:00:00'), Timestamp('2018-08-18 11:00:00'))"
      ]
     },
     "execution_count": 8,
     "metadata": {},
     "output_type": "execute_result"
    }
   ],
   "source": [
    "full['date'].min(), full['date'].max()"
   ]
  },
  {
   "cell_type": "code",
   "execution_count": 9,
   "metadata": {},
   "outputs": [
    {
     "name": "stderr",
     "output_type": "stream",
     "text": [
      "Summarize dataset: 100%|██████████| 95/95 [00:01<00:00, 56.98it/s, Completed]                                                           \n",
      "Generate report structure: 100%|██████████| 1/1 [00:34<00:00, 34.73s/it]\n",
      "Render HTML: 100%|██████████| 1/1 [00:02<00:00,  2.80s/it]\n",
      "Export report to file: 100%|██████████| 1/1 [00:00<00:00, 25.32it/s]\n"
     ]
    }
   ],
   "source": [
    "profile = ProfileReport(train, minimal=True)\n",
    "profile.to_file('test.html')"
   ]
  },
  {
   "cell_type": "code",
   "execution_count": 10,
   "metadata": {},
   "outputs": [
    {
     "name": "stderr",
     "output_type": "stream",
     "text": [
      "Summarize dataset: 100%|██████████| 95/95 [00:01<00:00, 52.55it/s, Completed]                                                           \n",
      "Generate report structure: 100%|██████████| 1/1 [00:38<00:00, 38.17s/it]\n",
      "Render HTML: 100%|██████████| 1/1 [00:02<00:00,  2.61s/it]\n",
      "Export report to file: 100%|██████████| 1/1 [00:00<00:00,  6.16it/s]\n"
     ]
    }
   ],
   "source": [
    "\n",
    "profile = ProfileReport(train, minimal=True)\n",
    "profile.to_file('train.html')"
   ]
  },
  {
   "cell_type": "markdown",
   "metadata": {},
   "source": [
    "Проверим, что эффективность обогащения рассчитана правильно. Вычислим её на обучающей выборке для признака rougher.output.recovery. Найдем MAE между расчётами и значением признака"
   ]
  },
  {
   "cell_type": "code",
   "execution_count": 11,
   "metadata": {},
   "outputs": [
    {
     "data": {
      "text/plain": [
       "9.73512347450521e-15"
      ]
     },
     "execution_count": 11,
     "metadata": {},
     "output_type": "execute_result"
    }
   ],
   "source": [
    "c = train['rougher.output.concentrate_au']\n",
    "f = train['rougher.input.feed_au']\n",
    "t = train['rougher.output.tail_au']\n",
    "r = train['rougher.output.recovery']\n",
    "\n",
    "\n",
    "recovery = ((c*(f-t))/(f*(c-t)))*100\n",
    "abs(recovery - r).mean()"
   ]
  },
  {
   "cell_type": "markdown",
   "metadata": {},
   "source": [
    "Эффективность расчитана верно"
   ]
  },
  {
   "cell_type": "markdown",
   "metadata": {},
   "source": [
    "Проанализируем признаки, недоступные в тестовой выборке"
   ]
  },
  {
   "cell_type": "code",
   "execution_count": 12,
   "metadata": {},
   "outputs": [
    {
     "data": {
      "text/plain": [
       "['final.output.concentrate_ag',\n",
       " 'final.output.concentrate_pb',\n",
       " 'final.output.concentrate_sol',\n",
       " 'final.output.concentrate_au',\n",
       " 'final.output.recovery',\n",
       " 'final.output.tail_ag',\n",
       " 'final.output.tail_pb',\n",
       " 'final.output.tail_sol',\n",
       " 'final.output.tail_au',\n",
       " 'primary_cleaner.output.concentrate_ag',\n",
       " 'primary_cleaner.output.concentrate_pb',\n",
       " 'primary_cleaner.output.concentrate_sol',\n",
       " 'primary_cleaner.output.concentrate_au',\n",
       " 'primary_cleaner.output.tail_ag',\n",
       " 'primary_cleaner.output.tail_pb',\n",
       " 'primary_cleaner.output.tail_sol',\n",
       " 'primary_cleaner.output.tail_au',\n",
       " 'rougher.calculation.sulfate_to_au_concentrate',\n",
       " 'rougher.calculation.floatbank10_sulfate_to_au_feed',\n",
       " 'rougher.calculation.floatbank11_sulfate_to_au_feed',\n",
       " 'rougher.calculation.au_pb_ratio',\n",
       " 'rougher.output.concentrate_ag',\n",
       " 'rougher.output.concentrate_pb',\n",
       " 'rougher.output.concentrate_sol',\n",
       " 'rougher.output.concentrate_au',\n",
       " 'rougher.output.recovery',\n",
       " 'rougher.output.tail_ag',\n",
       " 'rougher.output.tail_pb',\n",
       " 'rougher.output.tail_sol',\n",
       " 'rougher.output.tail_au',\n",
       " 'secondary_cleaner.output.tail_ag',\n",
       " 'secondary_cleaner.output.tail_pb',\n",
       " 'secondary_cleaner.output.tail_sol',\n",
       " 'secondary_cleaner.output.tail_au']"
      ]
     },
     "execution_count": 12,
     "metadata": {},
     "output_type": "execute_result"
    }
   ],
   "source": [
    "train_test_diff = []\n",
    "for i in train.columns:\n",
    "    if i not in test.columns:\n",
    "        train_test_diff.append(i)\n",
    "train_test_diff"
   ]
  },
  {
   "cell_type": "markdown",
   "metadata": {},
   "source": [
    "Часть параметров `calculation` - расчетные, остальные `output` - характеристики продукта, получают позднее скорее всего после исследования образцов"
   ]
  },
  {
   "cell_type": "markdown",
   "metadata": {},
   "source": [
    "**Вывод:**\n",
    "Предварительно ознакомившись с данными установили, что данные представлены в виде трех датасетов основной full и два выделенных из него train и test. Разбиение подготовлено для обучения модели.\n",
    "\n",
    "Всего используется 19439 значений на каждое 87 признаков\n",
    "\n",
    "В данных встречаются выбросы и пропуски.\n",
    "\n",
    "Столбец с датой и временем преобразован в удобный для исследования формат."
   ]
  },
  {
   "cell_type": "markdown",
   "metadata": {},
   "source": [
    "## Анализ данных"
   ]
  },
  {
   "cell_type": "markdown",
   "metadata": {},
   "source": [
    "Посмотрим как распределены два одинаковых столбца в выборке train и test"
   ]
  },
  {
   "cell_type": "code",
   "execution_count": 13,
   "metadata": {},
   "outputs": [
    {
     "data": {
      "image/png": "[encoded data removed]"
     },
     "metadata": {},
     "output_type": "display_data"
    },
    {
     "data": {
      "image/png": "[encoded data removed]"
     },
     "metadata": {},
     "output_type": "display_data"
    },
    {
     "data": {
      "image/png": "[encoded data removed]"
     },
     "metadata": {},
     "output_type": "display_data"
    }
   ],
   "source": [
    "train_piv = train.pivot_table(index=train['date'].dt.ceil('d'), values=\"rougher.input.feed_ag\")\n",
    "train_piv.reset_index()\n",
    "\n",
    "fig = px.scatter(train_piv, range_x=['2015-11-15', '2018-09-30'])\n",
    "fig.update_layout(width=1500, height=500)\n",
    "fig.show('png')\n",
    "\n",
    "test_piv = test.pivot_table(index=test['date'].dt.ceil('d'), values=\"rougher.input.feed_ag\")\n",
    "test_piv.reset_index()\n",
    "\n",
    "fig = px.scatter(test_piv, range_x=['2015-11-15', '2018-09-30'])\n",
    "fig.update_layout(width=1500, height=500)\n",
    "fig.show('png')\n",
    "\n",
    "full_piv = full.pivot_table(index=full['date'].dt.ceil('d'), values=\"final.output.concentrate_au\")\n",
    "full.reset_index()\n",
    "\n",
    "fig = px.scatter(full_piv, range_x=['2015-11-15', '2018-09-30'])\n",
    "fig.update_layout(width=1500, height=500)\n",
    "fig.show('png')"
   ]
  },
  {
   "cell_type": "markdown",
   "metadata": {},
   "source": [
    "Данные тестовой выборки сформированы двумя дипазонами по датам. Из-за не равномерности распределения некоторых данных, желательно использовать стратифицированную выборку. При этом финальная концентрация стабильна на протяжении всего времени измерений"
   ]
  },
  {
   "cell_type": "code",
   "execution_count": 14,
   "metadata": {},
   "outputs": [
    {
     "data": {
      "text/plain": [
       "date\n",
       "2016-01    350\n",
       "2016-02    672\n",
       "2016-03    594\n",
       "2016-04    399\n",
       "2016-05    676\n",
       "2016-06    701\n",
       "2016-07    600\n",
       "2016-08    689\n",
       "2016-09      1\n",
       "2017-01    581\n",
       "2017-02    617\n",
       "2017-03    643\n",
       "2017-04    702\n",
       "2017-05    454\n",
       "2017-06    680\n",
       "2017-07    700\n",
       "2017-08    710\n",
       "2017-09      1\n",
       "2018-01    306\n",
       "2018-02    606\n",
       "2018-03    646\n",
       "2018-04    630\n",
       "2018-05    646\n",
       "2018-06    648\n",
       "2018-07    546\n",
       "2018-08    351\n",
       "Name: rougher.input.feed_ag, dtype: int64"
      ]
     },
     "execution_count": 14,
     "metadata": {},
     "output_type": "execute_result"
    }
   ],
   "source": [
    "train.groupby(train['date'].dt.strftime('%Y-%m'))['rougher.input.feed_ag'].count()  "
   ]
  },
  {
   "cell_type": "code",
   "execution_count": 15,
   "metadata": {},
   "outputs": [
    {
     "data": {
      "text/plain": [
       "date\n",
       "2016-09    495\n",
       "2016-10    725\n",
       "2016-11    680\n",
       "2016-12    719\n",
       "2017-01      1\n",
       "2017-09    609\n",
       "2017-10    686\n",
       "2017-11    696\n",
       "2017-12    678\n",
       "2018-01      1\n",
       "Name: rougher.input.feed_ag, dtype: int64"
      ]
     },
     "execution_count": 15,
     "metadata": {},
     "output_type": "execute_result"
    }
   ],
   "source": [
    "test.groupby(test['date'].dt.strftime('%Y-%m'))['rougher.input.feed_ag'].count()"
   ]
  },
  {
   "cell_type": "markdown",
   "metadata": {},
   "source": [
    "Данные замеров поступают не равномерно, единичные замеры образовались из-за округления данных"
   ]
  },
  {
   "cell_type": "markdown",
   "metadata": {},
   "source": [
    "Построим графики распределения концентрации металлов на различных этапах очистки"
   ]
  },
  {
   "cell_type": "code",
   "execution_count": 16,
   "metadata": {},
   "outputs": [],
   "source": [
    "def ploting_displot(met):\n",
    "    df = full[['rougher.input.feed_' + str(met),\n",
    "                'rougher.output.concentrate_' + str(met), \n",
    "                'primary_cleaner.output.concentrate_' + str(met), \n",
    "                'final.output.concentrate_' + str(met)]]\n",
    "    for col in df.columns:\n",
    "        plt = df[col].hist(bins=100, alpha=0.7, figsize=(10,4))\n",
    "        plt.set_xlabel('Концентрация')\n",
    "        plt.set_ylabel('Частота')\n",
    "        plt.set_title(met) \n",
    "       # не в plotly так как лаги, и request size error из-за объема данных"
   ]
  },
  {
   "cell_type": "code",
   "execution_count": 17,
   "metadata": {
    "scrolled": false
   },
   "outputs": [
    {
     "data": {
      "image/png": "[encoded data removed]",
      "text/plain": [
       "<Figure size 720x288 with 1 Axes>"
      ]
     },
     "metadata": {
      "needs_background": "light"
     },
     "output_type": "display_data"
    }
   ],
   "source": [
    "ploting_displot('au')"
   ]
  },
  {
   "cell_type": "code",
   "execution_count": 18,
   "metadata": {
    "scrolled": false
   },
   "outputs": [
    {
     "data": {
      "image/png": "[encoded data removed]",
      "text/plain": [
       "<Figure size 720x288 with 1 Axes>"
      ]
     },
     "metadata": {
      "needs_background": "light"
     },
     "output_type": "display_data"
    }
   ],
   "source": [
    "ploting_displot('ag')"
   ]
  },
  {
   "cell_type": "code",
   "execution_count": 19,
   "metadata": {
    "scrolled": false
   },
   "outputs": [
    {
     "data": {
      "image/png": "[encoded data removed]",
      "text/plain": [
       "<Figure size 720x288 with 1 Axes>"
      ]
     },
     "metadata": {
      "needs_background": "light"
     },
     "output_type": "display_data"
    }
   ],
   "source": [
    "ploting_displot('pb')"
   ]
  },
  {
   "cell_type": "markdown",
   "metadata": {},
   "source": [
    "Концентрация свинца после первого этапа не снижается, и остальные этапы не сильно влияют на него\\\n",
    "Концентрация серебра сначала повышается а затем снижается на каждой стадии\\\n",
    "Концентрация как и предполагается растет на каждом этапе\n",
    "\n",
    "Видим часть данных с 0. Судя по распределению похоже на ошибку. "
   ]
  },
  {
   "cell_type": "markdown",
   "metadata": {},
   "source": [
    "Распределение размера зерна"
   ]
  },
  {
   "cell_type": "code",
   "execution_count": 20,
   "metadata": {},
   "outputs": [
    {
     "data": {
      "image/png": "[encoded data removed]",
      "text/plain": [
       "<Figure size 720x288 with 1 Axes>"
      ]
     },
     "metadata": {
      "needs_background": "light"
     },
     "output_type": "display_data"
    }
   ],
   "source": [
    "plt = train['rougher.input.feed_size'].fillna(0).hist(bins=100, alpha=0.7, figsize=(10,4))\n",
    "plt = test['rougher.input.feed_size'].fillna(0).hist(bins=100, alpha=0.7, figsize=(10,4))\n",
    "plt.set_xlabel('Размер зерна')\n",
    "plt.set_ylabel('Частота')\n",
    "plt.set_title('rougher')\n",
    "plt.legend(['train', 'test']);"
   ]
  },
  {
   "cell_type": "code",
   "execution_count": 21,
   "metadata": {},
   "outputs": [
    {
     "data": {
      "text/plain": [
       "10.387637036645678"
      ]
     },
     "execution_count": 21,
     "metadata": {},
     "output_type": "execute_result"
    }
   ],
   "source": [
    "abs(train['rougher.input.feed_size'] - test['rougher.input.feed_size']).median()"
   ]
  },
  {
   "cell_type": "markdown",
   "metadata": {},
   "source": [
    "Разница довольно велика. Дополнительно проведем тест Колмогорова-Смирнова для двух распределений. Примем нулевую гипотезу что данные выборки `test` и `train` взяты из одной выборки. Примем уровень значимости 95%. Следовательно p-value = 0.05"
   ]
  },
  {
   "cell_type": "code",
   "execution_count": 22,
   "metadata": {},
   "outputs": [
    {
     "data": {
      "text/plain": [
       "KstestResult(statistic=0.2505820112464947, pvalue=1.692354628798114e-213)"
      ]
     },
     "execution_count": 22,
     "metadata": {},
     "output_type": "execute_result"
    }
   ],
   "source": [
    "from scipy.stats import ks_2samp\n",
    "\n",
    "ks_2samp(train['rougher.input.feed_size'], test['rougher.input.feed_size'], alternative='two-sided')"
   ]
  },
  {
   "cell_type": "markdown",
   "metadata": {},
   "source": [
    "Тест отвергает нулевую гипотезу о том что данные взяты из одного распределения.\n",
    "\n",
    "Данные о размерах зерен значительно отличаются для тренировочной и тестовой выборки, что в худшую сторону повлияет на качество модели"
   ]
  },
  {
   "cell_type": "code",
   "execution_count": 23,
   "metadata": {},
   "outputs": [
    {
     "data": {
      "image/png": "[encoded data removed]",
      "text/plain": [
       "<Figure size 720x288 with 1 Axes>"
      ]
     },
     "metadata": {
      "needs_background": "light"
     },
     "output_type": "display_data"
    }
   ],
   "source": [
    "df = pd.DataFrame()\n",
    "\n",
    "df['rougher.input'] = full['rougher.input.feed_pb'] + \\\n",
    "                      full['rougher.input.feed_au'] + \\\n",
    "                      full['rougher.input.feed_ag']\n",
    "\n",
    "df['rougher.output'] = full['rougher.output.concentrate_pb'] + \\\n",
    "                       full['rougher.output.concentrate_au'] + \\\n",
    "                       full['rougher.output.concentrate_ag']\n",
    "\n",
    "df['final.output'] = full['final.output.concentrate_pb'] + \\\n",
    "                     full['final.output.concentrate_au'] + \\\n",
    "                     full['final.output.concentrate_ag']\n",
    "\n",
    "df = df.fillna(-1)\n",
    "\n",
    "for col in df.columns:\n",
    "    plt = df[col].hist(bins=100, alpha=0.7, figsize=(10,4))\n",
    "    \n",
    "plt.set_xlabel('Концентрация')\n",
    "plt.set_ylabel('Частота')\n",
    "plt.set_title('Распределение концентраций металлов на этапах')\n",
    "plt.legend(['rougher.input', 'rougher.output', 'final.output']);"
   ]
  },
  {
   "cell_type": "code",
   "execution_count": 24,
   "metadata": {},
   "outputs": [
    {
     "data": {
      "text/plain": [
       "(14149, 87)"
      ]
     },
     "execution_count": 24,
     "metadata": {},
     "output_type": "execute_result"
    }
   ],
   "source": [
    "train.shape"
   ]
  },
  {
   "cell_type": "code",
   "execution_count": 25,
   "metadata": {},
   "outputs": [],
   "source": [
    "metalls=['au', 'ag', 'pb']                    \n",
    "for met in metalls:      \n",
    "    train = train[train['rougher.input.feed_' + str(met)]>1]\n",
    "    train = train[train['rougher.output.concentrate_' + str(met)]>1]\n",
    "    train = train[train['final.output.concentrate_' + str(met)]>1]"
   ]
  },
  {
   "cell_type": "code",
   "execution_count": 26,
   "metadata": {},
   "outputs": [
    {
     "data": {
      "text/plain": [
       "(13580, 87)"
      ]
     },
     "execution_count": 26,
     "metadata": {},
     "output_type": "execute_result"
    }
   ],
   "source": [
    "train.shape"
   ]
  },
  {
   "cell_type": "code",
   "execution_count": 27,
   "metadata": {},
   "outputs": [
    {
     "data": {
      "text/html": [
       "<div>\n",
       "<style scoped>\n",
       "    .dataframe tbody tr th:only-of-type {\n",
       "        vertical-align: middle;\n",
       "    }\n",
       "\n",
       "    .dataframe tbody tr th {\n",
       "        vertical-align: top;\n",
       "    }\n",
       "\n",
       "    .dataframe thead th {\n",
       "        text-align: right;\n",
       "    }\n",
       "</style>\n",
       "<table border=\"1\" class=\"dataframe\">\n",
       "  <thead>\n",
       "    <tr style=\"text-align: right;\">\n",
       "      <th></th>\n",
       "      <th>date</th>\n",
       "      <th>final.output.concentrate_ag</th>\n",
       "      <th>final.output.concentrate_pb</th>\n",
       "      <th>final.output.concentrate_sol</th>\n",
       "      <th>final.output.concentrate_au</th>\n",
       "      <th>final.output.recovery</th>\n",
       "      <th>final.output.tail_ag</th>\n",
       "      <th>final.output.tail_pb</th>\n",
       "      <th>final.output.tail_sol</th>\n",
       "      <th>final.output.tail_au</th>\n",
       "      <th>...</th>\n",
       "      <th>secondary_cleaner.state.floatbank4_a_air</th>\n",
       "      <th>secondary_cleaner.state.floatbank4_a_level</th>\n",
       "      <th>secondary_cleaner.state.floatbank4_b_air</th>\n",
       "      <th>secondary_cleaner.state.floatbank4_b_level</th>\n",
       "      <th>secondary_cleaner.state.floatbank5_a_air</th>\n",
       "      <th>secondary_cleaner.state.floatbank5_a_level</th>\n",
       "      <th>secondary_cleaner.state.floatbank5_b_air</th>\n",
       "      <th>secondary_cleaner.state.floatbank5_b_level</th>\n",
       "      <th>secondary_cleaner.state.floatbank6_a_air</th>\n",
       "      <th>secondary_cleaner.state.floatbank6_a_level</th>\n",
       "    </tr>\n",
       "  </thead>\n",
       "  <tbody>\n",
       "  </tbody>\n",
       "</table>\n",
       "<p>0 rows × 87 columns</p>\n",
       "</div>"
      ],
      "text/plain": [
       "Empty DataFrame\n",
       "Columns: [date, final.output.concentrate_ag, final.output.concentrate_pb, final.output.concentrate_sol, final.output.concentrate_au, final.output.recovery, final.output.tail_ag, final.output.tail_pb, final.output.tail_sol, final.output.tail_au, primary_cleaner.input.sulfate, primary_cleaner.input.depressant, primary_cleaner.input.feed_size, primary_cleaner.input.xanthate, primary_cleaner.output.concentrate_ag, primary_cleaner.output.concentrate_pb, primary_cleaner.output.concentrate_sol, primary_cleaner.output.concentrate_au, primary_cleaner.output.tail_ag, primary_cleaner.output.tail_pb, primary_cleaner.output.tail_sol, primary_cleaner.output.tail_au, primary_cleaner.state.floatbank8_a_air, primary_cleaner.state.floatbank8_a_level, primary_cleaner.state.floatbank8_b_air, primary_cleaner.state.floatbank8_b_level, primary_cleaner.state.floatbank8_c_air, primary_cleaner.state.floatbank8_c_level, primary_cleaner.state.floatbank8_d_air, primary_cleaner.state.floatbank8_d_level, rougher.calculation.sulfate_to_au_concentrate, rougher.calculation.floatbank10_sulfate_to_au_feed, rougher.calculation.floatbank11_sulfate_to_au_feed, rougher.calculation.au_pb_ratio, rougher.input.feed_ag, rougher.input.feed_pb, rougher.input.feed_rate, rougher.input.feed_size, rougher.input.feed_sol, rougher.input.feed_au, rougher.input.floatbank10_sulfate, rougher.input.floatbank10_xanthate, rougher.input.floatbank11_sulfate, rougher.input.floatbank11_xanthate, rougher.output.concentrate_ag, rougher.output.concentrate_pb, rougher.output.concentrate_sol, rougher.output.concentrate_au, rougher.output.recovery, rougher.output.tail_ag, rougher.output.tail_pb, rougher.output.tail_sol, rougher.output.tail_au, rougher.state.floatbank10_a_air, rougher.state.floatbank10_a_level, rougher.state.floatbank10_b_air, rougher.state.floatbank10_b_level, rougher.state.floatbank10_c_air, rougher.state.floatbank10_c_level, rougher.state.floatbank10_d_air, rougher.state.floatbank10_d_level, rougher.state.floatbank10_e_air, rougher.state.floatbank10_e_level, rougher.state.floatbank10_f_air, rougher.state.floatbank10_f_level, secondary_cleaner.output.tail_ag, secondary_cleaner.output.tail_pb, secondary_cleaner.output.tail_sol, secondary_cleaner.output.tail_au, secondary_cleaner.state.floatbank2_a_air, secondary_cleaner.state.floatbank2_a_level, secondary_cleaner.state.floatbank2_b_air, secondary_cleaner.state.floatbank2_b_level, secondary_cleaner.state.floatbank3_a_air, secondary_cleaner.state.floatbank3_a_level, secondary_cleaner.state.floatbank3_b_air, secondary_cleaner.state.floatbank3_b_level, secondary_cleaner.state.floatbank4_a_air, secondary_cleaner.state.floatbank4_a_level, secondary_cleaner.state.floatbank4_b_air, secondary_cleaner.state.floatbank4_b_level, secondary_cleaner.state.floatbank5_a_air, secondary_cleaner.state.floatbank5_a_level, secondary_cleaner.state.floatbank5_b_air, secondary_cleaner.state.floatbank5_b_level, secondary_cleaner.state.floatbank6_a_air, secondary_cleaner.state.floatbank6_a_level]\n",
       "Index: []\n",
       "\n",
       "[0 rows x 87 columns]"
      ]
     },
     "execution_count": 27,
     "metadata": {},
     "output_type": "execute_result"
    }
   ],
   "source": [
    "train[train['rougher.input.feed_pb']<1]"
   ]
  },
  {
   "cell_type": "markdown",
   "metadata": {},
   "source": [
    "Подготовим функцию расчета метрики качества, и сделаем scorer"
   ]
  },
  {
   "cell_type": "code",
   "execution_count": 28,
   "metadata": {},
   "outputs": [],
   "source": [
    "def smape(y, y_pred):\n",
    "    return (1 / len(y) * sum(abs(y - y_pred) * 2 / (abs(y) + abs(y_pred)))) * 100\n",
    "\n",
    "\n",
    "def smape_final(rougher, final):\n",
    "    return 0.25*rougher + 0.75*final\n",
    "\n",
    "smape_scorer = make_scorer(smape, greater_is_better=False)"
   ]
  },
  {
   "cell_type": "markdown",
   "metadata": {},
   "source": [
    "Проверим на пропуски по столбцам"
   ]
  },
  {
   "cell_type": "code",
   "execution_count": 29,
   "metadata": {},
   "outputs": [
    {
     "data": {
      "text/plain": [
       "secondary_cleaner.output.tail_sol           1748\n",
       "rougher.input.floatbank11_xanthate           453\n",
       "rougher.state.floatbank10_e_air              436\n",
       "primary_cleaner.output.concentrate_sol       370\n",
       "secondary_cleaner.state.floatbank2_a_air     220\n",
       "final.output.concentrate_sol                 211\n",
       "rougher.input.feed_size                      145\n",
       "primary_cleaner.output.concentrate_pb        116\n",
       "primary_cleaner.input.xanthate               104\n",
       "final.output.tail_pb                         101\n",
       "rougher.input.feed_pb                        100\n",
       "rougher.input.feed_sol                        99\n",
       "primary_cleaner.output.tail_sol               62\n",
       "rougher.input.floatbank11_sulfate             44\n",
       "primary_cleaner.input.depressant              37\n",
       "rougher.input.floatbank10_sulfate             34\n",
       "primary_cleaner.input.sulfate                 24\n",
       "rougher.output.concentrate_sol                23\n",
       "secondary_cleaner.state.floatbank2_b_air      23\n",
       "primary_cleaner.output.tail_pb                21\n",
       "dtype: int64"
      ]
     },
     "execution_count": 29,
     "metadata": {},
     "output_type": "execute_result"
    }
   ],
   "source": [
    "full.isna().sum().sort_values(ascending=False).head(20)"
   ]
  },
  {
   "cell_type": "markdown",
   "metadata": {},
   "source": [
    "Пропуски заполним на этапе работы модели"
   ]
  },
  {
   "cell_type": "markdown",
   "metadata": {},
   "source": [
    "Выберем столбцы с сильной корреляцией, которые могут помешать работе модели"
   ]
  },
  {
   "cell_type": "code",
   "execution_count": 30,
   "metadata": {},
   "outputs": [
    {
     "data": {
      "text/plain": [
       "{'primary_cleaner.output.tail_pb',\n",
       " 'primary_cleaner.state.floatbank8_b_air',\n",
       " 'primary_cleaner.state.floatbank8_b_level',\n",
       " 'primary_cleaner.state.floatbank8_c_air',\n",
       " 'primary_cleaner.state.floatbank8_c_level',\n",
       " 'rougher.calculation.floatbank11_sulfate_to_au_feed',\n",
       " 'rougher.input.feed_au',\n",
       " 'rougher.input.floatbank11_xanthate',\n",
       " 'rougher.output.tail_au',\n",
       " 'rougher.state.floatbank10_c_air',\n",
       " 'rougher.state.floatbank10_c_level',\n",
       " 'rougher.state.floatbank10_d_air',\n",
       " 'rougher.state.floatbank10_d_level',\n",
       " 'rougher.state.floatbank10_e_air',\n",
       " 'rougher.state.floatbank10_e_level',\n",
       " 'rougher.state.floatbank10_f_air',\n",
       " 'rougher.state.floatbank10_f_level',\n",
       " 'secondary_cleaner.state.floatbank2_b_air',\n",
       " 'secondary_cleaner.state.floatbank2_b_level',\n",
       " 'secondary_cleaner.state.floatbank4_b_air',\n",
       " 'secondary_cleaner.state.floatbank5_a_air',\n",
       " 'secondary_cleaner.state.floatbank5_b_air',\n",
       " 'secondary_cleaner.state.floatbank5_b_level'}"
      ]
     },
     "execution_count": 30,
     "metadata": {},
     "output_type": "execute_result"
    }
   ],
   "source": [
    "corr_feat = set()\n",
    "corr_matrix = train.corr()\n",
    "for i in range(len(corr_matrix.columns)):\n",
    "    for j in range(i):\n",
    "        if abs(corr_matrix.iloc[i, j]) > 0.8:\n",
    "            colname = corr_matrix.columns[i]\n",
    "            corr_feat.add(colname)\n",
    "corr_feat"
   ]
  },
  {
   "cell_type": "markdown",
   "metadata": {},
   "source": [
    "Похоже, что в столбцах floatbank указаны данные для разных резервуаров для одного технологического процесса"
   ]
  },
  {
   "cell_type": "markdown",
   "metadata": {},
   "source": [
    "Добавим столбцы которыми отличаются в выборках `train` и `test`"
   ]
  },
  {
   "cell_type": "code",
   "execution_count": 31,
   "metadata": {},
   "outputs": [],
   "source": [
    "train_test_diff_delcorr = train_test_diff + list(corr_feat)"
   ]
  },
  {
   "cell_type": "markdown",
   "metadata": {},
   "source": [
    "И столбец с датой"
   ]
  },
  {
   "cell_type": "code",
   "execution_count": 32,
   "metadata": {},
   "outputs": [],
   "source": [
    "train_test_diff_delcorr.append('date')"
   ]
  },
  {
   "cell_type": "markdown",
   "metadata": {},
   "source": [
    "Перемешаем обучающую выборку"
   ]
  },
  {
   "cell_type": "code",
   "execution_count": 33,
   "metadata": {},
   "outputs": [],
   "source": [
    "train = shuffle(train, random_state=47)"
   ]
  },
  {
   "cell_type": "markdown",
   "metadata": {},
   "source": [
    "**Вывод**\n",
    "Данные проанализированы и подготовлены к обучению модели. Пропуски будут заполнены моделью.\n",
    "\n",
    "Сильно коррелирующие признаки удалены.\n",
    "\n",
    "Размер зерен значительно отличается на тестовой и тренировочной выборке, что в худшую сторону повлияет на качество модели"
   ]
  },
  {
   "cell_type": "markdown",
   "metadata": {},
   "source": [
    "## Модель"
   ]
  },
  {
   "cell_type": "markdown",
   "metadata": {},
   "source": [
    "Разобьем данные и подготовим столбцы для обучения модели"
   ]
  },
  {
   "cell_type": "code",
   "execution_count": 34,
   "metadata": {},
   "outputs": [
    {
     "name": "stdout",
     "output_type": "stream",
     "text": [
      "Тренировочная выборка: (13580, 32)\n",
      "Среднее в тренировочной выборке для rougher: 84.61\n",
      "Среднее в тренировочной выборке для final: 66.96\n",
      " *  *  * \n",
      "Тестовая выборка: (5290, 32)\n",
      "Среднее в тестовой выборке для rougher: 85.0\n",
      "Среднее в тестовой выборке для final: 68.47\n",
      " *  *  * \n",
      "Отношение train/test: 0.39\n"
     ]
    }
   ],
   "source": [
    "X_train = train.drop(train_test_diff_delcorr, axis=1)\n",
    "y_train_rougher = train['rougher.output.recovery']\n",
    "y_train_final = train['final.output.recovery']\n",
    "\n",
    "X_test = test.drop(train_test_diff_delcorr, axis=1, errors='ignore')\n",
    "y_test_rougher = test.merge(\n",
    "    full[['date', 'rougher.output.recovery']], \n",
    "    on='date', \n",
    "    how='inner')['rougher.output.recovery']\n",
    "y_test_final = test.merge(\n",
    "    full[['date', 'final.output.recovery']], \n",
    "    on='date', \n",
    "    how='inner')['final.output.recovery']\n",
    "\n",
    "\n",
    "print('Тренировочная выборка:', X_train.shape)\n",
    "print('Среднее в тренировочной выборке для rougher:', round(y_train_rougher.mean(), 2))\n",
    "print('Среднее в тренировочной выборке для final:', round(y_train_final.mean(), 2))\n",
    "print(' * '*3)\n",
    "print('Тестовая выборка:', X_test.shape)\n",
    "print('Среднее в тестовой выборке для rougher:', round(y_test_rougher.mean(), 2))\n",
    "print('Среднее в тестовой выборке для final:', round(y_test_final.mean(), 2))\n",
    "print(' * '*3)\n",
    "print('Отношение train/test:', round(len(X_test)/len(X_train), 2))"
   ]
  },
  {
   "cell_type": "code",
   "execution_count": 35,
   "metadata": {},
   "outputs": [],
   "source": [
    "pipe = Pipeline(\n",
    "    [\n",
    "        (\"imputer\", SimpleImputer()), # KNNImputer логичнее, так как рядом стоящие значения похожи, но он сломался\n",
    "        (\"scaler\", MinMaxScaler()),\n",
    "        (\"regressor\", CatBoostRegressor())\n",
    "    ]\n",
    ")\n",
    "\n",
    "param_grid = [\n",
    "    {\n",
    "        'regressor': [CatBoostRegressor(random_state=47, silent=True)],\n",
    "        'regressor__depth': [6, 8, 10],\n",
    "        'regressor__learning_rate': [0.03, 0.1, 1],\n",
    "        'regressor__iterations': [50, 100]\n",
    "    },\n",
    "    {\n",
    "        'regressor': [Lasso(random_state=47)],\n",
    "        'regressor__alpha': [0.1, 0.5, 1],\n",
    "        'regressor__tol': [0.001, 0.01, 0.1],\n",
    "        'regressor__max_iter': [100000, 1000000]\n",
    "    }\n",
    "]\n",
    "\n",
    "grid = RandomizedSearchCV(pipe, param_grid, n_iter=50 ,cv=5, scoring = smape_scorer, verbose=3)"
   ]
  },
  {
   "cell_type": "code",
   "execution_count": 36,
   "metadata": {
    "scrolled": true
   },
   "outputs": [
    {
     "name": "stdout",
     "output_type": "stream",
     "text": [
      "Fitting 5 folds for each of 36 candidates, totalling 180 fits\n"
     ]
    },
    {
     "name": "stderr",
     "output_type": "stream",
     "text": [
      "c:\\Users\\s7\\anaconda3\\lib\\site-packages\\sklearn\\model_selection\\_search.py:305: UserWarning:\n",
      "\n",
      "The total space of parameters 36 is smaller than n_iter=50. Running 36 iterations. For exhaustive searches, use GridSearchCV.\n",
      "\n"
     ]
    },
    {
     "name": "stdout",
     "output_type": "stream",
     "text": [
      "[CV 1/5] END regressor=<catboost.core.CatBoostRegressor object at 0x0000022594EFFBB0>, regressor__depth=6, regressor__iterations=50, regressor__learning_rate=0.03;, score=-4.564 total time=   1.2s\n",
      "[CV 2/5] END regressor=<catboost.core.CatBoostRegressor object at 0x0000022594EFFBB0>, regressor__depth=6, regressor__iterations=50, regressor__learning_rate=0.03;, score=-4.506 total time=   1.0s\n",
      "[CV 3/5] END regressor=<catboost.core.CatBoostRegressor object at 0x0000022594EFFBB0>, regressor__depth=6, regressor__iterations=50, regressor__learning_rate=0.03;, score=-4.323 total time=   0.8s\n",
      "[CV 4/5] END regressor=<catboost.core.CatBoostRegressor object at 0x0000022594EFFBB0>, regressor__depth=6, regressor__iterations=50, regressor__learning_rate=0.03;, score=-4.256 total time=   0.7s\n",
      "[CV 5/5] END regressor=<catboost.core.CatBoostRegressor object at 0x0000022594EFFBB0>, regressor__depth=6, regressor__iterations=50, regressor__learning_rate=0.03;, score=-4.307 total time=   0.7s\n",
      "[CV 1/5] END regressor=<catboost.core.CatBoostRegressor object at 0x0000022594EFFBB0>, regressor__depth=6, regressor__iterations=50, regressor__learning_rate=0.1;, score=-3.739 total time=   0.7s\n",
      "[CV 2/5] END regressor=<catboost.core.CatBoostRegressor object at 0x0000022594EFFBB0>, regressor__depth=6, regressor__iterations=50, regressor__learning_rate=0.1;, score=-3.717 total time=   0.7s\n",
      "[CV 3/5] END regressor=<catboost.core.CatBoostRegressor object at 0x0000022594EFFBB0>, regressor__depth=6, regressor__iterations=50, regressor__learning_rate=0.1;, score=-3.615 total time=   0.7s\n",
      "[CV 4/5] END regressor=<catboost.core.CatBoostRegressor object at 0x0000022594EFFBB0>, regressor__depth=6, regressor__iterations=50, regressor__learning_rate=0.1;, score=-3.524 total time=   0.7s\n",
      "[CV 5/5] END regressor=<catboost.core.CatBoostRegressor object at 0x0000022594EFFBB0>, regressor__depth=6, regressor__iterations=50, regressor__learning_rate=0.1;, score=-3.594 total time=   0.7s\n",
      "[CV 1/5] END regressor=<catboost.core.CatBoostRegressor object at 0x0000022594EFFBB0>, regressor__depth=6, regressor__iterations=50, regressor__learning_rate=1;, score=-3.468 total time=   0.8s\n",
      "[CV 2/5] END regressor=<catboost.core.CatBoostRegressor object at 0x0000022594EFFBB0>, regressor__depth=6, regressor__iterations=50, regressor__learning_rate=1;, score=-3.443 total time=   0.7s\n",
      "[CV 3/5] END regressor=<catboost.core.CatBoostRegressor object at 0x0000022594EFFBB0>, regressor__depth=6, regressor__iterations=50, regressor__learning_rate=1;, score=-3.447 total time=   0.7s\n",
      "[CV 4/5] END regressor=<catboost.core.CatBoostRegressor object at 0x0000022594EFFBB0>, regressor__depth=6, regressor__iterations=50, regressor__learning_rate=1;, score=-3.392 total time=   0.7s\n",
      "[CV 5/5] END regressor=<catboost.core.CatBoostRegressor object at 0x0000022594EFFBB0>, regressor__depth=6, regressor__iterations=50, regressor__learning_rate=1;, score=-3.439 total time=   0.7s\n",
      "[CV 1/5] END regressor=<catboost.core.CatBoostRegressor object at 0x0000022594EFFBB0>, regressor__depth=6, regressor__iterations=100, regressor__learning_rate=0.03;, score=-4.016 total time=   1.4s\n",
      "[CV 2/5] END regressor=<catboost.core.CatBoostRegressor object at 0x0000022594EFFBB0>, regressor__depth=6, regressor__iterations=100, regressor__learning_rate=0.03;, score=-3.975 total time=   1.4s\n",
      "[CV 3/5] END regressor=<catboost.core.CatBoostRegressor object at 0x0000022594EFFBB0>, regressor__depth=6, regressor__iterations=100, regressor__learning_rate=0.03;, score=-3.828 total time=   1.2s\n",
      "[CV 4/5] END regressor=<catboost.core.CatBoostRegressor object at 0x0000022594EFFBB0>, regressor__depth=6, regressor__iterations=100, regressor__learning_rate=0.03;, score=-3.764 total time=   1.3s\n",
      "[CV 5/5] END regressor=<catboost.core.CatBoostRegressor object at 0x0000022594EFFBB0>, regressor__depth=6, regressor__iterations=100, regressor__learning_rate=0.03;, score=-3.822 total time=   1.6s\n",
      "[CV 1/5] END regressor=<catboost.core.CatBoostRegressor object at 0x0000022594EFFBB0>, regressor__depth=6, regressor__iterations=100, regressor__learning_rate=0.1;, score=-3.411 total time=   1.5s\n",
      "[CV 2/5] END regressor=<catboost.core.CatBoostRegressor object at 0x0000022594EFFBB0>, regressor__depth=6, regressor__iterations=100, regressor__learning_rate=0.1;, score=-3.390 total time=   1.4s\n",
      "[CV 3/5] END regressor=<catboost.core.CatBoostRegressor object at 0x0000022594EFFBB0>, regressor__depth=6, regressor__iterations=100, regressor__learning_rate=0.1;, score=-3.297 total time=   1.4s\n",
      "[CV 4/5] END regressor=<catboost.core.CatBoostRegressor object at 0x0000022594EFFBB0>, regressor__depth=6, regressor__iterations=100, regressor__learning_rate=0.1;, score=-3.152 total time=   1.3s\n",
      "[CV 5/5] END regressor=<catboost.core.CatBoostRegressor object at 0x0000022594EFFBB0>, regressor__depth=6, regressor__iterations=100, regressor__learning_rate=0.1;, score=-3.235 total time=   1.3s\n",
      "[CV 1/5] END regressor=<catboost.core.CatBoostRegressor object at 0x0000022594EFFBB0>, regressor__depth=6, regressor__iterations=100, regressor__learning_rate=1;, score=-3.427 total time=   1.3s\n",
      "[CV 2/5] END regressor=<catboost.core.CatBoostRegressor object at 0x0000022594EFFBB0>, regressor__depth=6, regressor__iterations=100, regressor__learning_rate=1;, score=-3.397 total time=   1.2s\n",
      "[CV 3/5] END regressor=<catboost.core.CatBoostRegressor object at 0x0000022594EFFBB0>, regressor__depth=6, regressor__iterations=100, regressor__learning_rate=1;, score=-3.460 total time=   1.3s\n",
      "[CV 4/5] END regressor=<catboost.core.CatBoostRegressor object at 0x0000022594EFFBB0>, regressor__depth=6, regressor__iterations=100, regressor__learning_rate=1;, score=-3.352 total time=   1.2s\n",
      "[CV 5/5] END regressor=<catboost.core.CatBoostRegressor object at 0x0000022594EFFBB0>, regressor__depth=6, regressor__iterations=100, regressor__learning_rate=1;, score=-3.434 total time=   1.4s\n",
      "[CV 1/5] END regressor=<catboost.core.CatBoostRegressor object at 0x0000022594EFFBB0>, regressor__depth=8, regressor__iterations=50, regressor__learning_rate=0.03;, score=-4.325 total time=   1.9s\n",
      "[CV 2/5] END regressor=<catboost.core.CatBoostRegressor object at 0x0000022594EFFBB0>, regressor__depth=8, regressor__iterations=50, regressor__learning_rate=0.03;, score=-4.284 total time=   1.9s\n",
      "[CV 3/5] END regressor=<catboost.core.CatBoostRegressor object at 0x0000022594EFFBB0>, regressor__depth=8, regressor__iterations=50, regressor__learning_rate=0.03;, score=-4.077 total time=   1.6s\n",
      "[CV 4/5] END regressor=<catboost.core.CatBoostRegressor object at 0x0000022594EFFBB0>, regressor__depth=8, regressor__iterations=50, regressor__learning_rate=0.03;, score=-4.023 total time=   1.7s\n",
      "[CV 5/5] END regressor=<catboost.core.CatBoostRegressor object at 0x0000022594EFFBB0>, regressor__depth=8, regressor__iterations=50, regressor__learning_rate=0.03;, score=-4.080 total time=   1.8s\n",
      "[CV 1/5] END regressor=<catboost.core.CatBoostRegressor object at 0x0000022594EFFBB0>, regressor__depth=8, regressor__iterations=50, regressor__learning_rate=0.1;, score=-3.462 total time=   1.7s\n",
      "[CV 2/5] END regressor=<catboost.core.CatBoostRegressor object at 0x0000022594EFFBB0>, regressor__depth=8, regressor__iterations=50, regressor__learning_rate=0.1;, score=-3.472 total time=   1.8s\n",
      "[CV 3/5] END regressor=<catboost.core.CatBoostRegressor object at 0x0000022594EFFBB0>, regressor__depth=8, regressor__iterations=50, regressor__learning_rate=0.1;, score=-3.349 total time=   1.7s\n",
      "[CV 4/5] END regressor=<catboost.core.CatBoostRegressor object at 0x0000022594EFFBB0>, regressor__depth=8, regressor__iterations=50, regressor__learning_rate=0.1;, score=-3.238 total time=   2.0s\n",
      "[CV 5/5] END regressor=<catboost.core.CatBoostRegressor object at 0x0000022594EFFBB0>, regressor__depth=8, regressor__iterations=50, regressor__learning_rate=0.1;, score=-3.329 total time=   1.8s\n",
      "[CV 1/5] END regressor=<catboost.core.CatBoostRegressor object at 0x0000022594EFFBB0>, regressor__depth=8, regressor__iterations=50, regressor__learning_rate=1;, score=-3.505 total time=   2.2s\n",
      "[CV 2/5] END regressor=<catboost.core.CatBoostRegressor object at 0x0000022594EFFBB0>, regressor__depth=8, regressor__iterations=50, regressor__learning_rate=1;, score=-3.478 total time=   1.6s\n",
      "[CV 3/5] END regressor=<catboost.core.CatBoostRegressor object at 0x0000022594EFFBB0>, regressor__depth=8, regressor__iterations=50, regressor__learning_rate=1;, score=-3.474 total time=   1.7s\n",
      "[CV 4/5] END regressor=<catboost.core.CatBoostRegressor object at 0x0000022594EFFBB0>, regressor__depth=8, regressor__iterations=50, regressor__learning_rate=1;, score=-3.294 total time=   1.6s\n",
      "[CV 5/5] END regressor=<catboost.core.CatBoostRegressor object at 0x0000022594EFFBB0>, regressor__depth=8, regressor__iterations=50, regressor__learning_rate=1;, score=-3.495 total time=   1.7s\n",
      "[CV 1/5] END regressor=<catboost.core.CatBoostRegressor object at 0x0000022594EFFBB0>, regressor__depth=8, regressor__iterations=100, regressor__learning_rate=0.03;, score=-3.752 total time=   3.1s\n",
      "[CV 2/5] END regressor=<catboost.core.CatBoostRegressor object at 0x0000022594EFFBB0>, regressor__depth=8, regressor__iterations=100, regressor__learning_rate=0.03;, score=-3.719 total time=   3.2s\n",
      "[CV 3/5] END regressor=<catboost.core.CatBoostRegressor object at 0x0000022594EFFBB0>, regressor__depth=8, regressor__iterations=100, regressor__learning_rate=0.03;, score=-3.561 total time=   3.3s\n",
      "[CV 4/5] END regressor=<catboost.core.CatBoostRegressor object at 0x0000022594EFFBB0>, regressor__depth=8, regressor__iterations=100, regressor__learning_rate=0.03;, score=-3.476 total time=   3.1s\n",
      "[CV 5/5] END regressor=<catboost.core.CatBoostRegressor object at 0x0000022594EFFBB0>, regressor__depth=8, regressor__iterations=100, regressor__learning_rate=0.03;, score=-3.571 total time=   3.4s\n",
      "[CV 1/5] END regressor=<catboost.core.CatBoostRegressor object at 0x0000022594EFFBB0>, regressor__depth=8, regressor__iterations=100, regressor__learning_rate=0.1;, score=-3.126 total time=   4.1s\n",
      "[CV 2/5] END regressor=<catboost.core.CatBoostRegressor object at 0x0000022594EFFBB0>, regressor__depth=8, regressor__iterations=100, regressor__learning_rate=0.1;, score=-3.088 total time=   3.4s\n",
      "[CV 3/5] END regressor=<catboost.core.CatBoostRegressor object at 0x0000022594EFFBB0>, regressor__depth=8, regressor__iterations=100, regressor__learning_rate=0.1;, score=-3.032 total time=   3.2s\n",
      "[CV 4/5] END regressor=<catboost.core.CatBoostRegressor object at 0x0000022594EFFBB0>, regressor__depth=8, regressor__iterations=100, regressor__learning_rate=0.1;, score=-2.915 total time=   3.1s\n",
      "[CV 5/5] END regressor=<catboost.core.CatBoostRegressor object at 0x0000022594EFFBB0>, regressor__depth=8, regressor__iterations=100, regressor__learning_rate=0.1;, score=-3.001 total time=   3.0s\n",
      "[CV 1/5] END regressor=<catboost.core.CatBoostRegressor object at 0x0000022594EFFBB0>, regressor__depth=8, regressor__iterations=100, regressor__learning_rate=1;, score=-3.589 total time=   3.1s\n",
      "[CV 2/5] END regressor=<catboost.core.CatBoostRegressor object at 0x0000022594EFFBB0>, regressor__depth=8, regressor__iterations=100, regressor__learning_rate=1;, score=-3.566 total time=   3.0s\n",
      "[CV 3/5] END regressor=<catboost.core.CatBoostRegressor object at 0x0000022594EFFBB0>, regressor__depth=8, regressor__iterations=100, regressor__learning_rate=1;, score=-3.569 total time=   3.5s\n",
      "[CV 4/5] END regressor=<catboost.core.CatBoostRegressor object at 0x0000022594EFFBB0>, regressor__depth=8, regressor__iterations=100, regressor__learning_rate=1;, score=-3.369 total time=   3.2s\n",
      "[CV 5/5] END regressor=<catboost.core.CatBoostRegressor object at 0x0000022594EFFBB0>, regressor__depth=8, regressor__iterations=100, regressor__learning_rate=1;, score=-3.592 total time=   3.0s\n",
      "[CV 1/5] END regressor=<catboost.core.CatBoostRegressor object at 0x0000022594EFFBB0>, regressor__depth=10, regressor__iterations=50, regressor__learning_rate=0.03;, score=-4.116 total time=   6.1s\n",
      "[CV 2/5] END regressor=<catboost.core.CatBoostRegressor object at 0x0000022594EFFBB0>, regressor__depth=10, regressor__iterations=50, regressor__learning_rate=0.03;, score=-4.077 total time=   7.0s\n",
      "[CV 3/5] END regressor=<catboost.core.CatBoostRegressor object at 0x0000022594EFFBB0>, regressor__depth=10, regressor__iterations=50, regressor__learning_rate=0.03;, score=-3.904 total time=   6.4s\n",
      "[CV 4/5] END regressor=<catboost.core.CatBoostRegressor object at 0x0000022594EFFBB0>, regressor__depth=10, regressor__iterations=50, regressor__learning_rate=0.03;, score=-3.810 total time=   6.2s\n",
      "[CV 5/5] END regressor=<catboost.core.CatBoostRegressor object at 0x0000022594EFFBB0>, regressor__depth=10, regressor__iterations=50, regressor__learning_rate=0.03;, score=-3.861 total time=   6.2s\n",
      "[CV 1/5] END regressor=<catboost.core.CatBoostRegressor object at 0x0000022594EFFBB0>, regressor__depth=10, regressor__iterations=50, regressor__learning_rate=0.1;, score=-3.236 total time=   6.2s\n",
      "[CV 2/5] END regressor=<catboost.core.CatBoostRegressor object at 0x0000022594EFFBB0>, regressor__depth=10, regressor__iterations=50, regressor__learning_rate=0.1;, score=-3.258 total time=   6.1s\n",
      "[CV 3/5] END regressor=<catboost.core.CatBoostRegressor object at 0x0000022594EFFBB0>, regressor__depth=10, regressor__iterations=50, regressor__learning_rate=0.1;, score=-3.108 total time=   6.2s\n",
      "[CV 4/5] END regressor=<catboost.core.CatBoostRegressor object at 0x0000022594EFFBB0>, regressor__depth=10, regressor__iterations=50, regressor__learning_rate=0.1;, score=-3.035 total time=   6.2s\n",
      "[CV 5/5] END regressor=<catboost.core.CatBoostRegressor object at 0x0000022594EFFBB0>, regressor__depth=10, regressor__iterations=50, regressor__learning_rate=0.1;, score=-3.130 total time=   6.3s\n",
      "[CV 1/5] END regressor=<catboost.core.CatBoostRegressor object at 0x0000022594EFFBB0>, regressor__depth=10, regressor__iterations=50, regressor__learning_rate=1;, score=-3.663 total time=   6.2s\n",
      "[CV 2/5] END regressor=<catboost.core.CatBoostRegressor object at 0x0000022594EFFBB0>, regressor__depth=10, regressor__iterations=50, regressor__learning_rate=1;, score=-3.609 total time=   6.1s\n",
      "[CV 3/5] END regressor=<catboost.core.CatBoostRegressor object at 0x0000022594EFFBB0>, regressor__depth=10, regressor__iterations=50, regressor__learning_rate=1;, score=-3.497 total time=   6.1s\n",
      "[CV 4/5] END regressor=<catboost.core.CatBoostRegressor object at 0x0000022594EFFBB0>, regressor__depth=10, regressor__iterations=50, regressor__learning_rate=1;, score=-3.535 total time=   6.1s\n",
      "[CV 5/5] END regressor=<catboost.core.CatBoostRegressor object at 0x0000022594EFFBB0>, regressor__depth=10, regressor__iterations=50, regressor__learning_rate=1;, score=-3.450 total time=   6.1s\n",
      "[CV 1/5] END regressor=<catboost.core.CatBoostRegressor object at 0x0000022594EFFBB0>, regressor__depth=10, regressor__iterations=100, regressor__learning_rate=0.03;, score=-3.505 total time=  12.1s\n",
      "[CV 2/5] END regressor=<catboost.core.CatBoostRegressor object at 0x0000022594EFFBB0>, regressor__depth=10, regressor__iterations=100, regressor__learning_rate=0.03;, score=-3.471 total time=  11.9s\n",
      "[CV 3/5] END regressor=<catboost.core.CatBoostRegressor object at 0x0000022594EFFBB0>, regressor__depth=10, regressor__iterations=100, regressor__learning_rate=0.03;, score=-3.349 total time=  12.9s\n",
      "[CV 4/5] END regressor=<catboost.core.CatBoostRegressor object at 0x0000022594EFFBB0>, regressor__depth=10, regressor__iterations=100, regressor__learning_rate=0.03;, score=-3.227 total time=  12.6s\n",
      "[CV 5/5] END regressor=<catboost.core.CatBoostRegressor object at 0x0000022594EFFBB0>, regressor__depth=10, regressor__iterations=100, regressor__learning_rate=0.03;, score=-3.319 total time=  11.9s\n",
      "[CV 1/5] END regressor=<catboost.core.CatBoostRegressor object at 0x0000022594EFFBB0>, regressor__depth=10, regressor__iterations=100, regressor__learning_rate=0.1;, score=-2.916 total time=  12.1s\n",
      "[CV 2/5] END regressor=<catboost.core.CatBoostRegressor object at 0x0000022594EFFBB0>, regressor__depth=10, regressor__iterations=100, regressor__learning_rate=0.1;, score=-2.906 total time=  12.4s\n",
      "[CV 3/5] END regressor=<catboost.core.CatBoostRegressor object at 0x0000022594EFFBB0>, regressor__depth=10, regressor__iterations=100, regressor__learning_rate=0.1;, score=-2.819 total time=  13.3s\n",
      "[CV 4/5] END regressor=<catboost.core.CatBoostRegressor object at 0x0000022594EFFBB0>, regressor__depth=10, regressor__iterations=100, regressor__learning_rate=0.1;, score=-2.697 total time=  15.4s\n",
      "[CV 5/5] END regressor=<catboost.core.CatBoostRegressor object at 0x0000022594EFFBB0>, regressor__depth=10, regressor__iterations=100, regressor__learning_rate=0.1;, score=-2.812 total time=  12.4s\n",
      "[CV 1/5] END regressor=<catboost.core.CatBoostRegressor object at 0x0000022594EFFBB0>, regressor__depth=10, regressor__iterations=100, regressor__learning_rate=1;, score=-3.696 total time=  11.9s\n",
      "[CV 2/5] END regressor=<catboost.core.CatBoostRegressor object at 0x0000022594EFFBB0>, regressor__depth=10, regressor__iterations=100, regressor__learning_rate=1;, score=-3.675 total time=  12.0s\n",
      "[CV 3/5] END regressor=<catboost.core.CatBoostRegressor object at 0x0000022594EFFBB0>, regressor__depth=10, regressor__iterations=100, regressor__learning_rate=1;, score=-3.574 total time=  13.2s\n",
      "[CV 4/5] END regressor=<catboost.core.CatBoostRegressor object at 0x0000022594EFFBB0>, regressor__depth=10, regressor__iterations=100, regressor__learning_rate=1;, score=-3.597 total time=  13.1s\n",
      "[CV 5/5] END regressor=<catboost.core.CatBoostRegressor object at 0x0000022594EFFBB0>, regressor__depth=10, regressor__iterations=100, regressor__learning_rate=1;, score=-3.574 total time=  12.3s\n",
      "[CV 1/5] END regressor=Lasso(random_state=47), regressor__alpha=0.1, regressor__max_iter=100000, regressor__tol=0.001;, score=-5.576 total time=   0.0s\n",
      "[CV 2/5] END regressor=Lasso(random_state=47), regressor__alpha=0.1, regressor__max_iter=100000, regressor__tol=0.001;, score=-5.441 total time=   0.0s\n",
      "[CV 3/5] END regressor=Lasso(random_state=47), regressor__alpha=0.1, regressor__max_iter=100000, regressor__tol=0.001;, score=-5.194 total time=   0.0s\n",
      "[CV 4/5] END regressor=Lasso(random_state=47), regressor__alpha=0.1, regressor__max_iter=100000, regressor__tol=0.001;, score=-5.205 total time=   0.0s\n",
      "[CV 5/5] END regressor=Lasso(random_state=47), regressor__alpha=0.1, regressor__max_iter=100000, regressor__tol=0.001;, score=-5.240 total time=   0.0s\n",
      "[CV 1/5] END regressor=Lasso(random_state=47), regressor__alpha=0.1, regressor__max_iter=100000, regressor__tol=0.01;, score=-5.576 total time=   0.0s\n",
      "[CV 2/5] END regressor=Lasso(random_state=47), regressor__alpha=0.1, regressor__max_iter=100000, regressor__tol=0.01;, score=-5.442 total time=   0.0s\n",
      "[CV 3/5] END regressor=Lasso(random_state=47), regressor__alpha=0.1, regressor__max_iter=100000, regressor__tol=0.01;, score=-5.195 total time=   0.0s\n",
      "[CV 4/5] END regressor=Lasso(random_state=47), regressor__alpha=0.1, regressor__max_iter=100000, regressor__tol=0.01;, score=-5.205 total time=   0.0s\n",
      "[CV 5/5] END regressor=Lasso(random_state=47), regressor__alpha=0.1, regressor__max_iter=100000, regressor__tol=0.01;, score=-5.240 total time=   0.0s\n",
      "[CV 1/5] END regressor=Lasso(random_state=47), regressor__alpha=0.1, regressor__max_iter=100000, regressor__tol=0.1;, score=-5.582 total time=   0.0s\n",
      "[CV 2/5] END regressor=Lasso(random_state=47), regressor__alpha=0.1, regressor__max_iter=100000, regressor__tol=0.1;, score=-5.449 total time=   0.0s\n",
      "[CV 3/5] END regressor=Lasso(random_state=47), regressor__alpha=0.1, regressor__max_iter=100000, regressor__tol=0.1;, score=-5.199 total time=   0.0s\n",
      "[CV 4/5] END regressor=Lasso(random_state=47), regressor__alpha=0.1, regressor__max_iter=100000, regressor__tol=0.1;, score=-5.208 total time=   0.0s\n",
      "[CV 5/5] END regressor=Lasso(random_state=47), regressor__alpha=0.1, regressor__max_iter=100000, regressor__tol=0.1;, score=-5.246 total time=   0.0s\n",
      "[CV 1/5] END regressor=Lasso(random_state=47), regressor__alpha=0.1, regressor__max_iter=1000000, regressor__tol=0.001;, score=-5.576 total time=   0.0s\n",
      "[CV 2/5] END regressor=Lasso(random_state=47), regressor__alpha=0.1, regressor__max_iter=1000000, regressor__tol=0.001;, score=-5.441 total time=   0.0s\n",
      "[CV 3/5] END regressor=Lasso(random_state=47), regressor__alpha=0.1, regressor__max_iter=1000000, regressor__tol=0.001;, score=-5.194 total time=   0.0s\n",
      "[CV 4/5] END regressor=Lasso(random_state=47), regressor__alpha=0.1, regressor__max_iter=1000000, regressor__tol=0.001;, score=-5.205 total time=   0.0s\n",
      "[CV 5/5] END regressor=Lasso(random_state=47), regressor__alpha=0.1, regressor__max_iter=1000000, regressor__tol=0.001;, score=-5.240 total time=   0.0s\n",
      "[CV 1/5] END regressor=Lasso(random_state=47), regressor__alpha=0.1, regressor__max_iter=1000000, regressor__tol=0.01;, score=-5.576 total time=   0.0s\n",
      "[CV 2/5] END regressor=Lasso(random_state=47), regressor__alpha=0.1, regressor__max_iter=1000000, regressor__tol=0.01;, score=-5.442 total time=   0.0s\n",
      "[CV 3/5] END regressor=Lasso(random_state=47), regressor__alpha=0.1, regressor__max_iter=1000000, regressor__tol=0.01;, score=-5.195 total time=   0.0s\n",
      "[CV 4/5] END regressor=Lasso(random_state=47), regressor__alpha=0.1, regressor__max_iter=1000000, regressor__tol=0.01;, score=-5.205 total time=   0.0s\n",
      "[CV 5/5] END regressor=Lasso(random_state=47), regressor__alpha=0.1, regressor__max_iter=1000000, regressor__tol=0.01;, score=-5.240 total time=   0.0s\n",
      "[CV 1/5] END regressor=Lasso(random_state=47), regressor__alpha=0.1, regressor__max_iter=1000000, regressor__tol=0.1;, score=-5.582 total time=   0.0s\n",
      "[CV 2/5] END regressor=Lasso(random_state=47), regressor__alpha=0.1, regressor__max_iter=1000000, regressor__tol=0.1;, score=-5.449 total time=   0.0s\n",
      "[CV 3/5] END regressor=Lasso(random_state=47), regressor__alpha=0.1, regressor__max_iter=1000000, regressor__tol=0.1;, score=-5.199 total time=   0.0s\n",
      "[CV 4/5] END regressor=Lasso(random_state=47), regressor__alpha=0.1, regressor__max_iter=1000000, regressor__tol=0.1;, score=-5.208 total time=   0.0s\n",
      "[CV 5/5] END regressor=Lasso(random_state=47), regressor__alpha=0.1, regressor__max_iter=1000000, regressor__tol=0.1;, score=-5.246 total time=   0.0s\n",
      "[CV 1/5] END regressor=Lasso(random_state=47), regressor__alpha=0.5, regressor__max_iter=100000, regressor__tol=0.001;, score=-7.082 total time=   0.0s\n",
      "[CV 2/5] END regressor=Lasso(random_state=47), regressor__alpha=0.5, regressor__max_iter=100000, regressor__tol=0.001;, score=-7.054 total time=   0.0s\n",
      "[CV 3/5] END regressor=Lasso(random_state=47), regressor__alpha=0.5, regressor__max_iter=100000, regressor__tol=0.001;, score=-6.824 total time=   0.0s\n",
      "[CV 4/5] END regressor=Lasso(random_state=47), regressor__alpha=0.5, regressor__max_iter=100000, regressor__tol=0.001;, score=-6.773 total time=   0.0s\n",
      "[CV 5/5] END regressor=Lasso(random_state=47), regressor__alpha=0.5, regressor__max_iter=100000, regressor__tol=0.001;, score=-6.781 total time=   0.0s\n",
      "[CV 1/5] END regressor=Lasso(random_state=47), regressor__alpha=0.5, regressor__max_iter=100000, regressor__tol=0.01;, score=-7.082 total time=   0.0s\n",
      "[CV 2/5] END regressor=Lasso(random_state=47), regressor__alpha=0.5, regressor__max_iter=100000, regressor__tol=0.01;, score=-7.054 total time=   0.0s\n",
      "[CV 3/5] END regressor=Lasso(random_state=47), regressor__alpha=0.5, regressor__max_iter=100000, regressor__tol=0.01;, score=-6.824 total time=   0.0s\n",
      "[CV 4/5] END regressor=Lasso(random_state=47), regressor__alpha=0.5, regressor__max_iter=100000, regressor__tol=0.01;, score=-6.773 total time=   0.0s\n",
      "[CV 5/5] END regressor=Lasso(random_state=47), regressor__alpha=0.5, regressor__max_iter=100000, regressor__tol=0.01;, score=-6.781 total time=   0.0s\n",
      "[CV 1/5] END regressor=Lasso(random_state=47), regressor__alpha=0.5, regressor__max_iter=100000, regressor__tol=0.1;, score=-7.082 total time=   0.0s\n",
      "[CV 2/5] END regressor=Lasso(random_state=47), regressor__alpha=0.5, regressor__max_iter=100000, regressor__tol=0.1;, score=-7.054 total time=   0.0s\n",
      "[CV 3/5] END regressor=Lasso(random_state=47), regressor__alpha=0.5, regressor__max_iter=100000, regressor__tol=0.1;, score=-6.825 total time=   0.0s\n",
      "[CV 4/5] END regressor=Lasso(random_state=47), regressor__alpha=0.5, regressor__max_iter=100000, regressor__tol=0.1;, score=-6.773 total time=   0.0s\n",
      "[CV 5/5] END regressor=Lasso(random_state=47), regressor__alpha=0.5, regressor__max_iter=100000, regressor__tol=0.1;, score=-6.781 total time=   0.0s\n",
      "[CV 1/5] END regressor=Lasso(random_state=47), regressor__alpha=0.5, regressor__max_iter=1000000, regressor__tol=0.001;, score=-7.082 total time=   0.0s\n",
      "[CV 2/5] END regressor=Lasso(random_state=47), regressor__alpha=0.5, regressor__max_iter=1000000, regressor__tol=0.001;, score=-7.054 total time=   0.0s\n",
      "[CV 3/5] END regressor=Lasso(random_state=47), regressor__alpha=0.5, regressor__max_iter=1000000, regressor__tol=0.001;, score=-6.824 total time=   0.0s\n",
      "[CV 4/5] END regressor=Lasso(random_state=47), regressor__alpha=0.5, regressor__max_iter=1000000, regressor__tol=0.001;, score=-6.773 total time=   0.0s\n",
      "[CV 5/5] END regressor=Lasso(random_state=47), regressor__alpha=0.5, regressor__max_iter=1000000, regressor__tol=0.001;, score=-6.781 total time=   0.0s\n",
      "[CV 1/5] END regressor=Lasso(random_state=47), regressor__alpha=0.5, regressor__max_iter=1000000, regressor__tol=0.01;, score=-7.082 total time=   0.0s\n",
      "[CV 2/5] END regressor=Lasso(random_state=47), regressor__alpha=0.5, regressor__max_iter=1000000, regressor__tol=0.01;, score=-7.054 total time=   0.0s\n",
      "[CV 3/5] END regressor=Lasso(random_state=47), regressor__alpha=0.5, regressor__max_iter=1000000, regressor__tol=0.01;, score=-6.824 total time=   0.0s\n",
      "[CV 4/5] END regressor=Lasso(random_state=47), regressor__alpha=0.5, regressor__max_iter=1000000, regressor__tol=0.01;, score=-6.773 total time=   0.0s\n",
      "[CV 5/5] END regressor=Lasso(random_state=47), regressor__alpha=0.5, regressor__max_iter=1000000, regressor__tol=0.01;, score=-6.781 total time=   0.0s\n",
      "[CV 1/5] END regressor=Lasso(random_state=47), regressor__alpha=0.5, regressor__max_iter=1000000, regressor__tol=0.1;, score=-7.082 total time=   0.0s\n",
      "[CV 2/5] END regressor=Lasso(random_state=47), regressor__alpha=0.5, regressor__max_iter=1000000, regressor__tol=0.1;, score=-7.054 total time=   0.0s\n",
      "[CV 3/5] END regressor=Lasso(random_state=47), regressor__alpha=0.5, regressor__max_iter=1000000, regressor__tol=0.1;, score=-6.825 total time=   0.0s\n",
      "[CV 4/5] END regressor=Lasso(random_state=47), regressor__alpha=0.5, regressor__max_iter=1000000, regressor__tol=0.1;, score=-6.773 total time=   0.0s\n",
      "[CV 5/5] END regressor=Lasso(random_state=47), regressor__alpha=0.5, regressor__max_iter=1000000, regressor__tol=0.1;, score=-6.781 total time=   0.0s\n",
      "[CV 1/5] END regressor=Lasso(random_state=47), regressor__alpha=1, regressor__max_iter=100000, regressor__tol=0.001;, score=-7.425 total time=   0.0s\n",
      "[CV 2/5] END regressor=Lasso(random_state=47), regressor__alpha=1, regressor__max_iter=100000, regressor__tol=0.001;, score=-7.349 total time=   0.0s\n",
      "[CV 3/5] END regressor=Lasso(random_state=47), regressor__alpha=1, regressor__max_iter=100000, regressor__tol=0.001;, score=-7.152 total time=   0.0s\n",
      "[CV 4/5] END regressor=Lasso(random_state=47), regressor__alpha=1, regressor__max_iter=100000, regressor__tol=0.001;, score=-7.103 total time=   0.0s\n",
      "[CV 5/5] END regressor=Lasso(random_state=47), regressor__alpha=1, regressor__max_iter=100000, regressor__tol=0.001;, score=-7.078 total time=   0.0s\n",
      "[CV 1/5] END regressor=Lasso(random_state=47), regressor__alpha=1, regressor__max_iter=100000, regressor__tol=0.01;, score=-7.425 total time=   0.0s\n",
      "[CV 2/5] END regressor=Lasso(random_state=47), regressor__alpha=1, regressor__max_iter=100000, regressor__tol=0.01;, score=-7.349 total time=   0.0s\n",
      "[CV 3/5] END regressor=Lasso(random_state=47), regressor__alpha=1, regressor__max_iter=100000, regressor__tol=0.01;, score=-7.152 total time=   0.0s\n",
      "[CV 4/5] END regressor=Lasso(random_state=47), regressor__alpha=1, regressor__max_iter=100000, regressor__tol=0.01;, score=-7.103 total time=   0.0s\n",
      "[CV 5/5] END regressor=Lasso(random_state=47), regressor__alpha=1, regressor__max_iter=100000, regressor__tol=0.01;, score=-7.078 total time=   0.0s\n",
      "[CV 1/5] END regressor=Lasso(random_state=47), regressor__alpha=1, regressor__max_iter=100000, regressor__tol=0.1;, score=-7.425 total time=   0.0s\n",
      "[CV 2/5] END regressor=Lasso(random_state=47), regressor__alpha=1, regressor__max_iter=100000, regressor__tol=0.1;, score=-7.349 total time=   0.0s\n",
      "[CV 3/5] END regressor=Lasso(random_state=47), regressor__alpha=1, regressor__max_iter=100000, regressor__tol=0.1;, score=-7.152 total time=   0.0s\n",
      "[CV 4/5] END regressor=Lasso(random_state=47), regressor__alpha=1, regressor__max_iter=100000, regressor__tol=0.1;, score=-7.103 total time=   0.0s\n",
      "[CV 5/5] END regressor=Lasso(random_state=47), regressor__alpha=1, regressor__max_iter=100000, regressor__tol=0.1;, score=-7.078 total time=   0.0s\n",
      "[CV 1/5] END regressor=Lasso(random_state=47), regressor__alpha=1, regressor__max_iter=1000000, regressor__tol=0.001;, score=-7.425 total time=   0.0s\n",
      "[CV 2/5] END regressor=Lasso(random_state=47), regressor__alpha=1, regressor__max_iter=1000000, regressor__tol=0.001;, score=-7.349 total time=   0.0s\n",
      "[CV 3/5] END regressor=Lasso(random_state=47), regressor__alpha=1, regressor__max_iter=1000000, regressor__tol=0.001;, score=-7.152 total time=   0.0s\n",
      "[CV 4/5] END regressor=Lasso(random_state=47), regressor__alpha=1, regressor__max_iter=1000000, regressor__tol=0.001;, score=-7.103 total time=   0.0s\n",
      "[CV 5/5] END regressor=Lasso(random_state=47), regressor__alpha=1, regressor__max_iter=1000000, regressor__tol=0.001;, score=-7.078 total time=   0.0s\n",
      "[CV 1/5] END regressor=Lasso(random_state=47), regressor__alpha=1, regressor__max_iter=1000000, regressor__tol=0.01;, score=-7.425 total time=   0.0s\n",
      "[CV 2/5] END regressor=Lasso(random_state=47), regressor__alpha=1, regressor__max_iter=1000000, regressor__tol=0.01;, score=-7.349 total time=   0.0s\n",
      "[CV 3/5] END regressor=Lasso(random_state=47), regressor__alpha=1, regressor__max_iter=1000000, regressor__tol=0.01;, score=-7.152 total time=   0.0s\n",
      "[CV 4/5] END regressor=Lasso(random_state=47), regressor__alpha=1, regressor__max_iter=1000000, regressor__tol=0.01;, score=-7.103 total time=   0.0s\n",
      "[CV 5/5] END regressor=Lasso(random_state=47), regressor__alpha=1, regressor__max_iter=1000000, regressor__tol=0.01;, score=-7.078 total time=   0.0s\n",
      "[CV 1/5] END regressor=Lasso(random_state=47), regressor__alpha=1, regressor__max_iter=1000000, regressor__tol=0.1;, score=-7.425 total time=   0.0s\n",
      "[CV 2/5] END regressor=Lasso(random_state=47), regressor__alpha=1, regressor__max_iter=1000000, regressor__tol=0.1;, score=-7.349 total time=   0.0s\n",
      "[CV 3/5] END regressor=Lasso(random_state=47), regressor__alpha=1, regressor__max_iter=1000000, regressor__tol=0.1;, score=-7.152 total time=   0.0s\n",
      "[CV 4/5] END regressor=Lasso(random_state=47), regressor__alpha=1, regressor__max_iter=1000000, regressor__tol=0.1;, score=-7.103 total time=   0.0s\n",
      "[CV 5/5] END regressor=Lasso(random_state=47), regressor__alpha=1, regressor__max_iter=1000000, regressor__tol=0.1;, score=-7.078 total time=   0.0s\n",
      "Wall time: 6min 56s\n"
     ]
    },
    {
     "data": {
      "text/html": [
       "<style>#sk-container-id-1 {color: black;background-color: white;}#sk-container-id-1 pre{padding: 0;}#sk-container-id-1 div.sk-toggleable {background-color: white;}#sk-container-id-1 label.sk-toggleable__label {cursor: pointer;display: block;width: 100%;margin-bottom: 0;padding: 0.3em;box-sizing: border-box;text-align: center;}#sk-container-id-1 label.sk-toggleable__label-arrow:before {content: \"▸\";float: left;margin-right: 0.25em;color: #696969;}#sk-container-id-1 label.sk-toggleable__label-arrow:hover:before {color: black;}#sk-container-id-1 div.sk-estimator:hover label.sk-toggleable__label-arrow:before {color: black;}#sk-container-id-1 div.sk-toggleable__content {max-height: 0;max-width: 0;overflow: hidden;text-align: left;background-color: #f0f8ff;}#sk-container-id-1 div.sk-toggleable__content pre {margin: 0.2em;color: black;border-radius: 0.25em;background-color: #f0f8ff;}#sk-container-id-1 input.sk-toggleable__control:checked~div.sk-toggleable__content {max-height: 200px;max-width: 100%;overflow: auto;}#sk-container-id-1 input.sk-toggleable__control:checked~label.sk-toggleable__label-arrow:before {content: \"▾\";}#sk-container-id-1 div.sk-estimator input.sk-toggleable__control:checked~label.sk-toggleable__label {background-color: #d4ebff;}#sk-container-id-1 div.sk-label input.sk-toggleable__control:checked~label.sk-toggleable__label {background-color: #d4ebff;}#sk-container-id-1 input.sk-hidden--visually {border: 0;clip: rect(1px 1px 1px 1px);clip: rect(1px, 1px, 1px, 1px);height: 1px;margin: -1px;overflow: hidden;padding: 0;position: absolute;width: 1px;}#sk-container-id-1 div.sk-estimator {font-family: monospace;background-color: #f0f8ff;border: 1px dotted black;border-radius: 0.25em;box-sizing: border-box;margin-bottom: 0.5em;}#sk-container-id-1 div.sk-estimator:hover {background-color: #d4ebff;}#sk-container-id-1 div.sk-parallel-item::after {content: \"\";width: 100%;border-bottom: 1px solid gray;flex-grow: 1;}#sk-container-id-1 div.sk-label:hover label.sk-toggleable__label {background-color: #d4ebff;}#sk-container-id-1 div.sk-serial::before {content: \"\";position: absolute;border-left: 1px solid gray;box-sizing: border-box;top: 0;bottom: 0;left: 50%;z-index: 0;}#sk-container-id-1 div.sk-serial {display: flex;flex-direction: column;align-items: center;background-color: white;padding-right: 0.2em;padding-left: 0.2em;position: relative;}#sk-container-id-1 div.sk-item {position: relative;z-index: 1;}#sk-container-id-1 div.sk-parallel {display: flex;align-items: stretch;justify-content: center;background-color: white;position: relative;}#sk-container-id-1 div.sk-item::before, #sk-container-id-1 div.sk-parallel-item::before {content: \"\";position: absolute;border-left: 1px solid gray;box-sizing: border-box;top: 0;bottom: 0;left: 50%;z-index: -1;}#sk-container-id-1 div.sk-parallel-item {display: flex;flex-direction: column;z-index: 1;position: relative;background-color: white;}#sk-container-id-1 div.sk-parallel-item:first-child::after {align-self: flex-end;width: 50%;}#sk-container-id-1 div.sk-parallel-item:last-child::after {align-self: flex-start;width: 50%;}#sk-container-id-1 div.sk-parallel-item:only-child::after {width: 0;}#sk-container-id-1 div.sk-dashed-wrapped {border: 1px dashed gray;margin: 0 0.4em 0.5em 0.4em;box-sizing: border-box;padding-bottom: 0.4em;background-color: white;}#sk-container-id-1 div.sk-label label {font-family: monospace;font-weight: bold;display: inline-block;line-height: 1.2em;}#sk-container-id-1 div.sk-label-container {text-align: center;}#sk-container-id-1 div.sk-container {/* jupyter's `normalize.less` sets `[hidden] { display: none; }` but bootstrap.min.css set `[hidden] { display: none !important; }` so we also need the `!important` here to be able to override the default hidden behavior on the sphinx rendered scikit-learn.org. See: https://github.com/scikit-learn/scikit-learn/issues/21755 */display: inline-block !important;position: relative;}#sk-container-id-1 div.sk-text-repr-fallback {display: none;}</style><div id=\"sk-container-id-1\" class=\"sk-top-container\"><div class=\"sk-text-repr-fallback\"><pre>RandomizedSearchCV(cv=5,\n",
       "                   estimator=Pipeline(steps=[(&#x27;imputer&#x27;, SimpleImputer()),\n",
       "                                             (&#x27;scaler&#x27;, MinMaxScaler()),\n",
       "                                             (&#x27;regressor&#x27;,\n",
       "                                              &lt;catboost.core.CatBoostRegressor object at 0x0000022594EFFA90&gt;)]),\n",
       "                   n_iter=50,\n",
       "                   param_distributions=[{&#x27;regressor&#x27;: [&lt;catboost.core.CatBoostRegressor object at 0x0000022594EFFBB0&gt;],\n",
       "                                         &#x27;regressor__depth&#x27;: [6, 8, 10],\n",
       "                                         &#x27;regressor__iterations&#x27;: [50, 100],\n",
       "                                         &#x27;regressor__learning_rate&#x27;: [0.03, 0.1,\n",
       "                                                                      1]},\n",
       "                                        {&#x27;regressor&#x27;: [Lasso(random_state=47)],\n",
       "                                         &#x27;regressor__alpha&#x27;: [0.1, 0.5, 1],\n",
       "                                         &#x27;regressor__max_iter&#x27;: [100000,\n",
       "                                                                 1000000],\n",
       "                                         &#x27;regressor__tol&#x27;: [0.001, 0.01, 0.1]}],\n",
       "                   scoring=make_scorer(smape, greater_is_better=False),\n",
       "                   verbose=3)</pre><b>In a Jupyter environment, please rerun this cell to show the HTML representation or trust the notebook. <br />On GitHub, the HTML representation is unable to render, please try loading this page with nbviewer.org.</b></div><div class=\"sk-container\" hidden><div class=\"sk-item sk-dashed-wrapped\"><div class=\"sk-label-container\"><div class=\"sk-label sk-toggleable\"><input class=\"sk-toggleable__control sk-hidden--visually\" id=\"sk-estimator-id-1\" type=\"checkbox\" ><label for=\"sk-estimator-id-1\" class=\"sk-toggleable__label sk-toggleable__label-arrow\">RandomizedSearchCV</label><div class=\"sk-toggleable__content\"><pre>RandomizedSearchCV(cv=5,\n",
       "                   estimator=Pipeline(steps=[(&#x27;imputer&#x27;, SimpleImputer()),\n",
       "                                             (&#x27;scaler&#x27;, MinMaxScaler()),\n",
       "                                             (&#x27;regressor&#x27;,\n",
       "                                              &lt;catboost.core.CatBoostRegressor object at 0x0000022594EFFA90&gt;)]),\n",
       "                   n_iter=50,\n",
       "                   param_distributions=[{&#x27;regressor&#x27;: [&lt;catboost.core.CatBoostRegressor object at 0x0000022594EFFBB0&gt;],\n",
       "                                         &#x27;regressor__depth&#x27;: [6, 8, 10],\n",
       "                                         &#x27;regressor__iterations&#x27;: [50, 100],\n",
       "                                         &#x27;regressor__learning_rate&#x27;: [0.03, 0.1,\n",
       "                                                                      1]},\n",
       "                                        {&#x27;regressor&#x27;: [Lasso(random_state=47)],\n",
       "                                         &#x27;regressor__alpha&#x27;: [0.1, 0.5, 1],\n",
       "                                         &#x27;regressor__max_iter&#x27;: [100000,\n",
       "                                                                 1000000],\n",
       "                                         &#x27;regressor__tol&#x27;: [0.001, 0.01, 0.1]}],\n",
       "                   scoring=make_scorer(smape, greater_is_better=False),\n",
       "                   verbose=3)</pre></div></div></div><div class=\"sk-parallel\"><div class=\"sk-parallel-item\"><div class=\"sk-item\"><div class=\"sk-label-container\"><div class=\"sk-label sk-toggleable\"><input class=\"sk-toggleable__control sk-hidden--visually\" id=\"sk-estimator-id-2\" type=\"checkbox\" ><label for=\"sk-estimator-id-2\" class=\"sk-toggleable__label sk-toggleable__label-arrow\">estimator: Pipeline</label><div class=\"sk-toggleable__content\"><pre>Pipeline(steps=[(&#x27;imputer&#x27;, SimpleImputer()), (&#x27;scaler&#x27;, MinMaxScaler()),\n",
       "                (&#x27;regressor&#x27;,\n",
       "                 &lt;catboost.core.CatBoostRegressor object at 0x0000022594EFFA90&gt;)])</pre></div></div></div><div class=\"sk-serial\"><div class=\"sk-item\"><div class=\"sk-serial\"><div class=\"sk-item\"><div class=\"sk-estimator sk-toggleable\"><input class=\"sk-toggleable__control sk-hidden--visually\" id=\"sk-estimator-id-3\" type=\"checkbox\" ><label for=\"sk-estimator-id-3\" class=\"sk-toggleable__label sk-toggleable__label-arrow\">SimpleImputer</label><div class=\"sk-toggleable__content\"><pre>SimpleImputer()</pre></div></div></div><div class=\"sk-item\"><div class=\"sk-estimator sk-toggleable\"><input class=\"sk-toggleable__control sk-hidden--visually\" id=\"sk-estimator-id-4\" type=\"checkbox\" ><label for=\"sk-estimator-id-4\" class=\"sk-toggleable__label sk-toggleable__label-arrow\">MinMaxScaler</label><div class=\"sk-toggleable__content\"><pre>MinMaxScaler()</pre></div></div></div><div class=\"sk-item\"><div class=\"sk-estimator sk-toggleable\"><input class=\"sk-toggleable__control sk-hidden--visually\" id=\"sk-estimator-id-5\" type=\"checkbox\" ><label for=\"sk-estimator-id-5\" class=\"sk-toggleable__label sk-toggleable__label-arrow\">CatBoostRegressor</label><div class=\"sk-toggleable__content\"><pre>&lt;catboost.core.CatBoostRegressor object at 0x0000022594EFFA90&gt;</pre></div></div></div></div></div></div></div></div></div></div></div></div>"
      ],
      "text/plain": [
       "RandomizedSearchCV(cv=5,\n",
       "                   estimator=Pipeline(steps=[('imputer', SimpleImputer()),\n",
       "                                             ('scaler', MinMaxScaler()),\n",
       "                                             ('regressor',\n",
       "                                              <catboost.core.CatBoostRegressor object at 0x0000022594EFFA90>)]),\n",
       "                   n_iter=50,\n",
       "                   param_distributions=[{'regressor': [<catboost.core.CatBoostRegressor object at 0x0000022594EFFBB0>],\n",
       "                                         'regressor__depth': [6, 8, 10],\n",
       "                                         'regressor__iterations': [50, 100],\n",
       "                                         'regressor__learning_rate': [0.03, 0.1,\n",
       "                                                                      1]},\n",
       "                                        {'regressor': [Lasso(random_state=47)],\n",
       "                                         'regressor__alpha': [0.1, 0.5, 1],\n",
       "                                         'regressor__max_iter': [100000,\n",
       "                                                                 1000000],\n",
       "                                         'regressor__tol': [0.001, 0.01, 0.1]}],\n",
       "                   scoring=make_scorer(smape, greater_is_better=False),\n",
       "                   verbose=3)"
      ]
     },
     "execution_count": 36,
     "metadata": {},
     "output_type": "execute_result"
    }
   ],
   "source": [
    "%%time\n",
    "grid.fit(X_train, y_train_rougher)"
   ]
  },
  {
   "cell_type": "code",
   "execution_count": 37,
   "metadata": {
    "scrolled": true
   },
   "outputs": [
    {
     "data": {
      "text/html": [
       "<div>\n",
       "<style scoped>\n",
       "    .dataframe tbody tr th:only-of-type {\n",
       "        vertical-align: middle;\n",
       "    }\n",
       "\n",
       "    .dataframe tbody tr th {\n",
       "        vertical-align: top;\n",
       "    }\n",
       "\n",
       "    .dataframe thead th {\n",
       "        text-align: right;\n",
       "    }\n",
       "</style>\n",
       "<table border=\"1\" class=\"dataframe\">\n",
       "  <thead>\n",
       "    <tr style=\"text-align: right;\">\n",
       "      <th></th>\n",
       "      <th>mean_fit_time</th>\n",
       "      <th>std_fit_time</th>\n",
       "      <th>mean_score_time</th>\n",
       "      <th>std_score_time</th>\n",
       "      <th>param_regressor__learning_rate</th>\n",
       "      <th>param_regressor__iterations</th>\n",
       "      <th>param_regressor__depth</th>\n",
       "      <th>param_regressor</th>\n",
       "      <th>param_regressor__tol</th>\n",
       "      <th>param_regressor__max_iter</th>\n",
       "      <th>param_regressor__alpha</th>\n",
       "      <th>params</th>\n",
       "      <th>split0_test_score</th>\n",
       "      <th>split1_test_score</th>\n",
       "      <th>split2_test_score</th>\n",
       "      <th>split3_test_score</th>\n",
       "      <th>split4_test_score</th>\n",
       "      <th>mean_test_score</th>\n",
       "      <th>std_test_score</th>\n",
       "      <th>rank_test_score</th>\n",
       "    </tr>\n",
       "  </thead>\n",
       "  <tbody>\n",
       "    <tr>\n",
       "      <th>16</th>\n",
       "      <td>13.235796</td>\n",
       "      <td>1.203236</td>\n",
       "      <td>0.007398</td>\n",
       "      <td>0.000799</td>\n",
       "      <td>0.1</td>\n",
       "      <td>100</td>\n",
       "      <td>10</td>\n",
       "      <td>&lt;catboost.core.CatBoostRegressor object at 0x0000022594EFFBB0&gt;</td>\n",
       "      <td>NaN</td>\n",
       "      <td>NaN</td>\n",
       "      <td>NaN</td>\n",
       "      <td>{'regressor__learning_rate': 0.1, 'regressor__iterations': 100, 'regressor__depth': 10, 'regress...</td>\n",
       "      <td>-2.916036</td>\n",
       "      <td>-2.906414</td>\n",
       "      <td>-2.819315</td>\n",
       "      <td>-2.697357</td>\n",
       "      <td>-2.812324</td>\n",
       "      <td>-2.830289</td>\n",
       "      <td>0.079071</td>\n",
       "      <td>1</td>\n",
       "    </tr>\n",
       "    <tr>\n",
       "      <th>10</th>\n",
       "      <td>3.447902</td>\n",
       "      <td>0.393621</td>\n",
       "      <td>0.014900</td>\n",
       "      <td>0.015564</td>\n",
       "      <td>0.1</td>\n",
       "      <td>100</td>\n",
       "      <td>8</td>\n",
       "      <td>&lt;catboost.core.CatBoostRegressor object at 0x0000022594EFFBB0&gt;</td>\n",
       "      <td>NaN</td>\n",
       "      <td>NaN</td>\n",
       "      <td>NaN</td>\n",
       "      <td>{'regressor__learning_rate': 0.1, 'regressor__iterations': 100, 'regressor__depth': 8, 'regresso...</td>\n",
       "      <td>-3.126020</td>\n",
       "      <td>-3.088229</td>\n",
       "      <td>-3.031558</td>\n",
       "      <td>-2.915066</td>\n",
       "      <td>-3.001442</td>\n",
       "      <td>-3.032463</td>\n",
       "      <td>0.072949</td>\n",
       "      <td>2</td>\n",
       "    </tr>\n",
       "    <tr>\n",
       "      <th>13</th>\n",
       "      <td>6.273825</td>\n",
       "      <td>0.059347</td>\n",
       "      <td>0.007402</td>\n",
       "      <td>0.000804</td>\n",
       "      <td>0.1</td>\n",
       "      <td>50</td>\n",
       "      <td>10</td>\n",
       "      <td>&lt;catboost.core.CatBoostRegressor object at 0x0000022594EFFBB0&gt;</td>\n",
       "      <td>NaN</td>\n",
       "      <td>NaN</td>\n",
       "      <td>NaN</td>\n",
       "      <td>{'regressor__learning_rate': 0.1, 'regressor__iterations': 50, 'regressor__depth': 10, 'regresso...</td>\n",
       "      <td>-3.236387</td>\n",
       "      <td>-3.258109</td>\n",
       "      <td>-3.108451</td>\n",
       "      <td>-3.035309</td>\n",
       "      <td>-3.130002</td>\n",
       "      <td>-3.153652</td>\n",
       "      <td>0.082902</td>\n",
       "      <td>3</td>\n",
       "    </tr>\n",
       "    <tr>\n",
       "      <th>4</th>\n",
       "      <td>1.469468</td>\n",
       "      <td>0.080624</td>\n",
       "      <td>0.006501</td>\n",
       "      <td>0.000630</td>\n",
       "      <td>0.1</td>\n",
       "      <td>100</td>\n",
       "      <td>6</td>\n",
       "      <td>&lt;catboost.core.CatBoostRegressor object at 0x0000022594EFFBB0&gt;</td>\n",
       "      <td>NaN</td>\n",
       "      <td>NaN</td>\n",
       "      <td>NaN</td>\n",
       "      <td>{'regressor__learning_rate': 0.1, 'regressor__iterations': 100, 'regressor__depth': 6, 'regresso...</td>\n",
       "      <td>-3.411090</td>\n",
       "      <td>-3.390088</td>\n",
       "      <td>-3.297437</td>\n",
       "      <td>-3.152202</td>\n",
       "      <td>-3.234608</td>\n",
       "      <td>-3.297085</td>\n",
       "      <td>0.096479</td>\n",
       "      <td>4</td>\n",
       "    </tr>\n",
       "    <tr>\n",
       "      <th>7</th>\n",
       "      <td>1.919797</td>\n",
       "      <td>0.084813</td>\n",
       "      <td>0.007997</td>\n",
       "      <td>0.000895</td>\n",
       "      <td>0.1</td>\n",
       "      <td>50</td>\n",
       "      <td>8</td>\n",
       "      <td>&lt;catboost.core.CatBoostRegressor object at 0x0000022594EFFBB0&gt;</td>\n",
       "      <td>NaN</td>\n",
       "      <td>NaN</td>\n",
       "      <td>NaN</td>\n",
       "      <td>{'regressor__learning_rate': 0.1, 'regressor__iterations': 50, 'regressor__depth': 8, 'regressor...</td>\n",
       "      <td>-3.461941</td>\n",
       "      <td>-3.471725</td>\n",
       "      <td>-3.348751</td>\n",
       "      <td>-3.237857</td>\n",
       "      <td>-3.328969</td>\n",
       "      <td>-3.369849</td>\n",
       "      <td>0.087633</td>\n",
       "      <td>5</td>\n",
       "    </tr>\n",
       "  </tbody>\n",
       "</table>\n",
       "</div>"
      ],
      "text/plain": [
       "    mean_fit_time  std_fit_time  mean_score_time  std_score_time param_regressor__learning_rate param_regressor__iterations param_regressor__depth                                                 param_regressor param_regressor__tol param_regressor__max_iter param_regressor__alpha                                                                                               params  split0_test_score  split1_test_score  split2_test_score  split3_test_score  split4_test_score  mean_test_score  std_test_score  rank_test_score\n",
       "16      13.235796      1.203236         0.007398        0.000799                            0.1                         100                     10  <catboost.core.CatBoostRegressor object at 0x0000022594EFFBB0>                  NaN                       NaN                    NaN  {'regressor__learning_rate': 0.1, 'regressor__iterations': 100, 'regressor__depth': 10, 'regress...          -2.916036          -2.906414          -2.819315          -2.697357          -2.812324        -2.830289        0.079071                1\n",
       "10       3.447902      0.393621         0.014900        0.015564                            0.1                         100                      8  <catboost.core.CatBoostRegressor object at 0x0000022594EFFBB0>                  NaN                       NaN                    NaN  {'regressor__learning_rate': 0.1, 'regressor__iterations': 100, 'regressor__depth': 8, 'regresso...          -3.126020          -3.088229          -3.031558          -2.915066          -3.001442        -3.032463        0.072949                2\n",
       "13       6.273825      0.059347         0.007402        0.000804                            0.1                          50                     10  <catboost.core.CatBoostRegressor object at 0x0000022594EFFBB0>                  NaN                       NaN                    NaN  {'regressor__learning_rate': 0.1, 'regressor__iterations': 50, 'regressor__depth': 10, 'regresso...          -3.236387          -3.258109          -3.108451          -3.035309          -3.130002        -3.153652        0.082902                3\n",
       "4        1.469468      0.080624         0.006501        0.000630                            0.1                         100                      6  <catboost.core.CatBoostRegressor object at 0x0000022594EFFBB0>                  NaN                       NaN                    NaN  {'regressor__learning_rate': 0.1, 'regressor__iterations': 100, 'regressor__depth': 6, 'regresso...          -3.411090          -3.390088          -3.297437          -3.152202          -3.234608        -3.297085        0.096479                4\n",
       "7        1.919797      0.084813         0.007997        0.000895                            0.1                          50                      8  <catboost.core.CatBoostRegressor object at 0x0000022594EFFBB0>                  NaN                       NaN                    NaN  {'regressor__learning_rate': 0.1, 'regressor__iterations': 50, 'regressor__depth': 8, 'regressor...          -3.461941          -3.471725          -3.348751          -3.237857          -3.328969        -3.369849        0.087633                5"
      ]
     },
     "execution_count": 37,
     "metadata": {},
     "output_type": "execute_result"
    }
   ],
   "source": [
    "result = pd.DataFrame(grid.cv_results_)\n",
    "result.sort_values('rank_test_score').head()"
   ]
  },
  {
   "cell_type": "code",
   "execution_count": 38,
   "metadata": {},
   "outputs": [
    {
     "name": "stdout",
     "output_type": "stream",
     "text": [
      "<catboost.core.CatBoostRegressor object at 0x00000225960A5430>\n"
     ]
    }
   ],
   "source": [
    "print(grid.best_estimator_.named_steps.regressor)"
   ]
  },
  {
   "cell_type": "markdown",
   "metadata": {},
   "source": [
    "Посмотрим наиболее важные параметры для модели"
   ]
  },
  {
   "cell_type": "code",
   "execution_count": 39,
   "metadata": {},
   "outputs": [
    {
     "data": {
      "image/png": "[encoded data removed]"
     },
     "metadata": {},
     "output_type": "display_data"
    }
   ],
   "source": [
    "dset = pd.concat([pd.Series(X_train.columns), \n",
    "                  pd.Series(grid.best_estimator_.named_steps[\"regressor\"].feature_importances_)], axis= 1 )\n",
    "dset = dset.set_axis(['attr', 'importance'], \n",
    "                     axis=1, \n",
    "                     inplace=False).sort_values(by='importance', \n",
    "                                                ascending=False)\n",
    "fig = go.Figure(go.Bar(\n",
    "            x=dset[\"importance\"],\n",
    "            y=dset['attr'],\n",
    "            orientation='h'))\n",
    "\n",
    "fig.update_layout(width=1500, height=500)\n",
    "fig.show('png')"
   ]
  },
  {
   "cell_type": "markdown",
   "metadata": {},
   "source": [
    "Модель обучена, проверим ее работу на тестовой выборке"
   ]
  },
  {
   "cell_type": "code",
   "execution_count": 40,
   "metadata": {},
   "outputs": [],
   "source": [
    "y_val_rougher = grid.best_estimator_.predict(X_test)"
   ]
  },
  {
   "cell_type": "code",
   "execution_count": 41,
   "metadata": {},
   "outputs": [
    {
     "name": "stdout",
     "output_type": "stream",
     "text": [
      "Результат работы модели для rougher, SMAPE: 8.06 %\n"
     ]
    }
   ],
   "source": [
    "rougher_test_val = smape(y_val_rougher, \n",
    "                         y_test_rougher)\n",
    "print('Результат работы модели для rougher, SMAPE:', round(rougher_test_val, 2), '%')"
   ]
  },
  {
   "cell_type": "markdown",
   "metadata": {},
   "source": [
    "Первая часть метрики получена, проведем ту же последовательность действий для `final`"
   ]
  },
  {
   "cell_type": "code",
   "execution_count": 42,
   "metadata": {
    "scrolled": true
   },
   "outputs": [
    {
     "name": "stdout",
     "output_type": "stream",
     "text": [
      "Fitting 5 folds for each of 36 candidates, totalling 180 fits\n"
     ]
    },
    {
     "name": "stderr",
     "output_type": "stream",
     "text": [
      "c:\\Users\\s7\\anaconda3\\lib\\site-packages\\sklearn\\model_selection\\_search.py:305: UserWarning:\n",
      "\n",
      "The total space of parameters 36 is smaller than n_iter=50. Running 36 iterations. For exhaustive searches, use GridSearchCV.\n",
      "\n"
     ]
    },
    {
     "name": "stdout",
     "output_type": "stream",
     "text": [
      "[CV 1/5] END regressor=<catboost.core.CatBoostRegressor object at 0x0000022594EFFBB0>, regressor__depth=6, regressor__iterations=50, regressor__learning_rate=0.03;, score=-7.825 total time=   0.7s\n",
      "[CV 2/5] END regressor=<catboost.core.CatBoostRegressor object at 0x0000022594EFFBB0>, regressor__depth=6, regressor__iterations=50, regressor__learning_rate=0.03;, score=-7.687 total time=   0.8s\n",
      "[CV 3/5] END regressor=<catboost.core.CatBoostRegressor object at 0x0000022594EFFBB0>, regressor__depth=6, regressor__iterations=50, regressor__learning_rate=0.03;, score=-7.653 total time=   0.6s\n",
      "[CV 4/5] END regressor=<catboost.core.CatBoostRegressor object at 0x0000022594EFFBB0>, regressor__depth=6, regressor__iterations=50, regressor__learning_rate=0.03;, score=-7.129 total time=   0.7s\n",
      "[CV 5/5] END regressor=<catboost.core.CatBoostRegressor object at 0x0000022594EFFBB0>, regressor__depth=6, regressor__iterations=50, regressor__learning_rate=0.03;, score=-7.717 total time=   0.7s\n",
      "[CV 1/5] END regressor=<catboost.core.CatBoostRegressor object at 0x0000022594EFFBB0>, regressor__depth=6, regressor__iterations=50, regressor__learning_rate=0.1;, score=-7.078 total time=   0.7s\n",
      "[CV 2/5] END regressor=<catboost.core.CatBoostRegressor object at 0x0000022594EFFBB0>, regressor__depth=6, regressor__iterations=50, regressor__learning_rate=0.1;, score=-7.022 total time=   0.7s\n",
      "[CV 3/5] END regressor=<catboost.core.CatBoostRegressor object at 0x0000022594EFFBB0>, regressor__depth=6, regressor__iterations=50, regressor__learning_rate=0.1;, score=-6.931 total time=   0.7s\n",
      "[CV 4/5] END regressor=<catboost.core.CatBoostRegressor object at 0x0000022594EFFBB0>, regressor__depth=6, regressor__iterations=50, regressor__learning_rate=0.1;, score=-6.543 total time=   0.7s\n",
      "[CV 5/5] END regressor=<catboost.core.CatBoostRegressor object at 0x0000022594EFFBB0>, regressor__depth=6, regressor__iterations=50, regressor__learning_rate=0.1;, score=-6.968 total time=   0.7s\n",
      "[CV 1/5] END regressor=<catboost.core.CatBoostRegressor object at 0x0000022594EFFBB0>, regressor__depth=6, regressor__iterations=50, regressor__learning_rate=1;, score=-6.965 total time=   0.7s\n",
      "[CV 2/5] END regressor=<catboost.core.CatBoostRegressor object at 0x0000022594EFFBB0>, regressor__depth=6, regressor__iterations=50, regressor__learning_rate=1;, score=-6.835 total time=   0.7s\n",
      "[CV 3/5] END regressor=<catboost.core.CatBoostRegressor object at 0x0000022594EFFBB0>, regressor__depth=6, regressor__iterations=50, regressor__learning_rate=1;, score=-6.849 total time=   0.7s\n",
      "[CV 4/5] END regressor=<catboost.core.CatBoostRegressor object at 0x0000022594EFFBB0>, regressor__depth=6, regressor__iterations=50, regressor__learning_rate=1;, score=-6.406 total time=   0.6s\n",
      "[CV 5/5] END regressor=<catboost.core.CatBoostRegressor object at 0x0000022594EFFBB0>, regressor__depth=6, regressor__iterations=50, regressor__learning_rate=1;, score=-6.729 total time=   0.6s\n",
      "[CV 1/5] END regressor=<catboost.core.CatBoostRegressor object at 0x0000022594EFFBB0>, regressor__depth=6, regressor__iterations=100, regressor__learning_rate=0.03;, score=-7.350 total time=   1.3s\n",
      "[CV 2/5] END regressor=<catboost.core.CatBoostRegressor object at 0x0000022594EFFBB0>, regressor__depth=6, regressor__iterations=100, regressor__learning_rate=0.03;, score=-7.237 total time=   1.3s\n",
      "[CV 3/5] END regressor=<catboost.core.CatBoostRegressor object at 0x0000022594EFFBB0>, regressor__depth=6, regressor__iterations=100, regressor__learning_rate=0.03;, score=-7.167 total time=   1.5s\n",
      "[CV 4/5] END regressor=<catboost.core.CatBoostRegressor object at 0x0000022594EFFBB0>, regressor__depth=6, regressor__iterations=100, regressor__learning_rate=0.03;, score=-6.733 total time=   1.2s\n",
      "[CV 5/5] END regressor=<catboost.core.CatBoostRegressor object at 0x0000022594EFFBB0>, regressor__depth=6, regressor__iterations=100, regressor__learning_rate=0.03;, score=-7.222 total time=   1.4s\n",
      "[CV 1/5] END regressor=<catboost.core.CatBoostRegressor object at 0x0000022594EFFBB0>, regressor__depth=6, regressor__iterations=100, regressor__learning_rate=0.1;, score=-6.619 total time=   1.2s\n",
      "[CV 2/5] END regressor=<catboost.core.CatBoostRegressor object at 0x0000022594EFFBB0>, regressor__depth=6, regressor__iterations=100, regressor__learning_rate=0.1;, score=-6.580 total time=   1.3s\n",
      "[CV 3/5] END regressor=<catboost.core.CatBoostRegressor object at 0x0000022594EFFBB0>, regressor__depth=6, regressor__iterations=100, regressor__learning_rate=0.1;, score=-6.514 total time=   1.2s\n",
      "[CV 4/5] END regressor=<catboost.core.CatBoostRegressor object at 0x0000022594EFFBB0>, regressor__depth=6, regressor__iterations=100, regressor__learning_rate=0.1;, score=-6.197 total time=   1.5s\n",
      "[CV 5/5] END regressor=<catboost.core.CatBoostRegressor object at 0x0000022594EFFBB0>, regressor__depth=6, regressor__iterations=100, regressor__learning_rate=0.1;, score=-6.536 total time=   1.6s\n",
      "[CV 1/5] END regressor=<catboost.core.CatBoostRegressor object at 0x0000022594EFFBB0>, regressor__depth=6, regressor__iterations=100, regressor__learning_rate=1;, score=-7.126 total time=   1.3s\n",
      "[CV 2/5] END regressor=<catboost.core.CatBoostRegressor object at 0x0000022594EFFBB0>, regressor__depth=6, regressor__iterations=100, regressor__learning_rate=1;, score=-7.017 total time=   1.3s\n",
      "[CV 3/5] END regressor=<catboost.core.CatBoostRegressor object at 0x0000022594EFFBB0>, regressor__depth=6, regressor__iterations=100, regressor__learning_rate=1;, score=-6.987 total time=   1.3s\n",
      "[CV 4/5] END regressor=<catboost.core.CatBoostRegressor object at 0x0000022594EFFBB0>, regressor__depth=6, regressor__iterations=100, regressor__learning_rate=1;, score=-6.503 total time=   1.2s\n",
      "[CV 5/5] END regressor=<catboost.core.CatBoostRegressor object at 0x0000022594EFFBB0>, regressor__depth=6, regressor__iterations=100, regressor__learning_rate=1;, score=-6.951 total time=   1.3s\n",
      "[CV 1/5] END regressor=<catboost.core.CatBoostRegressor object at 0x0000022594EFFBB0>, regressor__depth=8, regressor__iterations=50, regressor__learning_rate=0.03;, score=-7.517 total time=   1.8s\n",
      "[CV 2/5] END regressor=<catboost.core.CatBoostRegressor object at 0x0000022594EFFBB0>, regressor__depth=8, regressor__iterations=50, regressor__learning_rate=0.03;, score=-7.425 total time=   1.5s\n",
      "[CV 3/5] END regressor=<catboost.core.CatBoostRegressor object at 0x0000022594EFFBB0>, regressor__depth=8, regressor__iterations=50, regressor__learning_rate=0.03;, score=-7.381 total time=   1.6s\n",
      "[CV 4/5] END regressor=<catboost.core.CatBoostRegressor object at 0x0000022594EFFBB0>, regressor__depth=8, regressor__iterations=50, regressor__learning_rate=0.03;, score=-6.863 total time=   1.7s\n",
      "[CV 5/5] END regressor=<catboost.core.CatBoostRegressor object at 0x0000022594EFFBB0>, regressor__depth=8, regressor__iterations=50, regressor__learning_rate=0.03;, score=-7.471 total time=   1.6s\n",
      "[CV 1/5] END regressor=<catboost.core.CatBoostRegressor object at 0x0000022594EFFBB0>, regressor__depth=8, regressor__iterations=50, regressor__learning_rate=0.1;, score=-6.690 total time=   1.7s\n",
      "[CV 2/5] END regressor=<catboost.core.CatBoostRegressor object at 0x0000022594EFFBB0>, regressor__depth=8, regressor__iterations=50, regressor__learning_rate=0.1;, score=-6.620 total time=   1.8s\n",
      "[CV 3/5] END regressor=<catboost.core.CatBoostRegressor object at 0x0000022594EFFBB0>, regressor__depth=8, regressor__iterations=50, regressor__learning_rate=0.1;, score=-6.608 total time=   1.6s\n",
      "[CV 4/5] END regressor=<catboost.core.CatBoostRegressor object at 0x0000022594EFFBB0>, regressor__depth=8, regressor__iterations=50, regressor__learning_rate=0.1;, score=-6.258 total time=   1.6s\n",
      "[CV 5/5] END regressor=<catboost.core.CatBoostRegressor object at 0x0000022594EFFBB0>, regressor__depth=8, regressor__iterations=50, regressor__learning_rate=0.1;, score=-6.628 total time=   1.6s\n",
      "[CV 1/5] END regressor=<catboost.core.CatBoostRegressor object at 0x0000022594EFFBB0>, regressor__depth=8, regressor__iterations=50, regressor__learning_rate=1;, score=-7.141 total time=   1.5s\n",
      "[CV 2/5] END regressor=<catboost.core.CatBoostRegressor object at 0x0000022594EFFBB0>, regressor__depth=8, regressor__iterations=50, regressor__learning_rate=1;, score=-7.114 total time=   1.6s\n",
      "[CV 3/5] END regressor=<catboost.core.CatBoostRegressor object at 0x0000022594EFFBB0>, regressor__depth=8, regressor__iterations=50, regressor__learning_rate=1;, score=-7.178 total time=   1.9s\n",
      "[CV 4/5] END regressor=<catboost.core.CatBoostRegressor object at 0x0000022594EFFBB0>, regressor__depth=8, regressor__iterations=50, regressor__learning_rate=1;, score=-7.023 total time=   1.5s\n",
      "[CV 5/5] END regressor=<catboost.core.CatBoostRegressor object at 0x0000022594EFFBB0>, regressor__depth=8, regressor__iterations=50, regressor__learning_rate=1;, score=-7.152 total time=   1.6s\n",
      "[CV 1/5] END regressor=<catboost.core.CatBoostRegressor object at 0x0000022594EFFBB0>, regressor__depth=8, regressor__iterations=100, regressor__learning_rate=0.03;, score=-7.008 total time=   3.0s\n",
      "[CV 2/5] END regressor=<catboost.core.CatBoostRegressor object at 0x0000022594EFFBB0>, regressor__depth=8, regressor__iterations=100, regressor__learning_rate=0.03;, score=-6.934 total time=   3.6s\n",
      "[CV 3/5] END regressor=<catboost.core.CatBoostRegressor object at 0x0000022594EFFBB0>, regressor__depth=8, regressor__iterations=100, regressor__learning_rate=0.03;, score=-6.871 total time=   3.5s\n",
      "[CV 4/5] END regressor=<catboost.core.CatBoostRegressor object at 0x0000022594EFFBB0>, regressor__depth=8, regressor__iterations=100, regressor__learning_rate=0.03;, score=-6.459 total time=   3.2s\n",
      "[CV 5/5] END regressor=<catboost.core.CatBoostRegressor object at 0x0000022594EFFBB0>, regressor__depth=8, regressor__iterations=100, regressor__learning_rate=0.03;, score=-6.928 total time=   3.2s\n",
      "[CV 1/5] END regressor=<catboost.core.CatBoostRegressor object at 0x0000022594EFFBB0>, regressor__depth=8, regressor__iterations=100, regressor__learning_rate=0.1;, score=-6.281 total time=   3.4s\n",
      "[CV 2/5] END regressor=<catboost.core.CatBoostRegressor object at 0x0000022594EFFBB0>, regressor__depth=8, regressor__iterations=100, regressor__learning_rate=0.1;, score=-6.204 total time=   3.5s\n",
      "[CV 3/5] END regressor=<catboost.core.CatBoostRegressor object at 0x0000022594EFFBB0>, regressor__depth=8, regressor__iterations=100, regressor__learning_rate=0.1;, score=-6.163 total time=   3.0s\n",
      "[CV 4/5] END regressor=<catboost.core.CatBoostRegressor object at 0x0000022594EFFBB0>, regressor__depth=8, regressor__iterations=100, regressor__learning_rate=0.1;, score=-5.843 total time=   3.1s\n",
      "[CV 5/5] END regressor=<catboost.core.CatBoostRegressor object at 0x0000022594EFFBB0>, regressor__depth=8, regressor__iterations=100, regressor__learning_rate=0.1;, score=-6.168 total time=   3.1s\n",
      "[CV 1/5] END regressor=<catboost.core.CatBoostRegressor object at 0x0000022594EFFBB0>, regressor__depth=8, regressor__iterations=100, regressor__learning_rate=1;, score=-7.216 total time=   3.2s\n",
      "[CV 2/5] END regressor=<catboost.core.CatBoostRegressor object at 0x0000022594EFFBB0>, regressor__depth=8, regressor__iterations=100, regressor__learning_rate=1;, score=-7.452 total time=   3.1s\n",
      "[CV 3/5] END regressor=<catboost.core.CatBoostRegressor object at 0x0000022594EFFBB0>, regressor__depth=8, regressor__iterations=100, regressor__learning_rate=1;, score=-7.295 total time=   3.1s\n",
      "[CV 4/5] END regressor=<catboost.core.CatBoostRegressor object at 0x0000022594EFFBB0>, regressor__depth=8, regressor__iterations=100, regressor__learning_rate=1;, score=-7.292 total time=   3.0s\n",
      "[CV 5/5] END regressor=<catboost.core.CatBoostRegressor object at 0x0000022594EFFBB0>, regressor__depth=8, regressor__iterations=100, regressor__learning_rate=1;, score=-7.411 total time=   3.5s\n",
      "[CV 1/5] END regressor=<catboost.core.CatBoostRegressor object at 0x0000022594EFFBB0>, regressor__depth=10, regressor__iterations=50, regressor__learning_rate=0.03;, score=-7.263 total time=   7.0s\n",
      "[CV 2/5] END regressor=<catboost.core.CatBoostRegressor object at 0x0000022594EFFBB0>, regressor__depth=10, regressor__iterations=50, regressor__learning_rate=0.03;, score=-7.167 total time=   6.2s\n",
      "[CV 3/5] END regressor=<catboost.core.CatBoostRegressor object at 0x0000022594EFFBB0>, regressor__depth=10, regressor__iterations=50, regressor__learning_rate=0.03;, score=-7.179 total time=   6.9s\n",
      "[CV 4/5] END regressor=<catboost.core.CatBoostRegressor object at 0x0000022594EFFBB0>, regressor__depth=10, regressor__iterations=50, regressor__learning_rate=0.03;, score=-6.661 total time=   6.4s\n",
      "[CV 5/5] END regressor=<catboost.core.CatBoostRegressor object at 0x0000022594EFFBB0>, regressor__depth=10, regressor__iterations=50, regressor__learning_rate=0.03;, score=-7.256 total time=   6.1s\n",
      "[CV 1/5] END regressor=<catboost.core.CatBoostRegressor object at 0x0000022594EFFBB0>, regressor__depth=10, regressor__iterations=50, regressor__learning_rate=0.1;, score=-6.422 total time=   6.0s\n",
      "[CV 2/5] END regressor=<catboost.core.CatBoostRegressor object at 0x0000022594EFFBB0>, regressor__depth=10, regressor__iterations=50, regressor__learning_rate=0.1;, score=-6.312 total time=   6.3s\n",
      "[CV 3/5] END regressor=<catboost.core.CatBoostRegressor object at 0x0000022594EFFBB0>, regressor__depth=10, regressor__iterations=50, regressor__learning_rate=0.1;, score=-6.342 total time=   6.0s\n",
      "[CV 4/5] END regressor=<catboost.core.CatBoostRegressor object at 0x0000022594EFFBB0>, regressor__depth=10, regressor__iterations=50, regressor__learning_rate=0.1;, score=-6.025 total time=   6.0s\n",
      "[CV 5/5] END regressor=<catboost.core.CatBoostRegressor object at 0x0000022594EFFBB0>, regressor__depth=10, regressor__iterations=50, regressor__learning_rate=0.1;, score=-6.294 total time=   6.2s\n",
      "[CV 1/5] END regressor=<catboost.core.CatBoostRegressor object at 0x0000022594EFFBB0>, regressor__depth=10, regressor__iterations=50, regressor__learning_rate=1;, score=-7.227 total time=   6.1s\n",
      "[CV 2/5] END regressor=<catboost.core.CatBoostRegressor object at 0x0000022594EFFBB0>, regressor__depth=10, regressor__iterations=50, regressor__learning_rate=1;, score=-7.358 total time=   6.5s\n",
      "[CV 3/5] END regressor=<catboost.core.CatBoostRegressor object at 0x0000022594EFFBB0>, regressor__depth=10, regressor__iterations=50, regressor__learning_rate=1;, score=-7.276 total time=   6.7s\n",
      "[CV 4/5] END regressor=<catboost.core.CatBoostRegressor object at 0x0000022594EFFBB0>, regressor__depth=10, regressor__iterations=50, regressor__learning_rate=1;, score=-6.958 total time=   6.3s\n",
      "[CV 5/5] END regressor=<catboost.core.CatBoostRegressor object at 0x0000022594EFFBB0>, regressor__depth=10, regressor__iterations=50, regressor__learning_rate=1;, score=-7.234 total time=   5.9s\n",
      "[CV 1/5] END regressor=<catboost.core.CatBoostRegressor object at 0x0000022594EFFBB0>, regressor__depth=10, regressor__iterations=100, regressor__learning_rate=0.03;, score=-6.701 total time=  12.0s\n",
      "[CV 2/5] END regressor=<catboost.core.CatBoostRegressor object at 0x0000022594EFFBB0>, regressor__depth=10, regressor__iterations=100, regressor__learning_rate=0.03;, score=-6.604 total time=  12.0s\n",
      "[CV 3/5] END regressor=<catboost.core.CatBoostRegressor object at 0x0000022594EFFBB0>, regressor__depth=10, regressor__iterations=100, regressor__learning_rate=0.03;, score=-6.606 total time=  12.0s\n",
      "[CV 4/5] END regressor=<catboost.core.CatBoostRegressor object at 0x0000022594EFFBB0>, regressor__depth=10, regressor__iterations=100, regressor__learning_rate=0.03;, score=-6.196 total time=  11.7s\n",
      "[CV 5/5] END regressor=<catboost.core.CatBoostRegressor object at 0x0000022594EFFBB0>, regressor__depth=10, regressor__iterations=100, regressor__learning_rate=0.03;, score=-6.667 total time=  12.4s\n",
      "[CV 1/5] END regressor=<catboost.core.CatBoostRegressor object at 0x0000022594EFFBB0>, regressor__depth=10, regressor__iterations=100, regressor__learning_rate=0.1;, score=-6.048 total time=  12.0s\n",
      "[CV 2/5] END regressor=<catboost.core.CatBoostRegressor object at 0x0000022594EFFBB0>, regressor__depth=10, regressor__iterations=100, regressor__learning_rate=0.1;, score=-5.888 total time=  12.0s\n",
      "[CV 3/5] END regressor=<catboost.core.CatBoostRegressor object at 0x0000022594EFFBB0>, regressor__depth=10, regressor__iterations=100, regressor__learning_rate=0.1;, score=-5.935 total time=  11.9s\n",
      "[CV 4/5] END regressor=<catboost.core.CatBoostRegressor object at 0x0000022594EFFBB0>, regressor__depth=10, regressor__iterations=100, regressor__learning_rate=0.1;, score=-5.629 total time=  13.3s\n",
      "[CV 5/5] END regressor=<catboost.core.CatBoostRegressor object at 0x0000022594EFFBB0>, regressor__depth=10, regressor__iterations=100, regressor__learning_rate=0.1;, score=-5.856 total time=  12.0s\n",
      "[CV 1/5] END regressor=<catboost.core.CatBoostRegressor object at 0x0000022594EFFBB0>, regressor__depth=10, regressor__iterations=100, regressor__learning_rate=1;, score=-7.439 total time=  11.8s\n",
      "[CV 2/5] END regressor=<catboost.core.CatBoostRegressor object at 0x0000022594EFFBB0>, regressor__depth=10, regressor__iterations=100, regressor__learning_rate=1;, score=-7.544 total time=  12.1s\n",
      "[CV 3/5] END regressor=<catboost.core.CatBoostRegressor object at 0x0000022594EFFBB0>, regressor__depth=10, regressor__iterations=100, regressor__learning_rate=1;, score=-7.524 total time=  14.5s\n",
      "[CV 4/5] END regressor=<catboost.core.CatBoostRegressor object at 0x0000022594EFFBB0>, regressor__depth=10, regressor__iterations=100, regressor__learning_rate=1;, score=-7.122 total time=  14.7s\n",
      "[CV 5/5] END regressor=<catboost.core.CatBoostRegressor object at 0x0000022594EFFBB0>, regressor__depth=10, regressor__iterations=100, regressor__learning_rate=1;, score=-7.434 total time=  12.9s\n",
      "[CV 1/5] END regressor=Lasso(random_state=47), regressor__alpha=0.1, regressor__max_iter=100000, regressor__tol=0.001;, score=-8.611 total time=   0.0s\n",
      "[CV 2/5] END regressor=Lasso(random_state=47), regressor__alpha=0.1, regressor__max_iter=100000, regressor__tol=0.001;, score=-8.496 total time=   0.0s\n",
      "[CV 3/5] END regressor=Lasso(random_state=47), regressor__alpha=0.1, regressor__max_iter=100000, regressor__tol=0.001;, score=-8.422 total time=   0.0s\n",
      "[CV 4/5] END regressor=Lasso(random_state=47), regressor__alpha=0.1, regressor__max_iter=100000, regressor__tol=0.001;, score=-7.901 total time=   0.0s\n",
      "[CV 5/5] END regressor=Lasso(random_state=47), regressor__alpha=0.1, regressor__max_iter=100000, regressor__tol=0.001;, score=-8.519 total time=   0.0s\n",
      "[CV 1/5] END regressor=Lasso(random_state=47), regressor__alpha=0.1, regressor__max_iter=100000, regressor__tol=0.01;, score=-8.611 total time=   0.0s\n",
      "[CV 2/5] END regressor=Lasso(random_state=47), regressor__alpha=0.1, regressor__max_iter=100000, regressor__tol=0.01;, score=-8.495 total time=   0.0s\n",
      "[CV 3/5] END regressor=Lasso(random_state=47), regressor__alpha=0.1, regressor__max_iter=100000, regressor__tol=0.01;, score=-8.421 total time=   0.0s\n",
      "[CV 4/5] END regressor=Lasso(random_state=47), regressor__alpha=0.1, regressor__max_iter=100000, regressor__tol=0.01;, score=-7.900 total time=   0.0s\n",
      "[CV 5/5] END regressor=Lasso(random_state=47), regressor__alpha=0.1, regressor__max_iter=100000, regressor__tol=0.01;, score=-8.518 total time=   0.0s\n",
      "[CV 1/5] END regressor=Lasso(random_state=47), regressor__alpha=0.1, regressor__max_iter=100000, regressor__tol=0.1;, score=-8.606 total time=   0.0s\n",
      "[CV 2/5] END regressor=Lasso(random_state=47), regressor__alpha=0.1, regressor__max_iter=100000, regressor__tol=0.1;, score=-8.490 total time=   0.0s\n",
      "[CV 3/5] END regressor=Lasso(random_state=47), regressor__alpha=0.1, regressor__max_iter=100000, regressor__tol=0.1;, score=-8.419 total time=   0.0s\n",
      "[CV 4/5] END regressor=Lasso(random_state=47), regressor__alpha=0.1, regressor__max_iter=100000, regressor__tol=0.1;, score=-7.896 total time=   0.0s\n",
      "[CV 5/5] END regressor=Lasso(random_state=47), regressor__alpha=0.1, regressor__max_iter=100000, regressor__tol=0.1;, score=-8.508 total time=   0.0s\n",
      "[CV 1/5] END regressor=Lasso(random_state=47), regressor__alpha=0.1, regressor__max_iter=1000000, regressor__tol=0.001;, score=-8.611 total time=   0.0s\n",
      "[CV 2/5] END regressor=Lasso(random_state=47), regressor__alpha=0.1, regressor__max_iter=1000000, regressor__tol=0.001;, score=-8.496 total time=   0.0s\n",
      "[CV 3/5] END regressor=Lasso(random_state=47), regressor__alpha=0.1, regressor__max_iter=1000000, regressor__tol=0.001;, score=-8.422 total time=   0.0s\n",
      "[CV 4/5] END regressor=Lasso(random_state=47), regressor__alpha=0.1, regressor__max_iter=1000000, regressor__tol=0.001;, score=-7.901 total time=   0.0s\n",
      "[CV 5/5] END regressor=Lasso(random_state=47), regressor__alpha=0.1, regressor__max_iter=1000000, regressor__tol=0.001;, score=-8.519 total time=   0.0s\n",
      "[CV 1/5] END regressor=Lasso(random_state=47), regressor__alpha=0.1, regressor__max_iter=1000000, regressor__tol=0.01;, score=-8.611 total time=   0.0s\n",
      "[CV 2/5] END regressor=Lasso(random_state=47), regressor__alpha=0.1, regressor__max_iter=1000000, regressor__tol=0.01;, score=-8.495 total time=   0.0s\n",
      "[CV 3/5] END regressor=Lasso(random_state=47), regressor__alpha=0.1, regressor__max_iter=1000000, regressor__tol=0.01;, score=-8.421 total time=   0.0s\n",
      "[CV 4/5] END regressor=Lasso(random_state=47), regressor__alpha=0.1, regressor__max_iter=1000000, regressor__tol=0.01;, score=-7.900 total time=   0.0s\n",
      "[CV 5/5] END regressor=Lasso(random_state=47), regressor__alpha=0.1, regressor__max_iter=1000000, regressor__tol=0.01;, score=-8.518 total time=   0.0s\n",
      "[CV 1/5] END regressor=Lasso(random_state=47), regressor__alpha=0.1, regressor__max_iter=1000000, regressor__tol=0.1;, score=-8.606 total time=   0.0s\n",
      "[CV 2/5] END regressor=Lasso(random_state=47), regressor__alpha=0.1, regressor__max_iter=1000000, regressor__tol=0.1;, score=-8.490 total time=   0.0s\n",
      "[CV 3/5] END regressor=Lasso(random_state=47), regressor__alpha=0.1, regressor__max_iter=1000000, regressor__tol=0.1;, score=-8.419 total time=   0.0s\n",
      "[CV 4/5] END regressor=Lasso(random_state=47), regressor__alpha=0.1, regressor__max_iter=1000000, regressor__tol=0.1;, score=-7.896 total time=   0.0s\n",
      "[CV 5/5] END regressor=Lasso(random_state=47), regressor__alpha=0.1, regressor__max_iter=1000000, regressor__tol=0.1;, score=-8.508 total time=   0.0s\n",
      "[CV 1/5] END regressor=Lasso(random_state=47), regressor__alpha=0.5, regressor__max_iter=100000, regressor__tol=0.001;, score=-9.955 total time=   0.0s\n",
      "[CV 2/5] END regressor=Lasso(random_state=47), regressor__alpha=0.5, regressor__max_iter=100000, regressor__tol=0.001;, score=-9.986 total time=   0.0s\n",
      "[CV 3/5] END regressor=Lasso(random_state=47), regressor__alpha=0.5, regressor__max_iter=100000, regressor__tol=0.001;, score=-9.931 total time=   0.0s\n",
      "[CV 4/5] END regressor=Lasso(random_state=47), regressor__alpha=0.5, regressor__max_iter=100000, regressor__tol=0.001;, score=-9.268 total time=   0.0s\n",
      "[CV 5/5] END regressor=Lasso(random_state=47), regressor__alpha=0.5, regressor__max_iter=100000, regressor__tol=0.001;, score=-9.999 total time=   0.0s\n",
      "[CV 1/5] END regressor=Lasso(random_state=47), regressor__alpha=0.5, regressor__max_iter=100000, regressor__tol=0.01;, score=-9.955 total time=   0.0s\n",
      "[CV 2/5] END regressor=Lasso(random_state=47), regressor__alpha=0.5, regressor__max_iter=100000, regressor__tol=0.01;, score=-9.986 total time=   0.0s\n",
      "[CV 3/5] END regressor=Lasso(random_state=47), regressor__alpha=0.5, regressor__max_iter=100000, regressor__tol=0.01;, score=-9.931 total time=   0.0s\n",
      "[CV 4/5] END regressor=Lasso(random_state=47), regressor__alpha=0.5, regressor__max_iter=100000, regressor__tol=0.01;, score=-9.268 total time=   0.0s\n",
      "[CV 5/5] END regressor=Lasso(random_state=47), regressor__alpha=0.5, regressor__max_iter=100000, regressor__tol=0.01;, score=-9.999 total time=   0.0s\n",
      "[CV 1/5] END regressor=Lasso(random_state=47), regressor__alpha=0.5, regressor__max_iter=100000, regressor__tol=0.1;, score=-9.955 total time=   0.0s\n",
      "[CV 2/5] END regressor=Lasso(random_state=47), regressor__alpha=0.5, regressor__max_iter=100000, regressor__tol=0.1;, score=-9.986 total time=   0.0s\n",
      "[CV 3/5] END regressor=Lasso(random_state=47), regressor__alpha=0.5, regressor__max_iter=100000, regressor__tol=0.1;, score=-9.931 total time=   0.0s\n",
      "[CV 4/5] END regressor=Lasso(random_state=47), regressor__alpha=0.5, regressor__max_iter=100000, regressor__tol=0.1;, score=-9.268 total time=   0.0s\n",
      "[CV 5/5] END regressor=Lasso(random_state=47), regressor__alpha=0.5, regressor__max_iter=100000, regressor__tol=0.1;, score=-9.999 total time=   0.0s\n",
      "[CV 1/5] END regressor=Lasso(random_state=47), regressor__alpha=0.5, regressor__max_iter=1000000, regressor__tol=0.001;, score=-9.955 total time=   0.0s\n",
      "[CV 2/5] END regressor=Lasso(random_state=47), regressor__alpha=0.5, regressor__max_iter=1000000, regressor__tol=0.001;, score=-9.986 total time=   0.0s\n",
      "[CV 3/5] END regressor=Lasso(random_state=47), regressor__alpha=0.5, regressor__max_iter=1000000, regressor__tol=0.001;, score=-9.931 total time=   0.0s\n",
      "[CV 4/5] END regressor=Lasso(random_state=47), regressor__alpha=0.5, regressor__max_iter=1000000, regressor__tol=0.001;, score=-9.268 total time=   0.0s\n",
      "[CV 5/5] END regressor=Lasso(random_state=47), regressor__alpha=0.5, regressor__max_iter=1000000, regressor__tol=0.001;, score=-9.999 total time=   0.0s\n",
      "[CV 1/5] END regressor=Lasso(random_state=47), regressor__alpha=0.5, regressor__max_iter=1000000, regressor__tol=0.01;, score=-9.955 total time=   0.0s\n",
      "[CV 2/5] END regressor=Lasso(random_state=47), regressor__alpha=0.5, regressor__max_iter=1000000, regressor__tol=0.01;, score=-9.986 total time=   0.0s\n",
      "[CV 3/5] END regressor=Lasso(random_state=47), regressor__alpha=0.5, regressor__max_iter=1000000, regressor__tol=0.01;, score=-9.931 total time=   0.0s\n",
      "[CV 4/5] END regressor=Lasso(random_state=47), regressor__alpha=0.5, regressor__max_iter=1000000, regressor__tol=0.01;, score=-9.268 total time=   0.0s\n",
      "[CV 5/5] END regressor=Lasso(random_state=47), regressor__alpha=0.5, regressor__max_iter=1000000, regressor__tol=0.01;, score=-9.999 total time=   0.0s\n",
      "[CV 1/5] END regressor=Lasso(random_state=47), regressor__alpha=0.5, regressor__max_iter=1000000, regressor__tol=0.1;, score=-9.955 total time=   0.0s\n",
      "[CV 2/5] END regressor=Lasso(random_state=47), regressor__alpha=0.5, regressor__max_iter=1000000, regressor__tol=0.1;, score=-9.986 total time=   0.0s\n",
      "[CV 3/5] END regressor=Lasso(random_state=47), regressor__alpha=0.5, regressor__max_iter=1000000, regressor__tol=0.1;, score=-9.931 total time=   0.0s\n",
      "[CV 4/5] END regressor=Lasso(random_state=47), regressor__alpha=0.5, regressor__max_iter=1000000, regressor__tol=0.1;, score=-9.268 total time=   0.0s\n",
      "[CV 5/5] END regressor=Lasso(random_state=47), regressor__alpha=0.5, regressor__max_iter=1000000, regressor__tol=0.1;, score=-9.999 total time=   0.0s\n",
      "[CV 1/5] END regressor=Lasso(random_state=47), regressor__alpha=1, regressor__max_iter=100000, regressor__tol=0.001;, score=-10.116 total time=   0.0s\n",
      "[CV 2/5] END regressor=Lasso(random_state=47), regressor__alpha=1, regressor__max_iter=100000, regressor__tol=0.001;, score=-10.055 total time=   0.0s\n",
      "[CV 3/5] END regressor=Lasso(random_state=47), regressor__alpha=1, regressor__max_iter=100000, regressor__tol=0.001;, score=-10.028 total time=   0.0s\n",
      "[CV 4/5] END regressor=Lasso(random_state=47), regressor__alpha=1, regressor__max_iter=100000, regressor__tol=0.001;, score=-9.389 total time=   0.0s\n",
      "[CV 5/5] END regressor=Lasso(random_state=47), regressor__alpha=1, regressor__max_iter=100000, regressor__tol=0.001;, score=-10.093 total time=   0.0s\n",
      "[CV 1/5] END regressor=Lasso(random_state=47), regressor__alpha=1, regressor__max_iter=100000, regressor__tol=0.01;, score=-10.116 total time=   0.0s\n",
      "[CV 2/5] END regressor=Lasso(random_state=47), regressor__alpha=1, regressor__max_iter=100000, regressor__tol=0.01;, score=-10.055 total time=   0.0s\n",
      "[CV 3/5] END regressor=Lasso(random_state=47), regressor__alpha=1, regressor__max_iter=100000, regressor__tol=0.01;, score=-10.028 total time=   0.0s\n",
      "[CV 4/5] END regressor=Lasso(random_state=47), regressor__alpha=1, regressor__max_iter=100000, regressor__tol=0.01;, score=-9.389 total time=   0.0s\n",
      "[CV 5/5] END regressor=Lasso(random_state=47), regressor__alpha=1, regressor__max_iter=100000, regressor__tol=0.01;, score=-10.093 total time=   0.0s\n",
      "[CV 1/5] END regressor=Lasso(random_state=47), regressor__alpha=1, regressor__max_iter=100000, regressor__tol=0.1;, score=-10.116 total time=   0.0s\n",
      "[CV 2/5] END regressor=Lasso(random_state=47), regressor__alpha=1, regressor__max_iter=100000, regressor__tol=0.1;, score=-10.055 total time=   0.0s\n",
      "[CV 3/5] END regressor=Lasso(random_state=47), regressor__alpha=1, regressor__max_iter=100000, regressor__tol=0.1;, score=-10.028 total time=   0.0s\n",
      "[CV 4/5] END regressor=Lasso(random_state=47), regressor__alpha=1, regressor__max_iter=100000, regressor__tol=0.1;, score=-9.389 total time=   0.0s\n",
      "[CV 5/5] END regressor=Lasso(random_state=47), regressor__alpha=1, regressor__max_iter=100000, regressor__tol=0.1;, score=-10.093 total time=   0.0s\n",
      "[CV 1/5] END regressor=Lasso(random_state=47), regressor__alpha=1, regressor__max_iter=1000000, regressor__tol=0.001;, score=-10.116 total time=   0.0s\n",
      "[CV 2/5] END regressor=Lasso(random_state=47), regressor__alpha=1, regressor__max_iter=1000000, regressor__tol=0.001;, score=-10.055 total time=   0.0s\n",
      "[CV 3/5] END regressor=Lasso(random_state=47), regressor__alpha=1, regressor__max_iter=1000000, regressor__tol=0.001;, score=-10.028 total time=   0.0s\n",
      "[CV 4/5] END regressor=Lasso(random_state=47), regressor__alpha=1, regressor__max_iter=1000000, regressor__tol=0.001;, score=-9.389 total time=   0.0s\n",
      "[CV 5/5] END regressor=Lasso(random_state=47), regressor__alpha=1, regressor__max_iter=1000000, regressor__tol=0.001;, score=-10.093 total time=   0.0s\n",
      "[CV 1/5] END regressor=Lasso(random_state=47), regressor__alpha=1, regressor__max_iter=1000000, regressor__tol=0.01;, score=-10.116 total time=   0.0s\n",
      "[CV 2/5] END regressor=Lasso(random_state=47), regressor__alpha=1, regressor__max_iter=1000000, regressor__tol=0.01;, score=-10.055 total time=   0.0s\n",
      "[CV 3/5] END regressor=Lasso(random_state=47), regressor__alpha=1, regressor__max_iter=1000000, regressor__tol=0.01;, score=-10.028 total time=   0.0s\n",
      "[CV 4/5] END regressor=Lasso(random_state=47), regressor__alpha=1, regressor__max_iter=1000000, regressor__tol=0.01;, score=-9.389 total time=   0.0s\n",
      "[CV 5/5] END regressor=Lasso(random_state=47), regressor__alpha=1, regressor__max_iter=1000000, regressor__tol=0.01;, score=-10.093 total time=   0.0s\n",
      "[CV 1/5] END regressor=Lasso(random_state=47), regressor__alpha=1, regressor__max_iter=1000000, regressor__tol=0.1;, score=-10.116 total time=   0.0s\n",
      "[CV 2/5] END regressor=Lasso(random_state=47), regressor__alpha=1, regressor__max_iter=1000000, regressor__tol=0.1;, score=-10.055 total time=   0.0s\n",
      "[CV 3/5] END regressor=Lasso(random_state=47), regressor__alpha=1, regressor__max_iter=1000000, regressor__tol=0.1;, score=-10.028 total time=   0.0s\n",
      "[CV 4/5] END regressor=Lasso(random_state=47), regressor__alpha=1, regressor__max_iter=1000000, regressor__tol=0.1;, score=-9.389 total time=   0.0s\n",
      "[CV 5/5] END regressor=Lasso(random_state=47), regressor__alpha=1, regressor__max_iter=1000000, regressor__tol=0.1;, score=-10.093 total time=   0.0s\n",
      "Wall time: 6min 50s\n"
     ]
    },
    {
     "data": {
      "text/html": [
       "<style>#sk-container-id-2 {color: black;background-color: white;}#sk-container-id-2 pre{padding: 0;}#sk-container-id-2 div.sk-toggleable {background-color: white;}#sk-container-id-2 label.sk-toggleable__label {cursor: pointer;display: block;width: 100%;margin-bottom: 0;padding: 0.3em;box-sizing: border-box;text-align: center;}#sk-container-id-2 label.sk-toggleable__label-arrow:before {content: \"▸\";float: left;margin-right: 0.25em;color: #696969;}#sk-container-id-2 label.sk-toggleable__label-arrow:hover:before {color: black;}#sk-container-id-2 div.sk-estimator:hover label.sk-toggleable__label-arrow:before {color: black;}#sk-container-id-2 div.sk-toggleable__content {max-height: 0;max-width: 0;overflow: hidden;text-align: left;background-color: #f0f8ff;}#sk-container-id-2 div.sk-toggleable__content pre {margin: 0.2em;color: black;border-radius: 0.25em;background-color: #f0f8ff;}#sk-container-id-2 input.sk-toggleable__control:checked~div.sk-toggleable__content {max-height: 200px;max-width: 100%;overflow: auto;}#sk-container-id-2 input.sk-toggleable__control:checked~label.sk-toggleable__label-arrow:before {content: \"▾\";}#sk-container-id-2 div.sk-estimator input.sk-toggleable__control:checked~label.sk-toggleable__label {background-color: #d4ebff;}#sk-container-id-2 div.sk-label input.sk-toggleable__control:checked~label.sk-toggleable__label {background-color: #d4ebff;}#sk-container-id-2 input.sk-hidden--visually {border: 0;clip: rect(1px 1px 1px 1px);clip: rect(1px, 1px, 1px, 1px);height: 1px;margin: -1px;overflow: hidden;padding: 0;position: absolute;width: 1px;}#sk-container-id-2 div.sk-estimator {font-family: monospace;background-color: #f0f8ff;border: 1px dotted black;border-radius: 0.25em;box-sizing: border-box;margin-bottom: 0.5em;}#sk-container-id-2 div.sk-estimator:hover {background-color: #d4ebff;}#sk-container-id-2 div.sk-parallel-item::after {content: \"\";width: 100%;border-bottom: 1px solid gray;flex-grow: 1;}#sk-container-id-2 div.sk-label:hover label.sk-toggleable__label {background-color: #d4ebff;}#sk-container-id-2 div.sk-serial::before {content: \"\";position: absolute;border-left: 1px solid gray;box-sizing: border-box;top: 0;bottom: 0;left: 50%;z-index: 0;}#sk-container-id-2 div.sk-serial {display: flex;flex-direction: column;align-items: center;background-color: white;padding-right: 0.2em;padding-left: 0.2em;position: relative;}#sk-container-id-2 div.sk-item {position: relative;z-index: 1;}#sk-container-id-2 div.sk-parallel {display: flex;align-items: stretch;justify-content: center;background-color: white;position: relative;}#sk-container-id-2 div.sk-item::before, #sk-container-id-2 div.sk-parallel-item::before {content: \"\";position: absolute;border-left: 1px solid gray;box-sizing: border-box;top: 0;bottom: 0;left: 50%;z-index: -1;}#sk-container-id-2 div.sk-parallel-item {display: flex;flex-direction: column;z-index: 1;position: relative;background-color: white;}#sk-container-id-2 div.sk-parallel-item:first-child::after {align-self: flex-end;width: 50%;}#sk-container-id-2 div.sk-parallel-item:last-child::after {align-self: flex-start;width: 50%;}#sk-container-id-2 div.sk-parallel-item:only-child::after {width: 0;}#sk-container-id-2 div.sk-dashed-wrapped {border: 1px dashed gray;margin: 0 0.4em 0.5em 0.4em;box-sizing: border-box;padding-bottom: 0.4em;background-color: white;}#sk-container-id-2 div.sk-label label {font-family: monospace;font-weight: bold;display: inline-block;line-height: 1.2em;}#sk-container-id-2 div.sk-label-container {text-align: center;}#sk-container-id-2 div.sk-container {/* jupyter's `normalize.less` sets `[hidden] { display: none; }` but bootstrap.min.css set `[hidden] { display: none !important; }` so we also need the `!important` here to be able to override the default hidden behavior on the sphinx rendered scikit-learn.org. See: https://github.com/scikit-learn/scikit-learn/issues/21755 */display: inline-block !important;position: relative;}#sk-container-id-2 div.sk-text-repr-fallback {display: none;}</style><div id=\"sk-container-id-2\" class=\"sk-top-container\"><div class=\"sk-text-repr-fallback\"><pre>RandomizedSearchCV(cv=5,\n",
       "                   estimator=Pipeline(steps=[(&#x27;imputer&#x27;, SimpleImputer()),\n",
       "                                             (&#x27;scaler&#x27;, MinMaxScaler()),\n",
       "                                             (&#x27;regressor&#x27;,\n",
       "                                              &lt;catboost.core.CatBoostRegressor object at 0x0000022594EFFA90&gt;)]),\n",
       "                   n_iter=50,\n",
       "                   param_distributions=[{&#x27;regressor&#x27;: [&lt;catboost.core.CatBoostRegressor object at 0x0000022594EFFBB0&gt;],\n",
       "                                         &#x27;regressor__depth&#x27;: [6, 8, 10],\n",
       "                                         &#x27;regressor__iterations&#x27;: [50, 100],\n",
       "                                         &#x27;regressor__learning_rate&#x27;: [0.03, 0.1,\n",
       "                                                                      1]},\n",
       "                                        {&#x27;regressor&#x27;: [Lasso(random_state=47)],\n",
       "                                         &#x27;regressor__alpha&#x27;: [0.1, 0.5, 1],\n",
       "                                         &#x27;regressor__max_iter&#x27;: [100000,\n",
       "                                                                 1000000],\n",
       "                                         &#x27;regressor__tol&#x27;: [0.001, 0.01, 0.1]}],\n",
       "                   scoring=make_scorer(smape, greater_is_better=False),\n",
       "                   verbose=3)</pre><b>In a Jupyter environment, please rerun this cell to show the HTML representation or trust the notebook. <br />On GitHub, the HTML representation is unable to render, please try loading this page with nbviewer.org.</b></div><div class=\"sk-container\" hidden><div class=\"sk-item sk-dashed-wrapped\"><div class=\"sk-label-container\"><div class=\"sk-label sk-toggleable\"><input class=\"sk-toggleable__control sk-hidden--visually\" id=\"sk-estimator-id-6\" type=\"checkbox\" ><label for=\"sk-estimator-id-6\" class=\"sk-toggleable__label sk-toggleable__label-arrow\">RandomizedSearchCV</label><div class=\"sk-toggleable__content\"><pre>RandomizedSearchCV(cv=5,\n",
       "                   estimator=Pipeline(steps=[(&#x27;imputer&#x27;, SimpleImputer()),\n",
       "                                             (&#x27;scaler&#x27;, MinMaxScaler()),\n",
       "                                             (&#x27;regressor&#x27;,\n",
       "                                              &lt;catboost.core.CatBoostRegressor object at 0x0000022594EFFA90&gt;)]),\n",
       "                   n_iter=50,\n",
       "                   param_distributions=[{&#x27;regressor&#x27;: [&lt;catboost.core.CatBoostRegressor object at 0x0000022594EFFBB0&gt;],\n",
       "                                         &#x27;regressor__depth&#x27;: [6, 8, 10],\n",
       "                                         &#x27;regressor__iterations&#x27;: [50, 100],\n",
       "                                         &#x27;regressor__learning_rate&#x27;: [0.03, 0.1,\n",
       "                                                                      1]},\n",
       "                                        {&#x27;regressor&#x27;: [Lasso(random_state=47)],\n",
       "                                         &#x27;regressor__alpha&#x27;: [0.1, 0.5, 1],\n",
       "                                         &#x27;regressor__max_iter&#x27;: [100000,\n",
       "                                                                 1000000],\n",
       "                                         &#x27;regressor__tol&#x27;: [0.001, 0.01, 0.1]}],\n",
       "                   scoring=make_scorer(smape, greater_is_better=False),\n",
       "                   verbose=3)</pre></div></div></div><div class=\"sk-parallel\"><div class=\"sk-parallel-item\"><div class=\"sk-item\"><div class=\"sk-label-container\"><div class=\"sk-label sk-toggleable\"><input class=\"sk-toggleable__control sk-hidden--visually\" id=\"sk-estimator-id-7\" type=\"checkbox\" ><label for=\"sk-estimator-id-7\" class=\"sk-toggleable__label sk-toggleable__label-arrow\">estimator: Pipeline</label><div class=\"sk-toggleable__content\"><pre>Pipeline(steps=[(&#x27;imputer&#x27;, SimpleImputer()), (&#x27;scaler&#x27;, MinMaxScaler()),\n",
       "                (&#x27;regressor&#x27;,\n",
       "                 &lt;catboost.core.CatBoostRegressor object at 0x0000022594EFFA90&gt;)])</pre></div></div></div><div class=\"sk-serial\"><div class=\"sk-item\"><div class=\"sk-serial\"><div class=\"sk-item\"><div class=\"sk-estimator sk-toggleable\"><input class=\"sk-toggleable__control sk-hidden--visually\" id=\"sk-estimator-id-8\" type=\"checkbox\" ><label for=\"sk-estimator-id-8\" class=\"sk-toggleable__label sk-toggleable__label-arrow\">SimpleImputer</label><div class=\"sk-toggleable__content\"><pre>SimpleImputer()</pre></div></div></div><div class=\"sk-item\"><div class=\"sk-estimator sk-toggleable\"><input class=\"sk-toggleable__control sk-hidden--visually\" id=\"sk-estimator-id-9\" type=\"checkbox\" ><label for=\"sk-estimator-id-9\" class=\"sk-toggleable__label sk-toggleable__label-arrow\">MinMaxScaler</label><div class=\"sk-toggleable__content\"><pre>MinMaxScaler()</pre></div></div></div><div class=\"sk-item\"><div class=\"sk-estimator sk-toggleable\"><input class=\"sk-toggleable__control sk-hidden--visually\" id=\"sk-estimator-id-10\" type=\"checkbox\" ><label for=\"sk-estimator-id-10\" class=\"sk-toggleable__label sk-toggleable__label-arrow\">CatBoostRegressor</label><div class=\"sk-toggleable__content\"><pre>&lt;catboost.core.CatBoostRegressor object at 0x0000022594EFFA90&gt;</pre></div></div></div></div></div></div></div></div></div></div></div></div>"
      ],
      "text/plain": [
       "RandomizedSearchCV(cv=5,\n",
       "                   estimator=Pipeline(steps=[('imputer', SimpleImputer()),\n",
       "                                             ('scaler', MinMaxScaler()),\n",
       "                                             ('regressor',\n",
       "                                              <catboost.core.CatBoostRegressor object at 0x0000022594EFFA90>)]),\n",
       "                   n_iter=50,\n",
       "                   param_distributions=[{'regressor': [<catboost.core.CatBoostRegressor object at 0x0000022594EFFBB0>],\n",
       "                                         'regressor__depth': [6, 8, 10],\n",
       "                                         'regressor__iterations': [50, 100],\n",
       "                                         'regressor__learning_rate': [0.03, 0.1,\n",
       "                                                                      1]},\n",
       "                                        {'regressor': [Lasso(random_state=47)],\n",
       "                                         'regressor__alpha': [0.1, 0.5, 1],\n",
       "                                         'regressor__max_iter': [100000,\n",
       "                                                                 1000000],\n",
       "                                         'regressor__tol': [0.001, 0.01, 0.1]}],\n",
       "                   scoring=make_scorer(smape, greater_is_better=False),\n",
       "                   verbose=3)"
      ]
     },
     "execution_count": 42,
     "metadata": {},
     "output_type": "execute_result"
    }
   ],
   "source": [
    "%%time\n",
    "grid.fit(X_train, y_train_final)"
   ]
  },
  {
   "cell_type": "code",
   "execution_count": 43,
   "metadata": {},
   "outputs": [],
   "source": [
    "y_val_final = grid.best_estimator_.predict(X_test)"
   ]
  },
  {
   "cell_type": "code",
   "execution_count": 44,
   "metadata": {},
   "outputs": [
    {
     "name": "stdout",
     "output_type": "stream",
     "text": [
      "Результат работы модели для final, SMAPE: 9.28 %\n"
     ]
    }
   ],
   "source": [
    "final_test_val = smape(y_val_final, y_test_final)\n",
    "print('Результат работы модели для final, SMAPE:', round(final_test_val, 2), '%')"
   ]
  },
  {
   "cell_type": "markdown",
   "metadata": {},
   "source": [
    "Считаем финальный результат"
   ]
  },
  {
   "cell_type": "code",
   "execution_count": 45,
   "metadata": {},
   "outputs": [
    {
     "data": {
      "text/plain": [
       "8.975886098493007"
      ]
     },
     "execution_count": 45,
     "metadata": {},
     "output_type": "execute_result"
    }
   ],
   "source": [
    "result = smape_final(rougher_test_val, final_test_val)\n",
    "result"
   ]
  },
  {
   "attachments": {},
   "cell_type": "markdown",
   "metadata": {},
   "source": [
    "**Вывод:**\n",
    "\n",
    "Проведено исследование данных технологического процесса получения золота из руды.\n",
    "\n",
    "Исходные данные за 2016-2018 года.\n",
    "Выборки для теста и обучения были разделены заранее по месяцам, для получения качественных данных необходима стратификация, чтобы исключить влияния сезонности на результат.\n",
    "Данные не обработанные содержат небольшое количество выбросов\n",
    "Также данные содержат пропуски, которые были заполнены методом \"k ближайших соседей\"\n",
    "\n",
    "Для вычисления качества модели, предложено использовать метрику SMAPE\n"
   ]
  },
  {
   "cell_type": "code",
   "execution_count": 46,
   "metadata": {},
   "outputs": [
    {
     "name": "stdout",
     "output_type": "stream",
     "text": [
      "Итоговый результат отклонения модели составил: 8.98 %\n"
     ]
    }
   ],
   "source": [
    "print('Итоговый результат отклонения модели составил:', round(result, 2), '%')"
   ]
  },
  {
   "cell_type": "markdown",
   "metadata": {},
   "source": [
    "Проверим модель на адекватность"
   ]
  },
  {
   "cell_type": "code",
   "execution_count": 47,
   "metadata": {},
   "outputs": [
    {
     "name": "stdout",
     "output_type": "stream",
     "text": [
      "DummyRegressor на тестовой выборке: 9.754\n"
     ]
    }
   ],
   "source": [
    "dum_model = DummyRegressor(strategy=\"mean\")\n",
    "dum_model.fit(X_train, y_train_rougher)\n",
    "dum_pred_rougher = dum_model.predict(X_test)\n",
    "\n",
    "dum_model.fit(X_train, y_train_final)\n",
    "dum_pred_final = dum_model.predict(X_test)\n",
    "\n",
    "rougher = smape(y_test_rougher, dum_pred_rougher)\n",
    "final = smape(y_test_final, dum_pred_final)\n",
    "\n",
    "print(\"DummyRegressor на тестовой выборке:\", round(smape_final(rougher, final), 3))"
   ]
  },
  {
   "cell_type": "code",
   "execution_count": 48,
   "metadata": {},
   "outputs": [
    {
     "name": "stdout",
     "output_type": "stream",
     "text": [
      "Разница между DummyRegressor и нашей моделью: 0.78\n"
     ]
    }
   ],
   "source": [
    "print(\"Разница между DummyRegressor и нашей моделью:\", round((smape_final(rougher, final) - result), 2))"
   ]
  },
  {
   "attachments": {},
   "cell_type": "markdown",
   "metadata": {},
   "source": [
    "Результат работы модели лучше чем dummy следовательно данную модель можно рекомендовать к применению"
   ]
  }
 ],
 "metadata": {
  "ExecuteTimeLog": [
   {
    "duration": 24302,
    "start_time": "2022-11-06T09:43:58.493Z"
   },
   {
    "duration": 1855,
    "start_time": "2022-11-06T09:45:07.697Z"
   },
   {
    "duration": 594,
    "start_time": "2022-11-06T09:46:49.938Z"
   },
   {
    "duration": 3624,
    "start_time": "2022-11-06T09:48:20.489Z"
   },
   {
    "duration": 17,
    "start_time": "2022-11-06T09:48:37.399Z"
   },
   {
    "duration": 4,
    "start_time": "2022-11-06T09:52:55.618Z"
   },
   {
    "duration": 467,
    "start_time": "2022-11-06T10:00:27.117Z"
   },
   {
    "duration": 161,
    "start_time": "2022-11-06T10:00:43.967Z"
   },
   {
    "duration": 160,
    "start_time": "2022-11-06T10:01:59.232Z"
   },
   {
    "duration": 30,
    "start_time": "2022-11-06T10:08:37.823Z"
   },
   {
    "duration": 16,
    "start_time": "2022-11-06T10:09:10.788Z"
   },
   {
    "duration": 19,
    "start_time": "2022-11-06T10:09:12.895Z"
   },
   {
    "duration": 21,
    "start_time": "2022-11-06T10:09:27.137Z"
   },
   {
    "duration": 16,
    "start_time": "2022-11-06T10:09:27.999Z"
   },
   {
    "duration": 15,
    "start_time": "2022-11-06T10:10:10.725Z"
   },
   {
    "duration": 692,
    "start_time": "2022-11-06T10:10:17.838Z"
   },
   {
    "duration": 25,
    "start_time": "2022-11-06T10:11:00.515Z"
   },
   {
    "duration": 9,
    "start_time": "2022-11-06T10:11:27.475Z"
   },
   {
    "duration": 15,
    "start_time": "2022-11-06T10:11:35.105Z"
   },
   {
    "duration": 16,
    "start_time": "2022-11-06T10:11:45.082Z"
   },
   {
    "duration": 16,
    "start_time": "2022-11-06T10:12:17.562Z"
   },
   {
    "duration": 14,
    "start_time": "2022-11-06T10:12:22.265Z"
   },
   {
    "duration": 20,
    "start_time": "2022-11-06T10:13:29.800Z"
   },
   {
    "duration": 15,
    "start_time": "2022-11-06T10:13:33.416Z"
   },
   {
    "duration": 67,
    "start_time": "2022-11-06T10:13:45.306Z"
   },
   {
    "duration": 56,
    "start_time": "2022-11-06T10:15:27.384Z"
   },
   {
    "duration": 16,
    "start_time": "2022-11-06T10:15:56.871Z"
   },
   {
    "duration": 59,
    "start_time": "2022-11-06T10:15:58.227Z"
   },
   {
    "duration": 167,
    "start_time": "2022-11-06T10:15:59.812Z"
   },
   {
    "duration": 68,
    "start_time": "2022-11-06T10:16:44.800Z"
   },
   {
    "duration": 63,
    "start_time": "2022-11-06T10:17:00.961Z"
   },
   {
    "duration": 62,
    "start_time": "2022-11-06T10:17:05.685Z"
   },
   {
    "duration": 63,
    "start_time": "2022-11-06T10:17:36.159Z"
   },
   {
    "duration": 54,
    "start_time": "2022-11-06T10:17:38.203Z"
   },
   {
    "duration": 3517,
    "start_time": "2022-11-06T10:17:49.138Z"
   },
   {
    "duration": 598,
    "start_time": "2022-11-06T10:17:52.657Z"
   },
   {
    "duration": 8,
    "start_time": "2022-11-06T10:17:53.256Z"
   },
   {
    "duration": 16,
    "start_time": "2022-11-06T10:17:53.265Z"
   },
   {
    "duration": 37,
    "start_time": "2022-11-06T10:17:53.282Z"
   },
   {
    "duration": 21,
    "start_time": "2022-11-06T10:17:53.320Z"
   },
   {
    "duration": 67,
    "start_time": "2022-11-06T10:17:53.342Z"
   },
   {
    "duration": 64,
    "start_time": "2022-11-06T10:18:10.240Z"
   },
   {
    "duration": 70,
    "start_time": "2022-11-06T10:19:10.997Z"
   },
   {
    "duration": 72,
    "start_time": "2022-11-06T10:19:51.355Z"
   },
   {
    "duration": 54,
    "start_time": "2022-11-06T10:20:11.116Z"
   },
   {
    "duration": 71,
    "start_time": "2022-11-06T10:20:28.508Z"
   },
   {
    "duration": 25,
    "start_time": "2022-11-06T10:20:36.656Z"
   },
   {
    "duration": 3,
    "start_time": "2022-11-06T10:20:59.384Z"
   },
   {
    "duration": 1529,
    "start_time": "2022-11-06T10:21:06.739Z"
   },
   {
    "duration": 1396,
    "start_time": "2022-11-06T10:21:33.597Z"
   },
   {
    "duration": 1421,
    "start_time": "2022-11-06T10:22:05.185Z"
   },
   {
    "duration": 6,
    "start_time": "2022-11-06T10:22:50.339Z"
   },
   {
    "duration": 490,
    "start_time": "2022-11-06T10:27:19.646Z"
   },
   {
    "duration": 490,
    "start_time": "2022-11-06T10:28:01.898Z"
   },
   {
    "duration": 564,
    "start_time": "2022-11-06T10:28:15.553Z"
   },
   {
    "duration": 464,
    "start_time": "2022-11-06T10:28:59.024Z"
   },
   {
    "duration": 516,
    "start_time": "2022-11-06T10:29:17.892Z"
   },
   {
    "duration": 505,
    "start_time": "2022-11-06T10:29:33.895Z"
   },
   {
    "duration": 564,
    "start_time": "2022-11-06T10:29:56.408Z"
   },
   {
    "duration": 1122,
    "start_time": "2022-11-06T10:30:59.416Z"
   },
   {
    "duration": 22,
    "start_time": "2022-11-06T10:31:55.321Z"
   },
   {
    "duration": 1240,
    "start_time": "2022-11-06T10:32:08.286Z"
   },
   {
    "duration": 24223,
    "start_time": "2022-11-08T08:17:42.388Z"
   },
   {
    "duration": 1766,
    "start_time": "2022-11-08T08:18:06.613Z"
   },
   {
    "duration": 13,
    "start_time": "2022-11-08T08:18:08.381Z"
   },
   {
    "duration": 4,
    "start_time": "2022-11-08T08:18:08.396Z"
   },
   {
    "duration": 17,
    "start_time": "2022-11-08T08:19:16.068Z"
   },
   {
    "duration": 23,
    "start_time": "2022-11-08T08:19:22.279Z"
   },
   {
    "duration": 26246,
    "start_time": "2022-11-08T08:20:34.696Z"
   },
   {
    "duration": 10473,
    "start_time": "2022-11-08T08:22:24.503Z"
   },
   {
    "duration": 675,
    "start_time": "2022-11-08T08:22:34.978Z"
   },
   {
    "duration": 9,
    "start_time": "2022-11-08T08:22:35.654Z"
   },
   {
    "duration": 9,
    "start_time": "2022-11-08T08:22:35.664Z"
   },
   {
    "duration": 73555,
    "start_time": "2022-11-08T08:23:29.870Z"
   },
   {
    "duration": 220,
    "start_time": "2022-11-08T08:27:14.198Z"
   },
   {
    "duration": 13,
    "start_time": "2022-11-08T08:28:36.051Z"
   },
   {
    "duration": 85843,
    "start_time": "2022-11-08T08:28:37.771Z"
   },
   {
    "duration": 22,
    "start_time": "2022-11-08T08:31:09.667Z"
   },
   {
    "duration": 361,
    "start_time": "2022-11-08T08:31:10.961Z"
   },
   {
    "duration": 69,
    "start_time": "2022-11-08T08:31:12.168Z"
   },
   {
    "duration": 77,
    "start_time": "2022-11-08T08:47:13.779Z"
   },
   {
    "duration": 64,
    "start_time": "2022-11-08T08:47:28.010Z"
   },
   {
    "duration": 59,
    "start_time": "2022-11-08T08:48:39.597Z"
   },
   {
    "duration": 66,
    "start_time": "2022-11-08T08:49:04.979Z"
   },
   {
    "duration": 68,
    "start_time": "2022-11-08T08:49:14.570Z"
   },
   {
    "duration": 88,
    "start_time": "2022-11-08T08:49:22.074Z"
   },
   {
    "duration": 61,
    "start_time": "2022-11-08T08:49:28.064Z"
   },
   {
    "duration": 64,
    "start_time": "2022-11-08T08:49:40.314Z"
   },
   {
    "duration": 45,
    "start_time": "2022-11-08T08:54:02.769Z"
   },
   {
    "duration": 2,
    "start_time": "2022-11-08T08:55:51.858Z"
   },
   {
    "duration": 4205,
    "start_time": "2022-11-08T08:56:15.945Z"
   },
   {
    "duration": 6691,
    "start_time": "2022-11-08T08:56:38.119Z"
   },
   {
    "duration": 626,
    "start_time": "2022-11-08T08:56:44.813Z"
   },
   {
    "duration": 11,
    "start_time": "2022-11-08T08:56:45.440Z"
   },
   {
    "duration": 24,
    "start_time": "2022-11-08T08:56:45.453Z"
   },
   {
    "duration": 40,
    "start_time": "2022-11-08T08:56:45.479Z"
   },
   {
    "duration": 23,
    "start_time": "2022-11-08T08:56:45.521Z"
   },
   {
    "duration": 370,
    "start_time": "2022-11-08T08:56:45.546Z"
   },
   {
    "duration": 105,
    "start_time": "2022-11-08T08:56:45.918Z"
   },
   {
    "duration": 96,
    "start_time": "2022-11-08T08:56:46.026Z"
   },
   {
    "duration": 35,
    "start_time": "2022-11-08T08:56:46.125Z"
   },
   {
    "duration": 40,
    "start_time": "2022-11-08T08:56:46.162Z"
   },
   {
    "duration": 1654,
    "start_time": "2022-11-08T08:56:46.204Z"
   },
   {
    "duration": 1778,
    "start_time": "2022-11-08T08:56:47.860Z"
   },
   {
    "duration": 1905,
    "start_time": "2022-11-08T08:56:49.640Z"
   },
   {
    "duration": 9,
    "start_time": "2022-11-08T08:56:51.548Z"
   },
   {
    "duration": 849,
    "start_time": "2022-11-08T08:56:51.559Z"
   },
   {
    "duration": 1347,
    "start_time": "2022-11-08T08:56:52.410Z"
   },
   {
    "duration": 4,
    "start_time": "2022-11-08T08:56:53.759Z"
   },
   {
    "duration": 4414,
    "start_time": "2022-11-08T09:51:39.373Z"
   },
   {
    "duration": 674,
    "start_time": "2022-11-08T09:51:43.789Z"
   },
   {
    "duration": 12,
    "start_time": "2022-11-08T09:51:44.465Z"
   },
   {
    "duration": 20,
    "start_time": "2022-11-08T09:51:44.479Z"
   },
   {
    "duration": 26,
    "start_time": "2022-11-08T09:51:44.502Z"
   },
   {
    "duration": 14,
    "start_time": "2022-11-08T09:51:44.531Z"
   },
   {
    "duration": 213,
    "start_time": "2022-11-08T09:51:44.547Z"
   },
   {
    "duration": 345,
    "start_time": "2022-11-08T09:52:15.475Z"
   },
   {
    "duration": 75,
    "start_time": "2022-11-08T09:52:37.257Z"
   },
   {
    "duration": 72,
    "start_time": "2022-11-08T09:52:41.456Z"
   },
   {
    "duration": 63,
    "start_time": "2022-11-08T09:52:48.249Z"
   },
   {
    "duration": 128,
    "start_time": "2022-11-08T09:55:26.001Z"
   },
   {
    "duration": 214,
    "start_time": "2022-11-08T10:01:33.809Z"
   },
   {
    "duration": 83,
    "start_time": "2022-11-08T10:05:47.571Z"
   },
   {
    "duration": 29,
    "start_time": "2022-11-08T10:05:51.050Z"
   },
   {
    "duration": 5,
    "start_time": "2022-11-08T10:11:37.951Z"
   },
   {
    "duration": 1682,
    "start_time": "2022-11-08T10:11:56.668Z"
   },
   {
    "duration": 1654,
    "start_time": "2022-11-08T10:13:01.543Z"
   },
   {
    "duration": 1788,
    "start_time": "2022-11-08T10:13:42.918Z"
   },
   {
    "duration": 1620,
    "start_time": "2022-11-08T10:14:53.617Z"
   },
   {
    "duration": 598,
    "start_time": "2022-11-08T10:17:53.836Z"
   },
   {
    "duration": 530,
    "start_time": "2022-11-08T10:19:04.719Z"
   },
   {
    "duration": 7,
    "start_time": "2022-11-08T10:20:46.124Z"
   },
   {
    "duration": 7,
    "start_time": "2022-11-08T10:21:08.115Z"
   },
   {
    "duration": 12,
    "start_time": "2022-11-08T10:26:02.553Z"
   },
   {
    "duration": 10,
    "start_time": "2022-11-08T10:32:45.082Z"
   },
   {
    "duration": 8,
    "start_time": "2022-11-08T10:34:14.636Z"
   },
   {
    "duration": 12,
    "start_time": "2022-11-08T10:34:31.118Z"
   },
   {
    "duration": 17,
    "start_time": "2022-11-08T10:34:40.045Z"
   },
   {
    "duration": 11,
    "start_time": "2022-11-08T10:34:53.320Z"
   },
   {
    "duration": 13,
    "start_time": "2022-11-08T10:35:15.481Z"
   },
   {
    "duration": 11,
    "start_time": "2022-11-08T10:42:03.507Z"
   },
   {
    "duration": 1381,
    "start_time": "2022-11-08T10:46:51.028Z"
   },
   {
    "duration": 9,
    "start_time": "2022-11-08T10:49:37.546Z"
   },
   {
    "duration": 267,
    "start_time": "2022-11-08T10:49:53.730Z"
   },
   {
    "duration": 18,
    "start_time": "2022-11-08T10:50:19.234Z"
   },
   {
    "duration": 198,
    "start_time": "2022-11-08T10:50:29.441Z"
   },
   {
    "duration": 182,
    "start_time": "2022-11-08T10:50:40.338Z"
   },
   {
    "duration": 2287,
    "start_time": "2022-11-08T10:52:43.687Z"
   },
   {
    "duration": 33,
    "start_time": "2022-11-08T10:53:25.476Z"
   },
   {
    "duration": 44,
    "start_time": "2022-11-08T11:28:37.467Z"
   },
   {
    "duration": 19,
    "start_time": "2022-11-08T11:29:19.841Z"
   },
   {
    "duration": 19,
    "start_time": "2022-11-08T11:29:33.285Z"
   },
   {
    "duration": 185,
    "start_time": "2022-11-08T11:29:49.894Z"
   },
   {
    "duration": 2197,
    "start_time": "2022-11-08T16:03:40.141Z"
   },
   {
    "duration": 695,
    "start_time": "2022-11-08T16:03:42.341Z"
   },
   {
    "duration": 9,
    "start_time": "2022-11-08T16:03:43.038Z"
   },
   {
    "duration": 5,
    "start_time": "2022-11-08T16:03:43.049Z"
   },
   {
    "duration": 17,
    "start_time": "2022-11-08T16:03:43.056Z"
   },
   {
    "duration": 3,
    "start_time": "2022-11-08T16:03:43.075Z"
   },
   {
    "duration": 242,
    "start_time": "2022-11-08T16:03:43.098Z"
   },
   {
    "duration": 76,
    "start_time": "2022-11-08T16:03:43.342Z"
   },
   {
    "duration": 30,
    "start_time": "2022-11-08T16:03:43.420Z"
   },
   {
    "duration": 4,
    "start_time": "2022-11-08T16:03:43.452Z"
   },
   {
    "duration": 1770,
    "start_time": "2022-11-08T16:03:43.458Z"
   },
   {
    "duration": 1956,
    "start_time": "2022-11-08T16:03:45.230Z"
   },
   {
    "duration": 2088,
    "start_time": "2022-11-08T16:03:47.188Z"
   },
   {
    "duration": 853,
    "start_time": "2022-11-08T16:03:49.279Z"
   },
   {
    "duration": 7,
    "start_time": "2022-11-08T16:03:50.134Z"
   },
   {
    "duration": 14,
    "start_time": "2022-11-08T16:03:50.143Z"
   },
   {
    "duration": 1433,
    "start_time": "2022-11-08T16:03:50.159Z"
   },
   {
    "duration": 417,
    "start_time": "2022-11-08T16:03:51.594Z"
   },
   {
    "duration": 317,
    "start_time": "2022-11-08T16:04:09.576Z"
   },
   {
    "duration": 17,
    "start_time": "2022-11-08T16:11:15.048Z"
   },
   {
    "duration": 27,
    "start_time": "2022-11-08T16:11:56.169Z"
   },
   {
    "duration": 69,
    "start_time": "2022-11-08T16:12:14.278Z"
   },
   {
    "duration": 68,
    "start_time": "2022-11-08T16:25:05.144Z"
   },
   {
    "duration": 14,
    "start_time": "2022-11-08T16:40:21.376Z"
   },
   {
    "duration": 97,
    "start_time": "2022-11-08T16:40:24.671Z"
   },
   {
    "duration": 17,
    "start_time": "2022-11-08T16:41:19.974Z"
   },
   {
    "duration": 2275,
    "start_time": "2022-11-08T16:41:38.395Z"
   },
   {
    "duration": 5,
    "start_time": "2022-11-08T16:41:46.230Z"
   },
   {
    "duration": 14,
    "start_time": "2022-11-08T16:41:58.869Z"
   },
   {
    "duration": 351,
    "start_time": "2022-11-08T16:42:15.947Z"
   },
   {
    "duration": 3,
    "start_time": "2022-11-08T16:42:36.057Z"
   },
   {
    "duration": 3,
    "start_time": "2022-11-08T16:42:57.037Z"
   },
   {
    "duration": 3,
    "start_time": "2022-11-08T16:42:57.611Z"
   },
   {
    "duration": 8,
    "start_time": "2022-11-08T16:43:10.938Z"
   },
   {
    "duration": 29,
    "start_time": "2022-11-08T16:43:30.990Z"
   },
   {
    "duration": 4,
    "start_time": "2022-11-08T16:44:22.093Z"
   },
   {
    "duration": 1820,
    "start_time": "2022-11-08T16:44:33.378Z"
   },
   {
    "duration": 7,
    "start_time": "2022-11-08T16:45:17.428Z"
   },
   {
    "duration": 728346,
    "start_time": "2022-11-08T16:45:30.681Z"
   },
   {
    "duration": 19,
    "start_time": "2022-11-08T16:57:44.501Z"
   },
   {
    "duration": 7,
    "start_time": "2022-11-08T16:59:40.317Z"
   },
   {
    "duration": 7,
    "start_time": "2022-11-08T16:59:51.398Z"
   },
   {
    "duration": 78365,
    "start_time": "2022-11-08T16:59:58.944Z"
   },
   {
    "duration": 5,
    "start_time": "2022-11-08T17:04:32.154Z"
   },
   {
    "duration": 5,
    "start_time": "2022-11-08T17:04:36.176Z"
   },
   {
    "duration": 16,
    "start_time": "2022-11-08T17:04:38.577Z"
   },
   {
    "duration": 18,
    "start_time": "2022-11-08T17:04:41.448Z"
   },
   {
    "duration": 16,
    "start_time": "2022-11-08T17:04:48.272Z"
   },
   {
    "duration": 233,
    "start_time": "2022-11-08T17:05:04.220Z"
   },
   {
    "duration": 188,
    "start_time": "2022-11-08T17:05:04.940Z"
   },
   {
    "duration": 16,
    "start_time": "2022-11-08T17:05:13.930Z"
   },
   {
    "duration": 7,
    "start_time": "2022-11-08T17:06:18.344Z"
   },
   {
    "duration": 2625942,
    "start_time": "2022-11-08T17:06:40.922Z"
   },
   {
    "duration": 17,
    "start_time": "2022-11-08T17:50:26.868Z"
   },
   {
    "duration": 0,
    "start_time": "2022-11-08T17:50:26.889Z"
   },
   {
    "duration": 0,
    "start_time": "2022-11-08T17:50:26.891Z"
   },
   {
    "duration": 0,
    "start_time": "2022-11-08T17:50:26.893Z"
   },
   {
    "duration": 7,
    "start_time": "2022-11-08T17:50:37.519Z"
   },
   {
    "duration": 1460194,
    "start_time": "2022-11-08T17:50:37.529Z"
   },
   {
    "duration": 13,
    "start_time": "2022-11-08T18:14:57.725Z"
   },
   {
    "duration": 0,
    "start_time": "2022-11-08T18:14:57.740Z"
   },
   {
    "duration": 0,
    "start_time": "2022-11-08T18:14:57.741Z"
   },
   {
    "duration": 0,
    "start_time": "2022-11-08T18:14:57.742Z"
   },
   {
    "duration": 0,
    "start_time": "2022-11-08T18:14:57.744Z"
   },
   {
    "duration": 0,
    "start_time": "2022-11-08T18:14:57.745Z"
   },
   {
    "duration": 0,
    "start_time": "2022-11-08T18:14:57.746Z"
   },
   {
    "duration": 0,
    "start_time": "2022-11-08T18:14:57.747Z"
   },
   {
    "duration": 0,
    "start_time": "2022-11-08T18:14:57.749Z"
   },
   {
    "duration": 0,
    "start_time": "2022-11-08T18:14:57.750Z"
   },
   {
    "duration": 0,
    "start_time": "2022-11-08T18:14:57.752Z"
   },
   {
    "duration": 0,
    "start_time": "2022-11-08T18:14:57.753Z"
   },
   {
    "duration": 7,
    "start_time": "2022-11-08T18:15:11.036Z"
   },
   {
    "duration": 129210,
    "start_time": "2022-11-08T18:15:12.692Z"
   },
   {
    "duration": 588,
    "start_time": "2022-11-08T18:17:21.904Z"
   },
   {
    "duration": 45,
    "start_time": "2022-11-08T18:17:22.494Z"
   },
   {
    "duration": 15,
    "start_time": "2022-11-08T18:19:27.579Z"
   },
   {
    "duration": 5,
    "start_time": "2022-11-08T18:19:40.458Z"
   },
   {
    "duration": 4,
    "start_time": "2022-11-08T18:21:44.895Z"
   },
   {
    "duration": 4,
    "start_time": "2022-11-08T18:21:46.105Z"
   },
   {
    "duration": 18,
    "start_time": "2022-11-08T18:21:46.707Z"
   },
   {
    "duration": 14,
    "start_time": "2022-11-08T18:21:47.175Z"
   },
   {
    "duration": 15,
    "start_time": "2022-11-08T18:21:47.659Z"
   },
   {
    "duration": 8,
    "start_time": "2022-11-08T18:22:26.226Z"
   },
   {
    "duration": 191,
    "start_time": "2022-11-08T18:23:15.074Z"
   },
   {
    "duration": 175,
    "start_time": "2022-11-08T18:23:15.462Z"
   },
   {
    "duration": 18,
    "start_time": "2022-11-08T18:23:16.831Z"
   },
   {
    "duration": 19,
    "start_time": "2022-11-08T18:23:44.280Z"
   },
   {
    "duration": 4,
    "start_time": "2022-11-08T18:26:28.808Z"
   },
   {
    "duration": 27,
    "start_time": "2022-11-08T18:26:37.260Z"
   },
   {
    "duration": 594,
    "start_time": "2022-11-08T18:27:52.260Z"
   },
   {
    "duration": 7,
    "start_time": "2022-11-08T18:30:13.068Z"
   },
   {
    "duration": 8,
    "start_time": "2022-11-08T18:30:27.657Z"
   },
   {
    "duration": 2257,
    "start_time": "2022-11-08T19:20:18.316Z"
   },
   {
    "duration": 642,
    "start_time": "2022-11-08T19:20:20.576Z"
   },
   {
    "duration": 63,
    "start_time": "2022-11-08T19:20:21.220Z"
   },
   {
    "duration": 3,
    "start_time": "2022-11-08T19:20:21.297Z"
   },
   {
    "duration": 15,
    "start_time": "2022-11-08T19:20:21.305Z"
   },
   {
    "duration": 14,
    "start_time": "2022-11-08T19:20:21.323Z"
   },
   {
    "duration": 33,
    "start_time": "2022-11-08T19:20:21.339Z"
   },
   {
    "duration": 376,
    "start_time": "2022-11-08T19:20:21.374Z"
   },
   {
    "duration": 77,
    "start_time": "2022-11-08T19:20:21.752Z"
   },
   {
    "duration": 46,
    "start_time": "2022-11-08T19:20:21.833Z"
   },
   {
    "duration": 7,
    "start_time": "2022-11-08T19:20:21.896Z"
   },
   {
    "duration": 1743,
    "start_time": "2022-11-08T19:20:21.905Z"
   },
   {
    "duration": 2192,
    "start_time": "2022-11-08T19:20:23.650Z"
   },
   {
    "duration": 1946,
    "start_time": "2022-11-08T19:20:25.846Z"
   },
   {
    "duration": 991,
    "start_time": "2022-11-08T19:20:27.794Z"
   },
   {
    "duration": 16,
    "start_time": "2022-11-08T19:20:28.787Z"
   },
   {
    "duration": 12,
    "start_time": "2022-11-08T19:20:28.805Z"
   },
   {
    "duration": 1519,
    "start_time": "2022-11-08T19:20:28.819Z"
   },
   {
    "duration": 387,
    "start_time": "2022-11-08T19:20:30.341Z"
   },
   {
    "duration": 13,
    "start_time": "2022-11-08T19:20:30.730Z"
   },
   {
    "duration": 100,
    "start_time": "2022-11-08T19:20:30.745Z"
   },
   {
    "duration": 5,
    "start_time": "2022-11-08T19:20:30.847Z"
   },
   {
    "duration": 157,
    "start_time": "2022-11-08T19:20:30.854Z"
   },
   {
    "duration": 336,
    "start_time": "2022-11-08T19:20:31.014Z"
   },
   {
    "duration": 3,
    "start_time": "2022-11-08T19:20:31.352Z"
   },
   {
    "duration": 24,
    "start_time": "2022-11-08T19:20:31.356Z"
   },
   {
    "duration": 40,
    "start_time": "2022-11-08T19:20:31.383Z"
   },
   {
    "duration": 37,
    "start_time": "2022-11-08T19:20:31.428Z"
   },
   {
    "duration": 6,
    "start_time": "2022-11-08T19:20:31.467Z"
   },
   {
    "duration": 1833,
    "start_time": "2022-11-08T19:20:31.475Z"
   },
   {
    "duration": 88,
    "start_time": "2022-11-08T19:20:33.310Z"
   },
   {
    "duration": 134287,
    "start_time": "2022-11-08T19:20:33.399Z"
   },
   {
    "duration": 17,
    "start_time": "2022-11-08T19:22:47.688Z"
   },
   {
    "duration": 0,
    "start_time": "2022-11-08T19:22:47.707Z"
   },
   {
    "duration": 0,
    "start_time": "2022-11-08T19:22:47.708Z"
   },
   {
    "duration": 0,
    "start_time": "2022-11-08T19:22:47.717Z"
   },
   {
    "duration": 0,
    "start_time": "2022-11-08T19:22:47.719Z"
   },
   {
    "duration": 0,
    "start_time": "2022-11-08T19:22:47.721Z"
   },
   {
    "duration": 0,
    "start_time": "2022-11-08T19:22:47.722Z"
   },
   {
    "duration": 0,
    "start_time": "2022-11-08T19:22:47.724Z"
   },
   {
    "duration": 0,
    "start_time": "2022-11-08T19:22:47.726Z"
   },
   {
    "duration": 0,
    "start_time": "2022-11-08T19:22:47.727Z"
   },
   {
    "duration": 0,
    "start_time": "2022-11-08T19:22:47.728Z"
   },
   {
    "duration": 0,
    "start_time": "2022-11-08T19:22:47.730Z"
   },
   {
    "duration": 430925,
    "start_time": "2022-11-08T19:22:50.951Z"
   },
   {
    "duration": 14,
    "start_time": "2022-11-08T19:30:01.878Z"
   },
   {
    "duration": 0,
    "start_time": "2022-11-08T19:30:01.894Z"
   },
   {
    "duration": 0,
    "start_time": "2022-11-08T19:30:01.895Z"
   },
   {
    "duration": 0,
    "start_time": "2022-11-08T19:30:01.896Z"
   },
   {
    "duration": 0,
    "start_time": "2022-11-08T19:30:01.897Z"
   },
   {
    "duration": 0,
    "start_time": "2022-11-08T19:30:01.899Z"
   },
   {
    "duration": 0,
    "start_time": "2022-11-08T19:30:01.900Z"
   },
   {
    "duration": 0,
    "start_time": "2022-11-08T19:30:01.901Z"
   },
   {
    "duration": 0,
    "start_time": "2022-11-08T19:30:01.902Z"
   },
   {
    "duration": 0,
    "start_time": "2022-11-08T19:30:01.903Z"
   },
   {
    "duration": 0,
    "start_time": "2022-11-08T19:30:01.904Z"
   },
   {
    "duration": 0,
    "start_time": "2022-11-08T19:30:01.905Z"
   },
   {
    "duration": 0,
    "start_time": "2022-11-08T19:30:01.906Z"
   },
   {
    "duration": 0,
    "start_time": "2022-11-08T19:30:01.907Z"
   },
   {
    "duration": 0,
    "start_time": "2022-11-08T19:30:01.908Z"
   },
   {
    "duration": 6,
    "start_time": "2022-11-08T19:30:11.805Z"
   },
   {
    "duration": 255954,
    "start_time": "2022-11-08T19:30:13.345Z"
   },
   {
    "duration": 20,
    "start_time": "2022-11-08T19:35:18.061Z"
   },
   {
    "duration": 7,
    "start_time": "2022-11-08T19:35:25.244Z"
   },
   {
    "duration": 3,
    "start_time": "2022-11-08T19:35:27.026Z"
   },
   {
    "duration": 4,
    "start_time": "2022-11-08T19:35:27.510Z"
   },
   {
    "duration": 6,
    "start_time": "2022-11-08T19:35:31.582Z"
   },
   {
    "duration": 9,
    "start_time": "2022-11-08T19:35:32.086Z"
   },
   {
    "duration": 15,
    "start_time": "2022-11-08T19:35:32.707Z"
   },
   {
    "duration": 17,
    "start_time": "2022-11-08T19:35:38.552Z"
   },
   {
    "duration": 175,
    "start_time": "2022-11-08T19:35:39.176Z"
   },
   {
    "duration": 163,
    "start_time": "2022-11-08T19:35:46.602Z"
   },
   {
    "duration": 15,
    "start_time": "2022-11-08T19:35:47.230Z"
   },
   {
    "duration": 2,
    "start_time": "2022-11-08T19:35:49.249Z"
   },
   {
    "duration": 236,
    "start_time": "2022-11-08T19:35:49.704Z"
   },
   {
    "duration": 5,
    "start_time": "2022-11-08T19:35:50.216Z"
   },
   {
    "duration": 7,
    "start_time": "2022-11-08T19:35:58.550Z"
   },
   {
    "duration": 3,
    "start_time": "2022-11-08T19:36:01.233Z"
   },
   {
    "duration": 275441,
    "start_time": "2022-11-08T19:36:01.657Z"
   },
   {
    "duration": 236,
    "start_time": "2022-11-08T19:40:37.100Z"
   },
   {
    "duration": 60,
    "start_time": "2022-11-08T19:40:37.338Z"
   },
   {
    "duration": 103,
    "start_time": "2022-11-08T19:40:37.400Z"
   },
   {
    "duration": 7,
    "start_time": "2022-11-08T19:45:25.942Z"
   },
   {
    "duration": 97,
    "start_time": "2022-11-08T19:48:52.056Z"
   },
   {
    "duration": 14,
    "start_time": "2022-11-08T19:48:57.470Z"
   },
   {
    "duration": 3,
    "start_time": "2022-11-08T19:49:18.499Z"
   },
   {
    "duration": 4,
    "start_time": "2022-11-08T19:49:25.290Z"
   },
   {
    "duration": 3,
    "start_time": "2022-11-08T19:49:30.621Z"
   },
   {
    "duration": 4,
    "start_time": "2022-11-08T19:49:57.671Z"
   },
   {
    "duration": 24105,
    "start_time": "2022-11-09T04:00:42.284Z"
   },
   {
    "duration": 0,
    "start_time": "2022-11-09T04:01:06.392Z"
   },
   {
    "duration": 0,
    "start_time": "2022-11-09T04:01:06.393Z"
   },
   {
    "duration": 0,
    "start_time": "2022-11-09T04:01:06.394Z"
   },
   {
    "duration": 0,
    "start_time": "2022-11-09T04:01:06.395Z"
   },
   {
    "duration": 0,
    "start_time": "2022-11-09T04:01:06.396Z"
   },
   {
    "duration": 0,
    "start_time": "2022-11-09T04:01:06.397Z"
   },
   {
    "duration": 1,
    "start_time": "2022-11-09T04:01:06.398Z"
   },
   {
    "duration": 0,
    "start_time": "2022-11-09T04:01:06.400Z"
   },
   {
    "duration": 0,
    "start_time": "2022-11-09T04:01:06.401Z"
   },
   {
    "duration": 0,
    "start_time": "2022-11-09T04:01:06.401Z"
   },
   {
    "duration": 0,
    "start_time": "2022-11-09T04:01:06.402Z"
   },
   {
    "duration": 0,
    "start_time": "2022-11-09T04:01:06.404Z"
   },
   {
    "duration": 0,
    "start_time": "2022-11-09T04:01:06.405Z"
   },
   {
    "duration": 0,
    "start_time": "2022-11-09T04:01:06.406Z"
   },
   {
    "duration": 0,
    "start_time": "2022-11-09T04:01:06.407Z"
   },
   {
    "duration": 0,
    "start_time": "2022-11-09T04:01:06.408Z"
   },
   {
    "duration": 0,
    "start_time": "2022-11-09T04:01:06.409Z"
   },
   {
    "duration": 0,
    "start_time": "2022-11-09T04:01:06.410Z"
   },
   {
    "duration": 0,
    "start_time": "2022-11-09T04:01:06.411Z"
   },
   {
    "duration": 0,
    "start_time": "2022-11-09T04:01:06.412Z"
   },
   {
    "duration": 2015,
    "start_time": "2022-11-09T04:02:29.962Z"
   },
   {
    "duration": 0,
    "start_time": "2022-11-09T04:02:31.979Z"
   },
   {
    "duration": 0,
    "start_time": "2022-11-09T04:02:31.981Z"
   },
   {
    "duration": 0,
    "start_time": "2022-11-09T04:02:31.982Z"
   },
   {
    "duration": 0,
    "start_time": "2022-11-09T04:02:31.982Z"
   },
   {
    "duration": 0,
    "start_time": "2022-11-09T04:02:31.984Z"
   },
   {
    "duration": 0,
    "start_time": "2022-11-09T04:02:31.984Z"
   },
   {
    "duration": 0,
    "start_time": "2022-11-09T04:02:31.985Z"
   },
   {
    "duration": 0,
    "start_time": "2022-11-09T04:02:31.986Z"
   },
   {
    "duration": 0,
    "start_time": "2022-11-09T04:02:31.987Z"
   },
   {
    "duration": 0,
    "start_time": "2022-11-09T04:02:31.989Z"
   },
   {
    "duration": 0,
    "start_time": "2022-11-09T04:02:31.990Z"
   },
   {
    "duration": 0,
    "start_time": "2022-11-09T04:02:31.992Z"
   },
   {
    "duration": 0,
    "start_time": "2022-11-09T04:02:31.992Z"
   },
   {
    "duration": 0,
    "start_time": "2022-11-09T04:02:31.993Z"
   },
   {
    "duration": 0,
    "start_time": "2022-11-09T04:02:31.995Z"
   },
   {
    "duration": 0,
    "start_time": "2022-11-09T04:02:31.996Z"
   },
   {
    "duration": 0,
    "start_time": "2022-11-09T04:02:31.998Z"
   },
   {
    "duration": 0,
    "start_time": "2022-11-09T04:02:31.999Z"
   },
   {
    "duration": 0,
    "start_time": "2022-11-09T04:02:32.001Z"
   },
   {
    "duration": 0,
    "start_time": "2022-11-09T04:02:32.002Z"
   },
   {
    "duration": 0,
    "start_time": "2022-11-09T04:02:32.003Z"
   },
   {
    "duration": 0,
    "start_time": "2022-11-09T04:02:32.004Z"
   },
   {
    "duration": 0,
    "start_time": "2022-11-09T04:02:32.005Z"
   },
   {
    "duration": 0,
    "start_time": "2022-11-09T04:02:32.006Z"
   },
   {
    "duration": 0,
    "start_time": "2022-11-09T04:02:32.007Z"
   },
   {
    "duration": 0,
    "start_time": "2022-11-09T04:02:32.007Z"
   },
   {
    "duration": 0,
    "start_time": "2022-11-09T04:02:32.008Z"
   },
   {
    "duration": 0,
    "start_time": "2022-11-09T04:02:32.009Z"
   },
   {
    "duration": 0,
    "start_time": "2022-11-09T04:02:32.010Z"
   },
   {
    "duration": 1930,
    "start_time": "2022-11-09T04:03:27.998Z"
   },
   {
    "duration": 0,
    "start_time": "2022-11-09T04:03:29.930Z"
   },
   {
    "duration": 0,
    "start_time": "2022-11-09T04:03:29.931Z"
   },
   {
    "duration": 0,
    "start_time": "2022-11-09T04:03:29.932Z"
   },
   {
    "duration": 0,
    "start_time": "2022-11-09T04:03:29.933Z"
   },
   {
    "duration": 0,
    "start_time": "2022-11-09T04:03:29.934Z"
   },
   {
    "duration": 0,
    "start_time": "2022-11-09T04:03:29.935Z"
   },
   {
    "duration": 0,
    "start_time": "2022-11-09T04:03:29.936Z"
   },
   {
    "duration": 0,
    "start_time": "2022-11-09T04:03:29.937Z"
   },
   {
    "duration": 0,
    "start_time": "2022-11-09T04:03:29.938Z"
   },
   {
    "duration": 0,
    "start_time": "2022-11-09T04:03:29.939Z"
   },
   {
    "duration": 0,
    "start_time": "2022-11-09T04:03:29.940Z"
   },
   {
    "duration": 0,
    "start_time": "2022-11-09T04:03:29.941Z"
   },
   {
    "duration": 0,
    "start_time": "2022-11-09T04:03:29.942Z"
   },
   {
    "duration": 0,
    "start_time": "2022-11-09T04:03:29.943Z"
   },
   {
    "duration": 0,
    "start_time": "2022-11-09T04:03:29.944Z"
   },
   {
    "duration": 0,
    "start_time": "2022-11-09T04:03:29.945Z"
   },
   {
    "duration": 0,
    "start_time": "2022-11-09T04:03:29.946Z"
   },
   {
    "duration": 0,
    "start_time": "2022-11-09T04:03:29.947Z"
   },
   {
    "duration": 0,
    "start_time": "2022-11-09T04:03:29.948Z"
   },
   {
    "duration": 0,
    "start_time": "2022-11-09T04:03:29.949Z"
   },
   {
    "duration": 0,
    "start_time": "2022-11-09T04:03:29.950Z"
   },
   {
    "duration": 0,
    "start_time": "2022-11-09T04:03:29.951Z"
   },
   {
    "duration": 0,
    "start_time": "2022-11-09T04:03:29.952Z"
   },
   {
    "duration": 0,
    "start_time": "2022-11-09T04:03:29.954Z"
   },
   {
    "duration": 0,
    "start_time": "2022-11-09T04:03:29.955Z"
   },
   {
    "duration": 0,
    "start_time": "2022-11-09T04:03:29.956Z"
   },
   {
    "duration": 0,
    "start_time": "2022-11-09T04:03:29.958Z"
   },
   {
    "duration": 0,
    "start_time": "2022-11-09T04:03:29.959Z"
   },
   {
    "duration": 0,
    "start_time": "2022-11-09T04:03:29.960Z"
   },
   {
    "duration": 3405,
    "start_time": "2022-11-09T04:03:52.479Z"
   },
   {
    "duration": 0,
    "start_time": "2022-11-09T04:03:55.887Z"
   },
   {
    "duration": 0,
    "start_time": "2022-11-09T04:03:55.888Z"
   },
   {
    "duration": 0,
    "start_time": "2022-11-09T04:03:55.889Z"
   },
   {
    "duration": 0,
    "start_time": "2022-11-09T04:03:55.890Z"
   },
   {
    "duration": 0,
    "start_time": "2022-11-09T04:03:55.891Z"
   },
   {
    "duration": 0,
    "start_time": "2022-11-09T04:03:55.892Z"
   },
   {
    "duration": 0,
    "start_time": "2022-11-09T04:03:55.893Z"
   },
   {
    "duration": 0,
    "start_time": "2022-11-09T04:03:55.895Z"
   },
   {
    "duration": 0,
    "start_time": "2022-11-09T04:03:55.895Z"
   },
   {
    "duration": 0,
    "start_time": "2022-11-09T04:03:55.897Z"
   },
   {
    "duration": 0,
    "start_time": "2022-11-09T04:03:55.898Z"
   },
   {
    "duration": 0,
    "start_time": "2022-11-09T04:03:55.898Z"
   },
   {
    "duration": 0,
    "start_time": "2022-11-09T04:03:55.900Z"
   },
   {
    "duration": 1,
    "start_time": "2022-11-09T04:03:55.900Z"
   },
   {
    "duration": 0,
    "start_time": "2022-11-09T04:03:55.902Z"
   },
   {
    "duration": 0,
    "start_time": "2022-11-09T04:03:55.903Z"
   },
   {
    "duration": 0,
    "start_time": "2022-11-09T04:03:55.904Z"
   },
   {
    "duration": 0,
    "start_time": "2022-11-09T04:03:55.904Z"
   },
   {
    "duration": 0,
    "start_time": "2022-11-09T04:03:55.905Z"
   },
   {
    "duration": 0,
    "start_time": "2022-11-09T04:03:55.907Z"
   },
   {
    "duration": 0,
    "start_time": "2022-11-09T04:03:55.908Z"
   },
   {
    "duration": 0,
    "start_time": "2022-11-09T04:03:55.909Z"
   },
   {
    "duration": 0,
    "start_time": "2022-11-09T04:03:55.910Z"
   },
   {
    "duration": 0,
    "start_time": "2022-11-09T04:03:55.911Z"
   },
   {
    "duration": 0,
    "start_time": "2022-11-09T04:03:55.912Z"
   },
   {
    "duration": 0,
    "start_time": "2022-11-09T04:03:55.913Z"
   },
   {
    "duration": 0,
    "start_time": "2022-11-09T04:03:55.914Z"
   },
   {
    "duration": 0,
    "start_time": "2022-11-09T04:03:55.915Z"
   },
   {
    "duration": 0,
    "start_time": "2022-11-09T04:03:55.916Z"
   },
   {
    "duration": 0,
    "start_time": "2022-11-09T04:03:55.917Z"
   },
   {
    "duration": 0,
    "start_time": "2022-11-09T04:03:55.918Z"
   },
   {
    "duration": 0,
    "start_time": "2022-11-09T04:03:55.919Z"
   },
   {
    "duration": 0,
    "start_time": "2022-11-09T04:03:55.920Z"
   },
   {
    "duration": 0,
    "start_time": "2022-11-09T04:03:55.923Z"
   },
   {
    "duration": 0,
    "start_time": "2022-11-09T04:03:55.924Z"
   },
   {
    "duration": 0,
    "start_time": "2022-11-09T04:03:55.987Z"
   },
   {
    "duration": 0,
    "start_time": "2022-11-09T04:03:55.988Z"
   },
   {
    "duration": 0,
    "start_time": "2022-11-09T04:03:55.990Z"
   },
   {
    "duration": 0,
    "start_time": "2022-11-09T04:03:55.991Z"
   },
   {
    "duration": 0,
    "start_time": "2022-11-09T04:03:55.992Z"
   },
   {
    "duration": 0,
    "start_time": "2022-11-09T04:03:55.993Z"
   },
   {
    "duration": 0,
    "start_time": "2022-11-09T04:03:55.994Z"
   },
   {
    "duration": 0,
    "start_time": "2022-11-09T04:03:55.995Z"
   },
   {
    "duration": 0,
    "start_time": "2022-11-09T04:03:55.997Z"
   },
   {
    "duration": 0,
    "start_time": "2022-11-09T04:03:55.998Z"
   },
   {
    "duration": 0,
    "start_time": "2022-11-09T04:03:55.999Z"
   },
   {
    "duration": 0,
    "start_time": "2022-11-09T04:03:56.000Z"
   },
   {
    "duration": 0,
    "start_time": "2022-11-09T04:03:56.001Z"
   },
   {
    "duration": 5955,
    "start_time": "2022-11-09T04:04:21.365Z"
   },
   {
    "duration": 4126,
    "start_time": "2022-11-09T04:04:43.221Z"
   },
   {
    "duration": 20982,
    "start_time": "2022-11-09T04:05:23.003Z"
   },
   {
    "duration": 8407,
    "start_time": "2022-11-09T04:16:44.549Z"
   },
   {
    "duration": 620,
    "start_time": "2022-11-09T04:16:52.958Z"
   },
   {
    "duration": 47,
    "start_time": "2022-11-09T04:16:53.580Z"
   },
   {
    "duration": 3,
    "start_time": "2022-11-09T04:16:53.628Z"
   },
   {
    "duration": 17,
    "start_time": "2022-11-09T04:16:53.632Z"
   },
   {
    "duration": 8,
    "start_time": "2022-11-09T04:16:53.651Z"
   },
   {
    "duration": 29,
    "start_time": "2022-11-09T04:16:53.661Z"
   },
   {
    "duration": 210,
    "start_time": "2022-11-09T04:16:53.691Z"
   },
   {
    "duration": 58,
    "start_time": "2022-11-09T04:16:53.902Z"
   },
   {
    "duration": 44,
    "start_time": "2022-11-09T04:16:53.962Z"
   },
   {
    "duration": 5,
    "start_time": "2022-11-09T04:16:54.007Z"
   },
   {
    "duration": 1640,
    "start_time": "2022-11-09T04:16:54.013Z"
   },
   {
    "duration": 2108,
    "start_time": "2022-11-09T04:16:55.655Z"
   },
   {
    "duration": 1860,
    "start_time": "2022-11-09T04:16:57.765Z"
   },
   {
    "duration": 828,
    "start_time": "2022-11-09T04:16:59.627Z"
   },
   {
    "duration": 6,
    "start_time": "2022-11-09T04:17:00.457Z"
   },
   {
    "duration": 29,
    "start_time": "2022-11-09T04:17:00.464Z"
   },
   {
    "duration": 1330,
    "start_time": "2022-11-09T04:17:00.495Z"
   },
   {
    "duration": 173,
    "start_time": "2022-11-09T04:17:11.540Z"
   },
   {
    "duration": 11,
    "start_time": "2022-11-09T04:17:32.270Z"
   },
   {
    "duration": 71,
    "start_time": "2022-11-09T04:17:36.155Z"
   },
   {
    "duration": 70,
    "start_time": "2022-11-09T04:18:00.522Z"
   },
   {
    "duration": 10,
    "start_time": "2022-11-09T04:18:34.495Z"
   },
   {
    "duration": 54,
    "start_time": "2022-11-09T04:18:38.716Z"
   },
   {
    "duration": 1223,
    "start_time": "2022-11-09T04:18:51.480Z"
   },
   {
    "duration": 172,
    "start_time": "2022-11-09T04:18:53.151Z"
   },
   {
    "duration": 11,
    "start_time": "2022-11-09T04:18:53.531Z"
   },
   {
    "duration": 54,
    "start_time": "2022-11-09T04:18:56.725Z"
   },
   {
    "duration": 4,
    "start_time": "2022-11-09T04:18:57.023Z"
   },
   {
    "duration": 10,
    "start_time": "2022-11-09T04:18:57.655Z"
   },
   {
    "duration": 305,
    "start_time": "2022-11-09T04:18:57.891Z"
   },
   {
    "duration": 3,
    "start_time": "2022-11-09T04:18:58.671Z"
   },
   {
    "duration": 3,
    "start_time": "2022-11-09T04:18:59.137Z"
   },
   {
    "duration": 9,
    "start_time": "2022-11-09T04:18:59.615Z"
   },
   {
    "duration": 23,
    "start_time": "2022-11-09T04:19:03.433Z"
   },
   {
    "duration": 6,
    "start_time": "2022-11-09T04:19:04.744Z"
   },
   {
    "duration": 247566,
    "start_time": "2022-11-09T04:19:06.359Z"
   },
   {
    "duration": 17,
    "start_time": "2022-11-09T04:24:44.238Z"
   },
   {
    "duration": 10,
    "start_time": "2022-11-09T04:24:44.448Z"
   },
   {
    "duration": 6,
    "start_time": "2022-11-09T04:24:44.637Z"
   },
   {
    "duration": 6,
    "start_time": "2022-11-09T04:24:44.837Z"
   },
   {
    "duration": 7,
    "start_time": "2022-11-09T04:24:45.106Z"
   },
   {
    "duration": 12,
    "start_time": "2022-11-09T04:24:45.381Z"
   },
   {
    "duration": 11,
    "start_time": "2022-11-09T04:24:49.289Z"
   },
   {
    "duration": 157,
    "start_time": "2022-11-09T04:24:49.418Z"
   },
   {
    "duration": 158,
    "start_time": "2022-11-09T04:24:49.677Z"
   },
   {
    "duration": 19,
    "start_time": "2022-11-09T04:24:58.603Z"
   },
   {
    "duration": 0,
    "start_time": "2022-11-09T04:24:58.624Z"
   },
   {
    "duration": 0,
    "start_time": "2022-11-09T04:24:58.625Z"
   },
   {
    "duration": 0,
    "start_time": "2022-11-09T04:24:58.627Z"
   },
   {
    "duration": 0,
    "start_time": "2022-11-09T04:24:58.628Z"
   },
   {
    "duration": 0,
    "start_time": "2022-11-09T04:24:58.630Z"
   },
   {
    "duration": 0,
    "start_time": "2022-11-09T04:24:58.631Z"
   },
   {
    "duration": 0,
    "start_time": "2022-11-09T04:24:58.632Z"
   },
   {
    "duration": 0,
    "start_time": "2022-11-09T04:24:58.633Z"
   },
   {
    "duration": 0,
    "start_time": "2022-11-09T04:24:58.634Z"
   },
   {
    "duration": 6,
    "start_time": "2022-11-09T04:27:37.285Z"
   },
   {
    "duration": 53587,
    "start_time": "2022-11-09T04:27:38.502Z"
   },
   {
    "duration": 6,
    "start_time": "2022-11-09T04:28:37.358Z"
   },
   {
    "duration": 578804,
    "start_time": "2022-11-09T04:28:39.877Z"
   },
   {
    "duration": 14,
    "start_time": "2022-11-09T04:38:18.683Z"
   },
   {
    "duration": 0,
    "start_time": "2022-11-09T04:38:18.698Z"
   },
   {
    "duration": 0,
    "start_time": "2022-11-09T04:38:18.699Z"
   },
   {
    "duration": 0,
    "start_time": "2022-11-09T04:38:18.700Z"
   },
   {
    "duration": 9271,
    "start_time": "2022-11-09T05:17:28.548Z"
   },
   {
    "duration": 689,
    "start_time": "2022-11-09T05:17:37.821Z"
   },
   {
    "duration": 37,
    "start_time": "2022-11-09T05:17:38.512Z"
   },
   {
    "duration": 3,
    "start_time": "2022-11-09T05:17:38.551Z"
   },
   {
    "duration": 11,
    "start_time": "2022-11-09T05:17:38.555Z"
   },
   {
    "duration": 7,
    "start_time": "2022-11-09T05:17:38.590Z"
   },
   {
    "duration": 21,
    "start_time": "2022-11-09T05:17:38.598Z"
   },
   {
    "duration": 231,
    "start_time": "2022-11-09T05:17:38.620Z"
   },
   {
    "duration": 77,
    "start_time": "2022-11-09T05:17:38.853Z"
   },
   {
    "duration": 26,
    "start_time": "2022-11-09T05:17:38.933Z"
   },
   {
    "duration": 5,
    "start_time": "2022-11-09T05:17:38.960Z"
   },
   {
    "duration": 1646,
    "start_time": "2022-11-09T05:17:38.967Z"
   },
   {
    "duration": 2075,
    "start_time": "2022-11-09T05:17:40.614Z"
   },
   {
    "duration": 2012,
    "start_time": "2022-11-09T05:17:42.691Z"
   },
   {
    "duration": 902,
    "start_time": "2022-11-09T05:17:44.706Z"
   },
   {
    "duration": 6,
    "start_time": "2022-11-09T05:17:45.609Z"
   },
   {
    "duration": 20,
    "start_time": "2022-11-09T05:17:45.617Z"
   },
   {
    "duration": 1442,
    "start_time": "2022-11-09T05:17:45.639Z"
   },
   {
    "duration": 16,
    "start_time": "2022-11-09T05:17:47.087Z"
   },
   {
    "duration": 442,
    "start_time": "2022-11-09T05:17:47.105Z"
   },
   {
    "duration": 15,
    "start_time": "2022-11-09T05:17:47.549Z"
   },
   {
    "duration": 109,
    "start_time": "2022-11-09T05:17:47.566Z"
   },
   {
    "duration": 9,
    "start_time": "2022-11-09T05:17:47.677Z"
   },
   {
    "duration": 30,
    "start_time": "2022-11-09T05:17:47.688Z"
   },
   {
    "duration": 332,
    "start_time": "2022-11-09T05:17:47.720Z"
   },
   {
    "duration": 2,
    "start_time": "2022-11-09T05:17:48.054Z"
   },
   {
    "duration": 5,
    "start_time": "2022-11-09T05:17:48.058Z"
   },
   {
    "duration": 22,
    "start_time": "2022-11-09T05:17:48.067Z"
   },
   {
    "duration": 34,
    "start_time": "2022-11-09T05:17:48.092Z"
   },
   {
    "duration": 7,
    "start_time": "2022-11-09T05:17:48.128Z"
   },
   {
    "duration": 1014706,
    "start_time": "2022-11-09T05:17:48.136Z"
   },
   {
    "duration": 17,
    "start_time": "2022-11-09T05:34:42.844Z"
   },
   {
    "duration": 0,
    "start_time": "2022-11-09T05:34:42.863Z"
   },
   {
    "duration": 0,
    "start_time": "2022-11-09T05:34:42.864Z"
   },
   {
    "duration": 0,
    "start_time": "2022-11-09T05:34:42.866Z"
   },
   {
    "duration": 0,
    "start_time": "2022-11-09T05:34:42.867Z"
   },
   {
    "duration": 0,
    "start_time": "2022-11-09T05:34:42.868Z"
   },
   {
    "duration": 0,
    "start_time": "2022-11-09T05:34:42.870Z"
   },
   {
    "duration": 0,
    "start_time": "2022-11-09T05:34:42.872Z"
   },
   {
    "duration": 0,
    "start_time": "2022-11-09T05:34:42.873Z"
   },
   {
    "duration": 0,
    "start_time": "2022-11-09T05:34:42.874Z"
   },
   {
    "duration": 0,
    "start_time": "2022-11-09T05:34:42.875Z"
   },
   {
    "duration": 0,
    "start_time": "2022-11-09T05:34:42.876Z"
   },
   {
    "duration": 0,
    "start_time": "2022-11-09T05:34:42.884Z"
   },
   {
    "duration": 0,
    "start_time": "2022-11-09T05:34:42.886Z"
   },
   {
    "duration": 0,
    "start_time": "2022-11-09T05:34:42.887Z"
   },
   {
    "duration": 0,
    "start_time": "2022-11-09T05:34:42.888Z"
   },
   {
    "duration": 0,
    "start_time": "2022-11-09T05:34:42.889Z"
   },
   {
    "duration": 0,
    "start_time": "2022-11-09T05:34:42.891Z"
   },
   {
    "duration": 1,
    "start_time": "2022-11-09T05:34:42.891Z"
   },
   {
    "duration": 4,
    "start_time": "2022-11-09T05:35:12.422Z"
   },
   {
    "duration": 32400,
    "start_time": "2022-11-09T05:35:14.189Z"
   },
   {
    "duration": 105,
    "start_time": "2022-11-09T05:35:46.592Z"
   },
   {
    "duration": 17,
    "start_time": "2022-11-09T05:36:55.503Z"
   },
   {
    "duration": 8,
    "start_time": "2022-11-09T05:37:00.949Z"
   },
   {
    "duration": 4,
    "start_time": "2022-11-09T05:37:01.197Z"
   },
   {
    "duration": 3,
    "start_time": "2022-11-09T05:37:01.413Z"
   },
   {
    "duration": 14,
    "start_time": "2022-11-09T05:37:01.628Z"
   },
   {
    "duration": 8,
    "start_time": "2022-11-09T05:37:01.837Z"
   },
   {
    "duration": 15,
    "start_time": "2022-11-09T05:37:02.144Z"
   },
   {
    "duration": 169,
    "start_time": "2022-11-09T05:37:02.341Z"
   },
   {
    "duration": 160,
    "start_time": "2022-11-09T05:37:02.548Z"
   },
   {
    "duration": 13,
    "start_time": "2022-11-09T05:37:02.732Z"
   },
   {
    "duration": 2,
    "start_time": "2022-11-09T05:37:03.534Z"
   },
   {
    "duration": 216,
    "start_time": "2022-11-09T05:37:03.708Z"
   },
   {
    "duration": 68,
    "start_time": "2022-11-09T05:37:03.927Z"
   },
   {
    "duration": 2,
    "start_time": "2022-11-09T05:37:04.252Z"
   },
   {
    "duration": 45627,
    "start_time": "2022-11-09T05:37:04.461Z"
   },
   {
    "duration": 497,
    "start_time": "2022-11-09T05:37:50.091Z"
   },
   {
    "duration": 96,
    "start_time": "2022-11-09T05:37:50.591Z"
   },
   {
    "duration": 5,
    "start_time": "2022-11-09T05:37:50.688Z"
   },
   {
    "duration": 4,
    "start_time": "2022-11-09T05:39:59.459Z"
   },
   {
    "duration": 89964,
    "start_time": "2022-11-09T05:40:01.623Z"
   },
   {
    "duration": 19,
    "start_time": "2022-11-09T05:41:53.645Z"
   },
   {
    "duration": 9,
    "start_time": "2022-11-09T05:42:01.963Z"
   },
   {
    "duration": 4,
    "start_time": "2022-11-09T05:42:02.253Z"
   },
   {
    "duration": 3,
    "start_time": "2022-11-09T05:42:02.413Z"
   },
   {
    "duration": 14,
    "start_time": "2022-11-09T05:42:02.684Z"
   },
   {
    "duration": 8,
    "start_time": "2022-11-09T05:42:02.934Z"
   },
   {
    "duration": 16,
    "start_time": "2022-11-09T05:42:03.179Z"
   },
   {
    "duration": 171,
    "start_time": "2022-11-09T05:42:03.844Z"
   },
   {
    "duration": 168,
    "start_time": "2022-11-09T05:42:04.051Z"
   },
   {
    "duration": 13,
    "start_time": "2022-11-09T05:42:04.246Z"
   },
   {
    "duration": 2,
    "start_time": "2022-11-09T05:42:05.012Z"
   },
   {
    "duration": 176,
    "start_time": "2022-11-09T05:42:05.243Z"
   },
   {
    "duration": 6,
    "start_time": "2022-11-09T05:42:05.586Z"
   },
   {
    "duration": 2,
    "start_time": "2022-11-09T05:42:08.139Z"
   },
   {
    "duration": 101528,
    "start_time": "2022-11-09T05:42:09.059Z"
   },
   {
    "duration": 334,
    "start_time": "2022-11-09T05:43:50.588Z"
   },
   {
    "duration": 62,
    "start_time": "2022-11-09T05:43:50.927Z"
   },
   {
    "duration": 103,
    "start_time": "2022-11-09T05:43:50.991Z"
   },
   {
    "duration": 215,
    "start_time": "2022-11-09T05:45:28.220Z"
   },
   {
    "duration": 17,
    "start_time": "2022-11-09T05:46:19.805Z"
   },
   {
    "duration": 4,
    "start_time": "2022-11-09T05:46:55.767Z"
   },
   {
    "duration": 4,
    "start_time": "2022-11-09T05:47:14.634Z"
   },
   {
    "duration": 2,
    "start_time": "2022-11-09T05:48:27.138Z"
   },
   {
    "duration": 3,
    "start_time": "2022-11-09T05:48:36.750Z"
   },
   {
    "duration": 65,
    "start_time": "2022-11-09T05:57:44.766Z"
   },
   {
    "duration": 192,
    "start_time": "2022-11-09T05:57:45.165Z"
   },
   {
    "duration": 5,
    "start_time": "2022-11-09T06:00:53.556Z"
   },
   {
    "duration": 5272453,
    "start_time": "2022-11-09T06:00:56.850Z"
   },
   {
    "duration": 41,
    "start_time": "2022-11-09T07:28:49.307Z"
   },
   {
    "duration": 30,
    "start_time": "2022-11-09T07:28:49.350Z"
   },
   {
    "duration": 22,
    "start_time": "2022-11-09T07:28:49.382Z"
   },
   {
    "duration": 8,
    "start_time": "2022-11-09T07:28:49.405Z"
   },
   {
    "duration": 10,
    "start_time": "2022-11-09T07:28:49.415Z"
   },
   {
    "duration": 12,
    "start_time": "2022-11-09T07:28:49.426Z"
   },
   {
    "duration": 16,
    "start_time": "2022-11-09T07:28:49.440Z"
   },
   {
    "duration": 192,
    "start_time": "2022-11-09T07:28:49.457Z"
   },
   {
    "duration": 187,
    "start_time": "2022-11-09T07:28:49.651Z"
   },
   {
    "duration": 13,
    "start_time": "2022-11-09T07:28:49.839Z"
   },
   {
    "duration": 0,
    "start_time": "2022-11-09T07:28:49.854Z"
   },
   {
    "duration": 0,
    "start_time": "2022-11-09T07:28:49.855Z"
   },
   {
    "duration": 0,
    "start_time": "2022-11-09T07:28:49.856Z"
   },
   {
    "duration": 0,
    "start_time": "2022-11-09T07:28:49.857Z"
   },
   {
    "duration": 0,
    "start_time": "2022-11-09T07:28:49.858Z"
   },
   {
    "duration": 0,
    "start_time": "2022-11-09T07:28:49.859Z"
   },
   {
    "duration": 0,
    "start_time": "2022-11-09T07:28:49.860Z"
   },
   {
    "duration": 0,
    "start_time": "2022-11-09T07:28:49.861Z"
   },
   {
    "duration": 3,
    "start_time": "2022-11-09T08:24:47.888Z"
   },
   {
    "duration": 220,
    "start_time": "2022-11-09T08:24:48.208Z"
   },
   {
    "duration": 6,
    "start_time": "2022-11-09T08:24:49.008Z"
   },
   {
    "duration": 75,
    "start_time": "2022-11-09T08:37:15.941Z"
   },
   {
    "duration": 5,
    "start_time": "2022-11-09T08:38:35.815Z"
   },
   {
    "duration": 64049,
    "start_time": "2022-11-09T08:38:38.880Z"
   },
   {
    "duration": 5,
    "start_time": "2022-11-09T08:40:18.434Z"
   },
   {
    "duration": 2973514,
    "start_time": "2022-11-09T08:40:19.897Z"
   },
   {
    "duration": 14,
    "start_time": "2022-11-09T09:29:53.413Z"
   },
   {
    "duration": 1,
    "start_time": "2022-11-09T09:29:53.428Z"
   },
   {
    "duration": 7,
    "start_time": "2022-11-09T09:30:07.617Z"
   },
   {
    "duration": 384594,
    "start_time": "2022-11-09T09:30:11.796Z"
   },
   {
    "duration": 15,
    "start_time": "2022-11-09T09:36:47.005Z"
   },
   {
    "duration": 4,
    "start_time": "2022-11-09T09:36:47.693Z"
   },
   {
    "duration": 6,
    "start_time": "2022-11-09T09:36:48.389Z"
   },
   {
    "duration": 9,
    "start_time": "2022-11-09T09:36:49.211Z"
   },
   {
    "duration": 13,
    "start_time": "2022-11-09T09:36:50.461Z"
   },
   {
    "duration": 180,
    "start_time": "2022-11-09T09:36:51.580Z"
   },
   {
    "duration": 14,
    "start_time": "2022-11-09T09:37:22.921Z"
   },
   {
    "duration": 214,
    "start_time": "2022-11-09T09:37:34.512Z"
   },
   {
    "duration": 6,
    "start_time": "2022-11-09T09:37:35.087Z"
   },
   {
    "duration": 2,
    "start_time": "2022-11-09T09:37:41.359Z"
   },
   {
    "duration": 388830,
    "start_time": "2022-11-09T09:37:42.655Z"
   },
   {
    "duration": 324,
    "start_time": "2022-11-09T09:44:11.491Z"
   },
   {
    "duration": 71,
    "start_time": "2022-11-09T09:44:11.817Z"
   },
   {
    "duration": 97,
    "start_time": "2022-11-09T09:44:11.890Z"
   },
   {
    "duration": 89,
    "start_time": "2022-11-09T10:09:44.546Z"
   },
   {
    "duration": 301,
    "start_time": "2022-11-09T10:11:37.920Z"
   },
   {
    "duration": 10,
    "start_time": "2022-11-09T10:18:42.238Z"
   },
   {
    "duration": 211,
    "start_time": "2022-11-09T10:21:01.442Z"
   },
   {
    "duration": 9530,
    "start_time": "2022-11-09T10:26:43.523Z"
   },
   {
    "duration": 716,
    "start_time": "2022-11-09T10:27:04.263Z"
   },
   {
    "duration": 56,
    "start_time": "2022-11-09T10:27:06.496Z"
   },
   {
    "duration": 3,
    "start_time": "2022-11-09T10:27:09.953Z"
   },
   {
    "duration": 294,
    "start_time": "2022-11-09T10:27:10.673Z"
   },
   {
    "duration": 14,
    "start_time": "2022-11-09T10:27:14.880Z"
   },
   {
    "duration": 5,
    "start_time": "2022-11-09T10:27:15.201Z"
   },
   {
    "duration": 2,
    "start_time": "2022-11-09T10:27:17.233Z"
   },
   {
    "duration": 9,
    "start_time": "2022-11-09T10:27:18.240Z"
   },
   {
    "duration": 5,
    "start_time": "2022-11-09T10:27:22.258Z"
   },
   {
    "duration": 567,
    "start_time": "2022-11-09T10:27:24.794Z"
   },
   {
    "duration": 61,
    "start_time": "2022-11-09T10:27:44.238Z"
   },
   {
    "duration": 26,
    "start_time": "2022-11-09T10:27:45.622Z"
   },
   {
    "duration": 5,
    "start_time": "2022-11-09T10:28:05.565Z"
   },
   {
    "duration": 1672,
    "start_time": "2022-11-09T10:28:06.335Z"
   },
   {
    "duration": 2115,
    "start_time": "2022-11-09T10:28:08.010Z"
   },
   {
    "duration": 1689,
    "start_time": "2022-11-09T10:29:03.979Z"
   },
   {
    "duration": 256,
    "start_time": "2022-11-09T10:38:24.364Z"
   },
   {
    "duration": 32,
    "start_time": "2022-11-09T10:38:52.683Z"
   },
   {
    "duration": 27,
    "start_time": "2022-11-09T10:40:26.946Z"
   },
   {
    "duration": 6,
    "start_time": "2022-11-09T10:40:53.938Z"
   },
   {
    "duration": 1160,
    "start_time": "2022-11-09T10:41:26.786Z"
   },
   {
    "duration": 6,
    "start_time": "2022-11-09T10:41:48.256Z"
   },
   {
    "duration": 28,
    "start_time": "2022-11-09T10:44:07.133Z"
   },
   {
    "duration": 23,
    "start_time": "2022-11-09T10:44:38.307Z"
   },
   {
    "duration": 5,
    "start_time": "2022-11-09T10:44:59.985Z"
   },
   {
    "duration": 1221,
    "start_time": "2022-11-09T10:45:13.631Z"
   },
   {
    "duration": 4,
    "start_time": "2022-11-09T10:45:39.107Z"
   },
   {
    "duration": 7146,
    "start_time": "2022-11-09T10:46:37.925Z"
   },
   {
    "duration": 683,
    "start_time": "2022-11-09T10:46:45.074Z"
   },
   {
    "duration": 55,
    "start_time": "2022-11-09T10:46:45.759Z"
   },
   {
    "duration": 4,
    "start_time": "2022-11-09T10:46:50.212Z"
   },
   {
    "duration": 255,
    "start_time": "2022-11-09T10:46:51.341Z"
   },
   {
    "duration": 14,
    "start_time": "2022-11-09T10:46:53.322Z"
   },
   {
    "duration": 7,
    "start_time": "2022-11-09T10:46:54.331Z"
   },
   {
    "duration": 2,
    "start_time": "2022-11-09T10:46:56.123Z"
   },
   {
    "duration": 9,
    "start_time": "2022-11-09T10:47:03.603Z"
   },
   {
    "duration": 5,
    "start_time": "2022-11-09T10:47:05.586Z"
   },
   {
    "duration": 208,
    "start_time": "2022-11-09T10:47:10.169Z"
   },
   {
    "duration": 62,
    "start_time": "2022-11-09T10:47:11.922Z"
   },
   {
    "duration": 28,
    "start_time": "2022-11-09T10:47:16.147Z"
   },
   {
    "duration": 4,
    "start_time": "2022-11-09T10:48:06.890Z"
   },
   {
    "duration": 1730,
    "start_time": "2022-11-09T10:48:11.780Z"
   },
   {
    "duration": 1640,
    "start_time": "2022-11-09T10:48:43.107Z"
   },
   {
    "duration": 1775,
    "start_time": "2022-11-09T10:48:56.139Z"
   },
   {
    "duration": 540,
    "start_time": "2022-11-09T10:49:32.330Z"
   },
   {
    "duration": 6,
    "start_time": "2022-11-09T10:49:33.655Z"
   },
   {
    "duration": 10,
    "start_time": "2022-11-09T10:49:49.125Z"
   },
   {
    "duration": 1344,
    "start_time": "2022-11-09T10:49:51.935Z"
   },
   {
    "duration": 1413,
    "start_time": "2022-11-09T10:51:18.986Z"
   },
   {
    "duration": 8,
    "start_time": "2022-11-09T10:53:32.018Z"
   },
   {
    "duration": 4,
    "start_time": "2022-11-09T10:53:43.775Z"
   },
   {
    "duration": 8,
    "start_time": "2022-11-09T10:53:45.080Z"
   },
   {
    "duration": 308,
    "start_time": "2022-11-09T10:53:54.186Z"
   },
   {
    "duration": 3,
    "start_time": "2022-11-09T10:55:31.724Z"
   },
   {
    "duration": 2,
    "start_time": "2022-11-09T10:55:32.654Z"
   },
   {
    "duration": 8,
    "start_time": "2022-11-09T10:55:33.693Z"
   },
   {
    "duration": 31,
    "start_time": "2022-11-09T10:55:37.596Z"
   },
   {
    "duration": 6,
    "start_time": "2022-11-09T10:55:38.979Z"
   },
   {
    "duration": 32,
    "start_time": "2022-11-09T10:57:25.494Z"
   },
   {
    "duration": 6,
    "start_time": "2022-11-09T10:57:47.325Z"
   },
   {
    "duration": 4101948,
    "start_time": "2022-11-09T10:57:47.661Z"
   },
   {
    "duration": 22,
    "start_time": "2022-11-09T12:06:09.611Z"
   },
   {
    "duration": 0,
    "start_time": "2022-11-09T12:06:09.635Z"
   },
   {
    "duration": 0,
    "start_time": "2022-11-09T12:06:09.636Z"
   },
   {
    "duration": 0,
    "start_time": "2022-11-09T12:06:09.638Z"
   },
   {
    "duration": 0,
    "start_time": "2022-11-09T12:06:09.639Z"
   },
   {
    "duration": 0,
    "start_time": "2022-11-09T12:06:09.641Z"
   },
   {
    "duration": 0,
    "start_time": "2022-11-09T12:06:09.642Z"
   },
   {
    "duration": 0,
    "start_time": "2022-11-09T12:06:09.644Z"
   },
   {
    "duration": 0,
    "start_time": "2022-11-09T12:06:09.646Z"
   },
   {
    "duration": 0,
    "start_time": "2022-11-09T12:06:09.646Z"
   },
   {
    "duration": 0,
    "start_time": "2022-11-09T12:06:09.648Z"
   },
   {
    "duration": 0,
    "start_time": "2022-11-09T12:06:09.650Z"
   },
   {
    "duration": 0,
    "start_time": "2022-11-09T12:06:09.651Z"
   },
   {
    "duration": 0,
    "start_time": "2022-11-09T12:06:09.653Z"
   },
   {
    "duration": 0,
    "start_time": "2022-11-09T12:06:09.655Z"
   },
   {
    "duration": 0,
    "start_time": "2022-11-09T12:06:09.656Z"
   },
   {
    "duration": 7,
    "start_time": "2022-11-09T12:06:13.626Z"
   },
   {
    "duration": 7,
    "start_time": "2022-11-09T12:06:29.906Z"
   },
   {
    "duration": 2554494,
    "start_time": "2022-11-09T12:06:32.392Z"
   },
   {
    "duration": 37,
    "start_time": "2022-11-09T12:49:06.888Z"
   },
   {
    "duration": 11,
    "start_time": "2022-11-09T12:49:06.927Z"
   },
   {
    "duration": 10,
    "start_time": "2022-11-09T12:49:06.940Z"
   },
   {
    "duration": 13,
    "start_time": "2022-11-09T12:49:06.952Z"
   },
   {
    "duration": 35,
    "start_time": "2022-11-09T12:49:06.967Z"
   },
   {
    "duration": 254,
    "start_time": "2022-11-09T12:49:07.004Z"
   },
   {
    "duration": 399,
    "start_time": "2022-11-09T12:49:07.260Z"
   },
   {
    "duration": 3,
    "start_time": "2022-11-09T12:49:07.660Z"
   },
   {
    "duration": 287,
    "start_time": "2022-11-09T12:49:07.666Z"
   },
   {
    "duration": 6,
    "start_time": "2022-11-09T12:49:07.955Z"
   },
   {
    "duration": 7,
    "start_time": "2022-11-09T12:49:07.962Z"
   },
   {
    "duration": 9687,
    "start_time": "2022-11-09T13:05:27.795Z"
   },
   {
    "duration": 773,
    "start_time": "2022-11-09T13:05:37.488Z"
   },
   {
    "duration": 56,
    "start_time": "2022-11-09T13:05:38.263Z"
   },
   {
    "duration": 3,
    "start_time": "2022-11-09T13:05:38.321Z"
   },
   {
    "duration": 286,
    "start_time": "2022-11-09T13:05:38.325Z"
   },
   {
    "duration": 15,
    "start_time": "2022-11-09T13:05:38.613Z"
   },
   {
    "duration": 5,
    "start_time": "2022-11-09T13:05:38.630Z"
   },
   {
    "duration": 83793,
    "start_time": "2022-11-09T13:05:38.637Z"
   },
   {
    "duration": 10,
    "start_time": "2022-11-09T13:07:02.432Z"
   },
   {
    "duration": 19,
    "start_time": "2022-11-09T13:07:02.445Z"
   },
   {
    "duration": 717,
    "start_time": "2022-11-09T13:07:02.486Z"
   },
   {
    "duration": 60,
    "start_time": "2022-11-09T13:07:03.205Z"
   },
   {
    "duration": 45,
    "start_time": "2022-11-09T13:07:03.266Z"
   },
   {
    "duration": 24,
    "start_time": "2022-11-09T13:07:03.313Z"
   },
   {
    "duration": 1687,
    "start_time": "2022-11-09T13:07:03.339Z"
   },
   {
    "duration": 1963,
    "start_time": "2022-11-09T13:07:05.028Z"
   },
   {
    "duration": 1980,
    "start_time": "2022-11-09T13:07:06.994Z"
   },
   {
    "duration": 911,
    "start_time": "2022-11-09T13:07:08.977Z"
   },
   {
    "duration": 7,
    "start_time": "2022-11-09T13:07:09.890Z"
   },
   {
    "duration": 24,
    "start_time": "2022-11-09T13:07:09.899Z"
   },
   {
    "duration": 1440,
    "start_time": "2022-11-09T13:07:09.925Z"
   },
   {
    "duration": 19,
    "start_time": "2022-11-09T13:07:11.368Z"
   },
   {
    "duration": 9,
    "start_time": "2022-11-09T13:07:11.389Z"
   },
   {
    "duration": 18,
    "start_time": "2022-11-09T13:07:11.399Z"
   },
   {
    "duration": 537,
    "start_time": "2022-11-09T13:07:11.419Z"
   },
   {
    "duration": 4,
    "start_time": "2022-11-09T13:07:11.958Z"
   },
   {
    "duration": 25,
    "start_time": "2022-11-09T13:07:11.964Z"
   },
   {
    "duration": 18,
    "start_time": "2022-11-09T13:07:11.994Z"
   },
   {
    "duration": 44,
    "start_time": "2022-11-09T13:07:12.013Z"
   },
   {
    "duration": 13,
    "start_time": "2022-11-09T13:07:12.062Z"
   },
   {
    "duration": 25632,
    "start_time": "2022-11-09T13:07:12.076Z"
   },
   {
    "duration": 22,
    "start_time": "2022-11-09T13:07:37.710Z"
   },
   {
    "duration": 0,
    "start_time": "2022-11-09T13:07:37.735Z"
   },
   {
    "duration": 0,
    "start_time": "2022-11-09T13:07:37.736Z"
   },
   {
    "duration": 0,
    "start_time": "2022-11-09T13:07:37.738Z"
   },
   {
    "duration": 0,
    "start_time": "2022-11-09T13:07:37.740Z"
   },
   {
    "duration": 0,
    "start_time": "2022-11-09T13:07:37.742Z"
   },
   {
    "duration": 0,
    "start_time": "2022-11-09T13:07:37.744Z"
   },
   {
    "duration": 0,
    "start_time": "2022-11-09T13:07:37.745Z"
   },
   {
    "duration": 0,
    "start_time": "2022-11-09T13:07:37.747Z"
   },
   {
    "duration": 0,
    "start_time": "2022-11-09T13:07:37.750Z"
   },
   {
    "duration": 0,
    "start_time": "2022-11-09T13:07:37.751Z"
   },
   {
    "duration": 0,
    "start_time": "2022-11-09T13:07:37.753Z"
   },
   {
    "duration": 0,
    "start_time": "2022-11-09T13:07:37.787Z"
   },
   {
    "duration": 0,
    "start_time": "2022-11-09T13:07:37.789Z"
   },
   {
    "duration": 0,
    "start_time": "2022-11-09T13:07:37.791Z"
   },
   {
    "duration": 0,
    "start_time": "2022-11-09T13:07:37.793Z"
   },
   {
    "duration": 9,
    "start_time": "2022-11-09T13:19:57.485Z"
   },
   {
    "duration": 24887,
    "start_time": "2022-11-09T13:19:57.755Z"
   },
   {
    "duration": 15,
    "start_time": "2022-11-09T13:20:22.644Z"
   },
   {
    "duration": 0,
    "start_time": "2022-11-09T13:20:22.660Z"
   },
   {
    "duration": 0,
    "start_time": "2022-11-09T13:20:22.662Z"
   },
   {
    "duration": 0,
    "start_time": "2022-11-09T13:20:22.663Z"
   },
   {
    "duration": 0,
    "start_time": "2022-11-09T13:20:22.664Z"
   },
   {
    "duration": 0,
    "start_time": "2022-11-09T13:20:22.668Z"
   },
   {
    "duration": 0,
    "start_time": "2022-11-09T13:20:22.670Z"
   },
   {
    "duration": 0,
    "start_time": "2022-11-09T13:20:22.671Z"
   },
   {
    "duration": 0,
    "start_time": "2022-11-09T13:20:22.672Z"
   },
   {
    "duration": 0,
    "start_time": "2022-11-09T13:20:22.674Z"
   },
   {
    "duration": 0,
    "start_time": "2022-11-09T13:20:22.675Z"
   },
   {
    "duration": 0,
    "start_time": "2022-11-09T13:20:22.675Z"
   },
   {
    "duration": 0,
    "start_time": "2022-11-09T13:20:22.677Z"
   },
   {
    "duration": 0,
    "start_time": "2022-11-09T13:20:22.678Z"
   },
   {
    "duration": 0,
    "start_time": "2022-11-09T13:20:22.680Z"
   },
   {
    "duration": 0,
    "start_time": "2022-11-09T13:20:22.681Z"
   },
   {
    "duration": 7,
    "start_time": "2022-11-09T13:40:46.118Z"
   },
   {
    "duration": 24330,
    "start_time": "2022-11-09T13:40:46.921Z"
   },
   {
    "duration": 1665,
    "start_time": "2022-11-09T15:52:34.266Z"
   },
   {
    "duration": 4135,
    "start_time": "2022-11-09T15:52:43.968Z"
   },
   {
    "duration": 2269,
    "start_time": "2022-11-09T15:53:10.526Z"
   },
   {
    "duration": 2896,
    "start_time": "2022-11-09T15:58:37.355Z"
   },
   {
    "duration": 38,
    "start_time": "2022-11-09T15:58:40.253Z"
   },
   {
    "duration": 3,
    "start_time": "2022-11-09T15:58:46.978Z"
   },
   {
    "duration": 249,
    "start_time": "2022-11-09T15:58:47.800Z"
   },
   {
    "duration": 16,
    "start_time": "2022-11-09T15:58:51.543Z"
   },
   {
    "duration": 6,
    "start_time": "2022-11-09T15:58:52.605Z"
   },
   {
    "duration": 76587,
    "start_time": "2022-11-09T15:58:56.314Z"
   },
   {
    "duration": 8,
    "start_time": "2022-11-09T16:01:08.310Z"
   },
   {
    "duration": 5,
    "start_time": "2022-11-09T16:01:09.550Z"
   },
   {
    "duration": 555,
    "start_time": "2022-11-09T16:01:11.733Z"
   },
   {
    "duration": 65,
    "start_time": "2022-11-09T16:01:12.291Z"
   },
   {
    "duration": 26,
    "start_time": "2022-11-09T16:01:13.132Z"
   },
   {
    "duration": 4,
    "start_time": "2022-11-09T16:01:14.791Z"
   },
   {
    "duration": 1607,
    "start_time": "2022-11-09T16:01:15.028Z"
   },
   {
    "duration": 1924,
    "start_time": "2022-11-09T16:01:16.639Z"
   },
   {
    "duration": 1815,
    "start_time": "2022-11-09T16:01:18.565Z"
   },
   {
    "duration": 4,
    "start_time": "2022-11-09T16:03:24.755Z"
   },
   {
    "duration": 1633,
    "start_time": "2022-11-09T16:03:26.437Z"
   },
   {
    "duration": 1613,
    "start_time": "2022-11-09T16:03:39.530Z"
   },
   {
    "duration": 1922,
    "start_time": "2022-11-09T16:03:41.145Z"
   },
   {
    "duration": 13,
    "start_time": "2022-11-09T16:10:19.219Z"
   },
   {
    "duration": 65,
    "start_time": "2022-11-09T16:11:36.993Z"
   },
   {
    "duration": 68,
    "start_time": "2022-11-09T16:11:41.829Z"
   },
   {
    "duration": 167,
    "start_time": "2022-11-09T16:11:55.647Z"
   },
   {
    "duration": 213,
    "start_time": "2022-11-09T16:12:07.747Z"
   },
   {
    "duration": 317,
    "start_time": "2022-11-09T16:12:15.628Z"
   },
   {
    "duration": 311,
    "start_time": "2022-11-09T16:12:24.458Z"
   },
   {
    "duration": 4,
    "start_time": "2022-11-09T16:12:50.245Z"
   },
   {
    "duration": 291,
    "start_time": "2022-11-09T16:12:51.932Z"
   },
   {
    "duration": 289,
    "start_time": "2022-11-09T16:12:53.586Z"
   },
   {
    "duration": 292,
    "start_time": "2022-11-09T16:12:54.792Z"
   },
   {
    "duration": 3,
    "start_time": "2022-11-09T16:15:11.299Z"
   },
   {
    "duration": 197,
    "start_time": "2022-11-09T16:15:11.973Z"
   },
   {
    "duration": 4,
    "start_time": "2022-11-09T16:15:45.736Z"
   },
   {
    "duration": 189,
    "start_time": "2022-11-09T16:15:48.150Z"
   },
   {
    "duration": 4,
    "start_time": "2022-11-09T16:16:26.452Z"
   },
   {
    "duration": 190,
    "start_time": "2022-11-09T16:16:27.806Z"
   },
   {
    "duration": 4,
    "start_time": "2022-11-09T16:17:22.196Z"
   },
   {
    "duration": 211,
    "start_time": "2022-11-09T16:17:22.710Z"
   },
   {
    "duration": 4,
    "start_time": "2022-11-09T16:17:37.542Z"
   },
   {
    "duration": 203,
    "start_time": "2022-11-09T16:17:39.032Z"
   },
   {
    "duration": 3,
    "start_time": "2022-11-09T16:17:49.297Z"
   },
   {
    "duration": 190,
    "start_time": "2022-11-09T16:17:51.026Z"
   },
   {
    "duration": 4,
    "start_time": "2022-11-09T16:17:55.806Z"
   },
   {
    "duration": 298,
    "start_time": "2022-11-09T16:17:56.426Z"
   },
   {
    "duration": 315,
    "start_time": "2022-11-09T16:17:56.951Z"
   },
   {
    "duration": 311,
    "start_time": "2022-11-09T16:17:57.502Z"
   },
   {
    "duration": 4,
    "start_time": "2022-11-09T16:18:31.579Z"
   },
   {
    "duration": 416,
    "start_time": "2022-11-09T16:18:32.143Z"
   },
   {
    "duration": 356,
    "start_time": "2022-11-09T16:18:32.606Z"
   },
   {
    "duration": 339,
    "start_time": "2022-11-09T16:18:33.215Z"
   },
   {
    "duration": 4,
    "start_time": "2022-11-09T16:18:50.409Z"
   },
   {
    "duration": 196,
    "start_time": "2022-11-09T16:18:50.752Z"
   },
   {
    "duration": 3,
    "start_time": "2022-11-09T16:19:00.797Z"
   },
   {
    "duration": 3,
    "start_time": "2022-11-09T16:19:01.538Z"
   },
   {
    "duration": 2254,
    "start_time": "2022-11-09T16:19:04.375Z"
   },
   {
    "duration": 345,
    "start_time": "2022-11-09T16:19:06.631Z"
   },
   {
    "duration": 361,
    "start_time": "2022-11-09T16:19:06.979Z"
   },
   {
    "duration": 4,
    "start_time": "2022-11-09T16:19:14.448Z"
   },
   {
    "duration": 313,
    "start_time": "2022-11-09T16:19:14.628Z"
   },
   {
    "duration": 319,
    "start_time": "2022-11-09T16:19:14.943Z"
   },
   {
    "duration": 354,
    "start_time": "2022-11-09T16:19:15.264Z"
   },
   {
    "duration": 4,
    "start_time": "2022-11-09T16:21:46.653Z"
   },
   {
    "duration": 502,
    "start_time": "2022-11-09T16:21:46.925Z"
   },
   {
    "duration": 521,
    "start_time": "2022-11-09T16:21:47.429Z"
   },
   {
    "duration": 491,
    "start_time": "2022-11-09T16:21:47.952Z"
   },
   {
    "duration": 4,
    "start_time": "2022-11-09T16:22:24.622Z"
   },
   {
    "duration": 4,
    "start_time": "2022-11-09T16:22:37.471Z"
   },
   {
    "duration": 263,
    "start_time": "2022-11-09T16:22:37.700Z"
   },
   {
    "duration": 5,
    "start_time": "2022-11-09T16:22:46.314Z"
   },
   {
    "duration": 245,
    "start_time": "2022-11-09T16:22:47.012Z"
   },
   {
    "duration": 4,
    "start_time": "2022-11-09T16:23:40.960Z"
   },
   {
    "duration": 460,
    "start_time": "2022-11-09T16:23:41.398Z"
   },
   {
    "duration": 4,
    "start_time": "2022-11-09T16:23:51.600Z"
   },
   {
    "duration": 508,
    "start_time": "2022-11-09T16:23:52.595Z"
   },
   {
    "duration": 5,
    "start_time": "2022-11-09T16:23:58.150Z"
   },
   {
    "duration": 493,
    "start_time": "2022-11-09T16:23:58.455Z"
   },
   {
    "duration": 4,
    "start_time": "2022-11-09T16:24:06.034Z"
   },
   {
    "duration": 504,
    "start_time": "2022-11-09T16:24:07.550Z"
   },
   {
    "duration": 499,
    "start_time": "2022-11-09T16:24:15.668Z"
   },
   {
    "duration": 518,
    "start_time": "2022-11-09T16:24:16.169Z"
   },
   {
    "duration": 519,
    "start_time": "2022-11-09T16:24:43.217Z"
   },
   {
    "duration": 8,
    "start_time": "2022-11-09T16:24:43.847Z"
   },
   {
    "duration": 530,
    "start_time": "2022-11-09T16:25:13.419Z"
   },
   {
    "duration": 58,
    "start_time": "2022-11-09T16:26:28.239Z"
   },
   {
    "duration": 507,
    "start_time": "2022-11-09T16:26:29.214Z"
   },
   {
    "duration": 13,
    "start_time": "2022-11-09T16:26:51.014Z"
   },
   {
    "duration": 303,
    "start_time": "2022-11-09T16:27:37.328Z"
   },
   {
    "duration": 270,
    "start_time": "2022-11-09T16:28:00.420Z"
   },
   {
    "duration": 23,
    "start_time": "2022-11-09T16:30:15.385Z"
   },
   {
    "duration": 23,
    "start_time": "2022-11-09T16:30:28.271Z"
   },
   {
    "duration": 18,
    "start_time": "2022-11-09T16:30:38.263Z"
   },
   {
    "duration": 25,
    "start_time": "2022-11-09T16:31:06.522Z"
   },
   {
    "duration": 12,
    "start_time": "2022-11-09T16:33:36.268Z"
   },
   {
    "duration": 125,
    "start_time": "2022-11-09T16:35:34.288Z"
   },
   {
    "duration": 100,
    "start_time": "2022-11-09T16:35:45.587Z"
   },
   {
    "duration": 87,
    "start_time": "2022-11-09T16:35:49.179Z"
   },
   {
    "duration": 165,
    "start_time": "2022-11-09T16:35:52.349Z"
   },
   {
    "duration": 156,
    "start_time": "2022-11-09T16:36:20.444Z"
   },
   {
    "duration": 175,
    "start_time": "2022-11-09T16:36:34.982Z"
   },
   {
    "duration": 186,
    "start_time": "2022-11-09T16:36:52.506Z"
   },
   {
    "duration": 390,
    "start_time": "2022-11-09T16:37:48.129Z"
   },
   {
    "duration": 2110,
    "start_time": "2022-11-09T16:38:01.326Z"
   },
   {
    "duration": 461,
    "start_time": "2022-11-09T16:39:13.454Z"
   },
   {
    "duration": 7,
    "start_time": "2022-11-09T16:39:33.062Z"
   },
   {
    "duration": 9,
    "start_time": "2022-11-09T16:39:35.788Z"
   },
   {
    "duration": 1272,
    "start_time": "2022-11-09T16:39:47.975Z"
   },
   {
    "duration": 541,
    "start_time": "2022-11-09T16:41:14.944Z"
   },
   {
    "duration": 628,
    "start_time": "2022-11-09T16:42:35.774Z"
   },
   {
    "duration": 610,
    "start_time": "2022-11-09T16:42:54.232Z"
   },
   {
    "duration": 638,
    "start_time": "2022-11-09T16:43:09.060Z"
   },
   {
    "duration": 8,
    "start_time": "2022-11-09T16:43:19.148Z"
   },
   {
    "duration": 4,
    "start_time": "2022-11-09T16:43:21.579Z"
   },
   {
    "duration": 10,
    "start_time": "2022-11-09T16:43:29.543Z"
   },
   {
    "duration": 4,
    "start_time": "2022-11-09T16:43:48.365Z"
   },
   {
    "duration": 9,
    "start_time": "2022-11-09T16:43:49.615Z"
   },
   {
    "duration": 302,
    "start_time": "2022-11-09T16:43:56.114Z"
   },
   {
    "duration": 3,
    "start_time": "2022-11-09T16:44:53.868Z"
   },
   {
    "duration": 2,
    "start_time": "2022-11-09T16:44:54.893Z"
   },
   {
    "duration": 7,
    "start_time": "2022-11-09T16:44:56.250Z"
   },
   {
    "duration": 23,
    "start_time": "2022-11-09T16:46:41.128Z"
   },
   {
    "duration": 16,
    "start_time": "2022-11-09T16:47:16.557Z"
   },
   {
    "duration": 2704,
    "start_time": "2022-11-09T16:47:17.069Z"
   },
   {
    "duration": 15,
    "start_time": "2022-11-09T16:48:25.078Z"
   },
   {
    "duration": 6,
    "start_time": "2022-11-09T16:48:43.489Z"
   },
   {
    "duration": 2673,
    "start_time": "2022-11-09T16:48:45.155Z"
   },
   {
    "duration": 5,
    "start_time": "2022-11-09T16:49:10.114Z"
   },
   {
    "duration": 2796,
    "start_time": "2022-11-09T16:49:11.573Z"
   },
   {
    "duration": 6,
    "start_time": "2022-11-09T16:50:00.126Z"
   },
   {
    "duration": 51405,
    "start_time": "2022-11-09T16:50:00.500Z"
   },
   {
    "duration": 3,
    "start_time": "2022-11-09T16:50:51.907Z"
   },
   {
    "duration": 4,
    "start_time": "2022-11-09T16:51:07.077Z"
   },
   {
    "duration": 5,
    "start_time": "2022-11-09T16:51:11.311Z"
   },
   {
    "duration": 22716,
    "start_time": "2022-11-09T16:51:11.808Z"
   },
   {
    "duration": 4374,
    "start_time": "2022-11-09T16:52:10.260Z"
   },
   {
    "duration": 2947,
    "start_time": "2022-11-09T16:52:14.637Z"
   },
   {
    "duration": 49,
    "start_time": "2022-11-09T16:52:17.586Z"
   },
   {
    "duration": 4,
    "start_time": "2022-11-09T16:52:17.639Z"
   },
   {
    "duration": 298,
    "start_time": "2022-11-09T16:52:17.645Z"
   },
   {
    "duration": 14,
    "start_time": "2022-11-09T16:52:17.946Z"
   },
   {
    "duration": 20,
    "start_time": "2022-11-09T16:52:17.961Z"
   },
   {
    "duration": 76978,
    "start_time": "2022-11-09T16:52:17.983Z"
   },
   {
    "duration": 10,
    "start_time": "2022-11-09T16:53:34.963Z"
   },
   {
    "duration": 11,
    "start_time": "2022-11-09T16:53:34.975Z"
   },
   {
    "duration": 874,
    "start_time": "2022-11-09T16:53:34.988Z"
   },
   {
    "duration": 72,
    "start_time": "2022-11-09T16:53:35.864Z"
   },
   {
    "duration": 35,
    "start_time": "2022-11-09T16:53:35.937Z"
   },
   {
    "duration": 4,
    "start_time": "2022-11-09T16:53:35.979Z"
   },
   {
    "duration": 545,
    "start_time": "2022-11-09T16:53:35.985Z"
   },
   {
    "duration": 538,
    "start_time": "2022-11-09T16:53:36.532Z"
   },
   {
    "duration": 533,
    "start_time": "2022-11-09T16:53:37.072Z"
   },
   {
    "duration": 460,
    "start_time": "2022-11-09T16:53:37.607Z"
   },
   {
    "duration": 11,
    "start_time": "2022-11-09T16:53:38.069Z"
   },
   {
    "duration": 9,
    "start_time": "2022-11-09T16:53:38.082Z"
   },
   {
    "duration": 631,
    "start_time": "2022-11-09T16:53:38.093Z"
   },
   {
    "duration": 7,
    "start_time": "2022-11-09T16:53:38.726Z"
   },
   {
    "duration": 15,
    "start_time": "2022-11-09T16:53:38.735Z"
   },
   {
    "duration": 20,
    "start_time": "2022-11-09T16:53:38.751Z"
   },
   {
    "duration": 322,
    "start_time": "2022-11-09T16:53:38.779Z"
   },
   {
    "duration": 3,
    "start_time": "2022-11-09T16:53:39.102Z"
   },
   {
    "duration": 15,
    "start_time": "2022-11-09T16:53:39.106Z"
   },
   {
    "duration": 18,
    "start_time": "2022-11-09T16:53:39.125Z"
   },
   {
    "duration": 48,
    "start_time": "2022-11-09T16:53:39.145Z"
   },
   {
    "duration": 7,
    "start_time": "2022-11-09T16:53:39.194Z"
   },
   {
    "duration": 54784,
    "start_time": "2022-11-09T16:53:39.203Z"
   },
   {
    "duration": 12,
    "start_time": "2022-11-09T16:54:33.989Z"
   },
   {
    "duration": 0,
    "start_time": "2022-11-09T16:54:34.002Z"
   },
   {
    "duration": 0,
    "start_time": "2022-11-09T16:54:34.004Z"
   },
   {
    "duration": 0,
    "start_time": "2022-11-09T16:54:34.005Z"
   },
   {
    "duration": 0,
    "start_time": "2022-11-09T16:54:34.006Z"
   },
   {
    "duration": 0,
    "start_time": "2022-11-09T16:54:34.007Z"
   },
   {
    "duration": 0,
    "start_time": "2022-11-09T16:54:34.009Z"
   },
   {
    "duration": 0,
    "start_time": "2022-11-09T16:54:34.010Z"
   },
   {
    "duration": 0,
    "start_time": "2022-11-09T16:54:34.011Z"
   },
   {
    "duration": 0,
    "start_time": "2022-11-09T16:54:34.013Z"
   },
   {
    "duration": 0,
    "start_time": "2022-11-09T16:54:34.013Z"
   },
   {
    "duration": 0,
    "start_time": "2022-11-09T16:54:34.014Z"
   },
   {
    "duration": 0,
    "start_time": "2022-11-09T16:54:34.016Z"
   },
   {
    "duration": 0,
    "start_time": "2022-11-09T16:54:34.017Z"
   },
   {
    "duration": 0,
    "start_time": "2022-11-09T16:54:34.018Z"
   },
   {
    "duration": 0,
    "start_time": "2022-11-09T16:54:34.019Z"
   },
   {
    "duration": 11,
    "start_time": "2022-11-09T16:54:42.911Z"
   },
   {
    "duration": 13,
    "start_time": "2022-11-09T16:54:43.277Z"
   },
   {
    "duration": 12,
    "start_time": "2022-11-09T16:54:43.563Z"
   },
   {
    "duration": 13,
    "start_time": "2022-11-09T16:54:43.790Z"
   },
   {
    "duration": 231,
    "start_time": "2022-11-09T16:54:44.042Z"
   },
   {
    "duration": 0,
    "start_time": "2022-11-09T16:54:44.274Z"
   },
   {
    "duration": 2,
    "start_time": "2022-11-09T16:54:44.674Z"
   },
   {
    "duration": 12,
    "start_time": "2022-11-09T16:54:45.781Z"
   },
   {
    "duration": 12,
    "start_time": "2022-11-09T16:54:46.039Z"
   },
   {
    "duration": 2,
    "start_time": "2022-11-09T16:54:46.645Z"
   },
   {
    "duration": 9879,
    "start_time": "2022-11-09T16:54:47.232Z"
   },
   {
    "duration": 12,
    "start_time": "2022-11-09T16:54:57.113Z"
   },
   {
    "duration": 0,
    "start_time": "2022-11-09T16:54:57.127Z"
   },
   {
    "duration": 0,
    "start_time": "2022-11-09T16:54:57.128Z"
   },
   {
    "duration": 0,
    "start_time": "2022-11-09T16:54:57.130Z"
   },
   {
    "duration": 17841,
    "start_time": "2022-11-09T16:55:55.465Z"
   },
   {
    "duration": 323,
    "start_time": "2022-11-09T16:58:07.475Z"
   },
   {
    "duration": 56,
    "start_time": "2022-11-09T16:59:40.887Z"
   },
   {
    "duration": 39001,
    "start_time": "2022-11-09T17:00:06.863Z"
   },
   {
    "duration": 5,
    "start_time": "2022-11-09T17:01:06.165Z"
   },
   {
    "duration": 168678,
    "start_time": "2022-11-09T17:01:07.511Z"
   },
   {
    "duration": 6,
    "start_time": "2022-11-09T17:04:19.228Z"
   },
   {
    "duration": 477,
    "start_time": "2022-11-09T17:04:20.059Z"
   },
   {
    "duration": 5,
    "start_time": "2022-11-09T17:04:52.047Z"
   },
   {
    "duration": 13526,
    "start_time": "2022-11-09T17:04:52.767Z"
   },
   {
    "duration": 11,
    "start_time": "2022-11-09T17:05:06.295Z"
   },
   {
    "duration": 0,
    "start_time": "2022-11-09T17:05:06.308Z"
   },
   {
    "duration": 42,
    "start_time": "2022-11-09T17:05:38.296Z"
   },
   {
    "duration": 4,
    "start_time": "2022-11-09T17:05:43.756Z"
   },
   {
    "duration": 20759,
    "start_time": "2022-11-09T17:05:48.945Z"
   },
   {
    "duration": 5,
    "start_time": "2022-11-09T17:06:14.578Z"
   },
   {
    "duration": 33573,
    "start_time": "2022-11-09T17:06:14.769Z"
   },
   {
    "duration": 44,
    "start_time": "2022-11-09T17:06:56.080Z"
   },
   {
    "duration": 4,
    "start_time": "2022-11-09T17:07:17.884Z"
   },
   {
    "duration": 14,
    "start_time": "2022-11-09T17:07:18.318Z"
   },
   {
    "duration": 12,
    "start_time": "2022-11-09T17:07:18.917Z"
   },
   {
    "duration": 14,
    "start_time": "2022-11-09T17:07:19.571Z"
   },
   {
    "duration": 228,
    "start_time": "2022-11-09T17:07:20.462Z"
   },
   {
    "duration": 217,
    "start_time": "2022-11-09T17:07:22.833Z"
   },
   {
    "duration": 3,
    "start_time": "2022-11-09T17:07:24.226Z"
   },
   {
    "duration": 9,
    "start_time": "2022-11-09T17:07:24.941Z"
   },
   {
    "duration": 6,
    "start_time": "2022-11-09T17:07:25.451Z"
   },
   {
    "duration": 2,
    "start_time": "2022-11-09T17:07:26.353Z"
   },
   {
    "duration": 20305,
    "start_time": "2022-11-09T17:07:26.791Z"
   },
   {
    "duration": 0,
    "start_time": "2022-11-09T17:16:03.321Z"
   },
   {
    "duration": 0,
    "start_time": "2022-11-09T17:16:03.322Z"
   },
   {
    "duration": 0,
    "start_time": "2022-11-09T17:16:03.323Z"
   },
   {
    "duration": 0,
    "start_time": "2022-11-09T17:16:03.324Z"
   },
   {
    "duration": 0,
    "start_time": "2022-11-09T17:16:03.325Z"
   },
   {
    "duration": 0,
    "start_time": "2022-11-09T17:16:03.326Z"
   },
   {
    "duration": 0,
    "start_time": "2022-11-09T17:16:03.327Z"
   },
   {
    "duration": 0,
    "start_time": "2022-11-09T17:16:03.328Z"
   },
   {
    "duration": 0,
    "start_time": "2022-11-09T17:16:03.329Z"
   },
   {
    "duration": 0,
    "start_time": "2022-11-09T17:16:03.331Z"
   },
   {
    "duration": 0,
    "start_time": "2022-11-09T17:16:03.331Z"
   },
   {
    "duration": 0,
    "start_time": "2022-11-09T17:16:03.333Z"
   },
   {
    "duration": 0,
    "start_time": "2022-11-09T17:16:03.333Z"
   },
   {
    "duration": 0,
    "start_time": "2022-11-09T17:16:03.334Z"
   },
   {
    "duration": 5,
    "start_time": "2022-11-09T17:16:09.443Z"
   },
   {
    "duration": 33393,
    "start_time": "2022-11-09T17:16:10.203Z"
   },
   {
    "duration": 37,
    "start_time": "2022-11-09T17:17:46.221Z"
   },
   {
    "duration": 4,
    "start_time": "2022-11-09T17:17:46.625Z"
   },
   {
    "duration": 13,
    "start_time": "2022-11-09T17:17:51.267Z"
   },
   {
    "duration": 2,
    "start_time": "2022-11-09T17:17:51.697Z"
   },
   {
    "duration": 10,
    "start_time": "2022-11-09T17:17:51.957Z"
   },
   {
    "duration": 6,
    "start_time": "2022-11-09T17:17:52.201Z"
   },
   {
    "duration": 3,
    "start_time": "2022-11-09T17:17:52.671Z"
   },
   {
    "duration": 33480,
    "start_time": "2022-11-09T17:17:52.903Z"
   },
   {
    "duration": 9,
    "start_time": "2022-11-09T17:18:26.386Z"
   },
   {
    "duration": 24,
    "start_time": "2022-11-09T17:18:26.397Z"
   },
   {
    "duration": 0,
    "start_time": "2022-11-09T17:18:26.423Z"
   },
   {
    "duration": 0,
    "start_time": "2022-11-09T17:18:26.424Z"
   },
   {
    "duration": 11,
    "start_time": "2022-11-09T17:19:00.680Z"
   },
   {
    "duration": 12,
    "start_time": "2022-11-09T17:23:44.372Z"
   },
   {
    "duration": 2,
    "start_time": "2022-11-09T17:23:51.418Z"
   },
   {
    "duration": 11,
    "start_time": "2022-11-09T17:23:51.935Z"
   },
   {
    "duration": 8,
    "start_time": "2022-11-09T17:23:53.586Z"
   },
   {
    "duration": 2,
    "start_time": "2022-11-09T17:23:54.396Z"
   },
   {
    "duration": 31454,
    "start_time": "2022-11-09T17:23:54.663Z"
   },
   {
    "duration": 8,
    "start_time": "2022-11-09T17:24:26.119Z"
   },
   {
    "duration": 27,
    "start_time": "2022-11-09T17:24:26.129Z"
   },
   {
    "duration": 4,
    "start_time": "2022-11-09T17:31:40.635Z"
   },
   {
    "duration": 3702,
    "start_time": "2022-11-09T17:32:12.424Z"
   },
   {
    "duration": 834,
    "start_time": "2022-11-09T17:32:16.128Z"
   },
   {
    "duration": 50,
    "start_time": "2022-11-09T17:32:16.964Z"
   },
   {
    "duration": 4,
    "start_time": "2022-11-09T17:32:17.017Z"
   },
   {
    "duration": 282,
    "start_time": "2022-11-09T17:32:17.023Z"
   },
   {
    "duration": 16,
    "start_time": "2022-11-09T17:32:17.307Z"
   },
   {
    "duration": 6,
    "start_time": "2022-11-09T17:32:17.325Z"
   },
   {
    "duration": 78619,
    "start_time": "2022-11-09T17:32:17.334Z"
   },
   {
    "duration": 13,
    "start_time": "2022-11-09T17:33:35.955Z"
   },
   {
    "duration": 5,
    "start_time": "2022-11-09T17:33:35.981Z"
   },
   {
    "duration": 748,
    "start_time": "2022-11-09T17:33:35.987Z"
   },
   {
    "duration": 68,
    "start_time": "2022-11-09T17:33:36.737Z"
   },
   {
    "duration": 30,
    "start_time": "2022-11-09T17:33:36.807Z"
   },
   {
    "duration": 4,
    "start_time": "2022-11-09T17:33:36.839Z"
   },
   {
    "duration": 614,
    "start_time": "2022-11-09T17:33:36.844Z"
   },
   {
    "duration": 541,
    "start_time": "2022-11-09T17:33:37.460Z"
   },
   {
    "duration": 513,
    "start_time": "2022-11-09T17:33:38.002Z"
   },
   {
    "duration": 494,
    "start_time": "2022-11-09T17:33:38.517Z"
   },
   {
    "duration": 7,
    "start_time": "2022-11-09T17:33:39.013Z"
   },
   {
    "duration": 11,
    "start_time": "2022-11-09T17:33:39.022Z"
   },
   {
    "duration": 655,
    "start_time": "2022-11-09T17:33:39.034Z"
   },
   {
    "duration": 7,
    "start_time": "2022-11-09T17:33:39.691Z"
   },
   {
    "duration": 17,
    "start_time": "2022-11-09T17:33:39.700Z"
   },
   {
    "duration": 13,
    "start_time": "2022-11-09T17:33:39.719Z"
   },
   {
    "duration": 306,
    "start_time": "2022-11-09T17:33:39.734Z"
   },
   {
    "duration": 3,
    "start_time": "2022-11-09T17:33:40.042Z"
   },
   {
    "duration": 7,
    "start_time": "2022-11-09T17:33:40.046Z"
   },
   {
    "duration": 9,
    "start_time": "2022-11-09T17:33:40.056Z"
   },
   {
    "duration": 36,
    "start_time": "2022-11-09T17:33:40.066Z"
   },
   {
    "duration": 187,
    "start_time": "2022-11-09T17:33:40.104Z"
   },
   {
    "duration": 0,
    "start_time": "2022-11-09T17:33:40.293Z"
   },
   {
    "duration": 0,
    "start_time": "2022-11-09T17:33:40.294Z"
   },
   {
    "duration": 0,
    "start_time": "2022-11-09T17:33:40.295Z"
   },
   {
    "duration": 0,
    "start_time": "2022-11-09T17:33:40.296Z"
   },
   {
    "duration": 0,
    "start_time": "2022-11-09T17:33:40.297Z"
   },
   {
    "duration": 0,
    "start_time": "2022-11-09T17:33:40.299Z"
   },
   {
    "duration": 0,
    "start_time": "2022-11-09T17:33:40.301Z"
   },
   {
    "duration": 0,
    "start_time": "2022-11-09T17:33:40.302Z"
   },
   {
    "duration": 0,
    "start_time": "2022-11-09T17:33:40.303Z"
   },
   {
    "duration": 0,
    "start_time": "2022-11-09T17:33:40.304Z"
   },
   {
    "duration": 0,
    "start_time": "2022-11-09T17:33:40.306Z"
   },
   {
    "duration": 0,
    "start_time": "2022-11-09T17:33:40.307Z"
   },
   {
    "duration": 0,
    "start_time": "2022-11-09T17:33:40.309Z"
   },
   {
    "duration": 5,
    "start_time": "2022-11-09T17:39:30.270Z"
   },
   {
    "duration": 53354,
    "start_time": "2022-11-09T17:39:33.718Z"
   },
   {
    "duration": 2320,
    "start_time": "2022-11-09T17:40:27.075Z"
   },
   {
    "duration": 8,
    "start_time": "2022-11-09T17:41:22.517Z"
   },
   {
    "duration": 32729,
    "start_time": "2022-11-09T17:41:23.437Z"
   },
   {
    "duration": 41,
    "start_time": "2022-11-09T17:41:56.168Z"
   },
   {
    "duration": 8,
    "start_time": "2022-11-09T17:41:56.211Z"
   },
   {
    "duration": 24,
    "start_time": "2022-11-09T17:41:56.221Z"
   },
   {
    "duration": 3,
    "start_time": "2022-11-09T17:41:56.247Z"
   },
   {
    "duration": 30,
    "start_time": "2022-11-09T17:41:56.252Z"
   },
   {
    "duration": 6,
    "start_time": "2022-11-09T17:41:56.284Z"
   },
   {
    "duration": 6,
    "start_time": "2022-11-09T17:41:56.292Z"
   },
   {
    "duration": 33051,
    "start_time": "2022-11-09T17:41:56.300Z"
   },
   {
    "duration": 9,
    "start_time": "2022-11-09T17:42:29.353Z"
   },
   {
    "duration": 8,
    "start_time": "2022-11-09T17:42:29.363Z"
   },
   {
    "duration": 15,
    "start_time": "2022-11-09T17:42:29.372Z"
   },
   {
    "duration": 10,
    "start_time": "2022-11-09T17:42:29.389Z"
   },
   {
    "duration": 3667,
    "start_time": "2022-11-09T17:44:40.930Z"
   },
   {
    "duration": 784,
    "start_time": "2022-11-09T17:44:44.599Z"
   },
   {
    "duration": 53,
    "start_time": "2022-11-09T17:44:45.385Z"
   },
   {
    "duration": 4,
    "start_time": "2022-11-09T17:44:45.440Z"
   },
   {
    "duration": 272,
    "start_time": "2022-11-09T17:44:45.445Z"
   },
   {
    "duration": 14,
    "start_time": "2022-11-09T17:44:45.719Z"
   },
   {
    "duration": 24,
    "start_time": "2022-11-09T17:44:45.735Z"
   },
   {
    "duration": 80240,
    "start_time": "2022-11-09T17:44:45.761Z"
   },
   {
    "duration": 11,
    "start_time": "2022-11-09T17:46:06.003Z"
   },
   {
    "duration": 21,
    "start_time": "2022-11-09T17:46:06.017Z"
   },
   {
    "duration": 745,
    "start_time": "2022-11-09T17:46:06.040Z"
   },
   {
    "duration": 76,
    "start_time": "2022-11-09T17:46:06.787Z"
   },
   {
    "duration": 45,
    "start_time": "2022-11-09T17:46:06.865Z"
   },
   {
    "duration": 7,
    "start_time": "2022-11-09T17:46:06.912Z"
   },
   {
    "duration": 569,
    "start_time": "2022-11-09T17:46:06.920Z"
   },
   {
    "duration": 534,
    "start_time": "2022-11-09T17:46:07.490Z"
   },
   {
    "duration": 517,
    "start_time": "2022-11-09T17:46:08.026Z"
   },
   {
    "duration": 474,
    "start_time": "2022-11-09T17:46:08.545Z"
   },
   {
    "duration": 7,
    "start_time": "2022-11-09T17:46:09.021Z"
   },
   {
    "duration": 17,
    "start_time": "2022-11-09T17:46:09.030Z"
   },
   {
    "duration": 657,
    "start_time": "2022-11-09T17:46:09.049Z"
   },
   {
    "duration": 7,
    "start_time": "2022-11-09T17:46:09.707Z"
   },
   {
    "duration": 19,
    "start_time": "2022-11-09T17:46:09.715Z"
   },
   {
    "duration": 18,
    "start_time": "2022-11-09T17:46:09.736Z"
   },
   {
    "duration": 310,
    "start_time": "2022-11-09T17:46:09.756Z"
   },
   {
    "duration": 3,
    "start_time": "2022-11-09T17:46:10.067Z"
   },
   {
    "duration": 23,
    "start_time": "2022-11-09T17:46:10.079Z"
   },
   {
    "duration": 17,
    "start_time": "2022-11-09T17:46:10.106Z"
   },
   {
    "duration": 28,
    "start_time": "2022-11-09T17:46:10.124Z"
   },
   {
    "duration": 5,
    "start_time": "2022-11-09T17:46:10.154Z"
   },
   {
    "duration": 344773,
    "start_time": "2022-11-09T17:46:10.160Z"
   },
   {
    "duration": 52,
    "start_time": "2022-11-09T17:51:54.935Z"
   },
   {
    "duration": 6,
    "start_time": "2022-11-09T17:51:54.989Z"
   },
   {
    "duration": 19,
    "start_time": "2022-11-09T17:51:54.997Z"
   },
   {
    "duration": 12,
    "start_time": "2022-11-09T17:51:55.018Z"
   },
   {
    "duration": 38,
    "start_time": "2022-11-09T17:51:55.032Z"
   },
   {
    "duration": 20,
    "start_time": "2022-11-09T17:51:55.071Z"
   },
   {
    "duration": 12,
    "start_time": "2022-11-09T17:51:55.093Z"
   },
   {
    "duration": 347209,
    "start_time": "2022-11-09T17:51:55.107Z"
   },
   {
    "duration": 11,
    "start_time": "2022-11-09T17:57:42.318Z"
   },
   {
    "duration": 16,
    "start_time": "2022-11-09T17:57:42.330Z"
   },
   {
    "duration": 37,
    "start_time": "2022-11-09T17:57:42.348Z"
   },
   {
    "duration": 21,
    "start_time": "2022-11-09T17:57:42.387Z"
   },
   {
    "duration": 21,
    "start_time": "2022-11-09T18:04:14.315Z"
   },
   {
    "duration": 3747,
    "start_time": "2022-11-09T18:05:34.352Z"
   },
   {
    "duration": 821,
    "start_time": "2022-11-09T18:05:38.101Z"
   },
   {
    "duration": 40,
    "start_time": "2022-11-09T18:05:38.924Z"
   },
   {
    "duration": 15,
    "start_time": "2022-11-09T18:05:38.966Z"
   },
   {
    "duration": 256,
    "start_time": "2022-11-09T18:05:38.983Z"
   },
   {
    "duration": 13,
    "start_time": "2022-11-09T18:05:39.241Z"
   },
   {
    "duration": 10,
    "start_time": "2022-11-09T18:05:39.256Z"
   },
   {
    "duration": 76782,
    "start_time": "2022-11-09T18:05:39.267Z"
   },
   {
    "duration": 12,
    "start_time": "2022-11-09T18:06:56.052Z"
   },
   {
    "duration": 5,
    "start_time": "2022-11-09T18:06:56.080Z"
   },
   {
    "duration": 671,
    "start_time": "2022-11-09T18:06:56.086Z"
   },
   {
    "duration": 73,
    "start_time": "2022-11-09T18:06:56.759Z"
   },
   {
    "duration": 28,
    "start_time": "2022-11-09T18:06:56.833Z"
   },
   {
    "duration": 4,
    "start_time": "2022-11-09T18:06:56.863Z"
   },
   {
    "duration": 534,
    "start_time": "2022-11-09T18:06:56.880Z"
   },
   {
    "duration": 491,
    "start_time": "2022-11-09T18:06:57.416Z"
   },
   {
    "duration": 497,
    "start_time": "2022-11-09T18:06:57.909Z"
   },
   {
    "duration": 447,
    "start_time": "2022-11-09T18:06:58.408Z"
   },
   {
    "duration": 6,
    "start_time": "2022-11-09T18:06:58.857Z"
   },
   {
    "duration": 20,
    "start_time": "2022-11-09T18:06:58.865Z"
   },
   {
    "duration": 594,
    "start_time": "2022-11-09T18:06:58.886Z"
   },
   {
    "duration": 6,
    "start_time": "2022-11-09T18:06:59.482Z"
   },
   {
    "duration": 8,
    "start_time": "2022-11-09T18:06:59.490Z"
   },
   {
    "duration": 13,
    "start_time": "2022-11-09T18:06:59.500Z"
   },
   {
    "duration": 311,
    "start_time": "2022-11-09T18:06:59.514Z"
   },
   {
    "duration": 3,
    "start_time": "2022-11-09T18:06:59.827Z"
   },
   {
    "duration": 9,
    "start_time": "2022-11-09T18:06:59.831Z"
   },
   {
    "duration": 8,
    "start_time": "2022-11-09T18:06:59.843Z"
   },
   {
    "duration": 41,
    "start_time": "2022-11-09T18:06:59.853Z"
   },
   {
    "duration": 5,
    "start_time": "2022-11-09T18:06:59.896Z"
   },
   {
    "duration": 343230,
    "start_time": "2022-11-09T18:06:59.902Z"
   },
   {
    "duration": 26,
    "start_time": "2022-11-09T18:12:43.134Z"
   },
   {
    "duration": 30,
    "start_time": "2022-11-09T18:12:43.161Z"
   },
   {
    "duration": 25,
    "start_time": "2022-11-09T18:12:43.193Z"
   },
   {
    "duration": 3,
    "start_time": "2022-11-09T18:12:43.219Z"
   },
   {
    "duration": 26,
    "start_time": "2022-11-09T18:12:43.223Z"
   },
   {
    "duration": 10,
    "start_time": "2022-11-09T18:12:43.250Z"
   },
   {
    "duration": 9,
    "start_time": "2022-11-09T18:12:43.263Z"
   },
   {
    "duration": 343042,
    "start_time": "2022-11-09T18:12:43.273Z"
   },
   {
    "duration": 11,
    "start_time": "2022-11-09T18:18:26.316Z"
   },
   {
    "duration": 11,
    "start_time": "2022-11-09T18:18:26.329Z"
   },
   {
    "duration": 28,
    "start_time": "2022-11-09T18:18:26.342Z"
   },
   {
    "duration": 9,
    "start_time": "2022-11-09T18:18:26.372Z"
   },
   {
    "duration": 81,
    "start_time": "2022-11-10T16:14:14.954Z"
   },
   {
    "duration": 6456,
    "start_time": "2022-11-10T16:15:24.792Z"
   },
   {
    "duration": 2030,
    "start_time": "2022-11-10T16:15:31.251Z"
   },
   {
    "duration": 44,
    "start_time": "2022-11-10T16:15:33.283Z"
   },
   {
    "duration": 11,
    "start_time": "2022-11-10T16:15:33.328Z"
   },
   {
    "duration": 283,
    "start_time": "2022-11-10T16:15:33.343Z"
   },
   {
    "duration": 19,
    "start_time": "2022-11-10T16:15:33.628Z"
   },
   {
    "duration": 5,
    "start_time": "2022-11-10T16:15:33.650Z"
   },
   {
    "duration": 86509,
    "start_time": "2022-11-10T16:15:33.657Z"
   },
   {
    "duration": 11,
    "start_time": "2022-11-10T16:17:00.169Z"
   },
   {
    "duration": 55,
    "start_time": "2022-11-10T16:17:00.183Z"
   },
   {
    "duration": 788,
    "start_time": "2022-11-10T16:17:00.241Z"
   },
   {
    "duration": 70,
    "start_time": "2022-11-10T16:17:01.038Z"
   },
   {
    "duration": 49,
    "start_time": "2022-11-10T16:17:01.110Z"
   },
   {
    "duration": 5,
    "start_time": "2022-11-10T16:17:14.157Z"
   },
   {
    "duration": 746,
    "start_time": "2022-11-10T16:17:15.816Z"
   },
   {
    "duration": 683,
    "start_time": "2022-11-10T16:17:16.622Z"
   },
   {
    "duration": 747,
    "start_time": "2022-11-10T16:17:17.846Z"
   },
   {
    "duration": 712,
    "start_time": "2022-11-10T16:20:15.549Z"
   },
   {
    "duration": 72,
    "start_time": "2022-11-10T16:23:45.974Z"
   },
   {
    "duration": 8,
    "start_time": "2022-11-10T16:27:25.807Z"
   },
   {
    "duration": 9,
    "start_time": "2022-11-10T17:04:37.602Z"
   },
   {
    "duration": 14,
    "start_time": "2022-11-10T17:06:17.414Z"
   },
   {
    "duration": 7,
    "start_time": "2022-11-10T17:06:18.077Z"
   },
   {
    "duration": 763,
    "start_time": "2022-11-10T17:06:26.027Z"
   },
   {
    "duration": 730,
    "start_time": "2022-11-10T17:06:43.359Z"
   },
   {
    "duration": 13,
    "start_time": "2022-11-10T17:07:32.827Z"
   },
   {
    "duration": 2911,
    "start_time": "2022-11-10T17:07:35.405Z"
   },
   {
    "duration": 9,
    "start_time": "2022-11-10T17:10:12.370Z"
   },
   {
    "duration": 221,
    "start_time": "2022-11-10T17:10:36.867Z"
   },
   {
    "duration": 22,
    "start_time": "2022-11-10T17:13:49.839Z"
   },
   {
    "duration": 2497,
    "start_time": "2022-11-10T17:14:10.707Z"
   },
   {
    "duration": 774,
    "start_time": "2022-11-10T17:14:13.208Z"
   },
   {
    "duration": 63,
    "start_time": "2022-11-10T17:14:13.985Z"
   },
   {
    "duration": 4,
    "start_time": "2022-11-10T17:14:14.050Z"
   },
   {
    "duration": 307,
    "start_time": "2022-11-10T17:14:14.056Z"
   },
   {
    "duration": 16,
    "start_time": "2022-11-10T17:14:14.365Z"
   },
   {
    "duration": 5,
    "start_time": "2022-11-10T17:14:14.383Z"
   },
   {
    "duration": 87635,
    "start_time": "2022-11-10T17:14:14.391Z"
   },
   {
    "duration": 22,
    "start_time": "2022-11-10T17:15:42.028Z"
   },
   {
    "duration": 9,
    "start_time": "2022-11-10T17:15:42.051Z"
   },
   {
    "duration": 422,
    "start_time": "2022-11-10T17:15:42.062Z"
   },
   {
    "duration": 84,
    "start_time": "2022-11-10T17:15:42.486Z"
   },
   {
    "duration": 32,
    "start_time": "2022-11-10T17:15:42.572Z"
   },
   {
    "duration": 5,
    "start_time": "2022-11-10T17:15:42.607Z"
   },
   {
    "duration": 728,
    "start_time": "2022-11-10T17:15:42.638Z"
   },
   {
    "duration": 701,
    "start_time": "2022-11-10T17:15:43.367Z"
   },
   {
    "duration": 711,
    "start_time": "2022-11-10T17:15:44.070Z"
   },
   {
    "duration": 518,
    "start_time": "2022-11-10T17:15:44.783Z"
   },
   {
    "duration": 7,
    "start_time": "2022-11-10T17:15:45.302Z"
   },
   {
    "duration": 29,
    "start_time": "2022-11-10T17:15:45.311Z"
   },
   {
    "duration": 709,
    "start_time": "2022-11-10T17:15:45.342Z"
   },
   {
    "duration": 9,
    "start_time": "2022-11-10T17:15:46.052Z"
   },
   {
    "duration": 4,
    "start_time": "2022-11-10T17:15:46.063Z"
   },
   {
    "duration": 14,
    "start_time": "2022-11-10T17:15:46.068Z"
   },
   {
    "duration": 347,
    "start_time": "2022-11-10T17:15:46.084Z"
   },
   {
    "duration": 4,
    "start_time": "2022-11-10T17:15:46.437Z"
   },
   {
    "duration": 24,
    "start_time": "2022-11-10T17:15:46.443Z"
   },
   {
    "duration": 26,
    "start_time": "2022-11-10T17:15:46.469Z"
   },
   {
    "duration": 41,
    "start_time": "2022-11-10T17:15:46.497Z"
   },
   {
    "duration": 12,
    "start_time": "2022-11-10T17:15:46.541Z"
   },
   {
    "duration": 403223,
    "start_time": "2022-11-10T17:15:46.555Z"
   },
   {
    "duration": 24,
    "start_time": "2022-11-10T17:22:29.780Z"
   },
   {
    "duration": 13,
    "start_time": "2022-11-10T17:22:29.807Z"
   },
   {
    "duration": 31,
    "start_time": "2022-11-10T17:22:29.823Z"
   },
   {
    "duration": 3,
    "start_time": "2022-11-10T17:22:29.857Z"
   },
   {
    "duration": 26,
    "start_time": "2022-11-10T17:22:29.863Z"
   },
   {
    "duration": 13,
    "start_time": "2022-11-10T17:22:29.892Z"
   },
   {
    "duration": 3,
    "start_time": "2022-11-10T17:22:29.907Z"
   },
   {
    "duration": 398647,
    "start_time": "2022-11-10T17:22:29.912Z"
   },
   {
    "duration": 12,
    "start_time": "2022-11-10T17:29:08.561Z"
   },
   {
    "duration": 5,
    "start_time": "2022-11-10T17:29:08.577Z"
   },
   {
    "duration": 10,
    "start_time": "2022-11-10T17:29:08.584Z"
   },
   {
    "duration": 5,
    "start_time": "2022-11-10T17:29:08.596Z"
   },
   {
    "duration": 16,
    "start_time": "2022-11-10T17:38:06.151Z"
   },
   {
    "duration": 28,
    "start_time": "2022-11-10T17:38:37.167Z"
   },
   {
    "duration": 9,
    "start_time": "2022-11-10T17:38:49.636Z"
   },
   {
    "duration": 5,
    "start_time": "2022-11-10T17:38:53.501Z"
   },
   {
    "duration": 2636,
    "start_time": "2022-11-10T17:39:07.793Z"
   },
   {
    "duration": 2608,
    "start_time": "2022-11-10T17:40:35.003Z"
   },
   {
    "duration": 11,
    "start_time": "2022-11-10T17:41:33.508Z"
   },
   {
    "duration": 4,
    "start_time": "2022-11-10T17:41:48.639Z"
   },
   {
    "duration": 8,
    "start_time": "2022-11-10T17:41:56.899Z"
   },
   {
    "duration": 10,
    "start_time": "2022-11-10T17:49:10.969Z"
   },
   {
    "duration": 15,
    "start_time": "2022-11-10T17:52:31.003Z"
   },
   {
    "duration": 4,
    "start_time": "2022-11-10T17:56:42.296Z"
   },
   {
    "duration": 4229,
    "start_time": "2022-11-10T18:03:39.703Z"
   },
   {
    "duration": 917,
    "start_time": "2022-11-10T18:03:43.937Z"
   },
   {
    "duration": 46,
    "start_time": "2022-11-10T18:03:44.856Z"
   },
   {
    "duration": 4,
    "start_time": "2022-11-10T18:03:44.905Z"
   },
   {
    "duration": 287,
    "start_time": "2022-11-10T18:03:44.937Z"
   },
   {
    "duration": 22,
    "start_time": "2022-11-10T18:03:45.226Z"
   },
   {
    "duration": 7,
    "start_time": "2022-11-10T18:03:45.249Z"
   },
   {
    "duration": 89477,
    "start_time": "2022-11-10T18:03:45.257Z"
   },
   {
    "duration": 14,
    "start_time": "2022-11-10T18:05:14.737Z"
   },
   {
    "duration": 13,
    "start_time": "2022-11-10T18:05:14.755Z"
   },
   {
    "duration": 1036,
    "start_time": "2022-11-10T18:05:14.771Z"
   },
   {
    "duration": 117,
    "start_time": "2022-11-10T18:05:15.810Z"
   },
   {
    "duration": 37,
    "start_time": "2022-11-10T18:05:15.939Z"
   },
   {
    "duration": 10,
    "start_time": "2022-11-10T18:05:15.979Z"
   },
   {
    "duration": 1188,
    "start_time": "2022-11-10T18:05:15.995Z"
   },
   {
    "duration": 831,
    "start_time": "2022-11-10T18:05:17.186Z"
   },
   {
    "duration": 1076,
    "start_time": "2022-11-10T18:05:18.020Z"
   },
   {
    "duration": 815,
    "start_time": "2022-11-10T18:05:19.099Z"
   },
   {
    "duration": 8,
    "start_time": "2022-11-10T18:05:19.917Z"
   },
   {
    "duration": 15,
    "start_time": "2022-11-10T18:05:19.938Z"
   },
   {
    "duration": 763,
    "start_time": "2022-11-10T18:05:19.955Z"
   },
   {
    "duration": 16,
    "start_time": "2022-11-10T18:05:20.721Z"
   },
   {
    "duration": 5,
    "start_time": "2022-11-10T18:05:20.740Z"
   },
   {
    "duration": 17,
    "start_time": "2022-11-10T18:05:20.747Z"
   },
   {
    "duration": 516,
    "start_time": "2022-11-10T18:05:20.766Z"
   },
   {
    "duration": 5,
    "start_time": "2022-11-10T18:05:21.283Z"
   },
   {
    "duration": 7,
    "start_time": "2022-11-10T18:05:21.290Z"
   },
   {
    "duration": 10,
    "start_time": "2022-11-10T18:05:21.302Z"
   },
   {
    "duration": 332,
    "start_time": "2022-11-10T18:05:21.315Z"
   },
   {
    "duration": 0,
    "start_time": "2022-11-10T18:05:21.650Z"
   },
   {
    "duration": 0,
    "start_time": "2022-11-10T18:05:21.651Z"
   },
   {
    "duration": 0,
    "start_time": "2022-11-10T18:05:21.652Z"
   },
   {
    "duration": 0,
    "start_time": "2022-11-10T18:05:21.654Z"
   },
   {
    "duration": 0,
    "start_time": "2022-11-10T18:05:21.655Z"
   },
   {
    "duration": 0,
    "start_time": "2022-11-10T18:05:21.657Z"
   },
   {
    "duration": 0,
    "start_time": "2022-11-10T18:05:21.658Z"
   },
   {
    "duration": 0,
    "start_time": "2022-11-10T18:05:21.660Z"
   },
   {
    "duration": 0,
    "start_time": "2022-11-10T18:05:21.661Z"
   },
   {
    "duration": 0,
    "start_time": "2022-11-10T18:05:21.662Z"
   },
   {
    "duration": 0,
    "start_time": "2022-11-10T18:05:21.664Z"
   },
   {
    "duration": 0,
    "start_time": "2022-11-10T18:05:21.665Z"
   },
   {
    "duration": 0,
    "start_time": "2022-11-10T18:05:21.666Z"
   },
   {
    "duration": 0,
    "start_time": "2022-11-10T18:05:21.667Z"
   },
   {
    "duration": 0,
    "start_time": "2022-11-10T18:05:21.669Z"
   },
   {
    "duration": 0,
    "start_time": "2022-11-10T18:05:21.670Z"
   },
   {
    "duration": 35,
    "start_time": "2022-11-10T18:13:07.033Z"
   },
   {
    "duration": 7,
    "start_time": "2022-11-10T18:13:09.481Z"
   },
   {
    "duration": 464122,
    "start_time": "2022-11-10T18:13:15.435Z"
   },
   {
    "duration": 26,
    "start_time": "2022-11-10T18:20:59.560Z"
   },
   {
    "duration": 5,
    "start_time": "2022-11-10T18:20:59.589Z"
   },
   {
    "duration": 18,
    "start_time": "2022-11-10T18:20:59.597Z"
   },
   {
    "duration": 2,
    "start_time": "2022-11-10T18:20:59.637Z"
   },
   {
    "duration": 32,
    "start_time": "2022-11-10T18:20:59.641Z"
   },
   {
    "duration": 6,
    "start_time": "2022-11-10T18:20:59.675Z"
   },
   {
    "duration": 4,
    "start_time": "2022-11-10T18:20:59.683Z"
   },
   {
    "duration": 447384,
    "start_time": "2022-11-10T18:20:59.689Z"
   },
   {
    "duration": 16,
    "start_time": "2022-11-10T18:28:27.076Z"
   },
   {
    "duration": 7,
    "start_time": "2022-11-10T18:28:27.094Z"
   },
   {
    "duration": 13,
    "start_time": "2022-11-10T18:28:27.103Z"
   },
   {
    "duration": 6,
    "start_time": "2022-11-10T18:28:27.118Z"
   },
   {
    "duration": 21,
    "start_time": "2022-11-10T18:28:27.126Z"
   },
   {
    "duration": 16,
    "start_time": "2022-11-10T18:28:27.148Z"
   },
   {
    "duration": 6236,
    "start_time": "2022-11-11T23:00:38.390Z"
   },
   {
    "duration": 3376,
    "start_time": "2022-11-11T23:00:44.628Z"
   },
   {
    "duration": 47,
    "start_time": "2022-11-11T23:00:48.006Z"
   },
   {
    "duration": 4,
    "start_time": "2022-11-11T23:00:48.056Z"
   },
   {
    "duration": 261,
    "start_time": "2022-11-11T23:00:48.062Z"
   },
   {
    "duration": 19,
    "start_time": "2022-11-11T23:00:48.325Z"
   },
   {
    "duration": 7,
    "start_time": "2022-11-11T23:00:48.346Z"
   },
   {
    "duration": 80295,
    "start_time": "2022-11-11T23:00:48.354Z"
   },
   {
    "duration": 15,
    "start_time": "2022-11-11T23:02:08.651Z"
   },
   {
    "duration": 6,
    "start_time": "2022-11-11T23:02:08.669Z"
   },
   {
    "duration": 743,
    "start_time": "2022-11-11T23:02:08.677Z"
   },
   {
    "duration": 72,
    "start_time": "2022-11-11T23:02:09.422Z"
   },
   {
    "duration": 40,
    "start_time": "2022-11-11T23:02:09.496Z"
   },
   {
    "duration": 4,
    "start_time": "2022-11-11T23:02:09.537Z"
   },
   {
    "duration": 673,
    "start_time": "2022-11-11T23:02:09.542Z"
   },
   {
    "duration": 739,
    "start_time": "2022-11-11T23:02:10.217Z"
   },
   {
    "duration": 700,
    "start_time": "2022-11-11T23:02:10.958Z"
   },
   {
    "duration": 481,
    "start_time": "2022-11-11T23:02:11.660Z"
   },
   {
    "duration": 7,
    "start_time": "2022-11-11T23:02:12.144Z"
   },
   {
    "duration": 12,
    "start_time": "2022-11-11T23:02:12.153Z"
   },
   {
    "duration": 674,
    "start_time": "2022-11-11T23:04:44.235Z"
   },
   {
    "duration": 2648,
    "start_time": "2022-11-11T23:06:30.829Z"
   },
   {
    "duration": 654,
    "start_time": "2022-11-11T23:17:01.223Z"
   },
   {
    "duration": 6,
    "start_time": "2022-11-11T23:34:04.439Z"
   },
   {
    "duration": 5,
    "start_time": "2022-11-11T23:35:02.482Z"
   },
   {
    "duration": 183,
    "start_time": "2022-11-11T23:35:09.212Z"
   },
   {
    "duration": 4,
    "start_time": "2022-11-11T23:35:27.908Z"
   },
   {
    "duration": 23,
    "start_time": "2022-11-11T23:35:35.395Z"
   },
   {
    "duration": 12,
    "start_time": "2022-11-11T23:39:07.463Z"
   },
   {
    "duration": 31,
    "start_time": "2022-11-11T23:39:27.199Z"
   },
   {
    "duration": 30,
    "start_time": "2022-11-11T23:39:47.800Z"
   },
   {
    "duration": 30,
    "start_time": "2022-11-11T23:39:53.928Z"
   },
   {
    "duration": 39,
    "start_time": "2022-11-11T23:40:01.544Z"
   },
   {
    "duration": 34,
    "start_time": "2022-11-11T23:41:47.553Z"
   },
   {
    "duration": 5,
    "start_time": "2022-11-11T23:43:12.228Z"
   },
   {
    "duration": 5,
    "start_time": "2022-11-11T23:43:12.838Z"
   },
   {
    "duration": 5,
    "start_time": "2022-11-11T23:43:26.928Z"
   },
   {
    "duration": 16,
    "start_time": "2022-11-11T23:43:42.723Z"
   },
   {
    "duration": 25,
    "start_time": "2022-11-11T23:43:48.561Z"
   },
   {
    "duration": 5,
    "start_time": "2022-11-11T23:43:48.613Z"
   },
   {
    "duration": 4,
    "start_time": "2022-11-11T23:44:18.999Z"
   },
   {
    "duration": 4,
    "start_time": "2022-11-11T23:44:20.007Z"
   },
   {
    "duration": 23,
    "start_time": "2022-11-11T23:44:20.556Z"
   },
   {
    "duration": 6,
    "start_time": "2022-11-11T23:44:26.786Z"
   },
   {
    "duration": 658,
    "start_time": "2022-11-11T23:44:55.412Z"
   },
   {
    "duration": 3,
    "start_time": "2022-11-11T23:45:19.013Z"
   },
   {
    "duration": 3,
    "start_time": "2022-11-11T23:45:19.551Z"
   },
   {
    "duration": 41,
    "start_time": "2022-11-11T23:45:20.139Z"
   },
   {
    "duration": 4,
    "start_time": "2022-11-11T23:45:28.921Z"
   },
   {
    "duration": 4,
    "start_time": "2022-11-11T23:48:03.402Z"
   },
   {
    "duration": 29,
    "start_time": "2022-11-11T23:48:04.766Z"
   },
   {
    "duration": 4,
    "start_time": "2022-11-11T23:48:05.764Z"
   },
   {
    "duration": 38,
    "start_time": "2022-11-11T23:48:12.000Z"
   },
   {
    "duration": 46,
    "start_time": "2022-11-11T23:48:20.927Z"
   },
   {
    "duration": 4,
    "start_time": "2022-11-11T23:48:22.205Z"
   },
   {
    "duration": 7,
    "start_time": "2022-11-11T23:48:24.160Z"
   },
   {
    "duration": 724,
    "start_time": "2022-11-11T23:49:24.088Z"
   },
   {
    "duration": 13,
    "start_time": "2022-11-11T23:49:37.616Z"
   },
   {
    "duration": 4,
    "start_time": "2022-11-11T23:49:37.661Z"
   },
   {
    "duration": 672,
    "start_time": "2022-11-11T23:49:52.580Z"
   },
   {
    "duration": 7,
    "start_time": "2022-11-11T23:51:25.898Z"
   },
   {
    "duration": 5,
    "start_time": "2022-11-11T23:51:31.546Z"
   },
   {
    "duration": 4,
    "start_time": "2022-11-11T23:51:38.357Z"
   },
   {
    "duration": 5,
    "start_time": "2022-11-11T23:51:45.550Z"
   },
   {
    "duration": 2236,
    "start_time": "2022-11-11T23:52:20.087Z"
   },
   {
    "duration": 752,
    "start_time": "2022-11-11T23:52:22.325Z"
   },
   {
    "duration": 42,
    "start_time": "2022-11-11T23:52:23.079Z"
   },
   {
    "duration": 10,
    "start_time": "2022-11-11T23:52:23.123Z"
   },
   {
    "duration": 270,
    "start_time": "2022-11-11T23:52:23.135Z"
   },
   {
    "duration": 14,
    "start_time": "2022-11-11T23:52:23.407Z"
   },
   {
    "duration": 14,
    "start_time": "2022-11-11T23:52:23.423Z"
   },
   {
    "duration": 78659,
    "start_time": "2022-11-11T23:52:23.438Z"
   },
   {
    "duration": 35,
    "start_time": "2022-11-11T23:53:42.100Z"
   },
   {
    "duration": 6,
    "start_time": "2022-11-11T23:53:42.139Z"
   },
   {
    "duration": 386,
    "start_time": "2022-11-11T23:53:42.147Z"
   },
   {
    "duration": 85,
    "start_time": "2022-11-11T23:53:42.534Z"
   },
   {
    "duration": 53,
    "start_time": "2022-11-11T23:53:42.634Z"
   },
   {
    "duration": 4,
    "start_time": "2022-11-11T23:53:42.689Z"
   },
   {
    "duration": 732,
    "start_time": "2022-11-11T23:53:42.695Z"
   },
   {
    "duration": 675,
    "start_time": "2022-11-11T23:53:43.433Z"
   },
   {
    "duration": 5594,
    "start_time": "2022-11-11T23:53:44.110Z"
   },
   {
    "duration": 480,
    "start_time": "2022-11-11T23:53:49.706Z"
   },
   {
    "duration": 6,
    "start_time": "2022-11-11T23:53:50.188Z"
   },
   {
    "duration": 12,
    "start_time": "2022-11-11T23:53:50.196Z"
   },
   {
    "duration": 684,
    "start_time": "2022-11-11T23:53:50.210Z"
   },
   {
    "duration": 5,
    "start_time": "2022-11-11T23:53:50.896Z"
   },
   {
    "duration": 40,
    "start_time": "2022-11-11T23:53:50.903Z"
   },
   {
    "duration": 5,
    "start_time": "2022-11-11T23:53:50.945Z"
   },
   {
    "duration": 16,
    "start_time": "2022-11-11T23:53:50.952Z"
   },
   {
    "duration": 6,
    "start_time": "2022-11-11T23:55:04.514Z"
   },
   {
    "duration": 9,
    "start_time": "2022-11-11T23:55:54.461Z"
   },
   {
    "duration": 10,
    "start_time": "2022-11-11T23:56:13.541Z"
   },
   {
    "duration": 4,
    "start_time": "2022-11-12T00:04:12.792Z"
   },
   {
    "duration": 28,
    "start_time": "2022-11-12T00:04:13.667Z"
   },
   {
    "duration": 3,
    "start_time": "2022-11-12T00:04:14.135Z"
   },
   {
    "duration": 3956,
    "start_time": "2022-11-12T00:04:36.736Z"
   },
   {
    "duration": 883,
    "start_time": "2022-11-12T00:04:40.695Z"
   },
   {
    "duration": 38,
    "start_time": "2022-11-12T00:04:41.579Z"
   },
   {
    "duration": 186,
    "start_time": "2022-11-12T00:04:41.619Z"
   },
   {
    "duration": 260,
    "start_time": "2022-11-12T00:04:41.807Z"
   },
   {
    "duration": 19,
    "start_time": "2022-11-12T00:04:42.069Z"
   },
   {
    "duration": 6,
    "start_time": "2022-11-12T00:04:42.090Z"
   },
   {
    "duration": 77543,
    "start_time": "2022-11-12T00:04:42.097Z"
   },
   {
    "duration": 8,
    "start_time": "2022-11-12T00:05:59.642Z"
   },
   {
    "duration": 5,
    "start_time": "2022-11-12T00:05:59.655Z"
   },
   {
    "duration": 710,
    "start_time": "2022-11-12T00:05:59.661Z"
   },
   {
    "duration": 78,
    "start_time": "2022-11-12T00:06:00.373Z"
   },
   {
    "duration": 45,
    "start_time": "2022-11-12T00:06:00.452Z"
   },
   {
    "duration": 12,
    "start_time": "2022-11-12T00:06:00.498Z"
   },
   {
    "duration": 707,
    "start_time": "2022-11-12T00:06:00.512Z"
   },
   {
    "duration": 662,
    "start_time": "2022-11-12T00:06:01.221Z"
   },
   {
    "duration": 636,
    "start_time": "2022-11-12T00:06:01.885Z"
   },
   {
    "duration": 464,
    "start_time": "2022-11-12T00:06:02.523Z"
   },
   {
    "duration": 6,
    "start_time": "2022-11-12T00:06:02.989Z"
   },
   {
    "duration": 10,
    "start_time": "2022-11-12T00:06:02.997Z"
   },
   {
    "duration": 634,
    "start_time": "2022-11-12T00:06:03.008Z"
   },
   {
    "duration": 4,
    "start_time": "2022-11-12T00:06:03.643Z"
   },
   {
    "duration": 40,
    "start_time": "2022-11-12T00:06:03.649Z"
   },
   {
    "duration": 4,
    "start_time": "2022-11-12T00:06:03.690Z"
   },
   {
    "duration": 25,
    "start_time": "2022-11-12T00:06:03.695Z"
   },
   {
    "duration": 13,
    "start_time": "2022-11-12T00:06:03.722Z"
   },
   {
    "duration": 13,
    "start_time": "2022-11-12T00:06:03.736Z"
   },
   {
    "duration": 24,
    "start_time": "2022-11-12T00:06:03.752Z"
   },
   {
    "duration": 13,
    "start_time": "2022-11-12T00:06:03.778Z"
   },
   {
    "duration": 289,
    "start_time": "2022-11-12T00:06:03.793Z"
   },
   {
    "duration": 2,
    "start_time": "2022-11-12T00:06:04.084Z"
   },
   {
    "duration": 5,
    "start_time": "2022-11-12T00:06:04.088Z"
   },
   {
    "duration": 18,
    "start_time": "2022-11-12T00:06:04.095Z"
   },
   {
    "duration": 28,
    "start_time": "2022-11-12T00:06:04.115Z"
   },
   {
    "duration": 6,
    "start_time": "2022-11-12T00:06:04.144Z"
   },
   {
    "duration": 340408,
    "start_time": "2022-11-12T00:06:04.152Z"
   },
   {
    "duration": 21,
    "start_time": "2022-11-12T00:11:44.561Z"
   },
   {
    "duration": 14,
    "start_time": "2022-11-12T00:11:44.584Z"
   },
   {
    "duration": 16,
    "start_time": "2022-11-12T00:11:44.599Z"
   },
   {
    "duration": 3,
    "start_time": "2022-11-12T00:11:44.617Z"
   },
   {
    "duration": 17,
    "start_time": "2022-11-12T00:11:44.621Z"
   },
   {
    "duration": 5,
    "start_time": "2022-11-12T00:11:44.640Z"
   },
   {
    "duration": 5,
    "start_time": "2022-11-12T00:11:44.647Z"
   },
   {
    "duration": 346314,
    "start_time": "2022-11-12T00:11:44.654Z"
   },
   {
    "duration": 11,
    "start_time": "2022-11-12T00:17:30.971Z"
   },
   {
    "duration": 31,
    "start_time": "2022-11-12T00:17:30.983Z"
   },
   {
    "duration": 39,
    "start_time": "2022-11-12T00:17:31.016Z"
   },
   {
    "duration": 38,
    "start_time": "2022-11-12T00:17:31.056Z"
   },
   {
    "duration": 30,
    "start_time": "2022-11-12T00:17:31.096Z"
   },
   {
    "duration": 21,
    "start_time": "2022-11-12T00:17:31.128Z"
   },
   {
    "duration": 13,
    "start_time": "2022-11-12T00:22:41.467Z"
   },
   {
    "duration": 3619,
    "start_time": "2022-11-12T00:25:11.844Z"
   },
   {
    "duration": 817,
    "start_time": "2022-11-12T00:25:15.465Z"
   },
   {
    "duration": 56,
    "start_time": "2022-11-12T00:25:16.284Z"
   },
   {
    "duration": 4,
    "start_time": "2022-11-12T00:25:16.342Z"
   },
   {
    "duration": 263,
    "start_time": "2022-11-12T00:25:16.348Z"
   },
   {
    "duration": 19,
    "start_time": "2022-11-12T00:25:16.613Z"
   },
   {
    "duration": 5,
    "start_time": "2022-11-12T00:25:16.634Z"
   },
   {
    "duration": 75388,
    "start_time": "2022-11-12T00:25:16.641Z"
   },
   {
    "duration": 13,
    "start_time": "2022-11-12T00:26:32.032Z"
   },
   {
    "duration": 4,
    "start_time": "2022-11-12T00:26:32.048Z"
   },
   {
    "duration": 722,
    "start_time": "2022-11-12T00:26:32.054Z"
   },
   {
    "duration": 66,
    "start_time": "2022-11-12T00:26:32.778Z"
   },
   {
    "duration": 26,
    "start_time": "2022-11-12T00:26:32.846Z"
   },
   {
    "duration": 4,
    "start_time": "2022-11-12T00:26:32.873Z"
   },
   {
    "duration": 625,
    "start_time": "2022-11-12T00:26:32.879Z"
   },
   {
    "duration": 605,
    "start_time": "2022-11-12T00:26:33.505Z"
   },
   {
    "duration": 614,
    "start_time": "2022-11-12T00:26:34.112Z"
   },
   {
    "duration": 433,
    "start_time": "2022-11-12T00:26:34.728Z"
   },
   {
    "duration": 5,
    "start_time": "2022-11-12T00:26:35.163Z"
   },
   {
    "duration": 9,
    "start_time": "2022-11-12T00:26:35.170Z"
   },
   {
    "duration": 642,
    "start_time": "2022-11-12T00:26:35.181Z"
   },
   {
    "duration": 9,
    "start_time": "2022-11-12T00:26:35.824Z"
   },
   {
    "duration": 31,
    "start_time": "2022-11-12T00:26:35.835Z"
   },
   {
    "duration": 3,
    "start_time": "2022-11-12T00:26:35.868Z"
   },
   {
    "duration": 19,
    "start_time": "2022-11-12T00:26:35.873Z"
   },
   {
    "duration": 10,
    "start_time": "2022-11-12T00:26:35.894Z"
   },
   {
    "duration": 28,
    "start_time": "2022-11-12T00:26:35.906Z"
   },
   {
    "duration": 296,
    "start_time": "2022-11-12T00:26:35.938Z"
   },
   {
    "duration": 4,
    "start_time": "2022-11-12T00:26:36.235Z"
   },
   {
    "duration": 6,
    "start_time": "2022-11-12T00:26:36.240Z"
   },
   {
    "duration": 25,
    "start_time": "2022-11-12T00:26:36.248Z"
   },
   {
    "duration": 32,
    "start_time": "2022-11-12T00:26:36.275Z"
   },
   {
    "duration": 6,
    "start_time": "2022-11-12T00:26:36.309Z"
   },
   {
    "duration": 333518,
    "start_time": "2022-11-12T00:26:36.335Z"
   },
   {
    "duration": 22,
    "start_time": "2022-11-12T00:32:09.855Z"
   },
   {
    "duration": 53,
    "start_time": "2022-11-12T00:32:09.879Z"
   },
   {
    "duration": 56,
    "start_time": "2022-11-12T00:32:09.934Z"
   },
   {
    "duration": 3,
    "start_time": "2022-11-12T00:32:09.991Z"
   },
   {
    "duration": 14,
    "start_time": "2022-11-12T00:32:09.995Z"
   },
   {
    "duration": 6,
    "start_time": "2022-11-12T00:32:10.011Z"
   },
   {
    "duration": 5,
    "start_time": "2022-11-12T00:32:10.019Z"
   },
   {
    "duration": 343833,
    "start_time": "2022-11-12T00:32:10.025Z"
   },
   {
    "duration": 11,
    "start_time": "2022-11-12T00:37:53.860Z"
   },
   {
    "duration": 19,
    "start_time": "2022-11-12T00:37:53.873Z"
   },
   {
    "duration": 25,
    "start_time": "2022-11-12T00:37:53.894Z"
   },
   {
    "duration": 16,
    "start_time": "2022-11-12T00:37:53.921Z"
   },
   {
    "duration": 22,
    "start_time": "2022-11-12T00:37:53.939Z"
   },
   {
    "duration": 6,
    "start_time": "2022-11-12T00:37:53.962Z"
   }
  ],
  "kernelspec": {
   "display_name": "base",
   "language": "python",
   "name": "python3"
  },
  "language_info": {
   "codemirror_mode": {
    "name": "ipython",
    "version": 3
   },
   "file_extension": ".py",
   "mimetype": "text/x-python",
   "name": "python",
   "nbconvert_exporter": "python",
   "pygments_lexer": "ipython3",
   "version": "3.9.7"
  },
  "toc": {
   "base_numbering": 1,
   "nav_menu": {},
   "number_sections": true,
   "sideBar": true,
   "skip_h1_title": true,
   "title_cell": "Содержание",
   "title_sidebar": "Contents",
   "toc_cell": true,
   "toc_position": {
    "height": "calc(100% - 180px)",
    "left": "10px",
    "top": "150px",
    "width": "165px"
   },
   "toc_section_display": true,
   "toc_window_display": true
  },
  "vscode": {
   "interpreter": {
    "hash": "81e3369a13e6471412a57d2570915ba3492cc341681bebeadc2b51bfac30fac2"
   }
  }
 },
 "nbformat": 4,
 "nbformat_minor": 2
}
